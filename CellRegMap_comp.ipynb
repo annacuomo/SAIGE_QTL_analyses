{
 "cells": [
  {
   "cell_type": "code",
   "execution_count": 3,
   "id": "e9ef2e74",
   "metadata": {},
   "outputs": [],
   "source": [
    "import pandas as pd\n",
    "import time\n",
    "from cellregmap import run_association_fast"
   ]
  },
  {
   "cell_type": "code",
   "execution_count": 1,
   "id": "9b159feb",
   "metadata": {},
   "outputs": [],
   "source": [
    "input_file = '/directflow/SCCGGroupShare/projects/anncuo/OneK1K/saige_eqtl/cellregmap_comparison/RPL23A.cis.chr17.input.txt'"
   ]
  },
  {
   "cell_type": "code",
   "execution_count": 4,
   "id": "3c5782b5",
   "metadata": {},
   "outputs": [
    {
     "data": {
      "text/html": [
       "<div>\n",
       "<style scoped>\n",
       "    .dataframe tbody tr th:only-of-type {\n",
       "        vertical-align: middle;\n",
       "    }\n",
       "\n",
       "    .dataframe tbody tr th {\n",
       "        vertical-align: top;\n",
       "    }\n",
       "\n",
       "    .dataframe thead th {\n",
       "        text-align: right;\n",
       "    }\n",
       "</style>\n",
       "<table border=\"1\" class=\"dataframe\">\n",
       "  <thead>\n",
       "    <tr style=\"text-align: right;\">\n",
       "      <th></th>\n",
       "      <th>individual</th>\n",
       "      <th>age</th>\n",
       "      <th>sex</th>\n",
       "      <th>pc1</th>\n",
       "      <th>pc2</th>\n",
       "      <th>pc3</th>\n",
       "      <th>pc4</th>\n",
       "      <th>pc5</th>\n",
       "      <th>pc6</th>\n",
       "      <th>pf1</th>\n",
       "      <th>...</th>\n",
       "      <th>G2010</th>\n",
       "      <th>G2011</th>\n",
       "      <th>G2012</th>\n",
       "      <th>G2013</th>\n",
       "      <th>G2014</th>\n",
       "      <th>G2015</th>\n",
       "      <th>G2016</th>\n",
       "      <th>G2017</th>\n",
       "      <th>G2018</th>\n",
       "      <th>G2019</th>\n",
       "    </tr>\n",
       "  </thead>\n",
       "  <tbody>\n",
       "    <tr>\n",
       "      <th>0</th>\n",
       "      <td>1000_1001</td>\n",
       "      <td>73</td>\n",
       "      <td>2</td>\n",
       "      <td>0.010817</td>\n",
       "      <td>-0.004234</td>\n",
       "      <td>0.005379</td>\n",
       "      <td>-0.020582</td>\n",
       "      <td>-0.027539</td>\n",
       "      <td>-0.039861</td>\n",
       "      <td>-0.02207</td>\n",
       "      <td>...</td>\n",
       "      <td>1</td>\n",
       "      <td>1</td>\n",
       "      <td>1</td>\n",
       "      <td>1</td>\n",
       "      <td>1</td>\n",
       "      <td>1</td>\n",
       "      <td>0</td>\n",
       "      <td>1</td>\n",
       "      <td>1</td>\n",
       "      <td>1</td>\n",
       "    </tr>\n",
       "    <tr>\n",
       "      <th>1</th>\n",
       "      <td>1000_1001</td>\n",
       "      <td>73</td>\n",
       "      <td>2</td>\n",
       "      <td>0.010817</td>\n",
       "      <td>-0.004234</td>\n",
       "      <td>0.005379</td>\n",
       "      <td>-0.020582</td>\n",
       "      <td>-0.027539</td>\n",
       "      <td>-0.039861</td>\n",
       "      <td>-0.02207</td>\n",
       "      <td>...</td>\n",
       "      <td>1</td>\n",
       "      <td>1</td>\n",
       "      <td>1</td>\n",
       "      <td>1</td>\n",
       "      <td>1</td>\n",
       "      <td>1</td>\n",
       "      <td>0</td>\n",
       "      <td>1</td>\n",
       "      <td>1</td>\n",
       "      <td>1</td>\n",
       "    </tr>\n",
       "    <tr>\n",
       "      <th>2</th>\n",
       "      <td>1000_1001</td>\n",
       "      <td>73</td>\n",
       "      <td>2</td>\n",
       "      <td>0.010817</td>\n",
       "      <td>-0.004234</td>\n",
       "      <td>0.005379</td>\n",
       "      <td>-0.020582</td>\n",
       "      <td>-0.027539</td>\n",
       "      <td>-0.039861</td>\n",
       "      <td>-0.02207</td>\n",
       "      <td>...</td>\n",
       "      <td>1</td>\n",
       "      <td>1</td>\n",
       "      <td>1</td>\n",
       "      <td>1</td>\n",
       "      <td>1</td>\n",
       "      <td>1</td>\n",
       "      <td>0</td>\n",
       "      <td>1</td>\n",
       "      <td>1</td>\n",
       "      <td>1</td>\n",
       "    </tr>\n",
       "    <tr>\n",
       "      <th>3</th>\n",
       "      <td>1000_1001</td>\n",
       "      <td>73</td>\n",
       "      <td>2</td>\n",
       "      <td>0.010817</td>\n",
       "      <td>-0.004234</td>\n",
       "      <td>0.005379</td>\n",
       "      <td>-0.020582</td>\n",
       "      <td>-0.027539</td>\n",
       "      <td>-0.039861</td>\n",
       "      <td>-0.02207</td>\n",
       "      <td>...</td>\n",
       "      <td>1</td>\n",
       "      <td>1</td>\n",
       "      <td>1</td>\n",
       "      <td>1</td>\n",
       "      <td>1</td>\n",
       "      <td>1</td>\n",
       "      <td>0</td>\n",
       "      <td>1</td>\n",
       "      <td>1</td>\n",
       "      <td>1</td>\n",
       "    </tr>\n",
       "    <tr>\n",
       "      <th>4</th>\n",
       "      <td>1000_1001</td>\n",
       "      <td>73</td>\n",
       "      <td>2</td>\n",
       "      <td>0.010817</td>\n",
       "      <td>-0.004234</td>\n",
       "      <td>0.005379</td>\n",
       "      <td>-0.020582</td>\n",
       "      <td>-0.027539</td>\n",
       "      <td>-0.039861</td>\n",
       "      <td>-0.02207</td>\n",
       "      <td>...</td>\n",
       "      <td>1</td>\n",
       "      <td>1</td>\n",
       "      <td>1</td>\n",
       "      <td>1</td>\n",
       "      <td>1</td>\n",
       "      <td>1</td>\n",
       "      <td>0</td>\n",
       "      <td>1</td>\n",
       "      <td>1</td>\n",
       "      <td>1</td>\n",
       "    </tr>\n",
       "  </tbody>\n",
       "</table>\n",
       "<p>5 rows × 2036 columns</p>\n",
       "</div>"
      ],
      "text/plain": [
       "  individual  age  sex       pc1       pc2       pc3       pc4       pc5  \\\n",
       "0  1000_1001   73    2  0.010817 -0.004234  0.005379 -0.020582 -0.027539   \n",
       "1  1000_1001   73    2  0.010817 -0.004234  0.005379 -0.020582 -0.027539   \n",
       "2  1000_1001   73    2  0.010817 -0.004234  0.005379 -0.020582 -0.027539   \n",
       "3  1000_1001   73    2  0.010817 -0.004234  0.005379 -0.020582 -0.027539   \n",
       "4  1000_1001   73    2  0.010817 -0.004234  0.005379 -0.020582 -0.027539   \n",
       "\n",
       "        pc6      pf1  ...  G2010  G2011 G2012  G2013  G2014  G2015  G2016  \\\n",
       "0 -0.039861 -0.02207  ...      1      1     1      1      1      1      0   \n",
       "1 -0.039861 -0.02207  ...      1      1     1      1      1      1      0   \n",
       "2 -0.039861 -0.02207  ...      1      1     1      1      1      1      0   \n",
       "3 -0.039861 -0.02207  ...      1      1     1      1      1      1      0   \n",
       "4 -0.039861 -0.02207  ...      1      1     1      1      1      1      0   \n",
       "\n",
       "   G2017  G2018  G2019  \n",
       "0      1      1      1  \n",
       "1      1      1      1  \n",
       "2      1      1      1  \n",
       "3      1      1      1  \n",
       "4      1      1      1  \n",
       "\n",
       "[5 rows x 2036 columns]"
      ]
     },
     "execution_count": 4,
     "metadata": {},
     "output_type": "execute_result"
    }
   ],
   "source": [
    "input_df = pd.read_csv(input_file, sep='\\t')\n",
    "input_df.head()"
   ]
  },
  {
   "cell_type": "code",
   "execution_count": 28,
   "id": "eaf0059a",
   "metadata": {},
   "outputs": [
    {
     "data": {
      "text/plain": [
       "(82068, 2036)"
      ]
     },
     "execution_count": 28,
     "metadata": {},
     "output_type": "execute_result"
    }
   ],
   "source": [
    "input_df.shape"
   ]
  },
  {
   "cell_type": "code",
   "execution_count": 59,
   "id": "de6e0f83",
   "metadata": {},
   "outputs": [
    {
     "data": {
      "text/plain": [
       "0        29\n",
       "1        17\n",
       "2        21\n",
       "3        25\n",
       "4        20\n",
       "         ..\n",
       "82063    15\n",
       "82064    16\n",
       "82065    21\n",
       "82066    16\n",
       "82067    29\n",
       "Name: E, Length: 82068, dtype: int64"
      ]
     },
     "execution_count": 59,
     "metadata": {},
     "output_type": "execute_result"
    }
   ],
   "source": [
    "y = input_df['E']\n",
    "y"
   ]
  },
  {
   "cell_type": "code",
   "execution_count": 60,
   "id": "386830c3",
   "metadata": {},
   "outputs": [
    {
     "data": {
      "text/plain": [
       "(array([8.7000e+01, 1.9990e+03, 1.1202e+04, 2.4596e+04, 2.5549e+04,\n",
       "        1.3665e+04, 3.9950e+03, 8.3000e+02, 1.2800e+02, 1.7000e+01]),\n",
       " array([ 2. ,  6.9, 11.8, 16.7, 21.6, 26.5, 31.4, 36.3, 41.2, 46.1, 51. ]),\n",
       " <BarContainer object of 10 artists>)"
      ]
     },
     "execution_count": 60,
     "metadata": {},
     "output_type": "execute_result"
    },
    {
     "data": {
      "image/png": "[encoded data removed]",
      "text/plain": [
       "<Figure size 432x288 with 1 Axes>"
      ]
     },
     "metadata": {
      "needs_background": "light"
     },
     "output_type": "display_data"
    }
   ],
   "source": [
    "import matplotlib.pyplot as plt\n",
    "plt.hist(y)"
   ]
  },
  {
   "cell_type": "code",
   "execution_count": 61,
   "id": "05d2459c",
   "metadata": {},
   "outputs": [
    {
     "data": {
      "text/html": [
       "<div>\n",
       "<style scoped>\n",
       "    .dataframe tbody tr th:only-of-type {\n",
       "        vertical-align: middle;\n",
       "    }\n",
       "\n",
       "    .dataframe tbody tr th {\n",
       "        vertical-align: top;\n",
       "    }\n",
       "\n",
       "    .dataframe thead th {\n",
       "        text-align: right;\n",
       "    }\n",
       "</style>\n",
       "<table border=\"1\" class=\"dataframe\">\n",
       "  <thead>\n",
       "    <tr style=\"text-align: right;\">\n",
       "      <th></th>\n",
       "      <th>age</th>\n",
       "      <th>sex</th>\n",
       "      <th>pc1</th>\n",
       "      <th>pc2</th>\n",
       "      <th>pc3</th>\n",
       "      <th>pc4</th>\n",
       "      <th>pc5</th>\n",
       "      <th>pc6</th>\n",
       "    </tr>\n",
       "  </thead>\n",
       "  <tbody>\n",
       "    <tr>\n",
       "      <th>0</th>\n",
       "      <td>73</td>\n",
       "      <td>2</td>\n",
       "      <td>0.010817</td>\n",
       "      <td>-0.004234</td>\n",
       "      <td>0.005379</td>\n",
       "      <td>-0.020582</td>\n",
       "      <td>-0.027539</td>\n",
       "      <td>-0.039861</td>\n",
       "    </tr>\n",
       "    <tr>\n",
       "      <th>1</th>\n",
       "      <td>73</td>\n",
       "      <td>2</td>\n",
       "      <td>0.010817</td>\n",
       "      <td>-0.004234</td>\n",
       "      <td>0.005379</td>\n",
       "      <td>-0.020582</td>\n",
       "      <td>-0.027539</td>\n",
       "      <td>-0.039861</td>\n",
       "    </tr>\n",
       "    <tr>\n",
       "      <th>2</th>\n",
       "      <td>73</td>\n",
       "      <td>2</td>\n",
       "      <td>0.010817</td>\n",
       "      <td>-0.004234</td>\n",
       "      <td>0.005379</td>\n",
       "      <td>-0.020582</td>\n",
       "      <td>-0.027539</td>\n",
       "      <td>-0.039861</td>\n",
       "    </tr>\n",
       "    <tr>\n",
       "      <th>3</th>\n",
       "      <td>73</td>\n",
       "      <td>2</td>\n",
       "      <td>0.010817</td>\n",
       "      <td>-0.004234</td>\n",
       "      <td>0.005379</td>\n",
       "      <td>-0.020582</td>\n",
       "      <td>-0.027539</td>\n",
       "      <td>-0.039861</td>\n",
       "    </tr>\n",
       "    <tr>\n",
       "      <th>4</th>\n",
       "      <td>73</td>\n",
       "      <td>2</td>\n",
       "      <td>0.010817</td>\n",
       "      <td>-0.004234</td>\n",
       "      <td>0.005379</td>\n",
       "      <td>-0.020582</td>\n",
       "      <td>-0.027539</td>\n",
       "      <td>-0.039861</td>\n",
       "    </tr>\n",
       "    <tr>\n",
       "      <th>...</th>\n",
       "      <td>...</td>\n",
       "      <td>...</td>\n",
       "      <td>...</td>\n",
       "      <td>...</td>\n",
       "      <td>...</td>\n",
       "      <td>...</td>\n",
       "      <td>...</td>\n",
       "      <td>...</td>\n",
       "    </tr>\n",
       "    <tr>\n",
       "      <th>82063</th>\n",
       "      <td>32</td>\n",
       "      <td>2</td>\n",
       "      <td>-0.005781</td>\n",
       "      <td>-0.038025</td>\n",
       "      <td>-0.010168</td>\n",
       "      <td>-0.032019</td>\n",
       "      <td>-0.044955</td>\n",
       "      <td>0.006924</td>\n",
       "    </tr>\n",
       "    <tr>\n",
       "      <th>82064</th>\n",
       "      <td>32</td>\n",
       "      <td>2</td>\n",
       "      <td>-0.005781</td>\n",
       "      <td>-0.038025</td>\n",
       "      <td>-0.010168</td>\n",
       "      <td>-0.032019</td>\n",
       "      <td>-0.044955</td>\n",
       "      <td>0.006924</td>\n",
       "    </tr>\n",
       "    <tr>\n",
       "      <th>82065</th>\n",
       "      <td>32</td>\n",
       "      <td>2</td>\n",
       "      <td>-0.005781</td>\n",
       "      <td>-0.038025</td>\n",
       "      <td>-0.010168</td>\n",
       "      <td>-0.032019</td>\n",
       "      <td>-0.044955</td>\n",
       "      <td>0.006924</td>\n",
       "    </tr>\n",
       "    <tr>\n",
       "      <th>82066</th>\n",
       "      <td>32</td>\n",
       "      <td>2</td>\n",
       "      <td>-0.005781</td>\n",
       "      <td>-0.038025</td>\n",
       "      <td>-0.010168</td>\n",
       "      <td>-0.032019</td>\n",
       "      <td>-0.044955</td>\n",
       "      <td>0.006924</td>\n",
       "    </tr>\n",
       "    <tr>\n",
       "      <th>82067</th>\n",
       "      <td>32</td>\n",
       "      <td>2</td>\n",
       "      <td>-0.005781</td>\n",
       "      <td>-0.038025</td>\n",
       "      <td>-0.010168</td>\n",
       "      <td>-0.032019</td>\n",
       "      <td>-0.044955</td>\n",
       "      <td>0.006924</td>\n",
       "    </tr>\n",
       "  </tbody>\n",
       "</table>\n",
       "<p>82068 rows × 8 columns</p>\n",
       "</div>"
      ],
      "text/plain": [
       "       age  sex       pc1       pc2       pc3       pc4       pc5       pc6\n",
       "0       73    2  0.010817 -0.004234  0.005379 -0.020582 -0.027539 -0.039861\n",
       "1       73    2  0.010817 -0.004234  0.005379 -0.020582 -0.027539 -0.039861\n",
       "2       73    2  0.010817 -0.004234  0.005379 -0.020582 -0.027539 -0.039861\n",
       "3       73    2  0.010817 -0.004234  0.005379 -0.020582 -0.027539 -0.039861\n",
       "4       73    2  0.010817 -0.004234  0.005379 -0.020582 -0.027539 -0.039861\n",
       "...    ...  ...       ...       ...       ...       ...       ...       ...\n",
       "82063   32    2 -0.005781 -0.038025 -0.010168 -0.032019 -0.044955  0.006924\n",
       "82064   32    2 -0.005781 -0.038025 -0.010168 -0.032019 -0.044955  0.006924\n",
       "82065   32    2 -0.005781 -0.038025 -0.010168 -0.032019 -0.044955  0.006924\n",
       "82066   32    2 -0.005781 -0.038025 -0.010168 -0.032019 -0.044955  0.006924\n",
       "82067   32    2 -0.005781 -0.038025 -0.010168 -0.032019 -0.044955  0.006924\n",
       "\n",
       "[82068 rows x 8 columns]"
      ]
     },
     "execution_count": 61,
     "metadata": {},
     "output_type": "execute_result"
    }
   ],
   "source": [
    "W = input_df[['age','sex','pc1','pc2','pc3','pc4','pc5','pc6']]\n",
    "W"
   ]
  },
  {
   "cell_type": "code",
   "execution_count": 62,
   "id": "f07f5f6f",
   "metadata": {},
   "outputs": [
    {
     "data": {
      "text/html": [
       "<div>\n",
       "<style scoped>\n",
       "    .dataframe tbody tr th:only-of-type {\n",
       "        vertical-align: middle;\n",
       "    }\n",
       "\n",
       "    .dataframe tbody tr th {\n",
       "        vertical-align: top;\n",
       "    }\n",
       "\n",
       "    .dataframe thead th {\n",
       "        text-align: right;\n",
       "    }\n",
       "</style>\n",
       "<table border=\"1\" class=\"dataframe\">\n",
       "  <thead>\n",
       "    <tr style=\"text-align: right;\">\n",
       "      <th></th>\n",
       "      <th>pf1</th>\n",
       "      <th>pf2</th>\n",
       "    </tr>\n",
       "  </thead>\n",
       "  <tbody>\n",
       "    <tr>\n",
       "      <th>0</th>\n",
       "      <td>-0.022070</td>\n",
       "      <td>-0.005829</td>\n",
       "    </tr>\n",
       "    <tr>\n",
       "      <th>1</th>\n",
       "      <td>-0.022070</td>\n",
       "      <td>-0.005829</td>\n",
       "    </tr>\n",
       "    <tr>\n",
       "      <th>2</th>\n",
       "      <td>-0.022070</td>\n",
       "      <td>-0.005829</td>\n",
       "    </tr>\n",
       "    <tr>\n",
       "      <th>3</th>\n",
       "      <td>-0.022070</td>\n",
       "      <td>-0.005829</td>\n",
       "    </tr>\n",
       "    <tr>\n",
       "      <th>4</th>\n",
       "      <td>-0.022070</td>\n",
       "      <td>-0.005829</td>\n",
       "    </tr>\n",
       "    <tr>\n",
       "      <th>...</th>\n",
       "      <td>...</td>\n",
       "      <td>...</td>\n",
       "    </tr>\n",
       "    <tr>\n",
       "      <th>82063</th>\n",
       "      <td>-0.021218</td>\n",
       "      <td>0.052150</td>\n",
       "    </tr>\n",
       "    <tr>\n",
       "      <th>82064</th>\n",
       "      <td>-0.021218</td>\n",
       "      <td>0.052150</td>\n",
       "    </tr>\n",
       "    <tr>\n",
       "      <th>82065</th>\n",
       "      <td>-0.021218</td>\n",
       "      <td>0.052150</td>\n",
       "    </tr>\n",
       "    <tr>\n",
       "      <th>82066</th>\n",
       "      <td>-0.021218</td>\n",
       "      <td>0.052150</td>\n",
       "    </tr>\n",
       "    <tr>\n",
       "      <th>82067</th>\n",
       "      <td>-0.021218</td>\n",
       "      <td>0.052150</td>\n",
       "    </tr>\n",
       "  </tbody>\n",
       "</table>\n",
       "<p>82068 rows × 2 columns</p>\n",
       "</div>"
      ],
      "text/plain": [
       "            pf1       pf2\n",
       "0     -0.022070 -0.005829\n",
       "1     -0.022070 -0.005829\n",
       "2     -0.022070 -0.005829\n",
       "3     -0.022070 -0.005829\n",
       "4     -0.022070 -0.005829\n",
       "...         ...       ...\n",
       "82063 -0.021218  0.052150\n",
       "82064 -0.021218  0.052150\n",
       "82065 -0.021218  0.052150\n",
       "82066 -0.021218  0.052150\n",
       "82067 -0.021218  0.052150\n",
       "\n",
       "[82068 rows x 2 columns]"
      ]
     },
     "execution_count": 62,
     "metadata": {},
     "output_type": "execute_result"
    }
   ],
   "source": [
    "C = input_df[['pf1','pf2']]\n",
    "C"
   ]
  },
  {
   "cell_type": "code",
   "execution_count": 63,
   "id": "15d1241b",
   "metadata": {},
   "outputs": [
    {
     "data": {
      "text/plain": [
       "Index(['G1', 'G2', 'G3', 'G4', 'G5', 'G6', 'G7', 'G8', 'G9', 'G10',\n",
       "       ...\n",
       "       'G2011', 'G2012', 'G2013', 'G2014', 'G2015', 'G2016', 'G2017', 'G2018',\n",
       "       'G2019', 'cell'],\n",
       "      dtype='object', length=2020)"
      ]
     },
     "execution_count": 63,
     "metadata": {},
     "output_type": "execute_result"
    }
   ],
   "source": [
    "input_df.columns[17:input_df.shape[1]]"
   ]
  },
  {
   "cell_type": "code",
   "execution_count": 64,
   "id": "45d66bc0",
   "metadata": {},
   "outputs": [
    {
     "data": {
      "text/plain": [
       "(82068, 2020)"
      ]
     },
     "execution_count": 64,
     "metadata": {},
     "output_type": "execute_result"
    }
   ],
   "source": [
    "G = input_df.values[:,17:input_df.shape[1]]\n",
    "G.shape"
   ]
  },
  {
   "cell_type": "code",
   "execution_count": null,
   "id": "320a8124",
   "metadata": {},
   "outputs": [],
   "source": []
  },
  {
   "cell_type": "code",
   "execution_count": 65,
   "id": "7e9f2df8",
   "metadata": {},
   "outputs": [],
   "source": [
    "input_df['cell'] = input_df.index"
   ]
  },
  {
   "cell_type": "code",
   "execution_count": 66,
   "id": "916e0aec",
   "metadata": {},
   "outputs": [
    {
     "data": {
      "text/html": [
       "<div>\n",
       "<style scoped>\n",
       "    .dataframe tbody tr th:only-of-type {\n",
       "        vertical-align: middle;\n",
       "    }\n",
       "\n",
       "    .dataframe tbody tr th {\n",
       "        vertical-align: top;\n",
       "    }\n",
       "\n",
       "    .dataframe thead th {\n",
       "        text-align: right;\n",
       "    }\n",
       "</style>\n",
       "<table border=\"1\" class=\"dataframe\">\n",
       "  <thead>\n",
       "    <tr style=\"text-align: right;\">\n",
       "      <th></th>\n",
       "      <th>individual</th>\n",
       "      <th>cell</th>\n",
       "    </tr>\n",
       "  </thead>\n",
       "  <tbody>\n",
       "    <tr>\n",
       "      <th>0</th>\n",
       "      <td>1000_1001</td>\n",
       "      <td>0</td>\n",
       "    </tr>\n",
       "    <tr>\n",
       "      <th>1</th>\n",
       "      <td>1000_1001</td>\n",
       "      <td>1</td>\n",
       "    </tr>\n",
       "    <tr>\n",
       "      <th>2</th>\n",
       "      <td>1000_1001</td>\n",
       "      <td>2</td>\n",
       "    </tr>\n",
       "    <tr>\n",
       "      <th>3</th>\n",
       "      <td>1000_1001</td>\n",
       "      <td>3</td>\n",
       "    </tr>\n",
       "    <tr>\n",
       "      <th>4</th>\n",
       "      <td>1000_1001</td>\n",
       "      <td>4</td>\n",
       "    </tr>\n",
       "  </tbody>\n",
       "</table>\n",
       "</div>"
      ],
      "text/plain": [
       "  individual  cell\n",
       "0  1000_1001     0\n",
       "1  1000_1001     1\n",
       "2  1000_1001     2\n",
       "3  1000_1001     3\n",
       "4  1000_1001     4"
      ]
     },
     "execution_count": 66,
     "metadata": {},
     "output_type": "execute_result"
    }
   ],
   "source": [
    "smf_df = input_df[['individual','cell']]\n",
    "smf_df.head()"
   ]
  },
  {
   "cell_type": "code",
   "execution_count": 67,
   "id": "2937e6df",
   "metadata": {},
   "outputs": [],
   "source": [
    "def get_groups_from_smf(smf_df):\n",
    "    n_samples = smf_df.shape[0]\n",
    "    donors = smf_df['individual'].unique()\n",
    "    n_donors = len(donors)\n",
    "    n_cells = array([],dtype=int)\n",
    "    for donor in donors:\n",
    "        n_cells = append(n_cells, array(smf_df[smf_df['individual']==donor].shape[0], dtype=int))\n",
    "    groups = split(range(n_samples), cumsum(n_cells))[:-1]\n",
    "    return groups"
   ]
  },
  {
   "cell_type": "code",
   "execution_count": 68,
   "id": "cc988cae",
   "metadata": {},
   "outputs": [],
   "source": [
    "def get_block_hK_from_groups(groups):\n",
    "    n_samples = len(list(itertools.chain.from_iterable(groups)))\n",
    "    hM = zeros((n_samples, len(groups)))\n",
    "    for i, idx in enumerate(groups):\n",
    "        hM[idx, i] = 1.0\n",
    "    return hM"
   ]
  },
  {
   "cell_type": "code",
   "execution_count": 69,
   "id": "66bf8d26",
   "metadata": {},
   "outputs": [],
   "source": [
    "from numpy import array, split, cumsum, zeros, append\n",
    "import itertools"
   ]
  },
  {
   "cell_type": "code",
   "execution_count": 70,
   "id": "231b1c53",
   "metadata": {},
   "outputs": [],
   "source": [
    "# indices for each group of cells (group=individual)\n",
    "groups = get_groups_from_smf(smf_df)\n",
    "# groups"
   ]
  },
  {
   "cell_type": "code",
   "execution_count": 71,
   "id": "13492ce2",
   "metadata": {},
   "outputs": [],
   "source": [
    "hK = get_block_hK_from_groups(groups)"
   ]
  },
  {
   "cell_type": "code",
   "execution_count": null,
   "id": "2a20ab4a",
   "metadata": {},
   "outputs": [],
   "source": []
  },
  {
   "cell_type": "code",
   "execution_count": 72,
   "id": "95116639",
   "metadata": {},
   "outputs": [
    {
     "name": "stdout",
     "output_type": "stream",
     "text": [
      "--- 298.99731063842773 seconds ---\n"
     ]
    }
   ],
   "source": [
    "start_time = time.time()\n",
    "pvals = run_association_fast(y=y, W=W.values, E=C.values, G=G, hK=hK)[0]\n",
    "print(\"--- %s seconds ---\" % (time.time() - start_time))"
   ]
  },
  {
   "cell_type": "code",
   "execution_count": 73,
   "id": "fa2a2ae0",
   "metadata": {},
   "outputs": [
    {
     "data": {
      "text/plain": [
       "(array([746., 200., 218., 120.,  88., 105., 140., 142., 189.,  72.]),\n",
       " array([1.46053338e-31, 1.00000000e-01, 2.00000000e-01, 3.00000000e-01,\n",
       "        4.00000000e-01, 5.00000000e-01, 6.00000000e-01, 7.00000000e-01,\n",
       "        8.00000000e-01, 9.00000000e-01, 1.00000000e+00]),\n",
       " <BarContainer object of 10 artists>)"
      ]
     },
     "execution_count": 73,
     "metadata": {},
     "output_type": "execute_result"
    },
    {
     "data": {
      "image/png": "[encoded data removed]",
      "text/plain": [
       "<Figure size 432x288 with 1 Axes>"
      ]
     },
     "metadata": {
      "needs_background": "light"
     },
     "output_type": "display_data"
    }
   ],
   "source": [
    "plt.hist(pvals)"
   ]
  },
  {
   "cell_type": "code",
   "execution_count": null,
   "id": "03ef00dd",
   "metadata": {},
   "outputs": [],
   "source": []
  }
 ],
 "metadata": {
  "kernelspec": {
   "display_name": "Python (Jupyter - cellregmap)",
   "language": "python",
   "name": "cellregmap_notebook"
  },
  "language_info": {
   "codemirror_mode": {
    "name": "ipython",
    "version": 3
   },
   "file_extension": ".py",
   "mimetype": "text/x-python",
   "name": "python",
   "nbconvert_exporter": "python",
   "pygments_lexer": "ipython3",
   "version": "3.7.11"
  }
 },
 "nbformat": 4,
 "nbformat_minor": 5
}
