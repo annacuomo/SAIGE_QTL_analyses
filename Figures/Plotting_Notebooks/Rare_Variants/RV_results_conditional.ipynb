{
 "cells": [
  {
   "cell_type": "code",
   "execution_count": 1,
   "id": "f8ff4c23",
   "metadata": {},
   "outputs": [],
   "source": [
    "library(data.table)\n",
    "library(ggplot2)\n",
    "library(qvalue)"
   ]
  },
  {
   "cell_type": "code",
   "execution_count": 2,
   "id": "1335012b",
   "metadata": {},
   "outputs": [],
   "source": [
    "saige_dir = \"/directflow/SCCGGroupShare/projects/anncuo/OneK1K/saige_eqtl/from_wei/Feb24/\""
   ]
  },
  {
   "cell_type": "code",
   "execution_count": 3,
   "id": "4349e2a8",
   "metadata": {},
   "outputs": [
    {
     "data": {
      "text/html": [
       "<table class=\"dataframe\">\n",
       "<caption>A data.frame: 6 × 16</caption>\n",
       "<thead>\n",
       "\t<tr><th></th><th scope=col>celltype</th><th scope=col>Region</th><th scope=col>Group</th><th scope=col>min_MAF</th><th scope=col>max_MAF</th><th scope=col>Weight</th><th scope=col>Pvalue</th><th scope=col>Pvalue_ACATV</th><th scope=col>Pvalue_SKATO</th><th scope=col>Pvalue_Burden</th><th scope=col>Pvalue_SKAT</th><th scope=col>BETA_Burden</th><th scope=col>SE_Burden</th><th scope=col>MAC</th><th scope=col>Number_rare</th><th scope=col>Number_ultra_rare</th></tr>\n",
       "\t<tr><th></th><th scope=col>&lt;chr&gt;</th><th scope=col>&lt;chr&gt;</th><th scope=col>&lt;chr&gt;</th><th scope=col>&lt;int&gt;</th><th scope=col>&lt;dbl&gt;</th><th scope=col>&lt;chr&gt;</th><th scope=col>&lt;dbl&gt;</th><th scope=col>&lt;dbl&gt;</th><th scope=col>&lt;lgl&gt;</th><th scope=col>&lt;dbl&gt;</th><th scope=col>&lt;dbl&gt;</th><th scope=col>&lt;dbl&gt;</th><th scope=col>&lt;dbl&gt;</th><th scope=col>&lt;dbl&gt;</th><th scope=col>&lt;int&gt;</th><th scope=col>&lt;int&gt;</th></tr>\n",
       "</thead>\n",
       "<tbody>\n",
       "\t<tr><th scope=row>1</th><td>Plasma</td><td>A1BG</td><td>null  </td><td> 0</td><td>0.05</td><td>dTSS         </td><td>0.8766689</td><td>0.6772141</td><td>NA</td><td>0.9442545</td><td>0.7618615</td><td> 0.007958452</td><td>0.002500256</td><td>23392.80</td><td> 561</td><td>1340</td></tr>\n",
       "\t<tr><th scope=row>2</th><td>Plasma</td><td>A1BG</td><td>null  </td><td> 0</td><td>0.05</td><td>Beta_1_25    </td><td>0.6739423</td><td>0.5819687</td><td>NA</td><td>0.4340790</td><td>0.8364173</td><td>-0.002087573</td><td>0.006287923</td><td>23904.00</td><td> 561</td><td>1340</td></tr>\n",
       "\t<tr><th scope=row>3</th><td>Plasma</td><td>A1BG</td><td>null  </td><td> 0</td><td>0.05</td><td>Equal_Weights</td><td>0.7201885</td><td>0.5936323</td><td>NA</td><td>0.5116708</td><td>0.8611497</td><td>-0.022259367</td><td>0.380390295</td><td>23904.00</td><td> 561</td><td>1340</td></tr>\n",
       "\t<tr><th scope=row>4</th><td>Plasma</td><td>A1BG</td><td>Cauchy</td><td>NA</td><td>  NA</td><td>NA           </td><td>0.7907711</td><td>0.6200851</td><td>NA</td><td>0.8405194</td><td>0.8278134</td><td>          NA</td><td>         NA</td><td>      NA</td><td>  NA</td><td>  NA</td></tr>\n",
       "\t<tr><th scope=row>5</th><td>Plasma</td><td>AAAS</td><td>null  </td><td> 0</td><td>0.05</td><td>dTSS         </td><td>0.6182132</td><td>0.7822394</td><td>NA</td><td>0.3631167</td><td>0.6213246</td><td> 0.183845477</td><td>0.262531214</td><td>60774.94</td><td>1300</td><td>2874</td></tr>\n",
       "\t<tr><th scope=row>6</th><td>Plasma</td><td>AAAS</td><td>null  </td><td> 0</td><td>0.05</td><td>Beta_1_25    </td><td>0.6642145</td><td>0.8399541</td><td>NA</td><td>0.2850562</td><td>0.6909263</td><td> 0.003461475</td><td>0.003047685</td><td>61285.00</td><td>1300</td><td>2874</td></tr>\n",
       "</tbody>\n",
       "</table>\n"
      ],
      "text/latex": [
       "A data.frame: 6 × 16\n",
       "\\begin{tabular}{r|llllllllllllllll}\n",
       "  & celltype & Region & Group & min\\_MAF & max\\_MAF & Weight & Pvalue & Pvalue\\_ACATV & Pvalue\\_SKATO & Pvalue\\_Burden & Pvalue\\_SKAT & BETA\\_Burden & SE\\_Burden & MAC & Number\\_rare & Number\\_ultra\\_rare\\\\\n",
       "  & <chr> & <chr> & <chr> & <int> & <dbl> & <chr> & <dbl> & <dbl> & <lgl> & <dbl> & <dbl> & <dbl> & <dbl> & <dbl> & <int> & <int>\\\\\n",
       "\\hline\n",
       "\t1 & Plasma & A1BG & null   &  0 & 0.05 & dTSS          & 0.8766689 & 0.6772141 & NA & 0.9442545 & 0.7618615 &  0.007958452 & 0.002500256 & 23392.80 &  561 & 1340\\\\\n",
       "\t2 & Plasma & A1BG & null   &  0 & 0.05 & Beta\\_1\\_25     & 0.6739423 & 0.5819687 & NA & 0.4340790 & 0.8364173 & -0.002087573 & 0.006287923 & 23904.00 &  561 & 1340\\\\\n",
       "\t3 & Plasma & A1BG & null   &  0 & 0.05 & Equal\\_Weights & 0.7201885 & 0.5936323 & NA & 0.5116708 & 0.8611497 & -0.022259367 & 0.380390295 & 23904.00 &  561 & 1340\\\\\n",
       "\t4 & Plasma & A1BG & Cauchy & NA &   NA & NA            & 0.7907711 & 0.6200851 & NA & 0.8405194 & 0.8278134 &           NA &          NA &       NA &   NA &   NA\\\\\n",
       "\t5 & Plasma & AAAS & null   &  0 & 0.05 & dTSS          & 0.6182132 & 0.7822394 & NA & 0.3631167 & 0.6213246 &  0.183845477 & 0.262531214 & 60774.94 & 1300 & 2874\\\\\n",
       "\t6 & Plasma & AAAS & null   &  0 & 0.05 & Beta\\_1\\_25     & 0.6642145 & 0.8399541 & NA & 0.2850562 & 0.6909263 &  0.003461475 & 0.003047685 & 61285.00 & 1300 & 2874\\\\\n",
       "\\end{tabular}\n"
      ],
      "text/markdown": [
       "\n",
       "A data.frame: 6 × 16\n",
       "\n",
       "| <!--/--> | celltype &lt;chr&gt; | Region &lt;chr&gt; | Group &lt;chr&gt; | min_MAF &lt;int&gt; | max_MAF &lt;dbl&gt; | Weight &lt;chr&gt; | Pvalue &lt;dbl&gt; | Pvalue_ACATV &lt;dbl&gt; | Pvalue_SKATO &lt;lgl&gt; | Pvalue_Burden &lt;dbl&gt; | Pvalue_SKAT &lt;dbl&gt; | BETA_Burden &lt;dbl&gt; | SE_Burden &lt;dbl&gt; | MAC &lt;dbl&gt; | Number_rare &lt;int&gt; | Number_ultra_rare &lt;int&gt; |\n",
       "|---|---|---|---|---|---|---|---|---|---|---|---|---|---|---|---|---|\n",
       "| 1 | Plasma | A1BG | null   |  0 | 0.05 | dTSS          | 0.8766689 | 0.6772141 | NA | 0.9442545 | 0.7618615 |  0.007958452 | 0.002500256 | 23392.80 |  561 | 1340 |\n",
       "| 2 | Plasma | A1BG | null   |  0 | 0.05 | Beta_1_25     | 0.6739423 | 0.5819687 | NA | 0.4340790 | 0.8364173 | -0.002087573 | 0.006287923 | 23904.00 |  561 | 1340 |\n",
       "| 3 | Plasma | A1BG | null   |  0 | 0.05 | Equal_Weights | 0.7201885 | 0.5936323 | NA | 0.5116708 | 0.8611497 | -0.022259367 | 0.380390295 | 23904.00 |  561 | 1340 |\n",
       "| 4 | Plasma | A1BG | Cauchy | NA |   NA | NA            | 0.7907711 | 0.6200851 | NA | 0.8405194 | 0.8278134 |           NA |          NA |       NA |   NA |   NA |\n",
       "| 5 | Plasma | AAAS | null   |  0 | 0.05 | dTSS          | 0.6182132 | 0.7822394 | NA | 0.3631167 | 0.6213246 |  0.183845477 | 0.262531214 | 60774.94 | 1300 | 2874 |\n",
       "| 6 | Plasma | AAAS | null   |  0 | 0.05 | Beta_1_25     | 0.6642145 | 0.8399541 | NA | 0.2850562 | 0.6909263 |  0.003461475 | 0.003047685 | 61285.00 | 1300 | 2874 |\n",
       "\n"
      ],
      "text/plain": [
       "  celltype Region Group  min_MAF max_MAF Weight        Pvalue    Pvalue_ACATV\n",
       "1 Plasma   A1BG   null    0      0.05    dTSS          0.8766689 0.6772141   \n",
       "2 Plasma   A1BG   null    0      0.05    Beta_1_25     0.6739423 0.5819687   \n",
       "3 Plasma   A1BG   null    0      0.05    Equal_Weights 0.7201885 0.5936323   \n",
       "4 Plasma   A1BG   Cauchy NA        NA    NA            0.7907711 0.6200851   \n",
       "5 Plasma   AAAS   null    0      0.05    dTSS          0.6182132 0.7822394   \n",
       "6 Plasma   AAAS   null    0      0.05    Beta_1_25     0.6642145 0.8399541   \n",
       "  Pvalue_SKATO Pvalue_Burden Pvalue_SKAT BETA_Burden  SE_Burden   MAC     \n",
       "1 NA           0.9442545     0.7618615    0.007958452 0.002500256 23392.80\n",
       "2 NA           0.4340790     0.8364173   -0.002087573 0.006287923 23904.00\n",
       "3 NA           0.5116708     0.8611497   -0.022259367 0.380390295 23904.00\n",
       "4 NA           0.8405194     0.8278134             NA          NA       NA\n",
       "5 NA           0.3631167     0.6213246    0.183845477 0.262531214 60774.94\n",
       "6 NA           0.2850562     0.6909263    0.003461475 0.003047685 61285.00\n",
       "  Number_rare Number_ultra_rare\n",
       "1  561        1340             \n",
       "2  561        1340             \n",
       "3  561        1340             \n",
       "4   NA          NA             \n",
       "5 1300        2874             \n",
       "6 1300        2874             "
      ]
     },
     "metadata": {},
     "output_type": "display_data"
    }
   ],
   "source": [
    "# all results\n",
    "myfile = paste0(saige_dir, \"all_cis_rare_with_dTSS_weights.results.txt\")\n",
    "df_all = as.data.frame(fread(myfile))\n",
    "head(df_all)"
   ]
  },
  {
   "cell_type": "code",
   "execution_count": 4,
   "id": "847c9ba2",
   "metadata": {},
   "outputs": [
    {
     "data": {
      "text/html": [
       "<table class=\"dataframe\">\n",
       "<caption>A data.frame: 6 × 23</caption>\n",
       "<thead>\n",
       "\t<tr><th></th><th scope=col>celltype</th><th scope=col>Region</th><th scope=col>Group</th><th scope=col>min_MAF</th><th scope=col>max_MAF</th><th scope=col>Weight</th><th scope=col>Pvalue</th><th scope=col>Pvalue_ACATV</th><th scope=col>Pvalue_SKATO</th><th scope=col>Pvalue_Burden</th><th scope=col>⋯</th><th scope=col>Pvalue_cond</th><th scope=col>Pvalue_ACATV_cond</th><th scope=col>Pvalue_SKATO_cond</th><th scope=col>Pvalue_Burden_cond</th><th scope=col>Pvalue_SKAT_cond</th><th scope=col>BETA_Burden_cond</th><th scope=col>SE_Burden_cond</th><th scope=col>MAC</th><th scope=col>Number_rare</th><th scope=col>Number_ultra_rare</th></tr>\n",
       "\t<tr><th></th><th scope=col>&lt;chr&gt;</th><th scope=col>&lt;chr&gt;</th><th scope=col>&lt;chr&gt;</th><th scope=col>&lt;int&gt;</th><th scope=col>&lt;dbl&gt;</th><th scope=col>&lt;chr&gt;</th><th scope=col>&lt;dbl&gt;</th><th scope=col>&lt;dbl&gt;</th><th scope=col>&lt;lgl&gt;</th><th scope=col>&lt;dbl&gt;</th><th scope=col>⋯</th><th scope=col>&lt;dbl&gt;</th><th scope=col>&lt;dbl&gt;</th><th scope=col>&lt;lgl&gt;</th><th scope=col>&lt;dbl&gt;</th><th scope=col>&lt;dbl&gt;</th><th scope=col>&lt;dbl&gt;</th><th scope=col>&lt;dbl&gt;</th><th scope=col>&lt;dbl&gt;</th><th scope=col>&lt;int&gt;</th><th scope=col>&lt;int&gt;</th></tr>\n",
       "</thead>\n",
       "<tbody>\n",
       "\t<tr><th scope=row>1</th><td>CD4_NC</td><td>LINC00969</td><td>null  </td><td> 0</td><td>0.05</td><td>dTSS         </td><td>1.923482e-38</td><td>2.879839e-31</td><td>NA</td><td>4.125166e-10</td><td>⋯</td><td>9.495110e-07</td><td>3.418401e-07</td><td>NA</td><td>0.3107139</td><td>4.270310e-06</td><td> 3.180032e-02</td><td>3.219778e-02</td><td>84390.16</td><td>1749</td><td>3255</td></tr>\n",
       "\t<tr><th scope=row>2</th><td>CD4_NC</td><td>LINC00969</td><td>null  </td><td> 0</td><td>0.05</td><td>Beta_1_25    </td><td>7.828874e-30</td><td>2.609625e-30</td><td>NA</td><td>2.694507e-01</td><td>⋯</td><td>7.019438e-05</td><td>2.340261e-05</td><td>NA</td><td>0.6606641</td><td>9.767935e-02</td><td>-2.772587e-04</td><td>3.346303e-04</td><td>85095.00</td><td>1749</td><td>3255</td></tr>\n",
       "\t<tr><th scope=row>3</th><td>CD4_NC</td><td>LINC00969</td><td>null  </td><td> 0</td><td>0.05</td><td>Equal_Weights</td><td>8.814237e-30</td><td>2.938079e-30</td><td>NA</td><td>1.134367e-01</td><td>⋯</td><td>9.427627e-06</td><td>3.142622e-06</td><td>NA</td><td>0.7531078</td><td>8.655739e-02</td><td>-2.254255e-03</td><td>1.647120e-03</td><td>85095.00</td><td>1749</td><td>3255</td></tr>\n",
       "\t<tr><th scope=row>4</th><td>CD4_NC</td><td>LINC00969</td><td>Cauchy</td><td>NA</td><td>  NA</td><td>NA           </td><td>5.770447e-38</td><td>7.149714e-31</td><td>NA</td><td>1.237550e-09</td><td>⋯</td><td>2.556474e-06</td><td>9.128863e-07</td><td>NA</td><td>0.5923713</td><td>1.280977e-05</td><td>           NA</td><td>          NA</td><td>      NA</td><td>  NA</td><td>  NA</td></tr>\n",
       "\t<tr><th scope=row>5</th><td>B_Mem </td><td>RPS3A    </td><td>null  </td><td> 0</td><td>0.05</td><td>dTSS         </td><td>7.000958e-98</td><td>2.333653e-98</td><td>NA</td><td>1.794583e-21</td><td>⋯</td><td>1.131633e-02</td><td>3.830450e-03</td><td>NA</td><td>0.7036219</td><td>1.477248e-01</td><td>-4.184013e-03</td><td>3.911418e-03</td><td>97627.32</td><td>1703</td><td>3695</td></tr>\n",
       "\t<tr><th scope=row>6</th><td>B_Mem </td><td>RPS3A    </td><td>null  </td><td> 0</td><td>0.05</td><td>Beta_1_25    </td><td>5.324147e-97</td><td>1.774716e-97</td><td>NA</td><td>5.650971e-18</td><td>⋯</td><td>1.000000e+00</td><td>1.000000e+00</td><td>NA</td><td>0.6893001</td><td>9.992062e-01</td><td> 6.761632e-05</td><td>6.845594e-05</td><td>98125.00</td><td>1703</td><td>3695</td></tr>\n",
       "</tbody>\n",
       "</table>\n"
      ],
      "text/latex": [
       "A data.frame: 6 × 23\n",
       "\\begin{tabular}{r|lllllllllllllllllllll}\n",
       "  & celltype & Region & Group & min\\_MAF & max\\_MAF & Weight & Pvalue & Pvalue\\_ACATV & Pvalue\\_SKATO & Pvalue\\_Burden & ⋯ & Pvalue\\_cond & Pvalue\\_ACATV\\_cond & Pvalue\\_SKATO\\_cond & Pvalue\\_Burden\\_cond & Pvalue\\_SKAT\\_cond & BETA\\_Burden\\_cond & SE\\_Burden\\_cond & MAC & Number\\_rare & Number\\_ultra\\_rare\\\\\n",
       "  & <chr> & <chr> & <chr> & <int> & <dbl> & <chr> & <dbl> & <dbl> & <lgl> & <dbl> & ⋯ & <dbl> & <dbl> & <lgl> & <dbl> & <dbl> & <dbl> & <dbl> & <dbl> & <int> & <int>\\\\\n",
       "\\hline\n",
       "\t1 & CD4\\_NC & LINC00969 & null   &  0 & 0.05 & dTSS          & 1.923482e-38 & 2.879839e-31 & NA & 4.125166e-10 & ⋯ & 9.495110e-07 & 3.418401e-07 & NA & 0.3107139 & 4.270310e-06 &  3.180032e-02 & 3.219778e-02 & 84390.16 & 1749 & 3255\\\\\n",
       "\t2 & CD4\\_NC & LINC00969 & null   &  0 & 0.05 & Beta\\_1\\_25     & 7.828874e-30 & 2.609625e-30 & NA & 2.694507e-01 & ⋯ & 7.019438e-05 & 2.340261e-05 & NA & 0.6606641 & 9.767935e-02 & -2.772587e-04 & 3.346303e-04 & 85095.00 & 1749 & 3255\\\\\n",
       "\t3 & CD4\\_NC & LINC00969 & null   &  0 & 0.05 & Equal\\_Weights & 8.814237e-30 & 2.938079e-30 & NA & 1.134367e-01 & ⋯ & 9.427627e-06 & 3.142622e-06 & NA & 0.7531078 & 8.655739e-02 & -2.254255e-03 & 1.647120e-03 & 85095.00 & 1749 & 3255\\\\\n",
       "\t4 & CD4\\_NC & LINC00969 & Cauchy & NA &   NA & NA            & 5.770447e-38 & 7.149714e-31 & NA & 1.237550e-09 & ⋯ & 2.556474e-06 & 9.128863e-07 & NA & 0.5923713 & 1.280977e-05 &            NA &           NA &       NA &   NA &   NA\\\\\n",
       "\t5 & B\\_Mem  & RPS3A     & null   &  0 & 0.05 & dTSS          & 7.000958e-98 & 2.333653e-98 & NA & 1.794583e-21 & ⋯ & 1.131633e-02 & 3.830450e-03 & NA & 0.7036219 & 1.477248e-01 & -4.184013e-03 & 3.911418e-03 & 97627.32 & 1703 & 3695\\\\\n",
       "\t6 & B\\_Mem  & RPS3A     & null   &  0 & 0.05 & Beta\\_1\\_25     & 5.324147e-97 & 1.774716e-97 & NA & 5.650971e-18 & ⋯ & 1.000000e+00 & 1.000000e+00 & NA & 0.6893001 & 9.992062e-01 &  6.761632e-05 & 6.845594e-05 & 98125.00 & 1703 & 3695\\\\\n",
       "\\end{tabular}\n"
      ],
      "text/markdown": [
       "\n",
       "A data.frame: 6 × 23\n",
       "\n",
       "| <!--/--> | celltype &lt;chr&gt; | Region &lt;chr&gt; | Group &lt;chr&gt; | min_MAF &lt;int&gt; | max_MAF &lt;dbl&gt; | Weight &lt;chr&gt; | Pvalue &lt;dbl&gt; | Pvalue_ACATV &lt;dbl&gt; | Pvalue_SKATO &lt;lgl&gt; | Pvalue_Burden &lt;dbl&gt; | ⋯ ⋯ | Pvalue_cond &lt;dbl&gt; | Pvalue_ACATV_cond &lt;dbl&gt; | Pvalue_SKATO_cond &lt;lgl&gt; | Pvalue_Burden_cond &lt;dbl&gt; | Pvalue_SKAT_cond &lt;dbl&gt; | BETA_Burden_cond &lt;dbl&gt; | SE_Burden_cond &lt;dbl&gt; | MAC &lt;dbl&gt; | Number_rare &lt;int&gt; | Number_ultra_rare &lt;int&gt; |\n",
       "|---|---|---|---|---|---|---|---|---|---|---|---|---|---|---|---|---|---|---|---|---|---|\n",
       "| 1 | CD4_NC | LINC00969 | null   |  0 | 0.05 | dTSS          | 1.923482e-38 | 2.879839e-31 | NA | 4.125166e-10 | ⋯ | 9.495110e-07 | 3.418401e-07 | NA | 0.3107139 | 4.270310e-06 |  3.180032e-02 | 3.219778e-02 | 84390.16 | 1749 | 3255 |\n",
       "| 2 | CD4_NC | LINC00969 | null   |  0 | 0.05 | Beta_1_25     | 7.828874e-30 | 2.609625e-30 | NA | 2.694507e-01 | ⋯ | 7.019438e-05 | 2.340261e-05 | NA | 0.6606641 | 9.767935e-02 | -2.772587e-04 | 3.346303e-04 | 85095.00 | 1749 | 3255 |\n",
       "| 3 | CD4_NC | LINC00969 | null   |  0 | 0.05 | Equal_Weights | 8.814237e-30 | 2.938079e-30 | NA | 1.134367e-01 | ⋯ | 9.427627e-06 | 3.142622e-06 | NA | 0.7531078 | 8.655739e-02 | -2.254255e-03 | 1.647120e-03 | 85095.00 | 1749 | 3255 |\n",
       "| 4 | CD4_NC | LINC00969 | Cauchy | NA |   NA | NA            | 5.770447e-38 | 7.149714e-31 | NA | 1.237550e-09 | ⋯ | 2.556474e-06 | 9.128863e-07 | NA | 0.5923713 | 1.280977e-05 |            NA |           NA |       NA |   NA |   NA |\n",
       "| 5 | B_Mem  | RPS3A     | null   |  0 | 0.05 | dTSS          | 7.000958e-98 | 2.333653e-98 | NA | 1.794583e-21 | ⋯ | 1.131633e-02 | 3.830450e-03 | NA | 0.7036219 | 1.477248e-01 | -4.184013e-03 | 3.911418e-03 | 97627.32 | 1703 | 3695 |\n",
       "| 6 | B_Mem  | RPS3A     | null   |  0 | 0.05 | Beta_1_25     | 5.324147e-97 | 1.774716e-97 | NA | 5.650971e-18 | ⋯ | 1.000000e+00 | 1.000000e+00 | NA | 0.6893001 | 9.992062e-01 |  6.761632e-05 | 6.845594e-05 | 98125.00 | 1703 | 3695 |\n",
       "\n"
      ],
      "text/plain": [
       "  celltype Region    Group  min_MAF max_MAF Weight        Pvalue      \n",
       "1 CD4_NC   LINC00969 null    0      0.05    dTSS          1.923482e-38\n",
       "2 CD4_NC   LINC00969 null    0      0.05    Beta_1_25     7.828874e-30\n",
       "3 CD4_NC   LINC00969 null    0      0.05    Equal_Weights 8.814237e-30\n",
       "4 CD4_NC   LINC00969 Cauchy NA        NA    NA            5.770447e-38\n",
       "5 B_Mem    RPS3A     null    0      0.05    dTSS          7.000958e-98\n",
       "6 B_Mem    RPS3A     null    0      0.05    Beta_1_25     5.324147e-97\n",
       "  Pvalue_ACATV Pvalue_SKATO Pvalue_Burden ⋯ Pvalue_cond  Pvalue_ACATV_cond\n",
       "1 2.879839e-31 NA           4.125166e-10  ⋯ 9.495110e-07 3.418401e-07     \n",
       "2 2.609625e-30 NA           2.694507e-01  ⋯ 7.019438e-05 2.340261e-05     \n",
       "3 2.938079e-30 NA           1.134367e-01  ⋯ 9.427627e-06 3.142622e-06     \n",
       "4 7.149714e-31 NA           1.237550e-09  ⋯ 2.556474e-06 9.128863e-07     \n",
       "5 2.333653e-98 NA           1.794583e-21  ⋯ 1.131633e-02 3.830450e-03     \n",
       "6 1.774716e-97 NA           5.650971e-18  ⋯ 1.000000e+00 1.000000e+00     \n",
       "  Pvalue_SKATO_cond Pvalue_Burden_cond Pvalue_SKAT_cond BETA_Burden_cond\n",
       "1 NA                0.3107139          4.270310e-06      3.180032e-02   \n",
       "2 NA                0.6606641          9.767935e-02     -2.772587e-04   \n",
       "3 NA                0.7531078          8.655739e-02     -2.254255e-03   \n",
       "4 NA                0.5923713          1.280977e-05                NA   \n",
       "5 NA                0.7036219          1.477248e-01     -4.184013e-03   \n",
       "6 NA                0.6893001          9.992062e-01      6.761632e-05   \n",
       "  SE_Burden_cond MAC      Number_rare Number_ultra_rare\n",
       "1 3.219778e-02   84390.16 1749        3255             \n",
       "2 3.346303e-04   85095.00 1749        3255             \n",
       "3 1.647120e-03   85095.00 1749        3255             \n",
       "4           NA         NA   NA          NA             \n",
       "5 3.911418e-03   97627.32 1703        3695             \n",
       "6 6.845594e-05   98125.00 1703        3695             "
      ]
     },
     "metadata": {},
     "output_type": "display_data"
    }
   ],
   "source": [
    "# conditional results\n",
    "myfile = paste0(saige_dir, \"all_cis_rare_with_dTSS_weights_cond.results.txt\")\n",
    "df_cond = as.data.frame(fread(myfile))\n",
    "head(df_cond)"
   ]
  },
  {
   "cell_type": "code",
   "execution_count": 5,
   "id": "1f12b5a0",
   "metadata": {},
   "outputs": [],
   "source": [
    "celltypes = unique(df_all$celltype)"
   ]
  },
  {
   "cell_type": "code",
   "execution_count": 6,
   "id": "ad1efe48",
   "metadata": {},
   "outputs": [
    {
     "data": {
      "text/html": [
       "<table class=\"dataframe\">\n",
       "<caption>A data.frame: 6 × 3</caption>\n",
       "<thead>\n",
       "\t<tr><th></th><th scope=col>celltype</th><th scope=col>n_cauchy</th><th scope=col>n_cauchy_cond</th></tr>\n",
       "\t<tr><th></th><th scope=col>&lt;chr&gt;</th><th scope=col>&lt;int&gt;</th><th scope=col>&lt;int&gt;</th></tr>\n",
       "</thead>\n",
       "<tbody>\n",
       "\t<tr><th scope=row>1</th><td>Plasma </td><td> 16</td><td>  1</td></tr>\n",
       "\t<tr><th scope=row>2</th><td>NK     </td><td>832</td><td>117</td></tr>\n",
       "\t<tr><th scope=row>3</th><td>NK_R   </td><td> 46</td><td>  8</td></tr>\n",
       "\t<tr><th scope=row>4</th><td>Mono_NC</td><td>162</td><td> 12</td></tr>\n",
       "\t<tr><th scope=row>5</th><td>Mono_C </td><td>241</td><td> 34</td></tr>\n",
       "\t<tr><th scope=row>6</th><td>DC     </td><td> 71</td><td> 10</td></tr>\n",
       "</tbody>\n",
       "</table>\n"
      ],
      "text/latex": [
       "A data.frame: 6 × 3\n",
       "\\begin{tabular}{r|lll}\n",
       "  & celltype & n\\_cauchy & n\\_cauchy\\_cond\\\\\n",
       "  & <chr> & <int> & <int>\\\\\n",
       "\\hline\n",
       "\t1 & Plasma  &  16 &   1\\\\\n",
       "\t2 & NK      & 832 & 117\\\\\n",
       "\t3 & NK\\_R    &  46 &   8\\\\\n",
       "\t4 & Mono\\_NC & 162 &  12\\\\\n",
       "\t5 & Mono\\_C  & 241 &  34\\\\\n",
       "\t6 & DC      &  71 &  10\\\\\n",
       "\\end{tabular}\n"
      ],
      "text/markdown": [
       "\n",
       "A data.frame: 6 × 3\n",
       "\n",
       "| <!--/--> | celltype &lt;chr&gt; | n_cauchy &lt;int&gt; | n_cauchy_cond &lt;int&gt; |\n",
       "|---|---|---|---|\n",
       "| 1 | Plasma  |  16 |   1 |\n",
       "| 2 | NK      | 832 | 117 |\n",
       "| 3 | NK_R    |  46 |   8 |\n",
       "| 4 | Mono_NC | 162 |  12 |\n",
       "| 5 | Mono_C  | 241 |  34 |\n",
       "| 6 | DC      |  71 |  10 |\n",
       "\n"
      ],
      "text/plain": [
       "  celltype n_cauchy n_cauchy_cond\n",
       "1 Plasma    16        1          \n",
       "2 NK       832      117          \n",
       "3 NK_R      46        8          \n",
       "4 Mono_NC  162       12          \n",
       "5 Mono_C   241       34          \n",
       "6 DC        71       10          "
      ]
     },
     "metadata": {},
     "output_type": "display_data"
    }
   ],
   "source": [
    "df_to_plot = data.frame()\n",
    "for (celltype in celltypes){\n",
    "    # all results\n",
    "    df0 = df_all[df_all$celltype == celltype & df_all$Group == \"Cauchy\",]\n",
    "    df0 <- df0[rowSums(is.na(df0)) != ncol(df0), ]\n",
    "    df0$qv = qvalue(df0$Pvalue)$qvalues\n",
    "    # conditional results\n",
    "    df1 = df_cond[df_cond$celltype == celltype & df_cond$Group == \"Cauchy\",]\n",
    "    df1 <- df1[rowSums(is.na(df1)) != ncol(df1), ]\n",
    "    df1$qv = qvalue(df1$Pvalue_cond)$qvalues\n",
    "    # combine\n",
    "    new_df = data.frame(celltype = celltype,\n",
    "                       n_cauchy = nrow(df0[df0$qv < 0.05,]),\n",
    "                       n_cauchy_cond = nrow(df1[df1$qv < 0.05,]))\n",
    "    df_to_plot = rbind(df_to_plot, new_df)\n",
    "}\n",
    "head(df_to_plot)"
   ]
  },
  {
   "cell_type": "code",
   "execution_count": 7,
   "id": "7e7433ae",
   "metadata": {},
   "outputs": [],
   "source": [
    "df_to_plot$celltype <- factor(df_to_plot$celltype, \n",
    "                                    levels = c(\"CD4_NC\",\"CD4_ET\",\"CD4_SOX4\",\"CD8_ET\",\"CD8_NC\",\"CD8_S100B\",\"NK\",\n",
    "                                               \"NK_R\",\"Plasma\",\"B_Mem\",\"B_IN\",\"Mono_C\",\"Mono_NC\",\"DC\"))\n",
    "\n",
    "df_colours = data.frame(colours = c(\"#882E72\",\"#B178A6\",\"#D6C1DE\",\"#1965B0\",\"#5289C7\",\"#7BAFDE\",\"#4EB265\",\n",
    "                                    \"#90C987\",\"#CAE0AB\",\"#F7EE55\",\"#F6C141\",\"#F1932D\",\"#E8601C\",\"#DC050C\"),\n",
    "                        celltype = c(\"CD4_NC\",\"CD4_ET\",\"CD4_SOX4\",\"CD8_ET\",\"CD8_NC\",\"CD8_S100B\",\"NK\",\"NK_R\",\n",
    "                                     \"Plasma\",\"B_Mem\",\"B_IN\",\"Mono_C\",\"Mono_NC\",\"DC\"))\n",
    "# df_colours"
   ]
  },
  {
   "cell_type": "code",
   "execution_count": 8,
   "id": "62e3e869",
   "metadata": {},
   "outputs": [
    {
     "data": {
      "image/png": "[encoded data removed]",
      "text/plain": [
       "plot without title"
      ]
     },
     "metadata": {
      "image/png": {
       "height": 360,
       "width": 600
      }
     },
     "output_type": "display_data"
    }
   ],
   "source": [
    "options(repr.plot.width = 10, repr.plot.height = 6)\n",
    "p = ggplot(df_to_plot, aes(x=celltype, y=n_cauchy, fill=celltype)) + geom_bar(stat = \"identity\", alpha=0.5)\n",
    "p = p + geom_bar(aes(x=celltype, y=n_cauchy_cond, fill=celltype), stat = \"identity\")\n",
    "p = p + scale_fill_manual(values = df_colours$colours) + theme_classic()\n",
    "p "
   ]
  },
  {
   "cell_type": "code",
   "execution_count": 9,
   "id": "b53a440d",
   "metadata": {},
   "outputs": [
    {
     "data": {
      "text/html": [
       "<strong>png:</strong> 2"
      ],
      "text/latex": [
       "\\textbf{png:} 2"
      ],
      "text/markdown": [
       "**png:** 2"
      ],
      "text/plain": [
       "png \n",
       "  2 "
      ]
     },
     "metadata": {},
     "output_type": "display_data"
    }
   ],
   "source": [
    "fig_dir <- \"/share/ScratchGeneral/anncuo/OneK1K/saige_eqtl/ms_figures/\"\n",
    "pdf(paste0(fig_dir,\"RV_eGenes_Cauchy_conditional.pdf\"), width=10, height=6)\n",
    "p\n",
    "dev.off()"
   ]
  },
  {
   "cell_type": "code",
   "execution_count": 10,
   "id": "7ddb4b3b",
   "metadata": {},
   "outputs": [
    {
     "data": {
      "text/html": [
       "763"
      ],
      "text/latex": [
       "763"
      ],
      "text/markdown": [
       "763"
      ],
      "text/plain": [
       "[1] 763"
      ]
     },
     "metadata": {},
     "output_type": "display_data"
    },
    {
     "data": {
      "text/html": [
       "481"
      ],
      "text/latex": [
       "481"
      ],
      "text/markdown": [
       "481"
      ],
      "text/plain": [
       "[1] 481"
      ]
     },
     "metadata": {},
     "output_type": "display_data"
    }
   ],
   "source": [
    "# Number of eQTLs\n",
    "sum(df_to_plot$n_cauchy_cond)\n",
    "# Number of unique eGenes\n",
    "df_cond$qv = qvalue(df_cond$Pvalue_cond)$qvalues\n",
    "length(unique(df_cond[df_cond$qv < 0.05,\"Region\"]))"
   ]
  },
  {
   "cell_type": "code",
   "execution_count": null,
   "id": "b037917f",
   "metadata": {},
   "outputs": [],
   "source": []
  }
 ],
 "metadata": {
  "kernelspec": {
   "display_name": "Single Cell Notebook (R 4.1.2)",
   "language": "R",
   "name": "singlecell"
  },
  "language_info": {
   "codemirror_mode": "r",
   "file_extension": ".r",
   "mimetype": "text/x-r-source",
   "name": "R",
   "pygments_lexer": "r",
   "version": "4.1.2"
  }
 },
 "nbformat": 4,
 "nbformat_minor": 5
}
