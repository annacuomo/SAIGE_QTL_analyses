{
 "cells": [
  {
   "cell_type": "code",
   "execution_count": 13,
   "id": "90be49f3",
   "metadata": {},
   "outputs": [],
   "source": [
    "# load useful libraries\n",
    "library(data.table)\n",
    "library(ggplot2)\n",
    "library(qvalue)"
   ]
  },
  {
   "cell_type": "code",
   "execution_count": 14,
   "id": "f8053278",
   "metadata": {},
   "outputs": [],
   "source": [
    "# load rare variant results\n",
    "saige_dir = \"/directflow/SCCGGroupShare/projects/anncuo/OneK1K/saige_eqtl/from_wei/Feb24/\"\n",
    "myfile = paste0(saige_dir, \"all_cis_rare_with_dTSS_weights.results.txt\")\n",
    "df = as.data.frame(fread(myfile))"
   ]
  },
  {
   "cell_type": "code",
   "execution_count": 15,
   "id": "83c8f9ee",
   "metadata": {},
   "outputs": [
    {
     "data": {
      "text/html": [
       "<table class=\"dataframe\">\n",
       "<caption>A data.frame: 6 × 16</caption>\n",
       "<thead>\n",
       "\t<tr><th></th><th scope=col>celltype</th><th scope=col>Region</th><th scope=col>Group</th><th scope=col>min_MAF</th><th scope=col>max_MAF</th><th scope=col>Weight</th><th scope=col>Pvalue</th><th scope=col>Pvalue_ACATV</th><th scope=col>Pvalue_SKATO</th><th scope=col>Pvalue_Burden</th><th scope=col>Pvalue_SKAT</th><th scope=col>BETA_Burden</th><th scope=col>SE_Burden</th><th scope=col>MAC</th><th scope=col>Number_rare</th><th scope=col>Number_ultra_rare</th></tr>\n",
       "\t<tr><th></th><th scope=col>&lt;chr&gt;</th><th scope=col>&lt;chr&gt;</th><th scope=col>&lt;chr&gt;</th><th scope=col>&lt;int&gt;</th><th scope=col>&lt;dbl&gt;</th><th scope=col>&lt;chr&gt;</th><th scope=col>&lt;dbl&gt;</th><th scope=col>&lt;dbl&gt;</th><th scope=col>&lt;lgl&gt;</th><th scope=col>&lt;dbl&gt;</th><th scope=col>&lt;dbl&gt;</th><th scope=col>&lt;dbl&gt;</th><th scope=col>&lt;dbl&gt;</th><th scope=col>&lt;dbl&gt;</th><th scope=col>&lt;int&gt;</th><th scope=col>&lt;int&gt;</th></tr>\n",
       "</thead>\n",
       "<tbody>\n",
       "\t<tr><th scope=row>1</th><td>Plasma</td><td>A1BG</td><td>null  </td><td> 0</td><td>0.05</td><td>dTSS         </td><td>0.8766689</td><td>0.6772141</td><td>NA</td><td>0.9442545</td><td>0.7618615</td><td> 0.007958452</td><td>0.002500256</td><td>23392.80</td><td> 561</td><td>1340</td></tr>\n",
       "\t<tr><th scope=row>2</th><td>Plasma</td><td>A1BG</td><td>null  </td><td> 0</td><td>0.05</td><td>Beta_1_25    </td><td>0.6739423</td><td>0.5819687</td><td>NA</td><td>0.4340790</td><td>0.8364173</td><td>-0.002087573</td><td>0.006287923</td><td>23904.00</td><td> 561</td><td>1340</td></tr>\n",
       "\t<tr><th scope=row>3</th><td>Plasma</td><td>A1BG</td><td>null  </td><td> 0</td><td>0.05</td><td>Equal_Weights</td><td>0.7201885</td><td>0.5936323</td><td>NA</td><td>0.5116708</td><td>0.8611497</td><td>-0.022259367</td><td>0.380390295</td><td>23904.00</td><td> 561</td><td>1340</td></tr>\n",
       "\t<tr><th scope=row>4</th><td>Plasma</td><td>A1BG</td><td>Cauchy</td><td>NA</td><td>  NA</td><td>NA           </td><td>0.7907711</td><td>0.6200851</td><td>NA</td><td>0.8405194</td><td>0.8278134</td><td>          NA</td><td>         NA</td><td>      NA</td><td>  NA</td><td>  NA</td></tr>\n",
       "\t<tr><th scope=row>5</th><td>Plasma</td><td>AAAS</td><td>null  </td><td> 0</td><td>0.05</td><td>dTSS         </td><td>0.6182132</td><td>0.7822394</td><td>NA</td><td>0.3631167</td><td>0.6213246</td><td> 0.183845477</td><td>0.262531214</td><td>60774.94</td><td>1300</td><td>2874</td></tr>\n",
       "\t<tr><th scope=row>6</th><td>Plasma</td><td>AAAS</td><td>null  </td><td> 0</td><td>0.05</td><td>Beta_1_25    </td><td>0.6642145</td><td>0.8399541</td><td>NA</td><td>0.2850562</td><td>0.6909263</td><td> 0.003461475</td><td>0.003047685</td><td>61285.00</td><td>1300</td><td>2874</td></tr>\n",
       "</tbody>\n",
       "</table>\n"
      ],
      "text/latex": [
       "A data.frame: 6 × 16\n",
       "\\begin{tabular}{r|llllllllllllllll}\n",
       "  & celltype & Region & Group & min\\_MAF & max\\_MAF & Weight & Pvalue & Pvalue\\_ACATV & Pvalue\\_SKATO & Pvalue\\_Burden & Pvalue\\_SKAT & BETA\\_Burden & SE\\_Burden & MAC & Number\\_rare & Number\\_ultra\\_rare\\\\\n",
       "  & <chr> & <chr> & <chr> & <int> & <dbl> & <chr> & <dbl> & <dbl> & <lgl> & <dbl> & <dbl> & <dbl> & <dbl> & <dbl> & <int> & <int>\\\\\n",
       "\\hline\n",
       "\t1 & Plasma & A1BG & null   &  0 & 0.05 & dTSS          & 0.8766689 & 0.6772141 & NA & 0.9442545 & 0.7618615 &  0.007958452 & 0.002500256 & 23392.80 &  561 & 1340\\\\\n",
       "\t2 & Plasma & A1BG & null   &  0 & 0.05 & Beta\\_1\\_25     & 0.6739423 & 0.5819687 & NA & 0.4340790 & 0.8364173 & -0.002087573 & 0.006287923 & 23904.00 &  561 & 1340\\\\\n",
       "\t3 & Plasma & A1BG & null   &  0 & 0.05 & Equal\\_Weights & 0.7201885 & 0.5936323 & NA & 0.5116708 & 0.8611497 & -0.022259367 & 0.380390295 & 23904.00 &  561 & 1340\\\\\n",
       "\t4 & Plasma & A1BG & Cauchy & NA &   NA & NA            & 0.7907711 & 0.6200851 & NA & 0.8405194 & 0.8278134 &           NA &          NA &       NA &   NA &   NA\\\\\n",
       "\t5 & Plasma & AAAS & null   &  0 & 0.05 & dTSS          & 0.6182132 & 0.7822394 & NA & 0.3631167 & 0.6213246 &  0.183845477 & 0.262531214 & 60774.94 & 1300 & 2874\\\\\n",
       "\t6 & Plasma & AAAS & null   &  0 & 0.05 & Beta\\_1\\_25     & 0.6642145 & 0.8399541 & NA & 0.2850562 & 0.6909263 &  0.003461475 & 0.003047685 & 61285.00 & 1300 & 2874\\\\\n",
       "\\end{tabular}\n"
      ],
      "text/markdown": [
       "\n",
       "A data.frame: 6 × 16\n",
       "\n",
       "| <!--/--> | celltype &lt;chr&gt; | Region &lt;chr&gt; | Group &lt;chr&gt; | min_MAF &lt;int&gt; | max_MAF &lt;dbl&gt; | Weight &lt;chr&gt; | Pvalue &lt;dbl&gt; | Pvalue_ACATV &lt;dbl&gt; | Pvalue_SKATO &lt;lgl&gt; | Pvalue_Burden &lt;dbl&gt; | Pvalue_SKAT &lt;dbl&gt; | BETA_Burden &lt;dbl&gt; | SE_Burden &lt;dbl&gt; | MAC &lt;dbl&gt; | Number_rare &lt;int&gt; | Number_ultra_rare &lt;int&gt; |\n",
       "|---|---|---|---|---|---|---|---|---|---|---|---|---|---|---|---|---|\n",
       "| 1 | Plasma | A1BG | null   |  0 | 0.05 | dTSS          | 0.8766689 | 0.6772141 | NA | 0.9442545 | 0.7618615 |  0.007958452 | 0.002500256 | 23392.80 |  561 | 1340 |\n",
       "| 2 | Plasma | A1BG | null   |  0 | 0.05 | Beta_1_25     | 0.6739423 | 0.5819687 | NA | 0.4340790 | 0.8364173 | -0.002087573 | 0.006287923 | 23904.00 |  561 | 1340 |\n",
       "| 3 | Plasma | A1BG | null   |  0 | 0.05 | Equal_Weights | 0.7201885 | 0.5936323 | NA | 0.5116708 | 0.8611497 | -0.022259367 | 0.380390295 | 23904.00 |  561 | 1340 |\n",
       "| 4 | Plasma | A1BG | Cauchy | NA |   NA | NA            | 0.7907711 | 0.6200851 | NA | 0.8405194 | 0.8278134 |           NA |          NA |       NA |   NA |   NA |\n",
       "| 5 | Plasma | AAAS | null   |  0 | 0.05 | dTSS          | 0.6182132 | 0.7822394 | NA | 0.3631167 | 0.6213246 |  0.183845477 | 0.262531214 | 60774.94 | 1300 | 2874 |\n",
       "| 6 | Plasma | AAAS | null   |  0 | 0.05 | Beta_1_25     | 0.6642145 | 0.8399541 | NA | 0.2850562 | 0.6909263 |  0.003461475 | 0.003047685 | 61285.00 | 1300 | 2874 |\n",
       "\n"
      ],
      "text/plain": [
       "  celltype Region Group  min_MAF max_MAF Weight        Pvalue    Pvalue_ACATV\n",
       "1 Plasma   A1BG   null    0      0.05    dTSS          0.8766689 0.6772141   \n",
       "2 Plasma   A1BG   null    0      0.05    Beta_1_25     0.6739423 0.5819687   \n",
       "3 Plasma   A1BG   null    0      0.05    Equal_Weights 0.7201885 0.5936323   \n",
       "4 Plasma   A1BG   Cauchy NA        NA    NA            0.7907711 0.6200851   \n",
       "5 Plasma   AAAS   null    0      0.05    dTSS          0.6182132 0.7822394   \n",
       "6 Plasma   AAAS   null    0      0.05    Beta_1_25     0.6642145 0.8399541   \n",
       "  Pvalue_SKATO Pvalue_Burden Pvalue_SKAT BETA_Burden  SE_Burden   MAC     \n",
       "1 NA           0.9442545     0.7618615    0.007958452 0.002500256 23392.80\n",
       "2 NA           0.4340790     0.8364173   -0.002087573 0.006287923 23904.00\n",
       "3 NA           0.5116708     0.8611497   -0.022259367 0.380390295 23904.00\n",
       "4 NA           0.8405194     0.8278134             NA          NA       NA\n",
       "5 NA           0.3631167     0.6213246    0.183845477 0.262531214 60774.94\n",
       "6 NA           0.2850562     0.6909263    0.003461475 0.003047685 61285.00\n",
       "  Number_rare Number_ultra_rare\n",
       "1  561        1340             \n",
       "2  561        1340             \n",
       "3  561        1340             \n",
       "4   NA          NA             \n",
       "5 1300        2874             \n",
       "6 1300        2874             "
      ]
     },
     "metadata": {},
     "output_type": "display_data"
    }
   ],
   "source": [
    "head(df)"
   ]
  },
  {
   "cell_type": "code",
   "execution_count": 16,
   "id": "efdcfb4a",
   "metadata": {},
   "outputs": [
    {
     "data": {
      "text/html": [
       "14"
      ],
      "text/latex": [
       "14"
      ],
      "text/markdown": [
       "14"
      ],
      "text/plain": [
       "[1] 14"
      ]
     },
     "metadata": {},
     "output_type": "display_data"
    }
   ],
   "source": [
    "# extract unique cell types\n",
    "celltypes = unique(df$celltype)\n",
    "length(celltypes)"
   ]
  },
  {
   "cell_type": "code",
   "execution_count": 17,
   "id": "9b2f60df",
   "metadata": {},
   "outputs": [
    {
     "data": {
      "text/html": [
       "<table class=\"dataframe\">\n",
       "<caption>A data.frame: 2 × 2</caption>\n",
       "<thead>\n",
       "\t<tr><th></th><th scope=col>celltype</th><th scope=col>n_cauchy</th></tr>\n",
       "\t<tr><th></th><th scope=col>&lt;chr&gt;</th><th scope=col>&lt;int&gt;</th></tr>\n",
       "</thead>\n",
       "<tbody>\n",
       "\t<tr><th scope=row>1</th><td>Plasma</td><td> 16</td></tr>\n",
       "\t<tr><th scope=row>2</th><td>NK    </td><td>832</td></tr>\n",
       "</tbody>\n",
       "</table>\n"
      ],
      "text/latex": [
       "A data.frame: 2 × 2\n",
       "\\begin{tabular}{r|ll}\n",
       "  & celltype & n\\_cauchy\\\\\n",
       "  & <chr> & <int>\\\\\n",
       "\\hline\n",
       "\t1 & Plasma &  16\\\\\n",
       "\t2 & NK     & 832\\\\\n",
       "\\end{tabular}\n"
      ],
      "text/markdown": [
       "\n",
       "A data.frame: 2 × 2\n",
       "\n",
       "| <!--/--> | celltype &lt;chr&gt; | n_cauchy &lt;int&gt; |\n",
       "|---|---|---|\n",
       "| 1 | Plasma |  16 |\n",
       "| 2 | NK     | 832 |\n",
       "\n"
      ],
      "text/plain": [
       "  celltype n_cauchy\n",
       "1 Plasma    16     \n",
       "2 NK       832     "
      ]
     },
     "metadata": {},
     "output_type": "display_data"
    }
   ],
   "source": [
    "# extract Cauchy results per gene\n",
    "df_to_plot = data.frame()\n",
    "for (celltype in celltypes){\n",
    "    df0 = df[df$celltype == celltype & df$Group == \"Cauchy\",]\n",
    "    df0 <- df0[rowSums(is.na(df0)) != ncol(df0), ]\n",
    "    df0$qv = qvalue(df0$Pvalue)$qvalues\n",
    "    new_df = data.frame(celltype = celltype,\n",
    "                       n_cauchy = nrow(df0[df0$qv < 0.05,]))\n",
    "    df_to_plot = rbind(df_to_plot, new_df)\n",
    "}\n",
    "head(df_to_plot,2)"
   ]
  },
  {
   "cell_type": "code",
   "execution_count": 18,
   "id": "8d92a230",
   "metadata": {},
   "outputs": [
    {
     "data": {
      "text/html": [
       "<table class=\"dataframe\">\n",
       "<caption>A data.frame: 6 × 2</caption>\n",
       "<thead>\n",
       "\t<tr><th></th><th scope=col>colours</th><th scope=col>celltype</th></tr>\n",
       "\t<tr><th></th><th scope=col>&lt;chr&gt;</th><th scope=col>&lt;chr&gt;</th></tr>\n",
       "</thead>\n",
       "<tbody>\n",
       "\t<tr><th scope=row>1</th><td>#882E72</td><td>CD4_NC   </td></tr>\n",
       "\t<tr><th scope=row>2</th><td>#B178A6</td><td>CD4_ET   </td></tr>\n",
       "\t<tr><th scope=row>3</th><td>#D6C1DE</td><td>CD4_SOX4 </td></tr>\n",
       "\t<tr><th scope=row>4</th><td>#1965B0</td><td>CD8_ET   </td></tr>\n",
       "\t<tr><th scope=row>5</th><td>#5289C7</td><td>CD8_NC   </td></tr>\n",
       "\t<tr><th scope=row>6</th><td>#7BAFDE</td><td>CD8_S100B</td></tr>\n",
       "</tbody>\n",
       "</table>\n"
      ],
      "text/latex": [
       "A data.frame: 6 × 2\n",
       "\\begin{tabular}{r|ll}\n",
       "  & colours & celltype\\\\\n",
       "  & <chr> & <chr>\\\\\n",
       "\\hline\n",
       "\t1 & \\#882E72 & CD4\\_NC   \\\\\n",
       "\t2 & \\#B178A6 & CD4\\_ET   \\\\\n",
       "\t3 & \\#D6C1DE & CD4\\_SOX4 \\\\\n",
       "\t4 & \\#1965B0 & CD8\\_ET   \\\\\n",
       "\t5 & \\#5289C7 & CD8\\_NC   \\\\\n",
       "\t6 & \\#7BAFDE & CD8\\_S100B\\\\\n",
       "\\end{tabular}\n"
      ],
      "text/markdown": [
       "\n",
       "A data.frame: 6 × 2\n",
       "\n",
       "| <!--/--> | colours &lt;chr&gt; | celltype &lt;chr&gt; |\n",
       "|---|---|---|\n",
       "| 1 | #882E72 | CD4_NC    |\n",
       "| 2 | #B178A6 | CD4_ET    |\n",
       "| 3 | #D6C1DE | CD4_SOX4  |\n",
       "| 4 | #1965B0 | CD8_ET    |\n",
       "| 5 | #5289C7 | CD8_NC    |\n",
       "| 6 | #7BAFDE | CD8_S100B |\n",
       "\n"
      ],
      "text/plain": [
       "  colours celltype \n",
       "1 #882E72 CD4_NC   \n",
       "2 #B178A6 CD4_ET   \n",
       "3 #D6C1DE CD4_SOX4 \n",
       "4 #1965B0 CD8_ET   \n",
       "5 #5289C7 CD8_NC   \n",
       "6 #7BAFDE CD8_S100B"
      ]
     },
     "metadata": {},
     "output_type": "display_data"
    }
   ],
   "source": [
    "# specify OneK1K cell type colours\n",
    "df_to_plot$celltype <- factor(df_to_plot$celltype, \n",
    "                                    levels = c(\"CD4_NC\",\"CD4_ET\",\"CD4_SOX4\",\"CD8_ET\",\"CD8_NC\",\"CD8_S100B\",\"NK\",\n",
    "                                               \"NK_R\",\"Plasma\",\"B_Mem\",\"B_IN\",\"Mono_C\",\"Mono_NC\",\"DC\"))\n",
    "\n",
    "df_colours = data.frame(colours = c(\"#882E72\",\"#B178A6\",\"#D6C1DE\",\"#1965B0\",\"#5289C7\",\"#7BAFDE\",\"#4EB265\",\n",
    "                                    \"#90C987\",\"#CAE0AB\",\"#F7EE55\",\"#F6C141\",\"#F1932D\",\"#E8601C\",\"#DC050C\"),\n",
    "                        celltype = c(\"CD4_NC\",\"CD4_ET\",\"CD4_SOX4\",\"CD8_ET\",\"CD8_NC\",\"CD8_S100B\",\"NK\",\"NK_R\",\n",
    "                                     \"Plasma\",\"B_Mem\",\"B_IN\",\"Mono_C\",\"Mono_NC\",\"DC\"))\n",
    "head(df_colours)"
   ]
  },
  {
   "cell_type": "code",
   "execution_count": 23,
   "id": "79b5d2ae",
   "metadata": {},
   "outputs": [
    {
     "data": {
      "image/png": "[encoded data removed]",
      "text/plain": [
       "plot without title"
      ]
     },
     "metadata": {
      "image/png": {
       "height": 360,
       "width": 600
      }
     },
     "output_type": "display_data"
    }
   ],
   "source": [
    "# plot\n",
    "options(repr.plot.width = 10, repr.plot.height = 6)\n",
    "p = ggplot(df_to_plot, aes(x=celltype, y=n_cauchy, fill=celltype)) + geom_bar(stat = \"identity\")\n",
    "p = p + scale_fill_manual(values = df_colours$colours) + theme_classic()\n",
    "p = p + theme(axis.text.x = element_text(angle = 90, vjust = 0.5, hjust=1), legend.position = \"none\")\n",
    "p = p + ylab(\"Number of RV eGenes\") + xlab(\"\") \n",
    "p = p + theme(text = element_text(size=20))\n",
    "p "
   ]
  },
  {
   "cell_type": "code",
   "execution_count": 24,
   "id": "f6d07485",
   "metadata": {},
   "outputs": [
    {
     "data": {
      "text/html": [
       "<strong>png:</strong> 2"
      ],
      "text/latex": [
       "\\textbf{png:} 2"
      ],
      "text/markdown": [
       "**png:** 2"
      ],
      "text/plain": [
       "png \n",
       "  2 "
      ]
     },
     "metadata": {},
     "output_type": "display_data"
    }
   ],
   "source": [
    "# save\n",
    "fig_dir <- \"/share/ScratchGeneral/anncuo/OneK1K/saige_eqtl/ms_figures/\"\n",
    "pdf(paste0(fig_dir,\"RV_eGenes_Cauchy.pdf\"), width=10, height=6)\n",
    "p\n",
    "dev.off()"
   ]
  },
  {
   "cell_type": "code",
   "execution_count": null,
   "id": "800f9e46",
   "metadata": {},
   "outputs": [],
   "source": []
  }
 ],
 "metadata": {
  "kernelspec": {
   "display_name": "Single Cell Notebook (R 4.1.2)",
   "language": "R",
   "name": "singlecell"
  },
  "language_info": {
   "codemirror_mode": "r",
   "file_extension": ".r",
   "mimetype": "text/x-r-source",
   "name": "R",
   "pygments_lexer": "r",
   "version": "4.1.2"
  }
 },
 "nbformat": 4,
 "nbformat_minor": 5
}
