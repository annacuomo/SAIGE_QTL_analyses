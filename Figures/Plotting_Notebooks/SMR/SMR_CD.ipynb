{
 "cells": [
  {
   "cell_type": "code",
   "execution_count": 2,
   "id": "389cd9e3",
   "metadata": {},
   "outputs": [],
   "source": [
    "library(data.table)\n",
    "library(qvalue)"
   ]
  },
  {
   "cell_type": "code",
   "execution_count": 3,
   "id": "27ce71e4",
   "metadata": {},
   "outputs": [],
   "source": [
    "## CD (Crohn's disease) SMR (summarised Mendelian Randomisation) results"
   ]
  },
  {
   "cell_type": "code",
   "execution_count": 4,
   "id": "b51e56f6",
   "metadata": {},
   "outputs": [
    {
     "data": {
      "text/html": [
       "<table class=\"dataframe\">\n",
       "<caption>A data.table: 2 × 22</caption>\n",
       "<thead>\n",
       "\t<tr><th scope=col>probeID</th><th scope=col>ProbeChr</th><th scope=col>Gene</th><th scope=col>Probe_bp</th><th scope=col>topSNP</th><th scope=col>topSNP_chr</th><th scope=col>topSNP_bp</th><th scope=col>A1</th><th scope=col>A2</th><th scope=col>Freq</th><th scope=col>⋯</th><th scope=col>p_GWAS</th><th scope=col>b_eQTL</th><th scope=col>se_eQTL</th><th scope=col>p_eQTL</th><th scope=col>b_SMR</th><th scope=col>se_SMR</th><th scope=col>p_SMR</th><th scope=col>p_HEIDI</th><th scope=col>nsnp_HEIDI</th><th scope=col>Cell_type</th></tr>\n",
       "\t<tr><th scope=col>&lt;chr&gt;</th><th scope=col>&lt;int&gt;</th><th scope=col>&lt;chr&gt;</th><th scope=col>&lt;int&gt;</th><th scope=col>&lt;chr&gt;</th><th scope=col>&lt;int&gt;</th><th scope=col>&lt;int&gt;</th><th scope=col>&lt;chr&gt;</th><th scope=col>&lt;chr&gt;</th><th scope=col>&lt;dbl&gt;</th><th scope=col>⋯</th><th scope=col>&lt;dbl&gt;</th><th scope=col>&lt;dbl&gt;</th><th scope=col>&lt;dbl&gt;</th><th scope=col>&lt;dbl&gt;</th><th scope=col>&lt;dbl&gt;</th><th scope=col>&lt;dbl&gt;</th><th scope=col>&lt;dbl&gt;</th><th scope=col>&lt;dbl&gt;</th><th scope=col>&lt;int&gt;</th><th scope=col>&lt;chr&gt;</th></tr>\n",
       "</thead>\n",
       "<tbody>\n",
       "\t<tr><td>FCRL5</td><td>1</td><td>FCRL5</td><td>157483167</td><td>rs12741984</td><td>1</td><td>157534818</td><td>G</td><td>A</td><td>0.787234</td><td>⋯</td><td>0.2133</td><td> 0.113780</td><td>0.00486738</td><td>7.500497e-121</td><td>0.185382</td><td>0.148752</td><td>0.2126742</td><td>0.4619789</td><td>20</td><td>BimmNaive</td></tr>\n",
       "\t<tr><td>RPS8 </td><td>1</td><td>RPS8 </td><td> 45240923</td><td>rs12120833</td><td>1</td><td> 45241285</td><td>C</td><td>G</td><td>0.850097</td><td>⋯</td><td>0.4571</td><td>-0.105432</td><td>0.00500701</td><td> 1.980368e-98</td><td>0.147458</td><td>0.198581</td><td>0.4577494</td><td>0.3150508</td><td>20</td><td>BimmNaive</td></tr>\n",
       "</tbody>\n",
       "</table>\n"
      ],
      "text/latex": [
       "A data.table: 2 × 22\n",
       "\\begin{tabular}{lllllllllllllllllllll}\n",
       " probeID & ProbeChr & Gene & Probe\\_bp & topSNP & topSNP\\_chr & topSNP\\_bp & A1 & A2 & Freq & ⋯ & p\\_GWAS & b\\_eQTL & se\\_eQTL & p\\_eQTL & b\\_SMR & se\\_SMR & p\\_SMR & p\\_HEIDI & nsnp\\_HEIDI & Cell\\_type\\\\\n",
       " <chr> & <int> & <chr> & <int> & <chr> & <int> & <int> & <chr> & <chr> & <dbl> & ⋯ & <dbl> & <dbl> & <dbl> & <dbl> & <dbl> & <dbl> & <dbl> & <dbl> & <int> & <chr>\\\\\n",
       "\\hline\n",
       "\t FCRL5 & 1 & FCRL5 & 157483167 & rs12741984 & 1 & 157534818 & G & A & 0.787234 & ⋯ & 0.2133 &  0.113780 & 0.00486738 & 7.500497e-121 & 0.185382 & 0.148752 & 0.2126742 & 0.4619789 & 20 & BimmNaive\\\\\n",
       "\t RPS8  & 1 & RPS8  &  45240923 & rs12120833 & 1 &  45241285 & C & G & 0.850097 & ⋯ & 0.4571 & -0.105432 & 0.00500701 &  1.980368e-98 & 0.147458 & 0.198581 & 0.4577494 & 0.3150508 & 20 & BimmNaive\\\\\n",
       "\\end{tabular}\n"
      ],
      "text/markdown": [
       "\n",
       "A data.table: 2 × 22\n",
       "\n",
       "| probeID &lt;chr&gt; | ProbeChr &lt;int&gt; | Gene &lt;chr&gt; | Probe_bp &lt;int&gt; | topSNP &lt;chr&gt; | topSNP_chr &lt;int&gt; | topSNP_bp &lt;int&gt; | A1 &lt;chr&gt; | A2 &lt;chr&gt; | Freq &lt;dbl&gt; | ⋯ ⋯ | p_GWAS &lt;dbl&gt; | b_eQTL &lt;dbl&gt; | se_eQTL &lt;dbl&gt; | p_eQTL &lt;dbl&gt; | b_SMR &lt;dbl&gt; | se_SMR &lt;dbl&gt; | p_SMR &lt;dbl&gt; | p_HEIDI &lt;dbl&gt; | nsnp_HEIDI &lt;int&gt; | Cell_type &lt;chr&gt; |\n",
       "|---|---|---|---|---|---|---|---|---|---|---|---|---|---|---|---|---|---|---|---|---|\n",
       "| FCRL5 | 1 | FCRL5 | 157483167 | rs12741984 | 1 | 157534818 | G | A | 0.787234 | ⋯ | 0.2133 |  0.113780 | 0.00486738 | 7.500497e-121 | 0.185382 | 0.148752 | 0.2126742 | 0.4619789 | 20 | BimmNaive |\n",
       "| RPS8  | 1 | RPS8  |  45240923 | rs12120833 | 1 |  45241285 | C | G | 0.850097 | ⋯ | 0.4571 | -0.105432 | 0.00500701 |  1.980368e-98 | 0.147458 | 0.198581 | 0.4577494 | 0.3150508 | 20 | BimmNaive |\n",
       "\n"
      ],
      "text/plain": [
       "  probeID ProbeChr Gene  Probe_bp  topSNP     topSNP_chr topSNP_bp A1 A2\n",
       "1 FCRL5   1        FCRL5 157483167 rs12741984 1          157534818 G  A \n",
       "2 RPS8    1        RPS8   45240923 rs12120833 1           45241285 C  G \n",
       "  Freq     ⋯ p_GWAS b_eQTL    se_eQTL    p_eQTL        b_SMR    se_SMR  \n",
       "1 0.787234 ⋯ 0.2133  0.113780 0.00486738 7.500497e-121 0.185382 0.148752\n",
       "2 0.850097 ⋯ 0.4571 -0.105432 0.00500701  1.980368e-98 0.147458 0.198581\n",
       "  p_SMR     p_HEIDI   nsnp_HEIDI Cell_type\n",
       "1 0.2126742 0.4619789 20         BimmNaive\n",
       "2 0.4577494 0.3150508 20         BimmNaive"
      ]
     },
     "metadata": {},
     "output_type": "display_data"
    }
   ],
   "source": [
    "# Matrix eQTL results\n",
    "matrix_eqtl_smr_results_dir = \"/directflow/SCCGGroupShare/projects/angxue/proj/SAIGE-eQTL/SMR/\"\n",
    "matrix_ibd_file = paste0(matrix_eqtl_smr_results_dir, \"cd_all_14_celltypes_all_smr.txt\")\n",
    "matrix_df = fread(matrix_ibd_file)\n",
    "head(matrix_df,2)"
   ]
  },
  {
   "cell_type": "code",
   "execution_count": 5,
   "id": "8bee0ba9",
   "metadata": {},
   "outputs": [
    {
     "data": {
      "text/html": [
       "6091"
      ],
      "text/latex": [
       "6091"
      ],
      "text/markdown": [
       "6091"
      ],
      "text/plain": [
       "[1] 6091"
      ]
     },
     "metadata": {},
     "output_type": "display_data"
    },
    {
     "data": {
      "text/html": [
       "14518"
      ],
      "text/latex": [
       "14518"
      ],
      "text/markdown": [
       "14518"
      ],
      "text/plain": [
       "[1] 14518"
      ]
     },
     "metadata": {},
     "output_type": "display_data"
    },
    {
     "data": {
      "text/html": [
       "<table class=\"dataframe\">\n",
       "<caption>A data.table: 2 × 23</caption>\n",
       "<thead>\n",
       "\t<tr><th scope=col>probeID</th><th scope=col>ProbeChr</th><th scope=col>Gene</th><th scope=col>Probe_bp</th><th scope=col>topSNP</th><th scope=col>topSNP_chr</th><th scope=col>topSNP_bp</th><th scope=col>A1</th><th scope=col>A2</th><th scope=col>Freq</th><th scope=col>⋯</th><th scope=col>b_eQTL</th><th scope=col>se_eQTL</th><th scope=col>p_eQTL</th><th scope=col>b_SMR</th><th scope=col>se_SMR</th><th scope=col>p_SMR</th><th scope=col>p_HEIDI</th><th scope=col>nsnp_HEIDI</th><th scope=col>Cell_type</th><th scope=col>comb</th></tr>\n",
       "\t<tr><th scope=col>&lt;chr&gt;</th><th scope=col>&lt;int&gt;</th><th scope=col>&lt;chr&gt;</th><th scope=col>&lt;int&gt;</th><th scope=col>&lt;chr&gt;</th><th scope=col>&lt;int&gt;</th><th scope=col>&lt;int&gt;</th><th scope=col>&lt;chr&gt;</th><th scope=col>&lt;chr&gt;</th><th scope=col>&lt;dbl&gt;</th><th scope=col>⋯</th><th scope=col>&lt;dbl&gt;</th><th scope=col>&lt;dbl&gt;</th><th scope=col>&lt;dbl&gt;</th><th scope=col>&lt;dbl&gt;</th><th scope=col>&lt;dbl&gt;</th><th scope=col>&lt;dbl&gt;</th><th scope=col>&lt;dbl&gt;</th><th scope=col>&lt;int&gt;</th><th scope=col>&lt;chr&gt;</th><th scope=col>&lt;chr&gt;</th></tr>\n",
       "</thead>\n",
       "<tbody>\n",
       "\t<tr><td>FCRL5</td><td>1</td><td>FCRL5</td><td>157483167</td><td>rs12741984</td><td>1</td><td>157534818</td><td>G</td><td>A</td><td>0.787234</td><td>⋯</td><td> 0.113780</td><td>0.00486738</td><td>7.500497e-121</td><td>0.185382</td><td>0.148752</td><td>0.2126742</td><td>0.4619789</td><td>20</td><td>BimmNaive</td><td>FCRL5_BimmNaive</td></tr>\n",
       "\t<tr><td>RPS8 </td><td>1</td><td>RPS8 </td><td> 45240923</td><td>rs12120833</td><td>1</td><td> 45241285</td><td>C</td><td>G</td><td>0.850097</td><td>⋯</td><td>-0.105432</td><td>0.00500701</td><td> 1.980368e-98</td><td>0.147458</td><td>0.198581</td><td>0.4577494</td><td>0.3150508</td><td>20</td><td>BimmNaive</td><td>RPS8_BimmNaive </td></tr>\n",
       "</tbody>\n",
       "</table>\n"
      ],
      "text/latex": [
       "A data.table: 2 × 23\n",
       "\\begin{tabular}{lllllllllllllllllllll}\n",
       " probeID & ProbeChr & Gene & Probe\\_bp & topSNP & topSNP\\_chr & topSNP\\_bp & A1 & A2 & Freq & ⋯ & b\\_eQTL & se\\_eQTL & p\\_eQTL & b\\_SMR & se\\_SMR & p\\_SMR & p\\_HEIDI & nsnp\\_HEIDI & Cell\\_type & comb\\\\\n",
       " <chr> & <int> & <chr> & <int> & <chr> & <int> & <int> & <chr> & <chr> & <dbl> & ⋯ & <dbl> & <dbl> & <dbl> & <dbl> & <dbl> & <dbl> & <dbl> & <int> & <chr> & <chr>\\\\\n",
       "\\hline\n",
       "\t FCRL5 & 1 & FCRL5 & 157483167 & rs12741984 & 1 & 157534818 & G & A & 0.787234 & ⋯ &  0.113780 & 0.00486738 & 7.500497e-121 & 0.185382 & 0.148752 & 0.2126742 & 0.4619789 & 20 & BimmNaive & FCRL5\\_BimmNaive\\\\\n",
       "\t RPS8  & 1 & RPS8  &  45240923 & rs12120833 & 1 &  45241285 & C & G & 0.850097 & ⋯ & -0.105432 & 0.00500701 &  1.980368e-98 & 0.147458 & 0.198581 & 0.4577494 & 0.3150508 & 20 & BimmNaive & RPS8\\_BimmNaive \\\\\n",
       "\\end{tabular}\n"
      ],
      "text/markdown": [
       "\n",
       "A data.table: 2 × 23\n",
       "\n",
       "| probeID &lt;chr&gt; | ProbeChr &lt;int&gt; | Gene &lt;chr&gt; | Probe_bp &lt;int&gt; | topSNP &lt;chr&gt; | topSNP_chr &lt;int&gt; | topSNP_bp &lt;int&gt; | A1 &lt;chr&gt; | A2 &lt;chr&gt; | Freq &lt;dbl&gt; | ⋯ ⋯ | b_eQTL &lt;dbl&gt; | se_eQTL &lt;dbl&gt; | p_eQTL &lt;dbl&gt; | b_SMR &lt;dbl&gt; | se_SMR &lt;dbl&gt; | p_SMR &lt;dbl&gt; | p_HEIDI &lt;dbl&gt; | nsnp_HEIDI &lt;int&gt; | Cell_type &lt;chr&gt; | comb &lt;chr&gt; |\n",
       "|---|---|---|---|---|---|---|---|---|---|---|---|---|---|---|---|---|---|---|---|---|\n",
       "| FCRL5 | 1 | FCRL5 | 157483167 | rs12741984 | 1 | 157534818 | G | A | 0.787234 | ⋯ |  0.113780 | 0.00486738 | 7.500497e-121 | 0.185382 | 0.148752 | 0.2126742 | 0.4619789 | 20 | BimmNaive | FCRL5_BimmNaive |\n",
       "| RPS8  | 1 | RPS8  |  45240923 | rs12120833 | 1 |  45241285 | C | G | 0.850097 | ⋯ | -0.105432 | 0.00500701 |  1.980368e-98 | 0.147458 | 0.198581 | 0.4577494 | 0.3150508 | 20 | BimmNaive | RPS8_BimmNaive  |\n",
       "\n"
      ],
      "text/plain": [
       "  probeID ProbeChr Gene  Probe_bp  topSNP     topSNP_chr topSNP_bp A1 A2\n",
       "1 FCRL5   1        FCRL5 157483167 rs12741984 1          157534818 G  A \n",
       "2 RPS8    1        RPS8   45240923 rs12120833 1           45241285 C  G \n",
       "  Freq     ⋯ b_eQTL    se_eQTL    p_eQTL        b_SMR    se_SMR   p_SMR    \n",
       "1 0.787234 ⋯  0.113780 0.00486738 7.500497e-121 0.185382 0.148752 0.2126742\n",
       "2 0.850097 ⋯ -0.105432 0.00500701  1.980368e-98 0.147458 0.198581 0.4577494\n",
       "  p_HEIDI   nsnp_HEIDI Cell_type comb           \n",
       "1 0.4619789 20         BimmNaive FCRL5_BimmNaive\n",
       "2 0.3150508 20         BimmNaive RPS8_BimmNaive "
      ]
     },
     "metadata": {},
     "output_type": "display_data"
    }
   ],
   "source": [
    "# Calculate number of unique genes, and combination of genes + celltypes\n",
    "length(unique(matrix_df$Gene))\n",
    "matrix_df$comb = paste0(matrix_df$Gene,\"_\",matrix_df$Cell_type)\n",
    "length(unique(matrix_df$comb))\n",
    "head(matrix_df,2)"
   ]
  },
  {
   "cell_type": "code",
   "execution_count": 6,
   "id": "fd12238e",
   "metadata": {},
   "outputs": [
    {
     "data": {
      "text/html": [
       "45"
      ],
      "text/latex": [
       "45"
      ],
      "text/markdown": [
       "45"
      ],
      "text/plain": [
       "[1] 45"
      ]
     },
     "metadata": {},
     "output_type": "display_data"
    },
    {
     "data": {
      "text/html": [
       "38"
      ],
      "text/latex": [
       "38"
      ],
      "text/markdown": [
       "38"
      ],
      "text/plain": [
       "[1] 38"
      ]
     },
     "metadata": {},
     "output_type": "display_data"
    }
   ],
   "source": [
    "nrow(matrix_df[matrix_df$p_SMR < 0.05/length(unique(matrix_df$Gene)),])\n",
    "nrow(matrix_df[matrix_df$p_SMR < 0.05/length(unique(matrix_df$comb)),])"
   ]
  },
  {
   "cell_type": "code",
   "execution_count": null,
   "id": "ae1b3e0f",
   "metadata": {},
   "outputs": [],
   "source": []
  },
  {
   "cell_type": "code",
   "execution_count": 7,
   "id": "ec752228",
   "metadata": {},
   "outputs": [
    {
     "data": {
      "text/html": [
       "<table class=\"dataframe\">\n",
       "<caption>A data.table: 2 × 22</caption>\n",
       "<thead>\n",
       "\t<tr><th scope=col>probeID</th><th scope=col>ProbeChr</th><th scope=col>Gene</th><th scope=col>Probe_bp</th><th scope=col>topSNP</th><th scope=col>topSNP_chr</th><th scope=col>topSNP_bp</th><th scope=col>A1</th><th scope=col>A2</th><th scope=col>Freq</th><th scope=col>⋯</th><th scope=col>p_GWAS</th><th scope=col>b_eQTL</th><th scope=col>se_eQTL</th><th scope=col>p_eQTL</th><th scope=col>b_SMR</th><th scope=col>se_SMR</th><th scope=col>p_SMR</th><th scope=col>p_HEIDI</th><th scope=col>nsnp_HEIDI</th><th scope=col>Cell_type</th></tr>\n",
       "\t<tr><th scope=col>&lt;chr&gt;</th><th scope=col>&lt;int&gt;</th><th scope=col>&lt;chr&gt;</th><th scope=col>&lt;int&gt;</th><th scope=col>&lt;chr&gt;</th><th scope=col>&lt;int&gt;</th><th scope=col>&lt;int&gt;</th><th scope=col>&lt;chr&gt;</th><th scope=col>&lt;chr&gt;</th><th scope=col>&lt;dbl&gt;</th><th scope=col>⋯</th><th scope=col>&lt;dbl&gt;</th><th scope=col>&lt;dbl&gt;</th><th scope=col>&lt;dbl&gt;</th><th scope=col>&lt;dbl&gt;</th><th scope=col>&lt;dbl&gt;</th><th scope=col>&lt;dbl&gt;</th><th scope=col>&lt;dbl&gt;</th><th scope=col>&lt;dbl&gt;</th><th scope=col>&lt;int&gt;</th><th scope=col>&lt;chr&gt;</th></tr>\n",
       "</thead>\n",
       "<tbody>\n",
       "\t<tr><td>NOC2L  </td><td>1</td><td>NOC2L  </td><td> 879584</td><td>rs3748595 </td><td>1</td><td> 887560</td><td>A</td><td>C</td><td>0.0672147</td><td>⋯</td><td>0.5676</td><td>-0.153020</td><td>0.0352961</td><td>1.455500e-05</td><td>-0.073327</td><td>0.129544</td><td>0.5713679</td><td>0.1533406</td><td>3</td><td>BimmNaive</td></tr>\n",
       "\t<tr><td>C1orf86</td><td>1</td><td>C1orf86</td><td>2115903</td><td>rs11587831</td><td>1</td><td>2110848</td><td>T</td><td>G</td><td>0.7853000</td><td>⋯</td><td>0.3485</td><td>-0.115809</td><td>0.0148762</td><td>6.980209e-15</td><td> 0.134616</td><td>0.144356</td><td>0.3510651</td><td>0.6961858</td><td>8</td><td>BimmNaive</td></tr>\n",
       "</tbody>\n",
       "</table>\n"
      ],
      "text/latex": [
       "A data.table: 2 × 22\n",
       "\\begin{tabular}{lllllllllllllllllllll}\n",
       " probeID & ProbeChr & Gene & Probe\\_bp & topSNP & topSNP\\_chr & topSNP\\_bp & A1 & A2 & Freq & ⋯ & p\\_GWAS & b\\_eQTL & se\\_eQTL & p\\_eQTL & b\\_SMR & se\\_SMR & p\\_SMR & p\\_HEIDI & nsnp\\_HEIDI & Cell\\_type\\\\\n",
       " <chr> & <int> & <chr> & <int> & <chr> & <int> & <int> & <chr> & <chr> & <dbl> & ⋯ & <dbl> & <dbl> & <dbl> & <dbl> & <dbl> & <dbl> & <dbl> & <dbl> & <int> & <chr>\\\\\n",
       "\\hline\n",
       "\t NOC2L   & 1 & NOC2L   &  879584 & rs3748595  & 1 &  887560 & A & C & 0.0672147 & ⋯ & 0.5676 & -0.153020 & 0.0352961 & 1.455500e-05 & -0.073327 & 0.129544 & 0.5713679 & 0.1533406 & 3 & BimmNaive\\\\\n",
       "\t C1orf86 & 1 & C1orf86 & 2115903 & rs11587831 & 1 & 2110848 & T & G & 0.7853000 & ⋯ & 0.3485 & -0.115809 & 0.0148762 & 6.980209e-15 &  0.134616 & 0.144356 & 0.3510651 & 0.6961858 & 8 & BimmNaive\\\\\n",
       "\\end{tabular}\n"
      ],
      "text/markdown": [
       "\n",
       "A data.table: 2 × 22\n",
       "\n",
       "| probeID &lt;chr&gt; | ProbeChr &lt;int&gt; | Gene &lt;chr&gt; | Probe_bp &lt;int&gt; | topSNP &lt;chr&gt; | topSNP_chr &lt;int&gt; | topSNP_bp &lt;int&gt; | A1 &lt;chr&gt; | A2 &lt;chr&gt; | Freq &lt;dbl&gt; | ⋯ ⋯ | p_GWAS &lt;dbl&gt; | b_eQTL &lt;dbl&gt; | se_eQTL &lt;dbl&gt; | p_eQTL &lt;dbl&gt; | b_SMR &lt;dbl&gt; | se_SMR &lt;dbl&gt; | p_SMR &lt;dbl&gt; | p_HEIDI &lt;dbl&gt; | nsnp_HEIDI &lt;int&gt; | Cell_type &lt;chr&gt; |\n",
       "|---|---|---|---|---|---|---|---|---|---|---|---|---|---|---|---|---|---|---|---|---|\n",
       "| NOC2L   | 1 | NOC2L   |  879584 | rs3748595  | 1 |  887560 | A | C | 0.0672147 | ⋯ | 0.5676 | -0.153020 | 0.0352961 | 1.455500e-05 | -0.073327 | 0.129544 | 0.5713679 | 0.1533406 | 3 | BimmNaive |\n",
       "| C1orf86 | 1 | C1orf86 | 2115903 | rs11587831 | 1 | 2110848 | T | G | 0.7853000 | ⋯ | 0.3485 | -0.115809 | 0.0148762 | 6.980209e-15 |  0.134616 | 0.144356 | 0.3510651 | 0.6961858 | 8 | BimmNaive |\n",
       "\n"
      ],
      "text/plain": [
       "  probeID ProbeChr Gene    Probe_bp topSNP     topSNP_chr topSNP_bp A1 A2\n",
       "1 NOC2L   1        NOC2L    879584  rs3748595  1           887560   A  C \n",
       "2 C1orf86 1        C1orf86 2115903  rs11587831 1          2110848   T  G \n",
       "  Freq      ⋯ p_GWAS b_eQTL    se_eQTL   p_eQTL       b_SMR     se_SMR  \n",
       "1 0.0672147 ⋯ 0.5676 -0.153020 0.0352961 1.455500e-05 -0.073327 0.129544\n",
       "2 0.7853000 ⋯ 0.3485 -0.115809 0.0148762 6.980209e-15  0.134616 0.144356\n",
       "  p_SMR     p_HEIDI   nsnp_HEIDI Cell_type\n",
       "1 0.5713679 0.1533406 3          BimmNaive\n",
       "2 0.3510651 0.6961858 8          BimmNaive"
      ]
     },
     "metadata": {},
     "output_type": "display_data"
    }
   ],
   "source": [
    "# SAIGE-QTL results\n",
    "saige_eqtl_smr_results_dir = \"/directflow/SCCGGroupShare/projects/angxue/proj/SAIGE-eQTL/SMR/saige_eQTL/\"\n",
    "saige_ibd_file = paste0(saige_eqtl_smr_results_dir, \"cd_all_14_celltypes_all_smr.txt\")\n",
    "saige_df = fread(saige_ibd_file)\n",
    "head(saige_df,2)"
   ]
  },
  {
   "cell_type": "code",
   "execution_count": 8,
   "id": "d912fd35",
   "metadata": {},
   "outputs": [
    {
     "data": {
      "text/html": [
       "5671"
      ],
      "text/latex": [
       "5671"
      ],
      "text/markdown": [
       "5671"
      ],
      "text/plain": [
       "[1] 5671"
      ]
     },
     "metadata": {},
     "output_type": "display_data"
    },
    {
     "data": {
      "text/html": [
       "16398"
      ],
      "text/latex": [
       "16398"
      ],
      "text/markdown": [
       "16398"
      ],
      "text/plain": [
       "[1] 16398"
      ]
     },
     "metadata": {},
     "output_type": "display_data"
    },
    {
     "data": {
      "text/html": [
       "<table class=\"dataframe\">\n",
       "<caption>A data.table: 2 × 23</caption>\n",
       "<thead>\n",
       "\t<tr><th scope=col>probeID</th><th scope=col>ProbeChr</th><th scope=col>Gene</th><th scope=col>Probe_bp</th><th scope=col>topSNP</th><th scope=col>topSNP_chr</th><th scope=col>topSNP_bp</th><th scope=col>A1</th><th scope=col>A2</th><th scope=col>Freq</th><th scope=col>⋯</th><th scope=col>b_eQTL</th><th scope=col>se_eQTL</th><th scope=col>p_eQTL</th><th scope=col>b_SMR</th><th scope=col>se_SMR</th><th scope=col>p_SMR</th><th scope=col>p_HEIDI</th><th scope=col>nsnp_HEIDI</th><th scope=col>Cell_type</th><th scope=col>comb</th></tr>\n",
       "\t<tr><th scope=col>&lt;chr&gt;</th><th scope=col>&lt;int&gt;</th><th scope=col>&lt;chr&gt;</th><th scope=col>&lt;int&gt;</th><th scope=col>&lt;chr&gt;</th><th scope=col>&lt;int&gt;</th><th scope=col>&lt;int&gt;</th><th scope=col>&lt;chr&gt;</th><th scope=col>&lt;chr&gt;</th><th scope=col>&lt;dbl&gt;</th><th scope=col>⋯</th><th scope=col>&lt;dbl&gt;</th><th scope=col>&lt;dbl&gt;</th><th scope=col>&lt;dbl&gt;</th><th scope=col>&lt;dbl&gt;</th><th scope=col>&lt;dbl&gt;</th><th scope=col>&lt;dbl&gt;</th><th scope=col>&lt;dbl&gt;</th><th scope=col>&lt;int&gt;</th><th scope=col>&lt;chr&gt;</th><th scope=col>&lt;chr&gt;</th></tr>\n",
       "</thead>\n",
       "<tbody>\n",
       "\t<tr><td>NOC2L  </td><td>1</td><td>NOC2L  </td><td> 879584</td><td>rs3748595 </td><td>1</td><td> 887560</td><td>A</td><td>C</td><td>0.0672147</td><td>⋯</td><td>-0.153020</td><td>0.0352961</td><td>1.455500e-05</td><td>-0.073327</td><td>0.129544</td><td>0.5713679</td><td>0.1533406</td><td>3</td><td>BimmNaive</td><td>NOC2L_BimmNaive  </td></tr>\n",
       "\t<tr><td>C1orf86</td><td>1</td><td>C1orf86</td><td>2115903</td><td>rs11587831</td><td>1</td><td>2110848</td><td>T</td><td>G</td><td>0.7853000</td><td>⋯</td><td>-0.115809</td><td>0.0148762</td><td>6.980209e-15</td><td> 0.134616</td><td>0.144356</td><td>0.3510651</td><td>0.6961858</td><td>8</td><td>BimmNaive</td><td>C1orf86_BimmNaive</td></tr>\n",
       "</tbody>\n",
       "</table>\n"
      ],
      "text/latex": [
       "A data.table: 2 × 23\n",
       "\\begin{tabular}{lllllllllllllllllllll}\n",
       " probeID & ProbeChr & Gene & Probe\\_bp & topSNP & topSNP\\_chr & topSNP\\_bp & A1 & A2 & Freq & ⋯ & b\\_eQTL & se\\_eQTL & p\\_eQTL & b\\_SMR & se\\_SMR & p\\_SMR & p\\_HEIDI & nsnp\\_HEIDI & Cell\\_type & comb\\\\\n",
       " <chr> & <int> & <chr> & <int> & <chr> & <int> & <int> & <chr> & <chr> & <dbl> & ⋯ & <dbl> & <dbl> & <dbl> & <dbl> & <dbl> & <dbl> & <dbl> & <int> & <chr> & <chr>\\\\\n",
       "\\hline\n",
       "\t NOC2L   & 1 & NOC2L   &  879584 & rs3748595  & 1 &  887560 & A & C & 0.0672147 & ⋯ & -0.153020 & 0.0352961 & 1.455500e-05 & -0.073327 & 0.129544 & 0.5713679 & 0.1533406 & 3 & BimmNaive & NOC2L\\_BimmNaive  \\\\\n",
       "\t C1orf86 & 1 & C1orf86 & 2115903 & rs11587831 & 1 & 2110848 & T & G & 0.7853000 & ⋯ & -0.115809 & 0.0148762 & 6.980209e-15 &  0.134616 & 0.144356 & 0.3510651 & 0.6961858 & 8 & BimmNaive & C1orf86\\_BimmNaive\\\\\n",
       "\\end{tabular}\n"
      ],
      "text/markdown": [
       "\n",
       "A data.table: 2 × 23\n",
       "\n",
       "| probeID &lt;chr&gt; | ProbeChr &lt;int&gt; | Gene &lt;chr&gt; | Probe_bp &lt;int&gt; | topSNP &lt;chr&gt; | topSNP_chr &lt;int&gt; | topSNP_bp &lt;int&gt; | A1 &lt;chr&gt; | A2 &lt;chr&gt; | Freq &lt;dbl&gt; | ⋯ ⋯ | b_eQTL &lt;dbl&gt; | se_eQTL &lt;dbl&gt; | p_eQTL &lt;dbl&gt; | b_SMR &lt;dbl&gt; | se_SMR &lt;dbl&gt; | p_SMR &lt;dbl&gt; | p_HEIDI &lt;dbl&gt; | nsnp_HEIDI &lt;int&gt; | Cell_type &lt;chr&gt; | comb &lt;chr&gt; |\n",
       "|---|---|---|---|---|---|---|---|---|---|---|---|---|---|---|---|---|---|---|---|---|\n",
       "| NOC2L   | 1 | NOC2L   |  879584 | rs3748595  | 1 |  887560 | A | C | 0.0672147 | ⋯ | -0.153020 | 0.0352961 | 1.455500e-05 | -0.073327 | 0.129544 | 0.5713679 | 0.1533406 | 3 | BimmNaive | NOC2L_BimmNaive   |\n",
       "| C1orf86 | 1 | C1orf86 | 2115903 | rs11587831 | 1 | 2110848 | T | G | 0.7853000 | ⋯ | -0.115809 | 0.0148762 | 6.980209e-15 |  0.134616 | 0.144356 | 0.3510651 | 0.6961858 | 8 | BimmNaive | C1orf86_BimmNaive |\n",
       "\n"
      ],
      "text/plain": [
       "  probeID ProbeChr Gene    Probe_bp topSNP     topSNP_chr topSNP_bp A1 A2\n",
       "1 NOC2L   1        NOC2L    879584  rs3748595  1           887560   A  C \n",
       "2 C1orf86 1        C1orf86 2115903  rs11587831 1          2110848   T  G \n",
       "  Freq      ⋯ b_eQTL    se_eQTL   p_eQTL       b_SMR     se_SMR   p_SMR    \n",
       "1 0.0672147 ⋯ -0.153020 0.0352961 1.455500e-05 -0.073327 0.129544 0.5713679\n",
       "2 0.7853000 ⋯ -0.115809 0.0148762 6.980209e-15  0.134616 0.144356 0.3510651\n",
       "  p_HEIDI   nsnp_HEIDI Cell_type comb             \n",
       "1 0.1533406 3          BimmNaive NOC2L_BimmNaive  \n",
       "2 0.6961858 8          BimmNaive C1orf86_BimmNaive"
      ]
     },
     "metadata": {},
     "output_type": "display_data"
    }
   ],
   "source": [
    "length(unique(saige_df$Gene))\n",
    "saige_df$comb = paste0(saige_df$Gene,\"_\",saige_df$Cell_type)\n",
    "length(unique(saige_df$comb))\n",
    "head(saige_df,2)"
   ]
  },
  {
   "cell_type": "code",
   "execution_count": 9,
   "id": "21313568",
   "metadata": {},
   "outputs": [
    {
     "data": {
      "text/html": [
       "46"
      ],
      "text/latex": [
       "46"
      ],
      "text/markdown": [
       "46"
      ],
      "text/plain": [
       "[1] 46"
      ]
     },
     "metadata": {},
     "output_type": "display_data"
    },
    {
     "data": {
      "text/html": [
       "43"
      ],
      "text/latex": [
       "43"
      ],
      "text/markdown": [
       "43"
      ],
      "text/plain": [
       "[1] 43"
      ]
     },
     "metadata": {},
     "output_type": "display_data"
    }
   ],
   "source": [
    "# significant results at p<0.05/M with M either # genes or # gene-celltype combinations\n",
    "nrow(saige_df[saige_df$p_SMR < 0.05/length(unique(saige_df$Gene)),])\n",
    "nrow(saige_df[saige_df$p_SMR < 0.05/length(unique(saige_df$comb)),])"
   ]
  },
  {
   "cell_type": "code",
   "execution_count": null,
   "id": "946fa23e",
   "metadata": {},
   "outputs": [],
   "source": []
  },
  {
   "cell_type": "code",
   "execution_count": 10,
   "id": "af318cdb",
   "metadata": {},
   "outputs": [],
   "source": [
    "### p < 0.05/M with M-number of unique gene-celltype combinations tested by both methods"
   ]
  },
  {
   "cell_type": "code",
   "execution_count": 11,
   "id": "56d149ef",
   "metadata": {},
   "outputs": [
    {
     "data": {
      "text/html": [
       "11985"
      ],
      "text/latex": [
       "11985"
      ],
      "text/markdown": [
       "11985"
      ],
      "text/plain": [
       "[1] 11985"
      ]
     },
     "metadata": {},
     "output_type": "display_data"
    }
   ],
   "source": [
    "matrix_combs = unique(matrix_df$comb)\n",
    "saige_combs = unique(saige_df$comb)\n",
    "common_combs = saige_combs[saige_combs %in% matrix_combs]\n",
    "length(common_combs)"
   ]
  },
  {
   "cell_type": "code",
   "execution_count": 12,
   "id": "5d7e0181",
   "metadata": {},
   "outputs": [
    {
     "data": {
      "text/html": [
       "11985"
      ],
      "text/latex": [
       "11985"
      ],
      "text/markdown": [
       "11985"
      ],
      "text/plain": [
       "[1] 11985"
      ]
     },
     "metadata": {},
     "output_type": "display_data"
    },
    {
     "data": {
      "text/html": [
       "39"
      ],
      "text/latex": [
       "39"
      ],
      "text/markdown": [
       "39"
      ],
      "text/plain": [
       "[1] 39"
      ]
     },
     "metadata": {},
     "output_type": "display_data"
    }
   ],
   "source": [
    "matrix_df_common = matrix_df[matrix_df$comb %in% common_combs,]\n",
    "nrow(matrix_df_common)\n",
    "nrow(matrix_df_common[matrix_df_common$p_SMR < (0.05/length(common_combs)),])"
   ]
  },
  {
   "cell_type": "code",
   "execution_count": 13,
   "id": "c727d691",
   "metadata": {},
   "outputs": [
    {
     "data": {
      "text/html": [
       "11985"
      ],
      "text/latex": [
       "11985"
      ],
      "text/markdown": [
       "11985"
      ],
      "text/plain": [
       "[1] 11985"
      ]
     },
     "metadata": {},
     "output_type": "display_data"
    },
    {
     "data": {
      "text/html": [
       "43"
      ],
      "text/latex": [
       "43"
      ],
      "text/markdown": [
       "43"
      ],
      "text/plain": [
       "[1] 43"
      ]
     },
     "metadata": {},
     "output_type": "display_data"
    }
   ],
   "source": [
    "saige_df_common = saige_df[saige_df$comb %in% common_combs,]\n",
    "nrow(saige_df_common)\n",
    "nrow(saige_df_common[saige_df_common$p_SMR < (0.05/length(common_combs)),])"
   ]
  },
  {
   "cell_type": "code",
   "execution_count": null,
   "id": "e5cfe82f",
   "metadata": {},
   "outputs": [],
   "source": []
  },
  {
   "cell_type": "code",
   "execution_count": null,
   "id": "8a18754d",
   "metadata": {},
   "outputs": [],
   "source": []
  },
  {
   "cell_type": "code",
   "execution_count": 14,
   "id": "768aa140",
   "metadata": {},
   "outputs": [
    {
     "data": {
      "text/html": [
       "138"
      ],
      "text/latex": [
       "138"
      ],
      "text/markdown": [
       "138"
      ],
      "text/plain": [
       "[1] 138"
      ]
     },
     "metadata": {},
     "output_type": "display_data"
    }
   ],
   "source": [
    "# significant results at FDR<5% instead (using qvalue)\n",
    "matrix_df_common$qv = qvalue(matrix_df_common$p_SMR)$qvalues\n",
    "nrow(matrix_df_common[matrix_df_common$qv<0.05,])"
   ]
  },
  {
   "cell_type": "code",
   "execution_count": 15,
   "id": "b2614cde",
   "metadata": {},
   "outputs": [
    {
     "data": {
      "text/html": [
       "162"
      ],
      "text/latex": [
       "162"
      ],
      "text/markdown": [
       "162"
      ],
      "text/plain": [
       "[1] 162"
      ]
     },
     "metadata": {},
     "output_type": "display_data"
    }
   ],
   "source": [
    "saige_df_common$qv = qvalue(saige_df_common$p_SMR)$qvalues\n",
    "nrow(saige_df_common[saige_df_common$qv<0.05,])"
   ]
  },
  {
   "cell_type": "code",
   "execution_count": null,
   "id": "8efbb834",
   "metadata": {},
   "outputs": [],
   "source": []
  },
  {
   "cell_type": "code",
   "execution_count": null,
   "id": "56cb15a7",
   "metadata": {},
   "outputs": [],
   "source": []
  },
  {
   "cell_type": "code",
   "execution_count": 17,
   "id": "0bb85583",
   "metadata": {},
   "outputs": [
    {
     "data": {
      "text/html": [
       "39"
      ],
      "text/latex": [
       "39"
      ],
      "text/markdown": [
       "39"
      ],
      "text/plain": [
       "[1] 39"
      ]
     },
     "metadata": {},
     "output_type": "display_data"
    },
    {
     "data": {
      "text/html": [
       "<style>\n",
       ".list-inline {list-style: none; margin:0; padding: 0}\n",
       ".list-inline>li {display: inline-block}\n",
       ".list-inline>li:not(:last-child)::after {content: \"\\00b7\"; padding: 0 .5ex}\n",
       "</style>\n",
       "<ol class=list-inline><li>'ERAP2_BimmNaive'</li><li>'TUFM_BimmNaive'</li><li>'ORMDL3_BimmNaive'</li><li>'ERAP2_Bmem'</li><li>'TUFM_Bmem'</li><li>'ORMDL3_Bmem'</li></ol>\n"
      ],
      "text/latex": [
       "\\begin{enumerate*}\n",
       "\\item 'ERAP2\\_BimmNaive'\n",
       "\\item 'TUFM\\_BimmNaive'\n",
       "\\item 'ORMDL3\\_BimmNaive'\n",
       "\\item 'ERAP2\\_Bmem'\n",
       "\\item 'TUFM\\_Bmem'\n",
       "\\item 'ORMDL3\\_Bmem'\n",
       "\\end{enumerate*}\n"
      ],
      "text/markdown": [
       "1. 'ERAP2_BimmNaive'\n",
       "2. 'TUFM_BimmNaive'\n",
       "3. 'ORMDL3_BimmNaive'\n",
       "4. 'ERAP2_Bmem'\n",
       "5. 'TUFM_Bmem'\n",
       "6. 'ORMDL3_Bmem'\n",
       "\n",
       "\n"
      ],
      "text/plain": [
       "[1] \"ERAP2_BimmNaive\"  \"TUFM_BimmNaive\"   \"ORMDL3_BimmNaive\" \"ERAP2_Bmem\"      \n",
       "[5] \"TUFM_Bmem\"        \"ORMDL3_Bmem\"     "
      ]
     },
     "metadata": {},
     "output_type": "display_data"
    },
    {
     "data": {
      "text/html": [
       "43"
      ],
      "text/latex": [
       "43"
      ],
      "text/markdown": [
       "43"
      ],
      "text/plain": [
       "[1] 43"
      ]
     },
     "metadata": {},
     "output_type": "display_data"
    },
    {
     "data": {
      "text/html": [
       "<style>\n",
       ".list-inline {list-style: none; margin:0; padding: 0}\n",
       ".list-inline>li {display: inline-block}\n",
       ".list-inline>li:not(:last-child)::after {content: \"\\00b7\"; padding: 0 .5ex}\n",
       "</style>\n",
       "<ol class=list-inline><li>'ERAP2_BimmNaive'</li><li>'TUFM_BimmNaive'</li><li>'ORMDL3_BimmNaive'</li><li>'ERAP2_Bmem'</li><li>'TUFM_Bmem'</li><li>'ORMDL3_Bmem'</li></ol>\n"
      ],
      "text/latex": [
       "\\begin{enumerate*}\n",
       "\\item 'ERAP2\\_BimmNaive'\n",
       "\\item 'TUFM\\_BimmNaive'\n",
       "\\item 'ORMDL3\\_BimmNaive'\n",
       "\\item 'ERAP2\\_Bmem'\n",
       "\\item 'TUFM\\_Bmem'\n",
       "\\item 'ORMDL3\\_Bmem'\n",
       "\\end{enumerate*}\n"
      ],
      "text/markdown": [
       "1. 'ERAP2_BimmNaive'\n",
       "2. 'TUFM_BimmNaive'\n",
       "3. 'ORMDL3_BimmNaive'\n",
       "4. 'ERAP2_Bmem'\n",
       "5. 'TUFM_Bmem'\n",
       "6. 'ORMDL3_Bmem'\n",
       "\n",
       "\n"
      ],
      "text/plain": [
       "[1] \"ERAP2_BimmNaive\"  \"TUFM_BimmNaive\"   \"ORMDL3_BimmNaive\" \"ERAP2_Bmem\"      \n",
       "[5] \"TUFM_Bmem\"        \"ORMDL3_Bmem\"     "
      ]
     },
     "metadata": {},
     "output_type": "display_data"
    },
    {
     "data": {
      "text/html": [
       "37"
      ],
      "text/latex": [
       "37"
      ],
      "text/markdown": [
       "37"
      ],
      "text/plain": [
       "[1] 37"
      ]
     },
     "metadata": {},
     "output_type": "display_data"
    }
   ],
   "source": [
    "# Using p < (0.05 / n_tests, gene-celltype comb)\n",
    "\n",
    "matrix_sign_combs = matrix_df_common[matrix_df_common$p_SMR < (0.05/length(common_combs)),\"comb\"]$comb\n",
    "length(matrix_sign_combs)\n",
    "head(matrix_sign_combs)\n",
    "\n",
    "saige_sign_combs = saige_df_common[saige_df_common$p_SMR < (0.05/length(common_combs)),\"comb\"]$comb\n",
    "length(saige_sign_combs)\n",
    "head(saige_sign_combs)\n",
    "\n",
    "length(saige_sign_combs[saige_sign_combs %in% matrix_sign_combs])"
   ]
  },
  {
   "cell_type": "code",
   "execution_count": null,
   "id": "5ff65241",
   "metadata": {},
   "outputs": [],
   "source": []
  },
  {
   "cell_type": "code",
   "execution_count": 18,
   "id": "7d4b2c35",
   "metadata": {},
   "outputs": [
    {
     "data": {
      "text/html": [
       "138"
      ],
      "text/latex": [
       "138"
      ],
      "text/markdown": [
       "138"
      ],
      "text/plain": [
       "[1] 138"
      ]
     },
     "metadata": {},
     "output_type": "display_data"
    },
    {
     "data": {
      "text/html": [
       "162"
      ],
      "text/latex": [
       "162"
      ],
      "text/markdown": [
       "162"
      ],
      "text/plain": [
       "[1] 162"
      ]
     },
     "metadata": {},
     "output_type": "display_data"
    },
    {
     "data": {
      "text/html": [
       "125"
      ],
      "text/latex": [
       "125"
      ],
      "text/markdown": [
       "125"
      ],
      "text/plain": [
       "[1] 125"
      ]
     },
     "metadata": {},
     "output_type": "display_data"
    }
   ],
   "source": [
    "# Using FDR < 0.05\n",
    "\n",
    "matrix_sign_combs = matrix_df_common[matrix_df_common$qv < 0.05,\"comb\"]$comb\n",
    "length(matrix_sign_combs)\n",
    "\n",
    "saige_sign_combs = saige_df_common[saige_df_common$qv < 0.05,\"comb\"]$comb\n",
    "length(saige_sign_combs)\n",
    "\n",
    "length(saige_sign_combs[saige_sign_combs %in% matrix_sign_combs])"
   ]
  },
  {
   "cell_type": "code",
   "execution_count": null,
   "id": "f68665d3",
   "metadata": {},
   "outputs": [],
   "source": []
  },
  {
   "cell_type": "code",
   "execution_count": null,
   "id": "8c40feb9",
   "metadata": {},
   "outputs": [],
   "source": []
  },
  {
   "cell_type": "code",
   "execution_count": 16,
   "id": "8c40f2d0",
   "metadata": {},
   "outputs": [
    {
     "data": {
      "text/html": [
       "<table class=\"dataframe\">\n",
       "<caption>A data.table: 43 × 24</caption>\n",
       "<thead>\n",
       "\t<tr><th scope=col>probeID</th><th scope=col>ProbeChr</th><th scope=col>Gene</th><th scope=col>Probe_bp</th><th scope=col>topSNP</th><th scope=col>topSNP_chr</th><th scope=col>topSNP_bp</th><th scope=col>A1</th><th scope=col>A2</th><th scope=col>Freq</th><th scope=col>⋯</th><th scope=col>se_eQTL</th><th scope=col>p_eQTL</th><th scope=col>b_SMR</th><th scope=col>se_SMR</th><th scope=col>p_SMR</th><th scope=col>p_HEIDI</th><th scope=col>nsnp_HEIDI</th><th scope=col>Cell_type</th><th scope=col>comb</th><th scope=col>qv</th></tr>\n",
       "\t<tr><th scope=col>&lt;chr&gt;</th><th scope=col>&lt;int&gt;</th><th scope=col>&lt;chr&gt;</th><th scope=col>&lt;int&gt;</th><th scope=col>&lt;chr&gt;</th><th scope=col>&lt;int&gt;</th><th scope=col>&lt;int&gt;</th><th scope=col>&lt;chr&gt;</th><th scope=col>&lt;chr&gt;</th><th scope=col>&lt;dbl&gt;</th><th scope=col>⋯</th><th scope=col>&lt;dbl&gt;</th><th scope=col>&lt;dbl&gt;</th><th scope=col>&lt;dbl&gt;</th><th scope=col>&lt;dbl&gt;</th><th scope=col>&lt;dbl&gt;</th><th scope=col>&lt;dbl&gt;</th><th scope=col>&lt;int&gt;</th><th scope=col>&lt;chr&gt;</th><th scope=col>&lt;chr&gt;</th><th scope=col>&lt;dbl&gt;</th></tr>\n",
       "</thead>\n",
       "<tbody>\n",
       "\t<tr><td>ERAP2   </td><td> 5</td><td>ERAP2   </td><td> 96211643</td><td>rs27295   </td><td> 5</td><td> 96358687</td><td>C</td><td>T</td><td>0.431335</td><td>⋯</td><td>0.02186180</td><td> 9.580355e-47</td><td>-0.292410</td><td>0.0491637</td><td>2.719701e-09</td><td>7.152581e-01</td><td>20</td><td>BimmNaive  </td><td>ERAP2_BimmNaive    </td><td>2.170082e-06</td></tr>\n",
       "\t<tr><td>TUFM    </td><td>16</td><td>TUFM    </td><td> 28853732</td><td>rs7187776 </td><td>16</td><td> 28857645</td><td>A</td><td>G</td><td>0.615571</td><td>⋯</td><td>0.01473370</td><td> 3.420663e-67</td><td>-0.333696</td><td>0.0590836</td><td>1.624574e-08</td><td>7.104661e-02</td><td>20</td><td>BimmNaive  </td><td>TUFM_BimmNaive     </td><td>7.636231e-06</td></tr>\n",
       "\t<tr><td>ORMDL3  </td><td>17</td><td>ORMDL3  </td><td> 38077294</td><td>rs8067378 </td><td>17</td><td> 38051348</td><td>A</td><td>G</td><td>0.491779</td><td>⋯</td><td>0.02442030</td><td> 1.576034e-50</td><td> 0.199113</td><td>0.0401591</td><td>7.118453e-07</td><td>1.339933e-01</td><td>20</td><td>BimmNaive  </td><td>ORMDL3_BimmNaive   </td><td>1.849102e-04</td></tr>\n",
       "\t<tr><td>ERAP2   </td><td> 5</td><td>ERAP2   </td><td> 96211643</td><td>rs27998   </td><td> 5</td><td> 96367408</td><td>G</td><td>A</td><td>0.428917</td><td>⋯</td><td>0.02443750</td><td> 7.455040e-54</td><td>-0.238227</td><td>0.0402680</td><td>3.297681e-09</td><td>8.812517e-01</td><td>20</td><td>Bmem       </td><td>ERAP2_Bmem         </td><td>2.170082e-06</td></tr>\n",
       "\t<tr><td>TUFM    </td><td>16</td><td>TUFM    </td><td> 28853732</td><td>rs7187776 </td><td>16</td><td> 28857645</td><td>A</td><td>G</td><td>0.615571</td><td>⋯</td><td>0.01434550</td><td> 3.904825e-45</td><td>-0.421010</td><td>0.0765345</td><td>3.778108e-08</td><td>1.662807e-01</td><td>20</td><td>Bmem       </td><td>TUFM_Bmem          </td><td>1.553896e-05</td></tr>\n",
       "\t<tr><td>ORMDL3  </td><td>17</td><td>ORMDL3  </td><td> 38077294</td><td>rs7359623 </td><td>17</td><td> 38049589</td><td>C</td><td>T</td><td>0.496132</td><td>⋯</td><td>0.02815960</td><td> 1.782539e-39</td><td> 0.204092</td><td>0.0404580</td><td>4.545983e-07</td><td>4.388768e-02</td><td>20</td><td>Bmem       </td><td>ORMDL3_Bmem        </td><td>1.319799e-04</td></tr>\n",
       "\t<tr><td>SCAMP3  </td><td> 1</td><td>SCAMP3  </td><td>155225770</td><td>rs1076556 </td><td> 1</td><td>155234821</td><td>A</td><td>G</td><td>0.713250</td><td>⋯</td><td>0.01138940</td><td> 1.048093e-32</td><td>-0.641302</td><td>0.1306390</td><td>9.155943e-07</td><td>1.544640e-01</td><td>20</td><td>CD4all     </td><td>SCAMP3_CD4all      </td><td>2.259446e-04</td></tr>\n",
       "\t<tr><td>GPX1    </td><td> 3</td><td>GPX1    </td><td> 49394609</td><td>rs1801143 </td><td> 3</td><td> 49570200</td><td>C</td><td>T</td><td>0.701161</td><td>⋯</td><td>0.00677544</td><td> 7.627006e-13</td><td> 2.124130</td><td>0.4262650</td><td>6.256809e-07</td><td>6.638163e-01</td><td>20</td><td>CD4all     </td><td>GPX1_CD4all        </td><td>1.715116e-04</td></tr>\n",
       "\t<tr><td>ERAP2   </td><td> 5</td><td>ERAP2   </td><td> 96211643</td><td>rs2910686 </td><td> 5</td><td> 96252589</td><td>T</td><td>C</td><td>0.567215</td><td>⋯</td><td>0.01822860</td><td>4.685026e-155</td><td>-0.189532</td><td>0.0298614</td><td>2.194715e-10</td><td>3.353872e-01</td><td>20</td><td>CD4all     </td><td>ERAP2_CD4all       </td><td>5.359490e-07</td></tr>\n",
       "\t<tr><td>RNASET2 </td><td> 6</td><td>RNASET2 </td><td>167342992</td><td>rs425039  </td><td> 6</td><td>167410527</td><td>C</td><td>T</td><td>0.465184</td><td>⋯</td><td>0.00866928</td><td>1.421406e-130</td><td> 0.444121</td><td>0.0681412</td><td>7.141734e-11</td><td>5.175076e-01</td><td>20</td><td>CD4all     </td><td>RNASET2_CD4all     </td><td>5.359490e-07</td></tr>\n",
       "\t<tr><td>TUFM    </td><td>16</td><td>TUFM    </td><td> 28853732</td><td>rs7187776 </td><td>16</td><td> 28857645</td><td>A</td><td>G</td><td>0.615571</td><td>⋯</td><td>0.00789466</td><td>3.280907e-121</td><td>-0.460691</td><td>0.0795810</td><td>7.082208e-09</td><td>8.019225e-02</td><td>20</td><td>CD4all     </td><td>TUFM_CD4all        </td><td>4.112241e-06</td></tr>\n",
       "\t<tr><td>SLC2A4RG</td><td>20</td><td>SLC2A4RG</td><td> 62371214</td><td>rs1056441 </td><td>20</td><td> 62370349</td><td>T</td><td>C</td><td>0.332205</td><td>⋯</td><td>0.01014560</td><td> 3.342420e-15</td><td> 1.222640</td><td>0.2427830</td><td>4.754751e-07</td><td>1.939869e-02</td><td>20</td><td>CD4all     </td><td>SLC2A4RG_CD4all    </td><td>1.340968e-04</td></tr>\n",
       "\t<tr><td>UBE2L3  </td><td>22</td><td>UBE2L3  </td><td> 21903736</td><td>rs1811069 </td><td>22</td><td> 21982054</td><td>T</td><td>G</td><td>0.814797</td><td>⋯</td><td>0.00771402</td><td> 1.622794e-17</td><td> 1.539520</td><td>0.3238980</td><td>2.003140e-06</td><td>3.095185e-01</td><td>12</td><td>CD4all     </td><td>UBE2L3_CD4all      </td><td>4.707831e-04</td></tr>\n",
       "\t<tr><td>ERAP2   </td><td> 5</td><td>ERAP2   </td><td> 96211643</td><td>rs2910686 </td><td> 5</td><td> 96252589</td><td>T</td><td>C</td><td>0.567215</td><td>⋯</td><td>0.02389370</td><td>2.027489e-103</td><td>-0.177626</td><td>0.0283904</td><td>3.935936e-10</td><td>3.368505e-01</td><td>20</td><td>CD4effCM   </td><td>ERAP2_CD4effCM     </td><td>5.359490e-07</td></tr>\n",
       "\t<tr><td>RNASET2 </td><td> 6</td><td>RNASET2 </td><td>167342992</td><td>rs425039  </td><td> 6</td><td>167410527</td><td>C</td><td>T</td><td>0.465184</td><td>⋯</td><td>0.00973244</td><td> 7.974871e-59</td><td> 0.594766</td><td>0.0952975</td><td>4.343648e-10</td><td>1.242034e-01</td><td>20</td><td>CD4effCM   </td><td>RNASET2_CD4effCM   </td><td>5.359490e-07</td></tr>\n",
       "\t<tr><td>TUFM    </td><td>16</td><td>TUFM    </td><td> 28853732</td><td>rs7187776 </td><td>16</td><td> 28857645</td><td>A</td><td>G</td><td>0.615571</td><td>⋯</td><td>0.01258140</td><td> 1.116896e-48</td><td>-0.461556</td><td>0.0834212</td><td>3.151040e-08</td><td>1.160348e-01</td><td>20</td><td>CD4effCM   </td><td>TUFM_CD4effCM      </td><td>1.413807e-05</td></tr>\n",
       "\t<tr><td>ORMDL3  </td><td>17</td><td>ORMDL3  </td><td> 38077294</td><td>rs12936409</td><td>17</td><td> 38043649</td><td>C</td><td>T</td><td>0.539652</td><td>⋯</td><td>0.01948890</td><td> 5.915952e-22</td><td> 0.447278</td><td>0.0872779</td><td>2.979275e-07</td><td>5.924039e-03</td><td>20</td><td>CD4effCM   </td><td>ORMDL3_CD4effCM    </td><td>9.486538e-05</td></tr>\n",
       "\t<tr><td>ERAP2   </td><td> 5</td><td>ERAP2   </td><td> 96211643</td><td>rs2432141 </td><td> 5</td><td> 96275166</td><td>C</td><td>T</td><td>0.572534</td><td>⋯</td><td>0.06514480</td><td> 1.702221e-15</td><td>-0.180254</td><td>0.0352977</td><td>3.278690e-07</td><td>3.865275e-02</td><td>20</td><td>CD4TGFbStim</td><td>ERAP2_CD4TGFbStim  </td><td>1.011368e-04</td></tr>\n",
       "\t<tr><td>RNASET2 </td><td> 6</td><td>RNASET2 </td><td>167342992</td><td>rs239934  </td><td> 6</td><td>167412048</td><td>G</td><td>A</td><td>0.467118</td><td>⋯</td><td>0.03719110</td><td> 1.122178e-16</td><td> 0.286291</td><td>0.0565947</td><td>4.222890e-07</td><td>4.908021e-01</td><td>20</td><td>CD4TGFbStim</td><td>RNASET2_CD4TGFbStim</td><td>1.263149e-04</td></tr>\n",
       "\t<tr><td>ERAP2   </td><td> 5</td><td>ERAP2   </td><td> 96211643</td><td>rs2910686 </td><td> 5</td><td> 96252589</td><td>T</td><td>C</td><td>0.567215</td><td>⋯</td><td>0.01932020</td><td>1.089881e-119</td><td>-0.203931</td><td>0.0324052</td><td>3.110760e-10</td><td>4.110765e-01</td><td>20</td><td>CD8all     </td><td>ERAP2_CD8all       </td><td>5.359490e-07</td></tr>\n",
       "\t<tr><td>RNASET2 </td><td> 6</td><td>RNASET2 </td><td>167342992</td><td>rs400837  </td><td> 6</td><td>167411008</td><td>T</td><td>C</td><td>0.464700</td><td>⋯</td><td>0.01122010</td><td> 3.356558e-80</td><td> 0.445832</td><td>0.0691461</td><td>1.135734e-10</td><td>4.819957e-01</td><td>20</td><td>CD8all     </td><td>RNASET2_CD8all     </td><td>5.359490e-07</td></tr>\n",
       "\t<tr><td>TUFM    </td><td>16</td><td>TUFM    </td><td> 28853732</td><td>rs7187776 </td><td>16</td><td> 28857645</td><td>A</td><td>G</td><td>0.615571</td><td>⋯</td><td>0.00995604</td><td> 2.853651e-67</td><td>-0.493530</td><td>0.0873780</td><td>1.621163e-08</td><td>1.148089e-01</td><td>20</td><td>CD8all     </td><td>TUFM_CD8all        </td><td>7.636231e-06</td></tr>\n",
       "\t<tr><td>ERAP2   </td><td> 5</td><td>ERAP2   </td><td> 96211643</td><td>rs2910686 </td><td> 5</td><td> 96252589</td><td>T</td><td>C</td><td>0.567215</td><td>⋯</td><td>0.01994160</td><td>4.081733e-115</td><td>-0.201529</td><td>0.0320709</td><td>3.302532e-10</td><td>4.213471e-01</td><td>20</td><td>CD8eff     </td><td>ERAP2_CD8eff       </td><td>5.359490e-07</td></tr>\n",
       "\t<tr><td>RNASET2 </td><td> 6</td><td>RNASET2 </td><td>167342992</td><td>rs2149084 </td><td> 6</td><td>167370988</td><td>G</td><td>C</td><td>0.532882</td><td>⋯</td><td>0.00925950</td><td> 2.185851e-40</td><td> 0.764570</td><td>0.1262600</td><td>1.399731e-09</td><td>2.801001e-01</td><td>20</td><td>CD8eff     </td><td>RNASET2_CD8eff     </td><td>1.256061e-06</td></tr>\n",
       "\t<tr><td>TUFM    </td><td>16</td><td>TUFM    </td><td> 28853732</td><td>rs7187776 </td><td>16</td><td> 28857645</td><td>A</td><td>G</td><td>0.615571</td><td>⋯</td><td>0.00862060</td><td> 7.849799e-72</td><td>-0.551098</td><td>0.0972318</td><td>1.445771e-08</td><td>1.769316e-01</td><td>20</td><td>CD8eff     </td><td>TUFM_CD8eff        </td><td>7.636231e-06</td></tr>\n",
       "\t<tr><td>UBE2L3  </td><td>22</td><td>UBE2L3  </td><td> 21903736</td><td>rs4821124 </td><td>22</td><td> 21979289</td><td>T</td><td>C</td><td>0.821083</td><td>⋯</td><td>0.00808968</td><td> 2.788883e-21</td><td> 1.357190</td><td>0.2726450</td><td>6.428894e-07</td><td>7.613637e-01</td><td>12</td><td>CD8eff     </td><td>UBE2L3_CD8eff      </td><td>1.715116e-04</td></tr>\n",
       "\t<tr><td>ERAP2   </td><td> 5</td><td>ERAP2   </td><td> 96211643</td><td>rs27436   </td><td> 5</td><td> 96330966</td><td>T</td><td>C</td><td>0.429884</td><td>⋯</td><td>0.02838040</td><td> 4.627132e-56</td><td>-0.209214</td><td>0.0340377</td><td>7.919395e-10</td><td>2.934217e-01</td><td>20</td><td>CD8unknown </td><td>ERAP2_CD8unknown   </td><td>8.685770e-07</td></tr>\n",
       "\t<tr><td>RNASET2 </td><td> 6</td><td>RNASET2 </td><td>167342992</td><td>rs12212247</td><td> 6</td><td>167413539</td><td>T</td><td>C</td><td>0.544971</td><td>⋯</td><td>0.01612680</td><td> 4.393290e-31</td><td> 0.481385</td><td>0.0850762</td><td>1.528957e-08</td><td>2.558509e-01</td><td>20</td><td>CD8unknown </td><td>RNASET2_CD8unknown </td><td>7.636231e-06</td></tr>\n",
       "\t<tr><td>TUFM    </td><td>16</td><td>TUFM    </td><td> 28853732</td><td>rs12928404</td><td>16</td><td> 28847246</td><td>T</td><td>C</td><td>0.609284</td><td>⋯</td><td>0.01469340</td><td> 4.835263e-36</td><td>-0.449369</td><td>0.0846328</td><td>1.098519e-07</td><td>2.385348e-02</td><td>20</td><td>CD8unknown </td><td>TUFM_CD8unknown    </td><td>4.016083e-05</td></tr>\n",
       "\t<tr><td>ERAP2   </td><td> 5</td><td>ERAP2   </td><td> 96211643</td><td>rs27998   </td><td> 5</td><td> 96367408</td><td>G</td><td>A</td><td>0.428917</td><td>⋯</td><td>0.05329100</td><td> 1.873053e-20</td><td>-0.182094</td><td>0.0345602</td><td>1.372504e-07</td><td>4.028891e-01</td><td>20</td><td>DC         </td><td>ERAP2_DC           </td><td>4.671695e-05</td></tr>\n",
       "\t<tr><td>RNASET2 </td><td> 6</td><td>RNASET2 </td><td>167342992</td><td>rs9347170 </td><td> 6</td><td>167405187</td><td>C</td><td>T</td><td>0.663926</td><td>⋯</td><td>0.02005810</td><td> 2.486435e-11</td><td> 0.728370</td><td>0.1536690</td><td>2.138578e-06</td><td>8.246911e-01</td><td>20</td><td>DC         </td><td>RNASET2_DC         </td><td>4.909254e-04</td></tr>\n",
       "\t<tr><td>TUFM    </td><td>16</td><td>TUFM    </td><td> 28853732</td><td>rs55719896</td><td>16</td><td> 28846866</td><td>G</td><td>A</td><td>0.619923</td><td>⋯</td><td>0.02152920</td><td> 4.477617e-31</td><td>-0.335247</td><td>0.0641425</td><td>1.726646e-07</td><td>8.140986e-02</td><td>20</td><td>DC         </td><td>TUFM_DC            </td><td>5.681211e-05</td></tr>\n",
       "\t<tr><td>ERAP2   </td><td> 5</td><td>ERAP2   </td><td> 96211643</td><td>rs2910686 </td><td> 5</td><td> 96252589</td><td>T</td><td>C</td><td>0.567215</td><td>⋯</td><td>0.03449250</td><td> 1.547700e-45</td><td>-0.187605</td><td>0.0316086</td><td>2.933912e-09</td><td>3.811051e-01</td><td>20</td><td>MonoC      </td><td>ERAP2_MonoC        </td><td>2.170082e-06</td></tr>\n",
       "\t<tr><td>TUFM    </td><td>16</td><td>TUFM    </td><td> 28853732</td><td>rs7187776 </td><td>16</td><td> 28857645</td><td>A</td><td>G</td><td>0.615571</td><td>⋯</td><td>0.01570400</td><td> 1.325731e-36</td><td>-0.429068</td><td>0.0794388</td><td>6.618069e-08</td><td>4.025758e-01</td><td>20</td><td>MonoC      </td><td>TUFM_MonoC         </td><td>2.613064e-05</td></tr>\n",
       "\t<tr><td>ERAP2   </td><td> 5</td><td>ERAP2   </td><td> 96211643</td><td>rs2910686 </td><td> 5</td><td> 96252589</td><td>T</td><td>C</td><td>0.567215</td><td>⋯</td><td>0.04128870</td><td> 1.094054e-44</td><td>-0.158268</td><td>0.0267120</td><td>3.123561e-09</td><td>6.253231e-01</td><td>20</td><td>MonoNC     </td><td>ERAP2_MonoNC       </td><td>2.170082e-06</td></tr>\n",
       "\t<tr><td>TUFM    </td><td>16</td><td>TUFM    </td><td> 28853732</td><td>rs7187776 </td><td>16</td><td> 28857645</td><td>A</td><td>G</td><td>0.615571</td><td>⋯</td><td>0.02148480</td><td> 8.543667e-30</td><td>-0.349556</td><td>0.0661344</td><td>1.253403e-07</td><td>4.154671e-01</td><td>20</td><td>MonoNC     </td><td>TUFM_MonoNC        </td><td>4.418670e-05</td></tr>\n",
       "\t<tr><td>ERAP2   </td><td> 5</td><td>ERAP2   </td><td> 96211643</td><td>rs2548226 </td><td> 5</td><td> 96275186</td><td>C</td><td>T</td><td>0.582205</td><td>⋯</td><td>0.04306070</td><td> 2.167436e-30</td><td>-0.194498</td><td>0.0334505</td><td>6.082261e-09</td><td>5.036804e-02</td><td>20</td><td>NKact      </td><td>ERAP2_NKact        </td><td>3.752355e-06</td></tr>\n",
       "\t<tr><td>ERAP2   </td><td> 5</td><td>ERAP2   </td><td> 96211643</td><td>rs2910686 </td><td> 5</td><td> 96252589</td><td>T</td><td>C</td><td>0.567215</td><td>⋯</td><td>0.02247820</td><td>5.962536e-122</td><td>-0.173620</td><td>0.0275697</td><td>3.024799e-10</td><td>6.820651e-01</td><td>20</td><td>NKmat      </td><td>ERAP2_NKmat        </td><td>5.359490e-07</td></tr>\n",
       "\t<tr><td>C5orf56 </td><td> 5</td><td>C5orf56 </td><td>131746328</td><td>rs2522051 </td><td> 5</td><td>131797578</td><td>T</td><td>C</td><td>0.540135</td><td>⋯</td><td>0.00905650</td><td> 2.492306e-14</td><td> 1.532600</td><td>0.2844310</td><td>7.113264e-08</td><td>2.063065e-08</td><td>20</td><td>NKmat      </td><td>C5orf56_NKmat      </td><td>2.700564e-05</td></tr>\n",
       "\t<tr><td>RNASET2 </td><td> 6</td><td>RNASET2 </td><td>167342992</td><td>rs425039  </td><td> 6</td><td>167410527</td><td>C</td><td>T</td><td>0.465184</td><td>⋯</td><td>0.01071850</td><td> 4.807268e-43</td><td> 0.634977</td><td>0.1045980</td><td>1.273944e-09</td><td>4.359863e-01</td><td>20</td><td>NKmat      </td><td>RNASET2_NKmat      </td><td>1.256061e-06</td></tr>\n",
       "\t<tr><td>TUFM    </td><td>16</td><td>TUFM    </td><td> 28853732</td><td>rs7187776 </td><td>16</td><td> 28857645</td><td>A</td><td>G</td><td>0.615571</td><td>⋯</td><td>0.00835159</td><td> 3.599653e-45</td><td>-0.722876</td><td>0.1314020</td><td>3.770808e-08</td><td>7.236992e-02</td><td>20</td><td>NKmat      </td><td>TUFM_NKmat         </td><td>1.553896e-05</td></tr>\n",
       "\t<tr><td>UBE2L3  </td><td>22</td><td>UBE2L3  </td><td> 21903736</td><td>rs4820091 </td><td>22</td><td> 21940189</td><td>T</td><td>G</td><td>0.820600</td><td>⋯</td><td>0.00870445</td><td> 4.203846e-15</td><td> 1.573860</td><td>0.3271470</td><td>1.502938e-06</td><td>2.298916e-01</td><td>12</td><td>NKmat      </td><td>UBE2L3_NKmat       </td><td>3.618396e-04</td></tr>\n",
       "\t<tr><td>ERAP2   </td><td> 5</td><td>ERAP2   </td><td> 96211643</td><td>rs1046396 </td><td> 5</td><td> 96273187</td><td>G</td><td>A</td><td>0.570116</td><td>⋯</td><td>0.07896360</td><td> 1.620691e-13</td><td>-0.159649</td><td>0.0323863</td><td>8.242404e-07</td><td>2.511906e-01</td><td>20</td><td>Plasma     </td><td>ERAP2_Plasma       </td><td>2.086162e-04</td></tr>\n",
       "</tbody>\n",
       "</table>\n"
      ],
      "text/latex": [
       "A data.table: 43 × 24\n",
       "\\begin{tabular}{lllllllllllllllllllll}\n",
       " probeID & ProbeChr & Gene & Probe\\_bp & topSNP & topSNP\\_chr & topSNP\\_bp & A1 & A2 & Freq & ⋯ & se\\_eQTL & p\\_eQTL & b\\_SMR & se\\_SMR & p\\_SMR & p\\_HEIDI & nsnp\\_HEIDI & Cell\\_type & comb & qv\\\\\n",
       " <chr> & <int> & <chr> & <int> & <chr> & <int> & <int> & <chr> & <chr> & <dbl> & ⋯ & <dbl> & <dbl> & <dbl> & <dbl> & <dbl> & <dbl> & <int> & <chr> & <chr> & <dbl>\\\\\n",
       "\\hline\n",
       "\t ERAP2    &  5 & ERAP2    &  96211643 & rs27295    &  5 &  96358687 & C & T & 0.431335 & ⋯ & 0.02186180 &  9.580355e-47 & -0.292410 & 0.0491637 & 2.719701e-09 & 7.152581e-01 & 20 & BimmNaive   & ERAP2\\_BimmNaive     & 2.170082e-06\\\\\n",
       "\t TUFM     & 16 & TUFM     &  28853732 & rs7187776  & 16 &  28857645 & A & G & 0.615571 & ⋯ & 0.01473370 &  3.420663e-67 & -0.333696 & 0.0590836 & 1.624574e-08 & 7.104661e-02 & 20 & BimmNaive   & TUFM\\_BimmNaive      & 7.636231e-06\\\\\n",
       "\t ORMDL3   & 17 & ORMDL3   &  38077294 & rs8067378  & 17 &  38051348 & A & G & 0.491779 & ⋯ & 0.02442030 &  1.576034e-50 &  0.199113 & 0.0401591 & 7.118453e-07 & 1.339933e-01 & 20 & BimmNaive   & ORMDL3\\_BimmNaive    & 1.849102e-04\\\\\n",
       "\t ERAP2    &  5 & ERAP2    &  96211643 & rs27998    &  5 &  96367408 & G & A & 0.428917 & ⋯ & 0.02443750 &  7.455040e-54 & -0.238227 & 0.0402680 & 3.297681e-09 & 8.812517e-01 & 20 & Bmem        & ERAP2\\_Bmem          & 2.170082e-06\\\\\n",
       "\t TUFM     & 16 & TUFM     &  28853732 & rs7187776  & 16 &  28857645 & A & G & 0.615571 & ⋯ & 0.01434550 &  3.904825e-45 & -0.421010 & 0.0765345 & 3.778108e-08 & 1.662807e-01 & 20 & Bmem        & TUFM\\_Bmem           & 1.553896e-05\\\\\n",
       "\t ORMDL3   & 17 & ORMDL3   &  38077294 & rs7359623  & 17 &  38049589 & C & T & 0.496132 & ⋯ & 0.02815960 &  1.782539e-39 &  0.204092 & 0.0404580 & 4.545983e-07 & 4.388768e-02 & 20 & Bmem        & ORMDL3\\_Bmem         & 1.319799e-04\\\\\n",
       "\t SCAMP3   &  1 & SCAMP3   & 155225770 & rs1076556  &  1 & 155234821 & A & G & 0.713250 & ⋯ & 0.01138940 &  1.048093e-32 & -0.641302 & 0.1306390 & 9.155943e-07 & 1.544640e-01 & 20 & CD4all      & SCAMP3\\_CD4all       & 2.259446e-04\\\\\n",
       "\t GPX1     &  3 & GPX1     &  49394609 & rs1801143  &  3 &  49570200 & C & T & 0.701161 & ⋯ & 0.00677544 &  7.627006e-13 &  2.124130 & 0.4262650 & 6.256809e-07 & 6.638163e-01 & 20 & CD4all      & GPX1\\_CD4all         & 1.715116e-04\\\\\n",
       "\t ERAP2    &  5 & ERAP2    &  96211643 & rs2910686  &  5 &  96252589 & T & C & 0.567215 & ⋯ & 0.01822860 & 4.685026e-155 & -0.189532 & 0.0298614 & 2.194715e-10 & 3.353872e-01 & 20 & CD4all      & ERAP2\\_CD4all        & 5.359490e-07\\\\\n",
       "\t RNASET2  &  6 & RNASET2  & 167342992 & rs425039   &  6 & 167410527 & C & T & 0.465184 & ⋯ & 0.00866928 & 1.421406e-130 &  0.444121 & 0.0681412 & 7.141734e-11 & 5.175076e-01 & 20 & CD4all      & RNASET2\\_CD4all      & 5.359490e-07\\\\\n",
       "\t TUFM     & 16 & TUFM     &  28853732 & rs7187776  & 16 &  28857645 & A & G & 0.615571 & ⋯ & 0.00789466 & 3.280907e-121 & -0.460691 & 0.0795810 & 7.082208e-09 & 8.019225e-02 & 20 & CD4all      & TUFM\\_CD4all         & 4.112241e-06\\\\\n",
       "\t SLC2A4RG & 20 & SLC2A4RG &  62371214 & rs1056441  & 20 &  62370349 & T & C & 0.332205 & ⋯ & 0.01014560 &  3.342420e-15 &  1.222640 & 0.2427830 & 4.754751e-07 & 1.939869e-02 & 20 & CD4all      & SLC2A4RG\\_CD4all     & 1.340968e-04\\\\\n",
       "\t UBE2L3   & 22 & UBE2L3   &  21903736 & rs1811069  & 22 &  21982054 & T & G & 0.814797 & ⋯ & 0.00771402 &  1.622794e-17 &  1.539520 & 0.3238980 & 2.003140e-06 & 3.095185e-01 & 12 & CD4all      & UBE2L3\\_CD4all       & 4.707831e-04\\\\\n",
       "\t ERAP2    &  5 & ERAP2    &  96211643 & rs2910686  &  5 &  96252589 & T & C & 0.567215 & ⋯ & 0.02389370 & 2.027489e-103 & -0.177626 & 0.0283904 & 3.935936e-10 & 3.368505e-01 & 20 & CD4effCM    & ERAP2\\_CD4effCM      & 5.359490e-07\\\\\n",
       "\t RNASET2  &  6 & RNASET2  & 167342992 & rs425039   &  6 & 167410527 & C & T & 0.465184 & ⋯ & 0.00973244 &  7.974871e-59 &  0.594766 & 0.0952975 & 4.343648e-10 & 1.242034e-01 & 20 & CD4effCM    & RNASET2\\_CD4effCM    & 5.359490e-07\\\\\n",
       "\t TUFM     & 16 & TUFM     &  28853732 & rs7187776  & 16 &  28857645 & A & G & 0.615571 & ⋯ & 0.01258140 &  1.116896e-48 & -0.461556 & 0.0834212 & 3.151040e-08 & 1.160348e-01 & 20 & CD4effCM    & TUFM\\_CD4effCM       & 1.413807e-05\\\\\n",
       "\t ORMDL3   & 17 & ORMDL3   &  38077294 & rs12936409 & 17 &  38043649 & C & T & 0.539652 & ⋯ & 0.01948890 &  5.915952e-22 &  0.447278 & 0.0872779 & 2.979275e-07 & 5.924039e-03 & 20 & CD4effCM    & ORMDL3\\_CD4effCM     & 9.486538e-05\\\\\n",
       "\t ERAP2    &  5 & ERAP2    &  96211643 & rs2432141  &  5 &  96275166 & C & T & 0.572534 & ⋯ & 0.06514480 &  1.702221e-15 & -0.180254 & 0.0352977 & 3.278690e-07 & 3.865275e-02 & 20 & CD4TGFbStim & ERAP2\\_CD4TGFbStim   & 1.011368e-04\\\\\n",
       "\t RNASET2  &  6 & RNASET2  & 167342992 & rs239934   &  6 & 167412048 & G & A & 0.467118 & ⋯ & 0.03719110 &  1.122178e-16 &  0.286291 & 0.0565947 & 4.222890e-07 & 4.908021e-01 & 20 & CD4TGFbStim & RNASET2\\_CD4TGFbStim & 1.263149e-04\\\\\n",
       "\t ERAP2    &  5 & ERAP2    &  96211643 & rs2910686  &  5 &  96252589 & T & C & 0.567215 & ⋯ & 0.01932020 & 1.089881e-119 & -0.203931 & 0.0324052 & 3.110760e-10 & 4.110765e-01 & 20 & CD8all      & ERAP2\\_CD8all        & 5.359490e-07\\\\\n",
       "\t RNASET2  &  6 & RNASET2  & 167342992 & rs400837   &  6 & 167411008 & T & C & 0.464700 & ⋯ & 0.01122010 &  3.356558e-80 &  0.445832 & 0.0691461 & 1.135734e-10 & 4.819957e-01 & 20 & CD8all      & RNASET2\\_CD8all      & 5.359490e-07\\\\\n",
       "\t TUFM     & 16 & TUFM     &  28853732 & rs7187776  & 16 &  28857645 & A & G & 0.615571 & ⋯ & 0.00995604 &  2.853651e-67 & -0.493530 & 0.0873780 & 1.621163e-08 & 1.148089e-01 & 20 & CD8all      & TUFM\\_CD8all         & 7.636231e-06\\\\\n",
       "\t ERAP2    &  5 & ERAP2    &  96211643 & rs2910686  &  5 &  96252589 & T & C & 0.567215 & ⋯ & 0.01994160 & 4.081733e-115 & -0.201529 & 0.0320709 & 3.302532e-10 & 4.213471e-01 & 20 & CD8eff      & ERAP2\\_CD8eff        & 5.359490e-07\\\\\n",
       "\t RNASET2  &  6 & RNASET2  & 167342992 & rs2149084  &  6 & 167370988 & G & C & 0.532882 & ⋯ & 0.00925950 &  2.185851e-40 &  0.764570 & 0.1262600 & 1.399731e-09 & 2.801001e-01 & 20 & CD8eff      & RNASET2\\_CD8eff      & 1.256061e-06\\\\\n",
       "\t TUFM     & 16 & TUFM     &  28853732 & rs7187776  & 16 &  28857645 & A & G & 0.615571 & ⋯ & 0.00862060 &  7.849799e-72 & -0.551098 & 0.0972318 & 1.445771e-08 & 1.769316e-01 & 20 & CD8eff      & TUFM\\_CD8eff         & 7.636231e-06\\\\\n",
       "\t UBE2L3   & 22 & UBE2L3   &  21903736 & rs4821124  & 22 &  21979289 & T & C & 0.821083 & ⋯ & 0.00808968 &  2.788883e-21 &  1.357190 & 0.2726450 & 6.428894e-07 & 7.613637e-01 & 12 & CD8eff      & UBE2L3\\_CD8eff       & 1.715116e-04\\\\\n",
       "\t ERAP2    &  5 & ERAP2    &  96211643 & rs27436    &  5 &  96330966 & T & C & 0.429884 & ⋯ & 0.02838040 &  4.627132e-56 & -0.209214 & 0.0340377 & 7.919395e-10 & 2.934217e-01 & 20 & CD8unknown  & ERAP2\\_CD8unknown    & 8.685770e-07\\\\\n",
       "\t RNASET2  &  6 & RNASET2  & 167342992 & rs12212247 &  6 & 167413539 & T & C & 0.544971 & ⋯ & 0.01612680 &  4.393290e-31 &  0.481385 & 0.0850762 & 1.528957e-08 & 2.558509e-01 & 20 & CD8unknown  & RNASET2\\_CD8unknown  & 7.636231e-06\\\\\n",
       "\t TUFM     & 16 & TUFM     &  28853732 & rs12928404 & 16 &  28847246 & T & C & 0.609284 & ⋯ & 0.01469340 &  4.835263e-36 & -0.449369 & 0.0846328 & 1.098519e-07 & 2.385348e-02 & 20 & CD8unknown  & TUFM\\_CD8unknown     & 4.016083e-05\\\\\n",
       "\t ERAP2    &  5 & ERAP2    &  96211643 & rs27998    &  5 &  96367408 & G & A & 0.428917 & ⋯ & 0.05329100 &  1.873053e-20 & -0.182094 & 0.0345602 & 1.372504e-07 & 4.028891e-01 & 20 & DC          & ERAP2\\_DC            & 4.671695e-05\\\\\n",
       "\t RNASET2  &  6 & RNASET2  & 167342992 & rs9347170  &  6 & 167405187 & C & T & 0.663926 & ⋯ & 0.02005810 &  2.486435e-11 &  0.728370 & 0.1536690 & 2.138578e-06 & 8.246911e-01 & 20 & DC          & RNASET2\\_DC          & 4.909254e-04\\\\\n",
       "\t TUFM     & 16 & TUFM     &  28853732 & rs55719896 & 16 &  28846866 & G & A & 0.619923 & ⋯ & 0.02152920 &  4.477617e-31 & -0.335247 & 0.0641425 & 1.726646e-07 & 8.140986e-02 & 20 & DC          & TUFM\\_DC             & 5.681211e-05\\\\\n",
       "\t ERAP2    &  5 & ERAP2    &  96211643 & rs2910686  &  5 &  96252589 & T & C & 0.567215 & ⋯ & 0.03449250 &  1.547700e-45 & -0.187605 & 0.0316086 & 2.933912e-09 & 3.811051e-01 & 20 & MonoC       & ERAP2\\_MonoC         & 2.170082e-06\\\\\n",
       "\t TUFM     & 16 & TUFM     &  28853732 & rs7187776  & 16 &  28857645 & A & G & 0.615571 & ⋯ & 0.01570400 &  1.325731e-36 & -0.429068 & 0.0794388 & 6.618069e-08 & 4.025758e-01 & 20 & MonoC       & TUFM\\_MonoC          & 2.613064e-05\\\\\n",
       "\t ERAP2    &  5 & ERAP2    &  96211643 & rs2910686  &  5 &  96252589 & T & C & 0.567215 & ⋯ & 0.04128870 &  1.094054e-44 & -0.158268 & 0.0267120 & 3.123561e-09 & 6.253231e-01 & 20 & MonoNC      & ERAP2\\_MonoNC        & 2.170082e-06\\\\\n",
       "\t TUFM     & 16 & TUFM     &  28853732 & rs7187776  & 16 &  28857645 & A & G & 0.615571 & ⋯ & 0.02148480 &  8.543667e-30 & -0.349556 & 0.0661344 & 1.253403e-07 & 4.154671e-01 & 20 & MonoNC      & TUFM\\_MonoNC         & 4.418670e-05\\\\\n",
       "\t ERAP2    &  5 & ERAP2    &  96211643 & rs2548226  &  5 &  96275186 & C & T & 0.582205 & ⋯ & 0.04306070 &  2.167436e-30 & -0.194498 & 0.0334505 & 6.082261e-09 & 5.036804e-02 & 20 & NKact       & ERAP2\\_NKact         & 3.752355e-06\\\\\n",
       "\t ERAP2    &  5 & ERAP2    &  96211643 & rs2910686  &  5 &  96252589 & T & C & 0.567215 & ⋯ & 0.02247820 & 5.962536e-122 & -0.173620 & 0.0275697 & 3.024799e-10 & 6.820651e-01 & 20 & NKmat       & ERAP2\\_NKmat         & 5.359490e-07\\\\\n",
       "\t C5orf56  &  5 & C5orf56  & 131746328 & rs2522051  &  5 & 131797578 & T & C & 0.540135 & ⋯ & 0.00905650 &  2.492306e-14 &  1.532600 & 0.2844310 & 7.113264e-08 & 2.063065e-08 & 20 & NKmat       & C5orf56\\_NKmat       & 2.700564e-05\\\\\n",
       "\t RNASET2  &  6 & RNASET2  & 167342992 & rs425039   &  6 & 167410527 & C & T & 0.465184 & ⋯ & 0.01071850 &  4.807268e-43 &  0.634977 & 0.1045980 & 1.273944e-09 & 4.359863e-01 & 20 & NKmat       & RNASET2\\_NKmat       & 1.256061e-06\\\\\n",
       "\t TUFM     & 16 & TUFM     &  28853732 & rs7187776  & 16 &  28857645 & A & G & 0.615571 & ⋯ & 0.00835159 &  3.599653e-45 & -0.722876 & 0.1314020 & 3.770808e-08 & 7.236992e-02 & 20 & NKmat       & TUFM\\_NKmat          & 1.553896e-05\\\\\n",
       "\t UBE2L3   & 22 & UBE2L3   &  21903736 & rs4820091  & 22 &  21940189 & T & G & 0.820600 & ⋯ & 0.00870445 &  4.203846e-15 &  1.573860 & 0.3271470 & 1.502938e-06 & 2.298916e-01 & 12 & NKmat       & UBE2L3\\_NKmat        & 3.618396e-04\\\\\n",
       "\t ERAP2    &  5 & ERAP2    &  96211643 & rs1046396  &  5 &  96273187 & G & A & 0.570116 & ⋯ & 0.07896360 &  1.620691e-13 & -0.159649 & 0.0323863 & 8.242404e-07 & 2.511906e-01 & 20 & Plasma      & ERAP2\\_Plasma        & 2.086162e-04\\\\\n",
       "\\end{tabular}\n"
      ],
      "text/markdown": [
       "\n",
       "A data.table: 43 × 24\n",
       "\n",
       "| probeID &lt;chr&gt; | ProbeChr &lt;int&gt; | Gene &lt;chr&gt; | Probe_bp &lt;int&gt; | topSNP &lt;chr&gt; | topSNP_chr &lt;int&gt; | topSNP_bp &lt;int&gt; | A1 &lt;chr&gt; | A2 &lt;chr&gt; | Freq &lt;dbl&gt; | ⋯ ⋯ | se_eQTL &lt;dbl&gt; | p_eQTL &lt;dbl&gt; | b_SMR &lt;dbl&gt; | se_SMR &lt;dbl&gt; | p_SMR &lt;dbl&gt; | p_HEIDI &lt;dbl&gt; | nsnp_HEIDI &lt;int&gt; | Cell_type &lt;chr&gt; | comb &lt;chr&gt; | qv &lt;dbl&gt; |\n",
       "|---|---|---|---|---|---|---|---|---|---|---|---|---|---|---|---|---|---|---|---|---|\n",
       "| ERAP2    |  5 | ERAP2    |  96211643 | rs27295    |  5 |  96358687 | C | T | 0.431335 | ⋯ | 0.02186180 |  9.580355e-47 | -0.292410 | 0.0491637 | 2.719701e-09 | 7.152581e-01 | 20 | BimmNaive   | ERAP2_BimmNaive     | 2.170082e-06 |\n",
       "| TUFM     | 16 | TUFM     |  28853732 | rs7187776  | 16 |  28857645 | A | G | 0.615571 | ⋯ | 0.01473370 |  3.420663e-67 | -0.333696 | 0.0590836 | 1.624574e-08 | 7.104661e-02 | 20 | BimmNaive   | TUFM_BimmNaive      | 7.636231e-06 |\n",
       "| ORMDL3   | 17 | ORMDL3   |  38077294 | rs8067378  | 17 |  38051348 | A | G | 0.491779 | ⋯ | 0.02442030 |  1.576034e-50 |  0.199113 | 0.0401591 | 7.118453e-07 | 1.339933e-01 | 20 | BimmNaive   | ORMDL3_BimmNaive    | 1.849102e-04 |\n",
       "| ERAP2    |  5 | ERAP2    |  96211643 | rs27998    |  5 |  96367408 | G | A | 0.428917 | ⋯ | 0.02443750 |  7.455040e-54 | -0.238227 | 0.0402680 | 3.297681e-09 | 8.812517e-01 | 20 | Bmem        | ERAP2_Bmem          | 2.170082e-06 |\n",
       "| TUFM     | 16 | TUFM     |  28853732 | rs7187776  | 16 |  28857645 | A | G | 0.615571 | ⋯ | 0.01434550 |  3.904825e-45 | -0.421010 | 0.0765345 | 3.778108e-08 | 1.662807e-01 | 20 | Bmem        | TUFM_Bmem           | 1.553896e-05 |\n",
       "| ORMDL3   | 17 | ORMDL3   |  38077294 | rs7359623  | 17 |  38049589 | C | T | 0.496132 | ⋯ | 0.02815960 |  1.782539e-39 |  0.204092 | 0.0404580 | 4.545983e-07 | 4.388768e-02 | 20 | Bmem        | ORMDL3_Bmem         | 1.319799e-04 |\n",
       "| SCAMP3   |  1 | SCAMP3   | 155225770 | rs1076556  |  1 | 155234821 | A | G | 0.713250 | ⋯ | 0.01138940 |  1.048093e-32 | -0.641302 | 0.1306390 | 9.155943e-07 | 1.544640e-01 | 20 | CD4all      | SCAMP3_CD4all       | 2.259446e-04 |\n",
       "| GPX1     |  3 | GPX1     |  49394609 | rs1801143  |  3 |  49570200 | C | T | 0.701161 | ⋯ | 0.00677544 |  7.627006e-13 |  2.124130 | 0.4262650 | 6.256809e-07 | 6.638163e-01 | 20 | CD4all      | GPX1_CD4all         | 1.715116e-04 |\n",
       "| ERAP2    |  5 | ERAP2    |  96211643 | rs2910686  |  5 |  96252589 | T | C | 0.567215 | ⋯ | 0.01822860 | 4.685026e-155 | -0.189532 | 0.0298614 | 2.194715e-10 | 3.353872e-01 | 20 | CD4all      | ERAP2_CD4all        | 5.359490e-07 |\n",
       "| RNASET2  |  6 | RNASET2  | 167342992 | rs425039   |  6 | 167410527 | C | T | 0.465184 | ⋯ | 0.00866928 | 1.421406e-130 |  0.444121 | 0.0681412 | 7.141734e-11 | 5.175076e-01 | 20 | CD4all      | RNASET2_CD4all      | 5.359490e-07 |\n",
       "| TUFM     | 16 | TUFM     |  28853732 | rs7187776  | 16 |  28857645 | A | G | 0.615571 | ⋯ | 0.00789466 | 3.280907e-121 | -0.460691 | 0.0795810 | 7.082208e-09 | 8.019225e-02 | 20 | CD4all      | TUFM_CD4all         | 4.112241e-06 |\n",
       "| SLC2A4RG | 20 | SLC2A4RG |  62371214 | rs1056441  | 20 |  62370349 | T | C | 0.332205 | ⋯ | 0.01014560 |  3.342420e-15 |  1.222640 | 0.2427830 | 4.754751e-07 | 1.939869e-02 | 20 | CD4all      | SLC2A4RG_CD4all     | 1.340968e-04 |\n",
       "| UBE2L3   | 22 | UBE2L3   |  21903736 | rs1811069  | 22 |  21982054 | T | G | 0.814797 | ⋯ | 0.00771402 |  1.622794e-17 |  1.539520 | 0.3238980 | 2.003140e-06 | 3.095185e-01 | 12 | CD4all      | UBE2L3_CD4all       | 4.707831e-04 |\n",
       "| ERAP2    |  5 | ERAP2    |  96211643 | rs2910686  |  5 |  96252589 | T | C | 0.567215 | ⋯ | 0.02389370 | 2.027489e-103 | -0.177626 | 0.0283904 | 3.935936e-10 | 3.368505e-01 | 20 | CD4effCM    | ERAP2_CD4effCM      | 5.359490e-07 |\n",
       "| RNASET2  |  6 | RNASET2  | 167342992 | rs425039   |  6 | 167410527 | C | T | 0.465184 | ⋯ | 0.00973244 |  7.974871e-59 |  0.594766 | 0.0952975 | 4.343648e-10 | 1.242034e-01 | 20 | CD4effCM    | RNASET2_CD4effCM    | 5.359490e-07 |\n",
       "| TUFM     | 16 | TUFM     |  28853732 | rs7187776  | 16 |  28857645 | A | G | 0.615571 | ⋯ | 0.01258140 |  1.116896e-48 | -0.461556 | 0.0834212 | 3.151040e-08 | 1.160348e-01 | 20 | CD4effCM    | TUFM_CD4effCM       | 1.413807e-05 |\n",
       "| ORMDL3   | 17 | ORMDL3   |  38077294 | rs12936409 | 17 |  38043649 | C | T | 0.539652 | ⋯ | 0.01948890 |  5.915952e-22 |  0.447278 | 0.0872779 | 2.979275e-07 | 5.924039e-03 | 20 | CD4effCM    | ORMDL3_CD4effCM     | 9.486538e-05 |\n",
       "| ERAP2    |  5 | ERAP2    |  96211643 | rs2432141  |  5 |  96275166 | C | T | 0.572534 | ⋯ | 0.06514480 |  1.702221e-15 | -0.180254 | 0.0352977 | 3.278690e-07 | 3.865275e-02 | 20 | CD4TGFbStim | ERAP2_CD4TGFbStim   | 1.011368e-04 |\n",
       "| RNASET2  |  6 | RNASET2  | 167342992 | rs239934   |  6 | 167412048 | G | A | 0.467118 | ⋯ | 0.03719110 |  1.122178e-16 |  0.286291 | 0.0565947 | 4.222890e-07 | 4.908021e-01 | 20 | CD4TGFbStim | RNASET2_CD4TGFbStim | 1.263149e-04 |\n",
       "| ERAP2    |  5 | ERAP2    |  96211643 | rs2910686  |  5 |  96252589 | T | C | 0.567215 | ⋯ | 0.01932020 | 1.089881e-119 | -0.203931 | 0.0324052 | 3.110760e-10 | 4.110765e-01 | 20 | CD8all      | ERAP2_CD8all        | 5.359490e-07 |\n",
       "| RNASET2  |  6 | RNASET2  | 167342992 | rs400837   |  6 | 167411008 | T | C | 0.464700 | ⋯ | 0.01122010 |  3.356558e-80 |  0.445832 | 0.0691461 | 1.135734e-10 | 4.819957e-01 | 20 | CD8all      | RNASET2_CD8all      | 5.359490e-07 |\n",
       "| TUFM     | 16 | TUFM     |  28853732 | rs7187776  | 16 |  28857645 | A | G | 0.615571 | ⋯ | 0.00995604 |  2.853651e-67 | -0.493530 | 0.0873780 | 1.621163e-08 | 1.148089e-01 | 20 | CD8all      | TUFM_CD8all         | 7.636231e-06 |\n",
       "| ERAP2    |  5 | ERAP2    |  96211643 | rs2910686  |  5 |  96252589 | T | C | 0.567215 | ⋯ | 0.01994160 | 4.081733e-115 | -0.201529 | 0.0320709 | 3.302532e-10 | 4.213471e-01 | 20 | CD8eff      | ERAP2_CD8eff        | 5.359490e-07 |\n",
       "| RNASET2  |  6 | RNASET2  | 167342992 | rs2149084  |  6 | 167370988 | G | C | 0.532882 | ⋯ | 0.00925950 |  2.185851e-40 |  0.764570 | 0.1262600 | 1.399731e-09 | 2.801001e-01 | 20 | CD8eff      | RNASET2_CD8eff      | 1.256061e-06 |\n",
       "| TUFM     | 16 | TUFM     |  28853732 | rs7187776  | 16 |  28857645 | A | G | 0.615571 | ⋯ | 0.00862060 |  7.849799e-72 | -0.551098 | 0.0972318 | 1.445771e-08 | 1.769316e-01 | 20 | CD8eff      | TUFM_CD8eff         | 7.636231e-06 |\n",
       "| UBE2L3   | 22 | UBE2L3   |  21903736 | rs4821124  | 22 |  21979289 | T | C | 0.821083 | ⋯ | 0.00808968 |  2.788883e-21 |  1.357190 | 0.2726450 | 6.428894e-07 | 7.613637e-01 | 12 | CD8eff      | UBE2L3_CD8eff       | 1.715116e-04 |\n",
       "| ERAP2    |  5 | ERAP2    |  96211643 | rs27436    |  5 |  96330966 | T | C | 0.429884 | ⋯ | 0.02838040 |  4.627132e-56 | -0.209214 | 0.0340377 | 7.919395e-10 | 2.934217e-01 | 20 | CD8unknown  | ERAP2_CD8unknown    | 8.685770e-07 |\n",
       "| RNASET2  |  6 | RNASET2  | 167342992 | rs12212247 |  6 | 167413539 | T | C | 0.544971 | ⋯ | 0.01612680 |  4.393290e-31 |  0.481385 | 0.0850762 | 1.528957e-08 | 2.558509e-01 | 20 | CD8unknown  | RNASET2_CD8unknown  | 7.636231e-06 |\n",
       "| TUFM     | 16 | TUFM     |  28853732 | rs12928404 | 16 |  28847246 | T | C | 0.609284 | ⋯ | 0.01469340 |  4.835263e-36 | -0.449369 | 0.0846328 | 1.098519e-07 | 2.385348e-02 | 20 | CD8unknown  | TUFM_CD8unknown     | 4.016083e-05 |\n",
       "| ERAP2    |  5 | ERAP2    |  96211643 | rs27998    |  5 |  96367408 | G | A | 0.428917 | ⋯ | 0.05329100 |  1.873053e-20 | -0.182094 | 0.0345602 | 1.372504e-07 | 4.028891e-01 | 20 | DC          | ERAP2_DC            | 4.671695e-05 |\n",
       "| RNASET2  |  6 | RNASET2  | 167342992 | rs9347170  |  6 | 167405187 | C | T | 0.663926 | ⋯ | 0.02005810 |  2.486435e-11 |  0.728370 | 0.1536690 | 2.138578e-06 | 8.246911e-01 | 20 | DC          | RNASET2_DC          | 4.909254e-04 |\n",
       "| TUFM     | 16 | TUFM     |  28853732 | rs55719896 | 16 |  28846866 | G | A | 0.619923 | ⋯ | 0.02152920 |  4.477617e-31 | -0.335247 | 0.0641425 | 1.726646e-07 | 8.140986e-02 | 20 | DC          | TUFM_DC             | 5.681211e-05 |\n",
       "| ERAP2    |  5 | ERAP2    |  96211643 | rs2910686  |  5 |  96252589 | T | C | 0.567215 | ⋯ | 0.03449250 |  1.547700e-45 | -0.187605 | 0.0316086 | 2.933912e-09 | 3.811051e-01 | 20 | MonoC       | ERAP2_MonoC         | 2.170082e-06 |\n",
       "| TUFM     | 16 | TUFM     |  28853732 | rs7187776  | 16 |  28857645 | A | G | 0.615571 | ⋯ | 0.01570400 |  1.325731e-36 | -0.429068 | 0.0794388 | 6.618069e-08 | 4.025758e-01 | 20 | MonoC       | TUFM_MonoC          | 2.613064e-05 |\n",
       "| ERAP2    |  5 | ERAP2    |  96211643 | rs2910686  |  5 |  96252589 | T | C | 0.567215 | ⋯ | 0.04128870 |  1.094054e-44 | -0.158268 | 0.0267120 | 3.123561e-09 | 6.253231e-01 | 20 | MonoNC      | ERAP2_MonoNC        | 2.170082e-06 |\n",
       "| TUFM     | 16 | TUFM     |  28853732 | rs7187776  | 16 |  28857645 | A | G | 0.615571 | ⋯ | 0.02148480 |  8.543667e-30 | -0.349556 | 0.0661344 | 1.253403e-07 | 4.154671e-01 | 20 | MonoNC      | TUFM_MonoNC         | 4.418670e-05 |\n",
       "| ERAP2    |  5 | ERAP2    |  96211643 | rs2548226  |  5 |  96275186 | C | T | 0.582205 | ⋯ | 0.04306070 |  2.167436e-30 | -0.194498 | 0.0334505 | 6.082261e-09 | 5.036804e-02 | 20 | NKact       | ERAP2_NKact         | 3.752355e-06 |\n",
       "| ERAP2    |  5 | ERAP2    |  96211643 | rs2910686  |  5 |  96252589 | T | C | 0.567215 | ⋯ | 0.02247820 | 5.962536e-122 | -0.173620 | 0.0275697 | 3.024799e-10 | 6.820651e-01 | 20 | NKmat       | ERAP2_NKmat         | 5.359490e-07 |\n",
       "| C5orf56  |  5 | C5orf56  | 131746328 | rs2522051  |  5 | 131797578 | T | C | 0.540135 | ⋯ | 0.00905650 |  2.492306e-14 |  1.532600 | 0.2844310 | 7.113264e-08 | 2.063065e-08 | 20 | NKmat       | C5orf56_NKmat       | 2.700564e-05 |\n",
       "| RNASET2  |  6 | RNASET2  | 167342992 | rs425039   |  6 | 167410527 | C | T | 0.465184 | ⋯ | 0.01071850 |  4.807268e-43 |  0.634977 | 0.1045980 | 1.273944e-09 | 4.359863e-01 | 20 | NKmat       | RNASET2_NKmat       | 1.256061e-06 |\n",
       "| TUFM     | 16 | TUFM     |  28853732 | rs7187776  | 16 |  28857645 | A | G | 0.615571 | ⋯ | 0.00835159 |  3.599653e-45 | -0.722876 | 0.1314020 | 3.770808e-08 | 7.236992e-02 | 20 | NKmat       | TUFM_NKmat          | 1.553896e-05 |\n",
       "| UBE2L3   | 22 | UBE2L3   |  21903736 | rs4820091  | 22 |  21940189 | T | G | 0.820600 | ⋯ | 0.00870445 |  4.203846e-15 |  1.573860 | 0.3271470 | 1.502938e-06 | 2.298916e-01 | 12 | NKmat       | UBE2L3_NKmat        | 3.618396e-04 |\n",
       "| ERAP2    |  5 | ERAP2    |  96211643 | rs1046396  |  5 |  96273187 | G | A | 0.570116 | ⋯ | 0.07896360 |  1.620691e-13 | -0.159649 | 0.0323863 | 8.242404e-07 | 2.511906e-01 | 20 | Plasma      | ERAP2_Plasma        | 2.086162e-04 |\n",
       "\n"
      ],
      "text/plain": [
       "   probeID  ProbeChr Gene     Probe_bp  topSNP     topSNP_chr topSNP_bp A1 A2\n",
       "1  ERAP2     5       ERAP2     96211643 rs27295     5          96358687 C  T \n",
       "2  TUFM     16       TUFM      28853732 rs7187776  16          28857645 A  G \n",
       "3  ORMDL3   17       ORMDL3    38077294 rs8067378  17          38051348 A  G \n",
       "4  ERAP2     5       ERAP2     96211643 rs27998     5          96367408 G  A \n",
       "5  TUFM     16       TUFM      28853732 rs7187776  16          28857645 A  G \n",
       "6  ORMDL3   17       ORMDL3    38077294 rs7359623  17          38049589 C  T \n",
       "7  SCAMP3    1       SCAMP3   155225770 rs1076556   1         155234821 A  G \n",
       "8  GPX1      3       GPX1      49394609 rs1801143   3          49570200 C  T \n",
       "9  ERAP2     5       ERAP2     96211643 rs2910686   5          96252589 T  C \n",
       "10 RNASET2   6       RNASET2  167342992 rs425039    6         167410527 C  T \n",
       "11 TUFM     16       TUFM      28853732 rs7187776  16          28857645 A  G \n",
       "12 SLC2A4RG 20       SLC2A4RG  62371214 rs1056441  20          62370349 T  C \n",
       "13 UBE2L3   22       UBE2L3    21903736 rs1811069  22          21982054 T  G \n",
       "14 ERAP2     5       ERAP2     96211643 rs2910686   5          96252589 T  C \n",
       "15 RNASET2   6       RNASET2  167342992 rs425039    6         167410527 C  T \n",
       "16 TUFM     16       TUFM      28853732 rs7187776  16          28857645 A  G \n",
       "17 ORMDL3   17       ORMDL3    38077294 rs12936409 17          38043649 C  T \n",
       "18 ERAP2     5       ERAP2     96211643 rs2432141   5          96275166 C  T \n",
       "19 RNASET2   6       RNASET2  167342992 rs239934    6         167412048 G  A \n",
       "20 ERAP2     5       ERAP2     96211643 rs2910686   5          96252589 T  C \n",
       "21 RNASET2   6       RNASET2  167342992 rs400837    6         167411008 T  C \n",
       "22 TUFM     16       TUFM      28853732 rs7187776  16          28857645 A  G \n",
       "23 ERAP2     5       ERAP2     96211643 rs2910686   5          96252589 T  C \n",
       "24 RNASET2   6       RNASET2  167342992 rs2149084   6         167370988 G  C \n",
       "25 TUFM     16       TUFM      28853732 rs7187776  16          28857645 A  G \n",
       "26 UBE2L3   22       UBE2L3    21903736 rs4821124  22          21979289 T  C \n",
       "27 ERAP2     5       ERAP2     96211643 rs27436     5          96330966 T  C \n",
       "28 RNASET2   6       RNASET2  167342992 rs12212247  6         167413539 T  C \n",
       "29 TUFM     16       TUFM      28853732 rs12928404 16          28847246 T  C \n",
       "30 ERAP2     5       ERAP2     96211643 rs27998     5          96367408 G  A \n",
       "31 RNASET2   6       RNASET2  167342992 rs9347170   6         167405187 C  T \n",
       "32 TUFM     16       TUFM      28853732 rs55719896 16          28846866 G  A \n",
       "33 ERAP2     5       ERAP2     96211643 rs2910686   5          96252589 T  C \n",
       "34 TUFM     16       TUFM      28853732 rs7187776  16          28857645 A  G \n",
       "35 ERAP2     5       ERAP2     96211643 rs2910686   5          96252589 T  C \n",
       "36 TUFM     16       TUFM      28853732 rs7187776  16          28857645 A  G \n",
       "37 ERAP2     5       ERAP2     96211643 rs2548226   5          96275186 C  T \n",
       "38 ERAP2     5       ERAP2     96211643 rs2910686   5          96252589 T  C \n",
       "39 C5orf56   5       C5orf56  131746328 rs2522051   5         131797578 T  C \n",
       "40 RNASET2   6       RNASET2  167342992 rs425039    6         167410527 C  T \n",
       "41 TUFM     16       TUFM      28853732 rs7187776  16          28857645 A  G \n",
       "42 UBE2L3   22       UBE2L3    21903736 rs4820091  22          21940189 T  G \n",
       "43 ERAP2     5       ERAP2     96211643 rs1046396   5          96273187 G  A \n",
       "   Freq     ⋯ se_eQTL    p_eQTL        b_SMR     se_SMR    p_SMR       \n",
       "1  0.431335 ⋯ 0.02186180  9.580355e-47 -0.292410 0.0491637 2.719701e-09\n",
       "2  0.615571 ⋯ 0.01473370  3.420663e-67 -0.333696 0.0590836 1.624574e-08\n",
       "3  0.491779 ⋯ 0.02442030  1.576034e-50  0.199113 0.0401591 7.118453e-07\n",
       "4  0.428917 ⋯ 0.02443750  7.455040e-54 -0.238227 0.0402680 3.297681e-09\n",
       "5  0.615571 ⋯ 0.01434550  3.904825e-45 -0.421010 0.0765345 3.778108e-08\n",
       "6  0.496132 ⋯ 0.02815960  1.782539e-39  0.204092 0.0404580 4.545983e-07\n",
       "7  0.713250 ⋯ 0.01138940  1.048093e-32 -0.641302 0.1306390 9.155943e-07\n",
       "8  0.701161 ⋯ 0.00677544  7.627006e-13  2.124130 0.4262650 6.256809e-07\n",
       "9  0.567215 ⋯ 0.01822860 4.685026e-155 -0.189532 0.0298614 2.194715e-10\n",
       "10 0.465184 ⋯ 0.00866928 1.421406e-130  0.444121 0.0681412 7.141734e-11\n",
       "11 0.615571 ⋯ 0.00789466 3.280907e-121 -0.460691 0.0795810 7.082208e-09\n",
       "12 0.332205 ⋯ 0.01014560  3.342420e-15  1.222640 0.2427830 4.754751e-07\n",
       "13 0.814797 ⋯ 0.00771402  1.622794e-17  1.539520 0.3238980 2.003140e-06\n",
       "14 0.567215 ⋯ 0.02389370 2.027489e-103 -0.177626 0.0283904 3.935936e-10\n",
       "15 0.465184 ⋯ 0.00973244  7.974871e-59  0.594766 0.0952975 4.343648e-10\n",
       "16 0.615571 ⋯ 0.01258140  1.116896e-48 -0.461556 0.0834212 3.151040e-08\n",
       "17 0.539652 ⋯ 0.01948890  5.915952e-22  0.447278 0.0872779 2.979275e-07\n",
       "18 0.572534 ⋯ 0.06514480  1.702221e-15 -0.180254 0.0352977 3.278690e-07\n",
       "19 0.467118 ⋯ 0.03719110  1.122178e-16  0.286291 0.0565947 4.222890e-07\n",
       "20 0.567215 ⋯ 0.01932020 1.089881e-119 -0.203931 0.0324052 3.110760e-10\n",
       "21 0.464700 ⋯ 0.01122010  3.356558e-80  0.445832 0.0691461 1.135734e-10\n",
       "22 0.615571 ⋯ 0.00995604  2.853651e-67 -0.493530 0.0873780 1.621163e-08\n",
       "23 0.567215 ⋯ 0.01994160 4.081733e-115 -0.201529 0.0320709 3.302532e-10\n",
       "24 0.532882 ⋯ 0.00925950  2.185851e-40  0.764570 0.1262600 1.399731e-09\n",
       "25 0.615571 ⋯ 0.00862060  7.849799e-72 -0.551098 0.0972318 1.445771e-08\n",
       "26 0.821083 ⋯ 0.00808968  2.788883e-21  1.357190 0.2726450 6.428894e-07\n",
       "27 0.429884 ⋯ 0.02838040  4.627132e-56 -0.209214 0.0340377 7.919395e-10\n",
       "28 0.544971 ⋯ 0.01612680  4.393290e-31  0.481385 0.0850762 1.528957e-08\n",
       "29 0.609284 ⋯ 0.01469340  4.835263e-36 -0.449369 0.0846328 1.098519e-07\n",
       "30 0.428917 ⋯ 0.05329100  1.873053e-20 -0.182094 0.0345602 1.372504e-07\n",
       "31 0.663926 ⋯ 0.02005810  2.486435e-11  0.728370 0.1536690 2.138578e-06\n",
       "32 0.619923 ⋯ 0.02152920  4.477617e-31 -0.335247 0.0641425 1.726646e-07\n",
       "33 0.567215 ⋯ 0.03449250  1.547700e-45 -0.187605 0.0316086 2.933912e-09\n",
       "34 0.615571 ⋯ 0.01570400  1.325731e-36 -0.429068 0.0794388 6.618069e-08\n",
       "35 0.567215 ⋯ 0.04128870  1.094054e-44 -0.158268 0.0267120 3.123561e-09\n",
       "36 0.615571 ⋯ 0.02148480  8.543667e-30 -0.349556 0.0661344 1.253403e-07\n",
       "37 0.582205 ⋯ 0.04306070  2.167436e-30 -0.194498 0.0334505 6.082261e-09\n",
       "38 0.567215 ⋯ 0.02247820 5.962536e-122 -0.173620 0.0275697 3.024799e-10\n",
       "39 0.540135 ⋯ 0.00905650  2.492306e-14  1.532600 0.2844310 7.113264e-08\n",
       "40 0.465184 ⋯ 0.01071850  4.807268e-43  0.634977 0.1045980 1.273944e-09\n",
       "41 0.615571 ⋯ 0.00835159  3.599653e-45 -0.722876 0.1314020 3.770808e-08\n",
       "42 0.820600 ⋯ 0.00870445  4.203846e-15  1.573860 0.3271470 1.502938e-06\n",
       "43 0.570116 ⋯ 0.07896360  1.620691e-13 -0.159649 0.0323863 8.242404e-07\n",
       "   p_HEIDI      nsnp_HEIDI Cell_type   comb                qv          \n",
       "1  7.152581e-01 20         BimmNaive   ERAP2_BimmNaive     2.170082e-06\n",
       "2  7.104661e-02 20         BimmNaive   TUFM_BimmNaive      7.636231e-06\n",
       "3  1.339933e-01 20         BimmNaive   ORMDL3_BimmNaive    1.849102e-04\n",
       "4  8.812517e-01 20         Bmem        ERAP2_Bmem          2.170082e-06\n",
       "5  1.662807e-01 20         Bmem        TUFM_Bmem           1.553896e-05\n",
       "6  4.388768e-02 20         Bmem        ORMDL3_Bmem         1.319799e-04\n",
       "7  1.544640e-01 20         CD4all      SCAMP3_CD4all       2.259446e-04\n",
       "8  6.638163e-01 20         CD4all      GPX1_CD4all         1.715116e-04\n",
       "9  3.353872e-01 20         CD4all      ERAP2_CD4all        5.359490e-07\n",
       "10 5.175076e-01 20         CD4all      RNASET2_CD4all      5.359490e-07\n",
       "11 8.019225e-02 20         CD4all      TUFM_CD4all         4.112241e-06\n",
       "12 1.939869e-02 20         CD4all      SLC2A4RG_CD4all     1.340968e-04\n",
       "13 3.095185e-01 12         CD4all      UBE2L3_CD4all       4.707831e-04\n",
       "14 3.368505e-01 20         CD4effCM    ERAP2_CD4effCM      5.359490e-07\n",
       "15 1.242034e-01 20         CD4effCM    RNASET2_CD4effCM    5.359490e-07\n",
       "16 1.160348e-01 20         CD4effCM    TUFM_CD4effCM       1.413807e-05\n",
       "17 5.924039e-03 20         CD4effCM    ORMDL3_CD4effCM     9.486538e-05\n",
       "18 3.865275e-02 20         CD4TGFbStim ERAP2_CD4TGFbStim   1.011368e-04\n",
       "19 4.908021e-01 20         CD4TGFbStim RNASET2_CD4TGFbStim 1.263149e-04\n",
       "20 4.110765e-01 20         CD8all      ERAP2_CD8all        5.359490e-07\n",
       "21 4.819957e-01 20         CD8all      RNASET2_CD8all      5.359490e-07\n",
       "22 1.148089e-01 20         CD8all      TUFM_CD8all         7.636231e-06\n",
       "23 4.213471e-01 20         CD8eff      ERAP2_CD8eff        5.359490e-07\n",
       "24 2.801001e-01 20         CD8eff      RNASET2_CD8eff      1.256061e-06\n",
       "25 1.769316e-01 20         CD8eff      TUFM_CD8eff         7.636231e-06\n",
       "26 7.613637e-01 12         CD8eff      UBE2L3_CD8eff       1.715116e-04\n",
       "27 2.934217e-01 20         CD8unknown  ERAP2_CD8unknown    8.685770e-07\n",
       "28 2.558509e-01 20         CD8unknown  RNASET2_CD8unknown  7.636231e-06\n",
       "29 2.385348e-02 20         CD8unknown  TUFM_CD8unknown     4.016083e-05\n",
       "30 4.028891e-01 20         DC          ERAP2_DC            4.671695e-05\n",
       "31 8.246911e-01 20         DC          RNASET2_DC          4.909254e-04\n",
       "32 8.140986e-02 20         DC          TUFM_DC             5.681211e-05\n",
       "33 3.811051e-01 20         MonoC       ERAP2_MonoC         2.170082e-06\n",
       "34 4.025758e-01 20         MonoC       TUFM_MonoC          2.613064e-05\n",
       "35 6.253231e-01 20         MonoNC      ERAP2_MonoNC        2.170082e-06\n",
       "36 4.154671e-01 20         MonoNC      TUFM_MonoNC         4.418670e-05\n",
       "37 5.036804e-02 20         NKact       ERAP2_NKact         3.752355e-06\n",
       "38 6.820651e-01 20         NKmat       ERAP2_NKmat         5.359490e-07\n",
       "39 2.063065e-08 20         NKmat       C5orf56_NKmat       2.700564e-05\n",
       "40 4.359863e-01 20         NKmat       RNASET2_NKmat       1.256061e-06\n",
       "41 7.236992e-02 20         NKmat       TUFM_NKmat          1.553896e-05\n",
       "42 2.298916e-01 12         NKmat       UBE2L3_NKmat        3.618396e-04\n",
       "43 2.511906e-01 20         Plasma      ERAP2_Plasma        2.086162e-04"
      ]
     },
     "metadata": {},
     "output_type": "display_data"
    }
   ],
   "source": [
    "## SAIGE-QTL SMR gene list\n",
    "saige_df_sign = saige_df_common[saige_df_common$p_SMR < (0.05/length(common_combs)),]\n",
    "saige_df_sign"
   ]
  },
  {
   "cell_type": "code",
   "execution_count": null,
   "id": "98a4b34f",
   "metadata": {},
   "outputs": [],
   "source": []
  }
 ],
 "metadata": {
  "kernelspec": {
   "display_name": "Single Cell Notebook (R 4.1.2)",
   "language": "R",
   "name": "singlecell"
  },
  "language_info": {
   "codemirror_mode": "r",
   "file_extension": ".r",
   "mimetype": "text/x-r-source",
   "name": "R",
   "pygments_lexer": "r",
   "version": "4.1.2"
  }
 },
 "nbformat": 4,
 "nbformat_minor": 5
}
