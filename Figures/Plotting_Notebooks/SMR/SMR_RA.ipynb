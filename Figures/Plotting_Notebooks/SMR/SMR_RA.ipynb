{
 "cells": [
  {
   "cell_type": "code",
   "execution_count": 1,
   "id": "389cd9e3",
   "metadata": {},
   "outputs": [],
   "source": [
    "library(data.table)\n",
    "library(qvalue)"
   ]
  },
  {
   "cell_type": "code",
   "execution_count": 2,
   "id": "27ce71e4",
   "metadata": {},
   "outputs": [],
   "source": [
    "## RA (rheumathoid arthritis) SMR (summarised Mendelian Randomisation) results"
   ]
  },
  {
   "cell_type": "code",
   "execution_count": 3,
   "id": "b51e56f6",
   "metadata": {},
   "outputs": [
    {
     "data": {
      "text/html": [
       "<table class=\"dataframe\">\n",
       "<caption>A data.table: 2 × 22</caption>\n",
       "<thead>\n",
       "\t<tr><th scope=col>probeID</th><th scope=col>ProbeChr</th><th scope=col>Gene</th><th scope=col>Probe_bp</th><th scope=col>topSNP</th><th scope=col>topSNP_chr</th><th scope=col>topSNP_bp</th><th scope=col>A1</th><th scope=col>A2</th><th scope=col>Freq</th><th scope=col>⋯</th><th scope=col>p_GWAS</th><th scope=col>b_eQTL</th><th scope=col>se_eQTL</th><th scope=col>p_eQTL</th><th scope=col>b_SMR</th><th scope=col>se_SMR</th><th scope=col>p_SMR</th><th scope=col>p_HEIDI</th><th scope=col>nsnp_HEIDI</th><th scope=col>Cell_type</th></tr>\n",
       "\t<tr><th scope=col>&lt;chr&gt;</th><th scope=col>&lt;int&gt;</th><th scope=col>&lt;chr&gt;</th><th scope=col>&lt;int&gt;</th><th scope=col>&lt;chr&gt;</th><th scope=col>&lt;int&gt;</th><th scope=col>&lt;int&gt;</th><th scope=col>&lt;chr&gt;</th><th scope=col>&lt;chr&gt;</th><th scope=col>&lt;dbl&gt;</th><th scope=col>⋯</th><th scope=col>&lt;dbl&gt;</th><th scope=col>&lt;dbl&gt;</th><th scope=col>&lt;dbl&gt;</th><th scope=col>&lt;dbl&gt;</th><th scope=col>&lt;dbl&gt;</th><th scope=col>&lt;dbl&gt;</th><th scope=col>&lt;dbl&gt;</th><th scope=col>&lt;dbl&gt;</th><th scope=col>&lt;int&gt;</th><th scope=col>&lt;chr&gt;</th></tr>\n",
       "</thead>\n",
       "<tbody>\n",
       "\t<tr><td>FCRL5</td><td>1</td><td>FCRL5</td><td>157483167</td><td>rs12741984</td><td>1</td><td>157534818</td><td>G</td><td>A</td><td>0.787234</td><td>⋯</td><td>0.1312</td><td> 0.113780</td><td>0.00486738</td><td>7.500497e-121</td><td>-0.236422</td><td>0.156769</td><td>0.1315321</td><td>0.0344273</td><td>20</td><td>BimmNaive</td></tr>\n",
       "\t<tr><td>RPS8 </td><td>1</td><td>RPS8 </td><td> 45240923</td><td>rs12120833</td><td>1</td><td> 45241285</td><td>C</td><td>G</td><td>0.850097</td><td>⋯</td><td>0.1065</td><td>-0.105432</td><td>0.00500701</td><td> 1.980368e-98</td><td>-0.385083</td><td>0.238770</td><td>0.1067927</td><td>0.6779076</td><td>20</td><td>BimmNaive</td></tr>\n",
       "</tbody>\n",
       "</table>\n"
      ],
      "text/latex": [
       "A data.table: 2 × 22\n",
       "\\begin{tabular}{lllllllllllllllllllll}\n",
       " probeID & ProbeChr & Gene & Probe\\_bp & topSNP & topSNP\\_chr & topSNP\\_bp & A1 & A2 & Freq & ⋯ & p\\_GWAS & b\\_eQTL & se\\_eQTL & p\\_eQTL & b\\_SMR & se\\_SMR & p\\_SMR & p\\_HEIDI & nsnp\\_HEIDI & Cell\\_type\\\\\n",
       " <chr> & <int> & <chr> & <int> & <chr> & <int> & <int> & <chr> & <chr> & <dbl> & ⋯ & <dbl> & <dbl> & <dbl> & <dbl> & <dbl> & <dbl> & <dbl> & <dbl> & <int> & <chr>\\\\\n",
       "\\hline\n",
       "\t FCRL5 & 1 & FCRL5 & 157483167 & rs12741984 & 1 & 157534818 & G & A & 0.787234 & ⋯ & 0.1312 &  0.113780 & 0.00486738 & 7.500497e-121 & -0.236422 & 0.156769 & 0.1315321 & 0.0344273 & 20 & BimmNaive\\\\\n",
       "\t RPS8  & 1 & RPS8  &  45240923 & rs12120833 & 1 &  45241285 & C & G & 0.850097 & ⋯ & 0.1065 & -0.105432 & 0.00500701 &  1.980368e-98 & -0.385083 & 0.238770 & 0.1067927 & 0.6779076 & 20 & BimmNaive\\\\\n",
       "\\end{tabular}\n"
      ],
      "text/markdown": [
       "\n",
       "A data.table: 2 × 22\n",
       "\n",
       "| probeID &lt;chr&gt; | ProbeChr &lt;int&gt; | Gene &lt;chr&gt; | Probe_bp &lt;int&gt; | topSNP &lt;chr&gt; | topSNP_chr &lt;int&gt; | topSNP_bp &lt;int&gt; | A1 &lt;chr&gt; | A2 &lt;chr&gt; | Freq &lt;dbl&gt; | ⋯ ⋯ | p_GWAS &lt;dbl&gt; | b_eQTL &lt;dbl&gt; | se_eQTL &lt;dbl&gt; | p_eQTL &lt;dbl&gt; | b_SMR &lt;dbl&gt; | se_SMR &lt;dbl&gt; | p_SMR &lt;dbl&gt; | p_HEIDI &lt;dbl&gt; | nsnp_HEIDI &lt;int&gt; | Cell_type &lt;chr&gt; |\n",
       "|---|---|---|---|---|---|---|---|---|---|---|---|---|---|---|---|---|---|---|---|---|\n",
       "| FCRL5 | 1 | FCRL5 | 157483167 | rs12741984 | 1 | 157534818 | G | A | 0.787234 | ⋯ | 0.1312 |  0.113780 | 0.00486738 | 7.500497e-121 | -0.236422 | 0.156769 | 0.1315321 | 0.0344273 | 20 | BimmNaive |\n",
       "| RPS8  | 1 | RPS8  |  45240923 | rs12120833 | 1 |  45241285 | C | G | 0.850097 | ⋯ | 0.1065 | -0.105432 | 0.00500701 |  1.980368e-98 | -0.385083 | 0.238770 | 0.1067927 | 0.6779076 | 20 | BimmNaive |\n",
       "\n"
      ],
      "text/plain": [
       "  probeID ProbeChr Gene  Probe_bp  topSNP     topSNP_chr topSNP_bp A1 A2\n",
       "1 FCRL5   1        FCRL5 157483167 rs12741984 1          157534818 G  A \n",
       "2 RPS8    1        RPS8   45240923 rs12120833 1           45241285 C  G \n",
       "  Freq     ⋯ p_GWAS b_eQTL    se_eQTL    p_eQTL        b_SMR     se_SMR  \n",
       "1 0.787234 ⋯ 0.1312  0.113780 0.00486738 7.500497e-121 -0.236422 0.156769\n",
       "2 0.850097 ⋯ 0.1065 -0.105432 0.00500701  1.980368e-98 -0.385083 0.238770\n",
       "  p_SMR     p_HEIDI   nsnp_HEIDI Cell_type\n",
       "1 0.1315321 0.0344273 20         BimmNaive\n",
       "2 0.1067927 0.6779076 20         BimmNaive"
      ]
     },
     "metadata": {},
     "output_type": "display_data"
    }
   ],
   "source": [
    "# Matrix eQTL results\n",
    "matrix_eqtl_smr_results_dir = \"/directflow/SCCGGroupShare/projects/angxue/proj/SAIGE-eQTL/SMR/\"\n",
    "matrix_ibd_file = paste0(matrix_eqtl_smr_results_dir, \"ra_all_14_celltypes_all_smr.txt\")\n",
    "matrix_df = fread(matrix_ibd_file)\n",
    "head(matrix_df,2)"
   ]
  },
  {
   "cell_type": "code",
   "execution_count": 4,
   "id": "8bee0ba9",
   "metadata": {},
   "outputs": [
    {
     "data": {
      "text/html": [
       "6094"
      ],
      "text/latex": [
       "6094"
      ],
      "text/markdown": [
       "6094"
      ],
      "text/plain": [
       "[1] 6094"
      ]
     },
     "metadata": {},
     "output_type": "display_data"
    },
    {
     "data": {
      "text/html": [
       "14526"
      ],
      "text/latex": [
       "14526"
      ],
      "text/markdown": [
       "14526"
      ],
      "text/plain": [
       "[1] 14526"
      ]
     },
     "metadata": {},
     "output_type": "display_data"
    },
    {
     "data": {
      "text/html": [
       "<table class=\"dataframe\">\n",
       "<caption>A data.table: 2 × 23</caption>\n",
       "<thead>\n",
       "\t<tr><th scope=col>probeID</th><th scope=col>ProbeChr</th><th scope=col>Gene</th><th scope=col>Probe_bp</th><th scope=col>topSNP</th><th scope=col>topSNP_chr</th><th scope=col>topSNP_bp</th><th scope=col>A1</th><th scope=col>A2</th><th scope=col>Freq</th><th scope=col>⋯</th><th scope=col>b_eQTL</th><th scope=col>se_eQTL</th><th scope=col>p_eQTL</th><th scope=col>b_SMR</th><th scope=col>se_SMR</th><th scope=col>p_SMR</th><th scope=col>p_HEIDI</th><th scope=col>nsnp_HEIDI</th><th scope=col>Cell_type</th><th scope=col>comb</th></tr>\n",
       "\t<tr><th scope=col>&lt;chr&gt;</th><th scope=col>&lt;int&gt;</th><th scope=col>&lt;chr&gt;</th><th scope=col>&lt;int&gt;</th><th scope=col>&lt;chr&gt;</th><th scope=col>&lt;int&gt;</th><th scope=col>&lt;int&gt;</th><th scope=col>&lt;chr&gt;</th><th scope=col>&lt;chr&gt;</th><th scope=col>&lt;dbl&gt;</th><th scope=col>⋯</th><th scope=col>&lt;dbl&gt;</th><th scope=col>&lt;dbl&gt;</th><th scope=col>&lt;dbl&gt;</th><th scope=col>&lt;dbl&gt;</th><th scope=col>&lt;dbl&gt;</th><th scope=col>&lt;dbl&gt;</th><th scope=col>&lt;dbl&gt;</th><th scope=col>&lt;int&gt;</th><th scope=col>&lt;chr&gt;</th><th scope=col>&lt;chr&gt;</th></tr>\n",
       "</thead>\n",
       "<tbody>\n",
       "\t<tr><td>FCRL5</td><td>1</td><td>FCRL5</td><td>157483167</td><td>rs12741984</td><td>1</td><td>157534818</td><td>G</td><td>A</td><td>0.787234</td><td>⋯</td><td> 0.113780</td><td>0.00486738</td><td>7.500497e-121</td><td>-0.236422</td><td>0.156769</td><td>0.1315321</td><td>0.0344273</td><td>20</td><td>BimmNaive</td><td>FCRL5_BimmNaive</td></tr>\n",
       "\t<tr><td>RPS8 </td><td>1</td><td>RPS8 </td><td> 45240923</td><td>rs12120833</td><td>1</td><td> 45241285</td><td>C</td><td>G</td><td>0.850097</td><td>⋯</td><td>-0.105432</td><td>0.00500701</td><td> 1.980368e-98</td><td>-0.385083</td><td>0.238770</td><td>0.1067927</td><td>0.6779076</td><td>20</td><td>BimmNaive</td><td>RPS8_BimmNaive </td></tr>\n",
       "</tbody>\n",
       "</table>\n"
      ],
      "text/latex": [
       "A data.table: 2 × 23\n",
       "\\begin{tabular}{lllllllllllllllllllll}\n",
       " probeID & ProbeChr & Gene & Probe\\_bp & topSNP & topSNP\\_chr & topSNP\\_bp & A1 & A2 & Freq & ⋯ & b\\_eQTL & se\\_eQTL & p\\_eQTL & b\\_SMR & se\\_SMR & p\\_SMR & p\\_HEIDI & nsnp\\_HEIDI & Cell\\_type & comb\\\\\n",
       " <chr> & <int> & <chr> & <int> & <chr> & <int> & <int> & <chr> & <chr> & <dbl> & ⋯ & <dbl> & <dbl> & <dbl> & <dbl> & <dbl> & <dbl> & <dbl> & <int> & <chr> & <chr>\\\\\n",
       "\\hline\n",
       "\t FCRL5 & 1 & FCRL5 & 157483167 & rs12741984 & 1 & 157534818 & G & A & 0.787234 & ⋯ &  0.113780 & 0.00486738 & 7.500497e-121 & -0.236422 & 0.156769 & 0.1315321 & 0.0344273 & 20 & BimmNaive & FCRL5\\_BimmNaive\\\\\n",
       "\t RPS8  & 1 & RPS8  &  45240923 & rs12120833 & 1 &  45241285 & C & G & 0.850097 & ⋯ & -0.105432 & 0.00500701 &  1.980368e-98 & -0.385083 & 0.238770 & 0.1067927 & 0.6779076 & 20 & BimmNaive & RPS8\\_BimmNaive \\\\\n",
       "\\end{tabular}\n"
      ],
      "text/markdown": [
       "\n",
       "A data.table: 2 × 23\n",
       "\n",
       "| probeID &lt;chr&gt; | ProbeChr &lt;int&gt; | Gene &lt;chr&gt; | Probe_bp &lt;int&gt; | topSNP &lt;chr&gt; | topSNP_chr &lt;int&gt; | topSNP_bp &lt;int&gt; | A1 &lt;chr&gt; | A2 &lt;chr&gt; | Freq &lt;dbl&gt; | ⋯ ⋯ | b_eQTL &lt;dbl&gt; | se_eQTL &lt;dbl&gt; | p_eQTL &lt;dbl&gt; | b_SMR &lt;dbl&gt; | se_SMR &lt;dbl&gt; | p_SMR &lt;dbl&gt; | p_HEIDI &lt;dbl&gt; | nsnp_HEIDI &lt;int&gt; | Cell_type &lt;chr&gt; | comb &lt;chr&gt; |\n",
       "|---|---|---|---|---|---|---|---|---|---|---|---|---|---|---|---|---|---|---|---|---|\n",
       "| FCRL5 | 1 | FCRL5 | 157483167 | rs12741984 | 1 | 157534818 | G | A | 0.787234 | ⋯ |  0.113780 | 0.00486738 | 7.500497e-121 | -0.236422 | 0.156769 | 0.1315321 | 0.0344273 | 20 | BimmNaive | FCRL5_BimmNaive |\n",
       "| RPS8  | 1 | RPS8  |  45240923 | rs12120833 | 1 |  45241285 | C | G | 0.850097 | ⋯ | -0.105432 | 0.00500701 |  1.980368e-98 | -0.385083 | 0.238770 | 0.1067927 | 0.6779076 | 20 | BimmNaive | RPS8_BimmNaive  |\n",
       "\n"
      ],
      "text/plain": [
       "  probeID ProbeChr Gene  Probe_bp  topSNP     topSNP_chr topSNP_bp A1 A2\n",
       "1 FCRL5   1        FCRL5 157483167 rs12741984 1          157534818 G  A \n",
       "2 RPS8    1        RPS8   45240923 rs12120833 1           45241285 C  G \n",
       "  Freq     ⋯ b_eQTL    se_eQTL    p_eQTL        b_SMR     se_SMR   p_SMR    \n",
       "1 0.787234 ⋯  0.113780 0.00486738 7.500497e-121 -0.236422 0.156769 0.1315321\n",
       "2 0.850097 ⋯ -0.105432 0.00500701  1.980368e-98 -0.385083 0.238770 0.1067927\n",
       "  p_HEIDI   nsnp_HEIDI Cell_type comb           \n",
       "1 0.0344273 20         BimmNaive FCRL5_BimmNaive\n",
       "2 0.6779076 20         BimmNaive RPS8_BimmNaive "
      ]
     },
     "metadata": {},
     "output_type": "display_data"
    }
   ],
   "source": [
    "# Calculate number of unique genes, and combination of genes + celltypes\n",
    "length(unique(matrix_df$Gene))\n",
    "matrix_df$comb = paste0(matrix_df$Gene,\"_\",matrix_df$Cell_type)\n",
    "length(unique(matrix_df$comb))\n",
    "head(matrix_df,2)"
   ]
  },
  {
   "cell_type": "code",
   "execution_count": 5,
   "id": "fd12238e",
   "metadata": {},
   "outputs": [
    {
     "data": {
      "text/html": [
       "209"
      ],
      "text/latex": [
       "209"
      ],
      "text/markdown": [
       "209"
      ],
      "text/plain": [
       "[1] 209"
      ]
     },
     "metadata": {},
     "output_type": "display_data"
    },
    {
     "data": {
      "text/html": [
       "189"
      ],
      "text/latex": [
       "189"
      ],
      "text/markdown": [
       "189"
      ],
      "text/plain": [
       "[1] 189"
      ]
     },
     "metadata": {},
     "output_type": "display_data"
    }
   ],
   "source": [
    "nrow(matrix_df[matrix_df$p_SMR < 0.05/length(unique(matrix_df$Gene)),])\n",
    "nrow(matrix_df[matrix_df$p_SMR < 0.05/length(unique(matrix_df$comb)),])"
   ]
  },
  {
   "cell_type": "code",
   "execution_count": null,
   "id": "ae1b3e0f",
   "metadata": {},
   "outputs": [],
   "source": []
  },
  {
   "cell_type": "code",
   "execution_count": 6,
   "id": "ec752228",
   "metadata": {},
   "outputs": [
    {
     "data": {
      "text/html": [
       "<table class=\"dataframe\">\n",
       "<caption>A data.table: 2 × 22</caption>\n",
       "<thead>\n",
       "\t<tr><th scope=col>probeID</th><th scope=col>ProbeChr</th><th scope=col>Gene</th><th scope=col>Probe_bp</th><th scope=col>topSNP</th><th scope=col>topSNP_chr</th><th scope=col>topSNP_bp</th><th scope=col>A1</th><th scope=col>A2</th><th scope=col>Freq</th><th scope=col>⋯</th><th scope=col>p_GWAS</th><th scope=col>b_eQTL</th><th scope=col>se_eQTL</th><th scope=col>p_eQTL</th><th scope=col>b_SMR</th><th scope=col>se_SMR</th><th scope=col>p_SMR</th><th scope=col>p_HEIDI</th><th scope=col>nsnp_HEIDI</th><th scope=col>Cell_type</th></tr>\n",
       "\t<tr><th scope=col>&lt;chr&gt;</th><th scope=col>&lt;int&gt;</th><th scope=col>&lt;chr&gt;</th><th scope=col>&lt;int&gt;</th><th scope=col>&lt;chr&gt;</th><th scope=col>&lt;int&gt;</th><th scope=col>&lt;int&gt;</th><th scope=col>&lt;chr&gt;</th><th scope=col>&lt;chr&gt;</th><th scope=col>&lt;dbl&gt;</th><th scope=col>⋯</th><th scope=col>&lt;dbl&gt;</th><th scope=col>&lt;dbl&gt;</th><th scope=col>&lt;dbl&gt;</th><th scope=col>&lt;dbl&gt;</th><th scope=col>&lt;dbl&gt;</th><th scope=col>&lt;dbl&gt;</th><th scope=col>&lt;dbl&gt;</th><th scope=col>&lt;dbl&gt;</th><th scope=col>&lt;int&gt;</th><th scope=col>&lt;chr&gt;</th></tr>\n",
       "</thead>\n",
       "<tbody>\n",
       "\t<tr><td>NOC2L  </td><td>1</td><td>NOC2L  </td><td> 879584</td><td>rs3748595 </td><td>1</td><td> 887560</td><td>A</td><td>C</td><td>0.0672147</td><td>⋯</td><td>0.4313</td><td>-0.153020</td><td>0.0352961</td><td>1.455500e-05</td><td> 0.276434</td><td>0.35668</td><td>0.4383276</td><td>0.3042242</td><td>3</td><td>BimmNaive</td></tr>\n",
       "\t<tr><td>C1orf86</td><td>1</td><td>C1orf86</td><td>2115903</td><td>rs11587831</td><td>1</td><td>2110848</td><td>T</td><td>G</td><td>0.7853000</td><td>⋯</td><td>0.6300</td><td>-0.115809</td><td>0.0148762</td><td>6.980209e-15</td><td>-0.115708</td><td>0.24051</td><td>0.6304503</td><td>0.2562137</td><td>8</td><td>BimmNaive</td></tr>\n",
       "</tbody>\n",
       "</table>\n"
      ],
      "text/latex": [
       "A data.table: 2 × 22\n",
       "\\begin{tabular}{lllllllllllllllllllll}\n",
       " probeID & ProbeChr & Gene & Probe\\_bp & topSNP & topSNP\\_chr & topSNP\\_bp & A1 & A2 & Freq & ⋯ & p\\_GWAS & b\\_eQTL & se\\_eQTL & p\\_eQTL & b\\_SMR & se\\_SMR & p\\_SMR & p\\_HEIDI & nsnp\\_HEIDI & Cell\\_type\\\\\n",
       " <chr> & <int> & <chr> & <int> & <chr> & <int> & <int> & <chr> & <chr> & <dbl> & ⋯ & <dbl> & <dbl> & <dbl> & <dbl> & <dbl> & <dbl> & <dbl> & <dbl> & <int> & <chr>\\\\\n",
       "\\hline\n",
       "\t NOC2L   & 1 & NOC2L   &  879584 & rs3748595  & 1 &  887560 & A & C & 0.0672147 & ⋯ & 0.4313 & -0.153020 & 0.0352961 & 1.455500e-05 &  0.276434 & 0.35668 & 0.4383276 & 0.3042242 & 3 & BimmNaive\\\\\n",
       "\t C1orf86 & 1 & C1orf86 & 2115903 & rs11587831 & 1 & 2110848 & T & G & 0.7853000 & ⋯ & 0.6300 & -0.115809 & 0.0148762 & 6.980209e-15 & -0.115708 & 0.24051 & 0.6304503 & 0.2562137 & 8 & BimmNaive\\\\\n",
       "\\end{tabular}\n"
      ],
      "text/markdown": [
       "\n",
       "A data.table: 2 × 22\n",
       "\n",
       "| probeID &lt;chr&gt; | ProbeChr &lt;int&gt; | Gene &lt;chr&gt; | Probe_bp &lt;int&gt; | topSNP &lt;chr&gt; | topSNP_chr &lt;int&gt; | topSNP_bp &lt;int&gt; | A1 &lt;chr&gt; | A2 &lt;chr&gt; | Freq &lt;dbl&gt; | ⋯ ⋯ | p_GWAS &lt;dbl&gt; | b_eQTL &lt;dbl&gt; | se_eQTL &lt;dbl&gt; | p_eQTL &lt;dbl&gt; | b_SMR &lt;dbl&gt; | se_SMR &lt;dbl&gt; | p_SMR &lt;dbl&gt; | p_HEIDI &lt;dbl&gt; | nsnp_HEIDI &lt;int&gt; | Cell_type &lt;chr&gt; |\n",
       "|---|---|---|---|---|---|---|---|---|---|---|---|---|---|---|---|---|---|---|---|---|\n",
       "| NOC2L   | 1 | NOC2L   |  879584 | rs3748595  | 1 |  887560 | A | C | 0.0672147 | ⋯ | 0.4313 | -0.153020 | 0.0352961 | 1.455500e-05 |  0.276434 | 0.35668 | 0.4383276 | 0.3042242 | 3 | BimmNaive |\n",
       "| C1orf86 | 1 | C1orf86 | 2115903 | rs11587831 | 1 | 2110848 | T | G | 0.7853000 | ⋯ | 0.6300 | -0.115809 | 0.0148762 | 6.980209e-15 | -0.115708 | 0.24051 | 0.6304503 | 0.2562137 | 8 | BimmNaive |\n",
       "\n"
      ],
      "text/plain": [
       "  probeID ProbeChr Gene    Probe_bp topSNP     topSNP_chr topSNP_bp A1 A2\n",
       "1 NOC2L   1        NOC2L    879584  rs3748595  1           887560   A  C \n",
       "2 C1orf86 1        C1orf86 2115903  rs11587831 1          2110848   T  G \n",
       "  Freq      ⋯ p_GWAS b_eQTL    se_eQTL   p_eQTL       b_SMR     se_SMR \n",
       "1 0.0672147 ⋯ 0.4313 -0.153020 0.0352961 1.455500e-05  0.276434 0.35668\n",
       "2 0.7853000 ⋯ 0.6300 -0.115809 0.0148762 6.980209e-15 -0.115708 0.24051\n",
       "  p_SMR     p_HEIDI   nsnp_HEIDI Cell_type\n",
       "1 0.4383276 0.3042242 3          BimmNaive\n",
       "2 0.6304503 0.2562137 8          BimmNaive"
      ]
     },
     "metadata": {},
     "output_type": "display_data"
    }
   ],
   "source": [
    "# SAIGE-QTL results\n",
    "saige_eqtl_smr_results_dir = \"/directflow/SCCGGroupShare/projects/angxue/proj/SAIGE-eQTL/SMR/saige_eQTL/\"\n",
    "saige_ibd_file = paste0(saige_eqtl_smr_results_dir, \"ra_all_14_celltypes_all_smr.txt\")\n",
    "saige_df = fread(saige_ibd_file)\n",
    "head(saige_df,2)"
   ]
  },
  {
   "cell_type": "code",
   "execution_count": 7,
   "id": "d912fd35",
   "metadata": {},
   "outputs": [
    {
     "data": {
      "text/html": [
       "5672"
      ],
      "text/latex": [
       "5672"
      ],
      "text/markdown": [
       "5672"
      ],
      "text/plain": [
       "[1] 5672"
      ]
     },
     "metadata": {},
     "output_type": "display_data"
    },
    {
     "data": {
      "text/html": [
       "16417"
      ],
      "text/latex": [
       "16417"
      ],
      "text/markdown": [
       "16417"
      ],
      "text/plain": [
       "[1] 16417"
      ]
     },
     "metadata": {},
     "output_type": "display_data"
    },
    {
     "data": {
      "text/html": [
       "<table class=\"dataframe\">\n",
       "<caption>A data.table: 2 × 23</caption>\n",
       "<thead>\n",
       "\t<tr><th scope=col>probeID</th><th scope=col>ProbeChr</th><th scope=col>Gene</th><th scope=col>Probe_bp</th><th scope=col>topSNP</th><th scope=col>topSNP_chr</th><th scope=col>topSNP_bp</th><th scope=col>A1</th><th scope=col>A2</th><th scope=col>Freq</th><th scope=col>⋯</th><th scope=col>b_eQTL</th><th scope=col>se_eQTL</th><th scope=col>p_eQTL</th><th scope=col>b_SMR</th><th scope=col>se_SMR</th><th scope=col>p_SMR</th><th scope=col>p_HEIDI</th><th scope=col>nsnp_HEIDI</th><th scope=col>Cell_type</th><th scope=col>comb</th></tr>\n",
       "\t<tr><th scope=col>&lt;chr&gt;</th><th scope=col>&lt;int&gt;</th><th scope=col>&lt;chr&gt;</th><th scope=col>&lt;int&gt;</th><th scope=col>&lt;chr&gt;</th><th scope=col>&lt;int&gt;</th><th scope=col>&lt;int&gt;</th><th scope=col>&lt;chr&gt;</th><th scope=col>&lt;chr&gt;</th><th scope=col>&lt;dbl&gt;</th><th scope=col>⋯</th><th scope=col>&lt;dbl&gt;</th><th scope=col>&lt;dbl&gt;</th><th scope=col>&lt;dbl&gt;</th><th scope=col>&lt;dbl&gt;</th><th scope=col>&lt;dbl&gt;</th><th scope=col>&lt;dbl&gt;</th><th scope=col>&lt;dbl&gt;</th><th scope=col>&lt;int&gt;</th><th scope=col>&lt;chr&gt;</th><th scope=col>&lt;chr&gt;</th></tr>\n",
       "</thead>\n",
       "<tbody>\n",
       "\t<tr><td>NOC2L  </td><td>1</td><td>NOC2L  </td><td> 879584</td><td>rs3748595 </td><td>1</td><td> 887560</td><td>A</td><td>C</td><td>0.0672147</td><td>⋯</td><td>-0.153020</td><td>0.0352961</td><td>1.455500e-05</td><td> 0.276434</td><td>0.35668</td><td>0.4383276</td><td>0.3042242</td><td>3</td><td>BimmNaive</td><td>NOC2L_BimmNaive  </td></tr>\n",
       "\t<tr><td>C1orf86</td><td>1</td><td>C1orf86</td><td>2115903</td><td>rs11587831</td><td>1</td><td>2110848</td><td>T</td><td>G</td><td>0.7853000</td><td>⋯</td><td>-0.115809</td><td>0.0148762</td><td>6.980209e-15</td><td>-0.115708</td><td>0.24051</td><td>0.6304503</td><td>0.2562137</td><td>8</td><td>BimmNaive</td><td>C1orf86_BimmNaive</td></tr>\n",
       "</tbody>\n",
       "</table>\n"
      ],
      "text/latex": [
       "A data.table: 2 × 23\n",
       "\\begin{tabular}{lllllllllllllllllllll}\n",
       " probeID & ProbeChr & Gene & Probe\\_bp & topSNP & topSNP\\_chr & topSNP\\_bp & A1 & A2 & Freq & ⋯ & b\\_eQTL & se\\_eQTL & p\\_eQTL & b\\_SMR & se\\_SMR & p\\_SMR & p\\_HEIDI & nsnp\\_HEIDI & Cell\\_type & comb\\\\\n",
       " <chr> & <int> & <chr> & <int> & <chr> & <int> & <int> & <chr> & <chr> & <dbl> & ⋯ & <dbl> & <dbl> & <dbl> & <dbl> & <dbl> & <dbl> & <dbl> & <int> & <chr> & <chr>\\\\\n",
       "\\hline\n",
       "\t NOC2L   & 1 & NOC2L   &  879584 & rs3748595  & 1 &  887560 & A & C & 0.0672147 & ⋯ & -0.153020 & 0.0352961 & 1.455500e-05 &  0.276434 & 0.35668 & 0.4383276 & 0.3042242 & 3 & BimmNaive & NOC2L\\_BimmNaive  \\\\\n",
       "\t C1orf86 & 1 & C1orf86 & 2115903 & rs11587831 & 1 & 2110848 & T & G & 0.7853000 & ⋯ & -0.115809 & 0.0148762 & 6.980209e-15 & -0.115708 & 0.24051 & 0.6304503 & 0.2562137 & 8 & BimmNaive & C1orf86\\_BimmNaive\\\\\n",
       "\\end{tabular}\n"
      ],
      "text/markdown": [
       "\n",
       "A data.table: 2 × 23\n",
       "\n",
       "| probeID &lt;chr&gt; | ProbeChr &lt;int&gt; | Gene &lt;chr&gt; | Probe_bp &lt;int&gt; | topSNP &lt;chr&gt; | topSNP_chr &lt;int&gt; | topSNP_bp &lt;int&gt; | A1 &lt;chr&gt; | A2 &lt;chr&gt; | Freq &lt;dbl&gt; | ⋯ ⋯ | b_eQTL &lt;dbl&gt; | se_eQTL &lt;dbl&gt; | p_eQTL &lt;dbl&gt; | b_SMR &lt;dbl&gt; | se_SMR &lt;dbl&gt; | p_SMR &lt;dbl&gt; | p_HEIDI &lt;dbl&gt; | nsnp_HEIDI &lt;int&gt; | Cell_type &lt;chr&gt; | comb &lt;chr&gt; |\n",
       "|---|---|---|---|---|---|---|---|---|---|---|---|---|---|---|---|---|---|---|---|---|\n",
       "| NOC2L   | 1 | NOC2L   |  879584 | rs3748595  | 1 |  887560 | A | C | 0.0672147 | ⋯ | -0.153020 | 0.0352961 | 1.455500e-05 |  0.276434 | 0.35668 | 0.4383276 | 0.3042242 | 3 | BimmNaive | NOC2L_BimmNaive   |\n",
       "| C1orf86 | 1 | C1orf86 | 2115903 | rs11587831 | 1 | 2110848 | T | G | 0.7853000 | ⋯ | -0.115809 | 0.0148762 | 6.980209e-15 | -0.115708 | 0.24051 | 0.6304503 | 0.2562137 | 8 | BimmNaive | C1orf86_BimmNaive |\n",
       "\n"
      ],
      "text/plain": [
       "  probeID ProbeChr Gene    Probe_bp topSNP     topSNP_chr topSNP_bp A1 A2\n",
       "1 NOC2L   1        NOC2L    879584  rs3748595  1           887560   A  C \n",
       "2 C1orf86 1        C1orf86 2115903  rs11587831 1          2110848   T  G \n",
       "  Freq      ⋯ b_eQTL    se_eQTL   p_eQTL       b_SMR     se_SMR  p_SMR    \n",
       "1 0.0672147 ⋯ -0.153020 0.0352961 1.455500e-05  0.276434 0.35668 0.4383276\n",
       "2 0.7853000 ⋯ -0.115809 0.0148762 6.980209e-15 -0.115708 0.24051 0.6304503\n",
       "  p_HEIDI   nsnp_HEIDI Cell_type comb             \n",
       "1 0.3042242 3          BimmNaive NOC2L_BimmNaive  \n",
       "2 0.2562137 8          BimmNaive C1orf86_BimmNaive"
      ]
     },
     "metadata": {},
     "output_type": "display_data"
    }
   ],
   "source": [
    "length(unique(saige_df$Gene))\n",
    "saige_df$comb = paste0(saige_df$Gene,\"_\",saige_df$Cell_type)\n",
    "length(unique(saige_df$comb))\n",
    "head(saige_df,2)"
   ]
  },
  {
   "cell_type": "code",
   "execution_count": 8,
   "id": "21313568",
   "metadata": {},
   "outputs": [
    {
     "data": {
      "text/html": [
       "249"
      ],
      "text/latex": [
       "249"
      ],
      "text/markdown": [
       "249"
      ],
      "text/plain": [
       "[1] 249"
      ]
     },
     "metadata": {},
     "output_type": "display_data"
    },
    {
     "data": {
      "text/html": [
       "216"
      ],
      "text/latex": [
       "216"
      ],
      "text/markdown": [
       "216"
      ],
      "text/plain": [
       "[1] 216"
      ]
     },
     "metadata": {},
     "output_type": "display_data"
    }
   ],
   "source": [
    "# significant results at p<0.05/M with M either # genes or # gene-celltype combinations\n",
    "nrow(saige_df[saige_df$p_SMR < 0.05/length(unique(saige_df$Gene)),])\n",
    "nrow(saige_df[saige_df$p_SMR < 0.05/length(unique(saige_df$comb)),])"
   ]
  },
  {
   "cell_type": "code",
   "execution_count": null,
   "id": "946fa23e",
   "metadata": {},
   "outputs": [],
   "source": []
  },
  {
   "cell_type": "code",
   "execution_count": 9,
   "id": "af318cdb",
   "metadata": {},
   "outputs": [],
   "source": [
    "### p < 0.05/M with M-number of unique gene-celltype combinations tested by both methods"
   ]
  },
  {
   "cell_type": "code",
   "execution_count": 10,
   "id": "56d149ef",
   "metadata": {},
   "outputs": [
    {
     "data": {
      "text/html": [
       "11988"
      ],
      "text/latex": [
       "11988"
      ],
      "text/markdown": [
       "11988"
      ],
      "text/plain": [
       "[1] 11988"
      ]
     },
     "metadata": {},
     "output_type": "display_data"
    }
   ],
   "source": [
    "matrix_combs = unique(matrix_df$comb)\n",
    "saige_combs = unique(saige_df$comb)\n",
    "common_combs = saige_combs[saige_combs %in% matrix_combs]\n",
    "length(common_combs)"
   ]
  },
  {
   "cell_type": "code",
   "execution_count": 11,
   "id": "5d7e0181",
   "metadata": {},
   "outputs": [
    {
     "data": {
      "text/html": [
       "11988"
      ],
      "text/latex": [
       "11988"
      ],
      "text/markdown": [
       "11988"
      ],
      "text/plain": [
       "[1] 11988"
      ]
     },
     "metadata": {},
     "output_type": "display_data"
    },
    {
     "data": {
      "text/html": [
       "188"
      ],
      "text/latex": [
       "188"
      ],
      "text/markdown": [
       "188"
      ],
      "text/plain": [
       "[1] 188"
      ]
     },
     "metadata": {},
     "output_type": "display_data"
    }
   ],
   "source": [
    "matrix_df_common = matrix_df[matrix_df$comb %in% common_combs,]\n",
    "nrow(matrix_df_common)\n",
    "nrow(matrix_df_common[matrix_df_common$p_SMR < (0.05/length(common_combs)),])"
   ]
  },
  {
   "cell_type": "code",
   "execution_count": 12,
   "id": "c727d691",
   "metadata": {},
   "outputs": [
    {
     "data": {
      "text/html": [
       "11988"
      ],
      "text/latex": [
       "11988"
      ],
      "text/markdown": [
       "11988"
      ],
      "text/plain": [
       "[1] 11988"
      ]
     },
     "metadata": {},
     "output_type": "display_data"
    },
    {
     "data": {
      "text/html": [
       "207"
      ],
      "text/latex": [
       "207"
      ],
      "text/markdown": [
       "207"
      ],
      "text/plain": [
       "[1] 207"
      ]
     },
     "metadata": {},
     "output_type": "display_data"
    }
   ],
   "source": [
    "saige_df_common = saige_df[saige_df$comb %in% common_combs,]\n",
    "nrow(saige_df_common)\n",
    "nrow(saige_df_common[saige_df_common$p_SMR < (0.05/length(common_combs)),])"
   ]
  },
  {
   "cell_type": "code",
   "execution_count": null,
   "id": "e5cfe82f",
   "metadata": {},
   "outputs": [],
   "source": []
  },
  {
   "cell_type": "code",
   "execution_count": null,
   "id": "8a18754d",
   "metadata": {},
   "outputs": [],
   "source": []
  },
  {
   "cell_type": "code",
   "execution_count": 13,
   "id": "768aa140",
   "metadata": {},
   "outputs": [
    {
     "data": {
      "text/html": [
       "487"
      ],
      "text/latex": [
       "487"
      ],
      "text/markdown": [
       "487"
      ],
      "text/plain": [
       "[1] 487"
      ]
     },
     "metadata": {},
     "output_type": "display_data"
    }
   ],
   "source": [
    "# significant results at FDR<5% instead (using qvalue)\n",
    "matrix_df_common$qv = qvalue(matrix_df_common$p_SMR)$qvalues\n",
    "nrow(matrix_df_common[matrix_df_common$qv<0.05,])"
   ]
  },
  {
   "cell_type": "code",
   "execution_count": 14,
   "id": "b2614cde",
   "metadata": {},
   "outputs": [
    {
     "data": {
      "text/html": [
       "529"
      ],
      "text/latex": [
       "529"
      ],
      "text/markdown": [
       "529"
      ],
      "text/plain": [
       "[1] 529"
      ]
     },
     "metadata": {},
     "output_type": "display_data"
    }
   ],
   "source": [
    "saige_df_common$qv = qvalue(saige_df_common$p_SMR)$qvalues\n",
    "nrow(saige_df_common[saige_df_common$qv<0.05,])"
   ]
  },
  {
   "cell_type": "code",
   "execution_count": null,
   "id": "8efbb834",
   "metadata": {},
   "outputs": [],
   "source": []
  },
  {
   "cell_type": "code",
   "execution_count": null,
   "id": "56cb15a7",
   "metadata": {},
   "outputs": [],
   "source": []
  },
  {
   "cell_type": "code",
   "execution_count": 15,
   "id": "ccbfbf62",
   "metadata": {},
   "outputs": [
    {
     "data": {
      "text/html": [
       "188"
      ],
      "text/latex": [
       "188"
      ],
      "text/markdown": [
       "188"
      ],
      "text/plain": [
       "[1] 188"
      ]
     },
     "metadata": {},
     "output_type": "display_data"
    },
    {
     "data": {
      "text/html": [
       "<style>\n",
       ".list-inline {list-style: none; margin:0; padding: 0}\n",
       ".list-inline>li {display: inline-block}\n",
       ".list-inline>li:not(:last-child)::after {content: \"\\00b7\"; padding: 0 .5ex}\n",
       "</style>\n",
       "<ol class=list-inline><li>'REL_BimmNaive'</li><li>'HLA-DQA2_BimmNaive'</li><li>'HLA-DRB5_BimmNaive'</li><li>'XXbac-BPG299F13.17_BimmNaive'</li><li>'HLA-DRB1_BimmNaive'</li><li>'HLA-DQB1_BimmNaive'</li></ol>\n"
      ],
      "text/latex": [
       "\\begin{enumerate*}\n",
       "\\item 'REL\\_BimmNaive'\n",
       "\\item 'HLA-DQA2\\_BimmNaive'\n",
       "\\item 'HLA-DRB5\\_BimmNaive'\n",
       "\\item 'XXbac-BPG299F13.17\\_BimmNaive'\n",
       "\\item 'HLA-DRB1\\_BimmNaive'\n",
       "\\item 'HLA-DQB1\\_BimmNaive'\n",
       "\\end{enumerate*}\n"
      ],
      "text/markdown": [
       "1. 'REL_BimmNaive'\n",
       "2. 'HLA-DQA2_BimmNaive'\n",
       "3. 'HLA-DRB5_BimmNaive'\n",
       "4. 'XXbac-BPG299F13.17_BimmNaive'\n",
       "5. 'HLA-DRB1_BimmNaive'\n",
       "6. 'HLA-DQB1_BimmNaive'\n",
       "\n",
       "\n"
      ],
      "text/plain": [
       "[1] \"REL_BimmNaive\"                \"HLA-DQA2_BimmNaive\"          \n",
       "[3] \"HLA-DRB5_BimmNaive\"           \"XXbac-BPG299F13.17_BimmNaive\"\n",
       "[5] \"HLA-DRB1_BimmNaive\"           \"HLA-DQB1_BimmNaive\"          "
      ]
     },
     "metadata": {},
     "output_type": "display_data"
    },
    {
     "data": {
      "text/html": [
       "207"
      ],
      "text/latex": [
       "207"
      ],
      "text/markdown": [
       "207"
      ],
      "text/plain": [
       "[1] 207"
      ]
     },
     "metadata": {},
     "output_type": "display_data"
    },
    {
     "data": {
      "text/html": [
       "<style>\n",
       ".list-inline {list-style: none; margin:0; padding: 0}\n",
       ".list-inline>li {display: inline-block}\n",
       ".list-inline>li:not(:last-child)::after {content: \"\\00b7\"; padding: 0 .5ex}\n",
       "</style>\n",
       "<ol class=list-inline><li>'REL_BimmNaive'</li><li>'HLA-A_BimmNaive'</li><li>'XXbac-BPG299F13.17_BimmNaive'</li><li>'HLA-C_BimmNaive'</li><li>'LST1_BimmNaive'</li><li>'C6orf48_BimmNaive'</li></ol>\n"
      ],
      "text/latex": [
       "\\begin{enumerate*}\n",
       "\\item 'REL\\_BimmNaive'\n",
       "\\item 'HLA-A\\_BimmNaive'\n",
       "\\item 'XXbac-BPG299F13.17\\_BimmNaive'\n",
       "\\item 'HLA-C\\_BimmNaive'\n",
       "\\item 'LST1\\_BimmNaive'\n",
       "\\item 'C6orf48\\_BimmNaive'\n",
       "\\end{enumerate*}\n"
      ],
      "text/markdown": [
       "1. 'REL_BimmNaive'\n",
       "2. 'HLA-A_BimmNaive'\n",
       "3. 'XXbac-BPG299F13.17_BimmNaive'\n",
       "4. 'HLA-C_BimmNaive'\n",
       "5. 'LST1_BimmNaive'\n",
       "6. 'C6orf48_BimmNaive'\n",
       "\n",
       "\n"
      ],
      "text/plain": [
       "[1] \"REL_BimmNaive\"                \"HLA-A_BimmNaive\"             \n",
       "[3] \"XXbac-BPG299F13.17_BimmNaive\" \"HLA-C_BimmNaive\"             \n",
       "[5] \"LST1_BimmNaive\"               \"C6orf48_BimmNaive\"           "
      ]
     },
     "metadata": {},
     "output_type": "display_data"
    },
    {
     "data": {
      "text/html": [
       "179"
      ],
      "text/latex": [
       "179"
      ],
      "text/markdown": [
       "179"
      ],
      "text/plain": [
       "[1] 179"
      ]
     },
     "metadata": {},
     "output_type": "display_data"
    }
   ],
   "source": [
    "# Using p < (0.05 / n_tests, gene-celltype comb)\n",
    "\n",
    "matrix_sign_combs = matrix_df_common[matrix_df_common$p_SMR < (0.05/length(common_combs)),\"comb\"]$comb\n",
    "length(matrix_sign_combs)\n",
    "head(matrix_sign_combs)\n",
    "\n",
    "saige_sign_combs = saige_df_common[saige_df_common$p_SMR < (0.05/length(common_combs)),\"comb\"]$comb\n",
    "length(saige_sign_combs)\n",
    "head(saige_sign_combs)\n",
    "\n",
    "length(saige_sign_combs[saige_sign_combs %in% matrix_sign_combs])"
   ]
  },
  {
   "cell_type": "code",
   "execution_count": 16,
   "id": "6d6d639d",
   "metadata": {},
   "outputs": [
    {
     "data": {
      "text/html": [
       "487"
      ],
      "text/latex": [
       "487"
      ],
      "text/markdown": [
       "487"
      ],
      "text/plain": [
       "[1] 487"
      ]
     },
     "metadata": {},
     "output_type": "display_data"
    },
    {
     "data": {
      "text/html": [
       "529"
      ],
      "text/latex": [
       "529"
      ],
      "text/markdown": [
       "529"
      ],
      "text/plain": [
       "[1] 529"
      ]
     },
     "metadata": {},
     "output_type": "display_data"
    },
    {
     "data": {
      "text/html": [
       "466"
      ],
      "text/latex": [
       "466"
      ],
      "text/markdown": [
       "466"
      ],
      "text/plain": [
       "[1] 466"
      ]
     },
     "metadata": {},
     "output_type": "display_data"
    }
   ],
   "source": [
    "# Using FDR < 0.05\n",
    "\n",
    "matrix_sign_combs = matrix_df_common[matrix_df_common$qv < 0.05,\"comb\"]$comb\n",
    "length(matrix_sign_combs)\n",
    "\n",
    "saige_sign_combs = saige_df_common[saige_df_common$qv < 0.05,\"comb\"]$comb\n",
    "length(saige_sign_combs)\n",
    "\n",
    "length(saige_sign_combs[saige_sign_combs %in% matrix_sign_combs])"
   ]
  },
  {
   "cell_type": "code",
   "execution_count": null,
   "id": "6f0fc3b4",
   "metadata": {},
   "outputs": [],
   "source": []
  },
  {
   "cell_type": "code",
   "execution_count": null,
   "id": "a6824a28",
   "metadata": {},
   "outputs": [],
   "source": []
  },
  {
   "cell_type": "code",
   "execution_count": 35,
   "id": "8c40f2d0",
   "metadata": {},
   "outputs": [
    {
     "data": {
      "text/html": [
       "<table class=\"dataframe\">\n",
       "<caption>A data.table: 104 × 24</caption>\n",
       "<thead>\n",
       "\t<tr><th scope=col>probeID</th><th scope=col>ProbeChr</th><th scope=col>Gene</th><th scope=col>Probe_bp</th><th scope=col>topSNP</th><th scope=col>topSNP_chr</th><th scope=col>topSNP_bp</th><th scope=col>A1</th><th scope=col>A2</th><th scope=col>Freq</th><th scope=col>⋯</th><th scope=col>se_eQTL</th><th scope=col>p_eQTL</th><th scope=col>b_SMR</th><th scope=col>se_SMR</th><th scope=col>p_SMR</th><th scope=col>p_HEIDI</th><th scope=col>nsnp_HEIDI</th><th scope=col>Cell_type</th><th scope=col>comb</th><th scope=col>qv</th></tr>\n",
       "\t<tr><th scope=col>&lt;chr&gt;</th><th scope=col>&lt;int&gt;</th><th scope=col>&lt;chr&gt;</th><th scope=col>&lt;int&gt;</th><th scope=col>&lt;chr&gt;</th><th scope=col>&lt;int&gt;</th><th scope=col>&lt;int&gt;</th><th scope=col>&lt;chr&gt;</th><th scope=col>&lt;chr&gt;</th><th scope=col>&lt;dbl&gt;</th><th scope=col>⋯</th><th scope=col>&lt;dbl&gt;</th><th scope=col>&lt;dbl&gt;</th><th scope=col>&lt;dbl&gt;</th><th scope=col>&lt;dbl&gt;</th><th scope=col>&lt;dbl&gt;</th><th scope=col>&lt;dbl&gt;</th><th scope=col>&lt;int&gt;</th><th scope=col>&lt;chr&gt;</th><th scope=col>&lt;chr&gt;</th><th scope=col>&lt;dbl&gt;</th></tr>\n",
       "</thead>\n",
       "<tbody>\n",
       "\t<tr><td>ERAP2   </td><td> 5</td><td>ERAP2   </td><td> 96211643</td><td>rs27295   </td><td> 5</td><td> 96358687</td><td>C</td><td>T</td><td>0.431335</td><td>⋯</td><td>0.02186180</td><td> 9.580355e-47</td><td>-0.1840280</td><td>0.03696720</td><td>6.419558e-07</td><td>6.248309e-02</td><td>20</td><td>BimmNaive</td><td>ERAP2_BimmNaive   </td><td>7.135444e-05</td></tr>\n",
       "\t<tr><td>LST1    </td><td> 6</td><td>LST1    </td><td> 31553901</td><td>rs2256965 </td><td> 6</td><td> 31555130</td><td>A</td><td>G</td><td>0.405706</td><td>⋯</td><td>0.02502590</td><td> 4.159973e-16</td><td>-0.3190970</td><td>0.06625470</td><td>1.463083e-06</td><td>9.578130e-02</td><td>14</td><td>BimmNaive</td><td>LST1_BimmNaive    </td><td>1.472176e-04</td></tr>\n",
       "\t<tr><td>HLA-DQA1</td><td> 6</td><td>HLA-DQA1</td><td> 32595956</td><td>rs9272546 </td><td> 6</td><td> 32606941</td><td>T</td><td>C</td><td>0.336074</td><td>⋯</td><td>0.01390830</td><td> 2.408243e-45</td><td> 0.4690740</td><td>0.06514700</td><td>6.010586e-13</td><td>3.898305e-10</td><td>20</td><td>BimmNaive</td><td>HLA-DQA1_BimmNaive</td><td>2.498063e-10</td></tr>\n",
       "\t<tr><td>HLA-DQB1</td><td> 6</td><td>HLA-DQB1</td><td> 32627244</td><td>rs9274660 </td><td> 6</td><td> 32636434</td><td>A</td><td>G</td><td>0.394584</td><td>⋯</td><td>0.01463280</td><td> 3.180543e-58</td><td>-0.3397790</td><td>0.05138470</td><td>3.780030e-11</td><td>3.378640e-09</td><td>20</td><td>BimmNaive</td><td>HLA-DQB1_BimmNaive</td><td>1.129171e-08</td></tr>\n",
       "\t<tr><td>HLA-DQA2</td><td> 6</td><td>HLA-DQA2</td><td> 32709119</td><td>rs9272319 </td><td> 6</td><td> 32604108</td><td>T</td><td>C</td><td>0.653288</td><td>⋯</td><td>0.07241990</td><td> 2.105526e-94</td><td> 0.0763340</td><td>0.00850834</td><td>2.920490e-19</td><td>1.322820e-06</td><td>20</td><td>BimmNaive</td><td>HLA-DQA2_BimmNaive</td><td>7.128877e-16</td></tr>\n",
       "\t<tr><td>HLA-DQB2</td><td> 6</td><td>HLA-DQB2</td><td> 32723875</td><td>rs17612858</td><td> 6</td><td> 32620622</td><td>A</td><td>T</td><td>0.395551</td><td>⋯</td><td>0.05466370</td><td> 8.199010e-50</td><td> 0.1006890</td><td>0.01503450</td><td>2.124938e-11</td><td>3.754812e-14</td><td>20</td><td>BimmNaive</td><td>HLA-DQB2_BimmNaive</td><td>7.004266e-09</td></tr>\n",
       "\t<tr><td>LAMB1   </td><td> 7</td><td>LAMB1   </td><td>107564244</td><td>rs1131398 </td><td> 7</td><td>107569517</td><td>A</td><td>G</td><td>0.584623</td><td>⋯</td><td>0.07287180</td><td> 4.439280e-32</td><td>-0.0799570</td><td>0.01437920</td><td>2.688348e-08</td><td>9.969587e-03</td><td>20</td><td>BimmNaive</td><td>LAMB1_BimmNaive   </td><td>4.758895e-06</td></tr>\n",
       "\t<tr><td>TUFM    </td><td>16</td><td>TUFM    </td><td> 28853732</td><td>rs7187776 </td><td>16</td><td> 28857645</td><td>A</td><td>G</td><td>0.615571</td><td>⋯</td><td>0.01473370</td><td> 3.420663e-67</td><td>-0.2497920</td><td>0.04560750</td><td>4.325910e-08</td><td>2.498464e-02</td><td>20</td><td>BimmNaive</td><td>TUFM_BimmNaive    </td><td>7.008738e-06</td></tr>\n",
       "\t<tr><td>ORMDL3  </td><td>17</td><td>ORMDL3  </td><td> 38077294</td><td>rs8067378 </td><td>17</td><td> 38051348</td><td>A</td><td>G</td><td>0.491779</td><td>⋯</td><td>0.02442030</td><td> 1.576034e-50</td><td> 0.2259170</td><td>0.03306230</td><td>8.311311e-12</td><td>1.492448e-01</td><td>20</td><td>BimmNaive</td><td>ORMDL3_BimmNaive  </td><td>3.055699e-09</td></tr>\n",
       "\t<tr><td>ERAP2   </td><td> 5</td><td>ERAP2   </td><td> 96211643</td><td>rs27998   </td><td> 5</td><td> 96367408</td><td>G</td><td>A</td><td>0.428917</td><td>⋯</td><td>0.02443750</td><td> 7.455040e-54</td><td>-0.1512860</td><td>0.03044210</td><td>6.708265e-07</td><td>7.675835e-02</td><td>20</td><td>Bmem     </td><td>ERAP2_Bmem        </td><td>7.370642e-05</td></tr>\n",
       "\t<tr><td>HLA-DQA1</td><td> 6</td><td>HLA-DQA1</td><td> 32595956</td><td>rs707951  </td><td> 6</td><td> 32609813</td><td>T</td><td>C</td><td>0.326402</td><td>⋯</td><td>0.01330300</td><td> 5.167572e-16</td><td> 0.6716470</td><td>0.13530800</td><td>6.911070e-07</td><td>5.432072e-07</td><td>20</td><td>Bmem     </td><td>HLA-DQA1_Bmem     </td><td>7.422832e-05</td></tr>\n",
       "\t<tr><td>HLA-DQB1</td><td> 6</td><td>HLA-DQB1</td><td> 32627244</td><td>rs9272346 </td><td> 6</td><td> 32604372</td><td>G</td><td>A</td><td>0.394101</td><td>⋯</td><td>0.01473890</td><td> 2.663212e-39</td><td>-0.5488630</td><td>0.07021390</td><td>5.409221e-15</td><td>4.504310e-06</td><td>20</td><td>Bmem     </td><td>HLA-DQB1_Bmem     </td><td>2.585348e-12</td></tr>\n",
       "\t<tr><td>HLA-DQA2</td><td> 6</td><td>HLA-DQA2</td><td> 32709119</td><td>rs9271661 </td><td> 6</td><td> 32592605</td><td>T</td><td>A</td><td>0.652805</td><td>⋯</td><td>0.07490580</td><td>3.813374e-104</td><td> 0.0686558</td><td>0.00767557</td><td>3.728866e-19</td><td>1.061227e-07</td><td>20</td><td>Bmem     </td><td>HLA-DQA2_Bmem     </td><td>7.128877e-16</td></tr>\n",
       "\t<tr><td>HLA-DQB2</td><td> 6</td><td>HLA-DQB2</td><td> 32723875</td><td>rs7751376 </td><td> 6</td><td> 32605437</td><td>C</td><td>G</td><td>0.397969</td><td>⋯</td><td>0.06126520</td><td> 5.867492e-41</td><td> 0.1257130</td><td>0.01627940</td><td>1.143448e-14</td><td>1.048228e-13</td><td>20</td><td>Bmem     </td><td>HLA-DQB2_Bmem     </td><td>5.204889e-12</td></tr>\n",
       "\t<tr><td>LAMB1   </td><td> 7</td><td>LAMB1   </td><td>107564244</td><td>rs10272963</td><td> 7</td><td>107486902</td><td>C</td><td>T</td><td>0.555126</td><td>⋯</td><td>0.09268830</td><td> 4.312573e-14</td><td>-0.1020440</td><td>0.02054280</td><td>6.786452e-07</td><td>4.387485e-01</td><td>20</td><td>Bmem     </td><td>LAMB1_Bmem        </td><td>7.371816e-05</td></tr>\n",
       "\t<tr><td>TUFM    </td><td>16</td><td>TUFM    </td><td> 28853732</td><td>rs7187776 </td><td>16</td><td> 28857645</td><td>A</td><td>G</td><td>0.615571</td><td>⋯</td><td>0.01434550</td><td> 3.904825e-45</td><td>-0.3151530</td><td>0.05898770</td><td>9.157695e-08</td><td>6.459743e-02</td><td>20</td><td>Bmem     </td><td>TUFM_Bmem         </td><td>1.326345e-05</td></tr>\n",
       "\t<tr><td>ORMDL3  </td><td>17</td><td>ORMDL3  </td><td> 38077294</td><td>rs7359623 </td><td>17</td><td> 38049589</td><td>C</td><td>T</td><td>0.496132</td><td>⋯</td><td>0.02815960</td><td> 1.782539e-39</td><td> 0.2297210</td><td>0.03385460</td><td>1.156600e-11</td><td>2.964189e-02</td><td>20</td><td>Bmem     </td><td>ORMDL3_Bmem       </td><td>3.948567e-09</td></tr>\n",
       "\t<tr><td>GPX1    </td><td> 3</td><td>GPX1    </td><td> 49394609</td><td>rs1801143 </td><td> 3</td><td> 49570200</td><td>C</td><td>T</td><td>0.701161</td><td>⋯</td><td>0.00677544</td><td> 7.627006e-13</td><td> 2.1730500</td><td>0.38533600</td><td>1.706932e-08</td><td>5.630704e-01</td><td>20</td><td>CD4all   </td><td>GPX1_CD4all       </td><td>3.263327e-06</td></tr>\n",
       "\t<tr><td>ERAP2   </td><td> 5</td><td>ERAP2   </td><td> 96211643</td><td>rs2910686 </td><td> 5</td><td> 96252589</td><td>T</td><td>C</td><td>0.567215</td><td>⋯</td><td>0.01822860</td><td>4.685026e-155</td><td>-0.1224230</td><td>0.02294620</td><td>9.542764e-08</td><td>3.323238e-02</td><td>20</td><td>CD4all   </td><td>ERAP2_CD4all      </td><td>1.361488e-05</td></tr>\n",
       "\t<tr><td>HLA-DRB5</td><td> 6</td><td>HLA-DRB5</td><td> 32485120</td><td>rs28366319</td><td> 6</td><td> 32561495</td><td>G</td><td>A</td><td>0.653288</td><td>⋯</td><td>0.03471940</td><td> 5.093671e-60</td><td> 0.2075430</td><td>0.02384930</td><td>3.253370e-18</td><td>7.959542e-12</td><td>20</td><td>CD4all   </td><td>HLA-DRB5_CD4all   </td><td>2.827191e-15</td></tr>\n",
       "\t<tr><td>HLA-DQA1</td><td> 6</td><td>HLA-DQA1</td><td> 32595956</td><td>rs35395738</td><td> 6</td><td> 32560209</td><td>T</td><td>C</td><td>0.806576</td><td>⋯</td><td>0.03311190</td><td> 1.129380e-13</td><td> 0.5629900</td><td>0.09352580</td><td>1.748200e-09</td><td>1.213611e-02</td><td>20</td><td>CD4all   </td><td>HLA-DQA1_CD4all   </td><td>4.284902e-07</td></tr>\n",
       "\t<tr><td>HLA-DQA2</td><td> 6</td><td>HLA-DQA2</td><td> 32709119</td><td>rs9272785 </td><td> 6</td><td> 32610401</td><td>G</td><td>A</td><td>0.798356</td><td>⋯</td><td>0.05973710</td><td> 1.313401e-62</td><td> 0.1223530</td><td>0.01526880</td><td>1.116732e-15</td><td>4.746199e-04</td><td>20</td><td>CD4all   </td><td>HLA-DQA2_CD4all   </td><td>5.930493e-13</td></tr>\n",
       "\t<tr><td>HLA-DQB2</td><td> 6</td><td>HLA-DQB2</td><td> 32723875</td><td>rs9272441 </td><td> 6</td><td> 32605380</td><td>T</td><td>G</td><td>0.413926</td><td>⋯</td><td>0.11006000</td><td> 2.005612e-10</td><td> 0.1468840</td><td>0.02788790</td><td>1.387118e-07</td><td>2.639496e-04</td><td>20</td><td>CD4all   </td><td>HLA-DQB2_CD4all   </td><td>1.841600e-05</td></tr>\n",
       "\t<tr><td>HLA-DOB </td><td> 6</td><td>HLA-DOB </td><td> 32780540</td><td>rs4148876 </td><td> 6</td><td> 32796793</td><td>G</td><td>A</td><td>0.934720</td><td>⋯</td><td>0.07575170</td><td> 9.260680e-22</td><td> 0.2001190</td><td>0.03547220</td><td>1.685014e-08</td><td>4.810375e-04</td><td>14</td><td>CD4all   </td><td>HLA-DOB_CD4all    </td><td>3.263327e-06</td></tr>\n",
       "\t<tr><td>RNASET2 </td><td> 6</td><td>RNASET2 </td><td>167342992</td><td>rs425039  </td><td> 6</td><td>167410527</td><td>C</td><td>T</td><td>0.465184</td><td>⋯</td><td>0.00866928</td><td>1.421406e-130</td><td> 0.2995950</td><td>0.05246040</td><td>1.123890e-08</td><td>3.622996e-01</td><td>20</td><td>CD4all   </td><td>RNASET2_CD4all    </td><td>2.387403e-06</td></tr>\n",
       "\t<tr><td>LAMB1   </td><td> 7</td><td>LAMB1   </td><td>107564244</td><td>rs2237685 </td><td> 7</td><td>107574784</td><td>G</td><td>A</td><td>0.588008</td><td>⋯</td><td>0.04001580</td><td> 1.715565e-98</td><td>-0.0784276</td><td>0.01349520</td><td>6.190566e-09</td><td>1.781427e-04</td><td>20</td><td>CD4all   </td><td>LAMB1_CD4all      </td><td>1.408949e-06</td></tr>\n",
       "\t<tr><td>CCDC101 </td><td>16</td><td>CCDC101 </td><td> 28565236</td><td>rs151226  </td><td>16</td><td> 28549823</td><td>A</td><td>C</td><td>0.471954</td><td>⋯</td><td>0.00980894</td><td> 1.120344e-40</td><td> 0.4207750</td><td>0.08794830</td><td>1.715497e-06</td><td>1.367291e-02</td><td>20</td><td>CD4all   </td><td>CCDC101_CD4all    </td><td>1.690568e-04</td></tr>\n",
       "\t<tr><td>TUFM    </td><td>16</td><td>TUFM    </td><td> 28853732</td><td>rs7187776 </td><td>16</td><td> 28857645</td><td>A</td><td>G</td><td>0.615571</td><td>⋯</td><td>0.00789466</td><td>3.280907e-121</td><td>-0.3448570</td><td>0.06152230</td><td>2.077809e-08</td><td>2.598199e-02</td><td>20</td><td>CD4all   </td><td>TUFM_CD4all       </td><td>3.819589e-06</td></tr>\n",
       "\t<tr><td>ADCY7   </td><td>16</td><td>ADCY7   </td><td> 50280048</td><td>rs9934775 </td><td>16</td><td> 50383077</td><td>C</td><td>T</td><td>0.852515</td><td>⋯</td><td>0.01946550</td><td> 5.567884e-18</td><td> 0.5149650</td><td>0.10428900</td><td>7.898620e-07</td><td>1.548705e-02</td><td>15</td><td>CD4all   </td><td>ADCY7_CD4all      </td><td>8.389249e-05</td></tr>\n",
       "\t<tr><td>STMN3   </td><td>20</td><td>STMN3   </td><td> 62271061</td><td>rs879471  </td><td>20</td><td> 62269942</td><td>C</td><td>T</td><td>0.461799</td><td>⋯</td><td>0.00915440</td><td> 5.110174e-51</td><td>-0.3976680</td><td>0.08297330</td><td>1.645395e-06</td><td>6.891810e-04</td><td>20</td><td>CD4all   </td><td>STMN3_CD4all      </td><td>1.638375e-04</td></tr>\n",
       "\t<tr><td>⋮</td><td>⋮</td><td>⋮</td><td>⋮</td><td>⋮</td><td>⋮</td><td>⋮</td><td>⋮</td><td>⋮</td><td>⋮</td><td>⋱</td><td>⋮</td><td>⋮</td><td>⋮</td><td>⋮</td><td>⋮</td><td>⋮</td><td>⋮</td><td>⋮</td><td>⋮</td><td>⋮</td></tr>\n",
       "\t<tr><td>HLA-DRB1</td><td> 6</td><td>HLA-DRB1</td><td> 32546546</td><td>rs28366315</td><td> 6</td><td> 32561207</td><td>C</td><td>T</td><td>0.664894</td><td>⋯</td><td>0.02200700</td><td> 3.563327e-21</td><td>-0.5555710</td><td>0.08081680</td><td>6.222903e-12</td><td>1.664290e-06</td><td>20</td><td>MonoC </td><td>HLA-DRB1_MonoC </td><td>2.379400e-09</td></tr>\n",
       "\t<tr><td>HLA-DQB1</td><td> 6</td><td>HLA-DQB1</td><td> 32627244</td><td>rs9272553 </td><td> 6</td><td> 32607008</td><td>G</td><td>T</td><td>0.398453</td><td>⋯</td><td>0.03006520</td><td> 6.174653e-82</td><td>-0.1735720</td><td>0.02090220</td><td>1.006539e-16</td><td>1.278377e-17</td><td>20</td><td>MonoC </td><td>HLA-DQB1_MonoC </td><td>6.872534e-14</td></tr>\n",
       "\t<tr><td>HLA-DQA2</td><td> 6</td><td>HLA-DQA2</td><td> 32709119</td><td>rs9272319 </td><td> 6</td><td> 32604108</td><td>T</td><td>C</td><td>0.653288</td><td>⋯</td><td>0.07963950</td><td> 4.528053e-77</td><td> 0.0770020</td><td>0.00876824</td><td>1.607055e-18</td><td>3.080768e-05</td><td>20</td><td>MonoC </td><td>HLA-DQA2_MonoC </td><td>1.706878e-15</td></tr>\n",
       "\t<tr><td>TUFM    </td><td>16</td><td>TUFM    </td><td> 28853732</td><td>rs7187776 </td><td>16</td><td> 28857645</td><td>A</td><td>G</td><td>0.615571</td><td>⋯</td><td>0.01570400</td><td> 1.325731e-36</td><td>-0.3211840</td><td>0.06116370</td><td>1.510882e-07</td><td>1.580598e-01</td><td>20</td><td>MonoC </td><td>TUFM_MonoC     </td><td>1.978436e-05</td></tr>\n",
       "\t<tr><td>ERAP2   </td><td> 5</td><td>ERAP2   </td><td> 96211643</td><td>rs2910686 </td><td> 5</td><td> 96252589</td><td>T</td><td>C</td><td>0.567215</td><td>⋯</td><td>0.04128870</td><td> 1.094054e-44</td><td>-0.1022290</td><td>0.02013520</td><td>3.832020e-07</td><td>3.130868e-01</td><td>20</td><td>MonoNC</td><td>ERAP2_MonoNC   </td><td>4.467127e-05</td></tr>\n",
       "\t<tr><td>HLA-DQA1</td><td> 6</td><td>HLA-DQA1</td><td> 32595956</td><td>rs28383312</td><td> 6</td><td> 32587090</td><td>C</td><td>T</td><td>0.594778</td><td>⋯</td><td>0.03867460</td><td> 2.592618e-43</td><td> 0.1692880</td><td>0.02407860</td><td>2.056073e-12</td><td>2.940509e-12</td><td>20</td><td>MonoNC</td><td>HLA-DQA1_MonoNC</td><td>8.189203e-10</td></tr>\n",
       "\t<tr><td>HLA-DQB1</td><td> 6</td><td>HLA-DQB1</td><td> 32627244</td><td>rs9274660 </td><td> 6</td><td> 32636434</td><td>A</td><td>G</td><td>0.394584</td><td>⋯</td><td>0.03545830</td><td> 3.678175e-60</td><td>-0.1378720</td><td>0.02079180</td><td>3.332428e-11</td><td>6.672575e-16</td><td>20</td><td>MonoNC</td><td>HLA-DQB1_MonoNC</td><td>1.027575e-08</td></tr>\n",
       "\t<tr><td>HLA-DQA2</td><td> 6</td><td>HLA-DQA2</td><td> 32709119</td><td>rs9272319 </td><td> 6</td><td> 32604108</td><td>T</td><td>C</td><td>0.653288</td><td>⋯</td><td>0.08119340</td><td> 2.168566e-79</td><td> 0.0743895</td><td>0.00844239</td><td>1.235670e-18</td><td>1.424963e-06</td><td>20</td><td>MonoNC</td><td>HLA-DQA2_MonoNC</td><td>1.476478e-15</td></tr>\n",
       "\t<tr><td>TUFM    </td><td>16</td><td>TUFM    </td><td> 28853732</td><td>rs7187776 </td><td>16</td><td> 28857645</td><td>A</td><td>G</td><td>0.615571</td><td>⋯</td><td>0.02148480</td><td> 8.543667e-30</td><td>-0.2616640</td><td>0.05086090</td><td>2.679391e-07</td><td>2.061435e-01</td><td>20</td><td>MonoNC</td><td>TUFM_MonoNC    </td><td>3.242077e-05</td></tr>\n",
       "\t<tr><td>ERAP2   </td><td> 5</td><td>ERAP2   </td><td> 96211643</td><td>rs2548226 </td><td> 5</td><td> 96275186</td><td>C</td><td>T</td><td>0.582205</td><td>⋯</td><td>0.04306070</td><td> 2.167436e-30</td><td>-0.1172250</td><td>0.02454950</td><td>1.796704e-06</td><td>7.905086e-03</td><td>20</td><td>NKact </td><td>ERAP2_NKact    </td><td>1.752527e-04</td></tr>\n",
       "\t<tr><td>HLA-DQA1</td><td> 6</td><td>HLA-DQA1</td><td> 32595956</td><td>rs34763586</td><td> 6</td><td> 32608998</td><td>T</td><td>C</td><td>0.798356</td><td>⋯</td><td>0.09794100</td><td> 3.271354e-16</td><td> 0.1646910</td><td>0.02621840</td><td>3.353445e-10</td><td>2.610920e-03</td><td>20</td><td>NKact </td><td>HLA-DQA1_NKact </td><td>8.904367e-08</td></tr>\n",
       "\t<tr><td>HLA-DQB1</td><td> 6</td><td>HLA-DQB1</td><td> 32627244</td><td>rs9273226 </td><td> 6</td><td> 32613824</td><td>C</td><td>T</td><td>0.398453</td><td>⋯</td><td>0.06523500</td><td> 4.545074e-15</td><td>-0.1740850</td><td>0.03057830</td><td>1.247592e-08</td><td>2.461358e-05</td><td>20</td><td>NKact </td><td>HLA-DQB1_NKact </td><td>2.592562e-06</td></tr>\n",
       "\t<tr><td>HLA-DQA2</td><td> 6</td><td>HLA-DQA2</td><td> 32709119</td><td>rs9272461 </td><td> 6</td><td> 32605609</td><td>G</td><td>A</td><td>0.797389</td><td>⋯</td><td>0.12082600</td><td> 6.550258e-41</td><td> 0.0874852</td><td>0.01056250</td><td>1.205316e-16</td><td>2.021936e-03</td><td>20</td><td>NKact </td><td>HLA-DQA2_NKact </td><td>7.681111e-14</td></tr>\n",
       "\t<tr><td>ERAP2   </td><td> 5</td><td>ERAP2   </td><td> 96211643</td><td>rs2910686 </td><td> 5</td><td> 96252589</td><td>T</td><td>C</td><td>0.567215</td><td>⋯</td><td>0.02247820</td><td>5.962536e-122</td><td>-0.1121450</td><td>0.02113680</td><td>1.122488e-07</td><td>7.289278e-02</td><td>20</td><td>NKmat </td><td>ERAP2_NKmat    </td><td>1.577382e-05</td></tr>\n",
       "\t<tr><td>C5orf56 </td><td> 5</td><td>C5orf56 </td><td>131746328</td><td>rs2522051 </td><td> 5</td><td>131797578</td><td>T</td><td>C</td><td>0.540135</td><td>⋯</td><td>0.00905650</td><td> 2.492306e-14</td><td> 0.9869000</td><td>0.20289500</td><td>1.149813e-06</td><td>4.122670e-07</td><td>20</td><td>NKmat </td><td>C5orf56_NKmat  </td><td>1.169267e-04</td></tr>\n",
       "\t<tr><td>HLA-DRB5</td><td> 6</td><td>HLA-DRB5</td><td> 32485120</td><td>rs28366319</td><td> 6</td><td> 32561495</td><td>G</td><td>A</td><td>0.653288</td><td>⋯</td><td>0.04976660</td><td> 1.325852e-41</td><td> 0.1750970</td><td>0.02139970</td><td>2.786693e-16</td><td>3.581661e-11</td><td>20</td><td>NKmat </td><td>HLA-DRB5_NKmat </td><td>1.664882e-13</td></tr>\n",
       "\t<tr><td>HLA-DRB1</td><td> 6</td><td>HLA-DRB1</td><td> 32546546</td><td>rs9271013 </td><td> 6</td><td> 32574703</td><td>G</td><td>C</td><td>0.274178</td><td>⋯</td><td>0.03616400</td><td> 2.071488e-14</td><td>-0.4385690</td><td>0.07178120</td><td>9.975865e-10</td><td>2.571903e-04</td><td>20</td><td>NKmat </td><td>HLA-DRB1_NKmat </td><td>2.577289e-07</td></tr>\n",
       "\t<tr><td>HLA-DQA1</td><td> 6</td><td>HLA-DQA1</td><td> 32595956</td><td>rs17426593</td><td> 6</td><td> 32608077</td><td>T</td><td>C</td><td>0.797389</td><td>⋯</td><td>0.05106020</td><td> 4.430608e-55</td><td> 0.1628080</td><td>0.02005140</td><td>4.680147e-16</td><td>1.573419e-04</td><td>20</td><td>NKmat </td><td>HLA-DQA1_NKmat </td><td>2.631631e-13</td></tr>\n",
       "\t<tr><td>HLA-DQB1</td><td> 6</td><td>HLA-DQB1</td><td> 32627244</td><td>rs9272426 </td><td> 6</td><td> 32605189</td><td>A</td><td>G</td><td>0.552708</td><td>⋯</td><td>0.03316150</td><td> 3.590372e-27</td><td>-0.2437860</td><td>0.03770850</td><td>1.012812e-10</td><td>2.059997e-10</td><td>20</td><td>NKmat </td><td>HLA-DQB1_NKmat </td><td>2.847504e-08</td></tr>\n",
       "\t<tr><td>HLA-DQA2</td><td> 6</td><td>HLA-DQA2</td><td> 32709119</td><td>rs9272461 </td><td> 6</td><td> 32605609</td><td>G</td><td>A</td><td>0.797389</td><td>⋯</td><td>0.07543590</td><td> 5.588626e-75</td><td> 0.1024400</td><td>0.01121330</td><td>6.506423e-20</td><td>2.803443e-04</td><td>20</td><td>NKmat </td><td>HLA-DQA2_NKmat </td><td>3.109758e-16</td></tr>\n",
       "\t<tr><td>RNASET2 </td><td> 6</td><td>RNASET2 </td><td>167342992</td><td>rs425039  </td><td> 6</td><td>167410527</td><td>C</td><td>T</td><td>0.465184</td><td>⋯</td><td>0.01071850</td><td> 4.807268e-43</td><td> 0.4283430</td><td>0.07927920</td><td>6.554582e-08</td><td>3.336506e-01</td><td>20</td><td>NKmat </td><td>RNASET2_NKmat  </td><td>1.010573e-05</td></tr>\n",
       "\t<tr><td>LAMB1   </td><td> 7</td><td>LAMB1   </td><td>107564244</td><td>rs2237685 </td><td> 7</td><td>107574784</td><td>G</td><td>A</td><td>0.588008</td><td>⋯</td><td>0.06196380</td><td> 7.323848e-36</td><td>-0.0853361</td><td>0.01567800</td><td>5.237664e-08</td><td>1.345229e-03</td><td>20</td><td>NKmat </td><td>LAMB1_NKmat    </td><td>8.344508e-06</td></tr>\n",
       "\t<tr><td>TUFM    </td><td>16</td><td>TUFM    </td><td> 28853732</td><td>rs7187776 </td><td>16</td><td> 28857645</td><td>A</td><td>G</td><td>0.615571</td><td>⋯</td><td>0.00835159</td><td> 3.599653e-45</td><td>-0.5411180</td><td>0.10127600</td><td>9.141922e-08</td><td>2.839089e-02</td><td>20</td><td>NKmat </td><td>TUFM_NKmat     </td><td>1.326345e-05</td></tr>\n",
       "\t<tr><td>ADCY7   </td><td>16</td><td>ADCY7   </td><td> 50280048</td><td>rs4494538 </td><td>16</td><td> 50373272</td><td>C</td><td>T</td><td>0.849130</td><td>⋯</td><td>0.01915880</td><td> 5.060385e-15</td><td> 0.5443140</td><td>0.11820100</td><td>4.125156e-06</td><td>4.377181e-02</td><td>19</td><td>NKmat </td><td>ADCY7_NKmat    </td><td>3.791590e-04</td></tr>\n",
       "\t<tr><td>BRD7    </td><td>16</td><td>BRD7    </td><td> 50347398</td><td>rs4494538 </td><td>16</td><td> 50373272</td><td>C</td><td>T</td><td>0.849130</td><td>⋯</td><td>0.03350850</td><td> 3.248298e-18</td><td> 0.2798510</td><td>0.05872300</td><td>1.882749e-06</td><td>4.790549e-02</td><td>19</td><td>NKmat </td><td>BRD7_NKmat     </td><td>1.817907e-04</td></tr>\n",
       "\t<tr><td>ORMDL3  </td><td>17</td><td>ORMDL3  </td><td> 38077294</td><td>rs8074437 </td><td>17</td><td> 38076137</td><td>T</td><td>G</td><td>0.514023</td><td>⋯</td><td>0.01684250</td><td> 3.658765e-75</td><td> 0.1891970</td><td>0.03630230</td><td>1.870997e-07</td><td>2.054727e-07</td><td>20</td><td>NKmat </td><td>ORMDL3_NKmat   </td><td>2.384658e-05</td></tr>\n",
       "\t<tr><td>UBE2L3  </td><td>22</td><td>UBE2L3  </td><td> 21903736</td><td>rs4820091 </td><td>22</td><td> 21940189</td><td>T</td><td>G</td><td>0.820600</td><td>⋯</td><td>0.00870445</td><td> 4.203846e-15</td><td> 1.2636400</td><td>0.25668900</td><td>8.528527e-07</td><td>3.184572e-01</td><td>12</td><td>NKmat </td><td>UBE2L3_NKmat   </td><td>8.958741e-05</td></tr>\n",
       "\t<tr><td>HLA-DRB5</td><td> 6</td><td>HLA-DRB5</td><td> 32485120</td><td>rs28366319</td><td> 6</td><td> 32561495</td><td>G</td><td>A</td><td>0.653288</td><td>⋯</td><td>0.07136870</td><td> 1.354828e-56</td><td> 0.1040740</td><td>0.01206500</td><td>6.347201e-18</td><td>2.898390e-12</td><td>20</td><td>Plasma</td><td>HLA-DRB5_Plasma</td><td>5.056097e-15</td></tr>\n",
       "\t<tr><td>HLA-DQA1</td><td> 6</td><td>HLA-DQA1</td><td> 32595956</td><td>rs646984  </td><td> 6</td><td> 32576592</td><td>A</td><td>C</td><td>0.579304</td><td>⋯</td><td>0.05357410</td><td> 1.679753e-17</td><td> 0.1749010</td><td>0.03179710</td><td>3.786771e-08</td><td>4.408738e-05</td><td>20</td><td>Plasma</td><td>HLA-DQA1_Plasma</td><td>6.463911e-06</td></tr>\n",
       "\t<tr><td>HLA-DQA2</td><td> 6</td><td>HLA-DQA2</td><td> 32709119</td><td>rs9272461 </td><td> 6</td><td> 32605609</td><td>G</td><td>A</td><td>0.797389</td><td>⋯</td><td>0.09831070</td><td> 2.424923e-58</td><td> 0.0894326</td><td>0.01014150</td><td>1.160630e-18</td><td>5.269487e-04</td><td>20</td><td>Plasma</td><td>HLA-DQA2_Plasma</td><td>1.476478e-15</td></tr>\n",
       "</tbody>\n",
       "</table>\n"
      ],
      "text/latex": [
       "A data.table: 104 × 24\n",
       "\\begin{tabular}{lllllllllllllllllllll}\n",
       " probeID & ProbeChr & Gene & Probe\\_bp & topSNP & topSNP\\_chr & topSNP\\_bp & A1 & A2 & Freq & ⋯ & se\\_eQTL & p\\_eQTL & b\\_SMR & se\\_SMR & p\\_SMR & p\\_HEIDI & nsnp\\_HEIDI & Cell\\_type & comb & qv\\\\\n",
       " <chr> & <int> & <chr> & <int> & <chr> & <int> & <int> & <chr> & <chr> & <dbl> & ⋯ & <dbl> & <dbl> & <dbl> & <dbl> & <dbl> & <dbl> & <int> & <chr> & <chr> & <dbl>\\\\\n",
       "\\hline\n",
       "\t ERAP2    &  5 & ERAP2    &  96211643 & rs27295    &  5 &  96358687 & C & T & 0.431335 & ⋯ & 0.02186180 &  9.580355e-47 & -0.1840280 & 0.03696720 & 6.419558e-07 & 6.248309e-02 & 20 & BimmNaive & ERAP2\\_BimmNaive    & 7.135444e-05\\\\\n",
       "\t LST1     &  6 & LST1     &  31553901 & rs2256965  &  6 &  31555130 & A & G & 0.405706 & ⋯ & 0.02502590 &  4.159973e-16 & -0.3190970 & 0.06625470 & 1.463083e-06 & 9.578130e-02 & 14 & BimmNaive & LST1\\_BimmNaive     & 1.472176e-04\\\\\n",
       "\t HLA-DQA1 &  6 & HLA-DQA1 &  32595956 & rs9272546  &  6 &  32606941 & T & C & 0.336074 & ⋯ & 0.01390830 &  2.408243e-45 &  0.4690740 & 0.06514700 & 6.010586e-13 & 3.898305e-10 & 20 & BimmNaive & HLA-DQA1\\_BimmNaive & 2.498063e-10\\\\\n",
       "\t HLA-DQB1 &  6 & HLA-DQB1 &  32627244 & rs9274660  &  6 &  32636434 & A & G & 0.394584 & ⋯ & 0.01463280 &  3.180543e-58 & -0.3397790 & 0.05138470 & 3.780030e-11 & 3.378640e-09 & 20 & BimmNaive & HLA-DQB1\\_BimmNaive & 1.129171e-08\\\\\n",
       "\t HLA-DQA2 &  6 & HLA-DQA2 &  32709119 & rs9272319  &  6 &  32604108 & T & C & 0.653288 & ⋯ & 0.07241990 &  2.105526e-94 &  0.0763340 & 0.00850834 & 2.920490e-19 & 1.322820e-06 & 20 & BimmNaive & HLA-DQA2\\_BimmNaive & 7.128877e-16\\\\\n",
       "\t HLA-DQB2 &  6 & HLA-DQB2 &  32723875 & rs17612858 &  6 &  32620622 & A & T & 0.395551 & ⋯ & 0.05466370 &  8.199010e-50 &  0.1006890 & 0.01503450 & 2.124938e-11 & 3.754812e-14 & 20 & BimmNaive & HLA-DQB2\\_BimmNaive & 7.004266e-09\\\\\n",
       "\t LAMB1    &  7 & LAMB1    & 107564244 & rs1131398  &  7 & 107569517 & A & G & 0.584623 & ⋯ & 0.07287180 &  4.439280e-32 & -0.0799570 & 0.01437920 & 2.688348e-08 & 9.969587e-03 & 20 & BimmNaive & LAMB1\\_BimmNaive    & 4.758895e-06\\\\\n",
       "\t TUFM     & 16 & TUFM     &  28853732 & rs7187776  & 16 &  28857645 & A & G & 0.615571 & ⋯ & 0.01473370 &  3.420663e-67 & -0.2497920 & 0.04560750 & 4.325910e-08 & 2.498464e-02 & 20 & BimmNaive & TUFM\\_BimmNaive     & 7.008738e-06\\\\\n",
       "\t ORMDL3   & 17 & ORMDL3   &  38077294 & rs8067378  & 17 &  38051348 & A & G & 0.491779 & ⋯ & 0.02442030 &  1.576034e-50 &  0.2259170 & 0.03306230 & 8.311311e-12 & 1.492448e-01 & 20 & BimmNaive & ORMDL3\\_BimmNaive   & 3.055699e-09\\\\\n",
       "\t ERAP2    &  5 & ERAP2    &  96211643 & rs27998    &  5 &  96367408 & G & A & 0.428917 & ⋯ & 0.02443750 &  7.455040e-54 & -0.1512860 & 0.03044210 & 6.708265e-07 & 7.675835e-02 & 20 & Bmem      & ERAP2\\_Bmem         & 7.370642e-05\\\\\n",
       "\t HLA-DQA1 &  6 & HLA-DQA1 &  32595956 & rs707951   &  6 &  32609813 & T & C & 0.326402 & ⋯ & 0.01330300 &  5.167572e-16 &  0.6716470 & 0.13530800 & 6.911070e-07 & 5.432072e-07 & 20 & Bmem      & HLA-DQA1\\_Bmem      & 7.422832e-05\\\\\n",
       "\t HLA-DQB1 &  6 & HLA-DQB1 &  32627244 & rs9272346  &  6 &  32604372 & G & A & 0.394101 & ⋯ & 0.01473890 &  2.663212e-39 & -0.5488630 & 0.07021390 & 5.409221e-15 & 4.504310e-06 & 20 & Bmem      & HLA-DQB1\\_Bmem      & 2.585348e-12\\\\\n",
       "\t HLA-DQA2 &  6 & HLA-DQA2 &  32709119 & rs9271661  &  6 &  32592605 & T & A & 0.652805 & ⋯ & 0.07490580 & 3.813374e-104 &  0.0686558 & 0.00767557 & 3.728866e-19 & 1.061227e-07 & 20 & Bmem      & HLA-DQA2\\_Bmem      & 7.128877e-16\\\\\n",
       "\t HLA-DQB2 &  6 & HLA-DQB2 &  32723875 & rs7751376  &  6 &  32605437 & C & G & 0.397969 & ⋯ & 0.06126520 &  5.867492e-41 &  0.1257130 & 0.01627940 & 1.143448e-14 & 1.048228e-13 & 20 & Bmem      & HLA-DQB2\\_Bmem      & 5.204889e-12\\\\\n",
       "\t LAMB1    &  7 & LAMB1    & 107564244 & rs10272963 &  7 & 107486902 & C & T & 0.555126 & ⋯ & 0.09268830 &  4.312573e-14 & -0.1020440 & 0.02054280 & 6.786452e-07 & 4.387485e-01 & 20 & Bmem      & LAMB1\\_Bmem         & 7.371816e-05\\\\\n",
       "\t TUFM     & 16 & TUFM     &  28853732 & rs7187776  & 16 &  28857645 & A & G & 0.615571 & ⋯ & 0.01434550 &  3.904825e-45 & -0.3151530 & 0.05898770 & 9.157695e-08 & 6.459743e-02 & 20 & Bmem      & TUFM\\_Bmem          & 1.326345e-05\\\\\n",
       "\t ORMDL3   & 17 & ORMDL3   &  38077294 & rs7359623  & 17 &  38049589 & C & T & 0.496132 & ⋯ & 0.02815960 &  1.782539e-39 &  0.2297210 & 0.03385460 & 1.156600e-11 & 2.964189e-02 & 20 & Bmem      & ORMDL3\\_Bmem        & 3.948567e-09\\\\\n",
       "\t GPX1     &  3 & GPX1     &  49394609 & rs1801143  &  3 &  49570200 & C & T & 0.701161 & ⋯ & 0.00677544 &  7.627006e-13 &  2.1730500 & 0.38533600 & 1.706932e-08 & 5.630704e-01 & 20 & CD4all    & GPX1\\_CD4all        & 3.263327e-06\\\\\n",
       "\t ERAP2    &  5 & ERAP2    &  96211643 & rs2910686  &  5 &  96252589 & T & C & 0.567215 & ⋯ & 0.01822860 & 4.685026e-155 & -0.1224230 & 0.02294620 & 9.542764e-08 & 3.323238e-02 & 20 & CD4all    & ERAP2\\_CD4all       & 1.361488e-05\\\\\n",
       "\t HLA-DRB5 &  6 & HLA-DRB5 &  32485120 & rs28366319 &  6 &  32561495 & G & A & 0.653288 & ⋯ & 0.03471940 &  5.093671e-60 &  0.2075430 & 0.02384930 & 3.253370e-18 & 7.959542e-12 & 20 & CD4all    & HLA-DRB5\\_CD4all    & 2.827191e-15\\\\\n",
       "\t HLA-DQA1 &  6 & HLA-DQA1 &  32595956 & rs35395738 &  6 &  32560209 & T & C & 0.806576 & ⋯ & 0.03311190 &  1.129380e-13 &  0.5629900 & 0.09352580 & 1.748200e-09 & 1.213611e-02 & 20 & CD4all    & HLA-DQA1\\_CD4all    & 4.284902e-07\\\\\n",
       "\t HLA-DQA2 &  6 & HLA-DQA2 &  32709119 & rs9272785  &  6 &  32610401 & G & A & 0.798356 & ⋯ & 0.05973710 &  1.313401e-62 &  0.1223530 & 0.01526880 & 1.116732e-15 & 4.746199e-04 & 20 & CD4all    & HLA-DQA2\\_CD4all    & 5.930493e-13\\\\\n",
       "\t HLA-DQB2 &  6 & HLA-DQB2 &  32723875 & rs9272441  &  6 &  32605380 & T & G & 0.413926 & ⋯ & 0.11006000 &  2.005612e-10 &  0.1468840 & 0.02788790 & 1.387118e-07 & 2.639496e-04 & 20 & CD4all    & HLA-DQB2\\_CD4all    & 1.841600e-05\\\\\n",
       "\t HLA-DOB  &  6 & HLA-DOB  &  32780540 & rs4148876  &  6 &  32796793 & G & A & 0.934720 & ⋯ & 0.07575170 &  9.260680e-22 &  0.2001190 & 0.03547220 & 1.685014e-08 & 4.810375e-04 & 14 & CD4all    & HLA-DOB\\_CD4all     & 3.263327e-06\\\\\n",
       "\t RNASET2  &  6 & RNASET2  & 167342992 & rs425039   &  6 & 167410527 & C & T & 0.465184 & ⋯ & 0.00866928 & 1.421406e-130 &  0.2995950 & 0.05246040 & 1.123890e-08 & 3.622996e-01 & 20 & CD4all    & RNASET2\\_CD4all     & 2.387403e-06\\\\\n",
       "\t LAMB1    &  7 & LAMB1    & 107564244 & rs2237685  &  7 & 107574784 & G & A & 0.588008 & ⋯ & 0.04001580 &  1.715565e-98 & -0.0784276 & 0.01349520 & 6.190566e-09 & 1.781427e-04 & 20 & CD4all    & LAMB1\\_CD4all       & 1.408949e-06\\\\\n",
       "\t CCDC101  & 16 & CCDC101  &  28565236 & rs151226   & 16 &  28549823 & A & C & 0.471954 & ⋯ & 0.00980894 &  1.120344e-40 &  0.4207750 & 0.08794830 & 1.715497e-06 & 1.367291e-02 & 20 & CD4all    & CCDC101\\_CD4all     & 1.690568e-04\\\\\n",
       "\t TUFM     & 16 & TUFM     &  28853732 & rs7187776  & 16 &  28857645 & A & G & 0.615571 & ⋯ & 0.00789466 & 3.280907e-121 & -0.3448570 & 0.06152230 & 2.077809e-08 & 2.598199e-02 & 20 & CD4all    & TUFM\\_CD4all        & 3.819589e-06\\\\\n",
       "\t ADCY7    & 16 & ADCY7    &  50280048 & rs9934775  & 16 &  50383077 & C & T & 0.852515 & ⋯ & 0.01946550 &  5.567884e-18 &  0.5149650 & 0.10428900 & 7.898620e-07 & 1.548705e-02 & 15 & CD4all    & ADCY7\\_CD4all       & 8.389249e-05\\\\\n",
       "\t STMN3    & 20 & STMN3    &  62271061 & rs879471   & 20 &  62269942 & C & T & 0.461799 & ⋯ & 0.00915440 &  5.110174e-51 & -0.3976680 & 0.08297330 & 1.645395e-06 & 6.891810e-04 & 20 & CD4all    & STMN3\\_CD4all       & 1.638375e-04\\\\\n",
       "\t ⋮ & ⋮ & ⋮ & ⋮ & ⋮ & ⋮ & ⋮ & ⋮ & ⋮ & ⋮ & ⋱ & ⋮ & ⋮ & ⋮ & ⋮ & ⋮ & ⋮ & ⋮ & ⋮ & ⋮ & ⋮\\\\\n",
       "\t HLA-DRB1 &  6 & HLA-DRB1 &  32546546 & rs28366315 &  6 &  32561207 & C & T & 0.664894 & ⋯ & 0.02200700 &  3.563327e-21 & -0.5555710 & 0.08081680 & 6.222903e-12 & 1.664290e-06 & 20 & MonoC  & HLA-DRB1\\_MonoC  & 2.379400e-09\\\\\n",
       "\t HLA-DQB1 &  6 & HLA-DQB1 &  32627244 & rs9272553  &  6 &  32607008 & G & T & 0.398453 & ⋯ & 0.03006520 &  6.174653e-82 & -0.1735720 & 0.02090220 & 1.006539e-16 & 1.278377e-17 & 20 & MonoC  & HLA-DQB1\\_MonoC  & 6.872534e-14\\\\\n",
       "\t HLA-DQA2 &  6 & HLA-DQA2 &  32709119 & rs9272319  &  6 &  32604108 & T & C & 0.653288 & ⋯ & 0.07963950 &  4.528053e-77 &  0.0770020 & 0.00876824 & 1.607055e-18 & 3.080768e-05 & 20 & MonoC  & HLA-DQA2\\_MonoC  & 1.706878e-15\\\\\n",
       "\t TUFM     & 16 & TUFM     &  28853732 & rs7187776  & 16 &  28857645 & A & G & 0.615571 & ⋯ & 0.01570400 &  1.325731e-36 & -0.3211840 & 0.06116370 & 1.510882e-07 & 1.580598e-01 & 20 & MonoC  & TUFM\\_MonoC      & 1.978436e-05\\\\\n",
       "\t ERAP2    &  5 & ERAP2    &  96211643 & rs2910686  &  5 &  96252589 & T & C & 0.567215 & ⋯ & 0.04128870 &  1.094054e-44 & -0.1022290 & 0.02013520 & 3.832020e-07 & 3.130868e-01 & 20 & MonoNC & ERAP2\\_MonoNC    & 4.467127e-05\\\\\n",
       "\t HLA-DQA1 &  6 & HLA-DQA1 &  32595956 & rs28383312 &  6 &  32587090 & C & T & 0.594778 & ⋯ & 0.03867460 &  2.592618e-43 &  0.1692880 & 0.02407860 & 2.056073e-12 & 2.940509e-12 & 20 & MonoNC & HLA-DQA1\\_MonoNC & 8.189203e-10\\\\\n",
       "\t HLA-DQB1 &  6 & HLA-DQB1 &  32627244 & rs9274660  &  6 &  32636434 & A & G & 0.394584 & ⋯ & 0.03545830 &  3.678175e-60 & -0.1378720 & 0.02079180 & 3.332428e-11 & 6.672575e-16 & 20 & MonoNC & HLA-DQB1\\_MonoNC & 1.027575e-08\\\\\n",
       "\t HLA-DQA2 &  6 & HLA-DQA2 &  32709119 & rs9272319  &  6 &  32604108 & T & C & 0.653288 & ⋯ & 0.08119340 &  2.168566e-79 &  0.0743895 & 0.00844239 & 1.235670e-18 & 1.424963e-06 & 20 & MonoNC & HLA-DQA2\\_MonoNC & 1.476478e-15\\\\\n",
       "\t TUFM     & 16 & TUFM     &  28853732 & rs7187776  & 16 &  28857645 & A & G & 0.615571 & ⋯ & 0.02148480 &  8.543667e-30 & -0.2616640 & 0.05086090 & 2.679391e-07 & 2.061435e-01 & 20 & MonoNC & TUFM\\_MonoNC     & 3.242077e-05\\\\\n",
       "\t ERAP2    &  5 & ERAP2    &  96211643 & rs2548226  &  5 &  96275186 & C & T & 0.582205 & ⋯ & 0.04306070 &  2.167436e-30 & -0.1172250 & 0.02454950 & 1.796704e-06 & 7.905086e-03 & 20 & NKact  & ERAP2\\_NKact     & 1.752527e-04\\\\\n",
       "\t HLA-DQA1 &  6 & HLA-DQA1 &  32595956 & rs34763586 &  6 &  32608998 & T & C & 0.798356 & ⋯ & 0.09794100 &  3.271354e-16 &  0.1646910 & 0.02621840 & 3.353445e-10 & 2.610920e-03 & 20 & NKact  & HLA-DQA1\\_NKact  & 8.904367e-08\\\\\n",
       "\t HLA-DQB1 &  6 & HLA-DQB1 &  32627244 & rs9273226  &  6 &  32613824 & C & T & 0.398453 & ⋯ & 0.06523500 &  4.545074e-15 & -0.1740850 & 0.03057830 & 1.247592e-08 & 2.461358e-05 & 20 & NKact  & HLA-DQB1\\_NKact  & 2.592562e-06\\\\\n",
       "\t HLA-DQA2 &  6 & HLA-DQA2 &  32709119 & rs9272461  &  6 &  32605609 & G & A & 0.797389 & ⋯ & 0.12082600 &  6.550258e-41 &  0.0874852 & 0.01056250 & 1.205316e-16 & 2.021936e-03 & 20 & NKact  & HLA-DQA2\\_NKact  & 7.681111e-14\\\\\n",
       "\t ERAP2    &  5 & ERAP2    &  96211643 & rs2910686  &  5 &  96252589 & T & C & 0.567215 & ⋯ & 0.02247820 & 5.962536e-122 & -0.1121450 & 0.02113680 & 1.122488e-07 & 7.289278e-02 & 20 & NKmat  & ERAP2\\_NKmat     & 1.577382e-05\\\\\n",
       "\t C5orf56  &  5 & C5orf56  & 131746328 & rs2522051  &  5 & 131797578 & T & C & 0.540135 & ⋯ & 0.00905650 &  2.492306e-14 &  0.9869000 & 0.20289500 & 1.149813e-06 & 4.122670e-07 & 20 & NKmat  & C5orf56\\_NKmat   & 1.169267e-04\\\\\n",
       "\t HLA-DRB5 &  6 & HLA-DRB5 &  32485120 & rs28366319 &  6 &  32561495 & G & A & 0.653288 & ⋯ & 0.04976660 &  1.325852e-41 &  0.1750970 & 0.02139970 & 2.786693e-16 & 3.581661e-11 & 20 & NKmat  & HLA-DRB5\\_NKmat  & 1.664882e-13\\\\\n",
       "\t HLA-DRB1 &  6 & HLA-DRB1 &  32546546 & rs9271013  &  6 &  32574703 & G & C & 0.274178 & ⋯ & 0.03616400 &  2.071488e-14 & -0.4385690 & 0.07178120 & 9.975865e-10 & 2.571903e-04 & 20 & NKmat  & HLA-DRB1\\_NKmat  & 2.577289e-07\\\\\n",
       "\t HLA-DQA1 &  6 & HLA-DQA1 &  32595956 & rs17426593 &  6 &  32608077 & T & C & 0.797389 & ⋯ & 0.05106020 &  4.430608e-55 &  0.1628080 & 0.02005140 & 4.680147e-16 & 1.573419e-04 & 20 & NKmat  & HLA-DQA1\\_NKmat  & 2.631631e-13\\\\\n",
       "\t HLA-DQB1 &  6 & HLA-DQB1 &  32627244 & rs9272426  &  6 &  32605189 & A & G & 0.552708 & ⋯ & 0.03316150 &  3.590372e-27 & -0.2437860 & 0.03770850 & 1.012812e-10 & 2.059997e-10 & 20 & NKmat  & HLA-DQB1\\_NKmat  & 2.847504e-08\\\\\n",
       "\t HLA-DQA2 &  6 & HLA-DQA2 &  32709119 & rs9272461  &  6 &  32605609 & G & A & 0.797389 & ⋯ & 0.07543590 &  5.588626e-75 &  0.1024400 & 0.01121330 & 6.506423e-20 & 2.803443e-04 & 20 & NKmat  & HLA-DQA2\\_NKmat  & 3.109758e-16\\\\\n",
       "\t RNASET2  &  6 & RNASET2  & 167342992 & rs425039   &  6 & 167410527 & C & T & 0.465184 & ⋯ & 0.01071850 &  4.807268e-43 &  0.4283430 & 0.07927920 & 6.554582e-08 & 3.336506e-01 & 20 & NKmat  & RNASET2\\_NKmat   & 1.010573e-05\\\\\n",
       "\t LAMB1    &  7 & LAMB1    & 107564244 & rs2237685  &  7 & 107574784 & G & A & 0.588008 & ⋯ & 0.06196380 &  7.323848e-36 & -0.0853361 & 0.01567800 & 5.237664e-08 & 1.345229e-03 & 20 & NKmat  & LAMB1\\_NKmat     & 8.344508e-06\\\\\n",
       "\t TUFM     & 16 & TUFM     &  28853732 & rs7187776  & 16 &  28857645 & A & G & 0.615571 & ⋯ & 0.00835159 &  3.599653e-45 & -0.5411180 & 0.10127600 & 9.141922e-08 & 2.839089e-02 & 20 & NKmat  & TUFM\\_NKmat      & 1.326345e-05\\\\\n",
       "\t ADCY7    & 16 & ADCY7    &  50280048 & rs4494538  & 16 &  50373272 & C & T & 0.849130 & ⋯ & 0.01915880 &  5.060385e-15 &  0.5443140 & 0.11820100 & 4.125156e-06 & 4.377181e-02 & 19 & NKmat  & ADCY7\\_NKmat     & 3.791590e-04\\\\\n",
       "\t BRD7     & 16 & BRD7     &  50347398 & rs4494538  & 16 &  50373272 & C & T & 0.849130 & ⋯ & 0.03350850 &  3.248298e-18 &  0.2798510 & 0.05872300 & 1.882749e-06 & 4.790549e-02 & 19 & NKmat  & BRD7\\_NKmat      & 1.817907e-04\\\\\n",
       "\t ORMDL3   & 17 & ORMDL3   &  38077294 & rs8074437  & 17 &  38076137 & T & G & 0.514023 & ⋯ & 0.01684250 &  3.658765e-75 &  0.1891970 & 0.03630230 & 1.870997e-07 & 2.054727e-07 & 20 & NKmat  & ORMDL3\\_NKmat    & 2.384658e-05\\\\\n",
       "\t UBE2L3   & 22 & UBE2L3   &  21903736 & rs4820091  & 22 &  21940189 & T & G & 0.820600 & ⋯ & 0.00870445 &  4.203846e-15 &  1.2636400 & 0.25668900 & 8.528527e-07 & 3.184572e-01 & 12 & NKmat  & UBE2L3\\_NKmat    & 8.958741e-05\\\\\n",
       "\t HLA-DRB5 &  6 & HLA-DRB5 &  32485120 & rs28366319 &  6 &  32561495 & G & A & 0.653288 & ⋯ & 0.07136870 &  1.354828e-56 &  0.1040740 & 0.01206500 & 6.347201e-18 & 2.898390e-12 & 20 & Plasma & HLA-DRB5\\_Plasma & 5.056097e-15\\\\\n",
       "\t HLA-DQA1 &  6 & HLA-DQA1 &  32595956 & rs646984   &  6 &  32576592 & A & C & 0.579304 & ⋯ & 0.05357410 &  1.679753e-17 &  0.1749010 & 0.03179710 & 3.786771e-08 & 4.408738e-05 & 20 & Plasma & HLA-DQA1\\_Plasma & 6.463911e-06\\\\\n",
       "\t HLA-DQA2 &  6 & HLA-DQA2 &  32709119 & rs9272461  &  6 &  32605609 & G & A & 0.797389 & ⋯ & 0.09831070 &  2.424923e-58 &  0.0894326 & 0.01014150 & 1.160630e-18 & 5.269487e-04 & 20 & Plasma & HLA-DQA2\\_Plasma & 1.476478e-15\\\\\n",
       "\\end{tabular}\n"
      ],
      "text/markdown": [
       "\n",
       "A data.table: 104 × 24\n",
       "\n",
       "| probeID &lt;chr&gt; | ProbeChr &lt;int&gt; | Gene &lt;chr&gt; | Probe_bp &lt;int&gt; | topSNP &lt;chr&gt; | topSNP_chr &lt;int&gt; | topSNP_bp &lt;int&gt; | A1 &lt;chr&gt; | A2 &lt;chr&gt; | Freq &lt;dbl&gt; | ⋯ ⋯ | se_eQTL &lt;dbl&gt; | p_eQTL &lt;dbl&gt; | b_SMR &lt;dbl&gt; | se_SMR &lt;dbl&gt; | p_SMR &lt;dbl&gt; | p_HEIDI &lt;dbl&gt; | nsnp_HEIDI &lt;int&gt; | Cell_type &lt;chr&gt; | comb &lt;chr&gt; | qv &lt;dbl&gt; |\n",
       "|---|---|---|---|---|---|---|---|---|---|---|---|---|---|---|---|---|---|---|---|---|\n",
       "| ERAP2    |  5 | ERAP2    |  96211643 | rs27295    |  5 |  96358687 | C | T | 0.431335 | ⋯ | 0.02186180 |  9.580355e-47 | -0.1840280 | 0.03696720 | 6.419558e-07 | 6.248309e-02 | 20 | BimmNaive | ERAP2_BimmNaive    | 7.135444e-05 |\n",
       "| LST1     |  6 | LST1     |  31553901 | rs2256965  |  6 |  31555130 | A | G | 0.405706 | ⋯ | 0.02502590 |  4.159973e-16 | -0.3190970 | 0.06625470 | 1.463083e-06 | 9.578130e-02 | 14 | BimmNaive | LST1_BimmNaive     | 1.472176e-04 |\n",
       "| HLA-DQA1 |  6 | HLA-DQA1 |  32595956 | rs9272546  |  6 |  32606941 | T | C | 0.336074 | ⋯ | 0.01390830 |  2.408243e-45 |  0.4690740 | 0.06514700 | 6.010586e-13 | 3.898305e-10 | 20 | BimmNaive | HLA-DQA1_BimmNaive | 2.498063e-10 |\n",
       "| HLA-DQB1 |  6 | HLA-DQB1 |  32627244 | rs9274660  |  6 |  32636434 | A | G | 0.394584 | ⋯ | 0.01463280 |  3.180543e-58 | -0.3397790 | 0.05138470 | 3.780030e-11 | 3.378640e-09 | 20 | BimmNaive | HLA-DQB1_BimmNaive | 1.129171e-08 |\n",
       "| HLA-DQA2 |  6 | HLA-DQA2 |  32709119 | rs9272319  |  6 |  32604108 | T | C | 0.653288 | ⋯ | 0.07241990 |  2.105526e-94 |  0.0763340 | 0.00850834 | 2.920490e-19 | 1.322820e-06 | 20 | BimmNaive | HLA-DQA2_BimmNaive | 7.128877e-16 |\n",
       "| HLA-DQB2 |  6 | HLA-DQB2 |  32723875 | rs17612858 |  6 |  32620622 | A | T | 0.395551 | ⋯ | 0.05466370 |  8.199010e-50 |  0.1006890 | 0.01503450 | 2.124938e-11 | 3.754812e-14 | 20 | BimmNaive | HLA-DQB2_BimmNaive | 7.004266e-09 |\n",
       "| LAMB1    |  7 | LAMB1    | 107564244 | rs1131398  |  7 | 107569517 | A | G | 0.584623 | ⋯ | 0.07287180 |  4.439280e-32 | -0.0799570 | 0.01437920 | 2.688348e-08 | 9.969587e-03 | 20 | BimmNaive | LAMB1_BimmNaive    | 4.758895e-06 |\n",
       "| TUFM     | 16 | TUFM     |  28853732 | rs7187776  | 16 |  28857645 | A | G | 0.615571 | ⋯ | 0.01473370 |  3.420663e-67 | -0.2497920 | 0.04560750 | 4.325910e-08 | 2.498464e-02 | 20 | BimmNaive | TUFM_BimmNaive     | 7.008738e-06 |\n",
       "| ORMDL3   | 17 | ORMDL3   |  38077294 | rs8067378  | 17 |  38051348 | A | G | 0.491779 | ⋯ | 0.02442030 |  1.576034e-50 |  0.2259170 | 0.03306230 | 8.311311e-12 | 1.492448e-01 | 20 | BimmNaive | ORMDL3_BimmNaive   | 3.055699e-09 |\n",
       "| ERAP2    |  5 | ERAP2    |  96211643 | rs27998    |  5 |  96367408 | G | A | 0.428917 | ⋯ | 0.02443750 |  7.455040e-54 | -0.1512860 | 0.03044210 | 6.708265e-07 | 7.675835e-02 | 20 | Bmem      | ERAP2_Bmem         | 7.370642e-05 |\n",
       "| HLA-DQA1 |  6 | HLA-DQA1 |  32595956 | rs707951   |  6 |  32609813 | T | C | 0.326402 | ⋯ | 0.01330300 |  5.167572e-16 |  0.6716470 | 0.13530800 | 6.911070e-07 | 5.432072e-07 | 20 | Bmem      | HLA-DQA1_Bmem      | 7.422832e-05 |\n",
       "| HLA-DQB1 |  6 | HLA-DQB1 |  32627244 | rs9272346  |  6 |  32604372 | G | A | 0.394101 | ⋯ | 0.01473890 |  2.663212e-39 | -0.5488630 | 0.07021390 | 5.409221e-15 | 4.504310e-06 | 20 | Bmem      | HLA-DQB1_Bmem      | 2.585348e-12 |\n",
       "| HLA-DQA2 |  6 | HLA-DQA2 |  32709119 | rs9271661  |  6 |  32592605 | T | A | 0.652805 | ⋯ | 0.07490580 | 3.813374e-104 |  0.0686558 | 0.00767557 | 3.728866e-19 | 1.061227e-07 | 20 | Bmem      | HLA-DQA2_Bmem      | 7.128877e-16 |\n",
       "| HLA-DQB2 |  6 | HLA-DQB2 |  32723875 | rs7751376  |  6 |  32605437 | C | G | 0.397969 | ⋯ | 0.06126520 |  5.867492e-41 |  0.1257130 | 0.01627940 | 1.143448e-14 | 1.048228e-13 | 20 | Bmem      | HLA-DQB2_Bmem      | 5.204889e-12 |\n",
       "| LAMB1    |  7 | LAMB1    | 107564244 | rs10272963 |  7 | 107486902 | C | T | 0.555126 | ⋯ | 0.09268830 |  4.312573e-14 | -0.1020440 | 0.02054280 | 6.786452e-07 | 4.387485e-01 | 20 | Bmem      | LAMB1_Bmem         | 7.371816e-05 |\n",
       "| TUFM     | 16 | TUFM     |  28853732 | rs7187776  | 16 |  28857645 | A | G | 0.615571 | ⋯ | 0.01434550 |  3.904825e-45 | -0.3151530 | 0.05898770 | 9.157695e-08 | 6.459743e-02 | 20 | Bmem      | TUFM_Bmem          | 1.326345e-05 |\n",
       "| ORMDL3   | 17 | ORMDL3   |  38077294 | rs7359623  | 17 |  38049589 | C | T | 0.496132 | ⋯ | 0.02815960 |  1.782539e-39 |  0.2297210 | 0.03385460 | 1.156600e-11 | 2.964189e-02 | 20 | Bmem      | ORMDL3_Bmem        | 3.948567e-09 |\n",
       "| GPX1     |  3 | GPX1     |  49394609 | rs1801143  |  3 |  49570200 | C | T | 0.701161 | ⋯ | 0.00677544 |  7.627006e-13 |  2.1730500 | 0.38533600 | 1.706932e-08 | 5.630704e-01 | 20 | CD4all    | GPX1_CD4all        | 3.263327e-06 |\n",
       "| ERAP2    |  5 | ERAP2    |  96211643 | rs2910686  |  5 |  96252589 | T | C | 0.567215 | ⋯ | 0.01822860 | 4.685026e-155 | -0.1224230 | 0.02294620 | 9.542764e-08 | 3.323238e-02 | 20 | CD4all    | ERAP2_CD4all       | 1.361488e-05 |\n",
       "| HLA-DRB5 |  6 | HLA-DRB5 |  32485120 | rs28366319 |  6 |  32561495 | G | A | 0.653288 | ⋯ | 0.03471940 |  5.093671e-60 |  0.2075430 | 0.02384930 | 3.253370e-18 | 7.959542e-12 | 20 | CD4all    | HLA-DRB5_CD4all    | 2.827191e-15 |\n",
       "| HLA-DQA1 |  6 | HLA-DQA1 |  32595956 | rs35395738 |  6 |  32560209 | T | C | 0.806576 | ⋯ | 0.03311190 |  1.129380e-13 |  0.5629900 | 0.09352580 | 1.748200e-09 | 1.213611e-02 | 20 | CD4all    | HLA-DQA1_CD4all    | 4.284902e-07 |\n",
       "| HLA-DQA2 |  6 | HLA-DQA2 |  32709119 | rs9272785  |  6 |  32610401 | G | A | 0.798356 | ⋯ | 0.05973710 |  1.313401e-62 |  0.1223530 | 0.01526880 | 1.116732e-15 | 4.746199e-04 | 20 | CD4all    | HLA-DQA2_CD4all    | 5.930493e-13 |\n",
       "| HLA-DQB2 |  6 | HLA-DQB2 |  32723875 | rs9272441  |  6 |  32605380 | T | G | 0.413926 | ⋯ | 0.11006000 |  2.005612e-10 |  0.1468840 | 0.02788790 | 1.387118e-07 | 2.639496e-04 | 20 | CD4all    | HLA-DQB2_CD4all    | 1.841600e-05 |\n",
       "| HLA-DOB  |  6 | HLA-DOB  |  32780540 | rs4148876  |  6 |  32796793 | G | A | 0.934720 | ⋯ | 0.07575170 |  9.260680e-22 |  0.2001190 | 0.03547220 | 1.685014e-08 | 4.810375e-04 | 14 | CD4all    | HLA-DOB_CD4all     | 3.263327e-06 |\n",
       "| RNASET2  |  6 | RNASET2  | 167342992 | rs425039   |  6 | 167410527 | C | T | 0.465184 | ⋯ | 0.00866928 | 1.421406e-130 |  0.2995950 | 0.05246040 | 1.123890e-08 | 3.622996e-01 | 20 | CD4all    | RNASET2_CD4all     | 2.387403e-06 |\n",
       "| LAMB1    |  7 | LAMB1    | 107564244 | rs2237685  |  7 | 107574784 | G | A | 0.588008 | ⋯ | 0.04001580 |  1.715565e-98 | -0.0784276 | 0.01349520 | 6.190566e-09 | 1.781427e-04 | 20 | CD4all    | LAMB1_CD4all       | 1.408949e-06 |\n",
       "| CCDC101  | 16 | CCDC101  |  28565236 | rs151226   | 16 |  28549823 | A | C | 0.471954 | ⋯ | 0.00980894 |  1.120344e-40 |  0.4207750 | 0.08794830 | 1.715497e-06 | 1.367291e-02 | 20 | CD4all    | CCDC101_CD4all     | 1.690568e-04 |\n",
       "| TUFM     | 16 | TUFM     |  28853732 | rs7187776  | 16 |  28857645 | A | G | 0.615571 | ⋯ | 0.00789466 | 3.280907e-121 | -0.3448570 | 0.06152230 | 2.077809e-08 | 2.598199e-02 | 20 | CD4all    | TUFM_CD4all        | 3.819589e-06 |\n",
       "| ADCY7    | 16 | ADCY7    |  50280048 | rs9934775  | 16 |  50383077 | C | T | 0.852515 | ⋯ | 0.01946550 |  5.567884e-18 |  0.5149650 | 0.10428900 | 7.898620e-07 | 1.548705e-02 | 15 | CD4all    | ADCY7_CD4all       | 8.389249e-05 |\n",
       "| STMN3    | 20 | STMN3    |  62271061 | rs879471   | 20 |  62269942 | C | T | 0.461799 | ⋯ | 0.00915440 |  5.110174e-51 | -0.3976680 | 0.08297330 | 1.645395e-06 | 6.891810e-04 | 20 | CD4all    | STMN3_CD4all       | 1.638375e-04 |\n",
       "| ⋮ | ⋮ | ⋮ | ⋮ | ⋮ | ⋮ | ⋮ | ⋮ | ⋮ | ⋮ | ⋱ | ⋮ | ⋮ | ⋮ | ⋮ | ⋮ | ⋮ | ⋮ | ⋮ | ⋮ | ⋮ |\n",
       "| HLA-DRB1 |  6 | HLA-DRB1 |  32546546 | rs28366315 |  6 |  32561207 | C | T | 0.664894 | ⋯ | 0.02200700 |  3.563327e-21 | -0.5555710 | 0.08081680 | 6.222903e-12 | 1.664290e-06 | 20 | MonoC  | HLA-DRB1_MonoC  | 2.379400e-09 |\n",
       "| HLA-DQB1 |  6 | HLA-DQB1 |  32627244 | rs9272553  |  6 |  32607008 | G | T | 0.398453 | ⋯ | 0.03006520 |  6.174653e-82 | -0.1735720 | 0.02090220 | 1.006539e-16 | 1.278377e-17 | 20 | MonoC  | HLA-DQB1_MonoC  | 6.872534e-14 |\n",
       "| HLA-DQA2 |  6 | HLA-DQA2 |  32709119 | rs9272319  |  6 |  32604108 | T | C | 0.653288 | ⋯ | 0.07963950 |  4.528053e-77 |  0.0770020 | 0.00876824 | 1.607055e-18 | 3.080768e-05 | 20 | MonoC  | HLA-DQA2_MonoC  | 1.706878e-15 |\n",
       "| TUFM     | 16 | TUFM     |  28853732 | rs7187776  | 16 |  28857645 | A | G | 0.615571 | ⋯ | 0.01570400 |  1.325731e-36 | -0.3211840 | 0.06116370 | 1.510882e-07 | 1.580598e-01 | 20 | MonoC  | TUFM_MonoC      | 1.978436e-05 |\n",
       "| ERAP2    |  5 | ERAP2    |  96211643 | rs2910686  |  5 |  96252589 | T | C | 0.567215 | ⋯ | 0.04128870 |  1.094054e-44 | -0.1022290 | 0.02013520 | 3.832020e-07 | 3.130868e-01 | 20 | MonoNC | ERAP2_MonoNC    | 4.467127e-05 |\n",
       "| HLA-DQA1 |  6 | HLA-DQA1 |  32595956 | rs28383312 |  6 |  32587090 | C | T | 0.594778 | ⋯ | 0.03867460 |  2.592618e-43 |  0.1692880 | 0.02407860 | 2.056073e-12 | 2.940509e-12 | 20 | MonoNC | HLA-DQA1_MonoNC | 8.189203e-10 |\n",
       "| HLA-DQB1 |  6 | HLA-DQB1 |  32627244 | rs9274660  |  6 |  32636434 | A | G | 0.394584 | ⋯ | 0.03545830 |  3.678175e-60 | -0.1378720 | 0.02079180 | 3.332428e-11 | 6.672575e-16 | 20 | MonoNC | HLA-DQB1_MonoNC | 1.027575e-08 |\n",
       "| HLA-DQA2 |  6 | HLA-DQA2 |  32709119 | rs9272319  |  6 |  32604108 | T | C | 0.653288 | ⋯ | 0.08119340 |  2.168566e-79 |  0.0743895 | 0.00844239 | 1.235670e-18 | 1.424963e-06 | 20 | MonoNC | HLA-DQA2_MonoNC | 1.476478e-15 |\n",
       "| TUFM     | 16 | TUFM     |  28853732 | rs7187776  | 16 |  28857645 | A | G | 0.615571 | ⋯ | 0.02148480 |  8.543667e-30 | -0.2616640 | 0.05086090 | 2.679391e-07 | 2.061435e-01 | 20 | MonoNC | TUFM_MonoNC     | 3.242077e-05 |\n",
       "| ERAP2    |  5 | ERAP2    |  96211643 | rs2548226  |  5 |  96275186 | C | T | 0.582205 | ⋯ | 0.04306070 |  2.167436e-30 | -0.1172250 | 0.02454950 | 1.796704e-06 | 7.905086e-03 | 20 | NKact  | ERAP2_NKact     | 1.752527e-04 |\n",
       "| HLA-DQA1 |  6 | HLA-DQA1 |  32595956 | rs34763586 |  6 |  32608998 | T | C | 0.798356 | ⋯ | 0.09794100 |  3.271354e-16 |  0.1646910 | 0.02621840 | 3.353445e-10 | 2.610920e-03 | 20 | NKact  | HLA-DQA1_NKact  | 8.904367e-08 |\n",
       "| HLA-DQB1 |  6 | HLA-DQB1 |  32627244 | rs9273226  |  6 |  32613824 | C | T | 0.398453 | ⋯ | 0.06523500 |  4.545074e-15 | -0.1740850 | 0.03057830 | 1.247592e-08 | 2.461358e-05 | 20 | NKact  | HLA-DQB1_NKact  | 2.592562e-06 |\n",
       "| HLA-DQA2 |  6 | HLA-DQA2 |  32709119 | rs9272461  |  6 |  32605609 | G | A | 0.797389 | ⋯ | 0.12082600 |  6.550258e-41 |  0.0874852 | 0.01056250 | 1.205316e-16 | 2.021936e-03 | 20 | NKact  | HLA-DQA2_NKact  | 7.681111e-14 |\n",
       "| ERAP2    |  5 | ERAP2    |  96211643 | rs2910686  |  5 |  96252589 | T | C | 0.567215 | ⋯ | 0.02247820 | 5.962536e-122 | -0.1121450 | 0.02113680 | 1.122488e-07 | 7.289278e-02 | 20 | NKmat  | ERAP2_NKmat     | 1.577382e-05 |\n",
       "| C5orf56  |  5 | C5orf56  | 131746328 | rs2522051  |  5 | 131797578 | T | C | 0.540135 | ⋯ | 0.00905650 |  2.492306e-14 |  0.9869000 | 0.20289500 | 1.149813e-06 | 4.122670e-07 | 20 | NKmat  | C5orf56_NKmat   | 1.169267e-04 |\n",
       "| HLA-DRB5 |  6 | HLA-DRB5 |  32485120 | rs28366319 |  6 |  32561495 | G | A | 0.653288 | ⋯ | 0.04976660 |  1.325852e-41 |  0.1750970 | 0.02139970 | 2.786693e-16 | 3.581661e-11 | 20 | NKmat  | HLA-DRB5_NKmat  | 1.664882e-13 |\n",
       "| HLA-DRB1 |  6 | HLA-DRB1 |  32546546 | rs9271013  |  6 |  32574703 | G | C | 0.274178 | ⋯ | 0.03616400 |  2.071488e-14 | -0.4385690 | 0.07178120 | 9.975865e-10 | 2.571903e-04 | 20 | NKmat  | HLA-DRB1_NKmat  | 2.577289e-07 |\n",
       "| HLA-DQA1 |  6 | HLA-DQA1 |  32595956 | rs17426593 |  6 |  32608077 | T | C | 0.797389 | ⋯ | 0.05106020 |  4.430608e-55 |  0.1628080 | 0.02005140 | 4.680147e-16 | 1.573419e-04 | 20 | NKmat  | HLA-DQA1_NKmat  | 2.631631e-13 |\n",
       "| HLA-DQB1 |  6 | HLA-DQB1 |  32627244 | rs9272426  |  6 |  32605189 | A | G | 0.552708 | ⋯ | 0.03316150 |  3.590372e-27 | -0.2437860 | 0.03770850 | 1.012812e-10 | 2.059997e-10 | 20 | NKmat  | HLA-DQB1_NKmat  | 2.847504e-08 |\n",
       "| HLA-DQA2 |  6 | HLA-DQA2 |  32709119 | rs9272461  |  6 |  32605609 | G | A | 0.797389 | ⋯ | 0.07543590 |  5.588626e-75 |  0.1024400 | 0.01121330 | 6.506423e-20 | 2.803443e-04 | 20 | NKmat  | HLA-DQA2_NKmat  | 3.109758e-16 |\n",
       "| RNASET2  |  6 | RNASET2  | 167342992 | rs425039   |  6 | 167410527 | C | T | 0.465184 | ⋯ | 0.01071850 |  4.807268e-43 |  0.4283430 | 0.07927920 | 6.554582e-08 | 3.336506e-01 | 20 | NKmat  | RNASET2_NKmat   | 1.010573e-05 |\n",
       "| LAMB1    |  7 | LAMB1    | 107564244 | rs2237685  |  7 | 107574784 | G | A | 0.588008 | ⋯ | 0.06196380 |  7.323848e-36 | -0.0853361 | 0.01567800 | 5.237664e-08 | 1.345229e-03 | 20 | NKmat  | LAMB1_NKmat     | 8.344508e-06 |\n",
       "| TUFM     | 16 | TUFM     |  28853732 | rs7187776  | 16 |  28857645 | A | G | 0.615571 | ⋯ | 0.00835159 |  3.599653e-45 | -0.5411180 | 0.10127600 | 9.141922e-08 | 2.839089e-02 | 20 | NKmat  | TUFM_NKmat      | 1.326345e-05 |\n",
       "| ADCY7    | 16 | ADCY7    |  50280048 | rs4494538  | 16 |  50373272 | C | T | 0.849130 | ⋯ | 0.01915880 |  5.060385e-15 |  0.5443140 | 0.11820100 | 4.125156e-06 | 4.377181e-02 | 19 | NKmat  | ADCY7_NKmat     | 3.791590e-04 |\n",
       "| BRD7     | 16 | BRD7     |  50347398 | rs4494538  | 16 |  50373272 | C | T | 0.849130 | ⋯ | 0.03350850 |  3.248298e-18 |  0.2798510 | 0.05872300 | 1.882749e-06 | 4.790549e-02 | 19 | NKmat  | BRD7_NKmat      | 1.817907e-04 |\n",
       "| ORMDL3   | 17 | ORMDL3   |  38077294 | rs8074437  | 17 |  38076137 | T | G | 0.514023 | ⋯ | 0.01684250 |  3.658765e-75 |  0.1891970 | 0.03630230 | 1.870997e-07 | 2.054727e-07 | 20 | NKmat  | ORMDL3_NKmat    | 2.384658e-05 |\n",
       "| UBE2L3   | 22 | UBE2L3   |  21903736 | rs4820091  | 22 |  21940189 | T | G | 0.820600 | ⋯ | 0.00870445 |  4.203846e-15 |  1.2636400 | 0.25668900 | 8.528527e-07 | 3.184572e-01 | 12 | NKmat  | UBE2L3_NKmat    | 8.958741e-05 |\n",
       "| HLA-DRB5 |  6 | HLA-DRB5 |  32485120 | rs28366319 |  6 |  32561495 | G | A | 0.653288 | ⋯ | 0.07136870 |  1.354828e-56 |  0.1040740 | 0.01206500 | 6.347201e-18 | 2.898390e-12 | 20 | Plasma | HLA-DRB5_Plasma | 5.056097e-15 |\n",
       "| HLA-DQA1 |  6 | HLA-DQA1 |  32595956 | rs646984   |  6 |  32576592 | A | C | 0.579304 | ⋯ | 0.05357410 |  1.679753e-17 |  0.1749010 | 0.03179710 | 3.786771e-08 | 4.408738e-05 | 20 | Plasma | HLA-DQA1_Plasma | 6.463911e-06 |\n",
       "| HLA-DQA2 |  6 | HLA-DQA2 |  32709119 | rs9272461  |  6 |  32605609 | G | A | 0.797389 | ⋯ | 0.09831070 |  2.424923e-58 |  0.0894326 | 0.01014150 | 1.160630e-18 | 5.269487e-04 | 20 | Plasma | HLA-DQA2_Plasma | 1.476478e-15 |\n",
       "\n"
      ],
      "text/plain": [
       "    probeID  ProbeChr Gene     Probe_bp  topSNP     topSNP_chr topSNP_bp A1 A2\n",
       "1   ERAP2     5       ERAP2     96211643 rs27295     5          96358687 C  T \n",
       "2   LST1      6       LST1      31553901 rs2256965   6          31555130 A  G \n",
       "3   HLA-DQA1  6       HLA-DQA1  32595956 rs9272546   6          32606941 T  C \n",
       "4   HLA-DQB1  6       HLA-DQB1  32627244 rs9274660   6          32636434 A  G \n",
       "5   HLA-DQA2  6       HLA-DQA2  32709119 rs9272319   6          32604108 T  C \n",
       "6   HLA-DQB2  6       HLA-DQB2  32723875 rs17612858  6          32620622 A  T \n",
       "7   LAMB1     7       LAMB1    107564244 rs1131398   7         107569517 A  G \n",
       "8   TUFM     16       TUFM      28853732 rs7187776  16          28857645 A  G \n",
       "9   ORMDL3   17       ORMDL3    38077294 rs8067378  17          38051348 A  G \n",
       "10  ERAP2     5       ERAP2     96211643 rs27998     5          96367408 G  A \n",
       "11  HLA-DQA1  6       HLA-DQA1  32595956 rs707951    6          32609813 T  C \n",
       "12  HLA-DQB1  6       HLA-DQB1  32627244 rs9272346   6          32604372 G  A \n",
       "13  HLA-DQA2  6       HLA-DQA2  32709119 rs9271661   6          32592605 T  A \n",
       "14  HLA-DQB2  6       HLA-DQB2  32723875 rs7751376   6          32605437 C  G \n",
       "15  LAMB1     7       LAMB1    107564244 rs10272963  7         107486902 C  T \n",
       "16  TUFM     16       TUFM      28853732 rs7187776  16          28857645 A  G \n",
       "17  ORMDL3   17       ORMDL3    38077294 rs7359623  17          38049589 C  T \n",
       "18  GPX1      3       GPX1      49394609 rs1801143   3          49570200 C  T \n",
       "19  ERAP2     5       ERAP2     96211643 rs2910686   5          96252589 T  C \n",
       "20  HLA-DRB5  6       HLA-DRB5  32485120 rs28366319  6          32561495 G  A \n",
       "21  HLA-DQA1  6       HLA-DQA1  32595956 rs35395738  6          32560209 T  C \n",
       "22  HLA-DQA2  6       HLA-DQA2  32709119 rs9272785   6          32610401 G  A \n",
       "23  HLA-DQB2  6       HLA-DQB2  32723875 rs9272441   6          32605380 T  G \n",
       "24  HLA-DOB   6       HLA-DOB   32780540 rs4148876   6          32796793 G  A \n",
       "25  RNASET2   6       RNASET2  167342992 rs425039    6         167410527 C  T \n",
       "26  LAMB1     7       LAMB1    107564244 rs2237685   7         107574784 G  A \n",
       "27  CCDC101  16       CCDC101   28565236 rs151226   16          28549823 A  C \n",
       "28  TUFM     16       TUFM      28853732 rs7187776  16          28857645 A  G \n",
       "29  ADCY7    16       ADCY7     50280048 rs9934775  16          50383077 C  T \n",
       "30  STMN3    20       STMN3     62271061 rs879471   20          62269942 C  T \n",
       "⋮   ⋮        ⋮        ⋮        ⋮         ⋮          ⋮          ⋮         ⋮  ⋮ \n",
       "75  HLA-DRB1  6       HLA-DRB1  32546546 rs28366315  6          32561207 C  T \n",
       "76  HLA-DQB1  6       HLA-DQB1  32627244 rs9272553   6          32607008 G  T \n",
       "77  HLA-DQA2  6       HLA-DQA2  32709119 rs9272319   6          32604108 T  C \n",
       "78  TUFM     16       TUFM      28853732 rs7187776  16          28857645 A  G \n",
       "79  ERAP2     5       ERAP2     96211643 rs2910686   5          96252589 T  C \n",
       "80  HLA-DQA1  6       HLA-DQA1  32595956 rs28383312  6          32587090 C  T \n",
       "81  HLA-DQB1  6       HLA-DQB1  32627244 rs9274660   6          32636434 A  G \n",
       "82  HLA-DQA2  6       HLA-DQA2  32709119 rs9272319   6          32604108 T  C \n",
       "83  TUFM     16       TUFM      28853732 rs7187776  16          28857645 A  G \n",
       "84  ERAP2     5       ERAP2     96211643 rs2548226   5          96275186 C  T \n",
       "85  HLA-DQA1  6       HLA-DQA1  32595956 rs34763586  6          32608998 T  C \n",
       "86  HLA-DQB1  6       HLA-DQB1  32627244 rs9273226   6          32613824 C  T \n",
       "87  HLA-DQA2  6       HLA-DQA2  32709119 rs9272461   6          32605609 G  A \n",
       "88  ERAP2     5       ERAP2     96211643 rs2910686   5          96252589 T  C \n",
       "89  C5orf56   5       C5orf56  131746328 rs2522051   5         131797578 T  C \n",
       "90  HLA-DRB5  6       HLA-DRB5  32485120 rs28366319  6          32561495 G  A \n",
       "91  HLA-DRB1  6       HLA-DRB1  32546546 rs9271013   6          32574703 G  C \n",
       "92  HLA-DQA1  6       HLA-DQA1  32595956 rs17426593  6          32608077 T  C \n",
       "93  HLA-DQB1  6       HLA-DQB1  32627244 rs9272426   6          32605189 A  G \n",
       "94  HLA-DQA2  6       HLA-DQA2  32709119 rs9272461   6          32605609 G  A \n",
       "95  RNASET2   6       RNASET2  167342992 rs425039    6         167410527 C  T \n",
       "96  LAMB1     7       LAMB1    107564244 rs2237685   7         107574784 G  A \n",
       "97  TUFM     16       TUFM      28853732 rs7187776  16          28857645 A  G \n",
       "98  ADCY7    16       ADCY7     50280048 rs4494538  16          50373272 C  T \n",
       "99  BRD7     16       BRD7      50347398 rs4494538  16          50373272 C  T \n",
       "100 ORMDL3   17       ORMDL3    38077294 rs8074437  17          38076137 T  G \n",
       "101 UBE2L3   22       UBE2L3    21903736 rs4820091  22          21940189 T  G \n",
       "102 HLA-DRB5  6       HLA-DRB5  32485120 rs28366319  6          32561495 G  A \n",
       "103 HLA-DQA1  6       HLA-DQA1  32595956 rs646984    6          32576592 A  C \n",
       "104 HLA-DQA2  6       HLA-DQA2  32709119 rs9272461   6          32605609 G  A \n",
       "    Freq     ⋯ se_eQTL    p_eQTL        b_SMR      se_SMR     p_SMR       \n",
       "1   0.431335 ⋯ 0.02186180  9.580355e-47 -0.1840280 0.03696720 6.419558e-07\n",
       "2   0.405706 ⋯ 0.02502590  4.159973e-16 -0.3190970 0.06625470 1.463083e-06\n",
       "3   0.336074 ⋯ 0.01390830  2.408243e-45  0.4690740 0.06514700 6.010586e-13\n",
       "4   0.394584 ⋯ 0.01463280  3.180543e-58 -0.3397790 0.05138470 3.780030e-11\n",
       "5   0.653288 ⋯ 0.07241990  2.105526e-94  0.0763340 0.00850834 2.920490e-19\n",
       "6   0.395551 ⋯ 0.05466370  8.199010e-50  0.1006890 0.01503450 2.124938e-11\n",
       "7   0.584623 ⋯ 0.07287180  4.439280e-32 -0.0799570 0.01437920 2.688348e-08\n",
       "8   0.615571 ⋯ 0.01473370  3.420663e-67 -0.2497920 0.04560750 4.325910e-08\n",
       "9   0.491779 ⋯ 0.02442030  1.576034e-50  0.2259170 0.03306230 8.311311e-12\n",
       "10  0.428917 ⋯ 0.02443750  7.455040e-54 -0.1512860 0.03044210 6.708265e-07\n",
       "11  0.326402 ⋯ 0.01330300  5.167572e-16  0.6716470 0.13530800 6.911070e-07\n",
       "12  0.394101 ⋯ 0.01473890  2.663212e-39 -0.5488630 0.07021390 5.409221e-15\n",
       "13  0.652805 ⋯ 0.07490580 3.813374e-104  0.0686558 0.00767557 3.728866e-19\n",
       "14  0.397969 ⋯ 0.06126520  5.867492e-41  0.1257130 0.01627940 1.143448e-14\n",
       "15  0.555126 ⋯ 0.09268830  4.312573e-14 -0.1020440 0.02054280 6.786452e-07\n",
       "16  0.615571 ⋯ 0.01434550  3.904825e-45 -0.3151530 0.05898770 9.157695e-08\n",
       "17  0.496132 ⋯ 0.02815960  1.782539e-39  0.2297210 0.03385460 1.156600e-11\n",
       "18  0.701161 ⋯ 0.00677544  7.627006e-13  2.1730500 0.38533600 1.706932e-08\n",
       "19  0.567215 ⋯ 0.01822860 4.685026e-155 -0.1224230 0.02294620 9.542764e-08\n",
       "20  0.653288 ⋯ 0.03471940  5.093671e-60  0.2075430 0.02384930 3.253370e-18\n",
       "21  0.806576 ⋯ 0.03311190  1.129380e-13  0.5629900 0.09352580 1.748200e-09\n",
       "22  0.798356 ⋯ 0.05973710  1.313401e-62  0.1223530 0.01526880 1.116732e-15\n",
       "23  0.413926 ⋯ 0.11006000  2.005612e-10  0.1468840 0.02788790 1.387118e-07\n",
       "24  0.934720 ⋯ 0.07575170  9.260680e-22  0.2001190 0.03547220 1.685014e-08\n",
       "25  0.465184 ⋯ 0.00866928 1.421406e-130  0.2995950 0.05246040 1.123890e-08\n",
       "26  0.588008 ⋯ 0.04001580  1.715565e-98 -0.0784276 0.01349520 6.190566e-09\n",
       "27  0.471954 ⋯ 0.00980894  1.120344e-40  0.4207750 0.08794830 1.715497e-06\n",
       "28  0.615571 ⋯ 0.00789466 3.280907e-121 -0.3448570 0.06152230 2.077809e-08\n",
       "29  0.852515 ⋯ 0.01946550  5.567884e-18  0.5149650 0.10428900 7.898620e-07\n",
       "30  0.461799 ⋯ 0.00915440  5.110174e-51 -0.3976680 0.08297330 1.645395e-06\n",
       "⋮   ⋮        ⋱ ⋮          ⋮             ⋮          ⋮          ⋮           \n",
       "75  0.664894 ⋯ 0.02200700  3.563327e-21 -0.5555710 0.08081680 6.222903e-12\n",
       "76  0.398453 ⋯ 0.03006520  6.174653e-82 -0.1735720 0.02090220 1.006539e-16\n",
       "77  0.653288 ⋯ 0.07963950  4.528053e-77  0.0770020 0.00876824 1.607055e-18\n",
       "78  0.615571 ⋯ 0.01570400  1.325731e-36 -0.3211840 0.06116370 1.510882e-07\n",
       "79  0.567215 ⋯ 0.04128870  1.094054e-44 -0.1022290 0.02013520 3.832020e-07\n",
       "80  0.594778 ⋯ 0.03867460  2.592618e-43  0.1692880 0.02407860 2.056073e-12\n",
       "81  0.394584 ⋯ 0.03545830  3.678175e-60 -0.1378720 0.02079180 3.332428e-11\n",
       "82  0.653288 ⋯ 0.08119340  2.168566e-79  0.0743895 0.00844239 1.235670e-18\n",
       "83  0.615571 ⋯ 0.02148480  8.543667e-30 -0.2616640 0.05086090 2.679391e-07\n",
       "84  0.582205 ⋯ 0.04306070  2.167436e-30 -0.1172250 0.02454950 1.796704e-06\n",
       "85  0.798356 ⋯ 0.09794100  3.271354e-16  0.1646910 0.02621840 3.353445e-10\n",
       "86  0.398453 ⋯ 0.06523500  4.545074e-15 -0.1740850 0.03057830 1.247592e-08\n",
       "87  0.797389 ⋯ 0.12082600  6.550258e-41  0.0874852 0.01056250 1.205316e-16\n",
       "88  0.567215 ⋯ 0.02247820 5.962536e-122 -0.1121450 0.02113680 1.122488e-07\n",
       "89  0.540135 ⋯ 0.00905650  2.492306e-14  0.9869000 0.20289500 1.149813e-06\n",
       "90  0.653288 ⋯ 0.04976660  1.325852e-41  0.1750970 0.02139970 2.786693e-16\n",
       "91  0.274178 ⋯ 0.03616400  2.071488e-14 -0.4385690 0.07178120 9.975865e-10\n",
       "92  0.797389 ⋯ 0.05106020  4.430608e-55  0.1628080 0.02005140 4.680147e-16\n",
       "93  0.552708 ⋯ 0.03316150  3.590372e-27 -0.2437860 0.03770850 1.012812e-10\n",
       "94  0.797389 ⋯ 0.07543590  5.588626e-75  0.1024400 0.01121330 6.506423e-20\n",
       "95  0.465184 ⋯ 0.01071850  4.807268e-43  0.4283430 0.07927920 6.554582e-08\n",
       "96  0.588008 ⋯ 0.06196380  7.323848e-36 -0.0853361 0.01567800 5.237664e-08\n",
       "97  0.615571 ⋯ 0.00835159  3.599653e-45 -0.5411180 0.10127600 9.141922e-08\n",
       "98  0.849130 ⋯ 0.01915880  5.060385e-15  0.5443140 0.11820100 4.125156e-06\n",
       "99  0.849130 ⋯ 0.03350850  3.248298e-18  0.2798510 0.05872300 1.882749e-06\n",
       "100 0.514023 ⋯ 0.01684250  3.658765e-75  0.1891970 0.03630230 1.870997e-07\n",
       "101 0.820600 ⋯ 0.00870445  4.203846e-15  1.2636400 0.25668900 8.528527e-07\n",
       "102 0.653288 ⋯ 0.07136870  1.354828e-56  0.1040740 0.01206500 6.347201e-18\n",
       "103 0.579304 ⋯ 0.05357410  1.679753e-17  0.1749010 0.03179710 3.786771e-08\n",
       "104 0.797389 ⋯ 0.09831070  2.424923e-58  0.0894326 0.01014150 1.160630e-18\n",
       "    p_HEIDI      nsnp_HEIDI Cell_type comb               qv          \n",
       "1   6.248309e-02 20         BimmNaive ERAP2_BimmNaive    7.135444e-05\n",
       "2   9.578130e-02 14         BimmNaive LST1_BimmNaive     1.472176e-04\n",
       "3   3.898305e-10 20         BimmNaive HLA-DQA1_BimmNaive 2.498063e-10\n",
       "4   3.378640e-09 20         BimmNaive HLA-DQB1_BimmNaive 1.129171e-08\n",
       "5   1.322820e-06 20         BimmNaive HLA-DQA2_BimmNaive 7.128877e-16\n",
       "6   3.754812e-14 20         BimmNaive HLA-DQB2_BimmNaive 7.004266e-09\n",
       "7   9.969587e-03 20         BimmNaive LAMB1_BimmNaive    4.758895e-06\n",
       "8   2.498464e-02 20         BimmNaive TUFM_BimmNaive     7.008738e-06\n",
       "9   1.492448e-01 20         BimmNaive ORMDL3_BimmNaive   3.055699e-09\n",
       "10  7.675835e-02 20         Bmem      ERAP2_Bmem         7.370642e-05\n",
       "11  5.432072e-07 20         Bmem      HLA-DQA1_Bmem      7.422832e-05\n",
       "12  4.504310e-06 20         Bmem      HLA-DQB1_Bmem      2.585348e-12\n",
       "13  1.061227e-07 20         Bmem      HLA-DQA2_Bmem      7.128877e-16\n",
       "14  1.048228e-13 20         Bmem      HLA-DQB2_Bmem      5.204889e-12\n",
       "15  4.387485e-01 20         Bmem      LAMB1_Bmem         7.371816e-05\n",
       "16  6.459743e-02 20         Bmem      TUFM_Bmem          1.326345e-05\n",
       "17  2.964189e-02 20         Bmem      ORMDL3_Bmem        3.948567e-09\n",
       "18  5.630704e-01 20         CD4all    GPX1_CD4all        3.263327e-06\n",
       "19  3.323238e-02 20         CD4all    ERAP2_CD4all       1.361488e-05\n",
       "20  7.959542e-12 20         CD4all    HLA-DRB5_CD4all    2.827191e-15\n",
       "21  1.213611e-02 20         CD4all    HLA-DQA1_CD4all    4.284902e-07\n",
       "22  4.746199e-04 20         CD4all    HLA-DQA2_CD4all    5.930493e-13\n",
       "23  2.639496e-04 20         CD4all    HLA-DQB2_CD4all    1.841600e-05\n",
       "24  4.810375e-04 14         CD4all    HLA-DOB_CD4all     3.263327e-06\n",
       "25  3.622996e-01 20         CD4all    RNASET2_CD4all     2.387403e-06\n",
       "26  1.781427e-04 20         CD4all    LAMB1_CD4all       1.408949e-06\n",
       "27  1.367291e-02 20         CD4all    CCDC101_CD4all     1.690568e-04\n",
       "28  2.598199e-02 20         CD4all    TUFM_CD4all        3.819589e-06\n",
       "29  1.548705e-02 15         CD4all    ADCY7_CD4all       8.389249e-05\n",
       "30  6.891810e-04 20         CD4all    STMN3_CD4all       1.638375e-04\n",
       "⋮   ⋮            ⋮          ⋮         ⋮                  ⋮           \n",
       "75  1.664290e-06 20         MonoC     HLA-DRB1_MonoC     2.379400e-09\n",
       "76  1.278377e-17 20         MonoC     HLA-DQB1_MonoC     6.872534e-14\n",
       "77  3.080768e-05 20         MonoC     HLA-DQA2_MonoC     1.706878e-15\n",
       "78  1.580598e-01 20         MonoC     TUFM_MonoC         1.978436e-05\n",
       "79  3.130868e-01 20         MonoNC    ERAP2_MonoNC       4.467127e-05\n",
       "80  2.940509e-12 20         MonoNC    HLA-DQA1_MonoNC    8.189203e-10\n",
       "81  6.672575e-16 20         MonoNC    HLA-DQB1_MonoNC    1.027575e-08\n",
       "82  1.424963e-06 20         MonoNC    HLA-DQA2_MonoNC    1.476478e-15\n",
       "83  2.061435e-01 20         MonoNC    TUFM_MonoNC        3.242077e-05\n",
       "84  7.905086e-03 20         NKact     ERAP2_NKact        1.752527e-04\n",
       "85  2.610920e-03 20         NKact     HLA-DQA1_NKact     8.904367e-08\n",
       "86  2.461358e-05 20         NKact     HLA-DQB1_NKact     2.592562e-06\n",
       "87  2.021936e-03 20         NKact     HLA-DQA2_NKact     7.681111e-14\n",
       "88  7.289278e-02 20         NKmat     ERAP2_NKmat        1.577382e-05\n",
       "89  4.122670e-07 20         NKmat     C5orf56_NKmat      1.169267e-04\n",
       "90  3.581661e-11 20         NKmat     HLA-DRB5_NKmat     1.664882e-13\n",
       "91  2.571903e-04 20         NKmat     HLA-DRB1_NKmat     2.577289e-07\n",
       "92  1.573419e-04 20         NKmat     HLA-DQA1_NKmat     2.631631e-13\n",
       "93  2.059997e-10 20         NKmat     HLA-DQB1_NKmat     2.847504e-08\n",
       "94  2.803443e-04 20         NKmat     HLA-DQA2_NKmat     3.109758e-16\n",
       "95  3.336506e-01 20         NKmat     RNASET2_NKmat      1.010573e-05\n",
       "96  1.345229e-03 20         NKmat     LAMB1_NKmat        8.344508e-06\n",
       "97  2.839089e-02 20         NKmat     TUFM_NKmat         1.326345e-05\n",
       "98  4.377181e-02 19         NKmat     ADCY7_NKmat        3.791590e-04\n",
       "99  4.790549e-02 19         NKmat     BRD7_NKmat         1.817907e-04\n",
       "100 2.054727e-07 20         NKmat     ORMDL3_NKmat       2.384658e-05\n",
       "101 3.184572e-01 12         NKmat     UBE2L3_NKmat       8.958741e-05\n",
       "102 2.898390e-12 20         Plasma    HLA-DRB5_Plasma    5.056097e-15\n",
       "103 4.408738e-05 20         Plasma    HLA-DQA1_Plasma    6.463911e-06\n",
       "104 5.269487e-04 20         Plasma    HLA-DQA2_Plasma    1.476478e-15"
      ]
     },
     "metadata": {},
     "output_type": "display_data"
    }
   ],
   "source": [
    "## SAIGE-QTL SMR gene list\n",
    "saige_df_sign = saige_df_common[saige_df_common$p_SMR < (0.05/length(common_combs)),]\n",
    "saige_df_sign"
   ]
  },
  {
   "cell_type": "code",
   "execution_count": null,
   "id": "98a4b34f",
   "metadata": {},
   "outputs": [],
   "source": []
  }
 ],
 "metadata": {
  "kernelspec": {
   "display_name": "Single Cell Notebook (R 4.1.2)",
   "language": "R",
   "name": "singlecell"
  },
  "language_info": {
   "codemirror_mode": "r",
   "file_extension": ".r",
   "mimetype": "text/x-r-source",
   "name": "R",
   "pygments_lexer": "r",
   "version": "4.1.2"
  }
 },
 "nbformat": 4,
 "nbformat_minor": 5
}
