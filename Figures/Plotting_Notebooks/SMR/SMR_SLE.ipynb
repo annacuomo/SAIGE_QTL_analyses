{
 "cells": [
  {
   "cell_type": "code",
   "execution_count": 1,
   "id": "389cd9e3",
   "metadata": {},
   "outputs": [],
   "source": [
    "library(data.table)\n",
    "library(qvalue)"
   ]
  },
  {
   "cell_type": "code",
   "execution_count": 2,
   "id": "27ce71e4",
   "metadata": {},
   "outputs": [],
   "source": [
    "## SLE (systemic lupus erythematosus) SMR (summarised Mendelian Randomisation) results"
   ]
  },
  {
   "cell_type": "code",
   "execution_count": 3,
   "id": "b51e56f6",
   "metadata": {},
   "outputs": [
    {
     "data": {
      "text/html": [
       "<table class=\"dataframe\">\n",
       "<caption>A data.table: 2 × 22</caption>\n",
       "<thead>\n",
       "\t<tr><th scope=col>probeID</th><th scope=col>ProbeChr</th><th scope=col>Gene</th><th scope=col>Probe_bp</th><th scope=col>topSNP</th><th scope=col>topSNP_chr</th><th scope=col>topSNP_bp</th><th scope=col>A1</th><th scope=col>A2</th><th scope=col>Freq</th><th scope=col>⋯</th><th scope=col>p_GWAS</th><th scope=col>b_eQTL</th><th scope=col>se_eQTL</th><th scope=col>p_eQTL</th><th scope=col>b_SMR</th><th scope=col>se_SMR</th><th scope=col>p_SMR</th><th scope=col>p_HEIDI</th><th scope=col>nsnp_HEIDI</th><th scope=col>Cell_type</th></tr>\n",
       "\t<tr><th scope=col>&lt;chr&gt;</th><th scope=col>&lt;int&gt;</th><th scope=col>&lt;chr&gt;</th><th scope=col>&lt;int&gt;</th><th scope=col>&lt;chr&gt;</th><th scope=col>&lt;int&gt;</th><th scope=col>&lt;int&gt;</th><th scope=col>&lt;chr&gt;</th><th scope=col>&lt;chr&gt;</th><th scope=col>&lt;dbl&gt;</th><th scope=col>⋯</th><th scope=col>&lt;dbl&gt;</th><th scope=col>&lt;dbl&gt;</th><th scope=col>&lt;dbl&gt;</th><th scope=col>&lt;dbl&gt;</th><th scope=col>&lt;dbl&gt;</th><th scope=col>&lt;dbl&gt;</th><th scope=col>&lt;dbl&gt;</th><th scope=col>&lt;dbl&gt;</th><th scope=col>&lt;int&gt;</th><th scope=col>&lt;chr&gt;</th></tr>\n",
       "</thead>\n",
       "<tbody>\n",
       "\t<tr><td>FCRL5</td><td>1</td><td>FCRL5</td><td>157483167</td><td>rs12741984</td><td>1</td><td>157534818</td><td>G</td><td>A</td><td>0.787234</td><td>⋯</td><td>0.9282</td><td> 0.113780</td><td>0.00486738</td><td>7.500497e-121</td><td>-0.0500968</td><td>0.554584</td><td>0.9280233</td><td>0.7014684</td><td>20</td><td>BimmNaive</td></tr>\n",
       "\t<tr><td>RPS8 </td><td>1</td><td>RPS8 </td><td> 45240923</td><td>rs12120833</td><td>1</td><td> 45241285</td><td>C</td><td>G</td><td>0.850097</td><td>⋯</td><td>0.4884</td><td>-0.105432</td><td>0.00500701</td><td> 1.980368e-98</td><td>-0.5140770</td><td>0.742114</td><td>0.4884856</td><td>0.9091780</td><td>20</td><td>BimmNaive</td></tr>\n",
       "</tbody>\n",
       "</table>\n"
      ],
      "text/latex": [
       "A data.table: 2 × 22\n",
       "\\begin{tabular}{lllllllllllllllllllll}\n",
       " probeID & ProbeChr & Gene & Probe\\_bp & topSNP & topSNP\\_chr & topSNP\\_bp & A1 & A2 & Freq & ⋯ & p\\_GWAS & b\\_eQTL & se\\_eQTL & p\\_eQTL & b\\_SMR & se\\_SMR & p\\_SMR & p\\_HEIDI & nsnp\\_HEIDI & Cell\\_type\\\\\n",
       " <chr> & <int> & <chr> & <int> & <chr> & <int> & <int> & <chr> & <chr> & <dbl> & ⋯ & <dbl> & <dbl> & <dbl> & <dbl> & <dbl> & <dbl> & <dbl> & <dbl> & <int> & <chr>\\\\\n",
       "\\hline\n",
       "\t FCRL5 & 1 & FCRL5 & 157483167 & rs12741984 & 1 & 157534818 & G & A & 0.787234 & ⋯ & 0.9282 &  0.113780 & 0.00486738 & 7.500497e-121 & -0.0500968 & 0.554584 & 0.9280233 & 0.7014684 & 20 & BimmNaive\\\\\n",
       "\t RPS8  & 1 & RPS8  &  45240923 & rs12120833 & 1 &  45241285 & C & G & 0.850097 & ⋯ & 0.4884 & -0.105432 & 0.00500701 &  1.980368e-98 & -0.5140770 & 0.742114 & 0.4884856 & 0.9091780 & 20 & BimmNaive\\\\\n",
       "\\end{tabular}\n"
      ],
      "text/markdown": [
       "\n",
       "A data.table: 2 × 22\n",
       "\n",
       "| probeID &lt;chr&gt; | ProbeChr &lt;int&gt; | Gene &lt;chr&gt; | Probe_bp &lt;int&gt; | topSNP &lt;chr&gt; | topSNP_chr &lt;int&gt; | topSNP_bp &lt;int&gt; | A1 &lt;chr&gt; | A2 &lt;chr&gt; | Freq &lt;dbl&gt; | ⋯ ⋯ | p_GWAS &lt;dbl&gt; | b_eQTL &lt;dbl&gt; | se_eQTL &lt;dbl&gt; | p_eQTL &lt;dbl&gt; | b_SMR &lt;dbl&gt; | se_SMR &lt;dbl&gt; | p_SMR &lt;dbl&gt; | p_HEIDI &lt;dbl&gt; | nsnp_HEIDI &lt;int&gt; | Cell_type &lt;chr&gt; |\n",
       "|---|---|---|---|---|---|---|---|---|---|---|---|---|---|---|---|---|---|---|---|---|\n",
       "| FCRL5 | 1 | FCRL5 | 157483167 | rs12741984 | 1 | 157534818 | G | A | 0.787234 | ⋯ | 0.9282 |  0.113780 | 0.00486738 | 7.500497e-121 | -0.0500968 | 0.554584 | 0.9280233 | 0.7014684 | 20 | BimmNaive |\n",
       "| RPS8  | 1 | RPS8  |  45240923 | rs12120833 | 1 |  45241285 | C | G | 0.850097 | ⋯ | 0.4884 | -0.105432 | 0.00500701 |  1.980368e-98 | -0.5140770 | 0.742114 | 0.4884856 | 0.9091780 | 20 | BimmNaive |\n",
       "\n"
      ],
      "text/plain": [
       "  probeID ProbeChr Gene  Probe_bp  topSNP     topSNP_chr topSNP_bp A1 A2\n",
       "1 FCRL5   1        FCRL5 157483167 rs12741984 1          157534818 G  A \n",
       "2 RPS8    1        RPS8   45240923 rs12120833 1           45241285 C  G \n",
       "  Freq     ⋯ p_GWAS b_eQTL    se_eQTL    p_eQTL        b_SMR      se_SMR  \n",
       "1 0.787234 ⋯ 0.9282  0.113780 0.00486738 7.500497e-121 -0.0500968 0.554584\n",
       "2 0.850097 ⋯ 0.4884 -0.105432 0.00500701  1.980368e-98 -0.5140770 0.742114\n",
       "  p_SMR     p_HEIDI   nsnp_HEIDI Cell_type\n",
       "1 0.9280233 0.7014684 20         BimmNaive\n",
       "2 0.4884856 0.9091780 20         BimmNaive"
      ]
     },
     "metadata": {},
     "output_type": "display_data"
    }
   ],
   "source": [
    "# Matrix eQTL results\n",
    "matrix_eqtl_smr_results_dir = \"/directflow/SCCGGroupShare/projects/angxue/proj/SAIGE-eQTL/SMR/\"\n",
    "matrix_ibd_file = paste0(matrix_eqtl_smr_results_dir, \"sle_all_14_celltypes_all_smr.txt\")\n",
    "matrix_df = fread(matrix_ibd_file)\n",
    "head(matrix_df,2)"
   ]
  },
  {
   "cell_type": "code",
   "execution_count": 4,
   "id": "8bee0ba9",
   "metadata": {},
   "outputs": [
    {
     "data": {
      "text/html": [
       "6088"
      ],
      "text/latex": [
       "6088"
      ],
      "text/markdown": [
       "6088"
      ],
      "text/plain": [
       "[1] 6088"
      ]
     },
     "metadata": {},
     "output_type": "display_data"
    },
    {
     "data": {
      "text/html": [
       "14511"
      ],
      "text/latex": [
       "14511"
      ],
      "text/markdown": [
       "14511"
      ],
      "text/plain": [
       "[1] 14511"
      ]
     },
     "metadata": {},
     "output_type": "display_data"
    },
    {
     "data": {
      "text/html": [
       "<table class=\"dataframe\">\n",
       "<caption>A data.table: 2 × 23</caption>\n",
       "<thead>\n",
       "\t<tr><th scope=col>probeID</th><th scope=col>ProbeChr</th><th scope=col>Gene</th><th scope=col>Probe_bp</th><th scope=col>topSNP</th><th scope=col>topSNP_chr</th><th scope=col>topSNP_bp</th><th scope=col>A1</th><th scope=col>A2</th><th scope=col>Freq</th><th scope=col>⋯</th><th scope=col>b_eQTL</th><th scope=col>se_eQTL</th><th scope=col>p_eQTL</th><th scope=col>b_SMR</th><th scope=col>se_SMR</th><th scope=col>p_SMR</th><th scope=col>p_HEIDI</th><th scope=col>nsnp_HEIDI</th><th scope=col>Cell_type</th><th scope=col>comb</th></tr>\n",
       "\t<tr><th scope=col>&lt;chr&gt;</th><th scope=col>&lt;int&gt;</th><th scope=col>&lt;chr&gt;</th><th scope=col>&lt;int&gt;</th><th scope=col>&lt;chr&gt;</th><th scope=col>&lt;int&gt;</th><th scope=col>&lt;int&gt;</th><th scope=col>&lt;chr&gt;</th><th scope=col>&lt;chr&gt;</th><th scope=col>&lt;dbl&gt;</th><th scope=col>⋯</th><th scope=col>&lt;dbl&gt;</th><th scope=col>&lt;dbl&gt;</th><th scope=col>&lt;dbl&gt;</th><th scope=col>&lt;dbl&gt;</th><th scope=col>&lt;dbl&gt;</th><th scope=col>&lt;dbl&gt;</th><th scope=col>&lt;dbl&gt;</th><th scope=col>&lt;int&gt;</th><th scope=col>&lt;chr&gt;</th><th scope=col>&lt;chr&gt;</th></tr>\n",
       "</thead>\n",
       "<tbody>\n",
       "\t<tr><td>FCRL5</td><td>1</td><td>FCRL5</td><td>157483167</td><td>rs12741984</td><td>1</td><td>157534818</td><td>G</td><td>A</td><td>0.787234</td><td>⋯</td><td> 0.113780</td><td>0.00486738</td><td>7.500497e-121</td><td>-0.0500968</td><td>0.554584</td><td>0.9280233</td><td>0.7014684</td><td>20</td><td>BimmNaive</td><td>FCRL5_BimmNaive</td></tr>\n",
       "\t<tr><td>RPS8 </td><td>1</td><td>RPS8 </td><td> 45240923</td><td>rs12120833</td><td>1</td><td> 45241285</td><td>C</td><td>G</td><td>0.850097</td><td>⋯</td><td>-0.105432</td><td>0.00500701</td><td> 1.980368e-98</td><td>-0.5140770</td><td>0.742114</td><td>0.4884856</td><td>0.9091780</td><td>20</td><td>BimmNaive</td><td>RPS8_BimmNaive </td></tr>\n",
       "</tbody>\n",
       "</table>\n"
      ],
      "text/latex": [
       "A data.table: 2 × 23\n",
       "\\begin{tabular}{lllllllllllllllllllll}\n",
       " probeID & ProbeChr & Gene & Probe\\_bp & topSNP & topSNP\\_chr & topSNP\\_bp & A1 & A2 & Freq & ⋯ & b\\_eQTL & se\\_eQTL & p\\_eQTL & b\\_SMR & se\\_SMR & p\\_SMR & p\\_HEIDI & nsnp\\_HEIDI & Cell\\_type & comb\\\\\n",
       " <chr> & <int> & <chr> & <int> & <chr> & <int> & <int> & <chr> & <chr> & <dbl> & ⋯ & <dbl> & <dbl> & <dbl> & <dbl> & <dbl> & <dbl> & <dbl> & <int> & <chr> & <chr>\\\\\n",
       "\\hline\n",
       "\t FCRL5 & 1 & FCRL5 & 157483167 & rs12741984 & 1 & 157534818 & G & A & 0.787234 & ⋯ &  0.113780 & 0.00486738 & 7.500497e-121 & -0.0500968 & 0.554584 & 0.9280233 & 0.7014684 & 20 & BimmNaive & FCRL5\\_BimmNaive\\\\\n",
       "\t RPS8  & 1 & RPS8  &  45240923 & rs12120833 & 1 &  45241285 & C & G & 0.850097 & ⋯ & -0.105432 & 0.00500701 &  1.980368e-98 & -0.5140770 & 0.742114 & 0.4884856 & 0.9091780 & 20 & BimmNaive & RPS8\\_BimmNaive \\\\\n",
       "\\end{tabular}\n"
      ],
      "text/markdown": [
       "\n",
       "A data.table: 2 × 23\n",
       "\n",
       "| probeID &lt;chr&gt; | ProbeChr &lt;int&gt; | Gene &lt;chr&gt; | Probe_bp &lt;int&gt; | topSNP &lt;chr&gt; | topSNP_chr &lt;int&gt; | topSNP_bp &lt;int&gt; | A1 &lt;chr&gt; | A2 &lt;chr&gt; | Freq &lt;dbl&gt; | ⋯ ⋯ | b_eQTL &lt;dbl&gt; | se_eQTL &lt;dbl&gt; | p_eQTL &lt;dbl&gt; | b_SMR &lt;dbl&gt; | se_SMR &lt;dbl&gt; | p_SMR &lt;dbl&gt; | p_HEIDI &lt;dbl&gt; | nsnp_HEIDI &lt;int&gt; | Cell_type &lt;chr&gt; | comb &lt;chr&gt; |\n",
       "|---|---|---|---|---|---|---|---|---|---|---|---|---|---|---|---|---|---|---|---|---|\n",
       "| FCRL5 | 1 | FCRL5 | 157483167 | rs12741984 | 1 | 157534818 | G | A | 0.787234 | ⋯ |  0.113780 | 0.00486738 | 7.500497e-121 | -0.0500968 | 0.554584 | 0.9280233 | 0.7014684 | 20 | BimmNaive | FCRL5_BimmNaive |\n",
       "| RPS8  | 1 | RPS8  |  45240923 | rs12120833 | 1 |  45241285 | C | G | 0.850097 | ⋯ | -0.105432 | 0.00500701 |  1.980368e-98 | -0.5140770 | 0.742114 | 0.4884856 | 0.9091780 | 20 | BimmNaive | RPS8_BimmNaive  |\n",
       "\n"
      ],
      "text/plain": [
       "  probeID ProbeChr Gene  Probe_bp  topSNP     topSNP_chr topSNP_bp A1 A2\n",
       "1 FCRL5   1        FCRL5 157483167 rs12741984 1          157534818 G  A \n",
       "2 RPS8    1        RPS8   45240923 rs12120833 1           45241285 C  G \n",
       "  Freq     ⋯ b_eQTL    se_eQTL    p_eQTL        b_SMR      se_SMR   p_SMR    \n",
       "1 0.787234 ⋯  0.113780 0.00486738 7.500497e-121 -0.0500968 0.554584 0.9280233\n",
       "2 0.850097 ⋯ -0.105432 0.00500701  1.980368e-98 -0.5140770 0.742114 0.4884856\n",
       "  p_HEIDI   nsnp_HEIDI Cell_type comb           \n",
       "1 0.7014684 20         BimmNaive FCRL5_BimmNaive\n",
       "2 0.9091780 20         BimmNaive RPS8_BimmNaive "
      ]
     },
     "metadata": {},
     "output_type": "display_data"
    }
   ],
   "source": [
    "# Calculate number of unique genes, and combination of genes + celltypes\n",
    "length(unique(matrix_df$Gene))\n",
    "matrix_df$comb = paste0(matrix_df$Gene,\"_\",matrix_df$Cell_type)\n",
    "length(unique(matrix_df$comb))\n",
    "head(matrix_df,2)"
   ]
  },
  {
   "cell_type": "code",
   "execution_count": 5,
   "id": "fd12238e",
   "metadata": {},
   "outputs": [
    {
     "data": {
      "text/html": [
       "0"
      ],
      "text/latex": [
       "0"
      ],
      "text/markdown": [
       "0"
      ],
      "text/plain": [
       "[1] 0"
      ]
     },
     "metadata": {},
     "output_type": "display_data"
    },
    {
     "data": {
      "text/html": [
       "0"
      ],
      "text/latex": [
       "0"
      ],
      "text/markdown": [
       "0"
      ],
      "text/plain": [
       "[1] 0"
      ]
     },
     "metadata": {},
     "output_type": "display_data"
    }
   ],
   "source": [
    "nrow(matrix_df[matrix_df$p_SMR < 0.05/length(unique(matrix_df$Gene)),])\n",
    "nrow(matrix_df[matrix_df$p_SMR < 0.05/length(unique(matrix_df$comb)),])"
   ]
  },
  {
   "cell_type": "code",
   "execution_count": null,
   "id": "ae1b3e0f",
   "metadata": {},
   "outputs": [],
   "source": []
  },
  {
   "cell_type": "code",
   "execution_count": 6,
   "id": "ec752228",
   "metadata": {},
   "outputs": [
    {
     "data": {
      "text/html": [
       "<table class=\"dataframe\">\n",
       "<caption>A data.table: 2 × 22</caption>\n",
       "<thead>\n",
       "\t<tr><th scope=col>probeID</th><th scope=col>ProbeChr</th><th scope=col>Gene</th><th scope=col>Probe_bp</th><th scope=col>topSNP</th><th scope=col>topSNP_chr</th><th scope=col>topSNP_bp</th><th scope=col>A1</th><th scope=col>A2</th><th scope=col>Freq</th><th scope=col>⋯</th><th scope=col>p_GWAS</th><th scope=col>b_eQTL</th><th scope=col>se_eQTL</th><th scope=col>p_eQTL</th><th scope=col>b_SMR</th><th scope=col>se_SMR</th><th scope=col>p_SMR</th><th scope=col>p_HEIDI</th><th scope=col>nsnp_HEIDI</th><th scope=col>Cell_type</th></tr>\n",
       "\t<tr><th scope=col>&lt;chr&gt;</th><th scope=col>&lt;int&gt;</th><th scope=col>&lt;chr&gt;</th><th scope=col>&lt;int&gt;</th><th scope=col>&lt;chr&gt;</th><th scope=col>&lt;int&gt;</th><th scope=col>&lt;int&gt;</th><th scope=col>&lt;chr&gt;</th><th scope=col>&lt;chr&gt;</th><th scope=col>&lt;dbl&gt;</th><th scope=col>⋯</th><th scope=col>&lt;dbl&gt;</th><th scope=col>&lt;dbl&gt;</th><th scope=col>&lt;dbl&gt;</th><th scope=col>&lt;dbl&gt;</th><th scope=col>&lt;dbl&gt;</th><th scope=col>&lt;dbl&gt;</th><th scope=col>&lt;dbl&gt;</th><th scope=col>&lt;dbl&gt;</th><th scope=col>&lt;int&gt;</th><th scope=col>&lt;chr&gt;</th></tr>\n",
       "</thead>\n",
       "<tbody>\n",
       "\t<tr><td>NOC2L  </td><td>1</td><td>NOC2L  </td><td> 879584</td><td>rs3748595 </td><td>1</td><td> 887560</td><td>A</td><td>C</td><td>0.0672147</td><td>⋯</td><td>0.14100</td><td>-0.153020</td><td>0.0352961</td><td>1.455500e-05</td><td> 0.992681</td><td>0.712232</td><td>0.16338990</td><td>0.4676291</td><td>3</td><td>BimmNaive</td></tr>\n",
       "\t<tr><td>C1orf86</td><td>1</td><td>C1orf86</td><td>2115903</td><td>rs11587831</td><td>1</td><td>2110848</td><td>T</td><td>G</td><td>0.7853000</td><td>⋯</td><td>0.06286</td><td>-0.115809</td><td>0.0148762</td><td>6.980209e-15</td><td>-1.081950</td><td>0.597518</td><td>0.07017984</td><td>0.9955862</td><td>8</td><td>BimmNaive</td></tr>\n",
       "</tbody>\n",
       "</table>\n"
      ],
      "text/latex": [
       "A data.table: 2 × 22\n",
       "\\begin{tabular}{lllllllllllllllllllll}\n",
       " probeID & ProbeChr & Gene & Probe\\_bp & topSNP & topSNP\\_chr & topSNP\\_bp & A1 & A2 & Freq & ⋯ & p\\_GWAS & b\\_eQTL & se\\_eQTL & p\\_eQTL & b\\_SMR & se\\_SMR & p\\_SMR & p\\_HEIDI & nsnp\\_HEIDI & Cell\\_type\\\\\n",
       " <chr> & <int> & <chr> & <int> & <chr> & <int> & <int> & <chr> & <chr> & <dbl> & ⋯ & <dbl> & <dbl> & <dbl> & <dbl> & <dbl> & <dbl> & <dbl> & <dbl> & <int> & <chr>\\\\\n",
       "\\hline\n",
       "\t NOC2L   & 1 & NOC2L   &  879584 & rs3748595  & 1 &  887560 & A & C & 0.0672147 & ⋯ & 0.14100 & -0.153020 & 0.0352961 & 1.455500e-05 &  0.992681 & 0.712232 & 0.16338990 & 0.4676291 & 3 & BimmNaive\\\\\n",
       "\t C1orf86 & 1 & C1orf86 & 2115903 & rs11587831 & 1 & 2110848 & T & G & 0.7853000 & ⋯ & 0.06286 & -0.115809 & 0.0148762 & 6.980209e-15 & -1.081950 & 0.597518 & 0.07017984 & 0.9955862 & 8 & BimmNaive\\\\\n",
       "\\end{tabular}\n"
      ],
      "text/markdown": [
       "\n",
       "A data.table: 2 × 22\n",
       "\n",
       "| probeID &lt;chr&gt; | ProbeChr &lt;int&gt; | Gene &lt;chr&gt; | Probe_bp &lt;int&gt; | topSNP &lt;chr&gt; | topSNP_chr &lt;int&gt; | topSNP_bp &lt;int&gt; | A1 &lt;chr&gt; | A2 &lt;chr&gt; | Freq &lt;dbl&gt; | ⋯ ⋯ | p_GWAS &lt;dbl&gt; | b_eQTL &lt;dbl&gt; | se_eQTL &lt;dbl&gt; | p_eQTL &lt;dbl&gt; | b_SMR &lt;dbl&gt; | se_SMR &lt;dbl&gt; | p_SMR &lt;dbl&gt; | p_HEIDI &lt;dbl&gt; | nsnp_HEIDI &lt;int&gt; | Cell_type &lt;chr&gt; |\n",
       "|---|---|---|---|---|---|---|---|---|---|---|---|---|---|---|---|---|---|---|---|---|\n",
       "| NOC2L   | 1 | NOC2L   |  879584 | rs3748595  | 1 |  887560 | A | C | 0.0672147 | ⋯ | 0.14100 | -0.153020 | 0.0352961 | 1.455500e-05 |  0.992681 | 0.712232 | 0.16338990 | 0.4676291 | 3 | BimmNaive |\n",
       "| C1orf86 | 1 | C1orf86 | 2115903 | rs11587831 | 1 | 2110848 | T | G | 0.7853000 | ⋯ | 0.06286 | -0.115809 | 0.0148762 | 6.980209e-15 | -1.081950 | 0.597518 | 0.07017984 | 0.9955862 | 8 | BimmNaive |\n",
       "\n"
      ],
      "text/plain": [
       "  probeID ProbeChr Gene    Probe_bp topSNP     topSNP_chr topSNP_bp A1 A2\n",
       "1 NOC2L   1        NOC2L    879584  rs3748595  1           887560   A  C \n",
       "2 C1orf86 1        C1orf86 2115903  rs11587831 1          2110848   T  G \n",
       "  Freq      ⋯ p_GWAS  b_eQTL    se_eQTL   p_eQTL       b_SMR     se_SMR  \n",
       "1 0.0672147 ⋯ 0.14100 -0.153020 0.0352961 1.455500e-05  0.992681 0.712232\n",
       "2 0.7853000 ⋯ 0.06286 -0.115809 0.0148762 6.980209e-15 -1.081950 0.597518\n",
       "  p_SMR      p_HEIDI   nsnp_HEIDI Cell_type\n",
       "1 0.16338990 0.4676291 3          BimmNaive\n",
       "2 0.07017984 0.9955862 8          BimmNaive"
      ]
     },
     "metadata": {},
     "output_type": "display_data"
    }
   ],
   "source": [
    "# SAIGE-QTL results\n",
    "saige_eqtl_smr_results_dir = \"/directflow/SCCGGroupShare/projects/angxue/proj/SAIGE-eQTL/SMR/saige_eQTL/\"\n",
    "saige_ibd_file = paste0(saige_eqtl_smr_results_dir, \"sle_all_14_celltypes_all_smr.txt\")\n",
    "saige_df = fread(saige_ibd_file)\n",
    "head(saige_df,2)"
   ]
  },
  {
   "cell_type": "code",
   "execution_count": 7,
   "id": "d912fd35",
   "metadata": {},
   "outputs": [
    {
     "data": {
      "text/html": [
       "5671"
      ],
      "text/latex": [
       "5671"
      ],
      "text/markdown": [
       "5671"
      ],
      "text/plain": [
       "[1] 5671"
      ]
     },
     "metadata": {},
     "output_type": "display_data"
    },
    {
     "data": {
      "text/html": [
       "16413"
      ],
      "text/latex": [
       "16413"
      ],
      "text/markdown": [
       "16413"
      ],
      "text/plain": [
       "[1] 16413"
      ]
     },
     "metadata": {},
     "output_type": "display_data"
    },
    {
     "data": {
      "text/html": [
       "<table class=\"dataframe\">\n",
       "<caption>A data.table: 2 × 23</caption>\n",
       "<thead>\n",
       "\t<tr><th scope=col>probeID</th><th scope=col>ProbeChr</th><th scope=col>Gene</th><th scope=col>Probe_bp</th><th scope=col>topSNP</th><th scope=col>topSNP_chr</th><th scope=col>topSNP_bp</th><th scope=col>A1</th><th scope=col>A2</th><th scope=col>Freq</th><th scope=col>⋯</th><th scope=col>b_eQTL</th><th scope=col>se_eQTL</th><th scope=col>p_eQTL</th><th scope=col>b_SMR</th><th scope=col>se_SMR</th><th scope=col>p_SMR</th><th scope=col>p_HEIDI</th><th scope=col>nsnp_HEIDI</th><th scope=col>Cell_type</th><th scope=col>comb</th></tr>\n",
       "\t<tr><th scope=col>&lt;chr&gt;</th><th scope=col>&lt;int&gt;</th><th scope=col>&lt;chr&gt;</th><th scope=col>&lt;int&gt;</th><th scope=col>&lt;chr&gt;</th><th scope=col>&lt;int&gt;</th><th scope=col>&lt;int&gt;</th><th scope=col>&lt;chr&gt;</th><th scope=col>&lt;chr&gt;</th><th scope=col>&lt;dbl&gt;</th><th scope=col>⋯</th><th scope=col>&lt;dbl&gt;</th><th scope=col>&lt;dbl&gt;</th><th scope=col>&lt;dbl&gt;</th><th scope=col>&lt;dbl&gt;</th><th scope=col>&lt;dbl&gt;</th><th scope=col>&lt;dbl&gt;</th><th scope=col>&lt;dbl&gt;</th><th scope=col>&lt;int&gt;</th><th scope=col>&lt;chr&gt;</th><th scope=col>&lt;chr&gt;</th></tr>\n",
       "</thead>\n",
       "<tbody>\n",
       "\t<tr><td>NOC2L  </td><td>1</td><td>NOC2L  </td><td> 879584</td><td>rs3748595 </td><td>1</td><td> 887560</td><td>A</td><td>C</td><td>0.0672147</td><td>⋯</td><td>-0.153020</td><td>0.0352961</td><td>1.455500e-05</td><td> 0.992681</td><td>0.712232</td><td>0.16338990</td><td>0.4676291</td><td>3</td><td>BimmNaive</td><td>NOC2L_BimmNaive  </td></tr>\n",
       "\t<tr><td>C1orf86</td><td>1</td><td>C1orf86</td><td>2115903</td><td>rs11587831</td><td>1</td><td>2110848</td><td>T</td><td>G</td><td>0.7853000</td><td>⋯</td><td>-0.115809</td><td>0.0148762</td><td>6.980209e-15</td><td>-1.081950</td><td>0.597518</td><td>0.07017984</td><td>0.9955862</td><td>8</td><td>BimmNaive</td><td>C1orf86_BimmNaive</td></tr>\n",
       "</tbody>\n",
       "</table>\n"
      ],
      "text/latex": [
       "A data.table: 2 × 23\n",
       "\\begin{tabular}{lllllllllllllllllllll}\n",
       " probeID & ProbeChr & Gene & Probe\\_bp & topSNP & topSNP\\_chr & topSNP\\_bp & A1 & A2 & Freq & ⋯ & b\\_eQTL & se\\_eQTL & p\\_eQTL & b\\_SMR & se\\_SMR & p\\_SMR & p\\_HEIDI & nsnp\\_HEIDI & Cell\\_type & comb\\\\\n",
       " <chr> & <int> & <chr> & <int> & <chr> & <int> & <int> & <chr> & <chr> & <dbl> & ⋯ & <dbl> & <dbl> & <dbl> & <dbl> & <dbl> & <dbl> & <dbl> & <int> & <chr> & <chr>\\\\\n",
       "\\hline\n",
       "\t NOC2L   & 1 & NOC2L   &  879584 & rs3748595  & 1 &  887560 & A & C & 0.0672147 & ⋯ & -0.153020 & 0.0352961 & 1.455500e-05 &  0.992681 & 0.712232 & 0.16338990 & 0.4676291 & 3 & BimmNaive & NOC2L\\_BimmNaive  \\\\\n",
       "\t C1orf86 & 1 & C1orf86 & 2115903 & rs11587831 & 1 & 2110848 & T & G & 0.7853000 & ⋯ & -0.115809 & 0.0148762 & 6.980209e-15 & -1.081950 & 0.597518 & 0.07017984 & 0.9955862 & 8 & BimmNaive & C1orf86\\_BimmNaive\\\\\n",
       "\\end{tabular}\n"
      ],
      "text/markdown": [
       "\n",
       "A data.table: 2 × 23\n",
       "\n",
       "| probeID &lt;chr&gt; | ProbeChr &lt;int&gt; | Gene &lt;chr&gt; | Probe_bp &lt;int&gt; | topSNP &lt;chr&gt; | topSNP_chr &lt;int&gt; | topSNP_bp &lt;int&gt; | A1 &lt;chr&gt; | A2 &lt;chr&gt; | Freq &lt;dbl&gt; | ⋯ ⋯ | b_eQTL &lt;dbl&gt; | se_eQTL &lt;dbl&gt; | p_eQTL &lt;dbl&gt; | b_SMR &lt;dbl&gt; | se_SMR &lt;dbl&gt; | p_SMR &lt;dbl&gt; | p_HEIDI &lt;dbl&gt; | nsnp_HEIDI &lt;int&gt; | Cell_type &lt;chr&gt; | comb &lt;chr&gt; |\n",
       "|---|---|---|---|---|---|---|---|---|---|---|---|---|---|---|---|---|---|---|---|---|\n",
       "| NOC2L   | 1 | NOC2L   |  879584 | rs3748595  | 1 |  887560 | A | C | 0.0672147 | ⋯ | -0.153020 | 0.0352961 | 1.455500e-05 |  0.992681 | 0.712232 | 0.16338990 | 0.4676291 | 3 | BimmNaive | NOC2L_BimmNaive   |\n",
       "| C1orf86 | 1 | C1orf86 | 2115903 | rs11587831 | 1 | 2110848 | T | G | 0.7853000 | ⋯ | -0.115809 | 0.0148762 | 6.980209e-15 | -1.081950 | 0.597518 | 0.07017984 | 0.9955862 | 8 | BimmNaive | C1orf86_BimmNaive |\n",
       "\n"
      ],
      "text/plain": [
       "  probeID ProbeChr Gene    Probe_bp topSNP     topSNP_chr topSNP_bp A1 A2\n",
       "1 NOC2L   1        NOC2L    879584  rs3748595  1           887560   A  C \n",
       "2 C1orf86 1        C1orf86 2115903  rs11587831 1          2110848   T  G \n",
       "  Freq      ⋯ b_eQTL    se_eQTL   p_eQTL       b_SMR     se_SMR   p_SMR     \n",
       "1 0.0672147 ⋯ -0.153020 0.0352961 1.455500e-05  0.992681 0.712232 0.16338990\n",
       "2 0.7853000 ⋯ -0.115809 0.0148762 6.980209e-15 -1.081950 0.597518 0.07017984\n",
       "  p_HEIDI   nsnp_HEIDI Cell_type comb             \n",
       "1 0.4676291 3          BimmNaive NOC2L_BimmNaive  \n",
       "2 0.9955862 8          BimmNaive C1orf86_BimmNaive"
      ]
     },
     "metadata": {},
     "output_type": "display_data"
    }
   ],
   "source": [
    "length(unique(saige_df$Gene))\n",
    "saige_df$comb = paste0(saige_df$Gene,\"_\",saige_df$Cell_type)\n",
    "length(unique(saige_df$comb))\n",
    "head(saige_df,2)"
   ]
  },
  {
   "cell_type": "code",
   "execution_count": 8,
   "id": "21313568",
   "metadata": {},
   "outputs": [
    {
     "data": {
      "text/html": [
       "1"
      ],
      "text/latex": [
       "1"
      ],
      "text/markdown": [
       "1"
      ],
      "text/plain": [
       "[1] 1"
      ]
     },
     "metadata": {},
     "output_type": "display_data"
    },
    {
     "data": {
      "text/html": [
       "0"
      ],
      "text/latex": [
       "0"
      ],
      "text/markdown": [
       "0"
      ],
      "text/plain": [
       "[1] 0"
      ]
     },
     "metadata": {},
     "output_type": "display_data"
    }
   ],
   "source": [
    "# significant results at p<0.05/M with M either # genes or # gene-celltype combinations\n",
    "nrow(saige_df[saige_df$p_SMR < 0.05/length(unique(saige_df$Gene)),])\n",
    "nrow(saige_df[saige_df$p_SMR < 0.05/length(unique(saige_df$comb)),])"
   ]
  },
  {
   "cell_type": "code",
   "execution_count": null,
   "id": "946fa23e",
   "metadata": {},
   "outputs": [],
   "source": []
  },
  {
   "cell_type": "code",
   "execution_count": 9,
   "id": "af318cdb",
   "metadata": {},
   "outputs": [],
   "source": [
    "### p < 0.05/M with M-number of unique gene-celltype combinations tested by both methods"
   ]
  },
  {
   "cell_type": "code",
   "execution_count": 10,
   "id": "56d149ef",
   "metadata": {},
   "outputs": [
    {
     "data": {
      "text/html": [
       "11980"
      ],
      "text/latex": [
       "11980"
      ],
      "text/markdown": [
       "11980"
      ],
      "text/plain": [
       "[1] 11980"
      ]
     },
     "metadata": {},
     "output_type": "display_data"
    }
   ],
   "source": [
    "matrix_combs = unique(matrix_df$comb)\n",
    "saige_combs = unique(saige_df$comb)\n",
    "common_combs = saige_combs[saige_combs %in% matrix_combs]\n",
    "length(common_combs)"
   ]
  },
  {
   "cell_type": "code",
   "execution_count": 11,
   "id": "5d7e0181",
   "metadata": {},
   "outputs": [
    {
     "data": {
      "text/html": [
       "11980"
      ],
      "text/latex": [
       "11980"
      ],
      "text/markdown": [
       "11980"
      ],
      "text/plain": [
       "[1] 11980"
      ]
     },
     "metadata": {},
     "output_type": "display_data"
    },
    {
     "data": {
      "text/html": [
       "0"
      ],
      "text/latex": [
       "0"
      ],
      "text/markdown": [
       "0"
      ],
      "text/plain": [
       "[1] 0"
      ]
     },
     "metadata": {},
     "output_type": "display_data"
    }
   ],
   "source": [
    "matrix_df_common = matrix_df[matrix_df$comb %in% common_combs,]\n",
    "nrow(matrix_df_common)\n",
    "nrow(matrix_df_common[matrix_df_common$p_SMR < (0.05/length(common_combs)),])"
   ]
  },
  {
   "cell_type": "code",
   "execution_count": 12,
   "id": "c727d691",
   "metadata": {},
   "outputs": [
    {
     "data": {
      "text/html": [
       "11980"
      ],
      "text/latex": [
       "11980"
      ],
      "text/markdown": [
       "11980"
      ],
      "text/plain": [
       "[1] 11980"
      ]
     },
     "metadata": {},
     "output_type": "display_data"
    },
    {
     "data": {
      "text/html": [
       "1"
      ],
      "text/latex": [
       "1"
      ],
      "text/markdown": [
       "1"
      ],
      "text/plain": [
       "[1] 1"
      ]
     },
     "metadata": {},
     "output_type": "display_data"
    }
   ],
   "source": [
    "saige_df_common = saige_df[saige_df$comb %in% common_combs,]\n",
    "nrow(saige_df_common)\n",
    "nrow(saige_df_common[saige_df_common$p_SMR < (0.05/length(common_combs)),])"
   ]
  },
  {
   "cell_type": "code",
   "execution_count": null,
   "id": "e5cfe82f",
   "metadata": {},
   "outputs": [],
   "source": []
  },
  {
   "cell_type": "code",
   "execution_count": null,
   "id": "8a18754d",
   "metadata": {},
   "outputs": [],
   "source": []
  },
  {
   "cell_type": "code",
   "execution_count": 13,
   "id": "768aa140",
   "metadata": {},
   "outputs": [
    {
     "data": {
      "text/html": [
       "0"
      ],
      "text/latex": [
       "0"
      ],
      "text/markdown": [
       "0"
      ],
      "text/plain": [
       "[1] 0"
      ]
     },
     "metadata": {},
     "output_type": "display_data"
    }
   ],
   "source": [
    "# significant results at FDR<5% instead (using qvalue)\n",
    "matrix_df_common$qv = qvalue(matrix_df_common$p_SMR)$qvalues\n",
    "nrow(matrix_df_common[matrix_df_common$qv<0.05,])"
   ]
  },
  {
   "cell_type": "code",
   "execution_count": 14,
   "id": "b2614cde",
   "metadata": {},
   "outputs": [
    {
     "data": {
      "text/html": [
       "21"
      ],
      "text/latex": [
       "21"
      ],
      "text/markdown": [
       "21"
      ],
      "text/plain": [
       "[1] 21"
      ]
     },
     "metadata": {},
     "output_type": "display_data"
    }
   ],
   "source": [
    "saige_df_common$qv = qvalue(saige_df_common$p_SMR)$qvalues\n",
    "nrow(saige_df_common[saige_df_common$qv<0.05,])"
   ]
  },
  {
   "cell_type": "code",
   "execution_count": null,
   "id": "8efbb834",
   "metadata": {},
   "outputs": [],
   "source": []
  },
  {
   "cell_type": "code",
   "execution_count": null,
   "id": "56cb15a7",
   "metadata": {},
   "outputs": [],
   "source": []
  },
  {
   "cell_type": "code",
   "execution_count": 16,
   "id": "e3e0ef18",
   "metadata": {},
   "outputs": [
    {
     "data": {
      "text/html": [
       "0"
      ],
      "text/latex": [
       "0"
      ],
      "text/markdown": [
       "0"
      ],
      "text/plain": [
       "[1] 0"
      ]
     },
     "metadata": {},
     "output_type": "display_data"
    },
    {
     "data": {
      "text/html": [],
      "text/latex": [],
      "text/markdown": [],
      "text/plain": [
       "character(0)"
      ]
     },
     "metadata": {},
     "output_type": "display_data"
    },
    {
     "data": {
      "text/html": [
       "1"
      ],
      "text/latex": [
       "1"
      ],
      "text/markdown": [
       "1"
      ],
      "text/plain": [
       "[1] 1"
      ]
     },
     "metadata": {},
     "output_type": "display_data"
    },
    {
     "data": {
      "text/html": [
       "'HLA-DRB1_NKact'"
      ],
      "text/latex": [
       "'HLA-DRB1\\_NKact'"
      ],
      "text/markdown": [
       "'HLA-DRB1_NKact'"
      ],
      "text/plain": [
       "[1] \"HLA-DRB1_NKact\""
      ]
     },
     "metadata": {},
     "output_type": "display_data"
    },
    {
     "data": {
      "text/html": [
       "0"
      ],
      "text/latex": [
       "0"
      ],
      "text/markdown": [
       "0"
      ],
      "text/plain": [
       "[1] 0"
      ]
     },
     "metadata": {},
     "output_type": "display_data"
    }
   ],
   "source": [
    "# Using p < (0.05 / n_tests, gene-celltype comb)\n",
    "\n",
    "matrix_sign_combs = matrix_df_common[matrix_df_common$p_SMR < (0.05/length(common_combs)),\"comb\"]$comb\n",
    "length(matrix_sign_combs)\n",
    "head(matrix_sign_combs)\n",
    "\n",
    "saige_sign_combs = saige_df_common[saige_df_common$p_SMR < (0.05/length(common_combs)),\"comb\"]$comb\n",
    "length(saige_sign_combs)\n",
    "head(saige_sign_combs)\n",
    "\n",
    "length(saige_sign_combs[saige_sign_combs %in% matrix_sign_combs])"
   ]
  },
  {
   "cell_type": "code",
   "execution_count": 17,
   "id": "72b54319",
   "metadata": {},
   "outputs": [
    {
     "data": {
      "text/html": [
       "0"
      ],
      "text/latex": [
       "0"
      ],
      "text/markdown": [
       "0"
      ],
      "text/plain": [
       "[1] 0"
      ]
     },
     "metadata": {},
     "output_type": "display_data"
    },
    {
     "data": {
      "text/html": [
       "21"
      ],
      "text/latex": [
       "21"
      ],
      "text/markdown": [
       "21"
      ],
      "text/plain": [
       "[1] 21"
      ]
     },
     "metadata": {},
     "output_type": "display_data"
    },
    {
     "data": {
      "text/html": [
       "0"
      ],
      "text/latex": [
       "0"
      ],
      "text/markdown": [
       "0"
      ],
      "text/plain": [
       "[1] 0"
      ]
     },
     "metadata": {},
     "output_type": "display_data"
    }
   ],
   "source": [
    "# Using FDR < 0.05\n",
    "\n",
    "matrix_sign_combs = matrix_df_common[matrix_df_common$qv < 0.05,\"comb\"]$comb\n",
    "length(matrix_sign_combs)\n",
    "\n",
    "saige_sign_combs = saige_df_common[saige_df_common$qv < 0.05,\"comb\"]$comb\n",
    "length(saige_sign_combs)\n",
    "\n",
    "length(saige_sign_combs[saige_sign_combs %in% matrix_sign_combs])"
   ]
  },
  {
   "cell_type": "code",
   "execution_count": null,
   "id": "d6836a9a",
   "metadata": {},
   "outputs": [],
   "source": []
  },
  {
   "cell_type": "code",
   "execution_count": 15,
   "id": "8c40f2d0",
   "metadata": {},
   "outputs": [
    {
     "data": {
      "text/html": [
       "<table class=\"dataframe\">\n",
       "<caption>A data.table: 1 × 24</caption>\n",
       "<thead>\n",
       "\t<tr><th scope=col>probeID</th><th scope=col>ProbeChr</th><th scope=col>Gene</th><th scope=col>Probe_bp</th><th scope=col>topSNP</th><th scope=col>topSNP_chr</th><th scope=col>topSNP_bp</th><th scope=col>A1</th><th scope=col>A2</th><th scope=col>Freq</th><th scope=col>⋯</th><th scope=col>se_eQTL</th><th scope=col>p_eQTL</th><th scope=col>b_SMR</th><th scope=col>se_SMR</th><th scope=col>p_SMR</th><th scope=col>p_HEIDI</th><th scope=col>nsnp_HEIDI</th><th scope=col>Cell_type</th><th scope=col>comb</th><th scope=col>qv</th></tr>\n",
       "\t<tr><th scope=col>&lt;chr&gt;</th><th scope=col>&lt;int&gt;</th><th scope=col>&lt;chr&gt;</th><th scope=col>&lt;int&gt;</th><th scope=col>&lt;chr&gt;</th><th scope=col>&lt;int&gt;</th><th scope=col>&lt;int&gt;</th><th scope=col>&lt;chr&gt;</th><th scope=col>&lt;chr&gt;</th><th scope=col>&lt;dbl&gt;</th><th scope=col>⋯</th><th scope=col>&lt;dbl&gt;</th><th scope=col>&lt;dbl&gt;</th><th scope=col>&lt;dbl&gt;</th><th scope=col>&lt;dbl&gt;</th><th scope=col>&lt;dbl&gt;</th><th scope=col>&lt;dbl&gt;</th><th scope=col>&lt;int&gt;</th><th scope=col>&lt;chr&gt;</th><th scope=col>&lt;chr&gt;</th><th scope=col>&lt;dbl&gt;</th></tr>\n",
       "</thead>\n",
       "<tbody>\n",
       "\t<tr><td>HLA-DRB1</td><td>6</td><td>HLA-DRB1</td><td>32546546</td><td>rs74927567</td><td>6</td><td>32597064</td><td>G</td><td>A</td><td>0.394101</td><td>⋯</td><td>0.0392904</td><td>5.966581e-13</td><td>-1.05605</td><td>0.228554</td><td>3.826358e-06</td><td>0.005936424</td><td>20</td><td>NKact</td><td>HLA-DRB1_NKact</td><td>0.03921362</td></tr>\n",
       "</tbody>\n",
       "</table>\n"
      ],
      "text/latex": [
       "A data.table: 1 × 24\n",
       "\\begin{tabular}{lllllllllllllllllllll}\n",
       " probeID & ProbeChr & Gene & Probe\\_bp & topSNP & topSNP\\_chr & topSNP\\_bp & A1 & A2 & Freq & ⋯ & se\\_eQTL & p\\_eQTL & b\\_SMR & se\\_SMR & p\\_SMR & p\\_HEIDI & nsnp\\_HEIDI & Cell\\_type & comb & qv\\\\\n",
       " <chr> & <int> & <chr> & <int> & <chr> & <int> & <int> & <chr> & <chr> & <dbl> & ⋯ & <dbl> & <dbl> & <dbl> & <dbl> & <dbl> & <dbl> & <int> & <chr> & <chr> & <dbl>\\\\\n",
       "\\hline\n",
       "\t HLA-DRB1 & 6 & HLA-DRB1 & 32546546 & rs74927567 & 6 & 32597064 & G & A & 0.394101 & ⋯ & 0.0392904 & 5.966581e-13 & -1.05605 & 0.228554 & 3.826358e-06 & 0.005936424 & 20 & NKact & HLA-DRB1\\_NKact & 0.03921362\\\\\n",
       "\\end{tabular}\n"
      ],
      "text/markdown": [
       "\n",
       "A data.table: 1 × 24\n",
       "\n",
       "| probeID &lt;chr&gt; | ProbeChr &lt;int&gt; | Gene &lt;chr&gt; | Probe_bp &lt;int&gt; | topSNP &lt;chr&gt; | topSNP_chr &lt;int&gt; | topSNP_bp &lt;int&gt; | A1 &lt;chr&gt; | A2 &lt;chr&gt; | Freq &lt;dbl&gt; | ⋯ ⋯ | se_eQTL &lt;dbl&gt; | p_eQTL &lt;dbl&gt; | b_SMR &lt;dbl&gt; | se_SMR &lt;dbl&gt; | p_SMR &lt;dbl&gt; | p_HEIDI &lt;dbl&gt; | nsnp_HEIDI &lt;int&gt; | Cell_type &lt;chr&gt; | comb &lt;chr&gt; | qv &lt;dbl&gt; |\n",
       "|---|---|---|---|---|---|---|---|---|---|---|---|---|---|---|---|---|---|---|---|---|\n",
       "| HLA-DRB1 | 6 | HLA-DRB1 | 32546546 | rs74927567 | 6 | 32597064 | G | A | 0.394101 | ⋯ | 0.0392904 | 5.966581e-13 | -1.05605 | 0.228554 | 3.826358e-06 | 0.005936424 | 20 | NKact | HLA-DRB1_NKact | 0.03921362 |\n",
       "\n"
      ],
      "text/plain": [
       "  probeID  ProbeChr Gene     Probe_bp topSNP     topSNP_chr topSNP_bp A1 A2\n",
       "1 HLA-DRB1 6        HLA-DRB1 32546546 rs74927567 6          32597064  G  A \n",
       "  Freq     ⋯ se_eQTL   p_eQTL       b_SMR    se_SMR   p_SMR        p_HEIDI    \n",
       "1 0.394101 ⋯ 0.0392904 5.966581e-13 -1.05605 0.228554 3.826358e-06 0.005936424\n",
       "  nsnp_HEIDI Cell_type comb           qv        \n",
       "1 20         NKact     HLA-DRB1_NKact 0.03921362"
      ]
     },
     "metadata": {},
     "output_type": "display_data"
    }
   ],
   "source": [
    "## SAIGE-QTL SMR gene list\n",
    "saige_df_sign = saige_df_common[saige_df_common$p_SMR < (0.05/length(common_combs)),]\n",
    "saige_df_sign"
   ]
  },
  {
   "cell_type": "code",
   "execution_count": null,
   "id": "98a4b34f",
   "metadata": {},
   "outputs": [],
   "source": []
  },
  {
   "cell_type": "code",
   "execution_count": null,
   "id": "0408b728",
   "metadata": {},
   "outputs": [],
   "source": []
  }
 ],
 "metadata": {
  "kernelspec": {
   "display_name": "Single Cell Notebook (R 4.1.2)",
   "language": "R",
   "name": "singlecell"
  },
  "language_info": {
   "codemirror_mode": "r",
   "file_extension": ".r",
   "mimetype": "text/x-r-source",
   "name": "R",
   "pygments_lexer": "r",
   "version": "4.1.2"
  }
 },
 "nbformat": 4,
 "nbformat_minor": 5
}
