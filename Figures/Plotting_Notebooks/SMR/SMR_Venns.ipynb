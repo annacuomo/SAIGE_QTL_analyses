{
 "cells": [
  {
   "cell_type": "code",
   "execution_count": 1,
   "id": "389cd9e3",
   "metadata": {},
   "outputs": [],
   "source": [
    "library(data.table)\n",
    "library(qvalue)"
   ]
  },
  {
   "cell_type": "code",
   "execution_count": 2,
   "id": "27ce71e4",
   "metadata": {},
   "outputs": [],
   "source": [
    "## SLE (systemic lupus erythematosus) SMR (summarised Mendelian Randomisation) results"
   ]
  },
  {
   "cell_type": "code",
   "execution_count": 3,
   "id": "b51e56f6",
   "metadata": {},
   "outputs": [
    {
     "data": {
      "text/html": [
       "<table class=\"dataframe\">\n",
       "<caption>A data.table: 2 × 22</caption>\n",
       "<thead>\n",
       "\t<tr><th scope=col>probeID</th><th scope=col>ProbeChr</th><th scope=col>Gene</th><th scope=col>Probe_bp</th><th scope=col>topSNP</th><th scope=col>topSNP_chr</th><th scope=col>topSNP_bp</th><th scope=col>A1</th><th scope=col>A2</th><th scope=col>Freq</th><th scope=col>⋯</th><th scope=col>p_GWAS</th><th scope=col>b_eQTL</th><th scope=col>se_eQTL</th><th scope=col>p_eQTL</th><th scope=col>b_SMR</th><th scope=col>se_SMR</th><th scope=col>p_SMR</th><th scope=col>p_HEIDI</th><th scope=col>nsnp_HEIDI</th><th scope=col>Cell_type</th></tr>\n",
       "\t<tr><th scope=col>&lt;chr&gt;</th><th scope=col>&lt;int&gt;</th><th scope=col>&lt;chr&gt;</th><th scope=col>&lt;int&gt;</th><th scope=col>&lt;chr&gt;</th><th scope=col>&lt;int&gt;</th><th scope=col>&lt;int&gt;</th><th scope=col>&lt;chr&gt;</th><th scope=col>&lt;chr&gt;</th><th scope=col>&lt;dbl&gt;</th><th scope=col>⋯</th><th scope=col>&lt;dbl&gt;</th><th scope=col>&lt;dbl&gt;</th><th scope=col>&lt;dbl&gt;</th><th scope=col>&lt;dbl&gt;</th><th scope=col>&lt;dbl&gt;</th><th scope=col>&lt;dbl&gt;</th><th scope=col>&lt;dbl&gt;</th><th scope=col>&lt;dbl&gt;</th><th scope=col>&lt;int&gt;</th><th scope=col>&lt;chr&gt;</th></tr>\n",
       "</thead>\n",
       "<tbody>\n",
       "\t<tr><td>FCRL5</td><td>1</td><td>FCRL5</td><td>157483167</td><td>rs12741984</td><td>1</td><td>157534818</td><td>G</td><td>A</td><td>0.787234</td><td>⋯</td><td>0.9282</td><td> 0.113780</td><td>0.00486738</td><td>7.500497e-121</td><td>-0.0500968</td><td>0.554584</td><td>0.9280233</td><td>0.7014684</td><td>20</td><td>BimmNaive</td></tr>\n",
       "\t<tr><td>RPS8 </td><td>1</td><td>RPS8 </td><td> 45240923</td><td>rs12120833</td><td>1</td><td> 45241285</td><td>C</td><td>G</td><td>0.850097</td><td>⋯</td><td>0.4884</td><td>-0.105432</td><td>0.00500701</td><td> 1.980368e-98</td><td>-0.5140770</td><td>0.742114</td><td>0.4884856</td><td>0.9091780</td><td>20</td><td>BimmNaive</td></tr>\n",
       "</tbody>\n",
       "</table>\n"
      ],
      "text/latex": [
       "A data.table: 2 × 22\n",
       "\\begin{tabular}{lllllllllllllllllllll}\n",
       " probeID & ProbeChr & Gene & Probe\\_bp & topSNP & topSNP\\_chr & topSNP\\_bp & A1 & A2 & Freq & ⋯ & p\\_GWAS & b\\_eQTL & se\\_eQTL & p\\_eQTL & b\\_SMR & se\\_SMR & p\\_SMR & p\\_HEIDI & nsnp\\_HEIDI & Cell\\_type\\\\\n",
       " <chr> & <int> & <chr> & <int> & <chr> & <int> & <int> & <chr> & <chr> & <dbl> & ⋯ & <dbl> & <dbl> & <dbl> & <dbl> & <dbl> & <dbl> & <dbl> & <dbl> & <int> & <chr>\\\\\n",
       "\\hline\n",
       "\t FCRL5 & 1 & FCRL5 & 157483167 & rs12741984 & 1 & 157534818 & G & A & 0.787234 & ⋯ & 0.9282 &  0.113780 & 0.00486738 & 7.500497e-121 & -0.0500968 & 0.554584 & 0.9280233 & 0.7014684 & 20 & BimmNaive\\\\\n",
       "\t RPS8  & 1 & RPS8  &  45240923 & rs12120833 & 1 &  45241285 & C & G & 0.850097 & ⋯ & 0.4884 & -0.105432 & 0.00500701 &  1.980368e-98 & -0.5140770 & 0.742114 & 0.4884856 & 0.9091780 & 20 & BimmNaive\\\\\n",
       "\\end{tabular}\n"
      ],
      "text/markdown": [
       "\n",
       "A data.table: 2 × 22\n",
       "\n",
       "| probeID &lt;chr&gt; | ProbeChr &lt;int&gt; | Gene &lt;chr&gt; | Probe_bp &lt;int&gt; | topSNP &lt;chr&gt; | topSNP_chr &lt;int&gt; | topSNP_bp &lt;int&gt; | A1 &lt;chr&gt; | A2 &lt;chr&gt; | Freq &lt;dbl&gt; | ⋯ ⋯ | p_GWAS &lt;dbl&gt; | b_eQTL &lt;dbl&gt; | se_eQTL &lt;dbl&gt; | p_eQTL &lt;dbl&gt; | b_SMR &lt;dbl&gt; | se_SMR &lt;dbl&gt; | p_SMR &lt;dbl&gt; | p_HEIDI &lt;dbl&gt; | nsnp_HEIDI &lt;int&gt; | Cell_type &lt;chr&gt; |\n",
       "|---|---|---|---|---|---|---|---|---|---|---|---|---|---|---|---|---|---|---|---|---|\n",
       "| FCRL5 | 1 | FCRL5 | 157483167 | rs12741984 | 1 | 157534818 | G | A | 0.787234 | ⋯ | 0.9282 |  0.113780 | 0.00486738 | 7.500497e-121 | -0.0500968 | 0.554584 | 0.9280233 | 0.7014684 | 20 | BimmNaive |\n",
       "| RPS8  | 1 | RPS8  |  45240923 | rs12120833 | 1 |  45241285 | C | G | 0.850097 | ⋯ | 0.4884 | -0.105432 | 0.00500701 |  1.980368e-98 | -0.5140770 | 0.742114 | 0.4884856 | 0.9091780 | 20 | BimmNaive |\n",
       "\n"
      ],
      "text/plain": [
       "  probeID ProbeChr Gene  Probe_bp  topSNP     topSNP_chr topSNP_bp A1 A2\n",
       "1 FCRL5   1        FCRL5 157483167 rs12741984 1          157534818 G  A \n",
       "2 RPS8    1        RPS8   45240923 rs12120833 1           45241285 C  G \n",
       "  Freq     ⋯ p_GWAS b_eQTL    se_eQTL    p_eQTL        b_SMR      se_SMR  \n",
       "1 0.787234 ⋯ 0.9282  0.113780 0.00486738 7.500497e-121 -0.0500968 0.554584\n",
       "2 0.850097 ⋯ 0.4884 -0.105432 0.00500701  1.980368e-98 -0.5140770 0.742114\n",
       "  p_SMR     p_HEIDI   nsnp_HEIDI Cell_type\n",
       "1 0.9280233 0.7014684 20         BimmNaive\n",
       "2 0.4884856 0.9091780 20         BimmNaive"
      ]
     },
     "metadata": {},
     "output_type": "display_data"
    }
   ],
   "source": [
    "# Matrix eQTL results\n",
    "matrix_eqtl_smr_results_dir = \"/directflow/SCCGGroupShare/projects/angxue/proj/SAIGE-eQTL/SMR/\"\n",
    "matrix_sle_file = paste0(matrix_eqtl_smr_results_dir, \"sle_all_14_celltypes_all_smr.txt\")\n",
    "matrix_df = fread(matrix_sle_file)\n",
    "head(matrix_df,2)"
   ]
  },
  {
   "cell_type": "code",
   "execution_count": 4,
   "id": "8bee0ba9",
   "metadata": {},
   "outputs": [
    {
     "data": {
      "text/html": [
       "6088"
      ],
      "text/latex": [
       "6088"
      ],
      "text/markdown": [
       "6088"
      ],
      "text/plain": [
       "[1] 6088"
      ]
     },
     "metadata": {},
     "output_type": "display_data"
    },
    {
     "data": {
      "text/html": [
       "14511"
      ],
      "text/latex": [
       "14511"
      ],
      "text/markdown": [
       "14511"
      ],
      "text/plain": [
       "[1] 14511"
      ]
     },
     "metadata": {},
     "output_type": "display_data"
    },
    {
     "data": {
      "text/html": [
       "<table class=\"dataframe\">\n",
       "<caption>A data.table: 2 × 23</caption>\n",
       "<thead>\n",
       "\t<tr><th scope=col>probeID</th><th scope=col>ProbeChr</th><th scope=col>Gene</th><th scope=col>Probe_bp</th><th scope=col>topSNP</th><th scope=col>topSNP_chr</th><th scope=col>topSNP_bp</th><th scope=col>A1</th><th scope=col>A2</th><th scope=col>Freq</th><th scope=col>⋯</th><th scope=col>b_eQTL</th><th scope=col>se_eQTL</th><th scope=col>p_eQTL</th><th scope=col>b_SMR</th><th scope=col>se_SMR</th><th scope=col>p_SMR</th><th scope=col>p_HEIDI</th><th scope=col>nsnp_HEIDI</th><th scope=col>Cell_type</th><th scope=col>comb</th></tr>\n",
       "\t<tr><th scope=col>&lt;chr&gt;</th><th scope=col>&lt;int&gt;</th><th scope=col>&lt;chr&gt;</th><th scope=col>&lt;int&gt;</th><th scope=col>&lt;chr&gt;</th><th scope=col>&lt;int&gt;</th><th scope=col>&lt;int&gt;</th><th scope=col>&lt;chr&gt;</th><th scope=col>&lt;chr&gt;</th><th scope=col>&lt;dbl&gt;</th><th scope=col>⋯</th><th scope=col>&lt;dbl&gt;</th><th scope=col>&lt;dbl&gt;</th><th scope=col>&lt;dbl&gt;</th><th scope=col>&lt;dbl&gt;</th><th scope=col>&lt;dbl&gt;</th><th scope=col>&lt;dbl&gt;</th><th scope=col>&lt;dbl&gt;</th><th scope=col>&lt;int&gt;</th><th scope=col>&lt;chr&gt;</th><th scope=col>&lt;chr&gt;</th></tr>\n",
       "</thead>\n",
       "<tbody>\n",
       "\t<tr><td>FCRL5</td><td>1</td><td>FCRL5</td><td>157483167</td><td>rs12741984</td><td>1</td><td>157534818</td><td>G</td><td>A</td><td>0.787234</td><td>⋯</td><td> 0.113780</td><td>0.00486738</td><td>7.500497e-121</td><td>-0.0500968</td><td>0.554584</td><td>0.9280233</td><td>0.7014684</td><td>20</td><td>BimmNaive</td><td>FCRL5_BimmNaive</td></tr>\n",
       "\t<tr><td>RPS8 </td><td>1</td><td>RPS8 </td><td> 45240923</td><td>rs12120833</td><td>1</td><td> 45241285</td><td>C</td><td>G</td><td>0.850097</td><td>⋯</td><td>-0.105432</td><td>0.00500701</td><td> 1.980368e-98</td><td>-0.5140770</td><td>0.742114</td><td>0.4884856</td><td>0.9091780</td><td>20</td><td>BimmNaive</td><td>RPS8_BimmNaive </td></tr>\n",
       "</tbody>\n",
       "</table>\n"
      ],
      "text/latex": [
       "A data.table: 2 × 23\n",
       "\\begin{tabular}{lllllllllllllllllllll}\n",
       " probeID & ProbeChr & Gene & Probe\\_bp & topSNP & topSNP\\_chr & topSNP\\_bp & A1 & A2 & Freq & ⋯ & b\\_eQTL & se\\_eQTL & p\\_eQTL & b\\_SMR & se\\_SMR & p\\_SMR & p\\_HEIDI & nsnp\\_HEIDI & Cell\\_type & comb\\\\\n",
       " <chr> & <int> & <chr> & <int> & <chr> & <int> & <int> & <chr> & <chr> & <dbl> & ⋯ & <dbl> & <dbl> & <dbl> & <dbl> & <dbl> & <dbl> & <dbl> & <int> & <chr> & <chr>\\\\\n",
       "\\hline\n",
       "\t FCRL5 & 1 & FCRL5 & 157483167 & rs12741984 & 1 & 157534818 & G & A & 0.787234 & ⋯ &  0.113780 & 0.00486738 & 7.500497e-121 & -0.0500968 & 0.554584 & 0.9280233 & 0.7014684 & 20 & BimmNaive & FCRL5\\_BimmNaive\\\\\n",
       "\t RPS8  & 1 & RPS8  &  45240923 & rs12120833 & 1 &  45241285 & C & G & 0.850097 & ⋯ & -0.105432 & 0.00500701 &  1.980368e-98 & -0.5140770 & 0.742114 & 0.4884856 & 0.9091780 & 20 & BimmNaive & RPS8\\_BimmNaive \\\\\n",
       "\\end{tabular}\n"
      ],
      "text/markdown": [
       "\n",
       "A data.table: 2 × 23\n",
       "\n",
       "| probeID &lt;chr&gt; | ProbeChr &lt;int&gt; | Gene &lt;chr&gt; | Probe_bp &lt;int&gt; | topSNP &lt;chr&gt; | topSNP_chr &lt;int&gt; | topSNP_bp &lt;int&gt; | A1 &lt;chr&gt; | A2 &lt;chr&gt; | Freq &lt;dbl&gt; | ⋯ ⋯ | b_eQTL &lt;dbl&gt; | se_eQTL &lt;dbl&gt; | p_eQTL &lt;dbl&gt; | b_SMR &lt;dbl&gt; | se_SMR &lt;dbl&gt; | p_SMR &lt;dbl&gt; | p_HEIDI &lt;dbl&gt; | nsnp_HEIDI &lt;int&gt; | Cell_type &lt;chr&gt; | comb &lt;chr&gt; |\n",
       "|---|---|---|---|---|---|---|---|---|---|---|---|---|---|---|---|---|---|---|---|---|\n",
       "| FCRL5 | 1 | FCRL5 | 157483167 | rs12741984 | 1 | 157534818 | G | A | 0.787234 | ⋯ |  0.113780 | 0.00486738 | 7.500497e-121 | -0.0500968 | 0.554584 | 0.9280233 | 0.7014684 | 20 | BimmNaive | FCRL5_BimmNaive |\n",
       "| RPS8  | 1 | RPS8  |  45240923 | rs12120833 | 1 |  45241285 | C | G | 0.850097 | ⋯ | -0.105432 | 0.00500701 |  1.980368e-98 | -0.5140770 | 0.742114 | 0.4884856 | 0.9091780 | 20 | BimmNaive | RPS8_BimmNaive  |\n",
       "\n"
      ],
      "text/plain": [
       "  probeID ProbeChr Gene  Probe_bp  topSNP     topSNP_chr topSNP_bp A1 A2\n",
       "1 FCRL5   1        FCRL5 157483167 rs12741984 1          157534818 G  A \n",
       "2 RPS8    1        RPS8   45240923 rs12120833 1           45241285 C  G \n",
       "  Freq     ⋯ b_eQTL    se_eQTL    p_eQTL        b_SMR      se_SMR   p_SMR    \n",
       "1 0.787234 ⋯  0.113780 0.00486738 7.500497e-121 -0.0500968 0.554584 0.9280233\n",
       "2 0.850097 ⋯ -0.105432 0.00500701  1.980368e-98 -0.5140770 0.742114 0.4884856\n",
       "  p_HEIDI   nsnp_HEIDI Cell_type comb           \n",
       "1 0.7014684 20         BimmNaive FCRL5_BimmNaive\n",
       "2 0.9091780 20         BimmNaive RPS8_BimmNaive "
      ]
     },
     "metadata": {},
     "output_type": "display_data"
    }
   ],
   "source": [
    "# Calculate number of unique genes, and combination of genes + celltypes\n",
    "length(unique(matrix_df$Gene))\n",
    "matrix_df$comb = paste0(matrix_df$Gene,\"_\",matrix_df$Cell_type)\n",
    "length(unique(matrix_df$comb))\n",
    "head(matrix_df,2)"
   ]
  },
  {
   "cell_type": "code",
   "execution_count": 5,
   "id": "bb49fa5a",
   "metadata": {},
   "outputs": [],
   "source": [
    "# p<0.05/M, where M is the number of tests (number of genes)"
   ]
  },
  {
   "cell_type": "code",
   "execution_count": 6,
   "id": "fd12238e",
   "metadata": {},
   "outputs": [
    {
     "data": {
      "text/html": [
       "0"
      ],
      "text/latex": [
       "0"
      ],
      "text/markdown": [
       "0"
      ],
      "text/plain": [
       "[1] 0"
      ]
     },
     "metadata": {},
     "output_type": "display_data"
    },
    {
     "data": {
      "text/html": [
       "0"
      ],
      "text/latex": [
       "0"
      ],
      "text/markdown": [
       "0"
      ],
      "text/plain": [
       "[1] 0"
      ]
     },
     "metadata": {},
     "output_type": "display_data"
    }
   ],
   "source": [
    "nrow(matrix_df[matrix_df$p_SMR < 0.05/length(unique(matrix_df$Gene)),]) # M = number of genes\n",
    "nrow(matrix_df[matrix_df$p_SMR < 0.05/length(unique(matrix_df$comb)),]) # M = number of genes-ct combinations"
   ]
  },
  {
   "cell_type": "code",
   "execution_count": 7,
   "id": "12062bde",
   "metadata": {},
   "outputs": [
    {
     "data": {
      "text/html": [
       "0"
      ],
      "text/latex": [
       "0"
      ],
      "text/markdown": [
       "0"
      ],
      "text/plain": [
       "[1] 0"
      ]
     },
     "metadata": {},
     "output_type": "display_data"
    }
   ],
   "source": [
    "# significant results at FDR<5% instead (using qvalue)\n",
    "matrix_df$qv = qvalue(matrix_df$p_SMR)$qvalues\n",
    "nrow(matrix_df[matrix_df$qv<0.05,])"
   ]
  },
  {
   "cell_type": "code",
   "execution_count": null,
   "id": "10f4aafb",
   "metadata": {},
   "outputs": [],
   "source": []
  },
  {
   "cell_type": "code",
   "execution_count": null,
   "id": "ae1b3e0f",
   "metadata": {},
   "outputs": [],
   "source": []
  },
  {
   "cell_type": "code",
   "execution_count": 8,
   "id": "ec752228",
   "metadata": {},
   "outputs": [
    {
     "data": {
      "text/html": [
       "<table class=\"dataframe\">\n",
       "<caption>A data.table: 2 × 22</caption>\n",
       "<thead>\n",
       "\t<tr><th scope=col>probeID</th><th scope=col>ProbeChr</th><th scope=col>Gene</th><th scope=col>Probe_bp</th><th scope=col>topSNP</th><th scope=col>topSNP_chr</th><th scope=col>topSNP_bp</th><th scope=col>A1</th><th scope=col>A2</th><th scope=col>Freq</th><th scope=col>⋯</th><th scope=col>p_GWAS</th><th scope=col>b_eQTL</th><th scope=col>se_eQTL</th><th scope=col>p_eQTL</th><th scope=col>b_SMR</th><th scope=col>se_SMR</th><th scope=col>p_SMR</th><th scope=col>p_HEIDI</th><th scope=col>nsnp_HEIDI</th><th scope=col>Cell_type</th></tr>\n",
       "\t<tr><th scope=col>&lt;chr&gt;</th><th scope=col>&lt;int&gt;</th><th scope=col>&lt;chr&gt;</th><th scope=col>&lt;int&gt;</th><th scope=col>&lt;chr&gt;</th><th scope=col>&lt;int&gt;</th><th scope=col>&lt;int&gt;</th><th scope=col>&lt;chr&gt;</th><th scope=col>&lt;chr&gt;</th><th scope=col>&lt;dbl&gt;</th><th scope=col>⋯</th><th scope=col>&lt;dbl&gt;</th><th scope=col>&lt;dbl&gt;</th><th scope=col>&lt;dbl&gt;</th><th scope=col>&lt;dbl&gt;</th><th scope=col>&lt;dbl&gt;</th><th scope=col>&lt;dbl&gt;</th><th scope=col>&lt;dbl&gt;</th><th scope=col>&lt;dbl&gt;</th><th scope=col>&lt;int&gt;</th><th scope=col>&lt;chr&gt;</th></tr>\n",
       "</thead>\n",
       "<tbody>\n",
       "\t<tr><td>NOC2L  </td><td>1</td><td>NOC2L  </td><td> 879584</td><td>rs3748595 </td><td>1</td><td> 887560</td><td>A</td><td>C</td><td>0.0672147</td><td>⋯</td><td>0.14100</td><td>-0.153020</td><td>0.0352961</td><td>1.455500e-05</td><td> 0.992681</td><td>0.712232</td><td>0.16338990</td><td>0.4676291</td><td>3</td><td>BimmNaive</td></tr>\n",
       "\t<tr><td>C1orf86</td><td>1</td><td>C1orf86</td><td>2115903</td><td>rs11587831</td><td>1</td><td>2110848</td><td>T</td><td>G</td><td>0.7853000</td><td>⋯</td><td>0.06286</td><td>-0.115809</td><td>0.0148762</td><td>6.980209e-15</td><td>-1.081950</td><td>0.597518</td><td>0.07017984</td><td>0.9955862</td><td>8</td><td>BimmNaive</td></tr>\n",
       "</tbody>\n",
       "</table>\n"
      ],
      "text/latex": [
       "A data.table: 2 × 22\n",
       "\\begin{tabular}{lllllllllllllllllllll}\n",
       " probeID & ProbeChr & Gene & Probe\\_bp & topSNP & topSNP\\_chr & topSNP\\_bp & A1 & A2 & Freq & ⋯ & p\\_GWAS & b\\_eQTL & se\\_eQTL & p\\_eQTL & b\\_SMR & se\\_SMR & p\\_SMR & p\\_HEIDI & nsnp\\_HEIDI & Cell\\_type\\\\\n",
       " <chr> & <int> & <chr> & <int> & <chr> & <int> & <int> & <chr> & <chr> & <dbl> & ⋯ & <dbl> & <dbl> & <dbl> & <dbl> & <dbl> & <dbl> & <dbl> & <dbl> & <int> & <chr>\\\\\n",
       "\\hline\n",
       "\t NOC2L   & 1 & NOC2L   &  879584 & rs3748595  & 1 &  887560 & A & C & 0.0672147 & ⋯ & 0.14100 & -0.153020 & 0.0352961 & 1.455500e-05 &  0.992681 & 0.712232 & 0.16338990 & 0.4676291 & 3 & BimmNaive\\\\\n",
       "\t C1orf86 & 1 & C1orf86 & 2115903 & rs11587831 & 1 & 2110848 & T & G & 0.7853000 & ⋯ & 0.06286 & -0.115809 & 0.0148762 & 6.980209e-15 & -1.081950 & 0.597518 & 0.07017984 & 0.9955862 & 8 & BimmNaive\\\\\n",
       "\\end{tabular}\n"
      ],
      "text/markdown": [
       "\n",
       "A data.table: 2 × 22\n",
       "\n",
       "| probeID &lt;chr&gt; | ProbeChr &lt;int&gt; | Gene &lt;chr&gt; | Probe_bp &lt;int&gt; | topSNP &lt;chr&gt; | topSNP_chr &lt;int&gt; | topSNP_bp &lt;int&gt; | A1 &lt;chr&gt; | A2 &lt;chr&gt; | Freq &lt;dbl&gt; | ⋯ ⋯ | p_GWAS &lt;dbl&gt; | b_eQTL &lt;dbl&gt; | se_eQTL &lt;dbl&gt; | p_eQTL &lt;dbl&gt; | b_SMR &lt;dbl&gt; | se_SMR &lt;dbl&gt; | p_SMR &lt;dbl&gt; | p_HEIDI &lt;dbl&gt; | nsnp_HEIDI &lt;int&gt; | Cell_type &lt;chr&gt; |\n",
       "|---|---|---|---|---|---|---|---|---|---|---|---|---|---|---|---|---|---|---|---|---|\n",
       "| NOC2L   | 1 | NOC2L   |  879584 | rs3748595  | 1 |  887560 | A | C | 0.0672147 | ⋯ | 0.14100 | -0.153020 | 0.0352961 | 1.455500e-05 |  0.992681 | 0.712232 | 0.16338990 | 0.4676291 | 3 | BimmNaive |\n",
       "| C1orf86 | 1 | C1orf86 | 2115903 | rs11587831 | 1 | 2110848 | T | G | 0.7853000 | ⋯ | 0.06286 | -0.115809 | 0.0148762 | 6.980209e-15 | -1.081950 | 0.597518 | 0.07017984 | 0.9955862 | 8 | BimmNaive |\n",
       "\n"
      ],
      "text/plain": [
       "  probeID ProbeChr Gene    Probe_bp topSNP     topSNP_chr topSNP_bp A1 A2\n",
       "1 NOC2L   1        NOC2L    879584  rs3748595  1           887560   A  C \n",
       "2 C1orf86 1        C1orf86 2115903  rs11587831 1          2110848   T  G \n",
       "  Freq      ⋯ p_GWAS  b_eQTL    se_eQTL   p_eQTL       b_SMR     se_SMR  \n",
       "1 0.0672147 ⋯ 0.14100 -0.153020 0.0352961 1.455500e-05  0.992681 0.712232\n",
       "2 0.7853000 ⋯ 0.06286 -0.115809 0.0148762 6.980209e-15 -1.081950 0.597518\n",
       "  p_SMR      p_HEIDI   nsnp_HEIDI Cell_type\n",
       "1 0.16338990 0.4676291 3          BimmNaive\n",
       "2 0.07017984 0.9955862 8          BimmNaive"
      ]
     },
     "metadata": {},
     "output_type": "display_data"
    }
   ],
   "source": [
    "# SAIGE-QTL results\n",
    "saige_eqtl_smr_results_dir = \"/directflow/SCCGGroupShare/projects/angxue/proj/SAIGE-eQTL/SMR/saige_eQTL/\"\n",
    "saige_sle_file = paste0(saige_eqtl_smr_results_dir, \"sle_all_14_celltypes_all_smr.txt\")\n",
    "saige_df = fread(saige_sle_file)\n",
    "head(saige_df,2)"
   ]
  },
  {
   "cell_type": "code",
   "execution_count": 9,
   "id": "d912fd35",
   "metadata": {},
   "outputs": [
    {
     "data": {
      "text/html": [
       "5671"
      ],
      "text/latex": [
       "5671"
      ],
      "text/markdown": [
       "5671"
      ],
      "text/plain": [
       "[1] 5671"
      ]
     },
     "metadata": {},
     "output_type": "display_data"
    },
    {
     "data": {
      "text/html": [
       "16413"
      ],
      "text/latex": [
       "16413"
      ],
      "text/markdown": [
       "16413"
      ],
      "text/plain": [
       "[1] 16413"
      ]
     },
     "metadata": {},
     "output_type": "display_data"
    },
    {
     "data": {
      "text/html": [
       "<table class=\"dataframe\">\n",
       "<caption>A data.table: 2 × 23</caption>\n",
       "<thead>\n",
       "\t<tr><th scope=col>probeID</th><th scope=col>ProbeChr</th><th scope=col>Gene</th><th scope=col>Probe_bp</th><th scope=col>topSNP</th><th scope=col>topSNP_chr</th><th scope=col>topSNP_bp</th><th scope=col>A1</th><th scope=col>A2</th><th scope=col>Freq</th><th scope=col>⋯</th><th scope=col>b_eQTL</th><th scope=col>se_eQTL</th><th scope=col>p_eQTL</th><th scope=col>b_SMR</th><th scope=col>se_SMR</th><th scope=col>p_SMR</th><th scope=col>p_HEIDI</th><th scope=col>nsnp_HEIDI</th><th scope=col>Cell_type</th><th scope=col>comb</th></tr>\n",
       "\t<tr><th scope=col>&lt;chr&gt;</th><th scope=col>&lt;int&gt;</th><th scope=col>&lt;chr&gt;</th><th scope=col>&lt;int&gt;</th><th scope=col>&lt;chr&gt;</th><th scope=col>&lt;int&gt;</th><th scope=col>&lt;int&gt;</th><th scope=col>&lt;chr&gt;</th><th scope=col>&lt;chr&gt;</th><th scope=col>&lt;dbl&gt;</th><th scope=col>⋯</th><th scope=col>&lt;dbl&gt;</th><th scope=col>&lt;dbl&gt;</th><th scope=col>&lt;dbl&gt;</th><th scope=col>&lt;dbl&gt;</th><th scope=col>&lt;dbl&gt;</th><th scope=col>&lt;dbl&gt;</th><th scope=col>&lt;dbl&gt;</th><th scope=col>&lt;int&gt;</th><th scope=col>&lt;chr&gt;</th><th scope=col>&lt;chr&gt;</th></tr>\n",
       "</thead>\n",
       "<tbody>\n",
       "\t<tr><td>NOC2L  </td><td>1</td><td>NOC2L  </td><td> 879584</td><td>rs3748595 </td><td>1</td><td> 887560</td><td>A</td><td>C</td><td>0.0672147</td><td>⋯</td><td>-0.153020</td><td>0.0352961</td><td>1.455500e-05</td><td> 0.992681</td><td>0.712232</td><td>0.16338990</td><td>0.4676291</td><td>3</td><td>BimmNaive</td><td>NOC2L_BimmNaive  </td></tr>\n",
       "\t<tr><td>C1orf86</td><td>1</td><td>C1orf86</td><td>2115903</td><td>rs11587831</td><td>1</td><td>2110848</td><td>T</td><td>G</td><td>0.7853000</td><td>⋯</td><td>-0.115809</td><td>0.0148762</td><td>6.980209e-15</td><td>-1.081950</td><td>0.597518</td><td>0.07017984</td><td>0.9955862</td><td>8</td><td>BimmNaive</td><td>C1orf86_BimmNaive</td></tr>\n",
       "</tbody>\n",
       "</table>\n"
      ],
      "text/latex": [
       "A data.table: 2 × 23\n",
       "\\begin{tabular}{lllllllllllllllllllll}\n",
       " probeID & ProbeChr & Gene & Probe\\_bp & topSNP & topSNP\\_chr & topSNP\\_bp & A1 & A2 & Freq & ⋯ & b\\_eQTL & se\\_eQTL & p\\_eQTL & b\\_SMR & se\\_SMR & p\\_SMR & p\\_HEIDI & nsnp\\_HEIDI & Cell\\_type & comb\\\\\n",
       " <chr> & <int> & <chr> & <int> & <chr> & <int> & <int> & <chr> & <chr> & <dbl> & ⋯ & <dbl> & <dbl> & <dbl> & <dbl> & <dbl> & <dbl> & <dbl> & <int> & <chr> & <chr>\\\\\n",
       "\\hline\n",
       "\t NOC2L   & 1 & NOC2L   &  879584 & rs3748595  & 1 &  887560 & A & C & 0.0672147 & ⋯ & -0.153020 & 0.0352961 & 1.455500e-05 &  0.992681 & 0.712232 & 0.16338990 & 0.4676291 & 3 & BimmNaive & NOC2L\\_BimmNaive  \\\\\n",
       "\t C1orf86 & 1 & C1orf86 & 2115903 & rs11587831 & 1 & 2110848 & T & G & 0.7853000 & ⋯ & -0.115809 & 0.0148762 & 6.980209e-15 & -1.081950 & 0.597518 & 0.07017984 & 0.9955862 & 8 & BimmNaive & C1orf86\\_BimmNaive\\\\\n",
       "\\end{tabular}\n"
      ],
      "text/markdown": [
       "\n",
       "A data.table: 2 × 23\n",
       "\n",
       "| probeID &lt;chr&gt; | ProbeChr &lt;int&gt; | Gene &lt;chr&gt; | Probe_bp &lt;int&gt; | topSNP &lt;chr&gt; | topSNP_chr &lt;int&gt; | topSNP_bp &lt;int&gt; | A1 &lt;chr&gt; | A2 &lt;chr&gt; | Freq &lt;dbl&gt; | ⋯ ⋯ | b_eQTL &lt;dbl&gt; | se_eQTL &lt;dbl&gt; | p_eQTL &lt;dbl&gt; | b_SMR &lt;dbl&gt; | se_SMR &lt;dbl&gt; | p_SMR &lt;dbl&gt; | p_HEIDI &lt;dbl&gt; | nsnp_HEIDI &lt;int&gt; | Cell_type &lt;chr&gt; | comb &lt;chr&gt; |\n",
       "|---|---|---|---|---|---|---|---|---|---|---|---|---|---|---|---|---|---|---|---|---|\n",
       "| NOC2L   | 1 | NOC2L   |  879584 | rs3748595  | 1 |  887560 | A | C | 0.0672147 | ⋯ | -0.153020 | 0.0352961 | 1.455500e-05 |  0.992681 | 0.712232 | 0.16338990 | 0.4676291 | 3 | BimmNaive | NOC2L_BimmNaive   |\n",
       "| C1orf86 | 1 | C1orf86 | 2115903 | rs11587831 | 1 | 2110848 | T | G | 0.7853000 | ⋯ | -0.115809 | 0.0148762 | 6.980209e-15 | -1.081950 | 0.597518 | 0.07017984 | 0.9955862 | 8 | BimmNaive | C1orf86_BimmNaive |\n",
       "\n"
      ],
      "text/plain": [
       "  probeID ProbeChr Gene    Probe_bp topSNP     topSNP_chr topSNP_bp A1 A2\n",
       "1 NOC2L   1        NOC2L    879584  rs3748595  1           887560   A  C \n",
       "2 C1orf86 1        C1orf86 2115903  rs11587831 1          2110848   T  G \n",
       "  Freq      ⋯ b_eQTL    se_eQTL   p_eQTL       b_SMR     se_SMR   p_SMR     \n",
       "1 0.0672147 ⋯ -0.153020 0.0352961 1.455500e-05  0.992681 0.712232 0.16338990\n",
       "2 0.7853000 ⋯ -0.115809 0.0148762 6.980209e-15 -1.081950 0.597518 0.07017984\n",
       "  p_HEIDI   nsnp_HEIDI Cell_type comb             \n",
       "1 0.4676291 3          BimmNaive NOC2L_BimmNaive  \n",
       "2 0.9955862 8          BimmNaive C1orf86_BimmNaive"
      ]
     },
     "metadata": {},
     "output_type": "display_data"
    }
   ],
   "source": [
    "length(unique(saige_df$Gene))\n",
    "saige_df$comb = paste0(saige_df$Gene,\"_\",saige_df$Cell_type)\n",
    "length(unique(saige_df$comb))\n",
    "head(saige_df,2)"
   ]
  },
  {
   "cell_type": "code",
   "execution_count": 10,
   "id": "21313568",
   "metadata": {},
   "outputs": [
    {
     "data": {
      "text/html": [
       "1"
      ],
      "text/latex": [
       "1"
      ],
      "text/markdown": [
       "1"
      ],
      "text/plain": [
       "[1] 1"
      ]
     },
     "metadata": {},
     "output_type": "display_data"
    },
    {
     "data": {
      "text/html": [
       "0"
      ],
      "text/latex": [
       "0"
      ],
      "text/markdown": [
       "0"
      ],
      "text/plain": [
       "[1] 0"
      ]
     },
     "metadata": {},
     "output_type": "display_data"
    }
   ],
   "source": [
    "# significant results at p<0.05/M with M either # genes or # gene-celltype combinations\n",
    "nrow(saige_df[saige_df$p_SMR < 0.05/length(unique(saige_df$Gene)),])\n",
    "nrow(saige_df[saige_df$p_SMR < 0.05/length(unique(saige_df$comb)),])"
   ]
  },
  {
   "cell_type": "code",
   "execution_count": 16,
   "id": "a808d3d9",
   "metadata": {},
   "outputs": [
    {
     "data": {
      "text/html": [
       "<table class=\"dataframe\">\n",
       "<caption>A data.table: 1 × 24</caption>\n",
       "<thead>\n",
       "\t<tr><th scope=col>probeID</th><th scope=col>ProbeChr</th><th scope=col>Gene</th><th scope=col>Probe_bp</th><th scope=col>topSNP</th><th scope=col>topSNP_chr</th><th scope=col>topSNP_bp</th><th scope=col>A1</th><th scope=col>A2</th><th scope=col>Freq</th><th scope=col>⋯</th><th scope=col>se_eQTL</th><th scope=col>p_eQTL</th><th scope=col>b_SMR</th><th scope=col>se_SMR</th><th scope=col>p_SMR</th><th scope=col>p_HEIDI</th><th scope=col>nsnp_HEIDI</th><th scope=col>Cell_type</th><th scope=col>comb</th><th scope=col>qv</th></tr>\n",
       "\t<tr><th scope=col>&lt;chr&gt;</th><th scope=col>&lt;int&gt;</th><th scope=col>&lt;chr&gt;</th><th scope=col>&lt;int&gt;</th><th scope=col>&lt;chr&gt;</th><th scope=col>&lt;int&gt;</th><th scope=col>&lt;int&gt;</th><th scope=col>&lt;chr&gt;</th><th scope=col>&lt;chr&gt;</th><th scope=col>&lt;dbl&gt;</th><th scope=col>⋯</th><th scope=col>&lt;dbl&gt;</th><th scope=col>&lt;dbl&gt;</th><th scope=col>&lt;dbl&gt;</th><th scope=col>&lt;dbl&gt;</th><th scope=col>&lt;dbl&gt;</th><th scope=col>&lt;dbl&gt;</th><th scope=col>&lt;int&gt;</th><th scope=col>&lt;chr&gt;</th><th scope=col>&lt;chr&gt;</th><th scope=col>&lt;dbl&gt;</th></tr>\n",
       "</thead>\n",
       "<tbody>\n",
       "\t<tr><td>HLA-DRB1</td><td>6</td><td>HLA-DRB1</td><td>32546546</td><td>rs74927567</td><td>6</td><td>32597064</td><td>G</td><td>A</td><td>0.394101</td><td>⋯</td><td>0.0392904</td><td>5.966581e-13</td><td>-1.05605</td><td>0.228554</td><td>3.826358e-06</td><td>0.005936424</td><td>20</td><td>NKact</td><td>HLA-DRB1_NKact</td><td>0.05481379</td></tr>\n",
       "</tbody>\n",
       "</table>\n"
      ],
      "text/latex": [
       "A data.table: 1 × 24\n",
       "\\begin{tabular}{lllllllllllllllllllll}\n",
       " probeID & ProbeChr & Gene & Probe\\_bp & topSNP & topSNP\\_chr & topSNP\\_bp & A1 & A2 & Freq & ⋯ & se\\_eQTL & p\\_eQTL & b\\_SMR & se\\_SMR & p\\_SMR & p\\_HEIDI & nsnp\\_HEIDI & Cell\\_type & comb & qv\\\\\n",
       " <chr> & <int> & <chr> & <int> & <chr> & <int> & <int> & <chr> & <chr> & <dbl> & ⋯ & <dbl> & <dbl> & <dbl> & <dbl> & <dbl> & <dbl> & <int> & <chr> & <chr> & <dbl>\\\\\n",
       "\\hline\n",
       "\t HLA-DRB1 & 6 & HLA-DRB1 & 32546546 & rs74927567 & 6 & 32597064 & G & A & 0.394101 & ⋯ & 0.0392904 & 5.966581e-13 & -1.05605 & 0.228554 & 3.826358e-06 & 0.005936424 & 20 & NKact & HLA-DRB1\\_NKact & 0.05481379\\\\\n",
       "\\end{tabular}\n"
      ],
      "text/markdown": [
       "\n",
       "A data.table: 1 × 24\n",
       "\n",
       "| probeID &lt;chr&gt; | ProbeChr &lt;int&gt; | Gene &lt;chr&gt; | Probe_bp &lt;int&gt; | topSNP &lt;chr&gt; | topSNP_chr &lt;int&gt; | topSNP_bp &lt;int&gt; | A1 &lt;chr&gt; | A2 &lt;chr&gt; | Freq &lt;dbl&gt; | ⋯ ⋯ | se_eQTL &lt;dbl&gt; | p_eQTL &lt;dbl&gt; | b_SMR &lt;dbl&gt; | se_SMR &lt;dbl&gt; | p_SMR &lt;dbl&gt; | p_HEIDI &lt;dbl&gt; | nsnp_HEIDI &lt;int&gt; | Cell_type &lt;chr&gt; | comb &lt;chr&gt; | qv &lt;dbl&gt; |\n",
       "|---|---|---|---|---|---|---|---|---|---|---|---|---|---|---|---|---|---|---|---|---|\n",
       "| HLA-DRB1 | 6 | HLA-DRB1 | 32546546 | rs74927567 | 6 | 32597064 | G | A | 0.394101 | ⋯ | 0.0392904 | 5.966581e-13 | -1.05605 | 0.228554 | 3.826358e-06 | 0.005936424 | 20 | NKact | HLA-DRB1_NKact | 0.05481379 |\n",
       "\n"
      ],
      "text/plain": [
       "  probeID  ProbeChr Gene     Probe_bp topSNP     topSNP_chr topSNP_bp A1 A2\n",
       "1 HLA-DRB1 6        HLA-DRB1 32546546 rs74927567 6          32597064  G  A \n",
       "  Freq     ⋯ se_eQTL   p_eQTL       b_SMR    se_SMR   p_SMR        p_HEIDI    \n",
       "1 0.394101 ⋯ 0.0392904 5.966581e-13 -1.05605 0.228554 3.826358e-06 0.005936424\n",
       "  nsnp_HEIDI Cell_type comb           qv        \n",
       "1 20         NKact     HLA-DRB1_NKact 0.05481379"
      ]
     },
     "metadata": {},
     "output_type": "display_data"
    }
   ],
   "source": [
    "saige_df[saige_df$p_SMR < 0.05/length(unique(saige_df$Gene)),]"
   ]
  },
  {
   "cell_type": "code",
   "execution_count": 11,
   "id": "105e1d55",
   "metadata": {},
   "outputs": [
    {
     "data": {
      "text/html": [
       "0"
      ],
      "text/latex": [
       "0"
      ],
      "text/markdown": [
       "0"
      ],
      "text/plain": [
       "[1] 0"
      ]
     },
     "metadata": {},
     "output_type": "display_data"
    }
   ],
   "source": [
    "# significant results at FDR<5% instead (using qvalue)\n",
    "saige_df$qv = qvalue(saige_df$p_SMR)$qvalues\n",
    "nrow(saige_df[saige_df$qv<0.05,])"
   ]
  },
  {
   "cell_type": "code",
   "execution_count": null,
   "id": "7fc94444",
   "metadata": {},
   "outputs": [],
   "source": []
  },
  {
   "cell_type": "code",
   "execution_count": 12,
   "id": "ed33208f",
   "metadata": {},
   "outputs": [
    {
     "data": {
      "text/html": [
       "0"
      ],
      "text/latex": [
       "0"
      ],
      "text/markdown": [
       "0"
      ],
      "text/plain": [
       "[1] 0"
      ]
     },
     "metadata": {},
     "output_type": "display_data"
    },
    {
     "data": {
      "text/html": [
       "0"
      ],
      "text/latex": [
       "0"
      ],
      "text/markdown": [
       "0"
      ],
      "text/plain": [
       "[1] 0"
      ]
     },
     "metadata": {},
     "output_type": "display_data"
    },
    {
     "data": {
      "text/html": [
       "0"
      ],
      "text/latex": [
       "0"
      ],
      "text/markdown": [
       "0"
      ],
      "text/plain": [
       "[1] 0"
      ]
     },
     "metadata": {},
     "output_type": "display_data"
    }
   ],
   "source": [
    "# Overlap (everything tested)\n",
    "\n",
    "matrix_sign_combs = matrix_df[matrix_df$qv < 0.05,\"comb\"]$comb\n",
    "length(matrix_sign_combs)\n",
    "\n",
    "saige_sign_combs = saige_df[saige_df$qv < 0.05,\"comb\"]$comb\n",
    "length(saige_sign_combs)\n",
    "\n",
    "length(saige_sign_combs[saige_sign_combs %in% matrix_sign_combs])"
   ]
  },
  {
   "cell_type": "code",
   "execution_count": null,
   "id": "946fa23e",
   "metadata": {},
   "outputs": [],
   "source": []
  },
  {
   "cell_type": "code",
   "execution_count": null,
   "id": "925cec3c",
   "metadata": {},
   "outputs": [],
   "source": []
  },
  {
   "cell_type": "code",
   "execution_count": 13,
   "id": "02bfcdfb",
   "metadata": {},
   "outputs": [
    {
     "data": {
      "text/html": [
       "11980"
      ],
      "text/latex": [
       "11980"
      ],
      "text/markdown": [
       "11980"
      ],
      "text/plain": [
       "[1] 11980"
      ]
     },
     "metadata": {},
     "output_type": "display_data"
    }
   ],
   "source": [
    "# Overlap (common gene-cell type combinations only)\n",
    "matrix_combs = unique(matrix_df$comb)\n",
    "saige_combs = unique(saige_df$comb)\n",
    "common_combs = saige_combs[saige_combs %in% matrix_combs]\n",
    "length(common_combs)"
   ]
  },
  {
   "cell_type": "code",
   "execution_count": 14,
   "id": "a01edb82",
   "metadata": {},
   "outputs": [],
   "source": [
    "matrix_df_common = matrix_df[matrix_df$comb %in% common_combs,]\n",
    "matrix_df_common$qv = qvalue(matrix_df_common$p_SMR)$qvalues\n",
    "saige_df_common = saige_df[saige_df$comb %in% common_combs,]\n",
    "saige_df_common$qv = qvalue(saige_df_common$p_SMR)$qvalues"
   ]
  },
  {
   "cell_type": "code",
   "execution_count": 15,
   "id": "59e02ade",
   "metadata": {},
   "outputs": [
    {
     "data": {
      "text/html": [
       "0"
      ],
      "text/latex": [
       "0"
      ],
      "text/markdown": [
       "0"
      ],
      "text/plain": [
       "[1] 0"
      ]
     },
     "metadata": {},
     "output_type": "display_data"
    },
    {
     "data": {
      "text/html": [
       "21"
      ],
      "text/latex": [
       "21"
      ],
      "text/markdown": [
       "21"
      ],
      "text/plain": [
       "[1] 21"
      ]
     },
     "metadata": {},
     "output_type": "display_data"
    },
    {
     "data": {
      "text/html": [
       "0"
      ],
      "text/latex": [
       "0"
      ],
      "text/markdown": [
       "0"
      ],
      "text/plain": [
       "[1] 0"
      ]
     },
     "metadata": {},
     "output_type": "display_data"
    }
   ],
   "source": [
    "matrix_sign_combs = matrix_df_common[matrix_df_common$qv < 0.05,\"comb\"]$comb\n",
    "length(matrix_sign_combs)\n",
    "\n",
    "saige_sign_combs = saige_df_common[saige_df_common$qv < 0.05,\"comb\"]$comb\n",
    "length(saige_sign_combs)\n",
    "\n",
    "length(saige_sign_combs[saige_sign_combs %in% matrix_sign_combs])"
   ]
  },
  {
   "cell_type": "code",
   "execution_count": 17,
   "id": "885c2082",
   "metadata": {
    "scrolled": true
   },
   "outputs": [
    {
     "data": {
      "text/html": [
       "<table class=\"dataframe\">\n",
       "<caption>A data.table: 21 × 24</caption>\n",
       "<thead>\n",
       "\t<tr><th scope=col>probeID</th><th scope=col>ProbeChr</th><th scope=col>Gene</th><th scope=col>Probe_bp</th><th scope=col>topSNP</th><th scope=col>topSNP_chr</th><th scope=col>topSNP_bp</th><th scope=col>A1</th><th scope=col>A2</th><th scope=col>Freq</th><th scope=col>⋯</th><th scope=col>se_eQTL</th><th scope=col>p_eQTL</th><th scope=col>b_SMR</th><th scope=col>se_SMR</th><th scope=col>p_SMR</th><th scope=col>p_HEIDI</th><th scope=col>nsnp_HEIDI</th><th scope=col>Cell_type</th><th scope=col>comb</th><th scope=col>qv</th></tr>\n",
       "\t<tr><th scope=col>&lt;chr&gt;</th><th scope=col>&lt;int&gt;</th><th scope=col>&lt;chr&gt;</th><th scope=col>&lt;int&gt;</th><th scope=col>&lt;chr&gt;</th><th scope=col>&lt;int&gt;</th><th scope=col>&lt;int&gt;</th><th scope=col>&lt;chr&gt;</th><th scope=col>&lt;chr&gt;</th><th scope=col>&lt;dbl&gt;</th><th scope=col>⋯</th><th scope=col>&lt;dbl&gt;</th><th scope=col>&lt;dbl&gt;</th><th scope=col>&lt;dbl&gt;</th><th scope=col>&lt;dbl&gt;</th><th scope=col>&lt;dbl&gt;</th><th scope=col>&lt;dbl&gt;</th><th scope=col>&lt;int&gt;</th><th scope=col>&lt;chr&gt;</th><th scope=col>&lt;chr&gt;</th><th scope=col>&lt;dbl&gt;</th></tr>\n",
       "</thead>\n",
       "<tbody>\n",
       "\t<tr><td>HLA-A   </td><td>6</td><td>HLA-A   </td><td>29909037</td><td>rs2844810 </td><td>6</td><td>29923580</td><td>G</td><td>C</td><td>0.413926</td><td>⋯</td><td>0.01122630</td><td>1.379438e-44</td><td> 1.393820</td><td>0.3587140</td><td>1.020795e-04</td><td>9.597639e-06</td><td>20</td><td>BimmNaive </td><td>HLA-A_BimmNaive  </td><td>0.04981620</td></tr>\n",
       "\t<tr><td>FAM167A </td><td>8</td><td>FAM167A </td><td>11278972</td><td>rs4840568 </td><td>8</td><td>11351019</td><td>G</td><td>A</td><td>0.728723</td><td>⋯</td><td>0.12425900</td><td>3.978588e-18</td><td>-0.210294</td><td>0.0536299</td><td>8.810483e-05</td><td>7.108002e-01</td><td>20</td><td>BimmNaive </td><td>FAM167A_BimmNaive</td><td>0.04981620</td></tr>\n",
       "\t<tr><td>BLK     </td><td>8</td><td>BLK     </td><td>11351510</td><td>rs2736338 </td><td>8</td><td>11341883</td><td>A</td><td>C</td><td>0.739845</td><td>⋯</td><td>0.01376120</td><td>1.817536e-38</td><td> 1.230960</td><td>0.3096200</td><td>7.016493e-05</td><td>5.842275e-01</td><td>20</td><td>Bmem      </td><td>BLK_Bmem         </td><td>0.04981620</td></tr>\n",
       "\t<tr><td>HLA-B   </td><td>6</td><td>HLA-B   </td><td>31321649</td><td>rs9264579 </td><td>6</td><td>31235746</td><td>G</td><td>A</td><td>0.453578</td><td>⋯</td><td>0.01286970</td><td>4.068664e-81</td><td>-0.831398</td><td>0.2011220</td><td>3.567982e-05</td><td>1.187305e-07</td><td>20</td><td>CD4all    </td><td>HLA-B_CD4all     </td><td>0.04981620</td></tr>\n",
       "\t<tr><td>RNF5    </td><td>6</td><td>RNF5    </td><td>32146131</td><td>rs3131297 </td><td>6</td><td>32141005</td><td>A</td><td>T</td><td>0.773694</td><td>⋯</td><td>0.01725810</td><td>1.089559e-09</td><td>-4.092210</td><td>0.9559840</td><td>1.863741e-05</td><td>2.158111e-05</td><td>19</td><td>CD4all    </td><td>RNF5_CD4all      </td><td>0.04981620</td></tr>\n",
       "\t<tr><td>HLA-DMA </td><td>6</td><td>HLA-DMA </td><td>32916390</td><td>rs76088152</td><td>6</td><td>32946322</td><td>G</td><td>A</td><td>0.925532</td><td>⋯</td><td>0.03106610</td><td>1.182231e-14</td><td>-2.123320</td><td>0.4937350</td><td>1.703934e-05</td><td>5.374339e-03</td><td>20</td><td>CD4all    </td><td>HLA-DMA_CD4all   </td><td>0.04981620</td></tr>\n",
       "\t<tr><td>RPS10   </td><td>6</td><td>RPS10   </td><td>34385231</td><td>rs9380433 </td><td>6</td><td>34377626</td><td>C</td><td>T</td><td>0.181335</td><td>⋯</td><td>0.00941291</td><td>3.944415e-92</td><td>-1.472120</td><td>0.3749400</td><td>8.626438e-05</td><td>7.428540e-04</td><td>20</td><td>CD4all    </td><td>RPS10_CD4all     </td><td>0.04981620</td></tr>\n",
       "\t<tr><td>HLA-B   </td><td>6</td><td>HLA-B   </td><td>31321649</td><td>rs9264579 </td><td>6</td><td>31235746</td><td>G</td><td>A</td><td>0.453578</td><td>⋯</td><td>0.01339460</td><td>6.457310e-77</td><td>-0.820872</td><td>0.1988360</td><td>3.653178e-05</td><td>1.179006e-06</td><td>20</td><td>CD4effCM  </td><td>HLA-B_CD4effCM   </td><td>0.04981620</td></tr>\n",
       "\t<tr><td>RPS10   </td><td>6</td><td>RPS10   </td><td>34385231</td><td>rs9380433 </td><td>6</td><td>34377626</td><td>C</td><td>T</td><td>0.181335</td><td>⋯</td><td>0.01007030</td><td>1.231940e-75</td><td>-1.522170</td><td>0.3892950</td><td>9.227231e-05</td><td>6.065366e-04</td><td>20</td><td>CD4effCM  </td><td>RPS10_CD4effCM   </td><td>0.04981620</td></tr>\n",
       "\t<tr><td>HLA-B   </td><td>6</td><td>HLA-B   </td><td>31321649</td><td>rs9264579 </td><td>6</td><td>31235746</td><td>G</td><td>A</td><td>0.453578</td><td>⋯</td><td>0.01252000</td><td>1.838895e-80</td><td>-0.858176</td><td>0.2076400</td><td>3.580570e-05</td><td>4.446047e-07</td><td>20</td><td>CD8all    </td><td>HLA-B_CD8all     </td><td>0.04981620</td></tr>\n",
       "\t<tr><td>RPS10   </td><td>6</td><td>RPS10   </td><td>34385231</td><td>rs9380433 </td><td>6</td><td>34377626</td><td>C</td><td>T</td><td>0.181335</td><td>⋯</td><td>0.01095370</td><td>1.270046e-66</td><td>-1.493610</td><td>0.3831900</td><td>9.705548e-05</td><td>1.039552e-03</td><td>20</td><td>CD8all    </td><td>RPS10_CD8all     </td><td>0.04981620</td></tr>\n",
       "\t<tr><td>HLA-DRB1</td><td>6</td><td>HLA-DRB1</td><td>32546546</td><td>rs74587827</td><td>6</td><td>32567757</td><td>G</td><td>A</td><td>0.669246</td><td>⋯</td><td>0.01851990</td><td>1.387291e-12</td><td>-1.731460</td><td>0.4450010</td><td>9.986994e-05</td><td>4.021287e-03</td><td>20</td><td>CD8eff    </td><td>HLA-DRB1_CD8eff  </td><td>0.04981620</td></tr>\n",
       "\t<tr><td>RPS10   </td><td>6</td><td>RPS10   </td><td>34385231</td><td>rs9380433 </td><td>6</td><td>34377626</td><td>C</td><td>T</td><td>0.181335</td><td>⋯</td><td>0.00933569</td><td>7.242519e-94</td><td>-1.470220</td><td>0.3743230</td><td>8.577123e-05</td><td>1.607780e-03</td><td>20</td><td>CD8eff    </td><td>RPS10_CD8eff     </td><td>0.04981620</td></tr>\n",
       "\t<tr><td>HLA-B   </td><td>6</td><td>HLA-B   </td><td>31321649</td><td>rs9264579 </td><td>6</td><td>31235746</td><td>G</td><td>A</td><td>0.453578</td><td>⋯</td><td>0.01364970</td><td>1.802061e-71</td><td>-0.836451</td><td>0.2030010</td><td>3.781811e-05</td><td>1.187528e-06</td><td>20</td><td>CD8unknown</td><td>HLA-B_CD8unknown </td><td>0.04981620</td></tr>\n",
       "\t<tr><td>RPS10   </td><td>6</td><td>RPS10   </td><td>34385231</td><td>rs9380433 </td><td>6</td><td>34377626</td><td>C</td><td>T</td><td>0.181335</td><td>⋯</td><td>0.01148410</td><td>1.595592e-61</td><td>-1.484240</td><td>0.3816150</td><td>1.005103e-04</td><td>7.474120e-04</td><td>20</td><td>CD8unknown</td><td>RPS10_CD8unknown </td><td>0.04981620</td></tr>\n",
       "\t<tr><td>HLA-DQA1</td><td>6</td><td>HLA-DQA1</td><td>32595956</td><td>rs28383312</td><td>6</td><td>32587090</td><td>C</td><td>T</td><td>0.594778</td><td>⋯</td><td>0.03867460</td><td>2.592618e-43</td><td> 0.383576</td><td>0.0945003</td><td>4.928454e-05</td><td>1.828638e-05</td><td>20</td><td>MonoNC    </td><td>HLA-DQA1_MonoNC  </td><td>0.04981620</td></tr>\n",
       "\t<tr><td>HLA-B   </td><td>6</td><td>HLA-B   </td><td>31321649</td><td>rs9264579 </td><td>6</td><td>31235746</td><td>G</td><td>A</td><td>0.453578</td><td>⋯</td><td>0.01455890</td><td>1.267330e-60</td><td>-0.853511</td><td>0.2081550</td><td>4.124910e-05</td><td>1.062979e-07</td><td>20</td><td>NKact     </td><td>HLA-B_NKact      </td><td>0.04981620</td></tr>\n",
       "\t<tr><td>HLA-DRB1</td><td>6</td><td>HLA-DRB1</td><td>32546546</td><td>rs74927567</td><td>6</td><td>32597064</td><td>G</td><td>A</td><td>0.394101</td><td>⋯</td><td>0.03929040</td><td>5.966581e-13</td><td>-1.056050</td><td>0.2285540</td><td>3.826358e-06</td><td>5.936424e-03</td><td>20</td><td>NKact     </td><td>HLA-DRB1_NKact   </td><td>0.03921362</td></tr>\n",
       "\t<tr><td>RPS10   </td><td>6</td><td>RPS10   </td><td>34385231</td><td>rs9380433 </td><td>6</td><td>34377626</td><td>C</td><td>T</td><td>0.181335</td><td>⋯</td><td>0.00876975</td><td>7.005996e-75</td><td>-1.756910</td><td>0.4494350</td><td>9.262139e-05</td><td>1.689510e-03</td><td>20</td><td>NKmat     </td><td>RPS10_NKmat      </td><td>0.04981620</td></tr>\n",
       "\t<tr><td>HLA-B   </td><td>6</td><td>HLA-B   </td><td>31321649</td><td>rs9264579 </td><td>6</td><td>31235746</td><td>G</td><td>A</td><td>0.453578</td><td>⋯</td><td>0.02731940</td><td>1.245964e-31</td><td>-0.638431</td><td>0.1603390</td><td>6.840469e-05</td><td>6.228809e-07</td><td>20</td><td>Plasma    </td><td>HLA-B_Plasma     </td><td>0.04981620</td></tr>\n",
       "\t<tr><td>HLA-DQA1</td><td>6</td><td>HLA-DQA1</td><td>32595956</td><td>rs646984  </td><td>6</td><td>32576592</td><td>A</td><td>C</td><td>0.579304</td><td>⋯</td><td>0.05357410</td><td>1.679753e-17</td><td> 0.472889</td><td>0.1209340</td><td>9.218057e-05</td><td>7.662493e-03</td><td>20</td><td>Plasma    </td><td>HLA-DQA1_Plasma  </td><td>0.04981620</td></tr>\n",
       "</tbody>\n",
       "</table>\n"
      ],
      "text/latex": [
       "A data.table: 21 × 24\n",
       "\\begin{tabular}{lllllllllllllllllllll}\n",
       " probeID & ProbeChr & Gene & Probe\\_bp & topSNP & topSNP\\_chr & topSNP\\_bp & A1 & A2 & Freq & ⋯ & se\\_eQTL & p\\_eQTL & b\\_SMR & se\\_SMR & p\\_SMR & p\\_HEIDI & nsnp\\_HEIDI & Cell\\_type & comb & qv\\\\\n",
       " <chr> & <int> & <chr> & <int> & <chr> & <int> & <int> & <chr> & <chr> & <dbl> & ⋯ & <dbl> & <dbl> & <dbl> & <dbl> & <dbl> & <dbl> & <int> & <chr> & <chr> & <dbl>\\\\\n",
       "\\hline\n",
       "\t HLA-A    & 6 & HLA-A    & 29909037 & rs2844810  & 6 & 29923580 & G & C & 0.413926 & ⋯ & 0.01122630 & 1.379438e-44 &  1.393820 & 0.3587140 & 1.020795e-04 & 9.597639e-06 & 20 & BimmNaive  & HLA-A\\_BimmNaive   & 0.04981620\\\\\n",
       "\t FAM167A  & 8 & FAM167A  & 11278972 & rs4840568  & 8 & 11351019 & G & A & 0.728723 & ⋯ & 0.12425900 & 3.978588e-18 & -0.210294 & 0.0536299 & 8.810483e-05 & 7.108002e-01 & 20 & BimmNaive  & FAM167A\\_BimmNaive & 0.04981620\\\\\n",
       "\t BLK      & 8 & BLK      & 11351510 & rs2736338  & 8 & 11341883 & A & C & 0.739845 & ⋯ & 0.01376120 & 1.817536e-38 &  1.230960 & 0.3096200 & 7.016493e-05 & 5.842275e-01 & 20 & Bmem       & BLK\\_Bmem          & 0.04981620\\\\\n",
       "\t HLA-B    & 6 & HLA-B    & 31321649 & rs9264579  & 6 & 31235746 & G & A & 0.453578 & ⋯ & 0.01286970 & 4.068664e-81 & -0.831398 & 0.2011220 & 3.567982e-05 & 1.187305e-07 & 20 & CD4all     & HLA-B\\_CD4all      & 0.04981620\\\\\n",
       "\t RNF5     & 6 & RNF5     & 32146131 & rs3131297  & 6 & 32141005 & A & T & 0.773694 & ⋯ & 0.01725810 & 1.089559e-09 & -4.092210 & 0.9559840 & 1.863741e-05 & 2.158111e-05 & 19 & CD4all     & RNF5\\_CD4all       & 0.04981620\\\\\n",
       "\t HLA-DMA  & 6 & HLA-DMA  & 32916390 & rs76088152 & 6 & 32946322 & G & A & 0.925532 & ⋯ & 0.03106610 & 1.182231e-14 & -2.123320 & 0.4937350 & 1.703934e-05 & 5.374339e-03 & 20 & CD4all     & HLA-DMA\\_CD4all    & 0.04981620\\\\\n",
       "\t RPS10    & 6 & RPS10    & 34385231 & rs9380433  & 6 & 34377626 & C & T & 0.181335 & ⋯ & 0.00941291 & 3.944415e-92 & -1.472120 & 0.3749400 & 8.626438e-05 & 7.428540e-04 & 20 & CD4all     & RPS10\\_CD4all      & 0.04981620\\\\\n",
       "\t HLA-B    & 6 & HLA-B    & 31321649 & rs9264579  & 6 & 31235746 & G & A & 0.453578 & ⋯ & 0.01339460 & 6.457310e-77 & -0.820872 & 0.1988360 & 3.653178e-05 & 1.179006e-06 & 20 & CD4effCM   & HLA-B\\_CD4effCM    & 0.04981620\\\\\n",
       "\t RPS10    & 6 & RPS10    & 34385231 & rs9380433  & 6 & 34377626 & C & T & 0.181335 & ⋯ & 0.01007030 & 1.231940e-75 & -1.522170 & 0.3892950 & 9.227231e-05 & 6.065366e-04 & 20 & CD4effCM   & RPS10\\_CD4effCM    & 0.04981620\\\\\n",
       "\t HLA-B    & 6 & HLA-B    & 31321649 & rs9264579  & 6 & 31235746 & G & A & 0.453578 & ⋯ & 0.01252000 & 1.838895e-80 & -0.858176 & 0.2076400 & 3.580570e-05 & 4.446047e-07 & 20 & CD8all     & HLA-B\\_CD8all      & 0.04981620\\\\\n",
       "\t RPS10    & 6 & RPS10    & 34385231 & rs9380433  & 6 & 34377626 & C & T & 0.181335 & ⋯ & 0.01095370 & 1.270046e-66 & -1.493610 & 0.3831900 & 9.705548e-05 & 1.039552e-03 & 20 & CD8all     & RPS10\\_CD8all      & 0.04981620\\\\\n",
       "\t HLA-DRB1 & 6 & HLA-DRB1 & 32546546 & rs74587827 & 6 & 32567757 & G & A & 0.669246 & ⋯ & 0.01851990 & 1.387291e-12 & -1.731460 & 0.4450010 & 9.986994e-05 & 4.021287e-03 & 20 & CD8eff     & HLA-DRB1\\_CD8eff   & 0.04981620\\\\\n",
       "\t RPS10    & 6 & RPS10    & 34385231 & rs9380433  & 6 & 34377626 & C & T & 0.181335 & ⋯ & 0.00933569 & 7.242519e-94 & -1.470220 & 0.3743230 & 8.577123e-05 & 1.607780e-03 & 20 & CD8eff     & RPS10\\_CD8eff      & 0.04981620\\\\\n",
       "\t HLA-B    & 6 & HLA-B    & 31321649 & rs9264579  & 6 & 31235746 & G & A & 0.453578 & ⋯ & 0.01364970 & 1.802061e-71 & -0.836451 & 0.2030010 & 3.781811e-05 & 1.187528e-06 & 20 & CD8unknown & HLA-B\\_CD8unknown  & 0.04981620\\\\\n",
       "\t RPS10    & 6 & RPS10    & 34385231 & rs9380433  & 6 & 34377626 & C & T & 0.181335 & ⋯ & 0.01148410 & 1.595592e-61 & -1.484240 & 0.3816150 & 1.005103e-04 & 7.474120e-04 & 20 & CD8unknown & RPS10\\_CD8unknown  & 0.04981620\\\\\n",
       "\t HLA-DQA1 & 6 & HLA-DQA1 & 32595956 & rs28383312 & 6 & 32587090 & C & T & 0.594778 & ⋯ & 0.03867460 & 2.592618e-43 &  0.383576 & 0.0945003 & 4.928454e-05 & 1.828638e-05 & 20 & MonoNC     & HLA-DQA1\\_MonoNC   & 0.04981620\\\\\n",
       "\t HLA-B    & 6 & HLA-B    & 31321649 & rs9264579  & 6 & 31235746 & G & A & 0.453578 & ⋯ & 0.01455890 & 1.267330e-60 & -0.853511 & 0.2081550 & 4.124910e-05 & 1.062979e-07 & 20 & NKact      & HLA-B\\_NKact       & 0.04981620\\\\\n",
       "\t HLA-DRB1 & 6 & HLA-DRB1 & 32546546 & rs74927567 & 6 & 32597064 & G & A & 0.394101 & ⋯ & 0.03929040 & 5.966581e-13 & -1.056050 & 0.2285540 & 3.826358e-06 & 5.936424e-03 & 20 & NKact      & HLA-DRB1\\_NKact    & 0.03921362\\\\\n",
       "\t RPS10    & 6 & RPS10    & 34385231 & rs9380433  & 6 & 34377626 & C & T & 0.181335 & ⋯ & 0.00876975 & 7.005996e-75 & -1.756910 & 0.4494350 & 9.262139e-05 & 1.689510e-03 & 20 & NKmat      & RPS10\\_NKmat       & 0.04981620\\\\\n",
       "\t HLA-B    & 6 & HLA-B    & 31321649 & rs9264579  & 6 & 31235746 & G & A & 0.453578 & ⋯ & 0.02731940 & 1.245964e-31 & -0.638431 & 0.1603390 & 6.840469e-05 & 6.228809e-07 & 20 & Plasma     & HLA-B\\_Plasma      & 0.04981620\\\\\n",
       "\t HLA-DQA1 & 6 & HLA-DQA1 & 32595956 & rs646984   & 6 & 32576592 & A & C & 0.579304 & ⋯ & 0.05357410 & 1.679753e-17 &  0.472889 & 0.1209340 & 9.218057e-05 & 7.662493e-03 & 20 & Plasma     & HLA-DQA1\\_Plasma   & 0.04981620\\\\\n",
       "\\end{tabular}\n"
      ],
      "text/markdown": [
       "\n",
       "A data.table: 21 × 24\n",
       "\n",
       "| probeID &lt;chr&gt; | ProbeChr &lt;int&gt; | Gene &lt;chr&gt; | Probe_bp &lt;int&gt; | topSNP &lt;chr&gt; | topSNP_chr &lt;int&gt; | topSNP_bp &lt;int&gt; | A1 &lt;chr&gt; | A2 &lt;chr&gt; | Freq &lt;dbl&gt; | ⋯ ⋯ | se_eQTL &lt;dbl&gt; | p_eQTL &lt;dbl&gt; | b_SMR &lt;dbl&gt; | se_SMR &lt;dbl&gt; | p_SMR &lt;dbl&gt; | p_HEIDI &lt;dbl&gt; | nsnp_HEIDI &lt;int&gt; | Cell_type &lt;chr&gt; | comb &lt;chr&gt; | qv &lt;dbl&gt; |\n",
       "|---|---|---|---|---|---|---|---|---|---|---|---|---|---|---|---|---|---|---|---|---|\n",
       "| HLA-A    | 6 | HLA-A    | 29909037 | rs2844810  | 6 | 29923580 | G | C | 0.413926 | ⋯ | 0.01122630 | 1.379438e-44 |  1.393820 | 0.3587140 | 1.020795e-04 | 9.597639e-06 | 20 | BimmNaive  | HLA-A_BimmNaive   | 0.04981620 |\n",
       "| FAM167A  | 8 | FAM167A  | 11278972 | rs4840568  | 8 | 11351019 | G | A | 0.728723 | ⋯ | 0.12425900 | 3.978588e-18 | -0.210294 | 0.0536299 | 8.810483e-05 | 7.108002e-01 | 20 | BimmNaive  | FAM167A_BimmNaive | 0.04981620 |\n",
       "| BLK      | 8 | BLK      | 11351510 | rs2736338  | 8 | 11341883 | A | C | 0.739845 | ⋯ | 0.01376120 | 1.817536e-38 |  1.230960 | 0.3096200 | 7.016493e-05 | 5.842275e-01 | 20 | Bmem       | BLK_Bmem          | 0.04981620 |\n",
       "| HLA-B    | 6 | HLA-B    | 31321649 | rs9264579  | 6 | 31235746 | G | A | 0.453578 | ⋯ | 0.01286970 | 4.068664e-81 | -0.831398 | 0.2011220 | 3.567982e-05 | 1.187305e-07 | 20 | CD4all     | HLA-B_CD4all      | 0.04981620 |\n",
       "| RNF5     | 6 | RNF5     | 32146131 | rs3131297  | 6 | 32141005 | A | T | 0.773694 | ⋯ | 0.01725810 | 1.089559e-09 | -4.092210 | 0.9559840 | 1.863741e-05 | 2.158111e-05 | 19 | CD4all     | RNF5_CD4all       | 0.04981620 |\n",
       "| HLA-DMA  | 6 | HLA-DMA  | 32916390 | rs76088152 | 6 | 32946322 | G | A | 0.925532 | ⋯ | 0.03106610 | 1.182231e-14 | -2.123320 | 0.4937350 | 1.703934e-05 | 5.374339e-03 | 20 | CD4all     | HLA-DMA_CD4all    | 0.04981620 |\n",
       "| RPS10    | 6 | RPS10    | 34385231 | rs9380433  | 6 | 34377626 | C | T | 0.181335 | ⋯ | 0.00941291 | 3.944415e-92 | -1.472120 | 0.3749400 | 8.626438e-05 | 7.428540e-04 | 20 | CD4all     | RPS10_CD4all      | 0.04981620 |\n",
       "| HLA-B    | 6 | HLA-B    | 31321649 | rs9264579  | 6 | 31235746 | G | A | 0.453578 | ⋯ | 0.01339460 | 6.457310e-77 | -0.820872 | 0.1988360 | 3.653178e-05 | 1.179006e-06 | 20 | CD4effCM   | HLA-B_CD4effCM    | 0.04981620 |\n",
       "| RPS10    | 6 | RPS10    | 34385231 | rs9380433  | 6 | 34377626 | C | T | 0.181335 | ⋯ | 0.01007030 | 1.231940e-75 | -1.522170 | 0.3892950 | 9.227231e-05 | 6.065366e-04 | 20 | CD4effCM   | RPS10_CD4effCM    | 0.04981620 |\n",
       "| HLA-B    | 6 | HLA-B    | 31321649 | rs9264579  | 6 | 31235746 | G | A | 0.453578 | ⋯ | 0.01252000 | 1.838895e-80 | -0.858176 | 0.2076400 | 3.580570e-05 | 4.446047e-07 | 20 | CD8all     | HLA-B_CD8all      | 0.04981620 |\n",
       "| RPS10    | 6 | RPS10    | 34385231 | rs9380433  | 6 | 34377626 | C | T | 0.181335 | ⋯ | 0.01095370 | 1.270046e-66 | -1.493610 | 0.3831900 | 9.705548e-05 | 1.039552e-03 | 20 | CD8all     | RPS10_CD8all      | 0.04981620 |\n",
       "| HLA-DRB1 | 6 | HLA-DRB1 | 32546546 | rs74587827 | 6 | 32567757 | G | A | 0.669246 | ⋯ | 0.01851990 | 1.387291e-12 | -1.731460 | 0.4450010 | 9.986994e-05 | 4.021287e-03 | 20 | CD8eff     | HLA-DRB1_CD8eff   | 0.04981620 |\n",
       "| RPS10    | 6 | RPS10    | 34385231 | rs9380433  | 6 | 34377626 | C | T | 0.181335 | ⋯ | 0.00933569 | 7.242519e-94 | -1.470220 | 0.3743230 | 8.577123e-05 | 1.607780e-03 | 20 | CD8eff     | RPS10_CD8eff      | 0.04981620 |\n",
       "| HLA-B    | 6 | HLA-B    | 31321649 | rs9264579  | 6 | 31235746 | G | A | 0.453578 | ⋯ | 0.01364970 | 1.802061e-71 | -0.836451 | 0.2030010 | 3.781811e-05 | 1.187528e-06 | 20 | CD8unknown | HLA-B_CD8unknown  | 0.04981620 |\n",
       "| RPS10    | 6 | RPS10    | 34385231 | rs9380433  | 6 | 34377626 | C | T | 0.181335 | ⋯ | 0.01148410 | 1.595592e-61 | -1.484240 | 0.3816150 | 1.005103e-04 | 7.474120e-04 | 20 | CD8unknown | RPS10_CD8unknown  | 0.04981620 |\n",
       "| HLA-DQA1 | 6 | HLA-DQA1 | 32595956 | rs28383312 | 6 | 32587090 | C | T | 0.594778 | ⋯ | 0.03867460 | 2.592618e-43 |  0.383576 | 0.0945003 | 4.928454e-05 | 1.828638e-05 | 20 | MonoNC     | HLA-DQA1_MonoNC   | 0.04981620 |\n",
       "| HLA-B    | 6 | HLA-B    | 31321649 | rs9264579  | 6 | 31235746 | G | A | 0.453578 | ⋯ | 0.01455890 | 1.267330e-60 | -0.853511 | 0.2081550 | 4.124910e-05 | 1.062979e-07 | 20 | NKact      | HLA-B_NKact       | 0.04981620 |\n",
       "| HLA-DRB1 | 6 | HLA-DRB1 | 32546546 | rs74927567 | 6 | 32597064 | G | A | 0.394101 | ⋯ | 0.03929040 | 5.966581e-13 | -1.056050 | 0.2285540 | 3.826358e-06 | 5.936424e-03 | 20 | NKact      | HLA-DRB1_NKact    | 0.03921362 |\n",
       "| RPS10    | 6 | RPS10    | 34385231 | rs9380433  | 6 | 34377626 | C | T | 0.181335 | ⋯ | 0.00876975 | 7.005996e-75 | -1.756910 | 0.4494350 | 9.262139e-05 | 1.689510e-03 | 20 | NKmat      | RPS10_NKmat       | 0.04981620 |\n",
       "| HLA-B    | 6 | HLA-B    | 31321649 | rs9264579  | 6 | 31235746 | G | A | 0.453578 | ⋯ | 0.02731940 | 1.245964e-31 | -0.638431 | 0.1603390 | 6.840469e-05 | 6.228809e-07 | 20 | Plasma     | HLA-B_Plasma      | 0.04981620 |\n",
       "| HLA-DQA1 | 6 | HLA-DQA1 | 32595956 | rs646984   | 6 | 32576592 | A | C | 0.579304 | ⋯ | 0.05357410 | 1.679753e-17 |  0.472889 | 0.1209340 | 9.218057e-05 | 7.662493e-03 | 20 | Plasma     | HLA-DQA1_Plasma   | 0.04981620 |\n",
       "\n"
      ],
      "text/plain": [
       "   probeID  ProbeChr Gene     Probe_bp topSNP     topSNP_chr topSNP_bp A1 A2\n",
       "1  HLA-A    6        HLA-A    29909037 rs2844810  6          29923580  G  C \n",
       "2  FAM167A  8        FAM167A  11278972 rs4840568  8          11351019  G  A \n",
       "3  BLK      8        BLK      11351510 rs2736338  8          11341883  A  C \n",
       "4  HLA-B    6        HLA-B    31321649 rs9264579  6          31235746  G  A \n",
       "5  RNF5     6        RNF5     32146131 rs3131297  6          32141005  A  T \n",
       "6  HLA-DMA  6        HLA-DMA  32916390 rs76088152 6          32946322  G  A \n",
       "7  RPS10    6        RPS10    34385231 rs9380433  6          34377626  C  T \n",
       "8  HLA-B    6        HLA-B    31321649 rs9264579  6          31235746  G  A \n",
       "9  RPS10    6        RPS10    34385231 rs9380433  6          34377626  C  T \n",
       "10 HLA-B    6        HLA-B    31321649 rs9264579  6          31235746  G  A \n",
       "11 RPS10    6        RPS10    34385231 rs9380433  6          34377626  C  T \n",
       "12 HLA-DRB1 6        HLA-DRB1 32546546 rs74587827 6          32567757  G  A \n",
       "13 RPS10    6        RPS10    34385231 rs9380433  6          34377626  C  T \n",
       "14 HLA-B    6        HLA-B    31321649 rs9264579  6          31235746  G  A \n",
       "15 RPS10    6        RPS10    34385231 rs9380433  6          34377626  C  T \n",
       "16 HLA-DQA1 6        HLA-DQA1 32595956 rs28383312 6          32587090  C  T \n",
       "17 HLA-B    6        HLA-B    31321649 rs9264579  6          31235746  G  A \n",
       "18 HLA-DRB1 6        HLA-DRB1 32546546 rs74927567 6          32597064  G  A \n",
       "19 RPS10    6        RPS10    34385231 rs9380433  6          34377626  C  T \n",
       "20 HLA-B    6        HLA-B    31321649 rs9264579  6          31235746  G  A \n",
       "21 HLA-DQA1 6        HLA-DQA1 32595956 rs646984   6          32576592  A  C \n",
       "   Freq     ⋯ se_eQTL    p_eQTL       b_SMR     se_SMR    p_SMR       \n",
       "1  0.413926 ⋯ 0.01122630 1.379438e-44  1.393820 0.3587140 1.020795e-04\n",
       "2  0.728723 ⋯ 0.12425900 3.978588e-18 -0.210294 0.0536299 8.810483e-05\n",
       "3  0.739845 ⋯ 0.01376120 1.817536e-38  1.230960 0.3096200 7.016493e-05\n",
       "4  0.453578 ⋯ 0.01286970 4.068664e-81 -0.831398 0.2011220 3.567982e-05\n",
       "5  0.773694 ⋯ 0.01725810 1.089559e-09 -4.092210 0.9559840 1.863741e-05\n",
       "6  0.925532 ⋯ 0.03106610 1.182231e-14 -2.123320 0.4937350 1.703934e-05\n",
       "7  0.181335 ⋯ 0.00941291 3.944415e-92 -1.472120 0.3749400 8.626438e-05\n",
       "8  0.453578 ⋯ 0.01339460 6.457310e-77 -0.820872 0.1988360 3.653178e-05\n",
       "9  0.181335 ⋯ 0.01007030 1.231940e-75 -1.522170 0.3892950 9.227231e-05\n",
       "10 0.453578 ⋯ 0.01252000 1.838895e-80 -0.858176 0.2076400 3.580570e-05\n",
       "11 0.181335 ⋯ 0.01095370 1.270046e-66 -1.493610 0.3831900 9.705548e-05\n",
       "12 0.669246 ⋯ 0.01851990 1.387291e-12 -1.731460 0.4450010 9.986994e-05\n",
       "13 0.181335 ⋯ 0.00933569 7.242519e-94 -1.470220 0.3743230 8.577123e-05\n",
       "14 0.453578 ⋯ 0.01364970 1.802061e-71 -0.836451 0.2030010 3.781811e-05\n",
       "15 0.181335 ⋯ 0.01148410 1.595592e-61 -1.484240 0.3816150 1.005103e-04\n",
       "16 0.594778 ⋯ 0.03867460 2.592618e-43  0.383576 0.0945003 4.928454e-05\n",
       "17 0.453578 ⋯ 0.01455890 1.267330e-60 -0.853511 0.2081550 4.124910e-05\n",
       "18 0.394101 ⋯ 0.03929040 5.966581e-13 -1.056050 0.2285540 3.826358e-06\n",
       "19 0.181335 ⋯ 0.00876975 7.005996e-75 -1.756910 0.4494350 9.262139e-05\n",
       "20 0.453578 ⋯ 0.02731940 1.245964e-31 -0.638431 0.1603390 6.840469e-05\n",
       "21 0.579304 ⋯ 0.05357410 1.679753e-17  0.472889 0.1209340 9.218057e-05\n",
       "   p_HEIDI      nsnp_HEIDI Cell_type  comb              qv        \n",
       "1  9.597639e-06 20         BimmNaive  HLA-A_BimmNaive   0.04981620\n",
       "2  7.108002e-01 20         BimmNaive  FAM167A_BimmNaive 0.04981620\n",
       "3  5.842275e-01 20         Bmem       BLK_Bmem          0.04981620\n",
       "4  1.187305e-07 20         CD4all     HLA-B_CD4all      0.04981620\n",
       "5  2.158111e-05 19         CD4all     RNF5_CD4all       0.04981620\n",
       "6  5.374339e-03 20         CD4all     HLA-DMA_CD4all    0.04981620\n",
       "7  7.428540e-04 20         CD4all     RPS10_CD4all      0.04981620\n",
       "8  1.179006e-06 20         CD4effCM   HLA-B_CD4effCM    0.04981620\n",
       "9  6.065366e-04 20         CD4effCM   RPS10_CD4effCM    0.04981620\n",
       "10 4.446047e-07 20         CD8all     HLA-B_CD8all      0.04981620\n",
       "11 1.039552e-03 20         CD8all     RPS10_CD8all      0.04981620\n",
       "12 4.021287e-03 20         CD8eff     HLA-DRB1_CD8eff   0.04981620\n",
       "13 1.607780e-03 20         CD8eff     RPS10_CD8eff      0.04981620\n",
       "14 1.187528e-06 20         CD8unknown HLA-B_CD8unknown  0.04981620\n",
       "15 7.474120e-04 20         CD8unknown RPS10_CD8unknown  0.04981620\n",
       "16 1.828638e-05 20         MonoNC     HLA-DQA1_MonoNC   0.04981620\n",
       "17 1.062979e-07 20         NKact      HLA-B_NKact       0.04981620\n",
       "18 5.936424e-03 20         NKact      HLA-DRB1_NKact    0.03921362\n",
       "19 1.689510e-03 20         NKmat      RPS10_NKmat       0.04981620\n",
       "20 6.228809e-07 20         Plasma     HLA-B_Plasma      0.04981620\n",
       "21 7.662493e-03 20         Plasma     HLA-DQA1_Plasma   0.04981620"
      ]
     },
     "metadata": {},
     "output_type": "display_data"
    }
   ],
   "source": [
    "saige_df_common[saige_df_common$qv < 0.05,]"
   ]
  },
  {
   "cell_type": "code",
   "execution_count": null,
   "id": "f68665d3",
   "metadata": {},
   "outputs": [],
   "source": []
  },
  {
   "cell_type": "code",
   "execution_count": null,
   "id": "8c40feb9",
   "metadata": {},
   "outputs": [],
   "source": []
  },
  {
   "cell_type": "code",
   "execution_count": 19,
   "id": "8c40f2d0",
   "metadata": {},
   "outputs": [
    {
     "data": {
      "text/html": [
       "<table class=\"dataframe\">\n",
       "<caption>A data.table: 21 × 24</caption>\n",
       "<thead>\n",
       "\t<tr><th scope=col>probeID</th><th scope=col>ProbeChr</th><th scope=col>Gene</th><th scope=col>Probe_bp</th><th scope=col>topSNP</th><th scope=col>topSNP_chr</th><th scope=col>topSNP_bp</th><th scope=col>A1</th><th scope=col>A2</th><th scope=col>Freq</th><th scope=col>⋯</th><th scope=col>se_eQTL</th><th scope=col>p_eQTL</th><th scope=col>b_SMR</th><th scope=col>se_SMR</th><th scope=col>p_SMR</th><th scope=col>p_HEIDI</th><th scope=col>nsnp_HEIDI</th><th scope=col>Cell_type</th><th scope=col>comb</th><th scope=col>qv</th></tr>\n",
       "\t<tr><th scope=col>&lt;chr&gt;</th><th scope=col>&lt;int&gt;</th><th scope=col>&lt;chr&gt;</th><th scope=col>&lt;int&gt;</th><th scope=col>&lt;chr&gt;</th><th scope=col>&lt;int&gt;</th><th scope=col>&lt;int&gt;</th><th scope=col>&lt;chr&gt;</th><th scope=col>&lt;chr&gt;</th><th scope=col>&lt;dbl&gt;</th><th scope=col>⋯</th><th scope=col>&lt;dbl&gt;</th><th scope=col>&lt;dbl&gt;</th><th scope=col>&lt;dbl&gt;</th><th scope=col>&lt;dbl&gt;</th><th scope=col>&lt;dbl&gt;</th><th scope=col>&lt;dbl&gt;</th><th scope=col>&lt;int&gt;</th><th scope=col>&lt;chr&gt;</th><th scope=col>&lt;chr&gt;</th><th scope=col>&lt;dbl&gt;</th></tr>\n",
       "</thead>\n",
       "<tbody>\n",
       "\t<tr><td>HLA-A   </td><td>6</td><td>HLA-A   </td><td>29909037</td><td>rs2844810 </td><td>6</td><td>29923580</td><td>G</td><td>C</td><td>0.413926</td><td>⋯</td><td>0.01122630</td><td>1.379438e-44</td><td> 1.393820</td><td>0.3587140</td><td>1.020795e-04</td><td>9.597639e-06</td><td>20</td><td>BimmNaive </td><td>HLA-A_BimmNaive  </td><td>0.04981620</td></tr>\n",
       "\t<tr><td>FAM167A </td><td>8</td><td>FAM167A </td><td>11278972</td><td>rs4840568 </td><td>8</td><td>11351019</td><td>G</td><td>A</td><td>0.728723</td><td>⋯</td><td>0.12425900</td><td>3.978588e-18</td><td>-0.210294</td><td>0.0536299</td><td>8.810483e-05</td><td>7.108002e-01</td><td>20</td><td>BimmNaive </td><td>FAM167A_BimmNaive</td><td>0.04981620</td></tr>\n",
       "\t<tr><td>BLK     </td><td>8</td><td>BLK     </td><td>11351510</td><td>rs2736338 </td><td>8</td><td>11341883</td><td>A</td><td>C</td><td>0.739845</td><td>⋯</td><td>0.01376120</td><td>1.817536e-38</td><td> 1.230960</td><td>0.3096200</td><td>7.016493e-05</td><td>5.842275e-01</td><td>20</td><td>Bmem      </td><td>BLK_Bmem         </td><td>0.04981620</td></tr>\n",
       "\t<tr><td>HLA-B   </td><td>6</td><td>HLA-B   </td><td>31321649</td><td>rs9264579 </td><td>6</td><td>31235746</td><td>G</td><td>A</td><td>0.453578</td><td>⋯</td><td>0.01286970</td><td>4.068664e-81</td><td>-0.831398</td><td>0.2011220</td><td>3.567982e-05</td><td>1.187305e-07</td><td>20</td><td>CD4all    </td><td>HLA-B_CD4all     </td><td>0.04981620</td></tr>\n",
       "\t<tr><td>RNF5    </td><td>6</td><td>RNF5    </td><td>32146131</td><td>rs3131297 </td><td>6</td><td>32141005</td><td>A</td><td>T</td><td>0.773694</td><td>⋯</td><td>0.01725810</td><td>1.089559e-09</td><td>-4.092210</td><td>0.9559840</td><td>1.863741e-05</td><td>2.158111e-05</td><td>19</td><td>CD4all    </td><td>RNF5_CD4all      </td><td>0.04981620</td></tr>\n",
       "\t<tr><td>HLA-DMA </td><td>6</td><td>HLA-DMA </td><td>32916390</td><td>rs76088152</td><td>6</td><td>32946322</td><td>G</td><td>A</td><td>0.925532</td><td>⋯</td><td>0.03106610</td><td>1.182231e-14</td><td>-2.123320</td><td>0.4937350</td><td>1.703934e-05</td><td>5.374339e-03</td><td>20</td><td>CD4all    </td><td>HLA-DMA_CD4all   </td><td>0.04981620</td></tr>\n",
       "\t<tr><td>RPS10   </td><td>6</td><td>RPS10   </td><td>34385231</td><td>rs9380433 </td><td>6</td><td>34377626</td><td>C</td><td>T</td><td>0.181335</td><td>⋯</td><td>0.00941291</td><td>3.944415e-92</td><td>-1.472120</td><td>0.3749400</td><td>8.626438e-05</td><td>7.428540e-04</td><td>20</td><td>CD4all    </td><td>RPS10_CD4all     </td><td>0.04981620</td></tr>\n",
       "\t<tr><td>HLA-B   </td><td>6</td><td>HLA-B   </td><td>31321649</td><td>rs9264579 </td><td>6</td><td>31235746</td><td>G</td><td>A</td><td>0.453578</td><td>⋯</td><td>0.01339460</td><td>6.457310e-77</td><td>-0.820872</td><td>0.1988360</td><td>3.653178e-05</td><td>1.179006e-06</td><td>20</td><td>CD4effCM  </td><td>HLA-B_CD4effCM   </td><td>0.04981620</td></tr>\n",
       "\t<tr><td>RPS10   </td><td>6</td><td>RPS10   </td><td>34385231</td><td>rs9380433 </td><td>6</td><td>34377626</td><td>C</td><td>T</td><td>0.181335</td><td>⋯</td><td>0.01007030</td><td>1.231940e-75</td><td>-1.522170</td><td>0.3892950</td><td>9.227231e-05</td><td>6.065366e-04</td><td>20</td><td>CD4effCM  </td><td>RPS10_CD4effCM   </td><td>0.04981620</td></tr>\n",
       "\t<tr><td>HLA-B   </td><td>6</td><td>HLA-B   </td><td>31321649</td><td>rs9264579 </td><td>6</td><td>31235746</td><td>G</td><td>A</td><td>0.453578</td><td>⋯</td><td>0.01252000</td><td>1.838895e-80</td><td>-0.858176</td><td>0.2076400</td><td>3.580570e-05</td><td>4.446047e-07</td><td>20</td><td>CD8all    </td><td>HLA-B_CD8all     </td><td>0.04981620</td></tr>\n",
       "\t<tr><td>RPS10   </td><td>6</td><td>RPS10   </td><td>34385231</td><td>rs9380433 </td><td>6</td><td>34377626</td><td>C</td><td>T</td><td>0.181335</td><td>⋯</td><td>0.01095370</td><td>1.270046e-66</td><td>-1.493610</td><td>0.3831900</td><td>9.705548e-05</td><td>1.039552e-03</td><td>20</td><td>CD8all    </td><td>RPS10_CD8all     </td><td>0.04981620</td></tr>\n",
       "\t<tr><td>HLA-DRB1</td><td>6</td><td>HLA-DRB1</td><td>32546546</td><td>rs74587827</td><td>6</td><td>32567757</td><td>G</td><td>A</td><td>0.669246</td><td>⋯</td><td>0.01851990</td><td>1.387291e-12</td><td>-1.731460</td><td>0.4450010</td><td>9.986994e-05</td><td>4.021287e-03</td><td>20</td><td>CD8eff    </td><td>HLA-DRB1_CD8eff  </td><td>0.04981620</td></tr>\n",
       "\t<tr><td>RPS10   </td><td>6</td><td>RPS10   </td><td>34385231</td><td>rs9380433 </td><td>6</td><td>34377626</td><td>C</td><td>T</td><td>0.181335</td><td>⋯</td><td>0.00933569</td><td>7.242519e-94</td><td>-1.470220</td><td>0.3743230</td><td>8.577123e-05</td><td>1.607780e-03</td><td>20</td><td>CD8eff    </td><td>RPS10_CD8eff     </td><td>0.04981620</td></tr>\n",
       "\t<tr><td>HLA-B   </td><td>6</td><td>HLA-B   </td><td>31321649</td><td>rs9264579 </td><td>6</td><td>31235746</td><td>G</td><td>A</td><td>0.453578</td><td>⋯</td><td>0.01364970</td><td>1.802061e-71</td><td>-0.836451</td><td>0.2030010</td><td>3.781811e-05</td><td>1.187528e-06</td><td>20</td><td>CD8unknown</td><td>HLA-B_CD8unknown </td><td>0.04981620</td></tr>\n",
       "\t<tr><td>RPS10   </td><td>6</td><td>RPS10   </td><td>34385231</td><td>rs9380433 </td><td>6</td><td>34377626</td><td>C</td><td>T</td><td>0.181335</td><td>⋯</td><td>0.01148410</td><td>1.595592e-61</td><td>-1.484240</td><td>0.3816150</td><td>1.005103e-04</td><td>7.474120e-04</td><td>20</td><td>CD8unknown</td><td>RPS10_CD8unknown </td><td>0.04981620</td></tr>\n",
       "\t<tr><td>HLA-DQA1</td><td>6</td><td>HLA-DQA1</td><td>32595956</td><td>rs28383312</td><td>6</td><td>32587090</td><td>C</td><td>T</td><td>0.594778</td><td>⋯</td><td>0.03867460</td><td>2.592618e-43</td><td> 0.383576</td><td>0.0945003</td><td>4.928454e-05</td><td>1.828638e-05</td><td>20</td><td>MonoNC    </td><td>HLA-DQA1_MonoNC  </td><td>0.04981620</td></tr>\n",
       "\t<tr><td>HLA-B   </td><td>6</td><td>HLA-B   </td><td>31321649</td><td>rs9264579 </td><td>6</td><td>31235746</td><td>G</td><td>A</td><td>0.453578</td><td>⋯</td><td>0.01455890</td><td>1.267330e-60</td><td>-0.853511</td><td>0.2081550</td><td>4.124910e-05</td><td>1.062979e-07</td><td>20</td><td>NKact     </td><td>HLA-B_NKact      </td><td>0.04981620</td></tr>\n",
       "\t<tr><td>HLA-DRB1</td><td>6</td><td>HLA-DRB1</td><td>32546546</td><td>rs74927567</td><td>6</td><td>32597064</td><td>G</td><td>A</td><td>0.394101</td><td>⋯</td><td>0.03929040</td><td>5.966581e-13</td><td>-1.056050</td><td>0.2285540</td><td>3.826358e-06</td><td>5.936424e-03</td><td>20</td><td>NKact     </td><td>HLA-DRB1_NKact   </td><td>0.03921362</td></tr>\n",
       "\t<tr><td>RPS10   </td><td>6</td><td>RPS10   </td><td>34385231</td><td>rs9380433 </td><td>6</td><td>34377626</td><td>C</td><td>T</td><td>0.181335</td><td>⋯</td><td>0.00876975</td><td>7.005996e-75</td><td>-1.756910</td><td>0.4494350</td><td>9.262139e-05</td><td>1.689510e-03</td><td>20</td><td>NKmat     </td><td>RPS10_NKmat      </td><td>0.04981620</td></tr>\n",
       "\t<tr><td>HLA-B   </td><td>6</td><td>HLA-B   </td><td>31321649</td><td>rs9264579 </td><td>6</td><td>31235746</td><td>G</td><td>A</td><td>0.453578</td><td>⋯</td><td>0.02731940</td><td>1.245964e-31</td><td>-0.638431</td><td>0.1603390</td><td>6.840469e-05</td><td>6.228809e-07</td><td>20</td><td>Plasma    </td><td>HLA-B_Plasma     </td><td>0.04981620</td></tr>\n",
       "\t<tr><td>HLA-DQA1</td><td>6</td><td>HLA-DQA1</td><td>32595956</td><td>rs646984  </td><td>6</td><td>32576592</td><td>A</td><td>C</td><td>0.579304</td><td>⋯</td><td>0.05357410</td><td>1.679753e-17</td><td> 0.472889</td><td>0.1209340</td><td>9.218057e-05</td><td>7.662493e-03</td><td>20</td><td>Plasma    </td><td>HLA-DQA1_Plasma  </td><td>0.04981620</td></tr>\n",
       "</tbody>\n",
       "</table>\n"
      ],
      "text/latex": [
       "A data.table: 21 × 24\n",
       "\\begin{tabular}{lllllllllllllllllllll}\n",
       " probeID & ProbeChr & Gene & Probe\\_bp & topSNP & topSNP\\_chr & topSNP\\_bp & A1 & A2 & Freq & ⋯ & se\\_eQTL & p\\_eQTL & b\\_SMR & se\\_SMR & p\\_SMR & p\\_HEIDI & nsnp\\_HEIDI & Cell\\_type & comb & qv\\\\\n",
       " <chr> & <int> & <chr> & <int> & <chr> & <int> & <int> & <chr> & <chr> & <dbl> & ⋯ & <dbl> & <dbl> & <dbl> & <dbl> & <dbl> & <dbl> & <int> & <chr> & <chr> & <dbl>\\\\\n",
       "\\hline\n",
       "\t HLA-A    & 6 & HLA-A    & 29909037 & rs2844810  & 6 & 29923580 & G & C & 0.413926 & ⋯ & 0.01122630 & 1.379438e-44 &  1.393820 & 0.3587140 & 1.020795e-04 & 9.597639e-06 & 20 & BimmNaive  & HLA-A\\_BimmNaive   & 0.04981620\\\\\n",
       "\t FAM167A  & 8 & FAM167A  & 11278972 & rs4840568  & 8 & 11351019 & G & A & 0.728723 & ⋯ & 0.12425900 & 3.978588e-18 & -0.210294 & 0.0536299 & 8.810483e-05 & 7.108002e-01 & 20 & BimmNaive  & FAM167A\\_BimmNaive & 0.04981620\\\\\n",
       "\t BLK      & 8 & BLK      & 11351510 & rs2736338  & 8 & 11341883 & A & C & 0.739845 & ⋯ & 0.01376120 & 1.817536e-38 &  1.230960 & 0.3096200 & 7.016493e-05 & 5.842275e-01 & 20 & Bmem       & BLK\\_Bmem          & 0.04981620\\\\\n",
       "\t HLA-B    & 6 & HLA-B    & 31321649 & rs9264579  & 6 & 31235746 & G & A & 0.453578 & ⋯ & 0.01286970 & 4.068664e-81 & -0.831398 & 0.2011220 & 3.567982e-05 & 1.187305e-07 & 20 & CD4all     & HLA-B\\_CD4all      & 0.04981620\\\\\n",
       "\t RNF5     & 6 & RNF5     & 32146131 & rs3131297  & 6 & 32141005 & A & T & 0.773694 & ⋯ & 0.01725810 & 1.089559e-09 & -4.092210 & 0.9559840 & 1.863741e-05 & 2.158111e-05 & 19 & CD4all     & RNF5\\_CD4all       & 0.04981620\\\\\n",
       "\t HLA-DMA  & 6 & HLA-DMA  & 32916390 & rs76088152 & 6 & 32946322 & G & A & 0.925532 & ⋯ & 0.03106610 & 1.182231e-14 & -2.123320 & 0.4937350 & 1.703934e-05 & 5.374339e-03 & 20 & CD4all     & HLA-DMA\\_CD4all    & 0.04981620\\\\\n",
       "\t RPS10    & 6 & RPS10    & 34385231 & rs9380433  & 6 & 34377626 & C & T & 0.181335 & ⋯ & 0.00941291 & 3.944415e-92 & -1.472120 & 0.3749400 & 8.626438e-05 & 7.428540e-04 & 20 & CD4all     & RPS10\\_CD4all      & 0.04981620\\\\\n",
       "\t HLA-B    & 6 & HLA-B    & 31321649 & rs9264579  & 6 & 31235746 & G & A & 0.453578 & ⋯ & 0.01339460 & 6.457310e-77 & -0.820872 & 0.1988360 & 3.653178e-05 & 1.179006e-06 & 20 & CD4effCM   & HLA-B\\_CD4effCM    & 0.04981620\\\\\n",
       "\t RPS10    & 6 & RPS10    & 34385231 & rs9380433  & 6 & 34377626 & C & T & 0.181335 & ⋯ & 0.01007030 & 1.231940e-75 & -1.522170 & 0.3892950 & 9.227231e-05 & 6.065366e-04 & 20 & CD4effCM   & RPS10\\_CD4effCM    & 0.04981620\\\\\n",
       "\t HLA-B    & 6 & HLA-B    & 31321649 & rs9264579  & 6 & 31235746 & G & A & 0.453578 & ⋯ & 0.01252000 & 1.838895e-80 & -0.858176 & 0.2076400 & 3.580570e-05 & 4.446047e-07 & 20 & CD8all     & HLA-B\\_CD8all      & 0.04981620\\\\\n",
       "\t RPS10    & 6 & RPS10    & 34385231 & rs9380433  & 6 & 34377626 & C & T & 0.181335 & ⋯ & 0.01095370 & 1.270046e-66 & -1.493610 & 0.3831900 & 9.705548e-05 & 1.039552e-03 & 20 & CD8all     & RPS10\\_CD8all      & 0.04981620\\\\\n",
       "\t HLA-DRB1 & 6 & HLA-DRB1 & 32546546 & rs74587827 & 6 & 32567757 & G & A & 0.669246 & ⋯ & 0.01851990 & 1.387291e-12 & -1.731460 & 0.4450010 & 9.986994e-05 & 4.021287e-03 & 20 & CD8eff     & HLA-DRB1\\_CD8eff   & 0.04981620\\\\\n",
       "\t RPS10    & 6 & RPS10    & 34385231 & rs9380433  & 6 & 34377626 & C & T & 0.181335 & ⋯ & 0.00933569 & 7.242519e-94 & -1.470220 & 0.3743230 & 8.577123e-05 & 1.607780e-03 & 20 & CD8eff     & RPS10\\_CD8eff      & 0.04981620\\\\\n",
       "\t HLA-B    & 6 & HLA-B    & 31321649 & rs9264579  & 6 & 31235746 & G & A & 0.453578 & ⋯ & 0.01364970 & 1.802061e-71 & -0.836451 & 0.2030010 & 3.781811e-05 & 1.187528e-06 & 20 & CD8unknown & HLA-B\\_CD8unknown  & 0.04981620\\\\\n",
       "\t RPS10    & 6 & RPS10    & 34385231 & rs9380433  & 6 & 34377626 & C & T & 0.181335 & ⋯ & 0.01148410 & 1.595592e-61 & -1.484240 & 0.3816150 & 1.005103e-04 & 7.474120e-04 & 20 & CD8unknown & RPS10\\_CD8unknown  & 0.04981620\\\\\n",
       "\t HLA-DQA1 & 6 & HLA-DQA1 & 32595956 & rs28383312 & 6 & 32587090 & C & T & 0.594778 & ⋯ & 0.03867460 & 2.592618e-43 &  0.383576 & 0.0945003 & 4.928454e-05 & 1.828638e-05 & 20 & MonoNC     & HLA-DQA1\\_MonoNC   & 0.04981620\\\\\n",
       "\t HLA-B    & 6 & HLA-B    & 31321649 & rs9264579  & 6 & 31235746 & G & A & 0.453578 & ⋯ & 0.01455890 & 1.267330e-60 & -0.853511 & 0.2081550 & 4.124910e-05 & 1.062979e-07 & 20 & NKact      & HLA-B\\_NKact       & 0.04981620\\\\\n",
       "\t HLA-DRB1 & 6 & HLA-DRB1 & 32546546 & rs74927567 & 6 & 32597064 & G & A & 0.394101 & ⋯ & 0.03929040 & 5.966581e-13 & -1.056050 & 0.2285540 & 3.826358e-06 & 5.936424e-03 & 20 & NKact      & HLA-DRB1\\_NKact    & 0.03921362\\\\\n",
       "\t RPS10    & 6 & RPS10    & 34385231 & rs9380433  & 6 & 34377626 & C & T & 0.181335 & ⋯ & 0.00876975 & 7.005996e-75 & -1.756910 & 0.4494350 & 9.262139e-05 & 1.689510e-03 & 20 & NKmat      & RPS10\\_NKmat       & 0.04981620\\\\\n",
       "\t HLA-B    & 6 & HLA-B    & 31321649 & rs9264579  & 6 & 31235746 & G & A & 0.453578 & ⋯ & 0.02731940 & 1.245964e-31 & -0.638431 & 0.1603390 & 6.840469e-05 & 6.228809e-07 & 20 & Plasma     & HLA-B\\_Plasma      & 0.04981620\\\\\n",
       "\t HLA-DQA1 & 6 & HLA-DQA1 & 32595956 & rs646984   & 6 & 32576592 & A & C & 0.579304 & ⋯ & 0.05357410 & 1.679753e-17 &  0.472889 & 0.1209340 & 9.218057e-05 & 7.662493e-03 & 20 & Plasma     & HLA-DQA1\\_Plasma   & 0.04981620\\\\\n",
       "\\end{tabular}\n"
      ],
      "text/markdown": [
       "\n",
       "A data.table: 21 × 24\n",
       "\n",
       "| probeID &lt;chr&gt; | ProbeChr &lt;int&gt; | Gene &lt;chr&gt; | Probe_bp &lt;int&gt; | topSNP &lt;chr&gt; | topSNP_chr &lt;int&gt; | topSNP_bp &lt;int&gt; | A1 &lt;chr&gt; | A2 &lt;chr&gt; | Freq &lt;dbl&gt; | ⋯ ⋯ | se_eQTL &lt;dbl&gt; | p_eQTL &lt;dbl&gt; | b_SMR &lt;dbl&gt; | se_SMR &lt;dbl&gt; | p_SMR &lt;dbl&gt; | p_HEIDI &lt;dbl&gt; | nsnp_HEIDI &lt;int&gt; | Cell_type &lt;chr&gt; | comb &lt;chr&gt; | qv &lt;dbl&gt; |\n",
       "|---|---|---|---|---|---|---|---|---|---|---|---|---|---|---|---|---|---|---|---|---|\n",
       "| HLA-A    | 6 | HLA-A    | 29909037 | rs2844810  | 6 | 29923580 | G | C | 0.413926 | ⋯ | 0.01122630 | 1.379438e-44 |  1.393820 | 0.3587140 | 1.020795e-04 | 9.597639e-06 | 20 | BimmNaive  | HLA-A_BimmNaive   | 0.04981620 |\n",
       "| FAM167A  | 8 | FAM167A  | 11278972 | rs4840568  | 8 | 11351019 | G | A | 0.728723 | ⋯ | 0.12425900 | 3.978588e-18 | -0.210294 | 0.0536299 | 8.810483e-05 | 7.108002e-01 | 20 | BimmNaive  | FAM167A_BimmNaive | 0.04981620 |\n",
       "| BLK      | 8 | BLK      | 11351510 | rs2736338  | 8 | 11341883 | A | C | 0.739845 | ⋯ | 0.01376120 | 1.817536e-38 |  1.230960 | 0.3096200 | 7.016493e-05 | 5.842275e-01 | 20 | Bmem       | BLK_Bmem          | 0.04981620 |\n",
       "| HLA-B    | 6 | HLA-B    | 31321649 | rs9264579  | 6 | 31235746 | G | A | 0.453578 | ⋯ | 0.01286970 | 4.068664e-81 | -0.831398 | 0.2011220 | 3.567982e-05 | 1.187305e-07 | 20 | CD4all     | HLA-B_CD4all      | 0.04981620 |\n",
       "| RNF5     | 6 | RNF5     | 32146131 | rs3131297  | 6 | 32141005 | A | T | 0.773694 | ⋯ | 0.01725810 | 1.089559e-09 | -4.092210 | 0.9559840 | 1.863741e-05 | 2.158111e-05 | 19 | CD4all     | RNF5_CD4all       | 0.04981620 |\n",
       "| HLA-DMA  | 6 | HLA-DMA  | 32916390 | rs76088152 | 6 | 32946322 | G | A | 0.925532 | ⋯ | 0.03106610 | 1.182231e-14 | -2.123320 | 0.4937350 | 1.703934e-05 | 5.374339e-03 | 20 | CD4all     | HLA-DMA_CD4all    | 0.04981620 |\n",
       "| RPS10    | 6 | RPS10    | 34385231 | rs9380433  | 6 | 34377626 | C | T | 0.181335 | ⋯ | 0.00941291 | 3.944415e-92 | -1.472120 | 0.3749400 | 8.626438e-05 | 7.428540e-04 | 20 | CD4all     | RPS10_CD4all      | 0.04981620 |\n",
       "| HLA-B    | 6 | HLA-B    | 31321649 | rs9264579  | 6 | 31235746 | G | A | 0.453578 | ⋯ | 0.01339460 | 6.457310e-77 | -0.820872 | 0.1988360 | 3.653178e-05 | 1.179006e-06 | 20 | CD4effCM   | HLA-B_CD4effCM    | 0.04981620 |\n",
       "| RPS10    | 6 | RPS10    | 34385231 | rs9380433  | 6 | 34377626 | C | T | 0.181335 | ⋯ | 0.01007030 | 1.231940e-75 | -1.522170 | 0.3892950 | 9.227231e-05 | 6.065366e-04 | 20 | CD4effCM   | RPS10_CD4effCM    | 0.04981620 |\n",
       "| HLA-B    | 6 | HLA-B    | 31321649 | rs9264579  | 6 | 31235746 | G | A | 0.453578 | ⋯ | 0.01252000 | 1.838895e-80 | -0.858176 | 0.2076400 | 3.580570e-05 | 4.446047e-07 | 20 | CD8all     | HLA-B_CD8all      | 0.04981620 |\n",
       "| RPS10    | 6 | RPS10    | 34385231 | rs9380433  | 6 | 34377626 | C | T | 0.181335 | ⋯ | 0.01095370 | 1.270046e-66 | -1.493610 | 0.3831900 | 9.705548e-05 | 1.039552e-03 | 20 | CD8all     | RPS10_CD8all      | 0.04981620 |\n",
       "| HLA-DRB1 | 6 | HLA-DRB1 | 32546546 | rs74587827 | 6 | 32567757 | G | A | 0.669246 | ⋯ | 0.01851990 | 1.387291e-12 | -1.731460 | 0.4450010 | 9.986994e-05 | 4.021287e-03 | 20 | CD8eff     | HLA-DRB1_CD8eff   | 0.04981620 |\n",
       "| RPS10    | 6 | RPS10    | 34385231 | rs9380433  | 6 | 34377626 | C | T | 0.181335 | ⋯ | 0.00933569 | 7.242519e-94 | -1.470220 | 0.3743230 | 8.577123e-05 | 1.607780e-03 | 20 | CD8eff     | RPS10_CD8eff      | 0.04981620 |\n",
       "| HLA-B    | 6 | HLA-B    | 31321649 | rs9264579  | 6 | 31235746 | G | A | 0.453578 | ⋯ | 0.01364970 | 1.802061e-71 | -0.836451 | 0.2030010 | 3.781811e-05 | 1.187528e-06 | 20 | CD8unknown | HLA-B_CD8unknown  | 0.04981620 |\n",
       "| RPS10    | 6 | RPS10    | 34385231 | rs9380433  | 6 | 34377626 | C | T | 0.181335 | ⋯ | 0.01148410 | 1.595592e-61 | -1.484240 | 0.3816150 | 1.005103e-04 | 7.474120e-04 | 20 | CD8unknown | RPS10_CD8unknown  | 0.04981620 |\n",
       "| HLA-DQA1 | 6 | HLA-DQA1 | 32595956 | rs28383312 | 6 | 32587090 | C | T | 0.594778 | ⋯ | 0.03867460 | 2.592618e-43 |  0.383576 | 0.0945003 | 4.928454e-05 | 1.828638e-05 | 20 | MonoNC     | HLA-DQA1_MonoNC   | 0.04981620 |\n",
       "| HLA-B    | 6 | HLA-B    | 31321649 | rs9264579  | 6 | 31235746 | G | A | 0.453578 | ⋯ | 0.01455890 | 1.267330e-60 | -0.853511 | 0.2081550 | 4.124910e-05 | 1.062979e-07 | 20 | NKact      | HLA-B_NKact       | 0.04981620 |\n",
       "| HLA-DRB1 | 6 | HLA-DRB1 | 32546546 | rs74927567 | 6 | 32597064 | G | A | 0.394101 | ⋯ | 0.03929040 | 5.966581e-13 | -1.056050 | 0.2285540 | 3.826358e-06 | 5.936424e-03 | 20 | NKact      | HLA-DRB1_NKact    | 0.03921362 |\n",
       "| RPS10    | 6 | RPS10    | 34385231 | rs9380433  | 6 | 34377626 | C | T | 0.181335 | ⋯ | 0.00876975 | 7.005996e-75 | -1.756910 | 0.4494350 | 9.262139e-05 | 1.689510e-03 | 20 | NKmat      | RPS10_NKmat       | 0.04981620 |\n",
       "| HLA-B    | 6 | HLA-B    | 31321649 | rs9264579  | 6 | 31235746 | G | A | 0.453578 | ⋯ | 0.02731940 | 1.245964e-31 | -0.638431 | 0.1603390 | 6.840469e-05 | 6.228809e-07 | 20 | Plasma     | HLA-B_Plasma      | 0.04981620 |\n",
       "| HLA-DQA1 | 6 | HLA-DQA1 | 32595956 | rs646984   | 6 | 32576592 | A | C | 0.579304 | ⋯ | 0.05357410 | 1.679753e-17 |  0.472889 | 0.1209340 | 9.218057e-05 | 7.662493e-03 | 20 | Plasma     | HLA-DQA1_Plasma   | 0.04981620 |\n",
       "\n"
      ],
      "text/plain": [
       "   probeID  ProbeChr Gene     Probe_bp topSNP     topSNP_chr topSNP_bp A1 A2\n",
       "1  HLA-A    6        HLA-A    29909037 rs2844810  6          29923580  G  C \n",
       "2  FAM167A  8        FAM167A  11278972 rs4840568  8          11351019  G  A \n",
       "3  BLK      8        BLK      11351510 rs2736338  8          11341883  A  C \n",
       "4  HLA-B    6        HLA-B    31321649 rs9264579  6          31235746  G  A \n",
       "5  RNF5     6        RNF5     32146131 rs3131297  6          32141005  A  T \n",
       "6  HLA-DMA  6        HLA-DMA  32916390 rs76088152 6          32946322  G  A \n",
       "7  RPS10    6        RPS10    34385231 rs9380433  6          34377626  C  T \n",
       "8  HLA-B    6        HLA-B    31321649 rs9264579  6          31235746  G  A \n",
       "9  RPS10    6        RPS10    34385231 rs9380433  6          34377626  C  T \n",
       "10 HLA-B    6        HLA-B    31321649 rs9264579  6          31235746  G  A \n",
       "11 RPS10    6        RPS10    34385231 rs9380433  6          34377626  C  T \n",
       "12 HLA-DRB1 6        HLA-DRB1 32546546 rs74587827 6          32567757  G  A \n",
       "13 RPS10    6        RPS10    34385231 rs9380433  6          34377626  C  T \n",
       "14 HLA-B    6        HLA-B    31321649 rs9264579  6          31235746  G  A \n",
       "15 RPS10    6        RPS10    34385231 rs9380433  6          34377626  C  T \n",
       "16 HLA-DQA1 6        HLA-DQA1 32595956 rs28383312 6          32587090  C  T \n",
       "17 HLA-B    6        HLA-B    31321649 rs9264579  6          31235746  G  A \n",
       "18 HLA-DRB1 6        HLA-DRB1 32546546 rs74927567 6          32597064  G  A \n",
       "19 RPS10    6        RPS10    34385231 rs9380433  6          34377626  C  T \n",
       "20 HLA-B    6        HLA-B    31321649 rs9264579  6          31235746  G  A \n",
       "21 HLA-DQA1 6        HLA-DQA1 32595956 rs646984   6          32576592  A  C \n",
       "   Freq     ⋯ se_eQTL    p_eQTL       b_SMR     se_SMR    p_SMR       \n",
       "1  0.413926 ⋯ 0.01122630 1.379438e-44  1.393820 0.3587140 1.020795e-04\n",
       "2  0.728723 ⋯ 0.12425900 3.978588e-18 -0.210294 0.0536299 8.810483e-05\n",
       "3  0.739845 ⋯ 0.01376120 1.817536e-38  1.230960 0.3096200 7.016493e-05\n",
       "4  0.453578 ⋯ 0.01286970 4.068664e-81 -0.831398 0.2011220 3.567982e-05\n",
       "5  0.773694 ⋯ 0.01725810 1.089559e-09 -4.092210 0.9559840 1.863741e-05\n",
       "6  0.925532 ⋯ 0.03106610 1.182231e-14 -2.123320 0.4937350 1.703934e-05\n",
       "7  0.181335 ⋯ 0.00941291 3.944415e-92 -1.472120 0.3749400 8.626438e-05\n",
       "8  0.453578 ⋯ 0.01339460 6.457310e-77 -0.820872 0.1988360 3.653178e-05\n",
       "9  0.181335 ⋯ 0.01007030 1.231940e-75 -1.522170 0.3892950 9.227231e-05\n",
       "10 0.453578 ⋯ 0.01252000 1.838895e-80 -0.858176 0.2076400 3.580570e-05\n",
       "11 0.181335 ⋯ 0.01095370 1.270046e-66 -1.493610 0.3831900 9.705548e-05\n",
       "12 0.669246 ⋯ 0.01851990 1.387291e-12 -1.731460 0.4450010 9.986994e-05\n",
       "13 0.181335 ⋯ 0.00933569 7.242519e-94 -1.470220 0.3743230 8.577123e-05\n",
       "14 0.453578 ⋯ 0.01364970 1.802061e-71 -0.836451 0.2030010 3.781811e-05\n",
       "15 0.181335 ⋯ 0.01148410 1.595592e-61 -1.484240 0.3816150 1.005103e-04\n",
       "16 0.594778 ⋯ 0.03867460 2.592618e-43  0.383576 0.0945003 4.928454e-05\n",
       "17 0.453578 ⋯ 0.01455890 1.267330e-60 -0.853511 0.2081550 4.124910e-05\n",
       "18 0.394101 ⋯ 0.03929040 5.966581e-13 -1.056050 0.2285540 3.826358e-06\n",
       "19 0.181335 ⋯ 0.00876975 7.005996e-75 -1.756910 0.4494350 9.262139e-05\n",
       "20 0.453578 ⋯ 0.02731940 1.245964e-31 -0.638431 0.1603390 6.840469e-05\n",
       "21 0.579304 ⋯ 0.05357410 1.679753e-17  0.472889 0.1209340 9.218057e-05\n",
       "   p_HEIDI      nsnp_HEIDI Cell_type  comb              qv        \n",
       "1  9.597639e-06 20         BimmNaive  HLA-A_BimmNaive   0.04981620\n",
       "2  7.108002e-01 20         BimmNaive  FAM167A_BimmNaive 0.04981620\n",
       "3  5.842275e-01 20         Bmem       BLK_Bmem          0.04981620\n",
       "4  1.187305e-07 20         CD4all     HLA-B_CD4all      0.04981620\n",
       "5  2.158111e-05 19         CD4all     RNF5_CD4all       0.04981620\n",
       "6  5.374339e-03 20         CD4all     HLA-DMA_CD4all    0.04981620\n",
       "7  7.428540e-04 20         CD4all     RPS10_CD4all      0.04981620\n",
       "8  1.179006e-06 20         CD4effCM   HLA-B_CD4effCM    0.04981620\n",
       "9  6.065366e-04 20         CD4effCM   RPS10_CD4effCM    0.04981620\n",
       "10 4.446047e-07 20         CD8all     HLA-B_CD8all      0.04981620\n",
       "11 1.039552e-03 20         CD8all     RPS10_CD8all      0.04981620\n",
       "12 4.021287e-03 20         CD8eff     HLA-DRB1_CD8eff   0.04981620\n",
       "13 1.607780e-03 20         CD8eff     RPS10_CD8eff      0.04981620\n",
       "14 1.187528e-06 20         CD8unknown HLA-B_CD8unknown  0.04981620\n",
       "15 7.474120e-04 20         CD8unknown RPS10_CD8unknown  0.04981620\n",
       "16 1.828638e-05 20         MonoNC     HLA-DQA1_MonoNC   0.04981620\n",
       "17 1.062979e-07 20         NKact      HLA-B_NKact       0.04981620\n",
       "18 5.936424e-03 20         NKact      HLA-DRB1_NKact    0.03921362\n",
       "19 1.689510e-03 20         NKmat      RPS10_NKmat       0.04981620\n",
       "20 6.228809e-07 20         Plasma     HLA-B_Plasma      0.04981620\n",
       "21 7.662493e-03 20         Plasma     HLA-DQA1_Plasma   0.04981620"
      ]
     },
     "metadata": {},
     "output_type": "display_data"
    }
   ],
   "source": [
    "## SAIGE-QTL SMR gene list\n",
    "saige_df_sign = saige_df[saige_df$qv<0.05,]\n",
    "saige_df_sign"
   ]
  },
  {
   "cell_type": "code",
   "execution_count": 20,
   "id": "98a4b34f",
   "metadata": {},
   "outputs": [],
   "source": [
    "fwrite(saige_df_sign, \"/directflow/SCCGGroupShare/projects/anncuo/OneK1K/saige_eqtl/for_wei/smr/sle_saige_egenes.txt\")"
   ]
  },
  {
   "cell_type": "code",
   "execution_count": null,
   "id": "d3521d94",
   "metadata": {},
   "outputs": [],
   "source": []
  }
 ],
 "metadata": {
  "kernelspec": {
   "display_name": "Single Cell Notebook (R 4.1.2)",
   "language": "R",
   "name": "singlecell"
  },
  "language_info": {
   "codemirror_mode": "r",
   "file_extension": ".r",
   "mimetype": "text/x-r-source",
   "name": "R",
   "pygments_lexer": "r",
   "version": "4.1.2"
  }
 },
 "nbformat": 4,
 "nbformat_minor": 5
}
