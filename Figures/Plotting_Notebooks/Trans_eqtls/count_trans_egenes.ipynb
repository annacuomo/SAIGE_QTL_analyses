{
 "cells": [
  {
   "cell_type": "code",
   "execution_count": 15,
   "id": "52d49209",
   "metadata": {},
   "outputs": [],
   "source": [
    "library(data.table)"
   ]
  },
  {
   "cell_type": "code",
   "execution_count": 16,
   "id": "1f19acba",
   "metadata": {},
   "outputs": [
    {
     "data": {
      "text/html": [
       "12783"
      ],
      "text/latex": [
       "12783"
      ],
      "text/markdown": [
       "12783"
      ],
      "text/plain": [
       "[1] 12783"
      ]
     },
     "metadata": {},
     "output_type": "display_data"
    },
    {
     "data": {
      "text/html": [
       "<style>\n",
       ".list-inline {list-style: none; margin:0; padding: 0}\n",
       ".list-inline>li {display: inline-block}\n",
       ".list-inline>li:not(:last-child)::after {content: \"\\00b7\"; padding: 0 .5ex}\n",
       "</style>\n",
       "<ol class=list-inline><li>'A1BG_CD4_NC_count_gw_allchr.txt_result.tophits.annovar.txt.hg19_multianno.txt.merged.txt'</li><li>'A2M_CD4_NC_count_gw_allchr.txt_result.tophits.annovar.txt.hg19_multianno.txt.merged.txt'</li></ol>\n"
      ],
      "text/latex": [
       "\\begin{enumerate*}\n",
       "\\item 'A1BG\\_CD4\\_NC\\_count\\_gw\\_allchr.txt\\_result.tophits.annovar.txt.hg19\\_multianno.txt.merged.txt'\n",
       "\\item 'A2M\\_CD4\\_NC\\_count\\_gw\\_allchr.txt\\_result.tophits.annovar.txt.hg19\\_multianno.txt.merged.txt'\n",
       "\\end{enumerate*}\n"
      ],
      "text/markdown": [
       "1. 'A1BG_CD4_NC_count_gw_allchr.txt_result.tophits.annovar.txt.hg19_multianno.txt.merged.txt'\n",
       "2. 'A2M_CD4_NC_count_gw_allchr.txt_result.tophits.annovar.txt.hg19_multianno.txt.merged.txt'\n",
       "\n",
       "\n"
      ],
      "text/plain": [
       "[1] \"A1BG_CD4_NC_count_gw_allchr.txt_result.tophits.annovar.txt.hg19_multianno.txt.merged.txt\"\n",
       "[2] \"A2M_CD4_NC_count_gw_allchr.txt_result.tophits.annovar.txt.hg19_multianno.txt.merged.txt\" "
      ]
     },
     "metadata": {},
     "output_type": "display_data"
    }
   ],
   "source": [
    "# CD4 NC\n",
    "trans_dir = \"/directflow/SCCGGroupShare/projects/anncuo/OneK1K/saige_eqtl/from_wei/trans_CD4_NC_tophits_multianno/\"\n",
    "gene_files = list.files(trans_dir, pattern=\".merged.txt\")\n",
    "length(gene_files)\n",
    "head(gene_files,2)"
   ]
  },
  {
   "cell_type": "code",
   "execution_count": 17,
   "id": "70e647ed",
   "metadata": {},
   "outputs": [],
   "source": [
    "n_eqtls = 0\n",
    "n_egenes = 0\n",
    "genes_cd4nc = c()\n",
    "for (file in gene_files){\n",
    "    df = fread(paste0(trans_dir,file))\n",
    "    n = nrow(df[df$Otherinfo3 == \"potential_novel\",])\n",
    "    if (n>0){\n",
    "        n_egenes = n_egenes + 1\n",
    "        n_eqtls = n_eqtls + n\n",
    "        gene = gsub(\"_CD4_NC_count_gw_allchr.txt_result.tophits.annovar.txt.hg19_multianno.txt.merged.txt\",\"\",file)\n",
    "        genes_cd4nc = c(genes_cd4nc,gene)\n",
    "    }\n",
    "}"
   ]
  },
  {
   "cell_type": "code",
   "execution_count": 18,
   "id": "0fd722df",
   "metadata": {},
   "outputs": [
    {
     "data": {
      "text/html": [
       "12697"
      ],
      "text/latex": [
       "12697"
      ],
      "text/markdown": [
       "12697"
      ],
      "text/plain": [
       "[1] 12697"
      ]
     },
     "metadata": {},
     "output_type": "display_data"
    },
    {
     "data": {
      "text/html": [
       "47800"
      ],
      "text/latex": [
       "47800"
      ],
      "text/markdown": [
       "47800"
      ],
      "text/plain": [
       "[1] 47800"
      ]
     },
     "metadata": {},
     "output_type": "display_data"
    }
   ],
   "source": [
    "n_egenes\n",
    "n_eqtls"
   ]
  },
  {
   "cell_type": "code",
   "execution_count": 20,
   "id": "bf2ead08",
   "metadata": {},
   "outputs": [
    {
     "data": {
      "text/html": [
       "12697"
      ],
      "text/latex": [
       "12697"
      ],
      "text/markdown": [
       "12697"
      ],
      "text/plain": [
       "[1] 12697"
      ]
     },
     "metadata": {},
     "output_type": "display_data"
    }
   ],
   "source": [
    "length(genes_cd4nc)"
   ]
  },
  {
   "cell_type": "code",
   "execution_count": null,
   "id": "823dde69",
   "metadata": {},
   "outputs": [],
   "source": [
    "###################################"
   ]
  },
  {
   "cell_type": "code",
   "execution_count": 21,
   "id": "9b795a89",
   "metadata": {},
   "outputs": [
    {
     "data": {
      "text/html": [
       "10527"
      ],
      "text/latex": [
       "10527"
      ],
      "text/markdown": [
       "10527"
      ],
      "text/plain": [
       "[1] 10527"
      ]
     },
     "metadata": {},
     "output_type": "display_data"
    },
    {
     "data": {
      "text/html": [
       "<style>\n",
       ".list-inline {list-style: none; margin:0; padding: 0}\n",
       ".list-inline>li {display: inline-block}\n",
       ".list-inline>li:not(:last-child)::after {content: \"\\00b7\"; padding: 0 .5ex}\n",
       "</style>\n",
       "<ol class=list-inline><li>'A1BG_B_IN_count_gw_allchr.txt_result.tophits.annovar.txt.hg19_multianno.txt.merged.txt'</li><li>'AAAS_B_IN_count_gw_allchr.txt_result.tophits.annovar.txt.hg19_multianno.txt.merged.txt'</li></ol>\n"
      ],
      "text/latex": [
       "\\begin{enumerate*}\n",
       "\\item 'A1BG\\_B\\_IN\\_count\\_gw\\_allchr.txt\\_result.tophits.annovar.txt.hg19\\_multianno.txt.merged.txt'\n",
       "\\item 'AAAS\\_B\\_IN\\_count\\_gw\\_allchr.txt\\_result.tophits.annovar.txt.hg19\\_multianno.txt.merged.txt'\n",
       "\\end{enumerate*}\n"
      ],
      "text/markdown": [
       "1. 'A1BG_B_IN_count_gw_allchr.txt_result.tophits.annovar.txt.hg19_multianno.txt.merged.txt'\n",
       "2. 'AAAS_B_IN_count_gw_allchr.txt_result.tophits.annovar.txt.hg19_multianno.txt.merged.txt'\n",
       "\n",
       "\n"
      ],
      "text/plain": [
       "[1] \"A1BG_B_IN_count_gw_allchr.txt_result.tophits.annovar.txt.hg19_multianno.txt.merged.txt\"\n",
       "[2] \"AAAS_B_IN_count_gw_allchr.txt_result.tophits.annovar.txt.hg19_multianno.txt.merged.txt\""
      ]
     },
     "metadata": {},
     "output_type": "display_data"
    }
   ],
   "source": [
    "# B IN\n",
    "trans_dir = \"/directflow/SCCGGroupShare/projects/anncuo/OneK1K/saige_eqtl/from_wei/trans_B_IN_tophits_multianno/\"\n",
    "gene_files = list.files(trans_dir, pattern=\".merged.txt\")\n",
    "length(gene_files)\n",
    "head(gene_files,2)"
   ]
  },
  {
   "cell_type": "code",
   "execution_count": 22,
   "id": "3d490c9f",
   "metadata": {},
   "outputs": [],
   "source": [
    "n_eqtls = 0\n",
    "n_egenes = 0\n",
    "genes_bin = c()\n",
    "for (file in gene_files){\n",
    "    df = fread(paste0(trans_dir,file))\n",
    "    n = nrow(df[df$Otherinfo3 == \"potential_novel\",])\n",
    "    if (n>0){\n",
    "        n_egenes = n_egenes + 1\n",
    "        n_eqtls = n_eqtls + n\n",
    "        gene = gsub(\"_B_IN_count_gw_allchr.txt_result.tophits.annovar.txt.hg19_multianno.txt.merged.txt\",\"\",file)\n",
    "        genes_bin = c(genes_bin,gene)\n",
    "    }\n",
    "}"
   ]
  },
  {
   "cell_type": "code",
   "execution_count": 23,
   "id": "e7ed5efa",
   "metadata": {},
   "outputs": [
    {
     "data": {
      "text/html": [
       "10483"
      ],
      "text/latex": [
       "10483"
      ],
      "text/markdown": [
       "10483"
      ],
      "text/plain": [
       "[1] 10483"
      ]
     },
     "metadata": {},
     "output_type": "display_data"
    },
    {
     "data": {
      "text/html": [
       "34004"
      ],
      "text/latex": [
       "34004"
      ],
      "text/markdown": [
       "34004"
      ],
      "text/plain": [
       "[1] 34004"
      ]
     },
     "metadata": {},
     "output_type": "display_data"
    }
   ],
   "source": [
    "n_egenes\n",
    "n_eqtls"
   ]
  },
  {
   "cell_type": "code",
   "execution_count": 24,
   "id": "9249a137",
   "metadata": {},
   "outputs": [
    {
     "data": {
      "text/html": [
       "10483"
      ],
      "text/latex": [
       "10483"
      ],
      "text/markdown": [
       "10483"
      ],
      "text/plain": [
       "[1] 10483"
      ]
     },
     "metadata": {},
     "output_type": "display_data"
    }
   ],
   "source": [
    "length(genes_bin)"
   ]
  },
  {
   "cell_type": "code",
   "execution_count": 11,
   "id": "1305ad2e",
   "metadata": {},
   "outputs": [],
   "source": [
    "###################################"
   ]
  },
  {
   "cell_type": "code",
   "execution_count": 25,
   "id": "bee64e1f",
   "metadata": {},
   "outputs": [
    {
     "data": {
      "text/html": [
       "5484"
      ],
      "text/latex": [
       "5484"
      ],
      "text/markdown": [
       "5484"
      ],
      "text/plain": [
       "[1] 5484"
      ]
     },
     "metadata": {},
     "output_type": "display_data"
    },
    {
     "data": {
      "text/html": [
       "<style>\n",
       ".list-inline {list-style: none; margin:0; padding: 0}\n",
       ".list-inline>li {display: inline-block}\n",
       ".list-inline>li:not(:last-child)::after {content: \"\\00b7\"; padding: 0 .5ex}\n",
       "</style>\n",
       "<ol class=list-inline><li>'A1BG_Plasma_count_gw_allchr.txt_result.tophits.annovar.txt.hg19_multianno.txt.merged.txt'</li><li>'AAAS_Plasma_count_gw_allchr.txt_result.tophits.annovar.txt.hg19_multianno.txt.merged.txt'</li></ol>\n"
      ],
      "text/latex": [
       "\\begin{enumerate*}\n",
       "\\item 'A1BG\\_Plasma\\_count\\_gw\\_allchr.txt\\_result.tophits.annovar.txt.hg19\\_multianno.txt.merged.txt'\n",
       "\\item 'AAAS\\_Plasma\\_count\\_gw\\_allchr.txt\\_result.tophits.annovar.txt.hg19\\_multianno.txt.merged.txt'\n",
       "\\end{enumerate*}\n"
      ],
      "text/markdown": [
       "1. 'A1BG_Plasma_count_gw_allchr.txt_result.tophits.annovar.txt.hg19_multianno.txt.merged.txt'\n",
       "2. 'AAAS_Plasma_count_gw_allchr.txt_result.tophits.annovar.txt.hg19_multianno.txt.merged.txt'\n",
       "\n",
       "\n"
      ],
      "text/plain": [
       "[1] \"A1BG_Plasma_count_gw_allchr.txt_result.tophits.annovar.txt.hg19_multianno.txt.merged.txt\"\n",
       "[2] \"AAAS_Plasma_count_gw_allchr.txt_result.tophits.annovar.txt.hg19_multianno.txt.merged.txt\""
      ]
     },
     "metadata": {},
     "output_type": "display_data"
    }
   ],
   "source": [
    "# Plasma\n",
    "trans_dir = \"/directflow/SCCGGroupShare/projects/anncuo/OneK1K/saige_eqtl/from_wei/trans_Plasma_tophits_multianno/\"\n",
    "gene_files = list.files(trans_dir, pattern=\".merged.txt\")\n",
    "length(gene_files)\n",
    "head(gene_files,2)"
   ]
  },
  {
   "cell_type": "code",
   "execution_count": 26,
   "id": "b12a4306",
   "metadata": {},
   "outputs": [],
   "source": [
    "n_eqtls = 0\n",
    "n_egenes = 0\n",
    "genes_plasma = c()\n",
    "for (file in gene_files){\n",
    "    df = fread(paste0(trans_dir,file))\n",
    "    n = nrow(df[df$Otherinfo3 == \"potential_novel\",])\n",
    "    if (n>0){\n",
    "        n_egenes = n_egenes + 1\n",
    "        n_eqtls = n_eqtls + n\n",
    "        gene = gsub(\"_Plasma_count_gw_allchr.txt_result.tophits.annovar.txt.hg19_multianno.txt.merged.txt\",\"\",file)\n",
    "        genes_plasma = c(genes_plasma,gene)\n",
    "    }\n",
    "}"
   ]
  },
  {
   "cell_type": "code",
   "execution_count": 27,
   "id": "b1813a0e",
   "metadata": {},
   "outputs": [
    {
     "data": {
      "text/html": [
       "5464"
      ],
      "text/latex": [
       "5464"
      ],
      "text/markdown": [
       "5464"
      ],
      "text/plain": [
       "[1] 5464"
      ]
     },
     "metadata": {},
     "output_type": "display_data"
    },
    {
     "data": {
      "text/html": [
       "15913"
      ],
      "text/latex": [
       "15913"
      ],
      "text/markdown": [
       "15913"
      ],
      "text/plain": [
       "[1] 15913"
      ]
     },
     "metadata": {},
     "output_type": "display_data"
    }
   ],
   "source": [
    "n_egenes\n",
    "n_eqtls"
   ]
  },
  {
   "cell_type": "code",
   "execution_count": 28,
   "id": "09cbd961",
   "metadata": {},
   "outputs": [
    {
     "data": {
      "text/html": [
       "5464"
      ],
      "text/latex": [
       "5464"
      ],
      "text/markdown": [
       "5464"
      ],
      "text/plain": [
       "[1] 5464"
      ]
     },
     "metadata": {},
     "output_type": "display_data"
    }
   ],
   "source": [
    "length(genes_plasma)"
   ]
  },
  {
   "cell_type": "code",
   "execution_count": null,
   "id": "bdcdc3ac",
   "metadata": {},
   "outputs": [],
   "source": [
    "########### across all three cell types"
   ]
  },
  {
   "cell_type": "code",
   "execution_count": 29,
   "id": "eed00c08",
   "metadata": {},
   "outputs": [
    {
     "data": {
      "text/html": [
       "13161"
      ],
      "text/latex": [
       "13161"
      ],
      "text/markdown": [
       "13161"
      ],
      "text/plain": [
       "[1] 13161"
      ]
     },
     "metadata": {},
     "output_type": "display_data"
    }
   ],
   "source": [
    "length(unique(c(genes_cd4nc, genes_bin, genes_plasma)))"
   ]
  },
  {
   "cell_type": "code",
   "execution_count": null,
   "id": "2736b116",
   "metadata": {},
   "outputs": [],
   "source": []
  }
 ],
 "metadata": {
  "kernelspec": {
   "display_name": "Single Cell Notebook (R 4.1.2)",
   "language": "R",
   "name": "singlecell"
  },
  "language_info": {
   "codemirror_mode": "r",
   "file_extension": ".r",
   "mimetype": "text/x-r-source",
   "name": "R",
   "pygments_lexer": "r",
   "version": "4.1.2"
  }
 },
 "nbformat": 4,
 "nbformat_minor": 5
}
