{
 "cells": [
  {
   "cell_type": "code",
   "execution_count": 32,
   "id": "a2907bbc",
   "metadata": {},
   "outputs": [],
   "source": [
    "library(data.table)"
   ]
  },
  {
   "cell_type": "code",
   "execution_count": 33,
   "id": "f351c928",
   "metadata": {},
   "outputs": [
    {
     "data": {
      "text/html": [
       "12783"
      ],
      "text/latex": [
       "12783"
      ],
      "text/markdown": [
       "12783"
      ],
      "text/plain": [
       "[1] 12783"
      ]
     },
     "metadata": {},
     "output_type": "display_data"
    },
    {
     "data": {
      "text/html": [
       "<style>\n",
       ".list-inline {list-style: none; margin:0; padding: 0}\n",
       ".list-inline>li {display: inline-block}\n",
       ".list-inline>li:not(:last-child)::after {content: \"\\00b7\"; padding: 0 .5ex}\n",
       "</style>\n",
       "<ol class=list-inline><li>'A1BG_CD4_NC_count_gw_allchr.txt_result.tophits.annovar.txt.hg19_multianno.txt.merged.txt'</li><li>'A2M_CD4_NC_count_gw_allchr.txt_result.tophits.annovar.txt.hg19_multianno.txt.merged.txt'</li></ol>\n"
      ],
      "text/latex": [
       "\\begin{enumerate*}\n",
       "\\item 'A1BG\\_CD4\\_NC\\_count\\_gw\\_allchr.txt\\_result.tophits.annovar.txt.hg19\\_multianno.txt.merged.txt'\n",
       "\\item 'A2M\\_CD4\\_NC\\_count\\_gw\\_allchr.txt\\_result.tophits.annovar.txt.hg19\\_multianno.txt.merged.txt'\n",
       "\\end{enumerate*}\n"
      ],
      "text/markdown": [
       "1. 'A1BG_CD4_NC_count_gw_allchr.txt_result.tophits.annovar.txt.hg19_multianno.txt.merged.txt'\n",
       "2. 'A2M_CD4_NC_count_gw_allchr.txt_result.tophits.annovar.txt.hg19_multianno.txt.merged.txt'\n",
       "\n",
       "\n"
      ],
      "text/plain": [
       "[1] \"A1BG_CD4_NC_count_gw_allchr.txt_result.tophits.annovar.txt.hg19_multianno.txt.merged.txt\"\n",
       "[2] \"A2M_CD4_NC_count_gw_allchr.txt_result.tophits.annovar.txt.hg19_multianno.txt.merged.txt\" "
      ]
     },
     "metadata": {},
     "output_type": "display_data"
    }
   ],
   "source": [
    "# CD4 NC\n",
    "trans_dir = \"/directflow/SCCGGroupShare/projects/anncuo/OneK1K/saige_eqtl/from_wei/trans_CD4_NC_tophits_multianno/\"\n",
    "gene_files = list.files(trans_dir, pattern=\".merged.txt\")\n",
    "length(gene_files)\n",
    "head(gene_files,2)"
   ]
  },
  {
   "cell_type": "code",
   "execution_count": 43,
   "id": "ef7b031d",
   "metadata": {},
   "outputs": [],
   "source": [
    "n_eqtls = 0\n",
    "n_egenes = 0\n",
    "genes_cd4nc = c()\n",
    "eqtls_cd4nc = c()\n",
    "for (file in gene_files){\n",
    "    df = fread(paste0(trans_dir,file))\n",
    "    n = nrow(df[df$Otherinfo3 == \"potential_novel\",])\n",
    "    if (n>0){\n",
    "        n_egenes = n_egenes + 1\n",
    "        n_eqtls = n_eqtls + n\n",
    "        gene = gsub(\"_CD4_NC_count_gw_allchr.txt_result.tophits.annovar.txt.hg19_multianno.txt.merged.txt\",\"\",file)\n",
    "        genes_cd4nc = c(genes_cd4nc,gene)\n",
    "        df$eqtl = paste0(gene,\"-\",df$Chr,\":\",df$Start)\n",
    "        eqtls_cd4nc = c(eqtls_cd4nc, df[df$Otherinfo3 == \"potential_novel\",]$eqtl)\n",
    "    }\n",
    "}"
   ]
  },
  {
   "cell_type": "code",
   "execution_count": 44,
   "id": "3b772ac9",
   "metadata": {},
   "outputs": [
    {
     "data": {
      "text/html": [
       "12697"
      ],
      "text/latex": [
       "12697"
      ],
      "text/markdown": [
       "12697"
      ],
      "text/plain": [
       "[1] 12697"
      ]
     },
     "metadata": {},
     "output_type": "display_data"
    },
    {
     "data": {
      "text/html": [
       "47800"
      ],
      "text/latex": [
       "47800"
      ],
      "text/markdown": [
       "47800"
      ],
      "text/plain": [
       "[1] 47800"
      ]
     },
     "metadata": {},
     "output_type": "display_data"
    }
   ],
   "source": [
    "n_egenes\n",
    "n_eqtls"
   ]
  },
  {
   "cell_type": "code",
   "execution_count": 45,
   "id": "040c4661",
   "metadata": {},
   "outputs": [
    {
     "data": {
      "text/html": [
       "12697"
      ],
      "text/latex": [
       "12697"
      ],
      "text/markdown": [
       "12697"
      ],
      "text/plain": [
       "[1] 12697"
      ]
     },
     "metadata": {},
     "output_type": "display_data"
    },
    {
     "data": {
      "text/html": [
       "<style>\n",
       ".list-inline {list-style: none; margin:0; padding: 0}\n",
       ".list-inline>li {display: inline-block}\n",
       ".list-inline>li:not(:last-child)::after {content: \"\\00b7\"; padding: 0 .5ex}\n",
       "</style>\n",
       "<ol class=list-inline><li>'A1BG'</li><li>'A2M'</li><li>'AAAS'</li><li>'AACS'</li><li>'AAED1'</li><li>'AAGAB'</li></ol>\n"
      ],
      "text/latex": [
       "\\begin{enumerate*}\n",
       "\\item 'A1BG'\n",
       "\\item 'A2M'\n",
       "\\item 'AAAS'\n",
       "\\item 'AACS'\n",
       "\\item 'AAED1'\n",
       "\\item 'AAGAB'\n",
       "\\end{enumerate*}\n"
      ],
      "text/markdown": [
       "1. 'A1BG'\n",
       "2. 'A2M'\n",
       "3. 'AAAS'\n",
       "4. 'AACS'\n",
       "5. 'AAED1'\n",
       "6. 'AAGAB'\n",
       "\n",
       "\n"
      ],
      "text/plain": [
       "[1] \"A1BG\"  \"A2M\"   \"AAAS\"  \"AACS\"  \"AAED1\" \"AAGAB\""
      ]
     },
     "metadata": {},
     "output_type": "display_data"
    }
   ],
   "source": [
    "length(genes_cd4nc)\n",
    "head(genes_cd4nc)"
   ]
  },
  {
   "cell_type": "code",
   "execution_count": 46,
   "id": "3131d70d",
   "metadata": {},
   "outputs": [
    {
     "data": {
      "text/html": [
       "47800"
      ],
      "text/latex": [
       "47800"
      ],
      "text/markdown": [
       "47800"
      ],
      "text/plain": [
       "[1] 47800"
      ]
     },
     "metadata": {},
     "output_type": "display_data"
    },
    {
     "data": {
      "text/html": [
       "<style>\n",
       ".list-inline {list-style: none; margin:0; padding: 0}\n",
       ".list-inline>li {display: inline-block}\n",
       ".list-inline>li:not(:last-child)::after {content: \"\\00b7\"; padding: 0 .5ex}\n",
       "</style>\n",
       "<ol class=list-inline><li>'A1BG-11:17000242'</li><li>'A1BG-19:16410530'</li><li>'A2M-2:29820933'</li><li>'A2M-6:37755546'</li><li>'A2M-8:32584857'</li><li>'A2M-11:5214669'</li></ol>\n"
      ],
      "text/latex": [
       "\\begin{enumerate*}\n",
       "\\item 'A1BG-11:17000242'\n",
       "\\item 'A1BG-19:16410530'\n",
       "\\item 'A2M-2:29820933'\n",
       "\\item 'A2M-6:37755546'\n",
       "\\item 'A2M-8:32584857'\n",
       "\\item 'A2M-11:5214669'\n",
       "\\end{enumerate*}\n"
      ],
      "text/markdown": [
       "1. 'A1BG-11:17000242'\n",
       "2. 'A1BG-19:16410530'\n",
       "3. 'A2M-2:29820933'\n",
       "4. 'A2M-6:37755546'\n",
       "5. 'A2M-8:32584857'\n",
       "6. 'A2M-11:5214669'\n",
       "\n",
       "\n"
      ],
      "text/plain": [
       "[1] \"A1BG-11:17000242\" \"A1BG-19:16410530\" \"A2M-2:29820933\"   \"A2M-6:37755546\"  \n",
       "[5] \"A2M-8:32584857\"   \"A2M-11:5214669\"  "
      ]
     },
     "metadata": {},
     "output_type": "display_data"
    }
   ],
   "source": [
    "length(eqtls_cd4nc)\n",
    "head(eqtls_cd4nc)"
   ]
  },
  {
   "cell_type": "code",
   "execution_count": null,
   "id": "1470e3ba",
   "metadata": {},
   "outputs": [],
   "source": [
    "###################################"
   ]
  },
  {
   "cell_type": "code",
   "execution_count": 47,
   "id": "e3be4624",
   "metadata": {},
   "outputs": [
    {
     "data": {
      "text/html": [
       "10527"
      ],
      "text/latex": [
       "10527"
      ],
      "text/markdown": [
       "10527"
      ],
      "text/plain": [
       "[1] 10527"
      ]
     },
     "metadata": {},
     "output_type": "display_data"
    },
    {
     "data": {
      "text/html": [
       "<style>\n",
       ".list-inline {list-style: none; margin:0; padding: 0}\n",
       ".list-inline>li {display: inline-block}\n",
       ".list-inline>li:not(:last-child)::after {content: \"\\00b7\"; padding: 0 .5ex}\n",
       "</style>\n",
       "<ol class=list-inline><li>'A1BG_B_IN_count_gw_allchr.txt_result.tophits.annovar.txt.hg19_multianno.txt.merged.txt'</li><li>'AAAS_B_IN_count_gw_allchr.txt_result.tophits.annovar.txt.hg19_multianno.txt.merged.txt'</li></ol>\n"
      ],
      "text/latex": [
       "\\begin{enumerate*}\n",
       "\\item 'A1BG\\_B\\_IN\\_count\\_gw\\_allchr.txt\\_result.tophits.annovar.txt.hg19\\_multianno.txt.merged.txt'\n",
       "\\item 'AAAS\\_B\\_IN\\_count\\_gw\\_allchr.txt\\_result.tophits.annovar.txt.hg19\\_multianno.txt.merged.txt'\n",
       "\\end{enumerate*}\n"
      ],
      "text/markdown": [
       "1. 'A1BG_B_IN_count_gw_allchr.txt_result.tophits.annovar.txt.hg19_multianno.txt.merged.txt'\n",
       "2. 'AAAS_B_IN_count_gw_allchr.txt_result.tophits.annovar.txt.hg19_multianno.txt.merged.txt'\n",
       "\n",
       "\n"
      ],
      "text/plain": [
       "[1] \"A1BG_B_IN_count_gw_allchr.txt_result.tophits.annovar.txt.hg19_multianno.txt.merged.txt\"\n",
       "[2] \"AAAS_B_IN_count_gw_allchr.txt_result.tophits.annovar.txt.hg19_multianno.txt.merged.txt\""
      ]
     },
     "metadata": {},
     "output_type": "display_data"
    }
   ],
   "source": [
    "# B IN\n",
    "trans_dir = \"/directflow/SCCGGroupShare/projects/anncuo/OneK1K/saige_eqtl/from_wei/trans_B_IN_tophits_multianno/\"\n",
    "gene_files = list.files(trans_dir, pattern=\".merged.txt\")\n",
    "length(gene_files)\n",
    "head(gene_files,2)"
   ]
  },
  {
   "cell_type": "code",
   "execution_count": 48,
   "id": "4eb0c35f",
   "metadata": {},
   "outputs": [],
   "source": [
    "n_eqtls = 0\n",
    "n_egenes = 0\n",
    "genes_bin = c()\n",
    "eqtls_bin = c()\n",
    "for (file in gene_files){\n",
    "    df = fread(paste0(trans_dir,file))\n",
    "    n = nrow(df[df$Otherinfo3 == \"potential_novel\",])\n",
    "    if (n>0){\n",
    "        n_egenes = n_egenes + 1\n",
    "        n_eqtls = n_eqtls + n\n",
    "        gene = gsub(\"_B_IN_count_gw_allchr.txt_result.tophits.annovar.txt.hg19_multianno.txt.merged.txt\",\"\",file)\n",
    "        genes_bin = c(genes_bin,gene)\n",
    "        df$eqtl = paste0(gene,\"-\",df$Chr,\":\",df$Start)\n",
    "        eqtls_bin = c(eqtls_bin, df[df$Otherinfo3 == \"potential_novel\",]$eqtl)\n",
    "    }\n",
    "}"
   ]
  },
  {
   "cell_type": "code",
   "execution_count": 49,
   "id": "05d049fe",
   "metadata": {},
   "outputs": [
    {
     "data": {
      "text/html": [
       "10483"
      ],
      "text/latex": [
       "10483"
      ],
      "text/markdown": [
       "10483"
      ],
      "text/plain": [
       "[1] 10483"
      ]
     },
     "metadata": {},
     "output_type": "display_data"
    },
    {
     "data": {
      "text/html": [
       "34004"
      ],
      "text/latex": [
       "34004"
      ],
      "text/markdown": [
       "34004"
      ],
      "text/plain": [
       "[1] 34004"
      ]
     },
     "metadata": {},
     "output_type": "display_data"
    }
   ],
   "source": [
    "n_egenes\n",
    "n_eqtls"
   ]
  },
  {
   "cell_type": "code",
   "execution_count": 50,
   "id": "3f246cea",
   "metadata": {},
   "outputs": [
    {
     "data": {
      "text/html": [
       "10483"
      ],
      "text/latex": [
       "10483"
      ],
      "text/markdown": [
       "10483"
      ],
      "text/plain": [
       "[1] 10483"
      ]
     },
     "metadata": {},
     "output_type": "display_data"
    },
    {
     "data": {
      "text/html": [
       "<style>\n",
       ".list-inline {list-style: none; margin:0; padding: 0}\n",
       ".list-inline>li {display: inline-block}\n",
       ".list-inline>li:not(:last-child)::after {content: \"\\00b7\"; padding: 0 .5ex}\n",
       "</style>\n",
       "<ol class=list-inline><li>'A1BG'</li><li>'AAAS'</li><li>'AACS'</li><li>'AAGAB'</li><li>'AAK1'</li><li>'AAMDC'</li></ol>\n"
      ],
      "text/latex": [
       "\\begin{enumerate*}\n",
       "\\item 'A1BG'\n",
       "\\item 'AAAS'\n",
       "\\item 'AACS'\n",
       "\\item 'AAGAB'\n",
       "\\item 'AAK1'\n",
       "\\item 'AAMDC'\n",
       "\\end{enumerate*}\n"
      ],
      "text/markdown": [
       "1. 'A1BG'\n",
       "2. 'AAAS'\n",
       "3. 'AACS'\n",
       "4. 'AAGAB'\n",
       "5. 'AAK1'\n",
       "6. 'AAMDC'\n",
       "\n",
       "\n"
      ],
      "text/plain": [
       "[1] \"A1BG\"  \"AAAS\"  \"AACS\"  \"AAGAB\" \"AAK1\"  \"AAMDC\""
      ]
     },
     "metadata": {},
     "output_type": "display_data"
    }
   ],
   "source": [
    "length(genes_bin)\n",
    "head(genes_bin)"
   ]
  },
  {
   "cell_type": "code",
   "execution_count": 51,
   "id": "b851b4fa",
   "metadata": {},
   "outputs": [
    {
     "data": {
      "text/html": [
       "34004"
      ],
      "text/latex": [
       "34004"
      ],
      "text/markdown": [
       "34004"
      ],
      "text/plain": [
       "[1] 34004"
      ]
     },
     "metadata": {},
     "output_type": "display_data"
    },
    {
     "data": {
      "text/html": [
       "<style>\n",
       ".list-inline {list-style: none; margin:0; padding: 0}\n",
       ".list-inline>li {display: inline-block}\n",
       ".list-inline>li:not(:last-child)::after {content: \"\\00b7\"; padding: 0 .5ex}\n",
       "</style>\n",
       "<ol class=list-inline><li>'A1BG-5:177485055'</li><li>'A1BG-15:38967627'</li><li>'A1BG-18:9002117'</li><li>'AAAS-18:37989574'</li><li>'AACS-2:217405203'</li><li>'AACS-10:33450242'</li></ol>\n"
      ],
      "text/latex": [
       "\\begin{enumerate*}\n",
       "\\item 'A1BG-5:177485055'\n",
       "\\item 'A1BG-15:38967627'\n",
       "\\item 'A1BG-18:9002117'\n",
       "\\item 'AAAS-18:37989574'\n",
       "\\item 'AACS-2:217405203'\n",
       "\\item 'AACS-10:33450242'\n",
       "\\end{enumerate*}\n"
      ],
      "text/markdown": [
       "1. 'A1BG-5:177485055'\n",
       "2. 'A1BG-15:38967627'\n",
       "3. 'A1BG-18:9002117'\n",
       "4. 'AAAS-18:37989574'\n",
       "5. 'AACS-2:217405203'\n",
       "6. 'AACS-10:33450242'\n",
       "\n",
       "\n"
      ],
      "text/plain": [
       "[1] \"A1BG-5:177485055\" \"A1BG-15:38967627\" \"A1BG-18:9002117\"  \"AAAS-18:37989574\"\n",
       "[5] \"AACS-2:217405203\" \"AACS-10:33450242\""
      ]
     },
     "metadata": {},
     "output_type": "display_data"
    }
   ],
   "source": [
    "length(eqtls_bin)\n",
    "head(eqtls_bin)"
   ]
  },
  {
   "cell_type": "code",
   "execution_count": 11,
   "id": "fa8abff8",
   "metadata": {},
   "outputs": [],
   "source": [
    "###################################"
   ]
  },
  {
   "cell_type": "code",
   "execution_count": 54,
   "id": "91a3ba80",
   "metadata": {},
   "outputs": [
    {
     "data": {
      "text/html": [
       "5484"
      ],
      "text/latex": [
       "5484"
      ],
      "text/markdown": [
       "5484"
      ],
      "text/plain": [
       "[1] 5484"
      ]
     },
     "metadata": {},
     "output_type": "display_data"
    },
    {
     "data": {
      "text/html": [
       "<style>\n",
       ".list-inline {list-style: none; margin:0; padding: 0}\n",
       ".list-inline>li {display: inline-block}\n",
       ".list-inline>li:not(:last-child)::after {content: \"\\00b7\"; padding: 0 .5ex}\n",
       "</style>\n",
       "<ol class=list-inline><li>'A1BG_Plasma_count_gw_allchr.txt_result.tophits.annovar.txt.hg19_multianno.txt.merged.txt'</li><li>'AAAS_Plasma_count_gw_allchr.txt_result.tophits.annovar.txt.hg19_multianno.txt.merged.txt'</li></ol>\n"
      ],
      "text/latex": [
       "\\begin{enumerate*}\n",
       "\\item 'A1BG\\_Plasma\\_count\\_gw\\_allchr.txt\\_result.tophits.annovar.txt.hg19\\_multianno.txt.merged.txt'\n",
       "\\item 'AAAS\\_Plasma\\_count\\_gw\\_allchr.txt\\_result.tophits.annovar.txt.hg19\\_multianno.txt.merged.txt'\n",
       "\\end{enumerate*}\n"
      ],
      "text/markdown": [
       "1. 'A1BG_Plasma_count_gw_allchr.txt_result.tophits.annovar.txt.hg19_multianno.txt.merged.txt'\n",
       "2. 'AAAS_Plasma_count_gw_allchr.txt_result.tophits.annovar.txt.hg19_multianno.txt.merged.txt'\n",
       "\n",
       "\n"
      ],
      "text/plain": [
       "[1] \"A1BG_Plasma_count_gw_allchr.txt_result.tophits.annovar.txt.hg19_multianno.txt.merged.txt\"\n",
       "[2] \"AAAS_Plasma_count_gw_allchr.txt_result.tophits.annovar.txt.hg19_multianno.txt.merged.txt\""
      ]
     },
     "metadata": {},
     "output_type": "display_data"
    }
   ],
   "source": [
    "# Plasma\n",
    "trans_dir = \"/directflow/SCCGGroupShare/projects/anncuo/OneK1K/saige_eqtl/from_wei/trans_Plasma_tophits_multianno/\"\n",
    "gene_files = list.files(trans_dir, pattern=\".merged.txt\")\n",
    "length(gene_files)\n",
    "head(gene_files,2)"
   ]
  },
  {
   "cell_type": "code",
   "execution_count": 55,
   "id": "e255f53d",
   "metadata": {},
   "outputs": [],
   "source": [
    "n_eqtls = 0\n",
    "n_egenes = 0\n",
    "genes_plasma = c()\n",
    "eqtls_plasma = c()\n",
    "for (file in gene_files){\n",
    "    df = fread(paste0(trans_dir,file))\n",
    "    n = nrow(df[df$Otherinfo3 == \"potential_novel\",])\n",
    "    if (n>0){\n",
    "        n_egenes = n_egenes + 1\n",
    "        n_eqtls = n_eqtls + n\n",
    "        gene = gsub(\"_Plasma_count_gw_allchr.txt_result.tophits.annovar.txt.hg19_multianno.txt.merged.txt\",\"\",file)\n",
    "        genes_plasma = c(genes_plasma,gene)\n",
    "        df$eqtl = paste0(gene,\"-\",df$Chr,\":\",df$Start)\n",
    "        eqtls_plasma = c(eqtls_plasma, df[df$Otherinfo3 == \"potential_novel\",]$eqtl)\n",
    "    }\n",
    "}"
   ]
  },
  {
   "cell_type": "code",
   "execution_count": 56,
   "id": "887deb9d",
   "metadata": {},
   "outputs": [
    {
     "data": {
      "text/html": [
       "5464"
      ],
      "text/latex": [
       "5464"
      ],
      "text/markdown": [
       "5464"
      ],
      "text/plain": [
       "[1] 5464"
      ]
     },
     "metadata": {},
     "output_type": "display_data"
    },
    {
     "data": {
      "text/html": [
       "15913"
      ],
      "text/latex": [
       "15913"
      ],
      "text/markdown": [
       "15913"
      ],
      "text/plain": [
       "[1] 15913"
      ]
     },
     "metadata": {},
     "output_type": "display_data"
    }
   ],
   "source": [
    "n_egenes\n",
    "n_eqtls"
   ]
  },
  {
   "cell_type": "code",
   "execution_count": 57,
   "id": "bf1703bc",
   "metadata": {},
   "outputs": [
    {
     "data": {
      "text/html": [
       "5464"
      ],
      "text/latex": [
       "5464"
      ],
      "text/markdown": [
       "5464"
      ],
      "text/plain": [
       "[1] 5464"
      ]
     },
     "metadata": {},
     "output_type": "display_data"
    },
    {
     "data": {
      "text/html": [
       "<style>\n",
       ".list-inline {list-style: none; margin:0; padding: 0}\n",
       ".list-inline>li {display: inline-block}\n",
       ".list-inline>li:not(:last-child)::after {content: \"\\00b7\"; padding: 0 .5ex}\n",
       "</style>\n",
       "<ol class=list-inline><li>'A1BG'</li><li>'AAAS'</li><li>'AAGAB'</li><li>'AAK1'</li><li>'AAMDC'</li><li>'AAR2'</li></ol>\n"
      ],
      "text/latex": [
       "\\begin{enumerate*}\n",
       "\\item 'A1BG'\n",
       "\\item 'AAAS'\n",
       "\\item 'AAGAB'\n",
       "\\item 'AAK1'\n",
       "\\item 'AAMDC'\n",
       "\\item 'AAR2'\n",
       "\\end{enumerate*}\n"
      ],
      "text/markdown": [
       "1. 'A1BG'\n",
       "2. 'AAAS'\n",
       "3. 'AAGAB'\n",
       "4. 'AAK1'\n",
       "5. 'AAMDC'\n",
       "6. 'AAR2'\n",
       "\n",
       "\n"
      ],
      "text/plain": [
       "[1] \"A1BG\"  \"AAAS\"  \"AAGAB\" \"AAK1\"  \"AAMDC\" \"AAR2\" "
      ]
     },
     "metadata": {},
     "output_type": "display_data"
    }
   ],
   "source": [
    "length(genes_plasma)\n",
    "head(genes_plasma)"
   ]
  },
  {
   "cell_type": "code",
   "execution_count": 58,
   "id": "f1a0404a",
   "metadata": {},
   "outputs": [
    {
     "data": {
      "text/html": [
       "15913"
      ],
      "text/latex": [
       "15913"
      ],
      "text/markdown": [
       "15913"
      ],
      "text/plain": [
       "[1] 15913"
      ]
     },
     "metadata": {},
     "output_type": "display_data"
    },
    {
     "data": {
      "text/html": [
       "<style>\n",
       ".list-inline {list-style: none; margin:0; padding: 0}\n",
       ".list-inline>li {display: inline-block}\n",
       ".list-inline>li:not(:last-child)::after {content: \"\\00b7\"; padding: 0 .5ex}\n",
       "</style>\n",
       "<ol class=list-inline><li>'A1BG-2:81711544'</li><li>'A1BG-2:123395522'</li><li>'A1BG-13:35550542'</li><li>'A1BG-21:36357861'</li><li>'AAAS-7:157788688'</li><li>'AAAS-22:17632744'</li></ol>\n"
      ],
      "text/latex": [
       "\\begin{enumerate*}\n",
       "\\item 'A1BG-2:81711544'\n",
       "\\item 'A1BG-2:123395522'\n",
       "\\item 'A1BG-13:35550542'\n",
       "\\item 'A1BG-21:36357861'\n",
       "\\item 'AAAS-7:157788688'\n",
       "\\item 'AAAS-22:17632744'\n",
       "\\end{enumerate*}\n"
      ],
      "text/markdown": [
       "1. 'A1BG-2:81711544'\n",
       "2. 'A1BG-2:123395522'\n",
       "3. 'A1BG-13:35550542'\n",
       "4. 'A1BG-21:36357861'\n",
       "5. 'AAAS-7:157788688'\n",
       "6. 'AAAS-22:17632744'\n",
       "\n",
       "\n"
      ],
      "text/plain": [
       "[1] \"A1BG-2:81711544\"  \"A1BG-2:123395522\" \"A1BG-13:35550542\" \"A1BG-21:36357861\"\n",
       "[5] \"AAAS-7:157788688\" \"AAAS-22:17632744\""
      ]
     },
     "metadata": {},
     "output_type": "display_data"
    }
   ],
   "source": [
    "length(eqtls_plasma)\n",
    "head(eqtls_plasma)"
   ]
  },
  {
   "cell_type": "code",
   "execution_count": 59,
   "id": "857b0245",
   "metadata": {},
   "outputs": [],
   "source": [
    "########### across all three cell types"
   ]
  },
  {
   "cell_type": "code",
   "execution_count": 60,
   "id": "dd6d23f4",
   "metadata": {},
   "outputs": [
    {
     "data": {
      "text/html": [
       "13161"
      ],
      "text/latex": [
       "13161"
      ],
      "text/markdown": [
       "13161"
      ],
      "text/plain": [
       "[1] 13161"
      ]
     },
     "metadata": {},
     "output_type": "display_data"
    }
   ],
   "source": [
    "# unique trans eGenes\n",
    "length(unique(c(genes_cd4nc, genes_bin, genes_plasma)))"
   ]
  },
  {
   "cell_type": "code",
   "execution_count": 61,
   "id": "6d882d7e",
   "metadata": {},
   "outputs": [
    {
     "data": {
      "text/html": [
       "97686"
      ],
      "text/latex": [
       "97686"
      ],
      "text/markdown": [
       "97686"
      ],
      "text/plain": [
       "[1] 97686"
      ]
     },
     "metadata": {},
     "output_type": "display_data"
    }
   ],
   "source": [
    "# total trans eQTLs\n",
    "length(unique(c(eqtls_cd4nc, eqtls_bin, eqtls_plasma)))"
   ]
  },
  {
   "cell_type": "code",
   "execution_count": null,
   "id": "90b15385",
   "metadata": {},
   "outputs": [],
   "source": []
  }
 ],
 "metadata": {
  "kernelspec": {
   "display_name": "Single Cell Notebook (R 4.1.2)",
   "language": "R",
   "name": "singlecell"
  },
  "language_info": {
   "codemirror_mode": "r",
   "file_extension": ".r",
   "mimetype": "text/x-r-source",
   "name": "R",
   "pygments_lexer": "r",
   "version": "4.1.2"
  }
 },
 "nbformat": 4,
 "nbformat_minor": 5
}
