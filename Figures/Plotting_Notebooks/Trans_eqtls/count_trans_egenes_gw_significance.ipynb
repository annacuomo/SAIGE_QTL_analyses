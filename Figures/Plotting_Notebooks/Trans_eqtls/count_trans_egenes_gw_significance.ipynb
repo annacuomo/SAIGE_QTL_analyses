{
 "cells": [
  {
   "cell_type": "code",
   "execution_count": 89,
   "id": "a2907bbc",
   "metadata": {},
   "outputs": [],
   "source": [
    "library(data.table)"
   ]
  },
  {
   "cell_type": "code",
   "execution_count": null,
   "id": "ebcadb70",
   "metadata": {},
   "outputs": [],
   "source": [
    "# these files include only variants at MAF>=10%, p<5e-6\n",
    "# here, we further filter to only retain p<5e-8"
   ]
  },
  {
   "cell_type": "code",
   "execution_count": 90,
   "id": "f351c928",
   "metadata": {},
   "outputs": [
    {
     "data": {
      "text/html": [
       "12783"
      ],
      "text/latex": [
       "12783"
      ],
      "text/markdown": [
       "12783"
      ],
      "text/plain": [
       "[1] 12783"
      ]
     },
     "metadata": {},
     "output_type": "display_data"
    },
    {
     "data": {
      "text/html": [
       "<style>\n",
       ".list-inline {list-style: none; margin:0; padding: 0}\n",
       ".list-inline>li {display: inline-block}\n",
       ".list-inline>li:not(:last-child)::after {content: \"\\00b7\"; padding: 0 .5ex}\n",
       "</style>\n",
       "<ol class=list-inline><li>'A1BG_CD4_NC_count_gw_allchr.txt_result.tophits.annovar.txt.hg19_multianno.txt.merged.txt'</li><li>'A2M_CD4_NC_count_gw_allchr.txt_result.tophits.annovar.txt.hg19_multianno.txt.merged.txt'</li></ol>\n"
      ],
      "text/latex": [
       "\\begin{enumerate*}\n",
       "\\item 'A1BG\\_CD4\\_NC\\_count\\_gw\\_allchr.txt\\_result.tophits.annovar.txt.hg19\\_multianno.txt.merged.txt'\n",
       "\\item 'A2M\\_CD4\\_NC\\_count\\_gw\\_allchr.txt\\_result.tophits.annovar.txt.hg19\\_multianno.txt.merged.txt'\n",
       "\\end{enumerate*}\n"
      ],
      "text/markdown": [
       "1. 'A1BG_CD4_NC_count_gw_allchr.txt_result.tophits.annovar.txt.hg19_multianno.txt.merged.txt'\n",
       "2. 'A2M_CD4_NC_count_gw_allchr.txt_result.tophits.annovar.txt.hg19_multianno.txt.merged.txt'\n",
       "\n",
       "\n"
      ],
      "text/plain": [
       "[1] \"A1BG_CD4_NC_count_gw_allchr.txt_result.tophits.annovar.txt.hg19_multianno.txt.merged.txt\"\n",
       "[2] \"A2M_CD4_NC_count_gw_allchr.txt_result.tophits.annovar.txt.hg19_multianno.txt.merged.txt\" "
      ]
     },
     "metadata": {},
     "output_type": "display_data"
    }
   ],
   "source": [
    "# CD4 NC\n",
    "trans_dir = \"/directflow/SCCGGroupShare/projects/anncuo/OneK1K/saige_eqtl/from_wei/trans_CD4_NC_tophits_multianno/\"\n",
    "gene_files = list.files(trans_dir, pattern=\".merged.txt\")\n",
    "length(gene_files)\n",
    "head(gene_files,2)"
   ]
  },
  {
   "cell_type": "code",
   "execution_count": 91,
   "id": "ef7b031d",
   "metadata": {},
   "outputs": [],
   "source": [
    "n_eqtls = 0\n",
    "n_egenes = 0\n",
    "genes_cd4nc = c()\n",
    "eqtls_cd4nc = c()\n",
    "for (file in gene_files){\n",
    "    df = fread(paste0(trans_dir,file))\n",
    "    # filter to genome-wide significance\n",
    "    colnames(df)[(ncol(df)-2):ncol(df)] <- c(\"p.value\",\"neg.log10.p.value\",\"cis.trans\")\n",
    "    df = df[df$p.value < 5e-8,]\n",
    "    n = nrow(df[df$cis.trans == \"potential_novel\",])\n",
    "    if (n>0){\n",
    "        n_egenes = n_egenes + 1\n",
    "        n_eqtls = n_eqtls + n\n",
    "        gene = gsub(\"_CD4_NC_count_gw_allchr.txt_result.tophits.annovar.txt.hg19_multianno.txt.merged.txt\",\"\",file)\n",
    "        genes_cd4nc = c(genes_cd4nc,gene)\n",
    "        df$eqtl = paste0(gene,\"-\",df$Chr,\":\",df$Start)\n",
    "        eqtls_cd4nc = c(eqtls_cd4nc, df[df$cis.trans == \"potential_novel\",]$eqtl)\n",
    "    }\n",
    "}"
   ]
  },
  {
   "cell_type": "code",
   "execution_count": 92,
   "id": "53a13b47",
   "metadata": {},
   "outputs": [
    {
     "data": {
      "text/html": [
       "225"
      ],
      "text/latex": [
       "225"
      ],
      "text/markdown": [
       "225"
      ],
      "text/plain": [
       "[1] 225"
      ]
     },
     "metadata": {},
     "output_type": "display_data"
    },
    {
     "data": {
      "text/html": [
       "254"
      ],
      "text/latex": [
       "254"
      ],
      "text/markdown": [
       "254"
      ],
      "text/plain": [
       "[1] 254"
      ]
     },
     "metadata": {},
     "output_type": "display_data"
    }
   ],
   "source": [
    "n_egenes\n",
    "n_eqtls"
   ]
  },
  {
   "cell_type": "code",
   "execution_count": 93,
   "id": "c5eda335",
   "metadata": {},
   "outputs": [
    {
     "data": {
      "text/html": [
       "225"
      ],
      "text/latex": [
       "225"
      ],
      "text/markdown": [
       "225"
      ],
      "text/plain": [
       "[1] 225"
      ]
     },
     "metadata": {},
     "output_type": "display_data"
    },
    {
     "data": {
      "text/html": [
       "<style>\n",
       ".list-inline {list-style: none; margin:0; padding: 0}\n",
       ".list-inline>li {display: inline-block}\n",
       ".list-inline>li:not(:last-child)::after {content: \"\\00b7\"; padding: 0 .5ex}\n",
       "</style>\n",
       "<ol class=list-inline><li>'A1BG'</li><li>'AC002467.7'</li><li>'AC004893.11'</li><li>'AC004951.6'</li><li>'AC007228.9'</li><li>'AC074183.4'</li></ol>\n"
      ],
      "text/latex": [
       "\\begin{enumerate*}\n",
       "\\item 'A1BG'\n",
       "\\item 'AC002467.7'\n",
       "\\item 'AC004893.11'\n",
       "\\item 'AC004951.6'\n",
       "\\item 'AC007228.9'\n",
       "\\item 'AC074183.4'\n",
       "\\end{enumerate*}\n"
      ],
      "text/markdown": [
       "1. 'A1BG'\n",
       "2. 'AC002467.7'\n",
       "3. 'AC004893.11'\n",
       "4. 'AC004951.6'\n",
       "5. 'AC007228.9'\n",
       "6. 'AC074183.4'\n",
       "\n",
       "\n"
      ],
      "text/plain": [
       "[1] \"A1BG\"        \"AC002467.7\"  \"AC004893.11\" \"AC004951.6\"  \"AC007228.9\" \n",
       "[6] \"AC074183.4\" "
      ]
     },
     "metadata": {},
     "output_type": "display_data"
    }
   ],
   "source": [
    "length(genes_cd4nc)\n",
    "head(genes_cd4nc)"
   ]
  },
  {
   "cell_type": "code",
   "execution_count": 94,
   "id": "3131d70d",
   "metadata": {},
   "outputs": [
    {
     "data": {
      "text/html": [
       "254"
      ],
      "text/latex": [
       "254"
      ],
      "text/markdown": [
       "254"
      ],
      "text/plain": [
       "[1] 254"
      ]
     },
     "metadata": {},
     "output_type": "display_data"
    },
    {
     "data": {
      "text/html": [
       "<style>\n",
       ".list-inline {list-style: none; margin:0; padding: 0}\n",
       ".list-inline>li {display: inline-block}\n",
       ".list-inline>li:not(:last-child)::after {content: \"\\00b7\"; padding: 0 .5ex}\n",
       "</style>\n",
       "<ol class=list-inline><li>'A1BG-19:16410530'</li><li>'AC002467.7-2:71064202'</li><li>'AC004893.11-12:47940721'</li><li>'AC004951.6-7:102093094'</li><li>'AC007228.9-22:41910244'</li><li>'AC074183.4-9:130819574'</li></ol>\n"
      ],
      "text/latex": [
       "\\begin{enumerate*}\n",
       "\\item 'A1BG-19:16410530'\n",
       "\\item 'AC002467.7-2:71064202'\n",
       "\\item 'AC004893.11-12:47940721'\n",
       "\\item 'AC004951.6-7:102093094'\n",
       "\\item 'AC007228.9-22:41910244'\n",
       "\\item 'AC074183.4-9:130819574'\n",
       "\\end{enumerate*}\n"
      ],
      "text/markdown": [
       "1. 'A1BG-19:16410530'\n",
       "2. 'AC002467.7-2:71064202'\n",
       "3. 'AC004893.11-12:47940721'\n",
       "4. 'AC004951.6-7:102093094'\n",
       "5. 'AC007228.9-22:41910244'\n",
       "6. 'AC074183.4-9:130819574'\n",
       "\n",
       "\n"
      ],
      "text/plain": [
       "[1] \"A1BG-19:16410530\"        \"AC002467.7-2:71064202\"  \n",
       "[3] \"AC004893.11-12:47940721\" \"AC004951.6-7:102093094\" \n",
       "[5] \"AC007228.9-22:41910244\"  \"AC074183.4-9:130819574\" "
      ]
     },
     "metadata": {},
     "output_type": "display_data"
    }
   ],
   "source": [
    "length(eqtls_cd4nc)\n",
    "head(eqtls_cd4nc)"
   ]
  },
  {
   "cell_type": "code",
   "execution_count": 95,
   "id": "1470e3ba",
   "metadata": {},
   "outputs": [],
   "source": [
    "###################################"
   ]
  },
  {
   "cell_type": "code",
   "execution_count": 96,
   "id": "e3be4624",
   "metadata": {},
   "outputs": [
    {
     "data": {
      "text/html": [
       "10527"
      ],
      "text/latex": [
       "10527"
      ],
      "text/markdown": [
       "10527"
      ],
      "text/plain": [
       "[1] 10527"
      ]
     },
     "metadata": {},
     "output_type": "display_data"
    },
    {
     "data": {
      "text/html": [
       "<style>\n",
       ".list-inline {list-style: none; margin:0; padding: 0}\n",
       ".list-inline>li {display: inline-block}\n",
       ".list-inline>li:not(:last-child)::after {content: \"\\00b7\"; padding: 0 .5ex}\n",
       "</style>\n",
       "<ol class=list-inline><li>'A1BG_B_IN_count_gw_allchr.txt_result.tophits.annovar.txt.hg19_multianno.txt.merged.txt'</li><li>'AAAS_B_IN_count_gw_allchr.txt_result.tophits.annovar.txt.hg19_multianno.txt.merged.txt'</li></ol>\n"
      ],
      "text/latex": [
       "\\begin{enumerate*}\n",
       "\\item 'A1BG\\_B\\_IN\\_count\\_gw\\_allchr.txt\\_result.tophits.annovar.txt.hg19\\_multianno.txt.merged.txt'\n",
       "\\item 'AAAS\\_B\\_IN\\_count\\_gw\\_allchr.txt\\_result.tophits.annovar.txt.hg19\\_multianno.txt.merged.txt'\n",
       "\\end{enumerate*}\n"
      ],
      "text/markdown": [
       "1. 'A1BG_B_IN_count_gw_allchr.txt_result.tophits.annovar.txt.hg19_multianno.txt.merged.txt'\n",
       "2. 'AAAS_B_IN_count_gw_allchr.txt_result.tophits.annovar.txt.hg19_multianno.txt.merged.txt'\n",
       "\n",
       "\n"
      ],
      "text/plain": [
       "[1] \"A1BG_B_IN_count_gw_allchr.txt_result.tophits.annovar.txt.hg19_multianno.txt.merged.txt\"\n",
       "[2] \"AAAS_B_IN_count_gw_allchr.txt_result.tophits.annovar.txt.hg19_multianno.txt.merged.txt\""
      ]
     },
     "metadata": {},
     "output_type": "display_data"
    }
   ],
   "source": [
    "# B IN\n",
    "trans_dir = \"/directflow/SCCGGroupShare/projects/anncuo/OneK1K/saige_eqtl/from_wei/trans_B_IN_tophits_multianno/\"\n",
    "gene_files = list.files(trans_dir, pattern=\".merged.txt\")\n",
    "length(gene_files)\n",
    "head(gene_files,2)"
   ]
  },
  {
   "cell_type": "code",
   "execution_count": 97,
   "id": "4eb0c35f",
   "metadata": {},
   "outputs": [],
   "source": [
    "n_eqtls = 0\n",
    "n_egenes = 0\n",
    "genes_bin = c()\n",
    "eqtls_bin = c()\n",
    "for (file in gene_files){\n",
    "    df = fread(paste0(trans_dir,file))\n",
    "    # filter to genome-wide significance\n",
    "    colnames(df)[(ncol(df)-2):ncol(df)] <- c(\"p.value\",\"neg.log10.p.value\",\"cis.trans\")\n",
    "    df = df[df$p.value < 5e-8,]\n",
    "    n = nrow(df[df$cis.trans == \"potential_novel\",])\n",
    "    if (n>0){\n",
    "        n_egenes = n_egenes + 1\n",
    "        n_eqtls = n_eqtls + n\n",
    "        gene = gsub(\"_B_IN_count_gw_allchr.txt_result.tophits.annovar.txt.hg19_multianno.txt.merged.txt\",\"\",file)\n",
    "        genes_bin = c(genes_bin,gene)\n",
    "        df$eqtl = paste0(gene,\"-\",df$Chr,\":\",df$Start)\n",
    "        eqtls_bin = c(eqtls_bin, df[df$cis.trans == \"potential_novel\",]$eqtl)\n",
    "    }\n",
    "}"
   ]
  },
  {
   "cell_type": "code",
   "execution_count": 98,
   "id": "05d049fe",
   "metadata": {},
   "outputs": [
    {
     "data": {
      "text/html": [
       "122"
      ],
      "text/latex": [
       "122"
      ],
      "text/markdown": [
       "122"
      ],
      "text/plain": [
       "[1] 122"
      ]
     },
     "metadata": {},
     "output_type": "display_data"
    },
    {
     "data": {
      "text/html": [
       "126"
      ],
      "text/latex": [
       "126"
      ],
      "text/markdown": [
       "126"
      ],
      "text/plain": [
       "[1] 126"
      ]
     },
     "metadata": {},
     "output_type": "display_data"
    }
   ],
   "source": [
    "n_egenes\n",
    "n_eqtls"
   ]
  },
  {
   "cell_type": "code",
   "execution_count": 99,
   "id": "3f246cea",
   "metadata": {},
   "outputs": [
    {
     "data": {
      "text/html": [
       "122"
      ],
      "text/latex": [
       "122"
      ],
      "text/markdown": [
       "122"
      ],
      "text/plain": [
       "[1] 122"
      ]
     },
     "metadata": {},
     "output_type": "display_data"
    },
    {
     "data": {
      "text/html": [
       "<style>\n",
       ".list-inline {list-style: none; margin:0; padding: 0}\n",
       ".list-inline>li {display: inline-block}\n",
       ".list-inline>li:not(:last-child)::after {content: \"\\00b7\"; padding: 0 .5ex}\n",
       "</style>\n",
       "<ol class=list-inline><li>'AC002480.2'</li><li>'AC074183.4'</li><li>'ACP2'</li><li>'ACP5'</li><li>'ACTR3C'</li><li>'AKR1C3'</li></ol>\n"
      ],
      "text/latex": [
       "\\begin{enumerate*}\n",
       "\\item 'AC002480.2'\n",
       "\\item 'AC074183.4'\n",
       "\\item 'ACP2'\n",
       "\\item 'ACP5'\n",
       "\\item 'ACTR3C'\n",
       "\\item 'AKR1C3'\n",
       "\\end{enumerate*}\n"
      ],
      "text/markdown": [
       "1. 'AC002480.2'\n",
       "2. 'AC074183.4'\n",
       "3. 'ACP2'\n",
       "4. 'ACP5'\n",
       "5. 'ACTR3C'\n",
       "6. 'AKR1C3'\n",
       "\n",
       "\n"
      ],
      "text/plain": [
       "[1] \"AC002480.2\" \"AC074183.4\" \"ACP2\"       \"ACP5\"       \"ACTR3C\"    \n",
       "[6] \"AKR1C3\"    "
      ]
     },
     "metadata": {},
     "output_type": "display_data"
    }
   ],
   "source": [
    "length(genes_bin)\n",
    "head(genes_bin)"
   ]
  },
  {
   "cell_type": "code",
   "execution_count": 100,
   "id": "b851b4fa",
   "metadata": {},
   "outputs": [
    {
     "data": {
      "text/html": [
       "126"
      ],
      "text/latex": [
       "126"
      ],
      "text/markdown": [
       "126"
      ],
      "text/plain": [
       "[1] 126"
      ]
     },
     "metadata": {},
     "output_type": "display_data"
    },
    {
     "data": {
      "text/html": [
       "<style>\n",
       ".list-inline {list-style: none; margin:0; padding: 0}\n",
       ".list-inline>li {display: inline-block}\n",
       ".list-inline>li:not(:last-child)::after {content: \"\\00b7\"; padding: 0 .5ex}\n",
       "</style>\n",
       "<ol class=list-inline><li>'AC002480.2-1:204388944'</li><li>'AC074183.4-9:139611159'</li><li>'ACP2-2:66811108'</li><li>'ACP5-9:117479509'</li><li>'ACTR3C-1:43408279'</li><li>'AKR1C3-1:200060673'</li></ol>\n"
      ],
      "text/latex": [
       "\\begin{enumerate*}\n",
       "\\item 'AC002480.2-1:204388944'\n",
       "\\item 'AC074183.4-9:139611159'\n",
       "\\item 'ACP2-2:66811108'\n",
       "\\item 'ACP5-9:117479509'\n",
       "\\item 'ACTR3C-1:43408279'\n",
       "\\item 'AKR1C3-1:200060673'\n",
       "\\end{enumerate*}\n"
      ],
      "text/markdown": [
       "1. 'AC002480.2-1:204388944'\n",
       "2. 'AC074183.4-9:139611159'\n",
       "3. 'ACP2-2:66811108'\n",
       "4. 'ACP5-9:117479509'\n",
       "5. 'ACTR3C-1:43408279'\n",
       "6. 'AKR1C3-1:200060673'\n",
       "\n",
       "\n"
      ],
      "text/plain": [
       "[1] \"AC002480.2-1:204388944\" \"AC074183.4-9:139611159\" \"ACP2-2:66811108\"       \n",
       "[4] \"ACP5-9:117479509\"       \"ACTR3C-1:43408279\"      \"AKR1C3-1:200060673\"    "
      ]
     },
     "metadata": {},
     "output_type": "display_data"
    }
   ],
   "source": [
    "length(eqtls_bin)\n",
    "head(eqtls_bin)"
   ]
  },
  {
   "cell_type": "code",
   "execution_count": 101,
   "id": "fa8abff8",
   "metadata": {},
   "outputs": [],
   "source": [
    "###################################"
   ]
  },
  {
   "cell_type": "code",
   "execution_count": 102,
   "id": "91a3ba80",
   "metadata": {},
   "outputs": [
    {
     "data": {
      "text/html": [
       "5484"
      ],
      "text/latex": [
       "5484"
      ],
      "text/markdown": [
       "5484"
      ],
      "text/plain": [
       "[1] 5484"
      ]
     },
     "metadata": {},
     "output_type": "display_data"
    },
    {
     "data": {
      "text/html": [
       "<style>\n",
       ".list-inline {list-style: none; margin:0; padding: 0}\n",
       ".list-inline>li {display: inline-block}\n",
       ".list-inline>li:not(:last-child)::after {content: \"\\00b7\"; padding: 0 .5ex}\n",
       "</style>\n",
       "<ol class=list-inline><li>'A1BG_Plasma_count_gw_allchr.txt_result.tophits.annovar.txt.hg19_multianno.txt.merged.txt'</li><li>'AAAS_Plasma_count_gw_allchr.txt_result.tophits.annovar.txt.hg19_multianno.txt.merged.txt'</li></ol>\n"
      ],
      "text/latex": [
       "\\begin{enumerate*}\n",
       "\\item 'A1BG\\_Plasma\\_count\\_gw\\_allchr.txt\\_result.tophits.annovar.txt.hg19\\_multianno.txt.merged.txt'\n",
       "\\item 'AAAS\\_Plasma\\_count\\_gw\\_allchr.txt\\_result.tophits.annovar.txt.hg19\\_multianno.txt.merged.txt'\n",
       "\\end{enumerate*}\n"
      ],
      "text/markdown": [
       "1. 'A1BG_Plasma_count_gw_allchr.txt_result.tophits.annovar.txt.hg19_multianno.txt.merged.txt'\n",
       "2. 'AAAS_Plasma_count_gw_allchr.txt_result.tophits.annovar.txt.hg19_multianno.txt.merged.txt'\n",
       "\n",
       "\n"
      ],
      "text/plain": [
       "[1] \"A1BG_Plasma_count_gw_allchr.txt_result.tophits.annovar.txt.hg19_multianno.txt.merged.txt\"\n",
       "[2] \"AAAS_Plasma_count_gw_allchr.txt_result.tophits.annovar.txt.hg19_multianno.txt.merged.txt\""
      ]
     },
     "metadata": {},
     "output_type": "display_data"
    }
   ],
   "source": [
    "# Plasma\n",
    "trans_dir = \"/directflow/SCCGGroupShare/projects/anncuo/OneK1K/saige_eqtl/from_wei/trans_Plasma_tophits_multianno/\"\n",
    "gene_files = list.files(trans_dir, pattern=\".merged.txt\")\n",
    "length(gene_files)\n",
    "head(gene_files,2)"
   ]
  },
  {
   "cell_type": "code",
   "execution_count": 103,
   "id": "e255f53d",
   "metadata": {},
   "outputs": [],
   "source": [
    "n_eqtls = 0\n",
    "n_egenes = 0\n",
    "genes_plasma = c()\n",
    "eqtls_plasma = c()\n",
    "for (file in gene_files){\n",
    "    df = fread(paste0(trans_dir,file))\n",
    "    # filter to genome-wide significance\n",
    "    colnames(df)[(ncol(df)-2):ncol(df)] <- c(\"p.value\",\"neg.log10.p.value\",\"cis.trans\")\n",
    "    df = df[df$p.value < 5e-8,]\n",
    "    n = nrow(df[df$cis.trans == \"potential_novel\",])\n",
    "    if (n>0){\n",
    "        n_egenes = n_egenes + 1\n",
    "        n_eqtls = n_eqtls + n\n",
    "        gene = gsub(\"_Plasma_count_gw_allchr.txt_result.tophits.annovar.txt.hg19_multianno.txt.merged.txt\",\"\",file)\n",
    "        genes_plasma = c(genes_plasma,gene)\n",
    "        df$eqtl = paste0(gene,\"-\",df$Chr,\":\",df$Start)\n",
    "        eqtls_plasma = c(eqtls_plasma, df[df$cis.trans == \"potential_novel\",]$eqtl)\n",
    "    }\n",
    "}"
   ]
  },
  {
   "cell_type": "code",
   "execution_count": 104,
   "id": "887deb9d",
   "metadata": {},
   "outputs": [
    {
     "data": {
      "text/html": [
       "71"
      ],
      "text/latex": [
       "71"
      ],
      "text/markdown": [
       "71"
      ],
      "text/plain": [
       "[1] 71"
      ]
     },
     "metadata": {},
     "output_type": "display_data"
    },
    {
     "data": {
      "text/html": [
       "373"
      ],
      "text/latex": [
       "373"
      ],
      "text/markdown": [
       "373"
      ],
      "text/plain": [
       "[1] 373"
      ]
     },
     "metadata": {},
     "output_type": "display_data"
    }
   ],
   "source": [
    "n_egenes\n",
    "n_eqtls"
   ]
  },
  {
   "cell_type": "code",
   "execution_count": 105,
   "id": "bf1703bc",
   "metadata": {},
   "outputs": [
    {
     "data": {
      "text/html": [
       "71"
      ],
      "text/latex": [
       "71"
      ],
      "text/markdown": [
       "71"
      ],
      "text/plain": [
       "[1] 71"
      ]
     },
     "metadata": {},
     "output_type": "display_data"
    },
    {
     "data": {
      "text/html": [
       "<style>\n",
       ".list-inline {list-style: none; margin:0; padding: 0}\n",
       ".list-inline>li {display: inline-block}\n",
       ".list-inline>li:not(:last-child)::after {content: \"\\00b7\"; padding: 0 .5ex}\n",
       "</style>\n",
       "<ol class=list-inline><li>'ABCE1'</li><li>'ABHD2'</li><li>'ADCK2'</li><li>'ARHGEF1'</li><li>'ARMC6'</li><li>'ATF7IP'</li></ol>\n"
      ],
      "text/latex": [
       "\\begin{enumerate*}\n",
       "\\item 'ABCE1'\n",
       "\\item 'ABHD2'\n",
       "\\item 'ADCK2'\n",
       "\\item 'ARHGEF1'\n",
       "\\item 'ARMC6'\n",
       "\\item 'ATF7IP'\n",
       "\\end{enumerate*}\n"
      ],
      "text/markdown": [
       "1. 'ABCE1'\n",
       "2. 'ABHD2'\n",
       "3. 'ADCK2'\n",
       "4. 'ARHGEF1'\n",
       "5. 'ARMC6'\n",
       "6. 'ATF7IP'\n",
       "\n",
       "\n"
      ],
      "text/plain": [
       "[1] \"ABCE1\"   \"ABHD2\"   \"ADCK2\"   \"ARHGEF1\" \"ARMC6\"   \"ATF7IP\" "
      ]
     },
     "metadata": {},
     "output_type": "display_data"
    }
   ],
   "source": [
    "length(genes_plasma)\n",
    "head(genes_plasma)"
   ]
  },
  {
   "cell_type": "code",
   "execution_count": 106,
   "id": "f1a0404a",
   "metadata": {},
   "outputs": [
    {
     "data": {
      "text/html": [
       "373"
      ],
      "text/latex": [
       "373"
      ],
      "text/markdown": [
       "373"
      ],
      "text/plain": [
       "[1] 373"
      ]
     },
     "metadata": {},
     "output_type": "display_data"
    },
    {
     "data": {
      "text/html": [
       "<style>\n",
       ".list-inline {list-style: none; margin:0; padding: 0}\n",
       ".list-inline>li {display: inline-block}\n",
       ".list-inline>li:not(:last-child)::after {content: \"\\00b7\"; padding: 0 .5ex}\n",
       "</style>\n",
       "<ol class=list-inline><li>'ABCE1-1:200942385'</li><li>'ABHD2-10:99204791'</li><li>'ADCK2-16:53438426'</li><li>'ARHGEF1-2:202851978'</li><li>'ARMC6-2:142528988'</li><li>'ATF7IP-8:54396078'</li></ol>\n"
      ],
      "text/latex": [
       "\\begin{enumerate*}\n",
       "\\item 'ABCE1-1:200942385'\n",
       "\\item 'ABHD2-10:99204791'\n",
       "\\item 'ADCK2-16:53438426'\n",
       "\\item 'ARHGEF1-2:202851978'\n",
       "\\item 'ARMC6-2:142528988'\n",
       "\\item 'ATF7IP-8:54396078'\n",
       "\\end{enumerate*}\n"
      ],
      "text/markdown": [
       "1. 'ABCE1-1:200942385'\n",
       "2. 'ABHD2-10:99204791'\n",
       "3. 'ADCK2-16:53438426'\n",
       "4. 'ARHGEF1-2:202851978'\n",
       "5. 'ARMC6-2:142528988'\n",
       "6. 'ATF7IP-8:54396078'\n",
       "\n",
       "\n"
      ],
      "text/plain": [
       "[1] \"ABCE1-1:200942385\"   \"ABHD2-10:99204791\"   \"ADCK2-16:53438426\"  \n",
       "[4] \"ARHGEF1-2:202851978\" \"ARMC6-2:142528988\"   \"ATF7IP-8:54396078\"  "
      ]
     },
     "metadata": {},
     "output_type": "display_data"
    }
   ],
   "source": [
    "length(eqtls_plasma)\n",
    "head(eqtls_plasma)"
   ]
  },
  {
   "cell_type": "code",
   "execution_count": 107,
   "id": "857b0245",
   "metadata": {},
   "outputs": [],
   "source": [
    "########### across all three cell types"
   ]
  },
  {
   "cell_type": "code",
   "execution_count": 108,
   "id": "dd6d23f4",
   "metadata": {},
   "outputs": [
    {
     "data": {
      "text/html": [
       "407"
      ],
      "text/latex": [
       "407"
      ],
      "text/markdown": [
       "407"
      ],
      "text/plain": [
       "[1] 407"
      ]
     },
     "metadata": {},
     "output_type": "display_data"
    }
   ],
   "source": [
    "# unique trans eGenes\n",
    "length(unique(c(genes_cd4nc, genes_bin, genes_plasma)))"
   ]
  },
  {
   "cell_type": "code",
   "execution_count": 109,
   "id": "6d882d7e",
   "metadata": {},
   "outputs": [
    {
     "data": {
      "text/html": [
       "750"
      ],
      "text/latex": [
       "750"
      ],
      "text/markdown": [
       "750"
      ],
      "text/plain": [
       "[1] 750"
      ]
     },
     "metadata": {},
     "output_type": "display_data"
    }
   ],
   "source": [
    "# total trans eQTLs\n",
    "length(unique(c(eqtls_cd4nc, eqtls_bin, eqtls_plasma)))"
   ]
  },
  {
   "cell_type": "code",
   "execution_count": null,
   "id": "90b15385",
   "metadata": {},
   "outputs": [],
   "source": []
  }
 ],
 "metadata": {
  "kernelspec": {
   "display_name": "Single Cell Notebook (R 4.1.2)",
   "language": "R",
   "name": "singlecell"
  },
  "language_info": {
   "codemirror_mode": "r",
   "file_extension": ".r",
   "mimetype": "text/x-r-source",
   "name": "R",
   "pygments_lexer": "r",
   "version": "4.1.2"
  }
 },
 "nbformat": 4,
 "nbformat_minor": 5
}
