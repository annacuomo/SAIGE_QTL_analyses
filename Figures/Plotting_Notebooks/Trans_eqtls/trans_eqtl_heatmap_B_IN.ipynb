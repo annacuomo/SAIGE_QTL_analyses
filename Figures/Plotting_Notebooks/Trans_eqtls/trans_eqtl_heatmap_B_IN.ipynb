{
 "cells": [
  {
   "cell_type": "code",
   "execution_count": 1,
   "id": "07603596",
   "metadata": {},
   "outputs": [
    {
     "name": "stderr",
     "output_type": "stream",
     "text": [
      "========================================\n",
      "circlize version 0.4.15\n",
      "CRAN page: https://cran.r-project.org/package=circlize\n",
      "Github page: https://github.com/jokergoo/circlize\n",
      "Documentation: https://jokergoo.github.io/circlize_book/book/\n",
      "\n",
      "If you use it in published research, please cite:\n",
      "Gu, Z. circlize implements and enhances circular visualization\n",
      "  in R. Bioinformatics 2014.\n",
      "\n",
      "This message can be suppressed by:\n",
      "  suppressPackageStartupMessages(library(circlize))\n",
      "========================================\n",
      "\n",
      "\n",
      "Loading required package: grid\n",
      "\n",
      "========================================\n",
      "ComplexHeatmap version 2.10.0\n",
      "Bioconductor page: http://bioconductor.org/packages/ComplexHeatmap/\n",
      "Github page: https://github.com/jokergoo/ComplexHeatmap\n",
      "Documentation: http://jokergoo.github.io/ComplexHeatmap-reference\n",
      "\n",
      "If you use it in published research, please cite:\n",
      "Gu, Z. Complex heatmaps reveal patterns and correlations in multidimensional \n",
      "  genomic data. Bioinformatics 2016.\n",
      "\n",
      "The new InteractiveComplexHeatmap package can directly export static \n",
      "complex heatmaps into an interactive Shiny app with zero effort. Have a try!\n",
      "\n",
      "This message can be suppressed by:\n",
      "  suppressPackageStartupMessages(library(ComplexHeatmap))\n",
      "========================================\n",
      "\n",
      "\n"
     ]
    }
   ],
   "source": [
    "library(circlize)\n",
    "library(ComplexHeatmap)\n",
    "library(data.table)"
   ]
  },
  {
   "cell_type": "code",
   "execution_count": 2,
   "id": "c2e45f7d",
   "metadata": {},
   "outputs": [
    {
     "data": {
      "text/html": [
       "<style>\n",
       ".list-inline {list-style: none; margin:0; padding: 0}\n",
       ".list-inline>li {display: inline-block}\n",
       ".list-inline>li:not(:last-child)::after {content: \"\\00b7\"; padding: 0 .5ex}\n",
       "</style>\n",
       "<ol class=list-inline><li>'/directflow/SCCGGroupShare/projects/anncuo/OneK1K/saige_eqtl/from_wei/trans_B_IN_tophits_multianno/A1BG_B_IN_count_gw_allchr.txt_result.tophits.annovar.txt.hg19_multianno.txt'</li><li>'/directflow/SCCGGroupShare/projects/anncuo/OneK1K/saige_eqtl/from_wei/trans_B_IN_tophits_multianno/A1BG_B_IN_count_gw_allchr.txt_result.tophits.annovar.txt.hg19_multianno.txt.merged.txt'</li></ol>\n"
      ],
      "text/latex": [
       "\\begin{enumerate*}\n",
       "\\item '/directflow/SCCGGroupShare/projects/anncuo/OneK1K/saige\\_eqtl/from\\_wei/trans\\_B\\_IN\\_tophits\\_multianno/A1BG\\_B\\_IN\\_count\\_gw\\_allchr.txt\\_result.tophits.annovar.txt.hg19\\_multianno.txt'\n",
       "\\item '/directflow/SCCGGroupShare/projects/anncuo/OneK1K/saige\\_eqtl/from\\_wei/trans\\_B\\_IN\\_tophits\\_multianno/A1BG\\_B\\_IN\\_count\\_gw\\_allchr.txt\\_result.tophits.annovar.txt.hg19\\_multianno.txt.merged.txt'\n",
       "\\end{enumerate*}\n"
      ],
      "text/markdown": [
       "1. '/directflow/SCCGGroupShare/projects/anncuo/OneK1K/saige_eqtl/from_wei/trans_B_IN_tophits_multianno/A1BG_B_IN_count_gw_allchr.txt_result.tophits.annovar.txt.hg19_multianno.txt'\n",
       "2. '/directflow/SCCGGroupShare/projects/anncuo/OneK1K/saige_eqtl/from_wei/trans_B_IN_tophits_multianno/A1BG_B_IN_count_gw_allchr.txt_result.tophits.annovar.txt.hg19_multianno.txt.merged.txt'\n",
       "\n",
       "\n"
      ],
      "text/plain": [
       "[1] \"/directflow/SCCGGroupShare/projects/anncuo/OneK1K/saige_eqtl/from_wei/trans_B_IN_tophits_multianno/A1BG_B_IN_count_gw_allchr.txt_result.tophits.annovar.txt.hg19_multianno.txt\"           \n",
       "[2] \"/directflow/SCCGGroupShare/projects/anncuo/OneK1K/saige_eqtl/from_wei/trans_B_IN_tophits_multianno/A1BG_B_IN_count_gw_allchr.txt_result.tophits.annovar.txt.hg19_multianno.txt.merged.txt\""
      ]
     },
     "metadata": {},
     "output_type": "display_data"
    }
   ],
   "source": [
    "trans_dir = \"/directflow/SCCGGroupShare/projects/anncuo/OneK1K/saige_eqtl/from_wei/trans_B_IN_tophits_multianno/\"\n",
    "trans_files = paste0(trans_dir,list.files(trans_dir))\n",
    "head(trans_files,2)"
   ]
  },
  {
   "cell_type": "code",
   "execution_count": 3,
   "id": "a149c9f5",
   "metadata": {},
   "outputs": [],
   "source": [
    "# # Manual pruning of \"independent\" SNPs based on distance\n",
    "\n",
    "# dist = 500000\n",
    "# for (myfile in trans_files){\n",
    "#     df = fread(myfile)\n",
    "#     df = unique(df)\n",
    "#     df_list = list()\n",
    "#     to_include_snps = c()\n",
    "#     for (chrom in unique(df$Chr)){\n",
    "#         snps = df[df$Chr==chrom,\"Start\"]$Start\n",
    "#         if (length(snps)==1){chrom_snps = snps}\n",
    "#         else {\n",
    "#             chrom_snps = snps[1]\n",
    "#             for (i in 2:length(snps)){\n",
    "#                 snp = snps[i]\n",
    "#                 mydist = snp-chrom_snps[length(chrom_snps)]\n",
    "#                 if (mydist>dist){chrom_snps = c(chrom_snps, snp)}\n",
    "#             }\n",
    "#         }\n",
    "#         to_include_snps = c(to_include_snps,chrom_snps)\n",
    "#         df_list[[chrom]] = df[df$Chr==chrom & df$Start %in% to_include_snps, ]\n",
    "#     }\n",
    "#     df_new = rbindlist(df_list)\n",
    "#     out_file = paste0(myfile,\".merged.txt\")\n",
    "#     fwrite(df_new, out_file)\n",
    "# }"
   ]
  },
  {
   "cell_type": "code",
   "execution_count": null,
   "id": "fe926518",
   "metadata": {},
   "outputs": [],
   "source": []
  },
  {
   "cell_type": "code",
   "execution_count": 4,
   "id": "4c532887",
   "metadata": {},
   "outputs": [
    {
     "data": {
      "text/html": [
       "<table class=\"dataframe\">\n",
       "<caption>A data.table: 6 × 6</caption>\n",
       "<thead>\n",
       "\t<tr><th scope=col>gene_name</th><th scope=col>gene_id</th><th scope=col>seqid</th><th scope=col>start</th><th scope=col>end</th><th scope=col>strand</th></tr>\n",
       "\t<tr><th scope=col>&lt;chr&gt;</th><th scope=col>&lt;chr&gt;</th><th scope=col>&lt;chr&gt;</th><th scope=col>&lt;int&gt;</th><th scope=col>&lt;int&gt;</th><th scope=col>&lt;chr&gt;</th></tr>\n",
       "</thead>\n",
       "<tbody>\n",
       "\t<tr><td>AL627309.1</td><td>ENSG00000237683</td><td>1</td><td> 134901</td><td> 139379</td><td>-</td></tr>\n",
       "\t<tr><td>AL669831.1</td><td>ENSG00000269831</td><td>1</td><td> 738532</td><td> 739137</td><td>-</td></tr>\n",
       "\t<tr><td>AL645608.2</td><td>ENSG00000269308</td><td>1</td><td> 818043</td><td> 819983</td><td>+</td></tr>\n",
       "\t<tr><td>AL645608.1</td><td>ENSG00000268179</td><td>1</td><td> 861264</td><td> 866445</td><td>-</td></tr>\n",
       "\t<tr><td>AL645728.1</td><td>ENSG00000215014</td><td>1</td><td>1510355</td><td>1511373</td><td>+</td></tr>\n",
       "\t<tr><td>AL590822.2</td><td>ENSG00000269554</td><td>1</td><td>2121237</td><td>2123179</td><td>+</td></tr>\n",
       "</tbody>\n",
       "</table>\n"
      ],
      "text/latex": [
       "A data.table: 6 × 6\n",
       "\\begin{tabular}{llllll}\n",
       " gene\\_name & gene\\_id & seqid & start & end & strand\\\\\n",
       " <chr> & <chr> & <chr> & <int> & <int> & <chr>\\\\\n",
       "\\hline\n",
       "\t AL627309.1 & ENSG00000237683 & 1 &  134901 &  139379 & -\\\\\n",
       "\t AL669831.1 & ENSG00000269831 & 1 &  738532 &  739137 & -\\\\\n",
       "\t AL645608.2 & ENSG00000269308 & 1 &  818043 &  819983 & +\\\\\n",
       "\t AL645608.1 & ENSG00000268179 & 1 &  861264 &  866445 & -\\\\\n",
       "\t AL645728.1 & ENSG00000215014 & 1 & 1510355 & 1511373 & +\\\\\n",
       "\t AL590822.2 & ENSG00000269554 & 1 & 2121237 & 2123179 & +\\\\\n",
       "\\end{tabular}\n"
      ],
      "text/markdown": [
       "\n",
       "A data.table: 6 × 6\n",
       "\n",
       "| gene_name &lt;chr&gt; | gene_id &lt;chr&gt; | seqid &lt;chr&gt; | start &lt;int&gt; | end &lt;int&gt; | strand &lt;chr&gt; |\n",
       "|---|---|---|---|---|---|\n",
       "| AL627309.1 | ENSG00000237683 | 1 |  134901 |  139379 | - |\n",
       "| AL669831.1 | ENSG00000269831 | 1 |  738532 |  739137 | - |\n",
       "| AL645608.2 | ENSG00000269308 | 1 |  818043 |  819983 | + |\n",
       "| AL645608.1 | ENSG00000268179 | 1 |  861264 |  866445 | - |\n",
       "| AL645728.1 | ENSG00000215014 | 1 | 1510355 | 1511373 | + |\n",
       "| AL590822.2 | ENSG00000269554 | 1 | 2121237 | 2123179 | + |\n",
       "\n"
      ],
      "text/plain": [
       "  gene_name  gene_id         seqid start   end     strand\n",
       "1 AL627309.1 ENSG00000237683 1      134901  139379 -     \n",
       "2 AL669831.1 ENSG00000269831 1      738532  739137 -     \n",
       "3 AL645608.2 ENSG00000269308 1      818043  819983 +     \n",
       "4 AL645608.1 ENSG00000268179 1      861264  866445 -     \n",
       "5 AL645728.1 ENSG00000215014 1     1510355 1511373 +     \n",
       "6 AL590822.2 ENSG00000269554 1     2121237 2123179 +     "
      ]
     },
     "metadata": {},
     "output_type": "display_data"
    }
   ],
   "source": [
    "gene_locs_file = \"/directflow/SCCGGroupShare/projects/anncuo/OneK1K/GeneLocations.tsv\"\n",
    "gene_loc = fread(gene_locs_file)\n",
    "head(gene_loc)"
   ]
  },
  {
   "cell_type": "code",
   "execution_count": 5,
   "id": "ecef5ccb",
   "metadata": {},
   "outputs": [
    {
     "data": {
      "text/html": [
       "10527"
      ],
      "text/latex": [
       "10527"
      ],
      "text/markdown": [
       "10527"
      ],
      "text/plain": [
       "[1] 10527"
      ]
     },
     "metadata": {},
     "output_type": "display_data"
    },
    {
     "data": {
      "text/html": [
       "<style>\n",
       ".list-inline {list-style: none; margin:0; padding: 0}\n",
       ".list-inline>li {display: inline-block}\n",
       ".list-inline>li:not(:last-child)::after {content: \"\\00b7\"; padding: 0 .5ex}\n",
       "</style>\n",
       "<ol class=list-inline><li>'A1BG_B_IN_count_gw_allchr.txt_result.tophits.annovar.txt.hg19_multianno.txt.merged.txt'</li><li>'AAAS_B_IN_count_gw_allchr.txt_result.tophits.annovar.txt.hg19_multianno.txt.merged.txt'</li></ol>\n"
      ],
      "text/latex": [
       "\\begin{enumerate*}\n",
       "\\item 'A1BG\\_B\\_IN\\_count\\_gw\\_allchr.txt\\_result.tophits.annovar.txt.hg19\\_multianno.txt.merged.txt'\n",
       "\\item 'AAAS\\_B\\_IN\\_count\\_gw\\_allchr.txt\\_result.tophits.annovar.txt.hg19\\_multianno.txt.merged.txt'\n",
       "\\end{enumerate*}\n"
      ],
      "text/markdown": [
       "1. 'A1BG_B_IN_count_gw_allchr.txt_result.tophits.annovar.txt.hg19_multianno.txt.merged.txt'\n",
       "2. 'AAAS_B_IN_count_gw_allchr.txt_result.tophits.annovar.txt.hg19_multianno.txt.merged.txt'\n",
       "\n",
       "\n"
      ],
      "text/plain": [
       "[1] \"A1BG_B_IN_count_gw_allchr.txt_result.tophits.annovar.txt.hg19_multianno.txt.merged.txt\"\n",
       "[2] \"AAAS_B_IN_count_gw_allchr.txt_result.tophits.annovar.txt.hg19_multianno.txt.merged.txt\""
      ]
     },
     "metadata": {},
     "output_type": "display_data"
    }
   ],
   "source": [
    "gene_files = list.files(trans_dir, pattern=\".merged.txt\")\n",
    "length(gene_files)\n",
    "head(gene_files,2)"
   ]
  },
  {
   "cell_type": "code",
   "execution_count": 6,
   "id": "dab1c175",
   "metadata": {},
   "outputs": [
    {
     "data": {
      "text/html": [
       "10527"
      ],
      "text/latex": [
       "10527"
      ],
      "text/markdown": [
       "10527"
      ],
      "text/plain": [
       "[1] 10527"
      ]
     },
     "metadata": {},
     "output_type": "display_data"
    },
    {
     "data": {
      "text/html": [
       "<style>\n",
       ".list-inline {list-style: none; margin:0; padding: 0}\n",
       ".list-inline>li {display: inline-block}\n",
       ".list-inline>li:not(:last-child)::after {content: \"\\00b7\"; padding: 0 .5ex}\n",
       "</style>\n",
       "<ol class=list-inline><li>'A1BG'</li><li>'AAAS'</li><li>'AACS'</li><li>'AAGAB'</li><li>'AAK1'</li><li>'AAMDC'</li></ol>\n"
      ],
      "text/latex": [
       "\\begin{enumerate*}\n",
       "\\item 'A1BG'\n",
       "\\item 'AAAS'\n",
       "\\item 'AACS'\n",
       "\\item 'AAGAB'\n",
       "\\item 'AAK1'\n",
       "\\item 'AAMDC'\n",
       "\\end{enumerate*}\n"
      ],
      "text/markdown": [
       "1. 'A1BG'\n",
       "2. 'AAAS'\n",
       "3. 'AACS'\n",
       "4. 'AAGAB'\n",
       "5. 'AAK1'\n",
       "6. 'AAMDC'\n",
       "\n",
       "\n"
      ],
      "text/plain": [
       "[1] \"A1BG\"  \"AAAS\"  \"AACS\"  \"AAGAB\" \"AAK1\"  \"AAMDC\""
      ]
     },
     "metadata": {},
     "output_type": "display_data"
    }
   ],
   "source": [
    "genes = gsub(\"_B_IN_count_gw_allchr.txt_result.tophits.annovar.txt.hg19_multianno.txt.merged.txt\", \"\", gene_files)\n",
    "length(genes)\n",
    "head(genes)"
   ]
  },
  {
   "cell_type": "code",
   "execution_count": null,
   "id": "4e97ddb3",
   "metadata": {},
   "outputs": [],
   "source": [
    "df_list = list()\n",
    "for (i in 1:length(genes)){\n",
    "    gene = genes[i]\n",
    "    chrom = gene_loc[gene_loc$gene_name == gene,\"seqid\"]$seqid[1]\n",
    "    file = paste0(trans_dir,gene_files[i])\n",
    "    df = fread(file)\n",
    "    if (nrow(df)==0){next}\n",
    "    colnames(df)[(ncol(df)-2):ncol(df)] <- c(\"p.value\",\"neg.log10.p.value\",\"cis.trans\")\n",
    "    colnames(df)[1:5] <- paste0(\"snp_\",colnames(df)[1:5])\n",
    "    df$gene_chr = chrom\n",
    "    df$gene = gene\n",
    "    df_list[[gene]] = df\n",
    "}\n",
    "df_combine = rbindlist(df_list)"
   ]
  },
  {
   "cell_type": "code",
   "execution_count": null,
   "id": "75ed54c7",
   "metadata": {},
   "outputs": [],
   "source": [
    "nrow(df_combine)\n",
    "head(df_combine)"
   ]
  },
  {
   "cell_type": "code",
   "execution_count": null,
   "id": "dbdc0c70",
   "metadata": {},
   "outputs": [],
   "source": [
    "# create a matrix, SNP chromosome by gene chromosome\n",
    "mat=as.matrix(table(df_combine$snp_Chr, df_combine$gene_chr))\n",
    "# add \"chr\" to chromosome names\n",
    "rownames(mat) = paste0(\"chr\",rownames(mat))\n",
    "colnames(mat) = paste0(\"chr\",colnames(mat))\n",
    "# sort chromosomes from 1 to 22\n",
    "mat = mat[paste0(\"chr\",1:22),paste0(\"chr\",1:22)]"
   ]
  },
  {
   "cell_type": "code",
   "execution_count": null,
   "id": "0907b696",
   "metadata": {},
   "outputs": [],
   "source": [
    "max(mat)"
   ]
  },
  {
   "cell_type": "code",
   "execution_count": null,
   "id": "f1ef70f6",
   "metadata": {},
   "outputs": [],
   "source": [
    "# all results (cis + trans)\n",
    "col_fun = colorRamp2(c(0, max(mat)), c(\"white\", \"red\"))\n",
    "Heatmap(mat, cluster_rows = FALSE, cluster_columns = FALSE, name = \"Number \\nof eQTLs\", \n",
    "        row_title = \"snp chrom\", column_title = \"gene chrom\", col=col_fun)"
   ]
  },
  {
   "cell_type": "code",
   "execution_count": null,
   "id": "faec97cd",
   "metadata": {},
   "outputs": [],
   "source": [
    "fig_dir <- \"/share/ScratchGeneral/anncuo/OneK1K/saige_eqtl/ms_figures/\"\n",
    "pdf(paste0(fig_dir,\"B_IN_trans_cis_heatmap.pdf\"), width=10, height=10)\n",
    "Heatmap(mat, cluster_rows = FALSE, cluster_columns = FALSE, name = \"Number \\nof eQTLs\", \n",
    "        row_title = \"snp chrom\", column_title = \"gene chrom\", col=col_fun)\n",
    "dev.off()"
   ]
  },
  {
   "cell_type": "code",
   "execution_count": null,
   "id": "8e4cead6",
   "metadata": {},
   "outputs": [],
   "source": [
    "# trans only\n",
    "df_combine_trans_only = df_combine[df_combine$cis.trans == \"potential_novel\"]\n",
    "mat_trans=as.matrix(table(df_combine_trans_only$snp_Chr, df_combine_trans_only$gene_chr))\n",
    "rownames(mat_trans) = paste0(\"chr\",rownames(mat_trans))\n",
    "colnames(mat_trans) = paste0(\"chr\",colnames(mat_trans))\n",
    "mat_trans = mat_trans[paste0(\"chr\",1:22),paste0(\"chr\",1:22)]"
   ]
  },
  {
   "cell_type": "code",
   "execution_count": null,
   "id": "1f4eb79c",
   "metadata": {},
   "outputs": [],
   "source": [
    "max(mat_trans)"
   ]
  },
  {
   "cell_type": "code",
   "execution_count": null,
   "id": "b1a4a635",
   "metadata": {},
   "outputs": [],
   "source": [
    "col_fun = colorRamp2(c(0, max(mat_trans)), c(\"white\", \"red\"))\n",
    "Heatmap(mat_trans, cluster_rows = FALSE, cluster_columns = FALSE, name = \"Number of \\ntrans eQTLs\", \n",
    "        row_title = \"snp chrom\", column_title = \"gene chrom\", col=col_fun)"
   ]
  },
  {
   "cell_type": "code",
   "execution_count": null,
   "id": "a5276d02",
   "metadata": {},
   "outputs": [],
   "source": [
    "fig_dir <- \"/share/ScratchGeneral/anncuo/OneK1K/saige_eqtl/ms_figures/\"\n",
    "pdf(paste0(fig_dir,\"B_IN_trans_only_heatmap.pdf\"), width=10, height=10)\n",
    "Heatmap(mat_trans, cluster_rows = FALSE, cluster_columns = FALSE, name = \"Number of \\ntrans eQTLs\", \n",
    "        row_title = \"snp chrom\", column_title = \"gene chrom\", col=col_fun)\n",
    "dev.off()"
   ]
  },
  {
   "cell_type": "code",
   "execution_count": null,
   "id": "e1f170da",
   "metadata": {},
   "outputs": [],
   "source": []
  }
 ],
 "metadata": {
  "kernelspec": {
   "display_name": "Single Cell Notebook (R 4.1.2)",
   "language": "R",
   "name": "singlecell"
  },
  "language_info": {
   "codemirror_mode": "r",
   "file_extension": ".r",
   "mimetype": "text/x-r-source",
   "name": "R",
   "pygments_lexer": "r",
   "version": "4.1.2"
  }
 },
 "nbformat": 4,
 "nbformat_minor": 5
}
