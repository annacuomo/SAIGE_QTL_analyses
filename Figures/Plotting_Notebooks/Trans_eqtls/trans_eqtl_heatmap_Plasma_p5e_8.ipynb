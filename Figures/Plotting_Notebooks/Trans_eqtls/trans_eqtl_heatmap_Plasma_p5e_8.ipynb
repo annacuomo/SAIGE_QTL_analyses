{
 "cells": [
  {
   "cell_type": "code",
   "execution_count": 2,
   "id": "07603596",
   "metadata": {},
   "outputs": [],
   "source": [
    "library(circlize)\n",
    "library(ComplexHeatmap)\n",
    "library(data.table)"
   ]
  },
  {
   "cell_type": "code",
   "execution_count": 3,
   "id": "c2e45f7d",
   "metadata": {},
   "outputs": [
    {
     "data": {
      "text/html": [
       "<style>\n",
       ".list-inline {list-style: none; margin:0; padding: 0}\n",
       ".list-inline>li {display: inline-block}\n",
       ".list-inline>li:not(:last-child)::after {content: \"\\00b7\"; padding: 0 .5ex}\n",
       "</style>\n",
       "<ol class=list-inline><li>'/directflow/SCCGGroupShare/projects/anncuo/OneK1K/saige_eqtl/from_wei/trans_Plasma_tophits_multianno/A1BG_Plasma_count_gw_allchr.txt_result.tophits.annovar.txt.hg19_multianno.txt'</li><li>'/directflow/SCCGGroupShare/projects/anncuo/OneK1K/saige_eqtl/from_wei/trans_Plasma_tophits_multianno/A1BG_Plasma_count_gw_allchr.txt_result.tophits.annovar.txt.hg19_multianno.txt.merged.txt'</li></ol>\n"
      ],
      "text/latex": [
       "\\begin{enumerate*}\n",
       "\\item '/directflow/SCCGGroupShare/projects/anncuo/OneK1K/saige\\_eqtl/from\\_wei/trans\\_Plasma\\_tophits\\_multianno/A1BG\\_Plasma\\_count\\_gw\\_allchr.txt\\_result.tophits.annovar.txt.hg19\\_multianno.txt'\n",
       "\\item '/directflow/SCCGGroupShare/projects/anncuo/OneK1K/saige\\_eqtl/from\\_wei/trans\\_Plasma\\_tophits\\_multianno/A1BG\\_Plasma\\_count\\_gw\\_allchr.txt\\_result.tophits.annovar.txt.hg19\\_multianno.txt.merged.txt'\n",
       "\\end{enumerate*}\n"
      ],
      "text/markdown": [
       "1. '/directflow/SCCGGroupShare/projects/anncuo/OneK1K/saige_eqtl/from_wei/trans_Plasma_tophits_multianno/A1BG_Plasma_count_gw_allchr.txt_result.tophits.annovar.txt.hg19_multianno.txt'\n",
       "2. '/directflow/SCCGGroupShare/projects/anncuo/OneK1K/saige_eqtl/from_wei/trans_Plasma_tophits_multianno/A1BG_Plasma_count_gw_allchr.txt_result.tophits.annovar.txt.hg19_multianno.txt.merged.txt'\n",
       "\n",
       "\n"
      ],
      "text/plain": [
       "[1] \"/directflow/SCCGGroupShare/projects/anncuo/OneK1K/saige_eqtl/from_wei/trans_Plasma_tophits_multianno/A1BG_Plasma_count_gw_allchr.txt_result.tophits.annovar.txt.hg19_multianno.txt\"           \n",
       "[2] \"/directflow/SCCGGroupShare/projects/anncuo/OneK1K/saige_eqtl/from_wei/trans_Plasma_tophits_multianno/A1BG_Plasma_count_gw_allchr.txt_result.tophits.annovar.txt.hg19_multianno.txt.merged.txt\""
      ]
     },
     "metadata": {},
     "output_type": "display_data"
    }
   ],
   "source": [
    "trans_dir = \"/directflow/SCCGGroupShare/projects/anncuo/OneK1K/saige_eqtl/from_wei/trans_Plasma_tophits_multianno/\"\n",
    "trans_files = paste0(trans_dir,list.files(trans_dir))\n",
    "head(trans_files,2)"
   ]
  },
  {
   "cell_type": "code",
   "execution_count": null,
   "id": "fe926518",
   "metadata": {},
   "outputs": [],
   "source": []
  },
  {
   "cell_type": "code",
   "execution_count": 4,
   "id": "4c532887",
   "metadata": {},
   "outputs": [
    {
     "data": {
      "text/html": [
       "<table class=\"dataframe\">\n",
       "<caption>A data.table: 6 × 6</caption>\n",
       "<thead>\n",
       "\t<tr><th scope=col>gene_name</th><th scope=col>gene_id</th><th scope=col>seqid</th><th scope=col>start</th><th scope=col>end</th><th scope=col>strand</th></tr>\n",
       "\t<tr><th scope=col>&lt;chr&gt;</th><th scope=col>&lt;chr&gt;</th><th scope=col>&lt;chr&gt;</th><th scope=col>&lt;int&gt;</th><th scope=col>&lt;int&gt;</th><th scope=col>&lt;chr&gt;</th></tr>\n",
       "</thead>\n",
       "<tbody>\n",
       "\t<tr><td>AL627309.1</td><td>ENSG00000237683</td><td>1</td><td> 134901</td><td> 139379</td><td>-</td></tr>\n",
       "\t<tr><td>AL669831.1</td><td>ENSG00000269831</td><td>1</td><td> 738532</td><td> 739137</td><td>-</td></tr>\n",
       "\t<tr><td>AL645608.2</td><td>ENSG00000269308</td><td>1</td><td> 818043</td><td> 819983</td><td>+</td></tr>\n",
       "\t<tr><td>AL645608.1</td><td>ENSG00000268179</td><td>1</td><td> 861264</td><td> 866445</td><td>-</td></tr>\n",
       "\t<tr><td>AL645728.1</td><td>ENSG00000215014</td><td>1</td><td>1510355</td><td>1511373</td><td>+</td></tr>\n",
       "\t<tr><td>AL590822.2</td><td>ENSG00000269554</td><td>1</td><td>2121237</td><td>2123179</td><td>+</td></tr>\n",
       "</tbody>\n",
       "</table>\n"
      ],
      "text/latex": [
       "A data.table: 6 × 6\n",
       "\\begin{tabular}{llllll}\n",
       " gene\\_name & gene\\_id & seqid & start & end & strand\\\\\n",
       " <chr> & <chr> & <chr> & <int> & <int> & <chr>\\\\\n",
       "\\hline\n",
       "\t AL627309.1 & ENSG00000237683 & 1 &  134901 &  139379 & -\\\\\n",
       "\t AL669831.1 & ENSG00000269831 & 1 &  738532 &  739137 & -\\\\\n",
       "\t AL645608.2 & ENSG00000269308 & 1 &  818043 &  819983 & +\\\\\n",
       "\t AL645608.1 & ENSG00000268179 & 1 &  861264 &  866445 & -\\\\\n",
       "\t AL645728.1 & ENSG00000215014 & 1 & 1510355 & 1511373 & +\\\\\n",
       "\t AL590822.2 & ENSG00000269554 & 1 & 2121237 & 2123179 & +\\\\\n",
       "\\end{tabular}\n"
      ],
      "text/markdown": [
       "\n",
       "A data.table: 6 × 6\n",
       "\n",
       "| gene_name &lt;chr&gt; | gene_id &lt;chr&gt; | seqid &lt;chr&gt; | start &lt;int&gt; | end &lt;int&gt; | strand &lt;chr&gt; |\n",
       "|---|---|---|---|---|---|\n",
       "| AL627309.1 | ENSG00000237683 | 1 |  134901 |  139379 | - |\n",
       "| AL669831.1 | ENSG00000269831 | 1 |  738532 |  739137 | - |\n",
       "| AL645608.2 | ENSG00000269308 | 1 |  818043 |  819983 | + |\n",
       "| AL645608.1 | ENSG00000268179 | 1 |  861264 |  866445 | - |\n",
       "| AL645728.1 | ENSG00000215014 | 1 | 1510355 | 1511373 | + |\n",
       "| AL590822.2 | ENSG00000269554 | 1 | 2121237 | 2123179 | + |\n",
       "\n"
      ],
      "text/plain": [
       "  gene_name  gene_id         seqid start   end     strand\n",
       "1 AL627309.1 ENSG00000237683 1      134901  139379 -     \n",
       "2 AL669831.1 ENSG00000269831 1      738532  739137 -     \n",
       "3 AL645608.2 ENSG00000269308 1      818043  819983 +     \n",
       "4 AL645608.1 ENSG00000268179 1      861264  866445 -     \n",
       "5 AL645728.1 ENSG00000215014 1     1510355 1511373 +     \n",
       "6 AL590822.2 ENSG00000269554 1     2121237 2123179 +     "
      ]
     },
     "metadata": {},
     "output_type": "display_data"
    }
   ],
   "source": [
    "gene_locs_file = \"/directflow/SCCGGroupShare/projects/anncuo/OneK1K/GeneLocations.tsv\"\n",
    "gene_loc = fread(gene_locs_file)\n",
    "head(gene_loc)"
   ]
  },
  {
   "cell_type": "code",
   "execution_count": 5,
   "id": "ecef5ccb",
   "metadata": {},
   "outputs": [
    {
     "data": {
      "text/html": [
       "5484"
      ],
      "text/latex": [
       "5484"
      ],
      "text/markdown": [
       "5484"
      ],
      "text/plain": [
       "[1] 5484"
      ]
     },
     "metadata": {},
     "output_type": "display_data"
    },
    {
     "data": {
      "text/html": [
       "<style>\n",
       ".list-inline {list-style: none; margin:0; padding: 0}\n",
       ".list-inline>li {display: inline-block}\n",
       ".list-inline>li:not(:last-child)::after {content: \"\\00b7\"; padding: 0 .5ex}\n",
       "</style>\n",
       "<ol class=list-inline><li>'A1BG_Plasma_count_gw_allchr.txt_result.tophits.annovar.txt.hg19_multianno.txt.merged.txt'</li><li>'AAAS_Plasma_count_gw_allchr.txt_result.tophits.annovar.txt.hg19_multianno.txt.merged.txt'</li></ol>\n"
      ],
      "text/latex": [
       "\\begin{enumerate*}\n",
       "\\item 'A1BG\\_Plasma\\_count\\_gw\\_allchr.txt\\_result.tophits.annovar.txt.hg19\\_multianno.txt.merged.txt'\n",
       "\\item 'AAAS\\_Plasma\\_count\\_gw\\_allchr.txt\\_result.tophits.annovar.txt.hg19\\_multianno.txt.merged.txt'\n",
       "\\end{enumerate*}\n"
      ],
      "text/markdown": [
       "1. 'A1BG_Plasma_count_gw_allchr.txt_result.tophits.annovar.txt.hg19_multianno.txt.merged.txt'\n",
       "2. 'AAAS_Plasma_count_gw_allchr.txt_result.tophits.annovar.txt.hg19_multianno.txt.merged.txt'\n",
       "\n",
       "\n"
      ],
      "text/plain": [
       "[1] \"A1BG_Plasma_count_gw_allchr.txt_result.tophits.annovar.txt.hg19_multianno.txt.merged.txt\"\n",
       "[2] \"AAAS_Plasma_count_gw_allchr.txt_result.tophits.annovar.txt.hg19_multianno.txt.merged.txt\""
      ]
     },
     "metadata": {},
     "output_type": "display_data"
    }
   ],
   "source": [
    "gene_files = list.files(trans_dir, pattern=\".merged.txt\")\n",
    "length(gene_files)\n",
    "head(gene_files,2)"
   ]
  },
  {
   "cell_type": "code",
   "execution_count": 6,
   "id": "dab1c175",
   "metadata": {},
   "outputs": [
    {
     "data": {
      "text/html": [
       "5484"
      ],
      "text/latex": [
       "5484"
      ],
      "text/markdown": [
       "5484"
      ],
      "text/plain": [
       "[1] 5484"
      ]
     },
     "metadata": {},
     "output_type": "display_data"
    },
    {
     "data": {
      "text/html": [
       "<style>\n",
       ".list-inline {list-style: none; margin:0; padding: 0}\n",
       ".list-inline>li {display: inline-block}\n",
       ".list-inline>li:not(:last-child)::after {content: \"\\00b7\"; padding: 0 .5ex}\n",
       "</style>\n",
       "<ol class=list-inline><li>'A1BG'</li><li>'AAAS'</li><li>'AAGAB'</li><li>'AAK1'</li><li>'AAMDC'</li><li>'AAR2'</li></ol>\n"
      ],
      "text/latex": [
       "\\begin{enumerate*}\n",
       "\\item 'A1BG'\n",
       "\\item 'AAAS'\n",
       "\\item 'AAGAB'\n",
       "\\item 'AAK1'\n",
       "\\item 'AAMDC'\n",
       "\\item 'AAR2'\n",
       "\\end{enumerate*}\n"
      ],
      "text/markdown": [
       "1. 'A1BG'\n",
       "2. 'AAAS'\n",
       "3. 'AAGAB'\n",
       "4. 'AAK1'\n",
       "5. 'AAMDC'\n",
       "6. 'AAR2'\n",
       "\n",
       "\n"
      ],
      "text/plain": [
       "[1] \"A1BG\"  \"AAAS\"  \"AAGAB\" \"AAK1\"  \"AAMDC\" \"AAR2\" "
      ]
     },
     "metadata": {},
     "output_type": "display_data"
    }
   ],
   "source": [
    "genes = gsub(\"_Plasma_count_gw_allchr.txt_result.tophits.annovar.txt.hg19_multianno.txt.merged.txt\", \"\", gene_files)\n",
    "length(genes)\n",
    "head(genes)"
   ]
  },
  {
   "cell_type": "code",
   "execution_count": 7,
   "id": "4e97ddb3",
   "metadata": {},
   "outputs": [],
   "source": [
    "df_list = list()\n",
    "for (i in 1:length(genes)){\n",
    "    gene = genes[i]\n",
    "    chrom = gene_loc[gene_loc$gene_name == gene,\"seqid\"]$seqid[1]\n",
    "    file = paste0(trans_dir,gene_files[i])\n",
    "    df = fread(file)\n",
    "    if (nrow(df)==0){next}\n",
    "    colnames(df)[(ncol(df)-2):ncol(df)] <- c(\"p.value\",\"neg.log10.p.value\",\"cis.trans\")\n",
    "    # filter to genome-wide significance\n",
    "    df = df[df$p.value < 5e-8,]\n",
    "    colnames(df)[1:5] <- paste0(\"snp_\",colnames(df)[1:5])\n",
    "    df$gene_chr = chrom\n",
    "    df$gene = gene\n",
    "    df_list[[gene]] = df\n",
    "}\n",
    "df_combine = rbindlist(df_list)"
   ]
  },
  {
   "cell_type": "code",
   "execution_count": 8,
   "id": "75ed54c7",
   "metadata": {},
   "outputs": [
    {
     "data": {
      "text/html": [
       "399"
      ],
      "text/latex": [
       "399"
      ],
      "text/markdown": [
       "399"
      ],
      "text/plain": [
       "[1] 399"
      ]
     },
     "metadata": {},
     "output_type": "display_data"
    },
    {
     "data": {
      "text/html": [
       "<table class=\"dataframe\">\n",
       "<caption>A data.table: 6 × 60</caption>\n",
       "<thead>\n",
       "\t<tr><th scope=col>snp_Chr</th><th scope=col>snp_Start</th><th scope=col>snp_End</th><th scope=col>snp_Ref</th><th scope=col>snp_Alt</th><th scope=col>Func.refGene</th><th scope=col>Gene.refGene</th><th scope=col>GeneDetail.refGene</th><th scope=col>ExonicFunc.refGene</th><th scope=col>AAChange.refGene</th><th scope=col>⋯</th><th scope=col>phyloP7way_vertebrate</th><th scope=col>phyloP20way_mammalian</th><th scope=col>phastCons7way_vertebrate</th><th scope=col>phastCons20way_mammalian</th><th scope=col>SiPhy_29way_logOdds</th><th scope=col>p.value</th><th scope=col>neg.log10.p.value</th><th scope=col>cis.trans</th><th scope=col>gene_chr</th><th scope=col>gene</th></tr>\n",
       "\t<tr><th scope=col>&lt;int&gt;</th><th scope=col>&lt;int&gt;</th><th scope=col>&lt;int&gt;</th><th scope=col>&lt;chr&gt;</th><th scope=col>&lt;chr&gt;</th><th scope=col>&lt;chr&gt;</th><th scope=col>&lt;chr&gt;</th><th scope=col>&lt;chr&gt;</th><th scope=col>&lt;chr&gt;</th><th scope=col>&lt;chr&gt;</th><th scope=col>⋯</th><th scope=col>&lt;dbl&gt;</th><th scope=col>&lt;dbl&gt;</th><th scope=col>&lt;dbl&gt;</th><th scope=col>&lt;dbl&gt;</th><th scope=col>&lt;chr&gt;</th><th scope=col>&lt;dbl&gt;</th><th scope=col>&lt;dbl&gt;</th><th scope=col>&lt;chr&gt;</th><th scope=col>&lt;chr&gt;</th><th scope=col>&lt;chr&gt;</th></tr>\n",
       "</thead>\n",
       "<tbody>\n",
       "\t<tr><td> 1</td><td>200942385</td><td>200942385</td><td>G</td><td>A</td><td><span style=white-space:pre-wrap>UTR3      </span></td><td><span style=white-space:pre-wrap>KIF21B            </span></td><td>NM_001252102:c.*264C&gt;T;NM_001252100:c.*838C&gt;T;NM_001252103:c.*264C&gt;T;NM_017596:c.*838C&gt;T</td><td>NA</td><td>NA</td><td>⋯</td><td>NA</td><td>NA</td><td>NA</td><td>NA</td><td>NA</td><td>1.23524e-09</td><td>8.908249</td><td>potential_novel</td><td>4 </td><td><span style=white-space:pre-wrap>ABCE1  </span></td></tr>\n",
       "\t<tr><td>10</td><td> 99204791</td><td> 99204791</td><td>G</td><td>A</td><td>intronic  </td><td>EXOSC1            </td><td>                                                                                        </td><td>NA</td><td>NA</td><td>⋯</td><td>NA</td><td>NA</td><td>NA</td><td>NA</td><td>NA</td><td>4.69299e-08</td><td>7.328550</td><td>potential_novel</td><td>15</td><td>ABHD2  </td></tr>\n",
       "\t<tr><td>16</td><td> 53438426</td><td> 53438426</td><td>C</td><td>G</td><td>intergenic</td><td>LOC102723373;RBL2 </td><td>dist=20255;dist=29957                                                                   </td><td>NA</td><td>NA</td><td>⋯</td><td>NA</td><td>NA</td><td>NA</td><td>NA</td><td>NA</td><td>3.77032e-08</td><td>7.423622</td><td>potential_novel</td><td>7 </td><td>ADCK2  </td></tr>\n",
       "\t<tr><td> 2</td><td>202851978</td><td>202851978</td><td>C</td><td>A</td><td>intergenic</td><td>CDK15;FZD7        </td><td>dist=91705;dist=47332                                                                   </td><td>NA</td><td>NA</td><td>⋯</td><td>NA</td><td>NA</td><td>NA</td><td>NA</td><td>NA</td><td>3.65461e-09</td><td>8.437159</td><td>potential_novel</td><td>19</td><td>ARHGEF1</td></tr>\n",
       "\t<tr><td> 2</td><td>142528988</td><td>142528988</td><td>G</td><td>C</td><td>intronic  </td><td>LRP1B             </td><td>                                                                                        </td><td>NA</td><td>NA</td><td>⋯</td><td>NA</td><td>NA</td><td>NA</td><td>NA</td><td>NA</td><td>2.63239e-08</td><td>7.579650</td><td>potential_novel</td><td>19</td><td>ARMC6  </td></tr>\n",
       "\t<tr><td> 8</td><td> 54396078</td><td> 54396078</td><td>G</td><td>T</td><td>intergenic</td><td>OPRK1;LOC100507516</td><td>dist=231821;dist=28263                                                                  </td><td>NA</td><td>NA</td><td>⋯</td><td>NA</td><td>NA</td><td>NA</td><td>NA</td><td>NA</td><td>4.65608e-08</td><td>7.331980</td><td>potential_novel</td><td>12</td><td>ATF7IP </td></tr>\n",
       "</tbody>\n",
       "</table>\n"
      ],
      "text/latex": [
       "A data.table: 6 × 60\n",
       "\\begin{tabular}{lllllllllllllllllllll}\n",
       " snp\\_Chr & snp\\_Start & snp\\_End & snp\\_Ref & snp\\_Alt & Func.refGene & Gene.refGene & GeneDetail.refGene & ExonicFunc.refGene & AAChange.refGene & ⋯ & phyloP7way\\_vertebrate & phyloP20way\\_mammalian & phastCons7way\\_vertebrate & phastCons20way\\_mammalian & SiPhy\\_29way\\_logOdds & p.value & neg.log10.p.value & cis.trans & gene\\_chr & gene\\\\\n",
       " <int> & <int> & <int> & <chr> & <chr> & <chr> & <chr> & <chr> & <chr> & <chr> & ⋯ & <dbl> & <dbl> & <dbl> & <dbl> & <chr> & <dbl> & <dbl> & <chr> & <chr> & <chr>\\\\\n",
       "\\hline\n",
       "\t  1 & 200942385 & 200942385 & G & A & UTR3       & KIF21B             & NM\\_001252102:c.*264C>T;NM\\_001252100:c.*838C>T;NM\\_001252103:c.*264C>T;NM\\_017596:c.*838C>T & NA & NA & ⋯ & NA & NA & NA & NA & NA & 1.23524e-09 & 8.908249 & potential\\_novel & 4  & ABCE1  \\\\\n",
       "\t 10 &  99204791 &  99204791 & G & A & intronic   & EXOSC1             &                                                                                          & NA & NA & ⋯ & NA & NA & NA & NA & NA & 4.69299e-08 & 7.328550 & potential\\_novel & 15 & ABHD2  \\\\\n",
       "\t 16 &  53438426 &  53438426 & C & G & intergenic & LOC102723373;RBL2  & dist=20255;dist=29957                                                                    & NA & NA & ⋯ & NA & NA & NA & NA & NA & 3.77032e-08 & 7.423622 & potential\\_novel & 7  & ADCK2  \\\\\n",
       "\t  2 & 202851978 & 202851978 & C & A & intergenic & CDK15;FZD7         & dist=91705;dist=47332                                                                    & NA & NA & ⋯ & NA & NA & NA & NA & NA & 3.65461e-09 & 8.437159 & potential\\_novel & 19 & ARHGEF1\\\\\n",
       "\t  2 & 142528988 & 142528988 & G & C & intronic   & LRP1B              &                                                                                          & NA & NA & ⋯ & NA & NA & NA & NA & NA & 2.63239e-08 & 7.579650 & potential\\_novel & 19 & ARMC6  \\\\\n",
       "\t  8 &  54396078 &  54396078 & G & T & intergenic & OPRK1;LOC100507516 & dist=231821;dist=28263                                                                   & NA & NA & ⋯ & NA & NA & NA & NA & NA & 4.65608e-08 & 7.331980 & potential\\_novel & 12 & ATF7IP \\\\\n",
       "\\end{tabular}\n"
      ],
      "text/markdown": [
       "\n",
       "A data.table: 6 × 60\n",
       "\n",
       "| snp_Chr &lt;int&gt; | snp_Start &lt;int&gt; | snp_End &lt;int&gt; | snp_Ref &lt;chr&gt; | snp_Alt &lt;chr&gt; | Func.refGene &lt;chr&gt; | Gene.refGene &lt;chr&gt; | GeneDetail.refGene &lt;chr&gt; | ExonicFunc.refGene &lt;chr&gt; | AAChange.refGene &lt;chr&gt; | ⋯ ⋯ | phyloP7way_vertebrate &lt;dbl&gt; | phyloP20way_mammalian &lt;dbl&gt; | phastCons7way_vertebrate &lt;dbl&gt; | phastCons20way_mammalian &lt;dbl&gt; | SiPhy_29way_logOdds &lt;chr&gt; | p.value &lt;dbl&gt; | neg.log10.p.value &lt;dbl&gt; | cis.trans &lt;chr&gt; | gene_chr &lt;chr&gt; | gene &lt;chr&gt; |\n",
       "|---|---|---|---|---|---|---|---|---|---|---|---|---|---|---|---|---|---|---|---|---|\n",
       "|  1 | 200942385 | 200942385 | G | A | UTR3       | KIF21B             | NM_001252102:c.*264C&gt;T;NM_001252100:c.*838C&gt;T;NM_001252103:c.*264C&gt;T;NM_017596:c.*838C&gt;T | NA | NA | ⋯ | NA | NA | NA | NA | NA | 1.23524e-09 | 8.908249 | potential_novel | 4  | ABCE1   |\n",
       "| 10 |  99204791 |  99204791 | G | A | intronic   | EXOSC1             | <!----> | NA | NA | ⋯ | NA | NA | NA | NA | NA | 4.69299e-08 | 7.328550 | potential_novel | 15 | ABHD2   |\n",
       "| 16 |  53438426 |  53438426 | C | G | intergenic | LOC102723373;RBL2  | dist=20255;dist=29957                                                                    | NA | NA | ⋯ | NA | NA | NA | NA | NA | 3.77032e-08 | 7.423622 | potential_novel | 7  | ADCK2   |\n",
       "|  2 | 202851978 | 202851978 | C | A | intergenic | CDK15;FZD7         | dist=91705;dist=47332                                                                    | NA | NA | ⋯ | NA | NA | NA | NA | NA | 3.65461e-09 | 8.437159 | potential_novel | 19 | ARHGEF1 |\n",
       "|  2 | 142528988 | 142528988 | G | C | intronic   | LRP1B              | <!----> | NA | NA | ⋯ | NA | NA | NA | NA | NA | 2.63239e-08 | 7.579650 | potential_novel | 19 | ARMC6   |\n",
       "|  8 |  54396078 |  54396078 | G | T | intergenic | OPRK1;LOC100507516 | dist=231821;dist=28263                                                                   | NA | NA | ⋯ | NA | NA | NA | NA | NA | 4.65608e-08 | 7.331980 | potential_novel | 12 | ATF7IP  |\n",
       "\n"
      ],
      "text/plain": [
       "  snp_Chr snp_Start snp_End   snp_Ref snp_Alt Func.refGene Gene.refGene      \n",
       "1  1      200942385 200942385 G       A       UTR3         KIF21B            \n",
       "2 10       99204791  99204791 G       A       intronic     EXOSC1            \n",
       "3 16       53438426  53438426 C       G       intergenic   LOC102723373;RBL2 \n",
       "4  2      202851978 202851978 C       A       intergenic   CDK15;FZD7        \n",
       "5  2      142528988 142528988 G       C       intronic     LRP1B             \n",
       "6  8       54396078  54396078 G       T       intergenic   OPRK1;LOC100507516\n",
       "  GeneDetail.refGene                                                                      \n",
       "1 NM_001252102:c.*264C>T;NM_001252100:c.*838C>T;NM_001252103:c.*264C>T;NM_017596:c.*838C>T\n",
       "2                                                                                         \n",
       "3 dist=20255;dist=29957                                                                   \n",
       "4 dist=91705;dist=47332                                                                   \n",
       "5                                                                                         \n",
       "6 dist=231821;dist=28263                                                                  \n",
       "  ExonicFunc.refGene AAChange.refGene ⋯ phyloP7way_vertebrate\n",
       "1 NA                 NA               ⋯ NA                   \n",
       "2 NA                 NA               ⋯ NA                   \n",
       "3 NA                 NA               ⋯ NA                   \n",
       "4 NA                 NA               ⋯ NA                   \n",
       "5 NA                 NA               ⋯ NA                   \n",
       "6 NA                 NA               ⋯ NA                   \n",
       "  phyloP20way_mammalian phastCons7way_vertebrate phastCons20way_mammalian\n",
       "1 NA                    NA                       NA                      \n",
       "2 NA                    NA                       NA                      \n",
       "3 NA                    NA                       NA                      \n",
       "4 NA                    NA                       NA                      \n",
       "5 NA                    NA                       NA                      \n",
       "6 NA                    NA                       NA                      \n",
       "  SiPhy_29way_logOdds p.value     neg.log10.p.value cis.trans       gene_chr\n",
       "1 NA                  1.23524e-09 8.908249          potential_novel 4       \n",
       "2 NA                  4.69299e-08 7.328550          potential_novel 15      \n",
       "3 NA                  3.77032e-08 7.423622          potential_novel 7       \n",
       "4 NA                  3.65461e-09 8.437159          potential_novel 19      \n",
       "5 NA                  2.63239e-08 7.579650          potential_novel 19      \n",
       "6 NA                  4.65608e-08 7.331980          potential_novel 12      \n",
       "  gene   \n",
       "1 ABCE1  \n",
       "2 ABHD2  \n",
       "3 ADCK2  \n",
       "4 ARHGEF1\n",
       "5 ARMC6  \n",
       "6 ATF7IP "
      ]
     },
     "metadata": {},
     "output_type": "display_data"
    }
   ],
   "source": [
    "nrow(df_combine)\n",
    "head(df_combine)"
   ]
  },
  {
   "cell_type": "code",
   "execution_count": 11,
   "id": "ae01373d",
   "metadata": {},
   "outputs": [
    {
     "data": {
      "text/html": [
       "<style>\n",
       ".list-inline {list-style: none; margin:0; padding: 0}\n",
       ".list-inline>li {display: inline-block}\n",
       ".list-inline>li:not(:last-child)::after {content: \"\\00b7\"; padding: 0 .5ex}\n",
       "</style>\n",
       "<ol class=list-inline><li>'1'</li><li>'2'</li><li>'3'</li><li>'4'</li><li>'5'</li><li>'6'</li><li>'7'</li><li>'8'</li><li>'9'</li><li>'10'</li><li>'11'</li><li>'12'</li><li>'13'</li><li>'14'</li><li>'15'</li><li>'16'</li><li>'17'</li><li>'18'</li><li>'19'</li><li>'20'</li><li>'21'</li><li>'22'</li></ol>\n"
      ],
      "text/latex": [
       "\\begin{enumerate*}\n",
       "\\item '1'\n",
       "\\item '2'\n",
       "\\item '3'\n",
       "\\item '4'\n",
       "\\item '5'\n",
       "\\item '6'\n",
       "\\item '7'\n",
       "\\item '8'\n",
       "\\item '9'\n",
       "\\item '10'\n",
       "\\item '11'\n",
       "\\item '12'\n",
       "\\item '13'\n",
       "\\item '14'\n",
       "\\item '15'\n",
       "\\item '16'\n",
       "\\item '17'\n",
       "\\item '18'\n",
       "\\item '19'\n",
       "\\item '20'\n",
       "\\item '21'\n",
       "\\item '22'\n",
       "\\end{enumerate*}\n"
      ],
      "text/markdown": [
       "1. '1'\n",
       "2. '2'\n",
       "3. '3'\n",
       "4. '4'\n",
       "5. '5'\n",
       "6. '6'\n",
       "7. '7'\n",
       "8. '8'\n",
       "9. '9'\n",
       "10. '10'\n",
       "11. '11'\n",
       "12. '12'\n",
       "13. '13'\n",
       "14. '14'\n",
       "15. '15'\n",
       "16. '16'\n",
       "17. '17'\n",
       "18. '18'\n",
       "19. '19'\n",
       "20. '20'\n",
       "21. '21'\n",
       "22. '22'\n",
       "\n",
       "\n"
      ],
      "text/plain": [
       " [1] \"1\"  \"2\"  \"3\"  \"4\"  \"5\"  \"6\"  \"7\"  \"8\"  \"9\"  \"10\" \"11\" \"12\" \"13\" \"14\" \"15\"\n",
       "[16] \"16\" \"17\" \"18\" \"19\" \"20\" \"21\" \"22\""
      ]
     },
     "metadata": {},
     "output_type": "display_data"
    },
    {
     "data": {
      "text/html": [
       "<style>\n",
       ".list-inline {list-style: none; margin:0; padding: 0}\n",
       ".list-inline>li {display: inline-block}\n",
       ".list-inline>li:not(:last-child)::after {content: \"\\00b7\"; padding: 0 .5ex}\n",
       "</style>\n",
       "<ol class=list-inline><li>'1'</li><li>'10'</li><li>'11'</li><li>'12'</li><li>'13'</li><li>'14'</li><li>'15'</li><li>'16'</li><li>'17'</li><li>'18'</li><li>'19'</li><li>'2'</li><li>'20'</li><li>'22'</li><li>'3'</li><li>'4'</li><li>'5'</li><li>'6'</li><li>'7'</li><li>'8'</li><li>'9'</li></ol>\n"
      ],
      "text/latex": [
       "\\begin{enumerate*}\n",
       "\\item '1'\n",
       "\\item '10'\n",
       "\\item '11'\n",
       "\\item '12'\n",
       "\\item '13'\n",
       "\\item '14'\n",
       "\\item '15'\n",
       "\\item '16'\n",
       "\\item '17'\n",
       "\\item '18'\n",
       "\\item '19'\n",
       "\\item '2'\n",
       "\\item '20'\n",
       "\\item '22'\n",
       "\\item '3'\n",
       "\\item '4'\n",
       "\\item '5'\n",
       "\\item '6'\n",
       "\\item '7'\n",
       "\\item '8'\n",
       "\\item '9'\n",
       "\\end{enumerate*}\n"
      ],
      "text/markdown": [
       "1. '1'\n",
       "2. '10'\n",
       "3. '11'\n",
       "4. '12'\n",
       "5. '13'\n",
       "6. '14'\n",
       "7. '15'\n",
       "8. '16'\n",
       "9. '17'\n",
       "10. '18'\n",
       "11. '19'\n",
       "12. '2'\n",
       "13. '20'\n",
       "14. '22'\n",
       "15. '3'\n",
       "16. '4'\n",
       "17. '5'\n",
       "18. '6'\n",
       "19. '7'\n",
       "20. '8'\n",
       "21. '9'\n",
       "\n",
       "\n"
      ],
      "text/plain": [
       " [1] \"1\"  \"10\" \"11\" \"12\" \"13\" \"14\" \"15\" \"16\" \"17\" \"18\" \"19\" \"2\"  \"20\" \"22\" \"3\" \n",
       "[16] \"4\"  \"5\"  \"6\"  \"7\"  \"8\"  \"9\" "
      ]
     },
     "metadata": {},
     "output_type": "display_data"
    }
   ],
   "source": [
    "# create a matrix, SNP chromosome by gene chromosome\n",
    "mat=as.matrix(table(df_combine$snp_Chr, df_combine$gene_chr))\n",
    "rownames(mat)\n",
    "colnames(mat)"
   ]
  },
  {
   "cell_type": "code",
   "execution_count": 12,
   "id": "dbdc0c70",
   "metadata": {},
   "outputs": [],
   "source": [
    "# add \"chr\" to chromosome names\n",
    "rownames(mat) = paste0(\"chr\",rownames(mat))\n",
    "colnames(mat) = paste0(\"chr\",colnames(mat))\n",
    "# sort chromosomes from 1 to 22\n",
    "mat = mat[paste0(\"chr\",1:22),paste0(\"chr\",c(1:20,22))]"
   ]
  },
  {
   "cell_type": "code",
   "execution_count": 13,
   "id": "0907b696",
   "metadata": {},
   "outputs": [
    {
     "data": {
      "text/html": [
       "25"
      ],
      "text/latex": [
       "25"
      ],
      "text/markdown": [
       "25"
      ],
      "text/plain": [
       "[1] 25"
      ]
     },
     "metadata": {},
     "output_type": "display_data"
    }
   ],
   "source": [
    "max(mat)"
   ]
  },
  {
   "cell_type": "code",
   "execution_count": 14,
   "id": "f1ef70f6",
   "metadata": {},
   "outputs": [
    {
     "data": {
      "image/png": "[encoded data removed]",
      "text/plain": [
       "plot without title"
      ]
     },
     "metadata": {
      "image/png": {
       "height": 420,
       "width": 420
      }
     },
     "output_type": "display_data"
    }
   ],
   "source": [
    "# all results (cis + trans)\n",
    "col_fun = colorRamp2(c(0, max(mat)), c(\"white\", \"red\"))\n",
    "Heatmap(mat, cluster_rows = FALSE, cluster_columns = FALSE, name = \"Number \\nof eQTLs\", \n",
    "        row_title = \"snp chrom\", column_title = \"gene chrom\", col=col_fun)"
   ]
  },
  {
   "cell_type": "code",
   "execution_count": 15,
   "id": "faec97cd",
   "metadata": {},
   "outputs": [
    {
     "data": {
      "text/html": [
       "<strong>png:</strong> 2"
      ],
      "text/latex": [
       "\\textbf{png:} 2"
      ],
      "text/markdown": [
       "**png:** 2"
      ],
      "text/plain": [
       "png \n",
       "  2 "
      ]
     },
     "metadata": {},
     "output_type": "display_data"
    }
   ],
   "source": [
    "fig_dir <- \"/directflow/SCCGGroupShare/projects/anncuo/OneK1K/saige_eqtl/ms_figures/trans/\"\n",
    "pdf(paste0(fig_dir,\"Plasma_trans_cis_heatmap_pv_5e_8.pdf\"), width=10, height=10)\n",
    "Heatmap(mat, cluster_rows = FALSE, cluster_columns = FALSE, name = \"Number \\nof eQTLs\", \n",
    "        row_title = \"snp chrom\", column_title = \"gene chrom\", col=col_fun)\n",
    "dev.off()"
   ]
  },
  {
   "cell_type": "code",
   "execution_count": 16,
   "id": "9f18b694",
   "metadata": {},
   "outputs": [
    {
     "data": {
      "text/html": [
       "<style>\n",
       ".list-inline {list-style: none; margin:0; padding: 0}\n",
       ".list-inline>li {display: inline-block}\n",
       ".list-inline>li:not(:last-child)::after {content: \"\\00b7\"; padding: 0 .5ex}\n",
       "</style>\n",
       "<ol class=list-inline><li>'1'</li><li>'2'</li><li>'3'</li><li>'4'</li><li>'5'</li><li>'6'</li><li>'7'</li><li>'8'</li><li>'9'</li><li>'10'</li><li>'11'</li><li>'12'</li><li>'13'</li><li>'14'</li><li>'15'</li><li>'16'</li><li>'17'</li><li>'18'</li><li>'19'</li><li>'20'</li><li>'21'</li><li>'22'</li></ol>\n"
      ],
      "text/latex": [
       "\\begin{enumerate*}\n",
       "\\item '1'\n",
       "\\item '2'\n",
       "\\item '3'\n",
       "\\item '4'\n",
       "\\item '5'\n",
       "\\item '6'\n",
       "\\item '7'\n",
       "\\item '8'\n",
       "\\item '9'\n",
       "\\item '10'\n",
       "\\item '11'\n",
       "\\item '12'\n",
       "\\item '13'\n",
       "\\item '14'\n",
       "\\item '15'\n",
       "\\item '16'\n",
       "\\item '17'\n",
       "\\item '18'\n",
       "\\item '19'\n",
       "\\item '20'\n",
       "\\item '21'\n",
       "\\item '22'\n",
       "\\end{enumerate*}\n"
      ],
      "text/markdown": [
       "1. '1'\n",
       "2. '2'\n",
       "3. '3'\n",
       "4. '4'\n",
       "5. '5'\n",
       "6. '6'\n",
       "7. '7'\n",
       "8. '8'\n",
       "9. '9'\n",
       "10. '10'\n",
       "11. '11'\n",
       "12. '12'\n",
       "13. '13'\n",
       "14. '14'\n",
       "15. '15'\n",
       "16. '16'\n",
       "17. '17'\n",
       "18. '18'\n",
       "19. '19'\n",
       "20. '20'\n",
       "21. '21'\n",
       "22. '22'\n",
       "\n",
       "\n"
      ],
      "text/plain": [
       " [1] \"1\"  \"2\"  \"3\"  \"4\"  \"5\"  \"6\"  \"7\"  \"8\"  \"9\"  \"10\" \"11\" \"12\" \"13\" \"14\" \"15\"\n",
       "[16] \"16\" \"17\" \"18\" \"19\" \"20\" \"21\" \"22\""
      ]
     },
     "metadata": {},
     "output_type": "display_data"
    },
    {
     "data": {
      "text/html": [
       "<style>\n",
       ".list-inline {list-style: none; margin:0; padding: 0}\n",
       ".list-inline>li {display: inline-block}\n",
       ".list-inline>li:not(:last-child)::after {content: \"\\00b7\"; padding: 0 .5ex}\n",
       "</style>\n",
       "<ol class=list-inline><li>'1'</li><li>'10'</li><li>'11'</li><li>'12'</li><li>'13'</li><li>'15'</li><li>'16'</li><li>'17'</li><li>'18'</li><li>'19'</li><li>'2'</li><li>'20'</li><li>'22'</li><li>'3'</li><li>'4'</li><li>'5'</li><li>'6'</li><li>'7'</li><li>'8'</li><li>'9'</li></ol>\n"
      ],
      "text/latex": [
       "\\begin{enumerate*}\n",
       "\\item '1'\n",
       "\\item '10'\n",
       "\\item '11'\n",
       "\\item '12'\n",
       "\\item '13'\n",
       "\\item '15'\n",
       "\\item '16'\n",
       "\\item '17'\n",
       "\\item '18'\n",
       "\\item '19'\n",
       "\\item '2'\n",
       "\\item '20'\n",
       "\\item '22'\n",
       "\\item '3'\n",
       "\\item '4'\n",
       "\\item '5'\n",
       "\\item '6'\n",
       "\\item '7'\n",
       "\\item '8'\n",
       "\\item '9'\n",
       "\\end{enumerate*}\n"
      ],
      "text/markdown": [
       "1. '1'\n",
       "2. '10'\n",
       "3. '11'\n",
       "4. '12'\n",
       "5. '13'\n",
       "6. '15'\n",
       "7. '16'\n",
       "8. '17'\n",
       "9. '18'\n",
       "10. '19'\n",
       "11. '2'\n",
       "12. '20'\n",
       "13. '22'\n",
       "14. '3'\n",
       "15. '4'\n",
       "16. '5'\n",
       "17. '6'\n",
       "18. '7'\n",
       "19. '8'\n",
       "20. '9'\n",
       "\n",
       "\n"
      ],
      "text/plain": [
       " [1] \"1\"  \"10\" \"11\" \"12\" \"13\" \"15\" \"16\" \"17\" \"18\" \"19\" \"2\"  \"20\" \"22\" \"3\"  \"4\" \n",
       "[16] \"5\"  \"6\"  \"7\"  \"8\"  \"9\" "
      ]
     },
     "metadata": {},
     "output_type": "display_data"
    }
   ],
   "source": [
    "# trans only\n",
    "df_combine_trans_only = df_combine[df_combine$cis.trans == \"potential_novel\"]\n",
    "mat_trans=as.matrix(table(df_combine_trans_only$snp_Chr, df_combine_trans_only$gene_chr))\n",
    "rownames(mat_trans)\n",
    "colnames(mat_trans)"
   ]
  },
  {
   "cell_type": "code",
   "execution_count": 17,
   "id": "8e4cead6",
   "metadata": {},
   "outputs": [],
   "source": [
    "rownames(mat_trans) = paste0(\"chr\",rownames(mat_trans))\n",
    "colnames(mat_trans) = paste0(\"chr\",colnames(mat_trans))\n",
    "mat_trans = mat_trans[paste0(\"chr\",1:22),paste0(\"chr\",c(1:13,15:20,22))]"
   ]
  },
  {
   "cell_type": "code",
   "execution_count": 18,
   "id": "1f4eb79c",
   "metadata": {},
   "outputs": [
    {
     "data": {
      "text/html": [
       "25"
      ],
      "text/latex": [
       "25"
      ],
      "text/markdown": [
       "25"
      ],
      "text/plain": [
       "[1] 25"
      ]
     },
     "metadata": {},
     "output_type": "display_data"
    }
   ],
   "source": [
    "max(mat_trans)"
   ]
  },
  {
   "cell_type": "code",
   "execution_count": 19,
   "id": "b1a4a635",
   "metadata": {},
   "outputs": [
    {
     "data": {
      "image/png": "[encoded data removed]",
      "text/plain": [
       "plot without title"
      ]
     },
     "metadata": {
      "image/png": {
       "height": 420,
       "width": 420
      }
     },
     "output_type": "display_data"
    }
   ],
   "source": [
    "col_fun = colorRamp2(c(0, max(mat_trans)), c(\"white\", \"red\"))\n",
    "Heatmap(mat_trans, cluster_rows = FALSE, cluster_columns = FALSE, name = \"Number of \\ntrans eQTLs\", \n",
    "        row_title = \"snp chrom\", column_title = \"gene chrom\", col=col_fun)"
   ]
  },
  {
   "cell_type": "code",
   "execution_count": 20,
   "id": "a5276d02",
   "metadata": {},
   "outputs": [
    {
     "data": {
      "text/html": [
       "<strong>png:</strong> 2"
      ],
      "text/latex": [
       "\\textbf{png:} 2"
      ],
      "text/markdown": [
       "**png:** 2"
      ],
      "text/plain": [
       "png \n",
       "  2 "
      ]
     },
     "metadata": {},
     "output_type": "display_data"
    }
   ],
   "source": [
    "fig_dir <- \"/directflow/SCCGGroupShare/projects/anncuo/OneK1K/saige_eqtl/ms_figures/trans/\"\n",
    "pdf(paste0(fig_dir,\"Plasma_trans_only_heatmap_pv_5e_8.pdf\"), width=10, height=10)\n",
    "Heatmap(mat_trans, cluster_rows = FALSE, cluster_columns = FALSE, name = \"Number of \\ntrans eQTLs\", \n",
    "        row_title = \"snp chrom\", column_title = \"gene chrom\", col=col_fun)\n",
    "dev.off()"
   ]
  },
  {
   "cell_type": "code",
   "execution_count": null,
   "id": "e1f170da",
   "metadata": {},
   "outputs": [],
   "source": []
  }
 ],
 "metadata": {
  "kernelspec": {
   "display_name": "Single Cell Notebook (R 4.1.2)",
   "language": "R",
   "name": "singlecell"
  },
  "language_info": {
   "codemirror_mode": "r",
   "file_extension": ".r",
   "mimetype": "text/x-r-source",
   "name": "R",
   "pygments_lexer": "r",
   "version": "4.1.2"
  }
 },
 "nbformat": 4,
 "nbformat_minor": 5
}
