{
 "cells": [
  {
   "cell_type": "code",
   "execution_count": 1,
   "id": "6bdb9ccf",
   "metadata": {},
   "outputs": [],
   "source": [
    "library(data.table)\n",
    "library(ggplot2)"
   ]
  },
  {
   "cell_type": "code",
   "execution_count": 2,
   "id": "0c6fe5c4",
   "metadata": {},
   "outputs": [],
   "source": [
    "saige_dir = \"/directflow/SCCGGroupShare/projects/anncuo/OneK1K/saige_eqtl/from_wei/Feb24/\""
   ]
  },
  {
   "cell_type": "code",
   "execution_count": 3,
   "id": "9c98f2e5",
   "metadata": {},
   "outputs": [
    {
     "data": {
      "text/html": [
       "<table class=\"dataframe\">\n",
       "<caption>A data.frame: 6 × 31</caption>\n",
       "<thead>\n",
       "\t<tr><th></th><th scope=col>celltype</th><th scope=col>gene</th><th scope=col>R1</th><th scope=col>R2</th><th scope=col>R3</th><th scope=col>R4</th><th scope=col>R5</th><th scope=col>R6</th><th scope=col>pval_beta</th><th scope=col>pval_nominal</th><th scope=col>⋯</th><th scope=col>R3_Loci</th><th scope=col>R4_Loci</th><th scope=col>R5_Loci</th><th scope=col>R6_Loci</th><th scope=col>R1_topPval</th><th scope=col>R2_topPval</th><th scope=col>R3_topPval</th><th scope=col>R4_topPval</th><th scope=col>R5_topPval</th><th scope=col>R6_topPval</th></tr>\n",
       "\t<tr><th></th><th scope=col>&lt;chr&gt;</th><th scope=col>&lt;chr&gt;</th><th scope=col>&lt;dbl&gt;</th><th scope=col>&lt;dbl&gt;</th><th scope=col>&lt;dbl&gt;</th><th scope=col>&lt;dbl&gt;</th><th scope=col>&lt;dbl&gt;</th><th scope=col>&lt;dbl&gt;</th><th scope=col>&lt;dbl&gt;</th><th scope=col>&lt;dbl&gt;</th><th scope=col>⋯</th><th scope=col>&lt;chr&gt;</th><th scope=col>&lt;chr&gt;</th><th scope=col>&lt;chr&gt;</th><th scope=col>&lt;chr&gt;</th><th scope=col>&lt;dbl&gt;</th><th scope=col>&lt;dbl&gt;</th><th scope=col>&lt;dbl&gt;</th><th scope=col>&lt;dbl&gt;</th><th scope=col>&lt;dbl&gt;</th><th scope=col>&lt;dbl&gt;</th></tr>\n",
       "</thead>\n",
       "<tbody>\n",
       "\t<tr><th scope=row>1</th><td>B_IN</td><td>A1BG    </td><td>0.00170947</td><td>0.3705688</td><td>0.7981901</td><td>1.0000000</td><td>1.0000000</td><td>1.0000000</td><td>0.0040709</td><td>6.147731e-06</td><td>⋯</td><td>19:57957633:T:A </td><td>19:57863937:T:C </td><td>19:58872853:G:C </td><td>19:58733610:G:T </td><td>1.13564e-05</td><td>0.00402990</td><td>0.00845249</td><td>0.00692103</td><td>0.01196660</td><td>0.01037450</td></tr>\n",
       "\t<tr><th scope=row>2</th><td>B_IN</td><td>A1BG.AS1</td><td>0.86506417</td><td>0.7647946</td><td>0.7769344</td><td>0.8074401</td><td>0.8690250</td><td>0.8953325</td><td>0.1423371</td><td>4.116421e-04</td><td>⋯</td><td>19:58824721:C:T </td><td>19:57859145:G:T </td><td>19:57945146:T:A </td><td>19:58748944:G:A </td><td>5.88327e-03</td><td>0.00940976</td><td>0.02022780</td><td>0.06795570</td><td>0.36375100</td><td>0.06017900</td></tr>\n",
       "\t<tr><th scope=row>3</th><td>B_IN</td><td>A2M.AS1 </td><td>0.03372643</td><td>0.8588434</td><td>0.9812089</td><td>0.8512917</td><td>0.9699504</td><td>0.8875348</td><td>0.6810340</td><td>2.434186e-03</td><td>⋯</td><td>12:9352713:C:T  </td><td>12:8735252:C:T  </td><td>12:9019431:C:T  </td><td>12:10180030:T:A </td><td>3.70324e-04</td><td>0.00468252</td><td>0.01319110</td><td>0.01270180</td><td>0.01632800</td><td>0.01658600</td></tr>\n",
       "\t<tr><th scope=row>4</th><td>B_IN</td><td>AAAS    </td><td>0.75205437</td><td>0.8529702</td><td>0.8064951</td><td>0.8407367</td><td>0.8048023</td><td>0.8305628</td><td>0.6815684</td><td>2.120636e-03</td><td>⋯</td><td>12:52724379:A:G </td><td>12:52790194:C:A </td><td>12:53369446:T:C </td><td>12:53272113:T:G </td><td>1.43271e-03</td><td>0.00816973</td><td>0.00405493</td><td>0.05945150</td><td>0.06605680</td><td>0.01559110</td></tr>\n",
       "\t<tr><th scope=row>5</th><td>B_IN</td><td>AACS    </td><td>0.77396060</td><td>0.8924841</td><td>1.0000000</td><td>1.0000000</td><td>1.0000000</td><td>1.0000000</td><td>0.9105249</td><td>2.389704e-03</td><td>⋯</td><td>12:126340960:G:A</td><td>12:125440950:T:C</td><td>12:125452272:C:G</td><td>12:124989178:C:T</td><td>1.32184e-03</td><td>0.00351769</td><td>0.00880461</td><td>0.00670560</td><td>0.00494218</td><td>0.00804547</td></tr>\n",
       "\t<tr><th scope=row>6</th><td>B_IN</td><td>AAED1   </td><td>0.09593074</td><td>0.6161154</td><td>0.7516342</td><td>0.8153481</td><td>0.8275128</td><td>0.9096267</td><td>0.6706081</td><td>2.944861e-03</td><td>⋯</td><td>9:98932408:T:C  </td><td>9:100371876:A:G </td><td>9:99234329:C:T  </td><td>9:98806319:C:A  </td><td>1.25254e-03</td><td>0.00974049</td><td>0.00611698</td><td>0.00757482</td><td>0.00231567</td><td>0.01464380</td></tr>\n",
       "</tbody>\n",
       "</table>\n"
      ],
      "text/latex": [
       "A data.frame: 6 × 31\n",
       "\\begin{tabular}{r|lllllllllllllllllllll}\n",
       "  & celltype & gene & R1 & R2 & R3 & R4 & R5 & R6 & pval\\_beta & pval\\_nominal & ⋯ & R3\\_Loci & R4\\_Loci & R5\\_Loci & R6\\_Loci & R1\\_topPval & R2\\_topPval & R3\\_topPval & R4\\_topPval & R5\\_topPval & R6\\_topPval\\\\\n",
       "  & <chr> & <chr> & <dbl> & <dbl> & <dbl> & <dbl> & <dbl> & <dbl> & <dbl> & <dbl> & ⋯ & <chr> & <chr> & <chr> & <chr> & <dbl> & <dbl> & <dbl> & <dbl> & <dbl> & <dbl>\\\\\n",
       "\\hline\n",
       "\t1 & B\\_IN & A1BG     & 0.00170947 & 0.3705688 & 0.7981901 & 1.0000000 & 1.0000000 & 1.0000000 & 0.0040709 & 6.147731e-06 & ⋯ & 19:57957633:T:A  & 19:57863937:T:C  & 19:58872853:G:C  & 19:58733610:G:T  & 1.13564e-05 & 0.00402990 & 0.00845249 & 0.00692103 & 0.01196660 & 0.01037450\\\\\n",
       "\t2 & B\\_IN & A1BG.AS1 & 0.86506417 & 0.7647946 & 0.7769344 & 0.8074401 & 0.8690250 & 0.8953325 & 0.1423371 & 4.116421e-04 & ⋯ & 19:58824721:C:T  & 19:57859145:G:T  & 19:57945146:T:A  & 19:58748944:G:A  & 5.88327e-03 & 0.00940976 & 0.02022780 & 0.06795570 & 0.36375100 & 0.06017900\\\\\n",
       "\t3 & B\\_IN & A2M.AS1  & 0.03372643 & 0.8588434 & 0.9812089 & 0.8512917 & 0.9699504 & 0.8875348 & 0.6810340 & 2.434186e-03 & ⋯ & 12:9352713:C:T   & 12:8735252:C:T   & 12:9019431:C:T   & 12:10180030:T:A  & 3.70324e-04 & 0.00468252 & 0.01319110 & 0.01270180 & 0.01632800 & 0.01658600\\\\\n",
       "\t4 & B\\_IN & AAAS     & 0.75205437 & 0.8529702 & 0.8064951 & 0.8407367 & 0.8048023 & 0.8305628 & 0.6815684 & 2.120636e-03 & ⋯ & 12:52724379:A:G  & 12:52790194:C:A  & 12:53369446:T:C  & 12:53272113:T:G  & 1.43271e-03 & 0.00816973 & 0.00405493 & 0.05945150 & 0.06605680 & 0.01559110\\\\\n",
       "\t5 & B\\_IN & AACS     & 0.77396060 & 0.8924841 & 1.0000000 & 1.0000000 & 1.0000000 & 1.0000000 & 0.9105249 & 2.389704e-03 & ⋯ & 12:126340960:G:A & 12:125440950:T:C & 12:125452272:C:G & 12:124989178:C:T & 1.32184e-03 & 0.00351769 & 0.00880461 & 0.00670560 & 0.00494218 & 0.00804547\\\\\n",
       "\t6 & B\\_IN & AAED1    & 0.09593074 & 0.6161154 & 0.7516342 & 0.8153481 & 0.8275128 & 0.9096267 & 0.6706081 & 2.944861e-03 & ⋯ & 9:98932408:T:C   & 9:100371876:A:G  & 9:99234329:C:T   & 9:98806319:C:A   & 1.25254e-03 & 0.00974049 & 0.00611698 & 0.00757482 & 0.00231567 & 0.01464380\\\\\n",
       "\\end{tabular}\n"
      ],
      "text/markdown": [
       "\n",
       "A data.frame: 6 × 31\n",
       "\n",
       "| <!--/--> | celltype &lt;chr&gt; | gene &lt;chr&gt; | R1 &lt;dbl&gt; | R2 &lt;dbl&gt; | R3 &lt;dbl&gt; | R4 &lt;dbl&gt; | R5 &lt;dbl&gt; | R6 &lt;dbl&gt; | pval_beta &lt;dbl&gt; | pval_nominal &lt;dbl&gt; | ⋯ ⋯ | R3_Loci &lt;chr&gt; | R4_Loci &lt;chr&gt; | R5_Loci &lt;chr&gt; | R6_Loci &lt;chr&gt; | R1_topPval &lt;dbl&gt; | R2_topPval &lt;dbl&gt; | R3_topPval &lt;dbl&gt; | R4_topPval &lt;dbl&gt; | R5_topPval &lt;dbl&gt; | R6_topPval &lt;dbl&gt; |\n",
       "|---|---|---|---|---|---|---|---|---|---|---|---|---|---|---|---|---|---|---|---|---|---|\n",
       "| 1 | B_IN | A1BG     | 0.00170947 | 0.3705688 | 0.7981901 | 1.0000000 | 1.0000000 | 1.0000000 | 0.0040709 | 6.147731e-06 | ⋯ | 19:57957633:T:A  | 19:57863937:T:C  | 19:58872853:G:C  | 19:58733610:G:T  | 1.13564e-05 | 0.00402990 | 0.00845249 | 0.00692103 | 0.01196660 | 0.01037450 |\n",
       "| 2 | B_IN | A1BG.AS1 | 0.86506417 | 0.7647946 | 0.7769344 | 0.8074401 | 0.8690250 | 0.8953325 | 0.1423371 | 4.116421e-04 | ⋯ | 19:58824721:C:T  | 19:57859145:G:T  | 19:57945146:T:A  | 19:58748944:G:A  | 5.88327e-03 | 0.00940976 | 0.02022780 | 0.06795570 | 0.36375100 | 0.06017900 |\n",
       "| 3 | B_IN | A2M.AS1  | 0.03372643 | 0.8588434 | 0.9812089 | 0.8512917 | 0.9699504 | 0.8875348 | 0.6810340 | 2.434186e-03 | ⋯ | 12:9352713:C:T   | 12:8735252:C:T   | 12:9019431:C:T   | 12:10180030:T:A  | 3.70324e-04 | 0.00468252 | 0.01319110 | 0.01270180 | 0.01632800 | 0.01658600 |\n",
       "| 4 | B_IN | AAAS     | 0.75205437 | 0.8529702 | 0.8064951 | 0.8407367 | 0.8048023 | 0.8305628 | 0.6815684 | 2.120636e-03 | ⋯ | 12:52724379:A:G  | 12:52790194:C:A  | 12:53369446:T:C  | 12:53272113:T:G  | 1.43271e-03 | 0.00816973 | 0.00405493 | 0.05945150 | 0.06605680 | 0.01559110 |\n",
       "| 5 | B_IN | AACS     | 0.77396060 | 0.8924841 | 1.0000000 | 1.0000000 | 1.0000000 | 1.0000000 | 0.9105249 | 2.389704e-03 | ⋯ | 12:126340960:G:A | 12:125440950:T:C | 12:125452272:C:G | 12:124989178:C:T | 1.32184e-03 | 0.00351769 | 0.00880461 | 0.00670560 | 0.00494218 | 0.00804547 |\n",
       "| 6 | B_IN | AAED1    | 0.09593074 | 0.6161154 | 0.7516342 | 0.8153481 | 0.8275128 | 0.9096267 | 0.6706081 | 2.944861e-03 | ⋯ | 9:98932408:T:C   | 9:100371876:A:G  | 9:99234329:C:T   | 9:98806319:C:A   | 1.25254e-03 | 0.00974049 | 0.00611698 | 0.00757482 | 0.00231567 | 0.01464380 |\n",
       "\n"
      ],
      "text/plain": [
       "  celltype gene     R1         R2        R3        R4        R5       \n",
       "1 B_IN     A1BG     0.00170947 0.3705688 0.7981901 1.0000000 1.0000000\n",
       "2 B_IN     A1BG.AS1 0.86506417 0.7647946 0.7769344 0.8074401 0.8690250\n",
       "3 B_IN     A2M.AS1  0.03372643 0.8588434 0.9812089 0.8512917 0.9699504\n",
       "4 B_IN     AAAS     0.75205437 0.8529702 0.8064951 0.8407367 0.8048023\n",
       "5 B_IN     AACS     0.77396060 0.8924841 1.0000000 1.0000000 1.0000000\n",
       "6 B_IN     AAED1    0.09593074 0.6161154 0.7516342 0.8153481 0.8275128\n",
       "  R6        pval_beta pval_nominal ⋯ R3_Loci          R4_Loci         \n",
       "1 1.0000000 0.0040709 6.147731e-06 ⋯ 19:57957633:T:A  19:57863937:T:C \n",
       "2 0.8953325 0.1423371 4.116421e-04 ⋯ 19:58824721:C:T  19:57859145:G:T \n",
       "3 0.8875348 0.6810340 2.434186e-03 ⋯ 12:9352713:C:T   12:8735252:C:T  \n",
       "4 0.8305628 0.6815684 2.120636e-03 ⋯ 12:52724379:A:G  12:52790194:C:A \n",
       "5 1.0000000 0.9105249 2.389704e-03 ⋯ 12:126340960:G:A 12:125440950:T:C\n",
       "6 0.9096267 0.6706081 2.944861e-03 ⋯ 9:98932408:T:C   9:100371876:A:G \n",
       "  R5_Loci          R6_Loci          R1_topPval  R2_topPval R3_topPval\n",
       "1 19:58872853:G:C  19:58733610:G:T  1.13564e-05 0.00402990 0.00845249\n",
       "2 19:57945146:T:A  19:58748944:G:A  5.88327e-03 0.00940976 0.02022780\n",
       "3 12:9019431:C:T   12:10180030:T:A  3.70324e-04 0.00468252 0.01319110\n",
       "4 12:53369446:T:C  12:53272113:T:G  1.43271e-03 0.00816973 0.00405493\n",
       "5 12:125452272:C:G 12:124989178:C:T 1.32184e-03 0.00351769 0.00880461\n",
       "6 9:99234329:C:T   9:98806319:C:A   1.25254e-03 0.00974049 0.00611698\n",
       "  R4_topPval R5_topPval R6_topPval\n",
       "1 0.00692103 0.01196660 0.01037450\n",
       "2 0.06795570 0.36375100 0.06017900\n",
       "3 0.01270180 0.01632800 0.01658600\n",
       "4 0.05945150 0.06605680 0.01559110\n",
       "5 0.00670560 0.00494218 0.00804547\n",
       "6 0.00757482 0.00231567 0.01464380"
      ]
     },
     "metadata": {},
     "output_type": "display_data"
    }
   ],
   "source": [
    "myfile = paste0(saige_dir, \"all_ct_loci.list.withCate.qvalue\")\n",
    "df = as.data.frame(fread(myfile))\n",
    "head(df)"
   ]
  },
  {
   "cell_type": "code",
   "execution_count": 4,
   "id": "44fa1b91",
   "metadata": {},
   "outputs": [],
   "source": [
    "celltypes = unique(df$celltype)"
   ]
  },
  {
   "cell_type": "code",
   "execution_count": 5,
   "id": "9a5606e6",
   "metadata": {},
   "outputs": [
    {
     "data": {
      "text/html": [
       "<table class=\"dataframe\">\n",
       "<caption>A data.frame: 6 × 4</caption>\n",
       "<thead>\n",
       "\t<tr><th></th><th scope=col>celltype</th><th scope=col>round</th><th scope=col>n</th><th scope=col>celltype_round</th></tr>\n",
       "\t<tr><th></th><th scope=col>&lt;chr&gt;</th><th scope=col>&lt;chr&gt;</th><th scope=col>&lt;int&gt;</th><th scope=col>&lt;chr&gt;</th></tr>\n",
       "</thead>\n",
       "<tbody>\n",
       "\t<tr><th scope=row>1</th><td>B_IN </td><td>R1</td><td>2126</td><td>B_IN-R1 </td></tr>\n",
       "\t<tr><th scope=row>2</th><td>B_IN </td><td>R2</td><td> 191</td><td>B_IN-R2 </td></tr>\n",
       "\t<tr><th scope=row>3</th><td>B_IN </td><td>R3</td><td>  53</td><td>B_IN-R3 </td></tr>\n",
       "\t<tr><th scope=row>4</th><td>B_IN </td><td>R4</td><td>  33</td><td>B_IN-R4 </td></tr>\n",
       "\t<tr><th scope=row>5</th><td>B_IN </td><td>R5</td><td>  40</td><td>B_IN-R5 </td></tr>\n",
       "\t<tr><th scope=row>6</th><td>B_Mem</td><td>R1</td><td>1909</td><td>B_Mem-R1</td></tr>\n",
       "</tbody>\n",
       "</table>\n"
      ],
      "text/latex": [
       "A data.frame: 6 × 4\n",
       "\\begin{tabular}{r|llll}\n",
       "  & celltype & round & n & celltype\\_round\\\\\n",
       "  & <chr> & <chr> & <int> & <chr>\\\\\n",
       "\\hline\n",
       "\t1 & B\\_IN  & R1 & 2126 & B\\_IN-R1 \\\\\n",
       "\t2 & B\\_IN  & R2 &  191 & B\\_IN-R2 \\\\\n",
       "\t3 & B\\_IN  & R3 &   53 & B\\_IN-R3 \\\\\n",
       "\t4 & B\\_IN  & R4 &   33 & B\\_IN-R4 \\\\\n",
       "\t5 & B\\_IN  & R5 &   40 & B\\_IN-R5 \\\\\n",
       "\t6 & B\\_Mem & R1 & 1909 & B\\_Mem-R1\\\\\n",
       "\\end{tabular}\n"
      ],
      "text/markdown": [
       "\n",
       "A data.frame: 6 × 4\n",
       "\n",
       "| <!--/--> | celltype &lt;chr&gt; | round &lt;chr&gt; | n &lt;int&gt; | celltype_round &lt;chr&gt; |\n",
       "|---|---|---|---|---|\n",
       "| 1 | B_IN  | R1 | 2126 | B_IN-R1  |\n",
       "| 2 | B_IN  | R2 |  191 | B_IN-R2  |\n",
       "| 3 | B_IN  | R3 |   53 | B_IN-R3  |\n",
       "| 4 | B_IN  | R4 |   33 | B_IN-R4  |\n",
       "| 5 | B_IN  | R5 |   40 | B_IN-R5  |\n",
       "| 6 | B_Mem | R1 | 1909 | B_Mem-R1 |\n",
       "\n"
      ],
      "text/plain": [
       "  celltype round n    celltype_round\n",
       "1 B_IN     R1    2126 B_IN-R1       \n",
       "2 B_IN     R2     191 B_IN-R2       \n",
       "3 B_IN     R3      53 B_IN-R3       \n",
       "4 B_IN     R4      33 B_IN-R4       \n",
       "5 B_IN     R5      40 B_IN-R5       \n",
       "6 B_Mem    R1    1909 B_Mem-R1      "
      ]
     },
     "metadata": {},
     "output_type": "display_data"
    }
   ],
   "source": [
    "df_to_plot = data.frame()\n",
    "for (celltype in celltypes){\n",
    "    df0 = df[df$celltype == celltype,]\n",
    "    new_df1 = data.frame(celltype = celltype,\n",
    "                         round = \"R1\",\n",
    "                         n = nrow(df0[df0$R1<0.05,]))\n",
    "    new_df2 = data.frame(celltype = celltype,\n",
    "                         round = \"R2\",\n",
    "                         n = nrow(df0[df0$R2<0.05,]))\n",
    "    new_df3 = data.frame(celltype = celltype,\n",
    "                         round = \"R3\",\n",
    "                         n = nrow(df0[df0$R3<0.05,]))\n",
    "    new_df4 = data.frame(celltype = celltype,\n",
    "                         round = \"R4\",\n",
    "                         n = nrow(df0[df0$R4<0.05,]))\n",
    "    new_df5 = data.frame(celltype = celltype,\n",
    "                         round = \"R5\",\n",
    "                         n = nrow(df0[df0$R5<0.05,]))\n",
    "    df_to_plot = rbind(df_to_plot, new_df1, new_df2, new_df3, new_df4, new_df5)\n",
    "}\n",
    "df_to_plot$celltype_round = paste0(df_to_plot$celltype,\"-\",df_to_plot$round)\n",
    "head(df_to_plot)"
   ]
  },
  {
   "cell_type": "code",
   "execution_count": 6,
   "id": "20ce74ec",
   "metadata": {},
   "outputs": [],
   "source": [
    "df_to_plot$celltype_round <- factor(df_to_plot$celltype_round, \n",
    "                                    levels = c(\"CD4_NC-R1\",\"CD4_NC-R2\",\"CD4_NC-R3\",\"CD4_NC-R4\",\"CD4_NC-R5\",\n",
    "                                               \"CD4_ET-R1\",\"CD4_ET-R2\",\"CD4_ET-R3\",\"CD4_ET-R4\",\"CD4_ET-R5\",\n",
    "                                               \"CD4_SOX4-R1\",\"CD4_SOX4-R2\",\"CD4_SOX4-R3\",\"CD4_SOX4-R4\",\"CD4_SOX4-R5\",\n",
    "                                               \"CD8_ET-R1\",\"CD8_ET-R2\",\"CD8_ET-R3\",\"CD8_ET-R4\",\"CD8_ET-R5\",\n",
    "                                               \"CD8_NC-R1\",\"CD8_NC-R2\",\"CD8_NC-R3\",\"CD8_NC-R4\",\"CD8_NC-R5\",\n",
    "                                               \"CD8_S100B-R1\",\"CD8_S100B-R2\",\"CD8_S100B-R3\",\"CD8_S100B-R4\",\"CD8_S100B-R5\",\n",
    "                                               \"NK-R1\",\"NK-R2\",\"NK-R3\",\"NK-R4\",\"NK-R5\",\n",
    "                                               \"NK_R-R1\",\"NK_R-R2\",\"NK_R-R3\",\"NK_R-R4\",\"NK_R-R5\",\n",
    "                                               \"Plasma-R1\",\"Plasma-R2\",\"Plasma-R3\",\"Plasma-R4\",\"Plasma-R5\",\n",
    "                                               \"B_Mem-R1\",\"B_Mem-R2\",\"B_Mem-R3\",\"B_Mem-R4\",\"B_Mem-R5\",\n",
    "                                               \"B_IN-R1\",\"B_IN-R2\",\"B_IN-R3\",\"B_IN-R4\",\"B_IN-R5\",\n",
    "                                               \"Mono_C-R1\",\"Mono_C-R2\",\"Mono_C-R3\",\"Mono_C-R4\",\"Mono_C-R5\",\n",
    "                                               \"Mono_NC-R1\",\"Mono_NC-R2\",\"Mono_NC-R3\",\"Mono_NC-R4\",\"Mono_NC-R5\",\n",
    "                                               \"DC-R1\",\"DC-R2\",\"DC-R3\",\"DC-R4\",\"DC-R5\"))"
   ]
  },
  {
   "cell_type": "code",
   "execution_count": 7,
   "id": "6e8aaccf",
   "metadata": {},
   "outputs": [],
   "source": [
    "df_colours = data.frame(colours = c(\"#882E72\",\"#882E72\",\"#882E72\",\"#882E72\",\"#882E72\",\n",
    "                                    \"#B178A6\",\"#B178A6\",\"#B178A6\",\"#B178A6\",\"#B178A6\",\n",
    "                                    \"#D6C1DE\",\"#D6C1DE\",\"#D6C1DE\",\"#D6C1DE\",\"#D6C1DE\",\n",
    "                                    \"#1965B0\",\"#1965B0\",\"#1965B0\",\"#1965B0\",\"#1965B0\",\n",
    "                                    \"#5289C7\",\"#5289C7\",\"#5289C7\",\"#5289C7\",\"#5289C7\",\n",
    "                                    \"#7BAFDE\",\"#7BAFDE\",\"#7BAFDE\",\"#7BAFDE\",\"#7BAFDE\",\n",
    "                                    \"#4EB265\",\"#4EB265\",\"#4EB265\",\"#4EB265\",\"#4EB265\",\n",
    "                                    \"#90C987\",\"#90C987\",\"#90C987\",\"#90C987\",\"#90C987\",\n",
    "                                    \"#CAE0AB\",\"#CAE0AB\",\"#CAE0AB\",\"#CAE0AB\",\"#CAE0AB\",\n",
    "                                    \"#F7EE55\",\"#F7EE55\",\"#F7EE55\",\"#F7EE55\",\"#F7EE55\",\n",
    "                                    \"#F6C141\",\"#F6C141\",\"#F6C141\",\"#F6C141\",\"#F6C141\",\n",
    "                                    \"#F1932D\",\"#F1932D\",\"#F1932D\",\"#F1932D\",\"#F1932D\",\n",
    "                                    \"#E8601C\",\"#E8601C\",\"#E8601C\",\"#E8601C\",\"#E8601C\",\n",
    "                                    \"#DC050C\",\"#DC050C\",\"#DC050C\",\"#DC050C\",\"#DC050C\"),\n",
    "                        celltype_round = c(\"CD4_NC-R1\",\"CD4_NC-R2\",\"CD4_NC-R3\",\"CD4_NC-R4\",\"CD4_NC-R5\",\n",
    "                                               \"CD4_ET-R1\",\"CD4_ET-R2\",\"CD4_ET-R3\",\"CD4_ET-R4\",\"CD4_ET-R5\",\n",
    "                                               \"CD4_SOX4-R1\",\"CD4_SOX4-R2\",\"CD4_SOX4-R3\",\"CD4_SOX4-R4\",\"CD4_SOX4-R5\",\n",
    "                                               \"CD8_ET-R1\",\"CD8_ET-R2\",\"CD8_ET-R3\",\"CD8_ET-R4\",\"CD8_ET-R5\",\n",
    "                                               \"CD8_NC-R1\",\"CD8_NC-R2\",\"CD8_NC-R3\",\"CD8_NC-R4\",\"CD8_NC-R5\",\n",
    "                                               \"CD8_S100B-R1\",\"CD8_S100B-R2\",\"CD8_S100B-R3\",\"CD8_S100B-R4\",\"CD8_S100B-R5\",\n",
    "                                               \"NK-R1\",\"NK-R2\",\"NK-R3\",\"NK-R4\",\"NK-R5\",\n",
    "                                               \"NK_R-R1\",\"NK_R-R2\",\"NK_R-R3\",\"NK_R-R4\",\"NK_R-R5\",\n",
    "                                               \"Plasma-R1\",\"Plasma-R2\",\"Plasma-R3\",\"Plasma-R4\",\"Plasma-R5\",\n",
    "                                               \"B_Mem-R1\",\"B_Mem-R2\",\"B_Mem-R3\",\"B_Mem-R4\",\"B_Mem-R5\",\n",
    "                                               \"B_IN-R1\",\"B_IN-R2\",\"B_IN-R3\",\"B_IN-R4\",\"B_IN-R5\",\n",
    "                                               \"Mono_C-R1\",\"Mono_C-R2\",\"Mono_C-R3\",\"Mono_C-R4\",\"Mono_C-R5\",\n",
    "                                               \"Mono_NC-R1\",\"Mono_NC-R2\",\"Mono_NC-R3\",\"Mono_NC-R4\",\"Mono_NC-R5\",\n",
    "                                               \"DC-R1\",\"DC-R2\",\"DC-R3\",\"DC-R4\",\"DC-R5\"))\n",
    "# df_colours"
   ]
  },
  {
   "cell_type": "code",
   "execution_count": 8,
   "id": "26f5268c",
   "metadata": {},
   "outputs": [
    {
     "data": {
      "image/png": "[encoded data removed]",
      "text/plain": [
       "plot without title"
      ]
     },
     "metadata": {
      "image/png": {
       "height": 360,
       "width": 900
      }
     },
     "output_type": "display_data"
    }
   ],
   "source": [
    "options(repr.plot.width = 15, repr.plot.height = 6)\n",
    "p = ggplot(df_to_plot, aes(x=celltype_round, y=n, fill=celltype_round)) \n",
    "p = p + geom_bar(stat = \"identity\") \n",
    "p = p + scale_fill_manual(values = df_colours$colours) \n",
    "p = p + theme_classic() + theme(text = element_text(size=20))\n",
    "p = p + theme(axis.text.x = element_text(angle = 90, vjust = 0.5, hjust=1), legend.position = \"none\")\n",
    "p = p + ylab(\"Number of eGenes\") + xlab(\"Conditional round\")\n",
    "p"
   ]
  },
  {
   "cell_type": "code",
   "execution_count": 9,
   "id": "f055360f",
   "metadata": {},
   "outputs": [
    {
     "data": {
      "text/html": [
       "<strong>png:</strong> 2"
      ],
      "text/latex": [
       "\\textbf{png:} 2"
      ],
      "text/markdown": [
       "**png:** 2"
      ],
      "text/plain": [
       "png \n",
       "  2 "
      ]
     },
     "metadata": {},
     "output_type": "display_data"
    }
   ],
   "source": [
    "fig_dir <- \"/share/ScratchGeneral/anncuo/OneK1K/saige_eqtl/ms_figures/\"\n",
    "pdf(paste0(fig_dir,\"conditional_eqtls.pdf\"), width=15, height=6)\n",
    "p\n",
    "dev.off()"
   ]
  },
  {
   "cell_type": "code",
   "execution_count": null,
   "id": "e7fee83e",
   "metadata": {},
   "outputs": [],
   "source": []
  },
  {
   "cell_type": "code",
   "execution_count": 10,
   "id": "3c48e333",
   "metadata": {},
   "outputs": [
    {
     "data": {
      "text/html": [
       "5560"
      ],
      "text/latex": [
       "5560"
      ],
      "text/markdown": [
       "5560"
      ],
      "text/plain": [
       "[1] 5560"
      ]
     },
     "metadata": {},
     "output_type": "display_data"
    }
   ],
   "source": [
    "# Number of eQTLs rounds 2-5\n",
    "sum(df_to_plot[df_to_plot$round != \"R1\",]$n)"
   ]
  },
  {
   "cell_type": "code",
   "execution_count": 11,
   "id": "e38d39de",
   "metadata": {},
   "outputs": [
    {
     "data": {
      "text/html": [
       "2080"
      ],
      "text/latex": [
       "2080"
      ],
      "text/markdown": [
       "2080"
      ],
      "text/plain": [
       "[1] 2080"
      ]
     },
     "metadata": {},
     "output_type": "display_data"
    },
    {
     "data": {
      "text/html": [
       "563"
      ],
      "text/latex": [
       "563"
      ],
      "text/markdown": [
       "563"
      ],
      "text/plain": [
       "[1] 563"
      ]
     },
     "metadata": {},
     "output_type": "display_data"
    },
    {
     "data": {
      "text/html": [
       "478"
      ],
      "text/latex": [
       "478"
      ],
      "text/markdown": [
       "478"
      ],
      "text/plain": [
       "[1] 478"
      ]
     },
     "metadata": {},
     "output_type": "display_data"
    },
    {
     "data": {
      "text/html": [
       "605"
      ],
      "text/latex": [
       "605"
      ],
      "text/markdown": [
       "605"
      ],
      "text/plain": [
       "[1] 605"
      ]
     },
     "metadata": {},
     "output_type": "display_data"
    },
    {
     "data": {
      "text/html": [
       "2855"
      ],
      "text/latex": [
       "2855"
      ],
      "text/markdown": [
       "2855"
      ],
      "text/plain": [
       "[1] 2855"
      ]
     },
     "metadata": {},
     "output_type": "display_data"
    }
   ],
   "source": [
    "# Determine unique genes\n",
    "# round 2\n",
    "r2_genes = df[df$R2<0.05,\"gene\"]\n",
    "length(unique(r2_genes))\n",
    "# round 3\n",
    "r3_genes = df[df$R3<0.05,\"gene\"]\n",
    "length(unique(r3_genes))\n",
    "# round 4\n",
    "r4_genes = df[df$R4<0.05,\"gene\"]\n",
    "length(unique(r4_genes))\n",
    "# round 5\n",
    "r5_genes = df[df$R5<0.05,\"gene\"]\n",
    "length(unique(r5_genes))\n",
    "# rounds 2-5\n",
    "length(unique(c(r2_genes,r3_genes,r4_genes,r5_genes)))"
   ]
  },
  {
   "cell_type": "code",
   "execution_count": null,
   "id": "b5d11f9a",
   "metadata": {},
   "outputs": [],
   "source": []
  }
 ],
 "metadata": {
  "kernelspec": {
   "display_name": "Single Cell Notebook (R 4.1.2)",
   "language": "R",
   "name": "singlecell"
  },
  "language_info": {
   "codemirror_mode": "r",
   "file_extension": ".r",
   "mimetype": "text/x-r-source",
   "name": "R",
   "pygments_lexer": "r",
   "version": "4.1.2"
  }
 },
 "nbformat": 4,
 "nbformat_minor": 5
}
