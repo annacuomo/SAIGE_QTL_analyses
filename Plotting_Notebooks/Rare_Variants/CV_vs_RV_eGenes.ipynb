{
 "cells": [
  {
   "cell_type": "code",
   "execution_count": 1,
   "id": "0b1e6735",
   "metadata": {},
   "outputs": [],
   "source": [
    "# load useful libraries\n",
    "library(data.table)\n",
    "library(ggplot2)\n",
    "library(qvalue)"
   ]
  },
  {
   "cell_type": "code",
   "execution_count": 2,
   "id": "16e02a76",
   "metadata": {},
   "outputs": [],
   "source": [
    "# Rare Variant results\n",
    "saige_dir = \"/directflow/SCCGGroupShare/projects/anncuo/OneK1K/saige_eqtl/from_wei/Feb24/\"\n",
    "rv_file = paste0(saige_dir, \"all_cis_rare_with_dTSS_weights.results.txt\")\n",
    "df = as.data.frame(fread(rv_file))"
   ]
  },
  {
   "cell_type": "code",
   "execution_count": 3,
   "id": "5ce7e58d",
   "metadata": {},
   "outputs": [
    {
     "data": {
      "text/html": [
       "14"
      ],
      "text/latex": [
       "14"
      ],
      "text/markdown": [
       "14"
      ],
      "text/plain": [
       "[1] 14"
      ]
     },
     "metadata": {},
     "output_type": "display_data"
    }
   ],
   "source": [
    "# extract unique cell types\n",
    "celltypes = unique(df$celltype)\n",
    "length(celltypes)"
   ]
  },
  {
   "cell_type": "code",
   "execution_count": 4,
   "id": "c9193add",
   "metadata": {},
   "outputs": [
    {
     "data": {
      "text/html": [
       "<table class=\"dataframe\">\n",
       "<caption>A data.frame: 6 × 18</caption>\n",
       "<thead>\n",
       "\t<tr><th></th><th scope=col>celltype</th><th scope=col>Region</th><th scope=col>Group</th><th scope=col>min_MAF</th><th scope=col>max_MAF</th><th scope=col>Weight</th><th scope=col>Pvalue</th><th scope=col>Pvalue_ACATV</th><th scope=col>Pvalue_SKATO</th><th scope=col>Pvalue_Burden</th><th scope=col>Pvalue_SKAT</th><th scope=col>BETA_Burden</th><th scope=col>SE_Burden</th><th scope=col>MAC</th><th scope=col>Number_rare</th><th scope=col>Number_ultra_rare</th><th scope=col>gene</th><th scope=col>qv</th></tr>\n",
       "\t<tr><th></th><th scope=col>&lt;chr&gt;</th><th scope=col>&lt;chr&gt;</th><th scope=col>&lt;chr&gt;</th><th scope=col>&lt;int&gt;</th><th scope=col>&lt;dbl&gt;</th><th scope=col>&lt;chr&gt;</th><th scope=col>&lt;dbl&gt;</th><th scope=col>&lt;dbl&gt;</th><th scope=col>&lt;lgl&gt;</th><th scope=col>&lt;dbl&gt;</th><th scope=col>&lt;dbl&gt;</th><th scope=col>&lt;dbl&gt;</th><th scope=col>&lt;dbl&gt;</th><th scope=col>&lt;dbl&gt;</th><th scope=col>&lt;int&gt;</th><th scope=col>&lt;int&gt;</th><th scope=col>&lt;chr&gt;</th><th scope=col>&lt;dbl&gt;</th></tr>\n",
       "</thead>\n",
       "<tbody>\n",
       "\t<tr><th scope=row>4</th><td>Plasma</td><td>A1BG </td><td>Cauchy</td><td>NA</td><td>NA</td><td>NA</td><td>0.7907711</td><td>0.6200851</td><td>NA</td><td>0.8405194</td><td>0.8278134</td><td>NA</td><td>NA</td><td>NA</td><td>NA</td><td>NA</td><td>A1BG </td><td>0.9981279</td></tr>\n",
       "\t<tr><th scope=row>8</th><td>Plasma</td><td>AAAS </td><td>Cauchy</td><td>NA</td><td>NA</td><td>NA</td><td>0.6539804</td><td>0.8087405</td><td>NA</td><td>0.3547883</td><td>0.6738523</td><td>NA</td><td>NA</td><td>NA</td><td>NA</td><td>NA</td><td>AAAS </td><td>0.9981279</td></tr>\n",
       "\t<tr><th scope=row>12</th><td>Plasma</td><td>AACS </td><td>Cauchy</td><td>NA</td><td>NA</td><td>NA</td><td>0.9127562</td><td>0.3272792</td><td>NA</td><td>0.3672272</td><td>0.9728973</td><td>NA</td><td>NA</td><td>NA</td><td>NA</td><td>NA</td><td>AACS </td><td>0.9981279</td></tr>\n",
       "\t<tr><th scope=row>16</th><td>Plasma</td><td>AAED1</td><td>Cauchy</td><td>NA</td><td>NA</td><td>NA</td><td>0.9002482</td><td>0.5393262</td><td>NA</td><td>0.9627107</td><td>0.6803753</td><td>NA</td><td>NA</td><td>NA</td><td>NA</td><td>NA</td><td>AAED1</td><td>0.9981279</td></tr>\n",
       "\t<tr><th scope=row>20</th><td>Plasma</td><td>AAGAB</td><td>Cauchy</td><td>NA</td><td>NA</td><td>NA</td><td>0.8099287</td><td>0.6378124</td><td>NA</td><td>0.9163681</td><td>0.5725483</td><td>NA</td><td>NA</td><td>NA</td><td>NA</td><td>NA</td><td>AAGAB</td><td>0.9981279</td></tr>\n",
       "\t<tr><th scope=row>24</th><td>Plasma</td><td>AAK1 </td><td>Cauchy</td><td>NA</td><td>NA</td><td>NA</td><td>0.6598493</td><td>0.6010894</td><td>NA</td><td>0.5731734</td><td>0.7629241</td><td>NA</td><td>NA</td><td>NA</td><td>NA</td><td>NA</td><td>AAK1 </td><td>0.9981279</td></tr>\n",
       "</tbody>\n",
       "</table>\n"
      ],
      "text/latex": [
       "A data.frame: 6 × 18\n",
       "\\begin{tabular}{r|llllllllllllllllll}\n",
       "  & celltype & Region & Group & min\\_MAF & max\\_MAF & Weight & Pvalue & Pvalue\\_ACATV & Pvalue\\_SKATO & Pvalue\\_Burden & Pvalue\\_SKAT & BETA\\_Burden & SE\\_Burden & MAC & Number\\_rare & Number\\_ultra\\_rare & gene & qv\\\\\n",
       "  & <chr> & <chr> & <chr> & <int> & <dbl> & <chr> & <dbl> & <dbl> & <lgl> & <dbl> & <dbl> & <dbl> & <dbl> & <dbl> & <int> & <int> & <chr> & <dbl>\\\\\n",
       "\\hline\n",
       "\t4 & Plasma & A1BG  & Cauchy & NA & NA & NA & 0.7907711 & 0.6200851 & NA & 0.8405194 & 0.8278134 & NA & NA & NA & NA & NA & A1BG  & 0.9981279\\\\\n",
       "\t8 & Plasma & AAAS  & Cauchy & NA & NA & NA & 0.6539804 & 0.8087405 & NA & 0.3547883 & 0.6738523 & NA & NA & NA & NA & NA & AAAS  & 0.9981279\\\\\n",
       "\t12 & Plasma & AACS  & Cauchy & NA & NA & NA & 0.9127562 & 0.3272792 & NA & 0.3672272 & 0.9728973 & NA & NA & NA & NA & NA & AACS  & 0.9981279\\\\\n",
       "\t16 & Plasma & AAED1 & Cauchy & NA & NA & NA & 0.9002482 & 0.5393262 & NA & 0.9627107 & 0.6803753 & NA & NA & NA & NA & NA & AAED1 & 0.9981279\\\\\n",
       "\t20 & Plasma & AAGAB & Cauchy & NA & NA & NA & 0.8099287 & 0.6378124 & NA & 0.9163681 & 0.5725483 & NA & NA & NA & NA & NA & AAGAB & 0.9981279\\\\\n",
       "\t24 & Plasma & AAK1  & Cauchy & NA & NA & NA & 0.6598493 & 0.6010894 & NA & 0.5731734 & 0.7629241 & NA & NA & NA & NA & NA & AAK1  & 0.9981279\\\\\n",
       "\\end{tabular}\n"
      ],
      "text/markdown": [
       "\n",
       "A data.frame: 6 × 18\n",
       "\n",
       "| <!--/--> | celltype &lt;chr&gt; | Region &lt;chr&gt; | Group &lt;chr&gt; | min_MAF &lt;int&gt; | max_MAF &lt;dbl&gt; | Weight &lt;chr&gt; | Pvalue &lt;dbl&gt; | Pvalue_ACATV &lt;dbl&gt; | Pvalue_SKATO &lt;lgl&gt; | Pvalue_Burden &lt;dbl&gt; | Pvalue_SKAT &lt;dbl&gt; | BETA_Burden &lt;dbl&gt; | SE_Burden &lt;dbl&gt; | MAC &lt;dbl&gt; | Number_rare &lt;int&gt; | Number_ultra_rare &lt;int&gt; | gene &lt;chr&gt; | qv &lt;dbl&gt; |\n",
       "|---|---|---|---|---|---|---|---|---|---|---|---|---|---|---|---|---|---|---|\n",
       "| 4 | Plasma | A1BG  | Cauchy | NA | NA | NA | 0.7907711 | 0.6200851 | NA | 0.8405194 | 0.8278134 | NA | NA | NA | NA | NA | A1BG  | 0.9981279 |\n",
       "| 8 | Plasma | AAAS  | Cauchy | NA | NA | NA | 0.6539804 | 0.8087405 | NA | 0.3547883 | 0.6738523 | NA | NA | NA | NA | NA | AAAS  | 0.9981279 |\n",
       "| 12 | Plasma | AACS  | Cauchy | NA | NA | NA | 0.9127562 | 0.3272792 | NA | 0.3672272 | 0.9728973 | NA | NA | NA | NA | NA | AACS  | 0.9981279 |\n",
       "| 16 | Plasma | AAED1 | Cauchy | NA | NA | NA | 0.9002482 | 0.5393262 | NA | 0.9627107 | 0.6803753 | NA | NA | NA | NA | NA | AAED1 | 0.9981279 |\n",
       "| 20 | Plasma | AAGAB | Cauchy | NA | NA | NA | 0.8099287 | 0.6378124 | NA | 0.9163681 | 0.5725483 | NA | NA | NA | NA | NA | AAGAB | 0.9981279 |\n",
       "| 24 | Plasma | AAK1  | Cauchy | NA | NA | NA | 0.6598493 | 0.6010894 | NA | 0.5731734 | 0.7629241 | NA | NA | NA | NA | NA | AAK1  | 0.9981279 |\n",
       "\n"
      ],
      "text/plain": [
       "   celltype Region Group  min_MAF max_MAF Weight Pvalue    Pvalue_ACATV\n",
       "4  Plasma   A1BG   Cauchy NA      NA      NA     0.7907711 0.6200851   \n",
       "8  Plasma   AAAS   Cauchy NA      NA      NA     0.6539804 0.8087405   \n",
       "12 Plasma   AACS   Cauchy NA      NA      NA     0.9127562 0.3272792   \n",
       "16 Plasma   AAED1  Cauchy NA      NA      NA     0.9002482 0.5393262   \n",
       "20 Plasma   AAGAB  Cauchy NA      NA      NA     0.8099287 0.6378124   \n",
       "24 Plasma   AAK1   Cauchy NA      NA      NA     0.6598493 0.6010894   \n",
       "   Pvalue_SKATO Pvalue_Burden Pvalue_SKAT BETA_Burden SE_Burden MAC Number_rare\n",
       "4  NA           0.8405194     0.8278134   NA          NA        NA  NA         \n",
       "8  NA           0.3547883     0.6738523   NA          NA        NA  NA         \n",
       "12 NA           0.3672272     0.9728973   NA          NA        NA  NA         \n",
       "16 NA           0.9627107     0.6803753   NA          NA        NA  NA         \n",
       "20 NA           0.9163681     0.5725483   NA          NA        NA  NA         \n",
       "24 NA           0.5731734     0.7629241   NA          NA        NA  NA         \n",
       "   Number_ultra_rare gene  qv       \n",
       "4  NA                A1BG  0.9981279\n",
       "8  NA                AAAS  0.9981279\n",
       "12 NA                AACS  0.9981279\n",
       "16 NA                AAED1 0.9981279\n",
       "20 NA                AAGAB 0.9981279\n",
       "24 NA                AAK1  0.9981279"
      ]
     },
     "metadata": {},
     "output_type": "display_data"
    }
   ],
   "source": [
    "df_rv = df[df$Group == \"Cauchy\",]\n",
    "df_rv$gene = df_rv$Region\n",
    "df_rv$qv = qvalue(df_rv$Pvalue)$qvalues\n",
    "head(df_rv)"
   ]
  },
  {
   "cell_type": "code",
   "execution_count": 5,
   "id": "328a483f",
   "metadata": {},
   "outputs": [
    {
     "data": {
      "text/html": [
       "<table class=\"dataframe\">\n",
       "<caption>A data.frame: 6 × 4</caption>\n",
       "<thead>\n",
       "\t<tr><th></th><th scope=col>celltype</th><th scope=col>gene</th><th scope=col>cauchy_pval</th><th scope=col>qval</th></tr>\n",
       "\t<tr><th></th><th scope=col>&lt;chr&gt;</th><th scope=col>&lt;chr&gt;</th><th scope=col>&lt;dbl&gt;</th><th scope=col>&lt;dbl&gt;</th></tr>\n",
       "</thead>\n",
       "<tbody>\n",
       "\t<tr><th scope=row>1</th><td>B_IN</td><td>A1BG      </td><td>1.709470e-03</td><td>2.049683e-02</td></tr>\n",
       "\t<tr><th scope=row>2</th><td>B_IN</td><td>ABCA1     </td><td>6.319983e-09</td><td>1.875082e-07</td></tr>\n",
       "\t<tr><th scope=row>3</th><td>B_IN</td><td>ABCB4     </td><td>1.094940e-03</td><td>1.395162e-02</td></tr>\n",
       "\t<tr><th scope=row>4</th><td>B_IN</td><td>ABHD8     </td><td>2.330217e-03</td><td>2.678102e-02</td></tr>\n",
       "\t<tr><th scope=row>5</th><td>B_IN</td><td>ABRACL    </td><td>2.220205e-05</td><td>3.998992e-04</td></tr>\n",
       "\t<tr><th scope=row>6</th><td>B_IN</td><td>AC000003.2</td><td>7.013919e-05</td><td>1.137337e-03</td></tr>\n",
       "</tbody>\n",
       "</table>\n"
      ],
      "text/latex": [
       "A data.frame: 6 × 4\n",
       "\\begin{tabular}{r|llll}\n",
       "  & celltype & gene & cauchy\\_pval & qval\\\\\n",
       "  & <chr> & <chr> & <dbl> & <dbl>\\\\\n",
       "\\hline\n",
       "\t1 & B\\_IN & A1BG       & 1.709470e-03 & 2.049683e-02\\\\\n",
       "\t2 & B\\_IN & ABCA1      & 6.319983e-09 & 1.875082e-07\\\\\n",
       "\t3 & B\\_IN & ABCB4      & 1.094940e-03 & 1.395162e-02\\\\\n",
       "\t4 & B\\_IN & ABHD8      & 2.330217e-03 & 2.678102e-02\\\\\n",
       "\t5 & B\\_IN & ABRACL     & 2.220205e-05 & 3.998992e-04\\\\\n",
       "\t6 & B\\_IN & AC000003.2 & 7.013919e-05 & 1.137337e-03\\\\\n",
       "\\end{tabular}\n"
      ],
      "text/markdown": [
       "\n",
       "A data.frame: 6 × 4\n",
       "\n",
       "| <!--/--> | celltype &lt;chr&gt; | gene &lt;chr&gt; | cauchy_pval &lt;dbl&gt; | qval &lt;dbl&gt; |\n",
       "|---|---|---|---|---|\n",
       "| 1 | B_IN | A1BG       | 1.709470e-03 | 2.049683e-02 |\n",
       "| 2 | B_IN | ABCA1      | 6.319983e-09 | 1.875082e-07 |\n",
       "| 3 | B_IN | ABCB4      | 1.094940e-03 | 1.395162e-02 |\n",
       "| 4 | B_IN | ABHD8      | 2.330217e-03 | 2.678102e-02 |\n",
       "| 5 | B_IN | ABRACL     | 2.220205e-05 | 3.998992e-04 |\n",
       "| 6 | B_IN | AC000003.2 | 7.013919e-05 | 1.137337e-03 |\n",
       "\n"
      ],
      "text/plain": [
       "  celltype gene       cauchy_pval  qval        \n",
       "1 B_IN     A1BG       1.709470e-03 2.049683e-02\n",
       "2 B_IN     ABCA1      6.319983e-09 1.875082e-07\n",
       "3 B_IN     ABCB4      1.094940e-03 1.395162e-02\n",
       "4 B_IN     ABHD8      2.330217e-03 2.678102e-02\n",
       "5 B_IN     ABRACL     2.220205e-05 3.998992e-04\n",
       "6 B_IN     AC000003.2 7.013919e-05 1.137337e-03"
      ]
     },
     "metadata": {},
     "output_type": "display_data"
    }
   ],
   "source": [
    "# Common Variant results\n",
    "cv_file = paste0(saige_dir, \"allcelltype_CauchyPval_cis_MAFge0.05.txt.qvalue.lt0.05.txt.05\")\n",
    "df_cv = as.data.frame(fread(cv_file))\n",
    "colnames(df_cv) = c(\"celltype\",\"gene\",\"cauchy_pval\",\"qval\")\n",
    "head(df_cv)"
   ]
  },
  {
   "cell_type": "code",
   "execution_count": 6,
   "id": "871fcc3c",
   "metadata": {},
   "outputs": [
    {
     "data": {
      "text/html": [
       "5541"
      ],
      "text/latex": [
       "5541"
      ],
      "text/markdown": [
       "5541"
      ],
      "text/plain": [
       "[1] 5541"
      ]
     },
     "metadata": {},
     "output_type": "display_data"
    },
    {
     "data": {
      "text/html": [
       "2317"
      ],
      "text/latex": [
       "2317"
      ],
      "text/markdown": [
       "2317"
      ],
      "text/plain": [
       "[1] 2317"
      ]
     },
     "metadata": {},
     "output_type": "display_data"
    }
   ],
   "source": [
    "nrow(df_rv[df_rv$qv < 0.05,])\n",
    "length(unique(df_rv[df_rv$qv < 0.05,\"Region\"]))"
   ]
  },
  {
   "cell_type": "code",
   "execution_count": 7,
   "id": "ad44d96a",
   "metadata": {},
   "outputs": [
    {
     "data": {
      "text/html": [
       "<table class=\"dataframe\">\n",
       "<caption>A data.frame: 14 × 3</caption>\n",
       "<thead>\n",
       "\t<tr><th scope=col>celltype</th><th scope=col>n_CV_eGenes</th><th scope=col>n_RV_eGenes</th></tr>\n",
       "\t<tr><th scope=col>&lt;chr&gt;</th><th scope=col>&lt;int&gt;</th><th scope=col>&lt;int&gt;</th></tr>\n",
       "</thead>\n",
       "<tbody>\n",
       "\t<tr><td>Plasma   </td><td> 123</td><td>  35</td></tr>\n",
       "\t<tr><td>NK       </td><td>2406</td><td> 747</td></tr>\n",
       "\t<tr><td>NK_R     </td><td> 231</td><td>  87</td></tr>\n",
       "\t<tr><td>Mono_NC  </td><td> 722</td><td> 187</td></tr>\n",
       "\t<tr><td>Mono_C   </td><td> 932</td><td> 276</td></tr>\n",
       "\t<tr><td>DC       </td><td> 280</td><td> 109</td></tr>\n",
       "\t<tr><td>CD8_S100B</td><td> 671</td><td> 216</td></tr>\n",
       "\t<tr><td>CD8_ET   </td><td>2558</td><td> 796</td></tr>\n",
       "\t<tr><td>CD4_SOX4 </td><td>  55</td><td>  27</td></tr>\n",
       "\t<tr><td>CD8_NC   </td><td>1950</td><td> 614</td></tr>\n",
       "\t<tr><td>CD4_ET   </td><td>1166</td><td> 360</td></tr>\n",
       "\t<tr><td>CD4_NC   </td><td>3960</td><td>1451</td></tr>\n",
       "\t<tr><td>B_Mem    </td><td> 955</td><td> 269</td></tr>\n",
       "\t<tr><td>B_IN     </td><td>1206</td><td> 367</td></tr>\n",
       "</tbody>\n",
       "</table>\n"
      ],
      "text/latex": [
       "A data.frame: 14 × 3\n",
       "\\begin{tabular}{lll}\n",
       " celltype & n\\_CV\\_eGenes & n\\_RV\\_eGenes\\\\\n",
       " <chr> & <int> & <int>\\\\\n",
       "\\hline\n",
       "\t Plasma    &  123 &   35\\\\\n",
       "\t NK        & 2406 &  747\\\\\n",
       "\t NK\\_R      &  231 &   87\\\\\n",
       "\t Mono\\_NC   &  722 &  187\\\\\n",
       "\t Mono\\_C    &  932 &  276\\\\\n",
       "\t DC        &  280 &  109\\\\\n",
       "\t CD8\\_S100B &  671 &  216\\\\\n",
       "\t CD8\\_ET    & 2558 &  796\\\\\n",
       "\t CD4\\_SOX4  &   55 &   27\\\\\n",
       "\t CD8\\_NC    & 1950 &  614\\\\\n",
       "\t CD4\\_ET    & 1166 &  360\\\\\n",
       "\t CD4\\_NC    & 3960 & 1451\\\\\n",
       "\t B\\_Mem     &  955 &  269\\\\\n",
       "\t B\\_IN      & 1206 &  367\\\\\n",
       "\\end{tabular}\n"
      ],
      "text/markdown": [
       "\n",
       "A data.frame: 14 × 3\n",
       "\n",
       "| celltype &lt;chr&gt; | n_CV_eGenes &lt;int&gt; | n_RV_eGenes &lt;int&gt; |\n",
       "|---|---|---|\n",
       "| Plasma    |  123 |   35 |\n",
       "| NK        | 2406 |  747 |\n",
       "| NK_R      |  231 |   87 |\n",
       "| Mono_NC   |  722 |  187 |\n",
       "| Mono_C    |  932 |  276 |\n",
       "| DC        |  280 |  109 |\n",
       "| CD8_S100B |  671 |  216 |\n",
       "| CD8_ET    | 2558 |  796 |\n",
       "| CD4_SOX4  |   55 |   27 |\n",
       "| CD8_NC    | 1950 |  614 |\n",
       "| CD4_ET    | 1166 |  360 |\n",
       "| CD4_NC    | 3960 | 1451 |\n",
       "| B_Mem     |  955 |  269 |\n",
       "| B_IN      | 1206 |  367 |\n",
       "\n"
      ],
      "text/plain": [
       "   celltype  n_CV_eGenes n_RV_eGenes\n",
       "1  Plasma     123          35       \n",
       "2  NK        2406         747       \n",
       "3  NK_R       231          87       \n",
       "4  Mono_NC    722         187       \n",
       "5  Mono_C     932         276       \n",
       "6  DC         280         109       \n",
       "7  CD8_S100B  671         216       \n",
       "8  CD8_ET    2558         796       \n",
       "9  CD4_SOX4    55          27       \n",
       "10 CD8_NC    1950         614       \n",
       "11 CD4_ET    1166         360       \n",
       "12 CD4_NC    3960        1451       \n",
       "13 B_Mem      955         269       \n",
       "14 B_IN      1206         367       "
      ]
     },
     "metadata": {},
     "output_type": "display_data"
    }
   ],
   "source": [
    "df_to_plot = data.frame()\n",
    "for (celltype in celltypes){\n",
    "    df_new = data.frame(celltype = celltype,\n",
    "                        n_CV_eGenes = nrow(df_cv[df_cv$celltype == celltype & df_cv$qval < 0.05,]),\n",
    "                        n_RV_eGenes = nrow(df_rv[df_rv$celltype == celltype & df_rv$qv < 0.05,]))\n",
    "    df_to_plot = rbind(df_to_plot, df_new)\n",
    "}\n",
    "df_to_plot"
   ]
  },
  {
   "cell_type": "code",
   "execution_count": 8,
   "id": "6ff4c602",
   "metadata": {},
   "outputs": [
    {
     "data": {
      "text/html": [
       "0.259002770083103"
      ],
      "text/latex": [
       "0.259002770083103"
      ],
      "text/markdown": [
       "0.259002770083103"
      ],
      "text/plain": [
       "[1] 0.2590028"
      ]
     },
     "metadata": {},
     "output_type": "display_data"
    },
    {
     "data": {
      "text/html": [
       "0.490909090909091"
      ],
      "text/latex": [
       "0.490909090909091"
      ],
      "text/markdown": [
       "0.490909090909091"
      ],
      "text/plain": [
       "[1] 0.4909091"
      ]
     },
     "metadata": {},
     "output_type": "display_data"
    },
    {
     "data": {
      "text/html": [
       "0.329721008694946"
      ],
      "text/latex": [
       "0.329721008694946"
      ],
      "text/markdown": [
       "0.329721008694946"
      ],
      "text/plain": [
       "[1] 0.329721"
      ]
     },
     "metadata": {},
     "output_type": "display_data"
    }
   ],
   "source": [
    "min(df_to_plot$n_RV_eGenes/df_to_plot$n_CV_eGenes)\n",
    "max(df_to_plot$n_RV_eGenes/df_to_plot$n_CV_eGenes)\n",
    "mean(df_to_plot$n_RV_eGenes/df_to_plot$n_CV_eGenes)"
   ]
  },
  {
   "cell_type": "code",
   "execution_count": 9,
   "id": "eda491c4",
   "metadata": {},
   "outputs": [
    {
     "data": {
      "text/html": [
       "5541"
      ],
      "text/latex": [
       "5541"
      ],
      "text/markdown": [
       "5541"
      ],
      "text/plain": [
       "[1] 5541"
      ]
     },
     "metadata": {},
     "output_type": "display_data"
    },
    {
     "data": {
      "text/html": [
       "17215"
      ],
      "text/latex": [
       "17215"
      ],
      "text/markdown": [
       "17215"
      ],
      "text/plain": [
       "[1] 17215"
      ]
     },
     "metadata": {},
     "output_type": "display_data"
    }
   ],
   "source": [
    "sum(df_to_plot$n_RV_eGenes)\n",
    "sum(df_to_plot$n_CV_eGenes)"
   ]
  },
  {
   "cell_type": "code",
   "execution_count": 10,
   "id": "d95dc304",
   "metadata": {},
   "outputs": [],
   "source": [
    "df_to_plot$celltype <- factor(df_to_plot$celltype, \n",
    "                                    levels = c(\"CD4_NC\",\"CD4_ET\",\"CD4_SOX4\",\"CD8_ET\",\"CD8_NC\",\"CD8_S100B\",\"NK\",\n",
    "                                               \"NK_R\",\"Plasma\",\"B_Mem\",\"B_IN\",\"Mono_C\",\"Mono_NC\",\"DC\"))\n",
    "df_colours = data.frame(colours = c(\"#882E72\",\"#B178A6\",\"#D6C1DE\",\"#1965B0\",\"#5289C7\",\"#7BAFDE\",\"#4EB265\",\n",
    "                                    \"#90C987\",\"#CAE0AB\",\"#F7EE55\",\"#F6C141\",\"#F1932D\",\"#E8601C\",\"#DC050C\"),\n",
    "                        celltype = c(\"CD4_NC\",\"CD4_ET\",\"CD4_SOX4\",\"CD8_ET\",\"CD8_NC\",\"CD8_S100B\",\"NK\",\"NK_R\",\n",
    "                                     \"Plasma\",\"B_Mem\",\"B_IN\",\"Mono_C\",\"Mono_NC\",\"DC\"))\n",
    "# df_colours"
   ]
  },
  {
   "cell_type": "code",
   "execution_count": 16,
   "id": "5962da8d",
   "metadata": {},
   "outputs": [],
   "source": [
    "my_lab <- c(expression(CD4['NC']),\n",
    "            expression(CD4['ET']), \n",
    "            expression(CD4['SOX4']),\n",
    "            expression(CD8['ET']),\n",
    "            expression(CD8['NC']),\n",
    "            expression(CD8['S100B']),\n",
    "            expression('NK'),\n",
    "            expression(NK['R']),\n",
    "            expression('Plasma'),\n",
    "            expression(B['Mem']),\n",
    "            expression(B['IN']),\n",
    "            expression(Mono['C']),\n",
    "            expression(Mono['NC']),\n",
    "            expression('DC')\n",
    ")"
   ]
  },
  {
   "cell_type": "code",
   "execution_count": 15,
   "id": "c9261f01",
   "metadata": {},
   "outputs": [
    {
     "data": {
      "image/png": "[encoded data removed]",
      "text/plain": [
       "plot without title"
      ]
     },
     "metadata": {
      "image/png": {
       "height": 480,
       "width": 570
      }
     },
     "output_type": "display_data"
    }
   ],
   "source": [
    "options(repr.plot.width = 9.5, repr.plot.height = 8)\n",
    "p = ggplot(df_to_plot, aes(x=n_CV_eGenes, y=n_RV_eGenes, colour=celltype)) + geom_point(size=8)\n",
    "p = p + theme_classic()\n",
    "p = p + scale_colour_manual(values = df_colours$colours, labels=c(my_lab[1], \n",
    "                             my_lab[2],\n",
    "                             my_lab[3],\n",
    "                             my_lab[4], \n",
    "                             my_lab[5],\n",
    "                             my_lab[6],\n",
    "                             my_lab[7], \n",
    "                             my_lab[8],\n",
    "                             my_lab[9],\n",
    "                             my_lab[10], \n",
    "                             my_lab[11],\n",
    "                             my_lab[12],\n",
    "                             my_lab[13], \n",
    "                             my_lab[14]))\n",
    "p = p + theme(text = element_text(size=20))\n",
    "p = p + theme(axis.text.x = element_text(angle = 90, vjust = 0.5, hjust=1))\n",
    "p = p + xlab(\"Number of CV eGenes\") + ylab(\"Number of RV eGenes\")\n",
    "p"
   ]
  },
  {
   "cell_type": "code",
   "execution_count": null,
   "id": "4536652c",
   "metadata": {},
   "outputs": [],
   "source": []
  },
  {
   "cell_type": "code",
   "execution_count": 17,
   "id": "95348d49",
   "metadata": {},
   "outputs": [
    {
     "data": {
      "text/html": [
       "<strong>png:</strong> 2"
      ],
      "text/latex": [
       "\\textbf{png:} 2"
      ],
      "text/markdown": [
       "**png:** 2"
      ],
      "text/plain": [
       "png \n",
       "  2 "
      ]
     },
     "metadata": {},
     "output_type": "display_data"
    }
   ],
   "source": [
    "# save\n",
    "fig_dir <- \"/directflow/SCCGGroupShare/projects/anncuo/OneK1K/saige_eqtl/ms_figures/\"\n",
    "pdf(paste0(fig_dir,\"CV_vs_RV_genes_underscores.pdf\"), width=9.5, height=8)\n",
    "p\n",
    "dev.off()"
   ]
  },
  {
   "cell_type": "code",
   "execution_count": null,
   "id": "76ccca90",
   "metadata": {},
   "outputs": [],
   "source": []
  }
 ],
 "metadata": {
  "kernelspec": {
   "display_name": "Single Cell Notebook (R 4.1.2)",
   "language": "R",
   "name": "singlecell"
  },
  "language_info": {
   "codemirror_mode": "r",
   "file_extension": ".r",
   "mimetype": "text/x-r-source",
   "name": "R",
   "pygments_lexer": "r",
   "version": "4.1.2"
  }
 },
 "nbformat": 4,
 "nbformat_minor": 5
}
