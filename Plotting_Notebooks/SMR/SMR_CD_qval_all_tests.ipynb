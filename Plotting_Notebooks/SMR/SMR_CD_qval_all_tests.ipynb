{
 "cells": [
  {
   "cell_type": "code",
   "execution_count": 1,
   "id": "389cd9e3",
   "metadata": {},
   "outputs": [],
   "source": [
    "library(data.table)\n",
    "library(qvalue)"
   ]
  },
  {
   "cell_type": "code",
   "execution_count": 2,
   "id": "27ce71e4",
   "metadata": {},
   "outputs": [],
   "source": [
    "## CD (Crohn's disease) SMR (summarised Mendelian Randomisation) results"
   ]
  },
  {
   "cell_type": "code",
   "execution_count": 5,
   "id": "b51e56f6",
   "metadata": {},
   "outputs": [
    {
     "data": {
      "text/html": [
       "<table class=\"dataframe\">\n",
       "<caption>A data.table: 2 × 22</caption>\n",
       "<thead>\n",
       "\t<tr><th scope=col>probeID</th><th scope=col>ProbeChr</th><th scope=col>Gene</th><th scope=col>Probe_bp</th><th scope=col>topSNP</th><th scope=col>topSNP_chr</th><th scope=col>topSNP_bp</th><th scope=col>A1</th><th scope=col>A2</th><th scope=col>Freq</th><th scope=col>⋯</th><th scope=col>p_GWAS</th><th scope=col>b_eQTL</th><th scope=col>se_eQTL</th><th scope=col>p_eQTL</th><th scope=col>b_SMR</th><th scope=col>se_SMR</th><th scope=col>p_SMR</th><th scope=col>p_HEIDI</th><th scope=col>nsnp_HEIDI</th><th scope=col>Cell_type</th></tr>\n",
       "\t<tr><th scope=col>&lt;chr&gt;</th><th scope=col>&lt;int&gt;</th><th scope=col>&lt;chr&gt;</th><th scope=col>&lt;int&gt;</th><th scope=col>&lt;chr&gt;</th><th scope=col>&lt;int&gt;</th><th scope=col>&lt;int&gt;</th><th scope=col>&lt;chr&gt;</th><th scope=col>&lt;chr&gt;</th><th scope=col>&lt;dbl&gt;</th><th scope=col>⋯</th><th scope=col>&lt;dbl&gt;</th><th scope=col>&lt;dbl&gt;</th><th scope=col>&lt;dbl&gt;</th><th scope=col>&lt;dbl&gt;</th><th scope=col>&lt;dbl&gt;</th><th scope=col>&lt;dbl&gt;</th><th scope=col>&lt;dbl&gt;</th><th scope=col>&lt;dbl&gt;</th><th scope=col>&lt;int&gt;</th><th scope=col>&lt;chr&gt;</th></tr>\n",
       "</thead>\n",
       "<tbody>\n",
       "\t<tr><td>FCRL5</td><td>1</td><td>FCRL5</td><td>157483167</td><td>rs12741984</td><td>1</td><td>157534818</td><td>G</td><td>A</td><td>0.787234</td><td>⋯</td><td>0.2133</td><td> 0.113780</td><td>0.00486738</td><td>7.500497e-121</td><td>0.185382</td><td>0.148752</td><td>0.2126742</td><td>0.4619789</td><td>20</td><td>BimmNaive</td></tr>\n",
       "\t<tr><td>RPS8 </td><td>1</td><td>RPS8 </td><td> 45240923</td><td>rs12120833</td><td>1</td><td> 45241285</td><td>C</td><td>G</td><td>0.850097</td><td>⋯</td><td>0.4571</td><td>-0.105432</td><td>0.00500701</td><td> 1.980368e-98</td><td>0.147458</td><td>0.198581</td><td>0.4577494</td><td>0.3150508</td><td>20</td><td>BimmNaive</td></tr>\n",
       "</tbody>\n",
       "</table>\n"
      ],
      "text/latex": [
       "A data.table: 2 × 22\n",
       "\\begin{tabular}{lllllllllllllllllllll}\n",
       " probeID & ProbeChr & Gene & Probe\\_bp & topSNP & topSNP\\_chr & topSNP\\_bp & A1 & A2 & Freq & ⋯ & p\\_GWAS & b\\_eQTL & se\\_eQTL & p\\_eQTL & b\\_SMR & se\\_SMR & p\\_SMR & p\\_HEIDI & nsnp\\_HEIDI & Cell\\_type\\\\\n",
       " <chr> & <int> & <chr> & <int> & <chr> & <int> & <int> & <chr> & <chr> & <dbl> & ⋯ & <dbl> & <dbl> & <dbl> & <dbl> & <dbl> & <dbl> & <dbl> & <dbl> & <int> & <chr>\\\\\n",
       "\\hline\n",
       "\t FCRL5 & 1 & FCRL5 & 157483167 & rs12741984 & 1 & 157534818 & G & A & 0.787234 & ⋯ & 0.2133 &  0.113780 & 0.00486738 & 7.500497e-121 & 0.185382 & 0.148752 & 0.2126742 & 0.4619789 & 20 & BimmNaive\\\\\n",
       "\t RPS8  & 1 & RPS8  &  45240923 & rs12120833 & 1 &  45241285 & C & G & 0.850097 & ⋯ & 0.4571 & -0.105432 & 0.00500701 &  1.980368e-98 & 0.147458 & 0.198581 & 0.4577494 & 0.3150508 & 20 & BimmNaive\\\\\n",
       "\\end{tabular}\n"
      ],
      "text/markdown": [
       "\n",
       "A data.table: 2 × 22\n",
       "\n",
       "| probeID &lt;chr&gt; | ProbeChr &lt;int&gt; | Gene &lt;chr&gt; | Probe_bp &lt;int&gt; | topSNP &lt;chr&gt; | topSNP_chr &lt;int&gt; | topSNP_bp &lt;int&gt; | A1 &lt;chr&gt; | A2 &lt;chr&gt; | Freq &lt;dbl&gt; | ⋯ ⋯ | p_GWAS &lt;dbl&gt; | b_eQTL &lt;dbl&gt; | se_eQTL &lt;dbl&gt; | p_eQTL &lt;dbl&gt; | b_SMR &lt;dbl&gt; | se_SMR &lt;dbl&gt; | p_SMR &lt;dbl&gt; | p_HEIDI &lt;dbl&gt; | nsnp_HEIDI &lt;int&gt; | Cell_type &lt;chr&gt; |\n",
       "|---|---|---|---|---|---|---|---|---|---|---|---|---|---|---|---|---|---|---|---|---|\n",
       "| FCRL5 | 1 | FCRL5 | 157483167 | rs12741984 | 1 | 157534818 | G | A | 0.787234 | ⋯ | 0.2133 |  0.113780 | 0.00486738 | 7.500497e-121 | 0.185382 | 0.148752 | 0.2126742 | 0.4619789 | 20 | BimmNaive |\n",
       "| RPS8  | 1 | RPS8  |  45240923 | rs12120833 | 1 |  45241285 | C | G | 0.850097 | ⋯ | 0.4571 | -0.105432 | 0.00500701 |  1.980368e-98 | 0.147458 | 0.198581 | 0.4577494 | 0.3150508 | 20 | BimmNaive |\n",
       "\n"
      ],
      "text/plain": [
       "  probeID ProbeChr Gene  Probe_bp  topSNP     topSNP_chr topSNP_bp A1 A2\n",
       "1 FCRL5   1        FCRL5 157483167 rs12741984 1          157534818 G  A \n",
       "2 RPS8    1        RPS8   45240923 rs12120833 1           45241285 C  G \n",
       "  Freq     ⋯ p_GWAS b_eQTL    se_eQTL    p_eQTL        b_SMR    se_SMR  \n",
       "1 0.787234 ⋯ 0.2133  0.113780 0.00486738 7.500497e-121 0.185382 0.148752\n",
       "2 0.850097 ⋯ 0.4571 -0.105432 0.00500701  1.980368e-98 0.147458 0.198581\n",
       "  p_SMR     p_HEIDI   nsnp_HEIDI Cell_type\n",
       "1 0.2126742 0.4619789 20         BimmNaive\n",
       "2 0.4577494 0.3150508 20         BimmNaive"
      ]
     },
     "metadata": {},
     "output_type": "display_data"
    }
   ],
   "source": [
    "# Matrix eQTL results\n",
    "matrix_eqtl_smr_results_dir = \"/directflow/SCCGGroupShare/projects/angxue/proj/SAIGE-eQTL/SMR/\"\n",
    "matrix_cd_file = paste0(matrix_eqtl_smr_results_dir, \"cd_all_14_celltypes_all_smr.txt\")\n",
    "matrix_df = fread(matrix_cd_file)\n",
    "head(matrix_df,2)"
   ]
  },
  {
   "cell_type": "code",
   "execution_count": 6,
   "id": "8bee0ba9",
   "metadata": {},
   "outputs": [
    {
     "data": {
      "text/html": [
       "6091"
      ],
      "text/latex": [
       "6091"
      ],
      "text/markdown": [
       "6091"
      ],
      "text/plain": [
       "[1] 6091"
      ]
     },
     "metadata": {},
     "output_type": "display_data"
    },
    {
     "data": {
      "text/html": [
       "14518"
      ],
      "text/latex": [
       "14518"
      ],
      "text/markdown": [
       "14518"
      ],
      "text/plain": [
       "[1] 14518"
      ]
     },
     "metadata": {},
     "output_type": "display_data"
    },
    {
     "data": {
      "text/html": [
       "<table class=\"dataframe\">\n",
       "<caption>A data.table: 2 × 23</caption>\n",
       "<thead>\n",
       "\t<tr><th scope=col>probeID</th><th scope=col>ProbeChr</th><th scope=col>Gene</th><th scope=col>Probe_bp</th><th scope=col>topSNP</th><th scope=col>topSNP_chr</th><th scope=col>topSNP_bp</th><th scope=col>A1</th><th scope=col>A2</th><th scope=col>Freq</th><th scope=col>⋯</th><th scope=col>b_eQTL</th><th scope=col>se_eQTL</th><th scope=col>p_eQTL</th><th scope=col>b_SMR</th><th scope=col>se_SMR</th><th scope=col>p_SMR</th><th scope=col>p_HEIDI</th><th scope=col>nsnp_HEIDI</th><th scope=col>Cell_type</th><th scope=col>comb</th></tr>\n",
       "\t<tr><th scope=col>&lt;chr&gt;</th><th scope=col>&lt;int&gt;</th><th scope=col>&lt;chr&gt;</th><th scope=col>&lt;int&gt;</th><th scope=col>&lt;chr&gt;</th><th scope=col>&lt;int&gt;</th><th scope=col>&lt;int&gt;</th><th scope=col>&lt;chr&gt;</th><th scope=col>&lt;chr&gt;</th><th scope=col>&lt;dbl&gt;</th><th scope=col>⋯</th><th scope=col>&lt;dbl&gt;</th><th scope=col>&lt;dbl&gt;</th><th scope=col>&lt;dbl&gt;</th><th scope=col>&lt;dbl&gt;</th><th scope=col>&lt;dbl&gt;</th><th scope=col>&lt;dbl&gt;</th><th scope=col>&lt;dbl&gt;</th><th scope=col>&lt;int&gt;</th><th scope=col>&lt;chr&gt;</th><th scope=col>&lt;chr&gt;</th></tr>\n",
       "</thead>\n",
       "<tbody>\n",
       "\t<tr><td>FCRL5</td><td>1</td><td>FCRL5</td><td>157483167</td><td>rs12741984</td><td>1</td><td>157534818</td><td>G</td><td>A</td><td>0.787234</td><td>⋯</td><td> 0.113780</td><td>0.00486738</td><td>7.500497e-121</td><td>0.185382</td><td>0.148752</td><td>0.2126742</td><td>0.4619789</td><td>20</td><td>BimmNaive</td><td>FCRL5_BimmNaive</td></tr>\n",
       "\t<tr><td>RPS8 </td><td>1</td><td>RPS8 </td><td> 45240923</td><td>rs12120833</td><td>1</td><td> 45241285</td><td>C</td><td>G</td><td>0.850097</td><td>⋯</td><td>-0.105432</td><td>0.00500701</td><td> 1.980368e-98</td><td>0.147458</td><td>0.198581</td><td>0.4577494</td><td>0.3150508</td><td>20</td><td>BimmNaive</td><td>RPS8_BimmNaive </td></tr>\n",
       "</tbody>\n",
       "</table>\n"
      ],
      "text/latex": [
       "A data.table: 2 × 23\n",
       "\\begin{tabular}{lllllllllllllllllllll}\n",
       " probeID & ProbeChr & Gene & Probe\\_bp & topSNP & topSNP\\_chr & topSNP\\_bp & A1 & A2 & Freq & ⋯ & b\\_eQTL & se\\_eQTL & p\\_eQTL & b\\_SMR & se\\_SMR & p\\_SMR & p\\_HEIDI & nsnp\\_HEIDI & Cell\\_type & comb\\\\\n",
       " <chr> & <int> & <chr> & <int> & <chr> & <int> & <int> & <chr> & <chr> & <dbl> & ⋯ & <dbl> & <dbl> & <dbl> & <dbl> & <dbl> & <dbl> & <dbl> & <int> & <chr> & <chr>\\\\\n",
       "\\hline\n",
       "\t FCRL5 & 1 & FCRL5 & 157483167 & rs12741984 & 1 & 157534818 & G & A & 0.787234 & ⋯ &  0.113780 & 0.00486738 & 7.500497e-121 & 0.185382 & 0.148752 & 0.2126742 & 0.4619789 & 20 & BimmNaive & FCRL5\\_BimmNaive\\\\\n",
       "\t RPS8  & 1 & RPS8  &  45240923 & rs12120833 & 1 &  45241285 & C & G & 0.850097 & ⋯ & -0.105432 & 0.00500701 &  1.980368e-98 & 0.147458 & 0.198581 & 0.4577494 & 0.3150508 & 20 & BimmNaive & RPS8\\_BimmNaive \\\\\n",
       "\\end{tabular}\n"
      ],
      "text/markdown": [
       "\n",
       "A data.table: 2 × 23\n",
       "\n",
       "| probeID &lt;chr&gt; | ProbeChr &lt;int&gt; | Gene &lt;chr&gt; | Probe_bp &lt;int&gt; | topSNP &lt;chr&gt; | topSNP_chr &lt;int&gt; | topSNP_bp &lt;int&gt; | A1 &lt;chr&gt; | A2 &lt;chr&gt; | Freq &lt;dbl&gt; | ⋯ ⋯ | b_eQTL &lt;dbl&gt; | se_eQTL &lt;dbl&gt; | p_eQTL &lt;dbl&gt; | b_SMR &lt;dbl&gt; | se_SMR &lt;dbl&gt; | p_SMR &lt;dbl&gt; | p_HEIDI &lt;dbl&gt; | nsnp_HEIDI &lt;int&gt; | Cell_type &lt;chr&gt; | comb &lt;chr&gt; |\n",
       "|---|---|---|---|---|---|---|---|---|---|---|---|---|---|---|---|---|---|---|---|---|\n",
       "| FCRL5 | 1 | FCRL5 | 157483167 | rs12741984 | 1 | 157534818 | G | A | 0.787234 | ⋯ |  0.113780 | 0.00486738 | 7.500497e-121 | 0.185382 | 0.148752 | 0.2126742 | 0.4619789 | 20 | BimmNaive | FCRL5_BimmNaive |\n",
       "| RPS8  | 1 | RPS8  |  45240923 | rs12120833 | 1 |  45241285 | C | G | 0.850097 | ⋯ | -0.105432 | 0.00500701 |  1.980368e-98 | 0.147458 | 0.198581 | 0.4577494 | 0.3150508 | 20 | BimmNaive | RPS8_BimmNaive  |\n",
       "\n"
      ],
      "text/plain": [
       "  probeID ProbeChr Gene  Probe_bp  topSNP     topSNP_chr topSNP_bp A1 A2\n",
       "1 FCRL5   1        FCRL5 157483167 rs12741984 1          157534818 G  A \n",
       "2 RPS8    1        RPS8   45240923 rs12120833 1           45241285 C  G \n",
       "  Freq     ⋯ b_eQTL    se_eQTL    p_eQTL        b_SMR    se_SMR   p_SMR    \n",
       "1 0.787234 ⋯  0.113780 0.00486738 7.500497e-121 0.185382 0.148752 0.2126742\n",
       "2 0.850097 ⋯ -0.105432 0.00500701  1.980368e-98 0.147458 0.198581 0.4577494\n",
       "  p_HEIDI   nsnp_HEIDI Cell_type comb           \n",
       "1 0.4619789 20         BimmNaive FCRL5_BimmNaive\n",
       "2 0.3150508 20         BimmNaive RPS8_BimmNaive "
      ]
     },
     "metadata": {},
     "output_type": "display_data"
    }
   ],
   "source": [
    "# Calculate number of unique genes, and combination of genes + celltypes\n",
    "length(unique(matrix_df$Gene))\n",
    "matrix_df$comb = paste0(matrix_df$Gene,\"_\",matrix_df$Cell_type)\n",
    "length(unique(matrix_df$comb))\n",
    "head(matrix_df,2)"
   ]
  },
  {
   "cell_type": "code",
   "execution_count": 7,
   "id": "bb49fa5a",
   "metadata": {},
   "outputs": [],
   "source": [
    "# p<0.05/M, where M is the number of tests (number of genes)"
   ]
  },
  {
   "cell_type": "code",
   "execution_count": 8,
   "id": "fd12238e",
   "metadata": {},
   "outputs": [
    {
     "data": {
      "text/html": [
       "45"
      ],
      "text/latex": [
       "45"
      ],
      "text/markdown": [
       "45"
      ],
      "text/plain": [
       "[1] 45"
      ]
     },
     "metadata": {},
     "output_type": "display_data"
    },
    {
     "data": {
      "text/html": [
       "38"
      ],
      "text/latex": [
       "38"
      ],
      "text/markdown": [
       "38"
      ],
      "text/plain": [
       "[1] 38"
      ]
     },
     "metadata": {},
     "output_type": "display_data"
    }
   ],
   "source": [
    "nrow(matrix_df[matrix_df$p_SMR < 0.05/length(unique(matrix_df$Gene)),]) # M = number of genes\n",
    "nrow(matrix_df[matrix_df$p_SMR < 0.05/length(unique(matrix_df$comb)),]) # M = number of genes-ct combinations"
   ]
  },
  {
   "cell_type": "code",
   "execution_count": 9,
   "id": "12062bde",
   "metadata": {},
   "outputs": [
    {
     "data": {
      "text/html": [
       "131"
      ],
      "text/latex": [
       "131"
      ],
      "text/markdown": [
       "131"
      ],
      "text/plain": [
       "[1] 131"
      ]
     },
     "metadata": {},
     "output_type": "display_data"
    }
   ],
   "source": [
    "# significant results at FDR<5% instead (using qvalue)\n",
    "matrix_df$qv = qvalue(matrix_df$p_SMR)$qvalues\n",
    "nrow(matrix_df[matrix_df$qv<0.05,])"
   ]
  },
  {
   "cell_type": "code",
   "execution_count": null,
   "id": "10f4aafb",
   "metadata": {},
   "outputs": [],
   "source": []
  },
  {
   "cell_type": "code",
   "execution_count": null,
   "id": "ae1b3e0f",
   "metadata": {},
   "outputs": [],
   "source": []
  },
  {
   "cell_type": "code",
   "execution_count": 10,
   "id": "ec752228",
   "metadata": {},
   "outputs": [
    {
     "data": {
      "text/html": [
       "<table class=\"dataframe\">\n",
       "<caption>A data.table: 2 × 22</caption>\n",
       "<thead>\n",
       "\t<tr><th scope=col>probeID</th><th scope=col>ProbeChr</th><th scope=col>Gene</th><th scope=col>Probe_bp</th><th scope=col>topSNP</th><th scope=col>topSNP_chr</th><th scope=col>topSNP_bp</th><th scope=col>A1</th><th scope=col>A2</th><th scope=col>Freq</th><th scope=col>⋯</th><th scope=col>p_GWAS</th><th scope=col>b_eQTL</th><th scope=col>se_eQTL</th><th scope=col>p_eQTL</th><th scope=col>b_SMR</th><th scope=col>se_SMR</th><th scope=col>p_SMR</th><th scope=col>p_HEIDI</th><th scope=col>nsnp_HEIDI</th><th scope=col>Cell_type</th></tr>\n",
       "\t<tr><th scope=col>&lt;chr&gt;</th><th scope=col>&lt;int&gt;</th><th scope=col>&lt;chr&gt;</th><th scope=col>&lt;int&gt;</th><th scope=col>&lt;chr&gt;</th><th scope=col>&lt;int&gt;</th><th scope=col>&lt;int&gt;</th><th scope=col>&lt;chr&gt;</th><th scope=col>&lt;chr&gt;</th><th scope=col>&lt;dbl&gt;</th><th scope=col>⋯</th><th scope=col>&lt;dbl&gt;</th><th scope=col>&lt;dbl&gt;</th><th scope=col>&lt;dbl&gt;</th><th scope=col>&lt;dbl&gt;</th><th scope=col>&lt;dbl&gt;</th><th scope=col>&lt;dbl&gt;</th><th scope=col>&lt;dbl&gt;</th><th scope=col>&lt;dbl&gt;</th><th scope=col>&lt;int&gt;</th><th scope=col>&lt;chr&gt;</th></tr>\n",
       "</thead>\n",
       "<tbody>\n",
       "\t<tr><td>NOC2L  </td><td>1</td><td>NOC2L  </td><td> 879584</td><td>rs3748595 </td><td>1</td><td> 887560</td><td>A</td><td>C</td><td>0.0672147</td><td>⋯</td><td>0.5676</td><td>-0.153020</td><td>0.0352961</td><td>1.455500e-05</td><td>-0.073327</td><td>0.129544</td><td>0.5713679</td><td>0.1533406</td><td>3</td><td>BimmNaive</td></tr>\n",
       "\t<tr><td>C1orf86</td><td>1</td><td>C1orf86</td><td>2115903</td><td>rs11587831</td><td>1</td><td>2110848</td><td>T</td><td>G</td><td>0.7853000</td><td>⋯</td><td>0.3485</td><td>-0.115809</td><td>0.0148762</td><td>6.980209e-15</td><td> 0.134616</td><td>0.144356</td><td>0.3510651</td><td>0.6961858</td><td>8</td><td>BimmNaive</td></tr>\n",
       "</tbody>\n",
       "</table>\n"
      ],
      "text/latex": [
       "A data.table: 2 × 22\n",
       "\\begin{tabular}{lllllllllllllllllllll}\n",
       " probeID & ProbeChr & Gene & Probe\\_bp & topSNP & topSNP\\_chr & topSNP\\_bp & A1 & A2 & Freq & ⋯ & p\\_GWAS & b\\_eQTL & se\\_eQTL & p\\_eQTL & b\\_SMR & se\\_SMR & p\\_SMR & p\\_HEIDI & nsnp\\_HEIDI & Cell\\_type\\\\\n",
       " <chr> & <int> & <chr> & <int> & <chr> & <int> & <int> & <chr> & <chr> & <dbl> & ⋯ & <dbl> & <dbl> & <dbl> & <dbl> & <dbl> & <dbl> & <dbl> & <dbl> & <int> & <chr>\\\\\n",
       "\\hline\n",
       "\t NOC2L   & 1 & NOC2L   &  879584 & rs3748595  & 1 &  887560 & A & C & 0.0672147 & ⋯ & 0.5676 & -0.153020 & 0.0352961 & 1.455500e-05 & -0.073327 & 0.129544 & 0.5713679 & 0.1533406 & 3 & BimmNaive\\\\\n",
       "\t C1orf86 & 1 & C1orf86 & 2115903 & rs11587831 & 1 & 2110848 & T & G & 0.7853000 & ⋯ & 0.3485 & -0.115809 & 0.0148762 & 6.980209e-15 &  0.134616 & 0.144356 & 0.3510651 & 0.6961858 & 8 & BimmNaive\\\\\n",
       "\\end{tabular}\n"
      ],
      "text/markdown": [
       "\n",
       "A data.table: 2 × 22\n",
       "\n",
       "| probeID &lt;chr&gt; | ProbeChr &lt;int&gt; | Gene &lt;chr&gt; | Probe_bp &lt;int&gt; | topSNP &lt;chr&gt; | topSNP_chr &lt;int&gt; | topSNP_bp &lt;int&gt; | A1 &lt;chr&gt; | A2 &lt;chr&gt; | Freq &lt;dbl&gt; | ⋯ ⋯ | p_GWAS &lt;dbl&gt; | b_eQTL &lt;dbl&gt; | se_eQTL &lt;dbl&gt; | p_eQTL &lt;dbl&gt; | b_SMR &lt;dbl&gt; | se_SMR &lt;dbl&gt; | p_SMR &lt;dbl&gt; | p_HEIDI &lt;dbl&gt; | nsnp_HEIDI &lt;int&gt; | Cell_type &lt;chr&gt; |\n",
       "|---|---|---|---|---|---|---|---|---|---|---|---|---|---|---|---|---|---|---|---|---|\n",
       "| NOC2L   | 1 | NOC2L   |  879584 | rs3748595  | 1 |  887560 | A | C | 0.0672147 | ⋯ | 0.5676 | -0.153020 | 0.0352961 | 1.455500e-05 | -0.073327 | 0.129544 | 0.5713679 | 0.1533406 | 3 | BimmNaive |\n",
       "| C1orf86 | 1 | C1orf86 | 2115903 | rs11587831 | 1 | 2110848 | T | G | 0.7853000 | ⋯ | 0.3485 | -0.115809 | 0.0148762 | 6.980209e-15 |  0.134616 | 0.144356 | 0.3510651 | 0.6961858 | 8 | BimmNaive |\n",
       "\n"
      ],
      "text/plain": [
       "  probeID ProbeChr Gene    Probe_bp topSNP     topSNP_chr topSNP_bp A1 A2\n",
       "1 NOC2L   1        NOC2L    879584  rs3748595  1           887560   A  C \n",
       "2 C1orf86 1        C1orf86 2115903  rs11587831 1          2110848   T  G \n",
       "  Freq      ⋯ p_GWAS b_eQTL    se_eQTL   p_eQTL       b_SMR     se_SMR  \n",
       "1 0.0672147 ⋯ 0.5676 -0.153020 0.0352961 1.455500e-05 -0.073327 0.129544\n",
       "2 0.7853000 ⋯ 0.3485 -0.115809 0.0148762 6.980209e-15  0.134616 0.144356\n",
       "  p_SMR     p_HEIDI   nsnp_HEIDI Cell_type\n",
       "1 0.5713679 0.1533406 3          BimmNaive\n",
       "2 0.3510651 0.6961858 8          BimmNaive"
      ]
     },
     "metadata": {},
     "output_type": "display_data"
    }
   ],
   "source": [
    "# SAIGE-QTL results\n",
    "saige_eqtl_smr_results_dir = \"/directflow/SCCGGroupShare/projects/angxue/proj/SAIGE-eQTL/SMR/saige_eQTL/\"\n",
    "saige_cd_file = paste0(saige_eqtl_smr_results_dir, \"cd_all_14_celltypes_all_smr.txt\")\n",
    "saige_df = fread(saige_cd_file)\n",
    "head(saige_df,2)"
   ]
  },
  {
   "cell_type": "code",
   "execution_count": 11,
   "id": "d912fd35",
   "metadata": {},
   "outputs": [
    {
     "data": {
      "text/html": [
       "5671"
      ],
      "text/latex": [
       "5671"
      ],
      "text/markdown": [
       "5671"
      ],
      "text/plain": [
       "[1] 5671"
      ]
     },
     "metadata": {},
     "output_type": "display_data"
    },
    {
     "data": {
      "text/html": [
       "16398"
      ],
      "text/latex": [
       "16398"
      ],
      "text/markdown": [
       "16398"
      ],
      "text/plain": [
       "[1] 16398"
      ]
     },
     "metadata": {},
     "output_type": "display_data"
    },
    {
     "data": {
      "text/html": [
       "<table class=\"dataframe\">\n",
       "<caption>A data.table: 2 × 23</caption>\n",
       "<thead>\n",
       "\t<tr><th scope=col>probeID</th><th scope=col>ProbeChr</th><th scope=col>Gene</th><th scope=col>Probe_bp</th><th scope=col>topSNP</th><th scope=col>topSNP_chr</th><th scope=col>topSNP_bp</th><th scope=col>A1</th><th scope=col>A2</th><th scope=col>Freq</th><th scope=col>⋯</th><th scope=col>b_eQTL</th><th scope=col>se_eQTL</th><th scope=col>p_eQTL</th><th scope=col>b_SMR</th><th scope=col>se_SMR</th><th scope=col>p_SMR</th><th scope=col>p_HEIDI</th><th scope=col>nsnp_HEIDI</th><th scope=col>Cell_type</th><th scope=col>comb</th></tr>\n",
       "\t<tr><th scope=col>&lt;chr&gt;</th><th scope=col>&lt;int&gt;</th><th scope=col>&lt;chr&gt;</th><th scope=col>&lt;int&gt;</th><th scope=col>&lt;chr&gt;</th><th scope=col>&lt;int&gt;</th><th scope=col>&lt;int&gt;</th><th scope=col>&lt;chr&gt;</th><th scope=col>&lt;chr&gt;</th><th scope=col>&lt;dbl&gt;</th><th scope=col>⋯</th><th scope=col>&lt;dbl&gt;</th><th scope=col>&lt;dbl&gt;</th><th scope=col>&lt;dbl&gt;</th><th scope=col>&lt;dbl&gt;</th><th scope=col>&lt;dbl&gt;</th><th scope=col>&lt;dbl&gt;</th><th scope=col>&lt;dbl&gt;</th><th scope=col>&lt;int&gt;</th><th scope=col>&lt;chr&gt;</th><th scope=col>&lt;chr&gt;</th></tr>\n",
       "</thead>\n",
       "<tbody>\n",
       "\t<tr><td>NOC2L  </td><td>1</td><td>NOC2L  </td><td> 879584</td><td>rs3748595 </td><td>1</td><td> 887560</td><td>A</td><td>C</td><td>0.0672147</td><td>⋯</td><td>-0.153020</td><td>0.0352961</td><td>1.455500e-05</td><td>-0.073327</td><td>0.129544</td><td>0.5713679</td><td>0.1533406</td><td>3</td><td>BimmNaive</td><td>NOC2L_BimmNaive  </td></tr>\n",
       "\t<tr><td>C1orf86</td><td>1</td><td>C1orf86</td><td>2115903</td><td>rs11587831</td><td>1</td><td>2110848</td><td>T</td><td>G</td><td>0.7853000</td><td>⋯</td><td>-0.115809</td><td>0.0148762</td><td>6.980209e-15</td><td> 0.134616</td><td>0.144356</td><td>0.3510651</td><td>0.6961858</td><td>8</td><td>BimmNaive</td><td>C1orf86_BimmNaive</td></tr>\n",
       "</tbody>\n",
       "</table>\n"
      ],
      "text/latex": [
       "A data.table: 2 × 23\n",
       "\\begin{tabular}{lllllllllllllllllllll}\n",
       " probeID & ProbeChr & Gene & Probe\\_bp & topSNP & topSNP\\_chr & topSNP\\_bp & A1 & A2 & Freq & ⋯ & b\\_eQTL & se\\_eQTL & p\\_eQTL & b\\_SMR & se\\_SMR & p\\_SMR & p\\_HEIDI & nsnp\\_HEIDI & Cell\\_type & comb\\\\\n",
       " <chr> & <int> & <chr> & <int> & <chr> & <int> & <int> & <chr> & <chr> & <dbl> & ⋯ & <dbl> & <dbl> & <dbl> & <dbl> & <dbl> & <dbl> & <dbl> & <int> & <chr> & <chr>\\\\\n",
       "\\hline\n",
       "\t NOC2L   & 1 & NOC2L   &  879584 & rs3748595  & 1 &  887560 & A & C & 0.0672147 & ⋯ & -0.153020 & 0.0352961 & 1.455500e-05 & -0.073327 & 0.129544 & 0.5713679 & 0.1533406 & 3 & BimmNaive & NOC2L\\_BimmNaive  \\\\\n",
       "\t C1orf86 & 1 & C1orf86 & 2115903 & rs11587831 & 1 & 2110848 & T & G & 0.7853000 & ⋯ & -0.115809 & 0.0148762 & 6.980209e-15 &  0.134616 & 0.144356 & 0.3510651 & 0.6961858 & 8 & BimmNaive & C1orf86\\_BimmNaive\\\\\n",
       "\\end{tabular}\n"
      ],
      "text/markdown": [
       "\n",
       "A data.table: 2 × 23\n",
       "\n",
       "| probeID &lt;chr&gt; | ProbeChr &lt;int&gt; | Gene &lt;chr&gt; | Probe_bp &lt;int&gt; | topSNP &lt;chr&gt; | topSNP_chr &lt;int&gt; | topSNP_bp &lt;int&gt; | A1 &lt;chr&gt; | A2 &lt;chr&gt; | Freq &lt;dbl&gt; | ⋯ ⋯ | b_eQTL &lt;dbl&gt; | se_eQTL &lt;dbl&gt; | p_eQTL &lt;dbl&gt; | b_SMR &lt;dbl&gt; | se_SMR &lt;dbl&gt; | p_SMR &lt;dbl&gt; | p_HEIDI &lt;dbl&gt; | nsnp_HEIDI &lt;int&gt; | Cell_type &lt;chr&gt; | comb &lt;chr&gt; |\n",
       "|---|---|---|---|---|---|---|---|---|---|---|---|---|---|---|---|---|---|---|---|---|\n",
       "| NOC2L   | 1 | NOC2L   |  879584 | rs3748595  | 1 |  887560 | A | C | 0.0672147 | ⋯ | -0.153020 | 0.0352961 | 1.455500e-05 | -0.073327 | 0.129544 | 0.5713679 | 0.1533406 | 3 | BimmNaive | NOC2L_BimmNaive   |\n",
       "| C1orf86 | 1 | C1orf86 | 2115903 | rs11587831 | 1 | 2110848 | T | G | 0.7853000 | ⋯ | -0.115809 | 0.0148762 | 6.980209e-15 |  0.134616 | 0.144356 | 0.3510651 | 0.6961858 | 8 | BimmNaive | C1orf86_BimmNaive |\n",
       "\n"
      ],
      "text/plain": [
       "  probeID ProbeChr Gene    Probe_bp topSNP     topSNP_chr topSNP_bp A1 A2\n",
       "1 NOC2L   1        NOC2L    879584  rs3748595  1           887560   A  C \n",
       "2 C1orf86 1        C1orf86 2115903  rs11587831 1          2110848   T  G \n",
       "  Freq      ⋯ b_eQTL    se_eQTL   p_eQTL       b_SMR     se_SMR   p_SMR    \n",
       "1 0.0672147 ⋯ -0.153020 0.0352961 1.455500e-05 -0.073327 0.129544 0.5713679\n",
       "2 0.7853000 ⋯ -0.115809 0.0148762 6.980209e-15  0.134616 0.144356 0.3510651\n",
       "  p_HEIDI   nsnp_HEIDI Cell_type comb             \n",
       "1 0.1533406 3          BimmNaive NOC2L_BimmNaive  \n",
       "2 0.6961858 8          BimmNaive C1orf86_BimmNaive"
      ]
     },
     "metadata": {},
     "output_type": "display_data"
    }
   ],
   "source": [
    "length(unique(saige_df$Gene))\n",
    "saige_df$comb = paste0(saige_df$Gene,\"_\",saige_df$Cell_type)\n",
    "length(unique(saige_df$comb))\n",
    "head(saige_df,2)"
   ]
  },
  {
   "cell_type": "code",
   "execution_count": 12,
   "id": "21313568",
   "metadata": {},
   "outputs": [
    {
     "data": {
      "text/html": [
       "46"
      ],
      "text/latex": [
       "46"
      ],
      "text/markdown": [
       "46"
      ],
      "text/plain": [
       "[1] 46"
      ]
     },
     "metadata": {},
     "output_type": "display_data"
    },
    {
     "data": {
      "text/html": [
       "43"
      ],
      "text/latex": [
       "43"
      ],
      "text/markdown": [
       "43"
      ],
      "text/plain": [
       "[1] 43"
      ]
     },
     "metadata": {},
     "output_type": "display_data"
    }
   ],
   "source": [
    "# significant results at p<0.05/M with M either # genes or # gene-celltype combinations\n",
    "nrow(saige_df[saige_df$p_SMR < 0.05/length(unique(saige_df$Gene)),])\n",
    "nrow(saige_df[saige_df$p_SMR < 0.05/length(unique(saige_df$comb)),])"
   ]
  },
  {
   "cell_type": "code",
   "execution_count": 13,
   "id": "105e1d55",
   "metadata": {},
   "outputs": [
    {
     "data": {
      "text/html": [
       "150"
      ],
      "text/latex": [
       "150"
      ],
      "text/markdown": [
       "150"
      ],
      "text/plain": [
       "[1] 150"
      ]
     },
     "metadata": {},
     "output_type": "display_data"
    }
   ],
   "source": [
    "# significant results at FDR<5% instead (using qvalue)\n",
    "saige_df$qv = qvalue(saige_df$p_SMR)$qvalues\n",
    "nrow(saige_df[saige_df$qv<0.05,])"
   ]
  },
  {
   "cell_type": "code",
   "execution_count": null,
   "id": "7fc94444",
   "metadata": {},
   "outputs": [],
   "source": []
  },
  {
   "cell_type": "code",
   "execution_count": 14,
   "id": "ed33208f",
   "metadata": {},
   "outputs": [
    {
     "data": {
      "text/html": [
       "131"
      ],
      "text/latex": [
       "131"
      ],
      "text/markdown": [
       "131"
      ],
      "text/plain": [
       "[1] 131"
      ]
     },
     "metadata": {},
     "output_type": "display_data"
    },
    {
     "data": {
      "text/html": [
       "150"
      ],
      "text/latex": [
       "150"
      ],
      "text/markdown": [
       "150"
      ],
      "text/plain": [
       "[1] 150"
      ]
     },
     "metadata": {},
     "output_type": "display_data"
    },
    {
     "data": {
      "text/html": [
       "116"
      ],
      "text/latex": [
       "116"
      ],
      "text/markdown": [
       "116"
      ],
      "text/plain": [
       "[1] 116"
      ]
     },
     "metadata": {},
     "output_type": "display_data"
    }
   ],
   "source": [
    "# Overlap (everything tested)\n",
    "\n",
    "matrix_sign_combs = matrix_df[matrix_df$qv < 0.05,\"comb\"]$comb\n",
    "length(matrix_sign_combs)\n",
    "\n",
    "saige_sign_combs = saige_df[saige_df$qv < 0.05,\"comb\"]$comb\n",
    "length(saige_sign_combs)\n",
    "\n",
    "length(saige_sign_combs[saige_sign_combs %in% matrix_sign_combs])"
   ]
  },
  {
   "cell_type": "code",
   "execution_count": null,
   "id": "946fa23e",
   "metadata": {},
   "outputs": [],
   "source": []
  },
  {
   "cell_type": "code",
   "execution_count": null,
   "id": "925cec3c",
   "metadata": {},
   "outputs": [],
   "source": []
  },
  {
   "cell_type": "code",
   "execution_count": 19,
   "id": "02bfcdfb",
   "metadata": {},
   "outputs": [
    {
     "data": {
      "text/html": [
       "11985"
      ],
      "text/latex": [
       "11985"
      ],
      "text/markdown": [
       "11985"
      ],
      "text/plain": [
       "[1] 11985"
      ]
     },
     "metadata": {},
     "output_type": "display_data"
    }
   ],
   "source": [
    "# Overlap (common gene-cell type combinations only)\n",
    "matrix_combs = unique(matrix_df$comb)\n",
    "saige_combs = unique(saige_df$comb)\n",
    "common_combs = saige_combs[saige_combs %in% matrix_combs]\n",
    "length(common_combs)"
   ]
  },
  {
   "cell_type": "code",
   "execution_count": 20,
   "id": "a01edb82",
   "metadata": {},
   "outputs": [],
   "source": [
    "matrix_df_common = matrix_df[matrix_df$comb %in% common_combs,]\n",
    "matrix_df_common$qv = qvalue(matrix_df_common$p_SMR)$qvalues\n",
    "saige_df_common = saige_df[saige_df$comb %in% common_combs,]\n",
    "saige_df_common$qv = qvalue(saige_df_common$p_SMR)$qvalues"
   ]
  },
  {
   "cell_type": "code",
   "execution_count": 21,
   "id": "59e02ade",
   "metadata": {},
   "outputs": [
    {
     "data": {
      "text/html": [
       "138"
      ],
      "text/latex": [
       "138"
      ],
      "text/markdown": [
       "138"
      ],
      "text/plain": [
       "[1] 138"
      ]
     },
     "metadata": {},
     "output_type": "display_data"
    },
    {
     "data": {
      "text/html": [
       "162"
      ],
      "text/latex": [
       "162"
      ],
      "text/markdown": [
       "162"
      ],
      "text/plain": [
       "[1] 162"
      ]
     },
     "metadata": {},
     "output_type": "display_data"
    },
    {
     "data": {
      "text/html": [
       "125"
      ],
      "text/latex": [
       "125"
      ],
      "text/markdown": [
       "125"
      ],
      "text/plain": [
       "[1] 125"
      ]
     },
     "metadata": {},
     "output_type": "display_data"
    }
   ],
   "source": [
    "matrix_sign_combs = matrix_df_common[matrix_df_common$qv < 0.05,\"comb\"]$comb\n",
    "length(matrix_sign_combs)\n",
    "\n",
    "saige_sign_combs = saige_df_common[saige_df_common$qv < 0.05,\"comb\"]$comb\n",
    "length(saige_sign_combs)\n",
    "\n",
    "length(saige_sign_combs[saige_sign_combs %in% matrix_sign_combs])"
   ]
  },
  {
   "cell_type": "code",
   "execution_count": null,
   "id": "885c2082",
   "metadata": {},
   "outputs": [],
   "source": []
  },
  {
   "cell_type": "code",
   "execution_count": null,
   "id": "f68665d3",
   "metadata": {},
   "outputs": [],
   "source": []
  },
  {
   "cell_type": "code",
   "execution_count": null,
   "id": "8c40feb9",
   "metadata": {},
   "outputs": [],
   "source": []
  },
  {
   "cell_type": "code",
   "execution_count": 22,
   "id": "8c40f2d0",
   "metadata": {},
   "outputs": [
    {
     "data": {
      "text/html": [
       "<table class=\"dataframe\">\n",
       "<caption>A data.table: 150 × 24</caption>\n",
       "<thead>\n",
       "\t<tr><th scope=col>probeID</th><th scope=col>ProbeChr</th><th scope=col>Gene</th><th scope=col>Probe_bp</th><th scope=col>topSNP</th><th scope=col>topSNP_chr</th><th scope=col>topSNP_bp</th><th scope=col>A1</th><th scope=col>A2</th><th scope=col>Freq</th><th scope=col>⋯</th><th scope=col>se_eQTL</th><th scope=col>p_eQTL</th><th scope=col>b_SMR</th><th scope=col>se_SMR</th><th scope=col>p_SMR</th><th scope=col>p_HEIDI</th><th scope=col>nsnp_HEIDI</th><th scope=col>Cell_type</th><th scope=col>comb</th><th scope=col>qv</th></tr>\n",
       "\t<tr><th scope=col>&lt;chr&gt;</th><th scope=col>&lt;int&gt;</th><th scope=col>&lt;chr&gt;</th><th scope=col>&lt;int&gt;</th><th scope=col>&lt;chr&gt;</th><th scope=col>&lt;int&gt;</th><th scope=col>&lt;int&gt;</th><th scope=col>&lt;chr&gt;</th><th scope=col>&lt;chr&gt;</th><th scope=col>&lt;dbl&gt;</th><th scope=col>⋯</th><th scope=col>&lt;dbl&gt;</th><th scope=col>&lt;dbl&gt;</th><th scope=col>&lt;dbl&gt;</th><th scope=col>&lt;dbl&gt;</th><th scope=col>&lt;dbl&gt;</th><th scope=col>&lt;dbl&gt;</th><th scope=col>&lt;int&gt;</th><th scope=col>&lt;chr&gt;</th><th scope=col>&lt;chr&gt;</th><th scope=col>&lt;dbl&gt;</th></tr>\n",
       "</thead>\n",
       "<tbody>\n",
       "\t<tr><td>RBM6      </td><td> 3</td><td>RBM6      </td><td> 49977440</td><td>rs7613875 </td><td> 3</td><td> 49971514</td><td>C</td><td>A</td><td>0.448743</td><td>⋯</td><td>0.01473940</td><td> 4.663713e-15</td><td>-0.503019</td><td>0.1361050</td><td>2.191745e-04</td><td>4.763586e-02</td><td>20</td><td>BimmNaive</td><td>RBM6_BimmNaive      </td><td>2.559049e-02</td></tr>\n",
       "\t<tr><td>ERAP2     </td><td> 5</td><td>ERAP2     </td><td> 96211643</td><td>rs27295   </td><td> 5</td><td> 96358687</td><td>C</td><td>T</td><td>0.431335</td><td>⋯</td><td>0.02186180</td><td> 9.580355e-47</td><td>-0.292410</td><td>0.0491637</td><td>2.719701e-09</td><td>7.152581e-01</td><td>20</td><td>BimmNaive</td><td>ERAP2_BimmNaive     </td><td>3.028922e-06</td></tr>\n",
       "\t<tr><td>CDC42SE2  </td><td> 5</td><td>CDC42SE2  </td><td>130581186</td><td>rs31251   </td><td> 5</td><td>130833946</td><td>C</td><td>T</td><td>0.419729</td><td>⋯</td><td>0.01480940</td><td> 1.523873e-06</td><td> 1.065800</td><td>0.2961160</td><td>3.191008e-04</td><td>3.311225e-01</td><td>14</td><td>BimmNaive</td><td>CDC42SE2_BimmNaive  </td><td>3.408073e-02</td></tr>\n",
       "\t<tr><td>LST1      </td><td> 6</td><td>LST1      </td><td> 31553901</td><td>rs2256965 </td><td> 6</td><td> 31555130</td><td>A</td><td>G</td><td>0.405706</td><td>⋯</td><td>0.02502590</td><td> 4.159973e-16</td><td>-0.316840</td><td>0.0788990</td><td>5.925158e-05</td><td>2.730778e-03</td><td>14</td><td>BimmNaive</td><td>LST1_BimmNaive      </td><td>1.059429e-02</td></tr>\n",
       "\t<tr><td>TMEM258   </td><td>11</td><td>TMEM258   </td><td> 61535973</td><td>rs174538  </td><td>11</td><td> 61560081</td><td>G</td><td>A</td><td>0.696325</td><td>⋯</td><td>0.01109410</td><td> 1.172200e-11</td><td>-0.894723</td><td>0.2411910</td><td>2.075796e-04</td><td>6.515992e-01</td><td>20</td><td>BimmNaive</td><td>TMEM258_BimmNaive   </td><td>2.445305e-02</td></tr>\n",
       "\t<tr><td>AP003774.1</td><td>11</td><td>AP003774.1</td><td> 64092522</td><td>rs646153  </td><td>11</td><td> 64089588</td><td>C</td><td>T</td><td>0.624275</td><td>⋯</td><td>0.03757460</td><td> 6.251950e-24</td><td> 0.168507</td><td>0.0412274</td><td>4.364900e-05</td><td>3.810215e-02</td><td>20</td><td>BimmNaive</td><td>AP003774.1_BimmNaive</td><td>8.843741e-03</td></tr>\n",
       "\t<tr><td>CCDC88B   </td><td>11</td><td>CCDC88B   </td><td> 64107695</td><td>rs510372  </td><td>11</td><td> 64115137</td><td>C</td><td>T</td><td>0.614120</td><td>⋯</td><td>0.02211490</td><td> 1.260601e-07</td><td>-0.557565</td><td>0.1611960</td><td>5.423331e-04</td><td>1.837508e-01</td><td>16</td><td>BimmNaive</td><td>CCDC88B_BimmNaive   </td><td>4.981332e-02</td></tr>\n",
       "\t<tr><td>ZFP36L1   </td><td>14</td><td>ZFP36L1   </td><td> 69254377</td><td>rs12435329</td><td>14</td><td> 69250891</td><td>T</td><td>C</td><td>0.530948</td><td>⋯</td><td>0.01026990</td><td> 4.299632e-10</td><td> 0.970710</td><td>0.2663400</td><td>2.677812e-04</td><td>4.708427e-03</td><td>20</td><td>BimmNaive</td><td>ZFP36L1_BimmNaive   </td><td>2.999478e-02</td></tr>\n",
       "\t<tr><td>CCDC101   </td><td>16</td><td>CCDC101   </td><td> 28565236</td><td>rs3743963 </td><td>16</td><td> 28604686</td><td>A</td><td>G</td><td>0.472437</td><td>⋯</td><td>0.02480000</td><td> 3.211693e-11</td><td> 0.416040</td><td>0.1049450</td><td>7.358785e-05</td><td>4.970654e-02</td><td>20</td><td>BimmNaive</td><td>CCDC101_BimmNaive   </td><td>1.215504e-02</td></tr>\n",
       "\t<tr><td>TUFM      </td><td>16</td><td>TUFM      </td><td> 28853732</td><td>rs7187776 </td><td>16</td><td> 28857645</td><td>A</td><td>G</td><td>0.615571</td><td>⋯</td><td>0.01473370</td><td> 3.420663e-67</td><td>-0.333696</td><td>0.0590836</td><td>1.624574e-08</td><td>7.104661e-02</td><td>20</td><td>BimmNaive</td><td>TUFM_BimmNaive      </td><td>1.065837e-05</td></tr>\n",
       "\t<tr><td>BRD7      </td><td>16</td><td>BRD7      </td><td> 50347398</td><td>rs4494538 </td><td>16</td><td> 50373272</td><td>C</td><td>T</td><td>0.849130</td><td>⋯</td><td>0.04169730</td><td> 4.464791e-08</td><td> 0.371760</td><td>0.1056460</td><td>4.332829e-04</td><td>9.518775e-02</td><td>11</td><td>BimmNaive</td><td>BRD7_BimmNaive      </td><td>4.203914e-02</td></tr>\n",
       "\t<tr><td>ORMDL3    </td><td>17</td><td>ORMDL3    </td><td> 38077294</td><td>rs8067378 </td><td>17</td><td> 38051348</td><td>A</td><td>G</td><td>0.491779</td><td>⋯</td><td>0.02442030</td><td> 1.576034e-50</td><td> 0.199113</td><td>0.0401591</td><td>7.118453e-07</td><td>1.339933e-01</td><td>20</td><td>BimmNaive</td><td>ORMDL3_BimmNaive    </td><td>2.580909e-04</td></tr>\n",
       "\t<tr><td>ERAP2     </td><td> 5</td><td>ERAP2     </td><td> 96211643</td><td>rs27998   </td><td> 5</td><td> 96367408</td><td>G</td><td>A</td><td>0.428917</td><td>⋯</td><td>0.02443750</td><td> 7.455040e-54</td><td>-0.238227</td><td>0.0402680</td><td>3.297681e-09</td><td>8.812517e-01</td><td>20</td><td>Bmem     </td><td>ERAP2_Bmem          </td><td>3.028922e-06</td></tr>\n",
       "\t<tr><td>LST1      </td><td> 6</td><td>LST1      </td><td> 31553901</td><td>rs2256965 </td><td> 6</td><td> 31555130</td><td>A</td><td>G</td><td>0.405706</td><td>⋯</td><td>0.03095050</td><td> 1.164261e-08</td><td>-0.365267</td><td>0.1017650</td><td>3.315603e-04</td><td>5.972385e-03</td><td>14</td><td>Bmem     </td><td>LST1_Bmem           </td><td>3.464439e-02</td></tr>\n",
       "\t<tr><td>TMEM258   </td><td>11</td><td>TMEM258   </td><td> 61535973</td><td>rs174584  </td><td>11</td><td> 61610750</td><td>G</td><td>A</td><td>0.661992</td><td>⋯</td><td>0.01251860</td><td> 1.094778e-13</td><td>-0.709217</td><td>0.1841360</td><td>1.173570e-04</td><td>1.524811e-01</td><td>20</td><td>Bmem     </td><td>TMEM258_Bmem        </td><td>1.633219e-02</td></tr>\n",
       "\t<tr><td>AP003774.1</td><td>11</td><td>AP003774.1</td><td> 64092522</td><td>rs479777  </td><td>11</td><td> 64107477</td><td>T</td><td>C</td><td>0.659091</td><td>⋯</td><td>0.04570900</td><td> 1.863362e-20</td><td> 0.138252</td><td>0.0376432</td><td>2.400027e-04</td><td>3.143442e-02</td><td>20</td><td>Bmem     </td><td>AP003774.1_Bmem     </td><td>2.732759e-02</td></tr>\n",
       "\t<tr><td>TUFM      </td><td>16</td><td>TUFM      </td><td> 28853732</td><td>rs7187776 </td><td>16</td><td> 28857645</td><td>A</td><td>G</td><td>0.615571</td><td>⋯</td><td>0.01434550</td><td> 3.904825e-45</td><td>-0.421010</td><td>0.0765345</td><td>3.778108e-08</td><td>1.662807e-01</td><td>20</td><td>Bmem     </td><td>TUFM_Bmem           </td><td>2.168871e-05</td></tr>\n",
       "\t<tr><td>ORMDL3    </td><td>17</td><td>ORMDL3    </td><td> 38077294</td><td>rs7359623 </td><td>17</td><td> 38049589</td><td>C</td><td>T</td><td>0.496132</td><td>⋯</td><td>0.02815960</td><td> 1.782539e-39</td><td> 0.204092</td><td>0.0404580</td><td>4.545983e-07</td><td>4.388768e-02</td><td>20</td><td>Bmem     </td><td>ORMDL3_Bmem         </td><td>1.842127e-04</td></tr>\n",
       "\t<tr><td>SCAMP3    </td><td> 1</td><td>SCAMP3    </td><td>155225770</td><td>rs1076556 </td><td> 1</td><td>155234821</td><td>A</td><td>G</td><td>0.713250</td><td>⋯</td><td>0.01138940</td><td> 1.048093e-32</td><td>-0.641302</td><td>0.1306390</td><td>9.155943e-07</td><td>1.544640e-01</td><td>20</td><td>CD4all   </td><td>SCAMP3_CD4all       </td><td>3.153652e-04</td></tr>\n",
       "\t<tr><td>DAP3      </td><td> 1</td><td>DAP3      </td><td>155657751</td><td>rs2297775 </td><td> 1</td><td>155735012</td><td>T</td><td>C</td><td>0.677466</td><td>⋯</td><td>0.00594916</td><td> 1.199251e-20</td><td> 1.348150</td><td>0.3130500</td><td>1.658638e-05</td><td>1.194443e-01</td><td>20</td><td>CD4all   </td><td>DAP3_CD4all         </td><td>4.154890e-03</td></tr>\n",
       "\t<tr><td>IL18R1    </td><td> 2</td><td>IL18R1    </td><td>102927989</td><td>rs1882348 </td><td> 2</td><td>102984671</td><td>T</td><td>A</td><td>0.595261</td><td>⋯</td><td>0.03081450</td><td> 4.483768e-22</td><td> 0.203635</td><td>0.0523124</td><td>9.914522e-05</td><td>2.226254e-03</td><td>20</td><td>CD4all   </td><td>IL18R1_CD4all       </td><td>1.484754e-02</td></tr>\n",
       "\t<tr><td>GPX1      </td><td> 3</td><td>GPX1      </td><td> 49394609</td><td>rs1801143 </td><td> 3</td><td> 49570200</td><td>C</td><td>T</td><td>0.701161</td><td>⋯</td><td>0.00677544</td><td> 7.627006e-13</td><td> 2.124130</td><td>0.4262650</td><td>6.256809e-07</td><td>6.638163e-01</td><td>20</td><td>CD4all   </td><td>GPX1_CD4all         </td><td>2.393895e-04</td></tr>\n",
       "\t<tr><td>UBA7      </td><td> 3</td><td>UBA7      </td><td> 49842640</td><td>rs2352974 </td><td> 3</td><td> 49890613</td><td>C</td><td>T</td><td>0.500000</td><td>⋯</td><td>0.01124030</td><td> 4.692409e-06</td><td>-1.601140</td><td>0.4412280</td><td>2.847254e-04</td><td>1.414457e-01</td><td> 8</td><td>CD4all   </td><td>UBA7_CD4all         </td><td>3.113338e-02</td></tr>\n",
       "\t<tr><td>RBM6      </td><td> 3</td><td>RBM6      </td><td> 49977440</td><td>rs2240329 </td><td> 3</td><td> 50107512</td><td>G</td><td>A</td><td>0.542553</td><td>⋯</td><td>0.00793099</td><td> 1.292100e-25</td><td>-0.700482</td><td>0.1797830</td><td>9.768461e-05</td><td>5.016788e-04</td><td>20</td><td>CD4all   </td><td>RBM6_CD4all         </td><td>1.478956e-02</td></tr>\n",
       "\t<tr><td>ERAP2     </td><td> 5</td><td>ERAP2     </td><td> 96211643</td><td>rs2910686 </td><td> 5</td><td> 96252589</td><td>T</td><td>C</td><td>0.567215</td><td>⋯</td><td>0.01822860</td><td>4.685026e-155</td><td>-0.189532</td><td>0.0298614</td><td>2.194715e-10</td><td>3.353872e-01</td><td>20</td><td>CD4all   </td><td>ERAP2_CD4all        </td><td>7.480580e-07</td></tr>\n",
       "\t<tr><td>SLC22A5   </td><td> 5</td><td>SLC22A5   </td><td>131705444</td><td>rs274555  </td><td> 5</td><td>131722951</td><td>C</td><td>T</td><td>0.588975</td><td>⋯</td><td>0.03367400</td><td> 1.674572e-11</td><td> 0.339937</td><td>0.0800147</td><td>2.152648e-05</td><td>4.811548e-03</td><td>20</td><td>CD4all   </td><td>SLC22A5_CD4all      </td><td>4.997354e-03</td></tr>\n",
       "\t<tr><td>IRF1      </td><td> 5</td><td>IRF1      </td><td>131817301</td><td>rs2070723 </td><td> 5</td><td>131823187</td><td>A</td><td>G</td><td>0.658607</td><td>⋯</td><td>0.01057760</td><td> 3.452096e-07</td><td>-1.476610</td><td>0.3980590</td><td>2.076578e-04</td><td>5.181236e-02</td><td>20</td><td>CD4all   </td><td>IRF1_CD4all         </td><td>2.445305e-02</td></tr>\n",
       "\t<tr><td>IL13      </td><td> 5</td><td>IL13      </td><td>131991955</td><td>rs72795121</td><td> 5</td><td>131638324</td><td>T</td><td>A</td><td>0.531431</td><td>⋯</td><td>0.10421200</td><td> 1.062150e-04</td><td> 0.280693</td><td>0.0801174</td><td>4.591372e-04</td><td>2.080888e-01</td><td>11</td><td>CD4all   </td><td>IL13_CD4all         </td><td>4.423613e-02</td></tr>\n",
       "\t<tr><td>RNF145    </td><td> 5</td><td>RNF145    </td><td>158584417</td><td>rs270654  </td><td> 5</td><td>158565109</td><td>T</td><td>C</td><td>0.896518</td><td>⋯</td><td>0.01835530</td><td> 9.015253e-14</td><td> 0.722024</td><td>0.1906450</td><td>1.523168e-04</td><td>6.384313e-02</td><td>20</td><td>CD4all   </td><td>RNF145_CD4all       </td><td>1.979760e-02</td></tr>\n",
       "\t<tr><td>HLA-DQA1  </td><td> 6</td><td>HLA-DQA1  </td><td> 32595956</td><td>rs35395738</td><td> 6</td><td> 32560209</td><td>T</td><td>C</td><td>0.806576</td><td>⋯</td><td>0.03311190</td><td> 1.129380e-13</td><td> 0.288662</td><td>0.0808396</td><td>3.558937e-04</td><td>1.131444e-05</td><td>20</td><td>CD4all   </td><td>HLA-DQA1_CD4all     </td><td>3.632095e-02</td></tr>\n",
       "\t<tr><td>⋮</td><td>⋮</td><td>⋮</td><td>⋮</td><td>⋮</td><td>⋮</td><td>⋮</td><td>⋮</td><td>⋮</td><td>⋮</td><td>⋱</td><td>⋮</td><td>⋮</td><td>⋮</td><td>⋮</td><td>⋮</td><td>⋮</td><td>⋮</td><td>⋮</td><td>⋮</td><td>⋮</td></tr>\n",
       "\t<tr><td>TUFM      </td><td>16</td><td>TUFM      </td><td> 28853732</td><td>rs7187776 </td><td>16</td><td> 28857645</td><td>A</td><td>G</td><td>0.615571</td><td>⋯</td><td>0.02148480</td><td> 8.543667e-30</td><td>-0.349556</td><td>0.0661344</td><td>1.253403e-07</td><td>4.154671e-01</td><td>20</td><td>MonoNC</td><td>TUFM_MonoNC     </td><td>6.167417e-05</td></tr>\n",
       "\t<tr><td>ERAP2     </td><td> 5</td><td>ERAP2     </td><td> 96211643</td><td>rs2548226 </td><td> 5</td><td> 96275186</td><td>C</td><td>T</td><td>0.582205</td><td>⋯</td><td>0.04306070</td><td> 2.167436e-30</td><td>-0.194498</td><td>0.0334505</td><td>6.082261e-09</td><td>5.036804e-02</td><td>20</td><td>NKact </td><td>ERAP2_NKact     </td><td>5.237400e-06</td></tr>\n",
       "\t<tr><td>RNASET2   </td><td> 6</td><td>RNASET2   </td><td>167342992</td><td>rs4710149 </td><td> 6</td><td>167386346</td><td>T</td><td>C</td><td>0.663443</td><td>⋯</td><td>0.03361340</td><td> 1.009939e-09</td><td> 0.474236</td><td>0.1048130</td><td>6.050850e-06</td><td>3.685889e-01</td><td>19</td><td>NKact </td><td>RNASET2_NKact   </td><td>1.812296e-03</td></tr>\n",
       "\t<tr><td>AP003774.1</td><td>11</td><td>AP003774.1</td><td> 64092522</td><td>rs574087  </td><td>11</td><td> 64102948</td><td>A</td><td>G</td><td>0.624758</td><td>⋯</td><td>0.07196230</td><td> 5.387107e-10</td><td> 0.139446</td><td>0.0390438</td><td>3.549091e-04</td><td>3.052661e-01</td><td>20</td><td>NKact </td><td>AP003774.1_NKact</td><td>3.632095e-02</td></tr>\n",
       "\t<tr><td>ORMDL3    </td><td>17</td><td>ORMDL3    </td><td> 38077294</td><td>rs4795405 </td><td>17</td><td> 38088417</td><td>T</td><td>C</td><td>0.445358</td><td>⋯</td><td>0.04724750</td><td> 2.447561e-07</td><td> 0.285486</td><td>0.0794589</td><td>3.270465e-04</td><td>1.411941e-01</td><td>20</td><td>NKact </td><td>ORMDL3_NKact    </td><td>3.464439e-02</td></tr>\n",
       "\t<tr><td>IL12RB2   </td><td> 1</td><td>IL12RB2   </td><td> 67773047</td><td>rs17129778</td><td> 1</td><td> 67787691</td><td>A</td><td>T</td><td>0.828820</td><td>⋯</td><td>0.05450050</td><td> 2.246778e-16</td><td> 0.211770</td><td>0.0478722</td><td>9.704376e-06</td><td>1.622707e-01</td><td>20</td><td>NKmat </td><td>IL12RB2_NKmat   </td><td>2.844726e-03</td></tr>\n",
       "\t<tr><td>SCAMP3    </td><td> 1</td><td>SCAMP3    </td><td>155225770</td><td>rs11264353</td><td> 1</td><td>155255906</td><td>G</td><td>C</td><td>0.707930</td><td>⋯</td><td>0.01500260</td><td> 3.311327e-11</td><td>-0.871324</td><td>0.2084400</td><td>2.912297e-05</td><td>7.055313e-01</td><td>20</td><td>NKmat </td><td>SCAMP3_NKmat    </td><td>6.269405e-03</td></tr>\n",
       "\t<tr><td>IL18R1    </td><td> 2</td><td>IL18R1    </td><td>102927989</td><td>rs1420103 </td><td> 2</td><td>102948632</td><td>A</td><td>C</td><td>0.236944</td><td>⋯</td><td>0.02918370</td><td> 9.845762e-13</td><td>-0.414659</td><td>0.0970221</td><td>1.921145e-05</td><td>1.839500e-04</td><td>20</td><td>NKmat </td><td>IL18R1_NKmat    </td><td>4.726534e-03</td></tr>\n",
       "\t<tr><td>PLCL1     </td><td> 2</td><td>PLCL1     </td><td>198669426</td><td>rs7587251 </td><td> 2</td><td>198930197</td><td>T</td><td>G</td><td>0.490812</td><td>⋯</td><td>0.07598110</td><td> 3.764136e-12</td><td>-0.129122</td><td>0.0321768</td><td>5.997686e-05</td><td>1.209489e-02</td><td>20</td><td>NKmat </td><td>PLCL1_NKmat     </td><td>1.059429e-02</td></tr>\n",
       "\t<tr><td>RBM6      </td><td> 3</td><td>RBM6      </td><td> 49977440</td><td>rs7642934 </td><td> 3</td><td> 50174848</td><td>G</td><td>A</td><td>0.530464</td><td>⋯</td><td>0.01143040</td><td> 8.268473e-15</td><td>-0.707274</td><td>0.1805550</td><td>8.957674e-05</td><td>3.041059e-02</td><td>20</td><td>NKmat </td><td>RBM6_NKmat      </td><td>1.402437e-02</td></tr>\n",
       "\t<tr><td>ERAP2     </td><td> 5</td><td>ERAP2     </td><td> 96211643</td><td>rs2910686 </td><td> 5</td><td> 96252589</td><td>T</td><td>C</td><td>0.567215</td><td>⋯</td><td>0.02247820</td><td>5.962536e-122</td><td>-0.173620</td><td>0.0275697</td><td>3.024799e-10</td><td>6.820651e-01</td><td>20</td><td>NKmat </td><td>ERAP2_NKmat     </td><td>7.480580e-07</td></tr>\n",
       "\t<tr><td>SLC22A5   </td><td> 5</td><td>SLC22A5   </td><td>131705444</td><td>rs12521097</td><td> 5</td><td>131575338</td><td>G</td><td>A</td><td>0.529497</td><td>⋯</td><td>0.08115410</td><td> 2.073383e-08</td><td> 0.212833</td><td>0.0486532</td><td>1.217126e-05</td><td>5.609372e-02</td><td>20</td><td>NKmat </td><td>SLC22A5_NKmat   </td><td>3.493534e-03</td></tr>\n",
       "\t<tr><td>C5orf56   </td><td> 5</td><td>C5orf56   </td><td>131746328</td><td>rs2522051 </td><td> 5</td><td>131797578</td><td>T</td><td>C</td><td>0.540135</td><td>⋯</td><td>0.00905650</td><td> 2.492306e-14</td><td> 1.532600</td><td>0.2844310</td><td>7.113264e-08</td><td>2.063065e-08</td><td>20</td><td>NKmat </td><td>C5orf56_NKmat   </td><td>3.769348e-05</td></tr>\n",
       "\t<tr><td>UQCRQ     </td><td> 5</td><td>UQCRQ     </td><td>132202252</td><td>rs2522057 </td><td> 5</td><td>131801947</td><td>G</td><td>C</td><td>0.417311</td><td>⋯</td><td>0.00608093</td><td> 1.767241e-06</td><td>-4.455790</td><td>1.0494100</td><td>2.176310e-05</td><td>9.918928e-01</td><td>20</td><td>NKmat </td><td>UQCRQ_NKmat     </td><td>4.997354e-03</td></tr>\n",
       "\t<tr><td>MICB      </td><td> 6</td><td>MICB      </td><td> 31462658</td><td>rs28732101</td><td> 6</td><td> 31106302</td><td>C</td><td>T</td><td>0.944391</td><td>⋯</td><td>0.05883280</td><td> 2.784828e-12</td><td> 0.309733</td><td>0.0888274</td><td>4.886394e-04</td><td>5.578013e-05</td><td>20</td><td>NKmat </td><td>MICB_NKmat      </td><td>4.675162e-02</td></tr>\n",
       "\t<tr><td>HLA-DQB1  </td><td> 6</td><td>HLA-DQB1  </td><td> 32627244</td><td>rs9272426 </td><td> 6</td><td> 32605189</td><td>A</td><td>G</td><td>0.552708</td><td>⋯</td><td>0.03316150</td><td> 3.590372e-27</td><td>-0.159429</td><td>0.0416575</td><td>1.296377e-04</td><td>5.125182e-02</td><td>20</td><td>NKmat </td><td>HLA-DQB1_NKmat  </td><td>1.756721e-02</td></tr>\n",
       "\t<tr><td>RNASET2   </td><td> 6</td><td>RNASET2   </td><td>167342992</td><td>rs425039  </td><td> 6</td><td>167410527</td><td>C</td><td>T</td><td>0.465184</td><td>⋯</td><td>0.01071850</td><td> 4.807268e-43</td><td> 0.634977</td><td>0.1045980</td><td>1.273944e-09</td><td>4.359863e-01</td><td>20</td><td>NKmat </td><td>RNASET2_NKmat   </td><td>1.753164e-06</td></tr>\n",
       "\t<tr><td>SMIM19    </td><td> 8</td><td>SMIM19    </td><td> 42396298</td><td>rs6474401 </td><td> 8</td><td> 42367068</td><td>T</td><td>C</td><td>0.609284</td><td>⋯</td><td>0.01190380</td><td> 1.058801e-20</td><td>-0.490372</td><td>0.1392370</td><td>4.285499e-04</td><td>2.924483e-01</td><td>20</td><td>NKmat </td><td>SMIM19_NKmat    </td><td>4.187482e-02</td></tr>\n",
       "\t<tr><td>CISD1     </td><td>10</td><td>CISD1     </td><td> 60028818</td><td>rs1623294 </td><td>10</td><td> 59939025</td><td>A</td><td>G</td><td>0.808511</td><td>⋯</td><td>0.02098030</td><td> 3.222465e-09</td><td>-0.690233</td><td>0.1781060</td><td>1.064436e-04</td><td>4.287716e-01</td><td>20</td><td>NKmat </td><td>CISD1_NKmat     </td><td>1.527633e-02</td></tr>\n",
       "\t<tr><td>ZMIZ1     </td><td>10</td><td>ZMIZ1     </td><td> 80828792</td><td>rs1250554 </td><td>10</td><td> 81067040</td><td>C</td><td>T</td><td>0.653288</td><td>⋯</td><td>0.03704900</td><td> 5.398271e-06</td><td> 0.472650</td><td>0.1356920</td><td>4.953676e-04</td><td>9.304379e-01</td><td>17</td><td>NKmat </td><td>ZMIZ1_NKmat     </td><td>4.706849e-02</td></tr>\n",
       "\t<tr><td>FADS1     </td><td>11</td><td>FADS1     </td><td> 61567099</td><td>rs174544  </td><td>11</td><td> 61567753</td><td>C</td><td>A</td><td>0.707447</td><td>⋯</td><td>0.03334820</td><td> 5.341435e-13</td><td>-0.285235</td><td>0.0752325</td><td>1.498126e-04</td><td>4.263071e-01</td><td>20</td><td>NKmat </td><td>FADS1_NKmat     </td><td>1.965756e-02</td></tr>\n",
       "\t<tr><td>AP003774.1</td><td>11</td><td>AP003774.1</td><td> 64092522</td><td>rs2510066 </td><td>11</td><td> 64052447</td><td>C</td><td>T</td><td>0.624275</td><td>⋯</td><td>0.02616750</td><td> 7.865036e-65</td><td> 0.144442</td><td>0.0332330</td><td>1.384275e-05</td><td>8.908324e-02</td><td>20</td><td>NKmat </td><td>AP003774.1_NKmat</td><td>3.667665e-03</td></tr>\n",
       "\t<tr><td>CCDC101   </td><td>16</td><td>CCDC101   </td><td> 28565236</td><td>rs3743963 </td><td>16</td><td> 28604686</td><td>A</td><td>G</td><td>0.472437</td><td>⋯</td><td>0.01588090</td><td> 1.029287e-10</td><td> 0.667183</td><td>0.1699250</td><td>8.624642e-05</td><td>1.516995e-01</td><td>20</td><td>NKmat </td><td>CCDC101_NKmat   </td><td>1.365817e-02</td></tr>\n",
       "\t<tr><td>TUFM      </td><td>16</td><td>TUFM      </td><td> 28853732</td><td>rs7187776 </td><td>16</td><td> 28857645</td><td>A</td><td>G</td><td>0.615571</td><td>⋯</td><td>0.00835159</td><td> 3.599653e-45</td><td>-0.722876</td><td>0.1314020</td><td>3.770808e-08</td><td>7.236992e-02</td><td>20</td><td>NKmat </td><td>TUFM_NKmat      </td><td>2.168871e-05</td></tr>\n",
       "\t<tr><td>ADCY7     </td><td>16</td><td>ADCY7     </td><td> 50280048</td><td>rs4494538 </td><td>16</td><td> 50373272</td><td>C</td><td>T</td><td>0.849130</td><td>⋯</td><td>0.01915880</td><td> 5.060385e-15</td><td> 0.565713</td><td>0.1427600</td><td>7.410796e-05</td><td>4.924485e-04</td><td>19</td><td>NKmat </td><td>ADCY7_NKmat     </td><td>1.215504e-02</td></tr>\n",
       "\t<tr><td>BRD7      </td><td>16</td><td>BRD7      </td><td> 50347398</td><td>rs4494538 </td><td>16</td><td> 50373272</td><td>C</td><td>T</td><td>0.849130</td><td>⋯</td><td>0.03350850</td><td> 3.248298e-18</td><td> 0.290853</td><td>0.0715738</td><td>4.830558e-05</td><td>1.714521e-03</td><td>19</td><td>NKmat </td><td>BRD7_NKmat      </td><td>9.446525e-03</td></tr>\n",
       "\t<tr><td>GSDMB     </td><td>17</td><td>GSDMB     </td><td> 38060848</td><td>rs12453507</td><td>17</td><td> 38053207</td><td>C</td><td>G</td><td>0.501934</td><td>⋯</td><td>0.04178040</td><td> 3.874105e-08</td><td> 0.345334</td><td>0.0870322</td><td>7.251319e-05</td><td>1.114991e-01</td><td>20</td><td>NKmat </td><td>GSDMB_NKmat     </td><td>1.215504e-02</td></tr>\n",
       "\t<tr><td>ORMDL3    </td><td>17</td><td>ORMDL3    </td><td> 38077294</td><td>rs8074437 </td><td>17</td><td> 38076137</td><td>T</td><td>G</td><td>0.514023</td><td>⋯</td><td>0.01684250</td><td> 3.658765e-75</td><td> 0.165885</td><td>0.0457856</td><td>2.911227e-04</td><td>5.345345e-05</td><td>20</td><td>NKmat </td><td>ORMDL3_NKmat    </td><td>3.158224e-02</td></tr>\n",
       "\t<tr><td>UBE2L3    </td><td>22</td><td>UBE2L3    </td><td> 21903736</td><td>rs4820091 </td><td>22</td><td> 21940189</td><td>T</td><td>G</td><td>0.820600</td><td>⋯</td><td>0.00870445</td><td> 4.203846e-15</td><td> 1.573860</td><td>0.3271470</td><td>1.502938e-06</td><td>2.298916e-01</td><td>12</td><td>NKmat </td><td>UBE2L3_NKmat    </td><td>5.050424e-04</td></tr>\n",
       "\t<tr><td>ERAP2     </td><td> 5</td><td>ERAP2     </td><td> 96211643</td><td>rs1046396 </td><td> 5</td><td> 96273187</td><td>G</td><td>A</td><td>0.570116</td><td>⋯</td><td>0.07896360</td><td> 1.620691e-13</td><td>-0.159649</td><td>0.0323863</td><td>8.242404e-07</td><td>2.511906e-01</td><td>20</td><td>Plasma</td><td>ERAP2_Plasma    </td><td>2.911789e-04</td></tr>\n",
       "</tbody>\n",
       "</table>\n"
      ],
      "text/latex": [
       "A data.table: 150 × 24\n",
       "\\begin{tabular}{lllllllllllllllllllll}\n",
       " probeID & ProbeChr & Gene & Probe\\_bp & topSNP & topSNP\\_chr & topSNP\\_bp & A1 & A2 & Freq & ⋯ & se\\_eQTL & p\\_eQTL & b\\_SMR & se\\_SMR & p\\_SMR & p\\_HEIDI & nsnp\\_HEIDI & Cell\\_type & comb & qv\\\\\n",
       " <chr> & <int> & <chr> & <int> & <chr> & <int> & <int> & <chr> & <chr> & <dbl> & ⋯ & <dbl> & <dbl> & <dbl> & <dbl> & <dbl> & <dbl> & <int> & <chr> & <chr> & <dbl>\\\\\n",
       "\\hline\n",
       "\t RBM6       &  3 & RBM6       &  49977440 & rs7613875  &  3 &  49971514 & C & A & 0.448743 & ⋯ & 0.01473940 &  4.663713e-15 & -0.503019 & 0.1361050 & 2.191745e-04 & 4.763586e-02 & 20 & BimmNaive & RBM6\\_BimmNaive       & 2.559049e-02\\\\\n",
       "\t ERAP2      &  5 & ERAP2      &  96211643 & rs27295    &  5 &  96358687 & C & T & 0.431335 & ⋯ & 0.02186180 &  9.580355e-47 & -0.292410 & 0.0491637 & 2.719701e-09 & 7.152581e-01 & 20 & BimmNaive & ERAP2\\_BimmNaive      & 3.028922e-06\\\\\n",
       "\t CDC42SE2   &  5 & CDC42SE2   & 130581186 & rs31251    &  5 & 130833946 & C & T & 0.419729 & ⋯ & 0.01480940 &  1.523873e-06 &  1.065800 & 0.2961160 & 3.191008e-04 & 3.311225e-01 & 14 & BimmNaive & CDC42SE2\\_BimmNaive   & 3.408073e-02\\\\\n",
       "\t LST1       &  6 & LST1       &  31553901 & rs2256965  &  6 &  31555130 & A & G & 0.405706 & ⋯ & 0.02502590 &  4.159973e-16 & -0.316840 & 0.0788990 & 5.925158e-05 & 2.730778e-03 & 14 & BimmNaive & LST1\\_BimmNaive       & 1.059429e-02\\\\\n",
       "\t TMEM258    & 11 & TMEM258    &  61535973 & rs174538   & 11 &  61560081 & G & A & 0.696325 & ⋯ & 0.01109410 &  1.172200e-11 & -0.894723 & 0.2411910 & 2.075796e-04 & 6.515992e-01 & 20 & BimmNaive & TMEM258\\_BimmNaive    & 2.445305e-02\\\\\n",
       "\t AP003774.1 & 11 & AP003774.1 &  64092522 & rs646153   & 11 &  64089588 & C & T & 0.624275 & ⋯ & 0.03757460 &  6.251950e-24 &  0.168507 & 0.0412274 & 4.364900e-05 & 3.810215e-02 & 20 & BimmNaive & AP003774.1\\_BimmNaive & 8.843741e-03\\\\\n",
       "\t CCDC88B    & 11 & CCDC88B    &  64107695 & rs510372   & 11 &  64115137 & C & T & 0.614120 & ⋯ & 0.02211490 &  1.260601e-07 & -0.557565 & 0.1611960 & 5.423331e-04 & 1.837508e-01 & 16 & BimmNaive & CCDC88B\\_BimmNaive    & 4.981332e-02\\\\\n",
       "\t ZFP36L1    & 14 & ZFP36L1    &  69254377 & rs12435329 & 14 &  69250891 & T & C & 0.530948 & ⋯ & 0.01026990 &  4.299632e-10 &  0.970710 & 0.2663400 & 2.677812e-04 & 4.708427e-03 & 20 & BimmNaive & ZFP36L1\\_BimmNaive    & 2.999478e-02\\\\\n",
       "\t CCDC101    & 16 & CCDC101    &  28565236 & rs3743963  & 16 &  28604686 & A & G & 0.472437 & ⋯ & 0.02480000 &  3.211693e-11 &  0.416040 & 0.1049450 & 7.358785e-05 & 4.970654e-02 & 20 & BimmNaive & CCDC101\\_BimmNaive    & 1.215504e-02\\\\\n",
       "\t TUFM       & 16 & TUFM       &  28853732 & rs7187776  & 16 &  28857645 & A & G & 0.615571 & ⋯ & 0.01473370 &  3.420663e-67 & -0.333696 & 0.0590836 & 1.624574e-08 & 7.104661e-02 & 20 & BimmNaive & TUFM\\_BimmNaive       & 1.065837e-05\\\\\n",
       "\t BRD7       & 16 & BRD7       &  50347398 & rs4494538  & 16 &  50373272 & C & T & 0.849130 & ⋯ & 0.04169730 &  4.464791e-08 &  0.371760 & 0.1056460 & 4.332829e-04 & 9.518775e-02 & 11 & BimmNaive & BRD7\\_BimmNaive       & 4.203914e-02\\\\\n",
       "\t ORMDL3     & 17 & ORMDL3     &  38077294 & rs8067378  & 17 &  38051348 & A & G & 0.491779 & ⋯ & 0.02442030 &  1.576034e-50 &  0.199113 & 0.0401591 & 7.118453e-07 & 1.339933e-01 & 20 & BimmNaive & ORMDL3\\_BimmNaive     & 2.580909e-04\\\\\n",
       "\t ERAP2      &  5 & ERAP2      &  96211643 & rs27998    &  5 &  96367408 & G & A & 0.428917 & ⋯ & 0.02443750 &  7.455040e-54 & -0.238227 & 0.0402680 & 3.297681e-09 & 8.812517e-01 & 20 & Bmem      & ERAP2\\_Bmem           & 3.028922e-06\\\\\n",
       "\t LST1       &  6 & LST1       &  31553901 & rs2256965  &  6 &  31555130 & A & G & 0.405706 & ⋯ & 0.03095050 &  1.164261e-08 & -0.365267 & 0.1017650 & 3.315603e-04 & 5.972385e-03 & 14 & Bmem      & LST1\\_Bmem            & 3.464439e-02\\\\\n",
       "\t TMEM258    & 11 & TMEM258    &  61535973 & rs174584   & 11 &  61610750 & G & A & 0.661992 & ⋯ & 0.01251860 &  1.094778e-13 & -0.709217 & 0.1841360 & 1.173570e-04 & 1.524811e-01 & 20 & Bmem      & TMEM258\\_Bmem         & 1.633219e-02\\\\\n",
       "\t AP003774.1 & 11 & AP003774.1 &  64092522 & rs479777   & 11 &  64107477 & T & C & 0.659091 & ⋯ & 0.04570900 &  1.863362e-20 &  0.138252 & 0.0376432 & 2.400027e-04 & 3.143442e-02 & 20 & Bmem      & AP003774.1\\_Bmem      & 2.732759e-02\\\\\n",
       "\t TUFM       & 16 & TUFM       &  28853732 & rs7187776  & 16 &  28857645 & A & G & 0.615571 & ⋯ & 0.01434550 &  3.904825e-45 & -0.421010 & 0.0765345 & 3.778108e-08 & 1.662807e-01 & 20 & Bmem      & TUFM\\_Bmem            & 2.168871e-05\\\\\n",
       "\t ORMDL3     & 17 & ORMDL3     &  38077294 & rs7359623  & 17 &  38049589 & C & T & 0.496132 & ⋯ & 0.02815960 &  1.782539e-39 &  0.204092 & 0.0404580 & 4.545983e-07 & 4.388768e-02 & 20 & Bmem      & ORMDL3\\_Bmem          & 1.842127e-04\\\\\n",
       "\t SCAMP3     &  1 & SCAMP3     & 155225770 & rs1076556  &  1 & 155234821 & A & G & 0.713250 & ⋯ & 0.01138940 &  1.048093e-32 & -0.641302 & 0.1306390 & 9.155943e-07 & 1.544640e-01 & 20 & CD4all    & SCAMP3\\_CD4all        & 3.153652e-04\\\\\n",
       "\t DAP3       &  1 & DAP3       & 155657751 & rs2297775  &  1 & 155735012 & T & C & 0.677466 & ⋯ & 0.00594916 &  1.199251e-20 &  1.348150 & 0.3130500 & 1.658638e-05 & 1.194443e-01 & 20 & CD4all    & DAP3\\_CD4all          & 4.154890e-03\\\\\n",
       "\t IL18R1     &  2 & IL18R1     & 102927989 & rs1882348  &  2 & 102984671 & T & A & 0.595261 & ⋯ & 0.03081450 &  4.483768e-22 &  0.203635 & 0.0523124 & 9.914522e-05 & 2.226254e-03 & 20 & CD4all    & IL18R1\\_CD4all        & 1.484754e-02\\\\\n",
       "\t GPX1       &  3 & GPX1       &  49394609 & rs1801143  &  3 &  49570200 & C & T & 0.701161 & ⋯ & 0.00677544 &  7.627006e-13 &  2.124130 & 0.4262650 & 6.256809e-07 & 6.638163e-01 & 20 & CD4all    & GPX1\\_CD4all          & 2.393895e-04\\\\\n",
       "\t UBA7       &  3 & UBA7       &  49842640 & rs2352974  &  3 &  49890613 & C & T & 0.500000 & ⋯ & 0.01124030 &  4.692409e-06 & -1.601140 & 0.4412280 & 2.847254e-04 & 1.414457e-01 &  8 & CD4all    & UBA7\\_CD4all          & 3.113338e-02\\\\\n",
       "\t RBM6       &  3 & RBM6       &  49977440 & rs2240329  &  3 &  50107512 & G & A & 0.542553 & ⋯ & 0.00793099 &  1.292100e-25 & -0.700482 & 0.1797830 & 9.768461e-05 & 5.016788e-04 & 20 & CD4all    & RBM6\\_CD4all          & 1.478956e-02\\\\\n",
       "\t ERAP2      &  5 & ERAP2      &  96211643 & rs2910686  &  5 &  96252589 & T & C & 0.567215 & ⋯ & 0.01822860 & 4.685026e-155 & -0.189532 & 0.0298614 & 2.194715e-10 & 3.353872e-01 & 20 & CD4all    & ERAP2\\_CD4all         & 7.480580e-07\\\\\n",
       "\t SLC22A5    &  5 & SLC22A5    & 131705444 & rs274555   &  5 & 131722951 & C & T & 0.588975 & ⋯ & 0.03367400 &  1.674572e-11 &  0.339937 & 0.0800147 & 2.152648e-05 & 4.811548e-03 & 20 & CD4all    & SLC22A5\\_CD4all       & 4.997354e-03\\\\\n",
       "\t IRF1       &  5 & IRF1       & 131817301 & rs2070723  &  5 & 131823187 & A & G & 0.658607 & ⋯ & 0.01057760 &  3.452096e-07 & -1.476610 & 0.3980590 & 2.076578e-04 & 5.181236e-02 & 20 & CD4all    & IRF1\\_CD4all          & 2.445305e-02\\\\\n",
       "\t IL13       &  5 & IL13       & 131991955 & rs72795121 &  5 & 131638324 & T & A & 0.531431 & ⋯ & 0.10421200 &  1.062150e-04 &  0.280693 & 0.0801174 & 4.591372e-04 & 2.080888e-01 & 11 & CD4all    & IL13\\_CD4all          & 4.423613e-02\\\\\n",
       "\t RNF145     &  5 & RNF145     & 158584417 & rs270654   &  5 & 158565109 & T & C & 0.896518 & ⋯ & 0.01835530 &  9.015253e-14 &  0.722024 & 0.1906450 & 1.523168e-04 & 6.384313e-02 & 20 & CD4all    & RNF145\\_CD4all        & 1.979760e-02\\\\\n",
       "\t HLA-DQA1   &  6 & HLA-DQA1   &  32595956 & rs35395738 &  6 &  32560209 & T & C & 0.806576 & ⋯ & 0.03311190 &  1.129380e-13 &  0.288662 & 0.0808396 & 3.558937e-04 & 1.131444e-05 & 20 & CD4all    & HLA-DQA1\\_CD4all      & 3.632095e-02\\\\\n",
       "\t ⋮ & ⋮ & ⋮ & ⋮ & ⋮ & ⋮ & ⋮ & ⋮ & ⋮ & ⋮ & ⋱ & ⋮ & ⋮ & ⋮ & ⋮ & ⋮ & ⋮ & ⋮ & ⋮ & ⋮ & ⋮\\\\\n",
       "\t TUFM       & 16 & TUFM       &  28853732 & rs7187776  & 16 &  28857645 & A & G & 0.615571 & ⋯ & 0.02148480 &  8.543667e-30 & -0.349556 & 0.0661344 & 1.253403e-07 & 4.154671e-01 & 20 & MonoNC & TUFM\\_MonoNC      & 6.167417e-05\\\\\n",
       "\t ERAP2      &  5 & ERAP2      &  96211643 & rs2548226  &  5 &  96275186 & C & T & 0.582205 & ⋯ & 0.04306070 &  2.167436e-30 & -0.194498 & 0.0334505 & 6.082261e-09 & 5.036804e-02 & 20 & NKact  & ERAP2\\_NKact      & 5.237400e-06\\\\\n",
       "\t RNASET2    &  6 & RNASET2    & 167342992 & rs4710149  &  6 & 167386346 & T & C & 0.663443 & ⋯ & 0.03361340 &  1.009939e-09 &  0.474236 & 0.1048130 & 6.050850e-06 & 3.685889e-01 & 19 & NKact  & RNASET2\\_NKact    & 1.812296e-03\\\\\n",
       "\t AP003774.1 & 11 & AP003774.1 &  64092522 & rs574087   & 11 &  64102948 & A & G & 0.624758 & ⋯ & 0.07196230 &  5.387107e-10 &  0.139446 & 0.0390438 & 3.549091e-04 & 3.052661e-01 & 20 & NKact  & AP003774.1\\_NKact & 3.632095e-02\\\\\n",
       "\t ORMDL3     & 17 & ORMDL3     &  38077294 & rs4795405  & 17 &  38088417 & T & C & 0.445358 & ⋯ & 0.04724750 &  2.447561e-07 &  0.285486 & 0.0794589 & 3.270465e-04 & 1.411941e-01 & 20 & NKact  & ORMDL3\\_NKact     & 3.464439e-02\\\\\n",
       "\t IL12RB2    &  1 & IL12RB2    &  67773047 & rs17129778 &  1 &  67787691 & A & T & 0.828820 & ⋯ & 0.05450050 &  2.246778e-16 &  0.211770 & 0.0478722 & 9.704376e-06 & 1.622707e-01 & 20 & NKmat  & IL12RB2\\_NKmat    & 2.844726e-03\\\\\n",
       "\t SCAMP3     &  1 & SCAMP3     & 155225770 & rs11264353 &  1 & 155255906 & G & C & 0.707930 & ⋯ & 0.01500260 &  3.311327e-11 & -0.871324 & 0.2084400 & 2.912297e-05 & 7.055313e-01 & 20 & NKmat  & SCAMP3\\_NKmat     & 6.269405e-03\\\\\n",
       "\t IL18R1     &  2 & IL18R1     & 102927989 & rs1420103  &  2 & 102948632 & A & C & 0.236944 & ⋯ & 0.02918370 &  9.845762e-13 & -0.414659 & 0.0970221 & 1.921145e-05 & 1.839500e-04 & 20 & NKmat  & IL18R1\\_NKmat     & 4.726534e-03\\\\\n",
       "\t PLCL1      &  2 & PLCL1      & 198669426 & rs7587251  &  2 & 198930197 & T & G & 0.490812 & ⋯ & 0.07598110 &  3.764136e-12 & -0.129122 & 0.0321768 & 5.997686e-05 & 1.209489e-02 & 20 & NKmat  & PLCL1\\_NKmat      & 1.059429e-02\\\\\n",
       "\t RBM6       &  3 & RBM6       &  49977440 & rs7642934  &  3 &  50174848 & G & A & 0.530464 & ⋯ & 0.01143040 &  8.268473e-15 & -0.707274 & 0.1805550 & 8.957674e-05 & 3.041059e-02 & 20 & NKmat  & RBM6\\_NKmat       & 1.402437e-02\\\\\n",
       "\t ERAP2      &  5 & ERAP2      &  96211643 & rs2910686  &  5 &  96252589 & T & C & 0.567215 & ⋯ & 0.02247820 & 5.962536e-122 & -0.173620 & 0.0275697 & 3.024799e-10 & 6.820651e-01 & 20 & NKmat  & ERAP2\\_NKmat      & 7.480580e-07\\\\\n",
       "\t SLC22A5    &  5 & SLC22A5    & 131705444 & rs12521097 &  5 & 131575338 & G & A & 0.529497 & ⋯ & 0.08115410 &  2.073383e-08 &  0.212833 & 0.0486532 & 1.217126e-05 & 5.609372e-02 & 20 & NKmat  & SLC22A5\\_NKmat    & 3.493534e-03\\\\\n",
       "\t C5orf56    &  5 & C5orf56    & 131746328 & rs2522051  &  5 & 131797578 & T & C & 0.540135 & ⋯ & 0.00905650 &  2.492306e-14 &  1.532600 & 0.2844310 & 7.113264e-08 & 2.063065e-08 & 20 & NKmat  & C5orf56\\_NKmat    & 3.769348e-05\\\\\n",
       "\t UQCRQ      &  5 & UQCRQ      & 132202252 & rs2522057  &  5 & 131801947 & G & C & 0.417311 & ⋯ & 0.00608093 &  1.767241e-06 & -4.455790 & 1.0494100 & 2.176310e-05 & 9.918928e-01 & 20 & NKmat  & UQCRQ\\_NKmat      & 4.997354e-03\\\\\n",
       "\t MICB       &  6 & MICB       &  31462658 & rs28732101 &  6 &  31106302 & C & T & 0.944391 & ⋯ & 0.05883280 &  2.784828e-12 &  0.309733 & 0.0888274 & 4.886394e-04 & 5.578013e-05 & 20 & NKmat  & MICB\\_NKmat       & 4.675162e-02\\\\\n",
       "\t HLA-DQB1   &  6 & HLA-DQB1   &  32627244 & rs9272426  &  6 &  32605189 & A & G & 0.552708 & ⋯ & 0.03316150 &  3.590372e-27 & -0.159429 & 0.0416575 & 1.296377e-04 & 5.125182e-02 & 20 & NKmat  & HLA-DQB1\\_NKmat   & 1.756721e-02\\\\\n",
       "\t RNASET2    &  6 & RNASET2    & 167342992 & rs425039   &  6 & 167410527 & C & T & 0.465184 & ⋯ & 0.01071850 &  4.807268e-43 &  0.634977 & 0.1045980 & 1.273944e-09 & 4.359863e-01 & 20 & NKmat  & RNASET2\\_NKmat    & 1.753164e-06\\\\\n",
       "\t SMIM19     &  8 & SMIM19     &  42396298 & rs6474401  &  8 &  42367068 & T & C & 0.609284 & ⋯ & 0.01190380 &  1.058801e-20 & -0.490372 & 0.1392370 & 4.285499e-04 & 2.924483e-01 & 20 & NKmat  & SMIM19\\_NKmat     & 4.187482e-02\\\\\n",
       "\t CISD1      & 10 & CISD1      &  60028818 & rs1623294  & 10 &  59939025 & A & G & 0.808511 & ⋯ & 0.02098030 &  3.222465e-09 & -0.690233 & 0.1781060 & 1.064436e-04 & 4.287716e-01 & 20 & NKmat  & CISD1\\_NKmat      & 1.527633e-02\\\\\n",
       "\t ZMIZ1      & 10 & ZMIZ1      &  80828792 & rs1250554  & 10 &  81067040 & C & T & 0.653288 & ⋯ & 0.03704900 &  5.398271e-06 &  0.472650 & 0.1356920 & 4.953676e-04 & 9.304379e-01 & 17 & NKmat  & ZMIZ1\\_NKmat      & 4.706849e-02\\\\\n",
       "\t FADS1      & 11 & FADS1      &  61567099 & rs174544   & 11 &  61567753 & C & A & 0.707447 & ⋯ & 0.03334820 &  5.341435e-13 & -0.285235 & 0.0752325 & 1.498126e-04 & 4.263071e-01 & 20 & NKmat  & FADS1\\_NKmat      & 1.965756e-02\\\\\n",
       "\t AP003774.1 & 11 & AP003774.1 &  64092522 & rs2510066  & 11 &  64052447 & C & T & 0.624275 & ⋯ & 0.02616750 &  7.865036e-65 &  0.144442 & 0.0332330 & 1.384275e-05 & 8.908324e-02 & 20 & NKmat  & AP003774.1\\_NKmat & 3.667665e-03\\\\\n",
       "\t CCDC101    & 16 & CCDC101    &  28565236 & rs3743963  & 16 &  28604686 & A & G & 0.472437 & ⋯ & 0.01588090 &  1.029287e-10 &  0.667183 & 0.1699250 & 8.624642e-05 & 1.516995e-01 & 20 & NKmat  & CCDC101\\_NKmat    & 1.365817e-02\\\\\n",
       "\t TUFM       & 16 & TUFM       &  28853732 & rs7187776  & 16 &  28857645 & A & G & 0.615571 & ⋯ & 0.00835159 &  3.599653e-45 & -0.722876 & 0.1314020 & 3.770808e-08 & 7.236992e-02 & 20 & NKmat  & TUFM\\_NKmat       & 2.168871e-05\\\\\n",
       "\t ADCY7      & 16 & ADCY7      &  50280048 & rs4494538  & 16 &  50373272 & C & T & 0.849130 & ⋯ & 0.01915880 &  5.060385e-15 &  0.565713 & 0.1427600 & 7.410796e-05 & 4.924485e-04 & 19 & NKmat  & ADCY7\\_NKmat      & 1.215504e-02\\\\\n",
       "\t BRD7       & 16 & BRD7       &  50347398 & rs4494538  & 16 &  50373272 & C & T & 0.849130 & ⋯ & 0.03350850 &  3.248298e-18 &  0.290853 & 0.0715738 & 4.830558e-05 & 1.714521e-03 & 19 & NKmat  & BRD7\\_NKmat       & 9.446525e-03\\\\\n",
       "\t GSDMB      & 17 & GSDMB      &  38060848 & rs12453507 & 17 &  38053207 & C & G & 0.501934 & ⋯ & 0.04178040 &  3.874105e-08 &  0.345334 & 0.0870322 & 7.251319e-05 & 1.114991e-01 & 20 & NKmat  & GSDMB\\_NKmat      & 1.215504e-02\\\\\n",
       "\t ORMDL3     & 17 & ORMDL3     &  38077294 & rs8074437  & 17 &  38076137 & T & G & 0.514023 & ⋯ & 0.01684250 &  3.658765e-75 &  0.165885 & 0.0457856 & 2.911227e-04 & 5.345345e-05 & 20 & NKmat  & ORMDL3\\_NKmat     & 3.158224e-02\\\\\n",
       "\t UBE2L3     & 22 & UBE2L3     &  21903736 & rs4820091  & 22 &  21940189 & T & G & 0.820600 & ⋯ & 0.00870445 &  4.203846e-15 &  1.573860 & 0.3271470 & 1.502938e-06 & 2.298916e-01 & 12 & NKmat  & UBE2L3\\_NKmat     & 5.050424e-04\\\\\n",
       "\t ERAP2      &  5 & ERAP2      &  96211643 & rs1046396  &  5 &  96273187 & G & A & 0.570116 & ⋯ & 0.07896360 &  1.620691e-13 & -0.159649 & 0.0323863 & 8.242404e-07 & 2.511906e-01 & 20 & Plasma & ERAP2\\_Plasma     & 2.911789e-04\\\\\n",
       "\\end{tabular}\n"
      ],
      "text/markdown": [
       "\n",
       "A data.table: 150 × 24\n",
       "\n",
       "| probeID &lt;chr&gt; | ProbeChr &lt;int&gt; | Gene &lt;chr&gt; | Probe_bp &lt;int&gt; | topSNP &lt;chr&gt; | topSNP_chr &lt;int&gt; | topSNP_bp &lt;int&gt; | A1 &lt;chr&gt; | A2 &lt;chr&gt; | Freq &lt;dbl&gt; | ⋯ ⋯ | se_eQTL &lt;dbl&gt; | p_eQTL &lt;dbl&gt; | b_SMR &lt;dbl&gt; | se_SMR &lt;dbl&gt; | p_SMR &lt;dbl&gt; | p_HEIDI &lt;dbl&gt; | nsnp_HEIDI &lt;int&gt; | Cell_type &lt;chr&gt; | comb &lt;chr&gt; | qv &lt;dbl&gt; |\n",
       "|---|---|---|---|---|---|---|---|---|---|---|---|---|---|---|---|---|---|---|---|---|\n",
       "| RBM6       |  3 | RBM6       |  49977440 | rs7613875  |  3 |  49971514 | C | A | 0.448743 | ⋯ | 0.01473940 |  4.663713e-15 | -0.503019 | 0.1361050 | 2.191745e-04 | 4.763586e-02 | 20 | BimmNaive | RBM6_BimmNaive       | 2.559049e-02 |\n",
       "| ERAP2      |  5 | ERAP2      |  96211643 | rs27295    |  5 |  96358687 | C | T | 0.431335 | ⋯ | 0.02186180 |  9.580355e-47 | -0.292410 | 0.0491637 | 2.719701e-09 | 7.152581e-01 | 20 | BimmNaive | ERAP2_BimmNaive      | 3.028922e-06 |\n",
       "| CDC42SE2   |  5 | CDC42SE2   | 130581186 | rs31251    |  5 | 130833946 | C | T | 0.419729 | ⋯ | 0.01480940 |  1.523873e-06 |  1.065800 | 0.2961160 | 3.191008e-04 | 3.311225e-01 | 14 | BimmNaive | CDC42SE2_BimmNaive   | 3.408073e-02 |\n",
       "| LST1       |  6 | LST1       |  31553901 | rs2256965  |  6 |  31555130 | A | G | 0.405706 | ⋯ | 0.02502590 |  4.159973e-16 | -0.316840 | 0.0788990 | 5.925158e-05 | 2.730778e-03 | 14 | BimmNaive | LST1_BimmNaive       | 1.059429e-02 |\n",
       "| TMEM258    | 11 | TMEM258    |  61535973 | rs174538   | 11 |  61560081 | G | A | 0.696325 | ⋯ | 0.01109410 |  1.172200e-11 | -0.894723 | 0.2411910 | 2.075796e-04 | 6.515992e-01 | 20 | BimmNaive | TMEM258_BimmNaive    | 2.445305e-02 |\n",
       "| AP003774.1 | 11 | AP003774.1 |  64092522 | rs646153   | 11 |  64089588 | C | T | 0.624275 | ⋯ | 0.03757460 |  6.251950e-24 |  0.168507 | 0.0412274 | 4.364900e-05 | 3.810215e-02 | 20 | BimmNaive | AP003774.1_BimmNaive | 8.843741e-03 |\n",
       "| CCDC88B    | 11 | CCDC88B    |  64107695 | rs510372   | 11 |  64115137 | C | T | 0.614120 | ⋯ | 0.02211490 |  1.260601e-07 | -0.557565 | 0.1611960 | 5.423331e-04 | 1.837508e-01 | 16 | BimmNaive | CCDC88B_BimmNaive    | 4.981332e-02 |\n",
       "| ZFP36L1    | 14 | ZFP36L1    |  69254377 | rs12435329 | 14 |  69250891 | T | C | 0.530948 | ⋯ | 0.01026990 |  4.299632e-10 |  0.970710 | 0.2663400 | 2.677812e-04 | 4.708427e-03 | 20 | BimmNaive | ZFP36L1_BimmNaive    | 2.999478e-02 |\n",
       "| CCDC101    | 16 | CCDC101    |  28565236 | rs3743963  | 16 |  28604686 | A | G | 0.472437 | ⋯ | 0.02480000 |  3.211693e-11 |  0.416040 | 0.1049450 | 7.358785e-05 | 4.970654e-02 | 20 | BimmNaive | CCDC101_BimmNaive    | 1.215504e-02 |\n",
       "| TUFM       | 16 | TUFM       |  28853732 | rs7187776  | 16 |  28857645 | A | G | 0.615571 | ⋯ | 0.01473370 |  3.420663e-67 | -0.333696 | 0.0590836 | 1.624574e-08 | 7.104661e-02 | 20 | BimmNaive | TUFM_BimmNaive       | 1.065837e-05 |\n",
       "| BRD7       | 16 | BRD7       |  50347398 | rs4494538  | 16 |  50373272 | C | T | 0.849130 | ⋯ | 0.04169730 |  4.464791e-08 |  0.371760 | 0.1056460 | 4.332829e-04 | 9.518775e-02 | 11 | BimmNaive | BRD7_BimmNaive       | 4.203914e-02 |\n",
       "| ORMDL3     | 17 | ORMDL3     |  38077294 | rs8067378  | 17 |  38051348 | A | G | 0.491779 | ⋯ | 0.02442030 |  1.576034e-50 |  0.199113 | 0.0401591 | 7.118453e-07 | 1.339933e-01 | 20 | BimmNaive | ORMDL3_BimmNaive     | 2.580909e-04 |\n",
       "| ERAP2      |  5 | ERAP2      |  96211643 | rs27998    |  5 |  96367408 | G | A | 0.428917 | ⋯ | 0.02443750 |  7.455040e-54 | -0.238227 | 0.0402680 | 3.297681e-09 | 8.812517e-01 | 20 | Bmem      | ERAP2_Bmem           | 3.028922e-06 |\n",
       "| LST1       |  6 | LST1       |  31553901 | rs2256965  |  6 |  31555130 | A | G | 0.405706 | ⋯ | 0.03095050 |  1.164261e-08 | -0.365267 | 0.1017650 | 3.315603e-04 | 5.972385e-03 | 14 | Bmem      | LST1_Bmem            | 3.464439e-02 |\n",
       "| TMEM258    | 11 | TMEM258    |  61535973 | rs174584   | 11 |  61610750 | G | A | 0.661992 | ⋯ | 0.01251860 |  1.094778e-13 | -0.709217 | 0.1841360 | 1.173570e-04 | 1.524811e-01 | 20 | Bmem      | TMEM258_Bmem         | 1.633219e-02 |\n",
       "| AP003774.1 | 11 | AP003774.1 |  64092522 | rs479777   | 11 |  64107477 | T | C | 0.659091 | ⋯ | 0.04570900 |  1.863362e-20 |  0.138252 | 0.0376432 | 2.400027e-04 | 3.143442e-02 | 20 | Bmem      | AP003774.1_Bmem      | 2.732759e-02 |\n",
       "| TUFM       | 16 | TUFM       |  28853732 | rs7187776  | 16 |  28857645 | A | G | 0.615571 | ⋯ | 0.01434550 |  3.904825e-45 | -0.421010 | 0.0765345 | 3.778108e-08 | 1.662807e-01 | 20 | Bmem      | TUFM_Bmem            | 2.168871e-05 |\n",
       "| ORMDL3     | 17 | ORMDL3     |  38077294 | rs7359623  | 17 |  38049589 | C | T | 0.496132 | ⋯ | 0.02815960 |  1.782539e-39 |  0.204092 | 0.0404580 | 4.545983e-07 | 4.388768e-02 | 20 | Bmem      | ORMDL3_Bmem          | 1.842127e-04 |\n",
       "| SCAMP3     |  1 | SCAMP3     | 155225770 | rs1076556  |  1 | 155234821 | A | G | 0.713250 | ⋯ | 0.01138940 |  1.048093e-32 | -0.641302 | 0.1306390 | 9.155943e-07 | 1.544640e-01 | 20 | CD4all    | SCAMP3_CD4all        | 3.153652e-04 |\n",
       "| DAP3       |  1 | DAP3       | 155657751 | rs2297775  |  1 | 155735012 | T | C | 0.677466 | ⋯ | 0.00594916 |  1.199251e-20 |  1.348150 | 0.3130500 | 1.658638e-05 | 1.194443e-01 | 20 | CD4all    | DAP3_CD4all          | 4.154890e-03 |\n",
       "| IL18R1     |  2 | IL18R1     | 102927989 | rs1882348  |  2 | 102984671 | T | A | 0.595261 | ⋯ | 0.03081450 |  4.483768e-22 |  0.203635 | 0.0523124 | 9.914522e-05 | 2.226254e-03 | 20 | CD4all    | IL18R1_CD4all        | 1.484754e-02 |\n",
       "| GPX1       |  3 | GPX1       |  49394609 | rs1801143  |  3 |  49570200 | C | T | 0.701161 | ⋯ | 0.00677544 |  7.627006e-13 |  2.124130 | 0.4262650 | 6.256809e-07 | 6.638163e-01 | 20 | CD4all    | GPX1_CD4all          | 2.393895e-04 |\n",
       "| UBA7       |  3 | UBA7       |  49842640 | rs2352974  |  3 |  49890613 | C | T | 0.500000 | ⋯ | 0.01124030 |  4.692409e-06 | -1.601140 | 0.4412280 | 2.847254e-04 | 1.414457e-01 |  8 | CD4all    | UBA7_CD4all          | 3.113338e-02 |\n",
       "| RBM6       |  3 | RBM6       |  49977440 | rs2240329  |  3 |  50107512 | G | A | 0.542553 | ⋯ | 0.00793099 |  1.292100e-25 | -0.700482 | 0.1797830 | 9.768461e-05 | 5.016788e-04 | 20 | CD4all    | RBM6_CD4all          | 1.478956e-02 |\n",
       "| ERAP2      |  5 | ERAP2      |  96211643 | rs2910686  |  5 |  96252589 | T | C | 0.567215 | ⋯ | 0.01822860 | 4.685026e-155 | -0.189532 | 0.0298614 | 2.194715e-10 | 3.353872e-01 | 20 | CD4all    | ERAP2_CD4all         | 7.480580e-07 |\n",
       "| SLC22A5    |  5 | SLC22A5    | 131705444 | rs274555   |  5 | 131722951 | C | T | 0.588975 | ⋯ | 0.03367400 |  1.674572e-11 |  0.339937 | 0.0800147 | 2.152648e-05 | 4.811548e-03 | 20 | CD4all    | SLC22A5_CD4all       | 4.997354e-03 |\n",
       "| IRF1       |  5 | IRF1       | 131817301 | rs2070723  |  5 | 131823187 | A | G | 0.658607 | ⋯ | 0.01057760 |  3.452096e-07 | -1.476610 | 0.3980590 | 2.076578e-04 | 5.181236e-02 | 20 | CD4all    | IRF1_CD4all          | 2.445305e-02 |\n",
       "| IL13       |  5 | IL13       | 131991955 | rs72795121 |  5 | 131638324 | T | A | 0.531431 | ⋯ | 0.10421200 |  1.062150e-04 |  0.280693 | 0.0801174 | 4.591372e-04 | 2.080888e-01 | 11 | CD4all    | IL13_CD4all          | 4.423613e-02 |\n",
       "| RNF145     |  5 | RNF145     | 158584417 | rs270654   |  5 | 158565109 | T | C | 0.896518 | ⋯ | 0.01835530 |  9.015253e-14 |  0.722024 | 0.1906450 | 1.523168e-04 | 6.384313e-02 | 20 | CD4all    | RNF145_CD4all        | 1.979760e-02 |\n",
       "| HLA-DQA1   |  6 | HLA-DQA1   |  32595956 | rs35395738 |  6 |  32560209 | T | C | 0.806576 | ⋯ | 0.03311190 |  1.129380e-13 |  0.288662 | 0.0808396 | 3.558937e-04 | 1.131444e-05 | 20 | CD4all    | HLA-DQA1_CD4all      | 3.632095e-02 |\n",
       "| ⋮ | ⋮ | ⋮ | ⋮ | ⋮ | ⋮ | ⋮ | ⋮ | ⋮ | ⋮ | ⋱ | ⋮ | ⋮ | ⋮ | ⋮ | ⋮ | ⋮ | ⋮ | ⋮ | ⋮ | ⋮ |\n",
       "| TUFM       | 16 | TUFM       |  28853732 | rs7187776  | 16 |  28857645 | A | G | 0.615571 | ⋯ | 0.02148480 |  8.543667e-30 | -0.349556 | 0.0661344 | 1.253403e-07 | 4.154671e-01 | 20 | MonoNC | TUFM_MonoNC      | 6.167417e-05 |\n",
       "| ERAP2      |  5 | ERAP2      |  96211643 | rs2548226  |  5 |  96275186 | C | T | 0.582205 | ⋯ | 0.04306070 |  2.167436e-30 | -0.194498 | 0.0334505 | 6.082261e-09 | 5.036804e-02 | 20 | NKact  | ERAP2_NKact      | 5.237400e-06 |\n",
       "| RNASET2    |  6 | RNASET2    | 167342992 | rs4710149  |  6 | 167386346 | T | C | 0.663443 | ⋯ | 0.03361340 |  1.009939e-09 |  0.474236 | 0.1048130 | 6.050850e-06 | 3.685889e-01 | 19 | NKact  | RNASET2_NKact    | 1.812296e-03 |\n",
       "| AP003774.1 | 11 | AP003774.1 |  64092522 | rs574087   | 11 |  64102948 | A | G | 0.624758 | ⋯ | 0.07196230 |  5.387107e-10 |  0.139446 | 0.0390438 | 3.549091e-04 | 3.052661e-01 | 20 | NKact  | AP003774.1_NKact | 3.632095e-02 |\n",
       "| ORMDL3     | 17 | ORMDL3     |  38077294 | rs4795405  | 17 |  38088417 | T | C | 0.445358 | ⋯ | 0.04724750 |  2.447561e-07 |  0.285486 | 0.0794589 | 3.270465e-04 | 1.411941e-01 | 20 | NKact  | ORMDL3_NKact     | 3.464439e-02 |\n",
       "| IL12RB2    |  1 | IL12RB2    |  67773047 | rs17129778 |  1 |  67787691 | A | T | 0.828820 | ⋯ | 0.05450050 |  2.246778e-16 |  0.211770 | 0.0478722 | 9.704376e-06 | 1.622707e-01 | 20 | NKmat  | IL12RB2_NKmat    | 2.844726e-03 |\n",
       "| SCAMP3     |  1 | SCAMP3     | 155225770 | rs11264353 |  1 | 155255906 | G | C | 0.707930 | ⋯ | 0.01500260 |  3.311327e-11 | -0.871324 | 0.2084400 | 2.912297e-05 | 7.055313e-01 | 20 | NKmat  | SCAMP3_NKmat     | 6.269405e-03 |\n",
       "| IL18R1     |  2 | IL18R1     | 102927989 | rs1420103  |  2 | 102948632 | A | C | 0.236944 | ⋯ | 0.02918370 |  9.845762e-13 | -0.414659 | 0.0970221 | 1.921145e-05 | 1.839500e-04 | 20 | NKmat  | IL18R1_NKmat     | 4.726534e-03 |\n",
       "| PLCL1      |  2 | PLCL1      | 198669426 | rs7587251  |  2 | 198930197 | T | G | 0.490812 | ⋯ | 0.07598110 |  3.764136e-12 | -0.129122 | 0.0321768 | 5.997686e-05 | 1.209489e-02 | 20 | NKmat  | PLCL1_NKmat      | 1.059429e-02 |\n",
       "| RBM6       |  3 | RBM6       |  49977440 | rs7642934  |  3 |  50174848 | G | A | 0.530464 | ⋯ | 0.01143040 |  8.268473e-15 | -0.707274 | 0.1805550 | 8.957674e-05 | 3.041059e-02 | 20 | NKmat  | RBM6_NKmat       | 1.402437e-02 |\n",
       "| ERAP2      |  5 | ERAP2      |  96211643 | rs2910686  |  5 |  96252589 | T | C | 0.567215 | ⋯ | 0.02247820 | 5.962536e-122 | -0.173620 | 0.0275697 | 3.024799e-10 | 6.820651e-01 | 20 | NKmat  | ERAP2_NKmat      | 7.480580e-07 |\n",
       "| SLC22A5    |  5 | SLC22A5    | 131705444 | rs12521097 |  5 | 131575338 | G | A | 0.529497 | ⋯ | 0.08115410 |  2.073383e-08 |  0.212833 | 0.0486532 | 1.217126e-05 | 5.609372e-02 | 20 | NKmat  | SLC22A5_NKmat    | 3.493534e-03 |\n",
       "| C5orf56    |  5 | C5orf56    | 131746328 | rs2522051  |  5 | 131797578 | T | C | 0.540135 | ⋯ | 0.00905650 |  2.492306e-14 |  1.532600 | 0.2844310 | 7.113264e-08 | 2.063065e-08 | 20 | NKmat  | C5orf56_NKmat    | 3.769348e-05 |\n",
       "| UQCRQ      |  5 | UQCRQ      | 132202252 | rs2522057  |  5 | 131801947 | G | C | 0.417311 | ⋯ | 0.00608093 |  1.767241e-06 | -4.455790 | 1.0494100 | 2.176310e-05 | 9.918928e-01 | 20 | NKmat  | UQCRQ_NKmat      | 4.997354e-03 |\n",
       "| MICB       |  6 | MICB       |  31462658 | rs28732101 |  6 |  31106302 | C | T | 0.944391 | ⋯ | 0.05883280 |  2.784828e-12 |  0.309733 | 0.0888274 | 4.886394e-04 | 5.578013e-05 | 20 | NKmat  | MICB_NKmat       | 4.675162e-02 |\n",
       "| HLA-DQB1   |  6 | HLA-DQB1   |  32627244 | rs9272426  |  6 |  32605189 | A | G | 0.552708 | ⋯ | 0.03316150 |  3.590372e-27 | -0.159429 | 0.0416575 | 1.296377e-04 | 5.125182e-02 | 20 | NKmat  | HLA-DQB1_NKmat   | 1.756721e-02 |\n",
       "| RNASET2    |  6 | RNASET2    | 167342992 | rs425039   |  6 | 167410527 | C | T | 0.465184 | ⋯ | 0.01071850 |  4.807268e-43 |  0.634977 | 0.1045980 | 1.273944e-09 | 4.359863e-01 | 20 | NKmat  | RNASET2_NKmat    | 1.753164e-06 |\n",
       "| SMIM19     |  8 | SMIM19     |  42396298 | rs6474401  |  8 |  42367068 | T | C | 0.609284 | ⋯ | 0.01190380 |  1.058801e-20 | -0.490372 | 0.1392370 | 4.285499e-04 | 2.924483e-01 | 20 | NKmat  | SMIM19_NKmat     | 4.187482e-02 |\n",
       "| CISD1      | 10 | CISD1      |  60028818 | rs1623294  | 10 |  59939025 | A | G | 0.808511 | ⋯ | 0.02098030 |  3.222465e-09 | -0.690233 | 0.1781060 | 1.064436e-04 | 4.287716e-01 | 20 | NKmat  | CISD1_NKmat      | 1.527633e-02 |\n",
       "| ZMIZ1      | 10 | ZMIZ1      |  80828792 | rs1250554  | 10 |  81067040 | C | T | 0.653288 | ⋯ | 0.03704900 |  5.398271e-06 |  0.472650 | 0.1356920 | 4.953676e-04 | 9.304379e-01 | 17 | NKmat  | ZMIZ1_NKmat      | 4.706849e-02 |\n",
       "| FADS1      | 11 | FADS1      |  61567099 | rs174544   | 11 |  61567753 | C | A | 0.707447 | ⋯ | 0.03334820 |  5.341435e-13 | -0.285235 | 0.0752325 | 1.498126e-04 | 4.263071e-01 | 20 | NKmat  | FADS1_NKmat      | 1.965756e-02 |\n",
       "| AP003774.1 | 11 | AP003774.1 |  64092522 | rs2510066  | 11 |  64052447 | C | T | 0.624275 | ⋯ | 0.02616750 |  7.865036e-65 |  0.144442 | 0.0332330 | 1.384275e-05 | 8.908324e-02 | 20 | NKmat  | AP003774.1_NKmat | 3.667665e-03 |\n",
       "| CCDC101    | 16 | CCDC101    |  28565236 | rs3743963  | 16 |  28604686 | A | G | 0.472437 | ⋯ | 0.01588090 |  1.029287e-10 |  0.667183 | 0.1699250 | 8.624642e-05 | 1.516995e-01 | 20 | NKmat  | CCDC101_NKmat    | 1.365817e-02 |\n",
       "| TUFM       | 16 | TUFM       |  28853732 | rs7187776  | 16 |  28857645 | A | G | 0.615571 | ⋯ | 0.00835159 |  3.599653e-45 | -0.722876 | 0.1314020 | 3.770808e-08 | 7.236992e-02 | 20 | NKmat  | TUFM_NKmat       | 2.168871e-05 |\n",
       "| ADCY7      | 16 | ADCY7      |  50280048 | rs4494538  | 16 |  50373272 | C | T | 0.849130 | ⋯ | 0.01915880 |  5.060385e-15 |  0.565713 | 0.1427600 | 7.410796e-05 | 4.924485e-04 | 19 | NKmat  | ADCY7_NKmat      | 1.215504e-02 |\n",
       "| BRD7       | 16 | BRD7       |  50347398 | rs4494538  | 16 |  50373272 | C | T | 0.849130 | ⋯ | 0.03350850 |  3.248298e-18 |  0.290853 | 0.0715738 | 4.830558e-05 | 1.714521e-03 | 19 | NKmat  | BRD7_NKmat       | 9.446525e-03 |\n",
       "| GSDMB      | 17 | GSDMB      |  38060848 | rs12453507 | 17 |  38053207 | C | G | 0.501934 | ⋯ | 0.04178040 |  3.874105e-08 |  0.345334 | 0.0870322 | 7.251319e-05 | 1.114991e-01 | 20 | NKmat  | GSDMB_NKmat      | 1.215504e-02 |\n",
       "| ORMDL3     | 17 | ORMDL3     |  38077294 | rs8074437  | 17 |  38076137 | T | G | 0.514023 | ⋯ | 0.01684250 |  3.658765e-75 |  0.165885 | 0.0457856 | 2.911227e-04 | 5.345345e-05 | 20 | NKmat  | ORMDL3_NKmat     | 3.158224e-02 |\n",
       "| UBE2L3     | 22 | UBE2L3     |  21903736 | rs4820091  | 22 |  21940189 | T | G | 0.820600 | ⋯ | 0.00870445 |  4.203846e-15 |  1.573860 | 0.3271470 | 1.502938e-06 | 2.298916e-01 | 12 | NKmat  | UBE2L3_NKmat     | 5.050424e-04 |\n",
       "| ERAP2      |  5 | ERAP2      |  96211643 | rs1046396  |  5 |  96273187 | G | A | 0.570116 | ⋯ | 0.07896360 |  1.620691e-13 | -0.159649 | 0.0323863 | 8.242404e-07 | 2.511906e-01 | 20 | Plasma | ERAP2_Plasma     | 2.911789e-04 |\n",
       "\n"
      ],
      "text/plain": [
       "    probeID    ProbeChr Gene       Probe_bp  topSNP     topSNP_chr topSNP_bp A1\n",
       "1   RBM6        3       RBM6        49977440 rs7613875   3          49971514 C \n",
       "2   ERAP2       5       ERAP2       96211643 rs27295     5          96358687 C \n",
       "3   CDC42SE2    5       CDC42SE2   130581186 rs31251     5         130833946 C \n",
       "4   LST1        6       LST1        31553901 rs2256965   6          31555130 A \n",
       "5   TMEM258    11       TMEM258     61535973 rs174538   11          61560081 G \n",
       "6   AP003774.1 11       AP003774.1  64092522 rs646153   11          64089588 C \n",
       "7   CCDC88B    11       CCDC88B     64107695 rs510372   11          64115137 C \n",
       "8   ZFP36L1    14       ZFP36L1     69254377 rs12435329 14          69250891 T \n",
       "9   CCDC101    16       CCDC101     28565236 rs3743963  16          28604686 A \n",
       "10  TUFM       16       TUFM        28853732 rs7187776  16          28857645 A \n",
       "11  BRD7       16       BRD7        50347398 rs4494538  16          50373272 C \n",
       "12  ORMDL3     17       ORMDL3      38077294 rs8067378  17          38051348 A \n",
       "13  ERAP2       5       ERAP2       96211643 rs27998     5          96367408 G \n",
       "14  LST1        6       LST1        31553901 rs2256965   6          31555130 A \n",
       "15  TMEM258    11       TMEM258     61535973 rs174584   11          61610750 G \n",
       "16  AP003774.1 11       AP003774.1  64092522 rs479777   11          64107477 T \n",
       "17  TUFM       16       TUFM        28853732 rs7187776  16          28857645 A \n",
       "18  ORMDL3     17       ORMDL3      38077294 rs7359623  17          38049589 C \n",
       "19  SCAMP3      1       SCAMP3     155225770 rs1076556   1         155234821 A \n",
       "20  DAP3        1       DAP3       155657751 rs2297775   1         155735012 T \n",
       "21  IL18R1      2       IL18R1     102927989 rs1882348   2         102984671 T \n",
       "22  GPX1        3       GPX1        49394609 rs1801143   3          49570200 C \n",
       "23  UBA7        3       UBA7        49842640 rs2352974   3          49890613 C \n",
       "24  RBM6        3       RBM6        49977440 rs2240329   3          50107512 G \n",
       "25  ERAP2       5       ERAP2       96211643 rs2910686   5          96252589 T \n",
       "26  SLC22A5     5       SLC22A5    131705444 rs274555    5         131722951 C \n",
       "27  IRF1        5       IRF1       131817301 rs2070723   5         131823187 A \n",
       "28  IL13        5       IL13       131991955 rs72795121  5         131638324 T \n",
       "29  RNF145      5       RNF145     158584417 rs270654    5         158565109 T \n",
       "30  HLA-DQA1    6       HLA-DQA1    32595956 rs35395738  6          32560209 T \n",
       "⋮   ⋮          ⋮        ⋮          ⋮         ⋮          ⋮          ⋮         ⋮ \n",
       "121 TUFM       16       TUFM        28853732 rs7187776  16          28857645 A \n",
       "122 ERAP2       5       ERAP2       96211643 rs2548226   5          96275186 C \n",
       "123 RNASET2     6       RNASET2    167342992 rs4710149   6         167386346 T \n",
       "124 AP003774.1 11       AP003774.1  64092522 rs574087   11          64102948 A \n",
       "125 ORMDL3     17       ORMDL3      38077294 rs4795405  17          38088417 T \n",
       "126 IL12RB2     1       IL12RB2     67773047 rs17129778  1          67787691 A \n",
       "127 SCAMP3      1       SCAMP3     155225770 rs11264353  1         155255906 G \n",
       "128 IL18R1      2       IL18R1     102927989 rs1420103   2         102948632 A \n",
       "129 PLCL1       2       PLCL1      198669426 rs7587251   2         198930197 T \n",
       "130 RBM6        3       RBM6        49977440 rs7642934   3          50174848 G \n",
       "131 ERAP2       5       ERAP2       96211643 rs2910686   5          96252589 T \n",
       "132 SLC22A5     5       SLC22A5    131705444 rs12521097  5         131575338 G \n",
       "133 C5orf56     5       C5orf56    131746328 rs2522051   5         131797578 T \n",
       "134 UQCRQ       5       UQCRQ      132202252 rs2522057   5         131801947 G \n",
       "135 MICB        6       MICB        31462658 rs28732101  6          31106302 C \n",
       "136 HLA-DQB1    6       HLA-DQB1    32627244 rs9272426   6          32605189 A \n",
       "137 RNASET2     6       RNASET2    167342992 rs425039    6         167410527 C \n",
       "138 SMIM19      8       SMIM19      42396298 rs6474401   8          42367068 T \n",
       "139 CISD1      10       CISD1       60028818 rs1623294  10          59939025 A \n",
       "140 ZMIZ1      10       ZMIZ1       80828792 rs1250554  10          81067040 C \n",
       "141 FADS1      11       FADS1       61567099 rs174544   11          61567753 C \n",
       "142 AP003774.1 11       AP003774.1  64092522 rs2510066  11          64052447 C \n",
       "143 CCDC101    16       CCDC101     28565236 rs3743963  16          28604686 A \n",
       "144 TUFM       16       TUFM        28853732 rs7187776  16          28857645 A \n",
       "145 ADCY7      16       ADCY7       50280048 rs4494538  16          50373272 C \n",
       "146 BRD7       16       BRD7        50347398 rs4494538  16          50373272 C \n",
       "147 GSDMB      17       GSDMB       38060848 rs12453507 17          38053207 C \n",
       "148 ORMDL3     17       ORMDL3      38077294 rs8074437  17          38076137 T \n",
       "149 UBE2L3     22       UBE2L3      21903736 rs4820091  22          21940189 T \n",
       "150 ERAP2       5       ERAP2       96211643 rs1046396   5          96273187 G \n",
       "    A2 Freq     ⋯ se_eQTL    p_eQTL        b_SMR     se_SMR    p_SMR       \n",
       "1   A  0.448743 ⋯ 0.01473940  4.663713e-15 -0.503019 0.1361050 2.191745e-04\n",
       "2   T  0.431335 ⋯ 0.02186180  9.580355e-47 -0.292410 0.0491637 2.719701e-09\n",
       "3   T  0.419729 ⋯ 0.01480940  1.523873e-06  1.065800 0.2961160 3.191008e-04\n",
       "4   G  0.405706 ⋯ 0.02502590  4.159973e-16 -0.316840 0.0788990 5.925158e-05\n",
       "5   A  0.696325 ⋯ 0.01109410  1.172200e-11 -0.894723 0.2411910 2.075796e-04\n",
       "6   T  0.624275 ⋯ 0.03757460  6.251950e-24  0.168507 0.0412274 4.364900e-05\n",
       "7   T  0.614120 ⋯ 0.02211490  1.260601e-07 -0.557565 0.1611960 5.423331e-04\n",
       "8   C  0.530948 ⋯ 0.01026990  4.299632e-10  0.970710 0.2663400 2.677812e-04\n",
       "9   G  0.472437 ⋯ 0.02480000  3.211693e-11  0.416040 0.1049450 7.358785e-05\n",
       "10  G  0.615571 ⋯ 0.01473370  3.420663e-67 -0.333696 0.0590836 1.624574e-08\n",
       "11  T  0.849130 ⋯ 0.04169730  4.464791e-08  0.371760 0.1056460 4.332829e-04\n",
       "12  G  0.491779 ⋯ 0.02442030  1.576034e-50  0.199113 0.0401591 7.118453e-07\n",
       "13  A  0.428917 ⋯ 0.02443750  7.455040e-54 -0.238227 0.0402680 3.297681e-09\n",
       "14  G  0.405706 ⋯ 0.03095050  1.164261e-08 -0.365267 0.1017650 3.315603e-04\n",
       "15  A  0.661992 ⋯ 0.01251860  1.094778e-13 -0.709217 0.1841360 1.173570e-04\n",
       "16  C  0.659091 ⋯ 0.04570900  1.863362e-20  0.138252 0.0376432 2.400027e-04\n",
       "17  G  0.615571 ⋯ 0.01434550  3.904825e-45 -0.421010 0.0765345 3.778108e-08\n",
       "18  T  0.496132 ⋯ 0.02815960  1.782539e-39  0.204092 0.0404580 4.545983e-07\n",
       "19  G  0.713250 ⋯ 0.01138940  1.048093e-32 -0.641302 0.1306390 9.155943e-07\n",
       "20  C  0.677466 ⋯ 0.00594916  1.199251e-20  1.348150 0.3130500 1.658638e-05\n",
       "21  A  0.595261 ⋯ 0.03081450  4.483768e-22  0.203635 0.0523124 9.914522e-05\n",
       "22  T  0.701161 ⋯ 0.00677544  7.627006e-13  2.124130 0.4262650 6.256809e-07\n",
       "23  T  0.500000 ⋯ 0.01124030  4.692409e-06 -1.601140 0.4412280 2.847254e-04\n",
       "24  A  0.542553 ⋯ 0.00793099  1.292100e-25 -0.700482 0.1797830 9.768461e-05\n",
       "25  C  0.567215 ⋯ 0.01822860 4.685026e-155 -0.189532 0.0298614 2.194715e-10\n",
       "26  T  0.588975 ⋯ 0.03367400  1.674572e-11  0.339937 0.0800147 2.152648e-05\n",
       "27  G  0.658607 ⋯ 0.01057760  3.452096e-07 -1.476610 0.3980590 2.076578e-04\n",
       "28  A  0.531431 ⋯ 0.10421200  1.062150e-04  0.280693 0.0801174 4.591372e-04\n",
       "29  C  0.896518 ⋯ 0.01835530  9.015253e-14  0.722024 0.1906450 1.523168e-04\n",
       "30  C  0.806576 ⋯ 0.03311190  1.129380e-13  0.288662 0.0808396 3.558937e-04\n",
       "⋮   ⋮  ⋮        ⋱ ⋮          ⋮             ⋮         ⋮         ⋮           \n",
       "121 G  0.615571 ⋯ 0.02148480  8.543667e-30 -0.349556 0.0661344 1.253403e-07\n",
       "122 T  0.582205 ⋯ 0.04306070  2.167436e-30 -0.194498 0.0334505 6.082261e-09\n",
       "123 C  0.663443 ⋯ 0.03361340  1.009939e-09  0.474236 0.1048130 6.050850e-06\n",
       "124 G  0.624758 ⋯ 0.07196230  5.387107e-10  0.139446 0.0390438 3.549091e-04\n",
       "125 C  0.445358 ⋯ 0.04724750  2.447561e-07  0.285486 0.0794589 3.270465e-04\n",
       "126 T  0.828820 ⋯ 0.05450050  2.246778e-16  0.211770 0.0478722 9.704376e-06\n",
       "127 C  0.707930 ⋯ 0.01500260  3.311327e-11 -0.871324 0.2084400 2.912297e-05\n",
       "128 C  0.236944 ⋯ 0.02918370  9.845762e-13 -0.414659 0.0970221 1.921145e-05\n",
       "129 G  0.490812 ⋯ 0.07598110  3.764136e-12 -0.129122 0.0321768 5.997686e-05\n",
       "130 A  0.530464 ⋯ 0.01143040  8.268473e-15 -0.707274 0.1805550 8.957674e-05\n",
       "131 C  0.567215 ⋯ 0.02247820 5.962536e-122 -0.173620 0.0275697 3.024799e-10\n",
       "132 A  0.529497 ⋯ 0.08115410  2.073383e-08  0.212833 0.0486532 1.217126e-05\n",
       "133 C  0.540135 ⋯ 0.00905650  2.492306e-14  1.532600 0.2844310 7.113264e-08\n",
       "134 C  0.417311 ⋯ 0.00608093  1.767241e-06 -4.455790 1.0494100 2.176310e-05\n",
       "135 T  0.944391 ⋯ 0.05883280  2.784828e-12  0.309733 0.0888274 4.886394e-04\n",
       "136 G  0.552708 ⋯ 0.03316150  3.590372e-27 -0.159429 0.0416575 1.296377e-04\n",
       "137 T  0.465184 ⋯ 0.01071850  4.807268e-43  0.634977 0.1045980 1.273944e-09\n",
       "138 C  0.609284 ⋯ 0.01190380  1.058801e-20 -0.490372 0.1392370 4.285499e-04\n",
       "139 G  0.808511 ⋯ 0.02098030  3.222465e-09 -0.690233 0.1781060 1.064436e-04\n",
       "140 T  0.653288 ⋯ 0.03704900  5.398271e-06  0.472650 0.1356920 4.953676e-04\n",
       "141 A  0.707447 ⋯ 0.03334820  5.341435e-13 -0.285235 0.0752325 1.498126e-04\n",
       "142 T  0.624275 ⋯ 0.02616750  7.865036e-65  0.144442 0.0332330 1.384275e-05\n",
       "143 G  0.472437 ⋯ 0.01588090  1.029287e-10  0.667183 0.1699250 8.624642e-05\n",
       "144 G  0.615571 ⋯ 0.00835159  3.599653e-45 -0.722876 0.1314020 3.770808e-08\n",
       "145 T  0.849130 ⋯ 0.01915880  5.060385e-15  0.565713 0.1427600 7.410796e-05\n",
       "146 T  0.849130 ⋯ 0.03350850  3.248298e-18  0.290853 0.0715738 4.830558e-05\n",
       "147 G  0.501934 ⋯ 0.04178040  3.874105e-08  0.345334 0.0870322 7.251319e-05\n",
       "148 G  0.514023 ⋯ 0.01684250  3.658765e-75  0.165885 0.0457856 2.911227e-04\n",
       "149 G  0.820600 ⋯ 0.00870445  4.203846e-15  1.573860 0.3271470 1.502938e-06\n",
       "150 A  0.570116 ⋯ 0.07896360  1.620691e-13 -0.159649 0.0323863 8.242404e-07\n",
       "    p_HEIDI      nsnp_HEIDI Cell_type comb                 qv          \n",
       "1   4.763586e-02 20         BimmNaive RBM6_BimmNaive       2.559049e-02\n",
       "2   7.152581e-01 20         BimmNaive ERAP2_BimmNaive      3.028922e-06\n",
       "3   3.311225e-01 14         BimmNaive CDC42SE2_BimmNaive   3.408073e-02\n",
       "4   2.730778e-03 14         BimmNaive LST1_BimmNaive       1.059429e-02\n",
       "5   6.515992e-01 20         BimmNaive TMEM258_BimmNaive    2.445305e-02\n",
       "6   3.810215e-02 20         BimmNaive AP003774.1_BimmNaive 8.843741e-03\n",
       "7   1.837508e-01 16         BimmNaive CCDC88B_BimmNaive    4.981332e-02\n",
       "8   4.708427e-03 20         BimmNaive ZFP36L1_BimmNaive    2.999478e-02\n",
       "9   4.970654e-02 20         BimmNaive CCDC101_BimmNaive    1.215504e-02\n",
       "10  7.104661e-02 20         BimmNaive TUFM_BimmNaive       1.065837e-05\n",
       "11  9.518775e-02 11         BimmNaive BRD7_BimmNaive       4.203914e-02\n",
       "12  1.339933e-01 20         BimmNaive ORMDL3_BimmNaive     2.580909e-04\n",
       "13  8.812517e-01 20         Bmem      ERAP2_Bmem           3.028922e-06\n",
       "14  5.972385e-03 14         Bmem      LST1_Bmem            3.464439e-02\n",
       "15  1.524811e-01 20         Bmem      TMEM258_Bmem         1.633219e-02\n",
       "16  3.143442e-02 20         Bmem      AP003774.1_Bmem      2.732759e-02\n",
       "17  1.662807e-01 20         Bmem      TUFM_Bmem            2.168871e-05\n",
       "18  4.388768e-02 20         Bmem      ORMDL3_Bmem          1.842127e-04\n",
       "19  1.544640e-01 20         CD4all    SCAMP3_CD4all        3.153652e-04\n",
       "20  1.194443e-01 20         CD4all    DAP3_CD4all          4.154890e-03\n",
       "21  2.226254e-03 20         CD4all    IL18R1_CD4all        1.484754e-02\n",
       "22  6.638163e-01 20         CD4all    GPX1_CD4all          2.393895e-04\n",
       "23  1.414457e-01  8         CD4all    UBA7_CD4all          3.113338e-02\n",
       "24  5.016788e-04 20         CD4all    RBM6_CD4all          1.478956e-02\n",
       "25  3.353872e-01 20         CD4all    ERAP2_CD4all         7.480580e-07\n",
       "26  4.811548e-03 20         CD4all    SLC22A5_CD4all       4.997354e-03\n",
       "27  5.181236e-02 20         CD4all    IRF1_CD4all          2.445305e-02\n",
       "28  2.080888e-01 11         CD4all    IL13_CD4all          4.423613e-02\n",
       "29  6.384313e-02 20         CD4all    RNF145_CD4all        1.979760e-02\n",
       "30  1.131444e-05 20         CD4all    HLA-DQA1_CD4all      3.632095e-02\n",
       "⋮   ⋮            ⋮          ⋮         ⋮                    ⋮           \n",
       "121 4.154671e-01 20         MonoNC    TUFM_MonoNC          6.167417e-05\n",
       "122 5.036804e-02 20         NKact     ERAP2_NKact          5.237400e-06\n",
       "123 3.685889e-01 19         NKact     RNASET2_NKact        1.812296e-03\n",
       "124 3.052661e-01 20         NKact     AP003774.1_NKact     3.632095e-02\n",
       "125 1.411941e-01 20         NKact     ORMDL3_NKact         3.464439e-02\n",
       "126 1.622707e-01 20         NKmat     IL12RB2_NKmat        2.844726e-03\n",
       "127 7.055313e-01 20         NKmat     SCAMP3_NKmat         6.269405e-03\n",
       "128 1.839500e-04 20         NKmat     IL18R1_NKmat         4.726534e-03\n",
       "129 1.209489e-02 20         NKmat     PLCL1_NKmat          1.059429e-02\n",
       "130 3.041059e-02 20         NKmat     RBM6_NKmat           1.402437e-02\n",
       "131 6.820651e-01 20         NKmat     ERAP2_NKmat          7.480580e-07\n",
       "132 5.609372e-02 20         NKmat     SLC22A5_NKmat        3.493534e-03\n",
       "133 2.063065e-08 20         NKmat     C5orf56_NKmat        3.769348e-05\n",
       "134 9.918928e-01 20         NKmat     UQCRQ_NKmat          4.997354e-03\n",
       "135 5.578013e-05 20         NKmat     MICB_NKmat           4.675162e-02\n",
       "136 5.125182e-02 20         NKmat     HLA-DQB1_NKmat       1.756721e-02\n",
       "137 4.359863e-01 20         NKmat     RNASET2_NKmat        1.753164e-06\n",
       "138 2.924483e-01 20         NKmat     SMIM19_NKmat         4.187482e-02\n",
       "139 4.287716e-01 20         NKmat     CISD1_NKmat          1.527633e-02\n",
       "140 9.304379e-01 17         NKmat     ZMIZ1_NKmat          4.706849e-02\n",
       "141 4.263071e-01 20         NKmat     FADS1_NKmat          1.965756e-02\n",
       "142 8.908324e-02 20         NKmat     AP003774.1_NKmat     3.667665e-03\n",
       "143 1.516995e-01 20         NKmat     CCDC101_NKmat        1.365817e-02\n",
       "144 7.236992e-02 20         NKmat     TUFM_NKmat           2.168871e-05\n",
       "145 4.924485e-04 19         NKmat     ADCY7_NKmat          1.215504e-02\n",
       "146 1.714521e-03 19         NKmat     BRD7_NKmat           9.446525e-03\n",
       "147 1.114991e-01 20         NKmat     GSDMB_NKmat          1.215504e-02\n",
       "148 5.345345e-05 20         NKmat     ORMDL3_NKmat         3.158224e-02\n",
       "149 2.298916e-01 12         NKmat     UBE2L3_NKmat         5.050424e-04\n",
       "150 2.511906e-01 20         Plasma    ERAP2_Plasma         2.911789e-04"
      ]
     },
     "metadata": {},
     "output_type": "display_data"
    }
   ],
   "source": [
    "## SAIGE-QTL SMR gene list\n",
    "saige_df_sign = saige_df[saige_df$qv<0.05,]\n",
    "saige_df_sign"
   ]
  },
  {
   "cell_type": "code",
   "execution_count": 23,
   "id": "98a4b34f",
   "metadata": {},
   "outputs": [],
   "source": [
    "fwrite(saige_df_sign, \"/directflow/SCCGGroupShare/projects/anncuo/OneK1K/saige_eqtl/for_wei/smr/cd_saige_egenes.txt\")"
   ]
  },
  {
   "cell_type": "code",
   "execution_count": null,
   "id": "42d078d3",
   "metadata": {},
   "outputs": [],
   "source": []
  }
 ],
 "metadata": {
  "kernelspec": {
   "display_name": "Single Cell Notebook (R 4.1.2)",
   "language": "R",
   "name": "singlecell"
  },
  "language_info": {
   "codemirror_mode": "r",
   "file_extension": ".r",
   "mimetype": "text/x-r-source",
   "name": "R",
   "pygments_lexer": "r",
   "version": "4.1.2"
  }
 },
 "nbformat": 4,
 "nbformat_minor": 5
}
