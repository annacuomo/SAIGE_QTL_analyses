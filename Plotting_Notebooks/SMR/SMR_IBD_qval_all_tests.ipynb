{
 "cells": [
  {
   "cell_type": "code",
   "execution_count": 17,
   "id": "389cd9e3",
   "metadata": {},
   "outputs": [],
   "source": [
    "library(data.table)\n",
    "library(qvalue)"
   ]
  },
  {
   "cell_type": "code",
   "execution_count": 18,
   "id": "27ce71e4",
   "metadata": {},
   "outputs": [],
   "source": [
    "## IBD (inflammatory bowel disease) SMR (summarised Mendelian Randomisation) results"
   ]
  },
  {
   "cell_type": "code",
   "execution_count": 19,
   "id": "b51e56f6",
   "metadata": {},
   "outputs": [
    {
     "data": {
      "text/html": [
       "<table class=\"dataframe\">\n",
       "<caption>A data.table: 2 × 22</caption>\n",
       "<thead>\n",
       "\t<tr><th scope=col>probeID</th><th scope=col>ProbeChr</th><th scope=col>Gene</th><th scope=col>Probe_bp</th><th scope=col>topSNP</th><th scope=col>topSNP_chr</th><th scope=col>topSNP_bp</th><th scope=col>A1</th><th scope=col>A2</th><th scope=col>Freq</th><th scope=col>⋯</th><th scope=col>p_GWAS</th><th scope=col>b_eQTL</th><th scope=col>se_eQTL</th><th scope=col>p_eQTL</th><th scope=col>b_SMR</th><th scope=col>se_SMR</th><th scope=col>p_SMR</th><th scope=col>p_HEIDI</th><th scope=col>nsnp_HEIDI</th><th scope=col>Cell_type</th></tr>\n",
       "\t<tr><th scope=col>&lt;chr&gt;</th><th scope=col>&lt;int&gt;</th><th scope=col>&lt;chr&gt;</th><th scope=col>&lt;int&gt;</th><th scope=col>&lt;chr&gt;</th><th scope=col>&lt;int&gt;</th><th scope=col>&lt;int&gt;</th><th scope=col>&lt;chr&gt;</th><th scope=col>&lt;chr&gt;</th><th scope=col>&lt;dbl&gt;</th><th scope=col>⋯</th><th scope=col>&lt;dbl&gt;</th><th scope=col>&lt;dbl&gt;</th><th scope=col>&lt;dbl&gt;</th><th scope=col>&lt;dbl&gt;</th><th scope=col>&lt;dbl&gt;</th><th scope=col>&lt;dbl&gt;</th><th scope=col>&lt;dbl&gt;</th><th scope=col>&lt;dbl&gt;</th><th scope=col>&lt;int&gt;</th><th scope=col>&lt;chr&gt;</th></tr>\n",
       "</thead>\n",
       "<tbody>\n",
       "\t<tr><td>FCRL5</td><td>1</td><td>FCRL5</td><td>157483167</td><td>rs12741984</td><td>1</td><td>157534818</td><td>G</td><td>A</td><td>0.787234</td><td>⋯</td><td>0.03396</td><td> 0.113780</td><td>0.00486738</td><td>7.500497e-121</td><td>0.244696</td><td>0.115784</td><td>0.03456732</td><td>0.7668700</td><td>20</td><td>BimmNaive</td></tr>\n",
       "\t<tr><td>RPS8 </td><td>1</td><td>RPS8 </td><td> 45240923</td><td>rs12120833</td><td>1</td><td> 45241285</td><td>C</td><td>G</td><td>0.850097</td><td>⋯</td><td>0.13480</td><td>-0.105432</td><td>0.00500701</td><td> 1.980368e-98</td><td>0.228189</td><td>0.152891</td><td>0.13556820</td><td>0.9391271</td><td>20</td><td>BimmNaive</td></tr>\n",
       "</tbody>\n",
       "</table>\n"
      ],
      "text/latex": [
       "A data.table: 2 × 22\n",
       "\\begin{tabular}{lllllllllllllllllllll}\n",
       " probeID & ProbeChr & Gene & Probe\\_bp & topSNP & topSNP\\_chr & topSNP\\_bp & A1 & A2 & Freq & ⋯ & p\\_GWAS & b\\_eQTL & se\\_eQTL & p\\_eQTL & b\\_SMR & se\\_SMR & p\\_SMR & p\\_HEIDI & nsnp\\_HEIDI & Cell\\_type\\\\\n",
       " <chr> & <int> & <chr> & <int> & <chr> & <int> & <int> & <chr> & <chr> & <dbl> & ⋯ & <dbl> & <dbl> & <dbl> & <dbl> & <dbl> & <dbl> & <dbl> & <dbl> & <int> & <chr>\\\\\n",
       "\\hline\n",
       "\t FCRL5 & 1 & FCRL5 & 157483167 & rs12741984 & 1 & 157534818 & G & A & 0.787234 & ⋯ & 0.03396 &  0.113780 & 0.00486738 & 7.500497e-121 & 0.244696 & 0.115784 & 0.03456732 & 0.7668700 & 20 & BimmNaive\\\\\n",
       "\t RPS8  & 1 & RPS8  &  45240923 & rs12120833 & 1 &  45241285 & C & G & 0.850097 & ⋯ & 0.13480 & -0.105432 & 0.00500701 &  1.980368e-98 & 0.228189 & 0.152891 & 0.13556820 & 0.9391271 & 20 & BimmNaive\\\\\n",
       "\\end{tabular}\n"
      ],
      "text/markdown": [
       "\n",
       "A data.table: 2 × 22\n",
       "\n",
       "| probeID &lt;chr&gt; | ProbeChr &lt;int&gt; | Gene &lt;chr&gt; | Probe_bp &lt;int&gt; | topSNP &lt;chr&gt; | topSNP_chr &lt;int&gt; | topSNP_bp &lt;int&gt; | A1 &lt;chr&gt; | A2 &lt;chr&gt; | Freq &lt;dbl&gt; | ⋯ ⋯ | p_GWAS &lt;dbl&gt; | b_eQTL &lt;dbl&gt; | se_eQTL &lt;dbl&gt; | p_eQTL &lt;dbl&gt; | b_SMR &lt;dbl&gt; | se_SMR &lt;dbl&gt; | p_SMR &lt;dbl&gt; | p_HEIDI &lt;dbl&gt; | nsnp_HEIDI &lt;int&gt; | Cell_type &lt;chr&gt; |\n",
       "|---|---|---|---|---|---|---|---|---|---|---|---|---|---|---|---|---|---|---|---|---|\n",
       "| FCRL5 | 1 | FCRL5 | 157483167 | rs12741984 | 1 | 157534818 | G | A | 0.787234 | ⋯ | 0.03396 |  0.113780 | 0.00486738 | 7.500497e-121 | 0.244696 | 0.115784 | 0.03456732 | 0.7668700 | 20 | BimmNaive |\n",
       "| RPS8  | 1 | RPS8  |  45240923 | rs12120833 | 1 |  45241285 | C | G | 0.850097 | ⋯ | 0.13480 | -0.105432 | 0.00500701 |  1.980368e-98 | 0.228189 | 0.152891 | 0.13556820 | 0.9391271 | 20 | BimmNaive |\n",
       "\n"
      ],
      "text/plain": [
       "  probeID ProbeChr Gene  Probe_bp  topSNP     topSNP_chr topSNP_bp A1 A2\n",
       "1 FCRL5   1        FCRL5 157483167 rs12741984 1          157534818 G  A \n",
       "2 RPS8    1        RPS8   45240923 rs12120833 1           45241285 C  G \n",
       "  Freq     ⋯ p_GWAS  b_eQTL    se_eQTL    p_eQTL        b_SMR    se_SMR  \n",
       "1 0.787234 ⋯ 0.03396  0.113780 0.00486738 7.500497e-121 0.244696 0.115784\n",
       "2 0.850097 ⋯ 0.13480 -0.105432 0.00500701  1.980368e-98 0.228189 0.152891\n",
       "  p_SMR      p_HEIDI   nsnp_HEIDI Cell_type\n",
       "1 0.03456732 0.7668700 20         BimmNaive\n",
       "2 0.13556820 0.9391271 20         BimmNaive"
      ]
     },
     "metadata": {},
     "output_type": "display_data"
    }
   ],
   "source": [
    "# Matrix eQTL results\n",
    "matrix_eqtl_smr_results_dir = \"/directflow/SCCGGroupShare/projects/angxue/proj/SAIGE-eQTL/SMR/\"\n",
    "matrix_ibd_file = paste0(matrix_eqtl_smr_results_dir, \"ibd_all_14_celltypes_all_smr.txt\")\n",
    "matrix_df = fread(matrix_ibd_file)\n",
    "head(matrix_df,2)"
   ]
  },
  {
   "cell_type": "code",
   "execution_count": 20,
   "id": "8bee0ba9",
   "metadata": {},
   "outputs": [
    {
     "data": {
      "text/html": [
       "6091"
      ],
      "text/latex": [
       "6091"
      ],
      "text/markdown": [
       "6091"
      ],
      "text/plain": [
       "[1] 6091"
      ]
     },
     "metadata": {},
     "output_type": "display_data"
    },
    {
     "data": {
      "text/html": [
       "14518"
      ],
      "text/latex": [
       "14518"
      ],
      "text/markdown": [
       "14518"
      ],
      "text/plain": [
       "[1] 14518"
      ]
     },
     "metadata": {},
     "output_type": "display_data"
    },
    {
     "data": {
      "text/html": [
       "<table class=\"dataframe\">\n",
       "<caption>A data.table: 2 × 23</caption>\n",
       "<thead>\n",
       "\t<tr><th scope=col>probeID</th><th scope=col>ProbeChr</th><th scope=col>Gene</th><th scope=col>Probe_bp</th><th scope=col>topSNP</th><th scope=col>topSNP_chr</th><th scope=col>topSNP_bp</th><th scope=col>A1</th><th scope=col>A2</th><th scope=col>Freq</th><th scope=col>⋯</th><th scope=col>b_eQTL</th><th scope=col>se_eQTL</th><th scope=col>p_eQTL</th><th scope=col>b_SMR</th><th scope=col>se_SMR</th><th scope=col>p_SMR</th><th scope=col>p_HEIDI</th><th scope=col>nsnp_HEIDI</th><th scope=col>Cell_type</th><th scope=col>comb</th></tr>\n",
       "\t<tr><th scope=col>&lt;chr&gt;</th><th scope=col>&lt;int&gt;</th><th scope=col>&lt;chr&gt;</th><th scope=col>&lt;int&gt;</th><th scope=col>&lt;chr&gt;</th><th scope=col>&lt;int&gt;</th><th scope=col>&lt;int&gt;</th><th scope=col>&lt;chr&gt;</th><th scope=col>&lt;chr&gt;</th><th scope=col>&lt;dbl&gt;</th><th scope=col>⋯</th><th scope=col>&lt;dbl&gt;</th><th scope=col>&lt;dbl&gt;</th><th scope=col>&lt;dbl&gt;</th><th scope=col>&lt;dbl&gt;</th><th scope=col>&lt;dbl&gt;</th><th scope=col>&lt;dbl&gt;</th><th scope=col>&lt;dbl&gt;</th><th scope=col>&lt;int&gt;</th><th scope=col>&lt;chr&gt;</th><th scope=col>&lt;chr&gt;</th></tr>\n",
       "</thead>\n",
       "<tbody>\n",
       "\t<tr><td>FCRL5</td><td>1</td><td>FCRL5</td><td>157483167</td><td>rs12741984</td><td>1</td><td>157534818</td><td>G</td><td>A</td><td>0.787234</td><td>⋯</td><td> 0.113780</td><td>0.00486738</td><td>7.500497e-121</td><td>0.244696</td><td>0.115784</td><td>0.03456732</td><td>0.7668700</td><td>20</td><td>BimmNaive</td><td>FCRL5_BimmNaive</td></tr>\n",
       "\t<tr><td>RPS8 </td><td>1</td><td>RPS8 </td><td> 45240923</td><td>rs12120833</td><td>1</td><td> 45241285</td><td>C</td><td>G</td><td>0.850097</td><td>⋯</td><td>-0.105432</td><td>0.00500701</td><td> 1.980368e-98</td><td>0.228189</td><td>0.152891</td><td>0.13556820</td><td>0.9391271</td><td>20</td><td>BimmNaive</td><td>RPS8_BimmNaive </td></tr>\n",
       "</tbody>\n",
       "</table>\n"
      ],
      "text/latex": [
       "A data.table: 2 × 23\n",
       "\\begin{tabular}{lllllllllllllllllllll}\n",
       " probeID & ProbeChr & Gene & Probe\\_bp & topSNP & topSNP\\_chr & topSNP\\_bp & A1 & A2 & Freq & ⋯ & b\\_eQTL & se\\_eQTL & p\\_eQTL & b\\_SMR & se\\_SMR & p\\_SMR & p\\_HEIDI & nsnp\\_HEIDI & Cell\\_type & comb\\\\\n",
       " <chr> & <int> & <chr> & <int> & <chr> & <int> & <int> & <chr> & <chr> & <dbl> & ⋯ & <dbl> & <dbl> & <dbl> & <dbl> & <dbl> & <dbl> & <dbl> & <int> & <chr> & <chr>\\\\\n",
       "\\hline\n",
       "\t FCRL5 & 1 & FCRL5 & 157483167 & rs12741984 & 1 & 157534818 & G & A & 0.787234 & ⋯ &  0.113780 & 0.00486738 & 7.500497e-121 & 0.244696 & 0.115784 & 0.03456732 & 0.7668700 & 20 & BimmNaive & FCRL5\\_BimmNaive\\\\\n",
       "\t RPS8  & 1 & RPS8  &  45240923 & rs12120833 & 1 &  45241285 & C & G & 0.850097 & ⋯ & -0.105432 & 0.00500701 &  1.980368e-98 & 0.228189 & 0.152891 & 0.13556820 & 0.9391271 & 20 & BimmNaive & RPS8\\_BimmNaive \\\\\n",
       "\\end{tabular}\n"
      ],
      "text/markdown": [
       "\n",
       "A data.table: 2 × 23\n",
       "\n",
       "| probeID &lt;chr&gt; | ProbeChr &lt;int&gt; | Gene &lt;chr&gt; | Probe_bp &lt;int&gt; | topSNP &lt;chr&gt; | topSNP_chr &lt;int&gt; | topSNP_bp &lt;int&gt; | A1 &lt;chr&gt; | A2 &lt;chr&gt; | Freq &lt;dbl&gt; | ⋯ ⋯ | b_eQTL &lt;dbl&gt; | se_eQTL &lt;dbl&gt; | p_eQTL &lt;dbl&gt; | b_SMR &lt;dbl&gt; | se_SMR &lt;dbl&gt; | p_SMR &lt;dbl&gt; | p_HEIDI &lt;dbl&gt; | nsnp_HEIDI &lt;int&gt; | Cell_type &lt;chr&gt; | comb &lt;chr&gt; |\n",
       "|---|---|---|---|---|---|---|---|---|---|---|---|---|---|---|---|---|---|---|---|---|\n",
       "| FCRL5 | 1 | FCRL5 | 157483167 | rs12741984 | 1 | 157534818 | G | A | 0.787234 | ⋯ |  0.113780 | 0.00486738 | 7.500497e-121 | 0.244696 | 0.115784 | 0.03456732 | 0.7668700 | 20 | BimmNaive | FCRL5_BimmNaive |\n",
       "| RPS8  | 1 | RPS8  |  45240923 | rs12120833 | 1 |  45241285 | C | G | 0.850097 | ⋯ | -0.105432 | 0.00500701 |  1.980368e-98 | 0.228189 | 0.152891 | 0.13556820 | 0.9391271 | 20 | BimmNaive | RPS8_BimmNaive  |\n",
       "\n"
      ],
      "text/plain": [
       "  probeID ProbeChr Gene  Probe_bp  topSNP     topSNP_chr topSNP_bp A1 A2\n",
       "1 FCRL5   1        FCRL5 157483167 rs12741984 1          157534818 G  A \n",
       "2 RPS8    1        RPS8   45240923 rs12120833 1           45241285 C  G \n",
       "  Freq     ⋯ b_eQTL    se_eQTL    p_eQTL        b_SMR    se_SMR   p_SMR     \n",
       "1 0.787234 ⋯  0.113780 0.00486738 7.500497e-121 0.244696 0.115784 0.03456732\n",
       "2 0.850097 ⋯ -0.105432 0.00500701  1.980368e-98 0.228189 0.152891 0.13556820\n",
       "  p_HEIDI   nsnp_HEIDI Cell_type comb           \n",
       "1 0.7668700 20         BimmNaive FCRL5_BimmNaive\n",
       "2 0.9391271 20         BimmNaive RPS8_BimmNaive "
      ]
     },
     "metadata": {},
     "output_type": "display_data"
    }
   ],
   "source": [
    "# Calculate number of unique genes, and combination of genes + celltypes\n",
    "length(unique(matrix_df$Gene))\n",
    "matrix_df$comb = paste0(matrix_df$Gene,\"_\",matrix_df$Cell_type)\n",
    "length(unique(matrix_df$comb))\n",
    "head(matrix_df,2)"
   ]
  },
  {
   "cell_type": "code",
   "execution_count": 21,
   "id": "bb49fa5a",
   "metadata": {},
   "outputs": [],
   "source": [
    "# p<0.05/M, where M is the number of tests (number of genes)"
   ]
  },
  {
   "cell_type": "code",
   "execution_count": 22,
   "id": "fd12238e",
   "metadata": {},
   "outputs": [
    {
     "data": {
      "text/html": [
       "98"
      ],
      "text/latex": [
       "98"
      ],
      "text/markdown": [
       "98"
      ],
      "text/plain": [
       "[1] 98"
      ]
     },
     "metadata": {},
     "output_type": "display_data"
    },
    {
     "data": {
      "text/html": [
       "94"
      ],
      "text/latex": [
       "94"
      ],
      "text/markdown": [
       "94"
      ],
      "text/plain": [
       "[1] 94"
      ]
     },
     "metadata": {},
     "output_type": "display_data"
    }
   ],
   "source": [
    "nrow(matrix_df[matrix_df$p_SMR < 0.05/length(unique(matrix_df$Gene)),]) # M = number of genes\n",
    "nrow(matrix_df[matrix_df$p_SMR < 0.05/length(unique(matrix_df$comb)),]) # M = number of genes-ct combinations"
   ]
  },
  {
   "cell_type": "code",
   "execution_count": 23,
   "id": "12062bde",
   "metadata": {},
   "outputs": [
    {
     "data": {
      "text/html": [
       "228"
      ],
      "text/latex": [
       "228"
      ],
      "text/markdown": [
       "228"
      ],
      "text/plain": [
       "[1] 228"
      ]
     },
     "metadata": {},
     "output_type": "display_data"
    }
   ],
   "source": [
    "# significant results at FDR<5% instead (using qvalue)\n",
    "matrix_df$qv = qvalue(matrix_df$p_SMR)$qvalues\n",
    "nrow(matrix_df[matrix_df$qv<0.05,])"
   ]
  },
  {
   "cell_type": "code",
   "execution_count": null,
   "id": "10f4aafb",
   "metadata": {},
   "outputs": [],
   "source": []
  },
  {
   "cell_type": "code",
   "execution_count": null,
   "id": "ae1b3e0f",
   "metadata": {},
   "outputs": [],
   "source": []
  },
  {
   "cell_type": "code",
   "execution_count": 24,
   "id": "ec752228",
   "metadata": {},
   "outputs": [
    {
     "data": {
      "text/html": [
       "<table class=\"dataframe\">\n",
       "<caption>A data.table: 2 × 22</caption>\n",
       "<thead>\n",
       "\t<tr><th scope=col>probeID</th><th scope=col>ProbeChr</th><th scope=col>Gene</th><th scope=col>Probe_bp</th><th scope=col>topSNP</th><th scope=col>topSNP_chr</th><th scope=col>topSNP_bp</th><th scope=col>A1</th><th scope=col>A2</th><th scope=col>Freq</th><th scope=col>⋯</th><th scope=col>p_GWAS</th><th scope=col>b_eQTL</th><th scope=col>se_eQTL</th><th scope=col>p_eQTL</th><th scope=col>b_SMR</th><th scope=col>se_SMR</th><th scope=col>p_SMR</th><th scope=col>p_HEIDI</th><th scope=col>nsnp_HEIDI</th><th scope=col>Cell_type</th></tr>\n",
       "\t<tr><th scope=col>&lt;chr&gt;</th><th scope=col>&lt;int&gt;</th><th scope=col>&lt;chr&gt;</th><th scope=col>&lt;int&gt;</th><th scope=col>&lt;chr&gt;</th><th scope=col>&lt;int&gt;</th><th scope=col>&lt;int&gt;</th><th scope=col>&lt;chr&gt;</th><th scope=col>&lt;chr&gt;</th><th scope=col>&lt;dbl&gt;</th><th scope=col>⋯</th><th scope=col>&lt;dbl&gt;</th><th scope=col>&lt;dbl&gt;</th><th scope=col>&lt;dbl&gt;</th><th scope=col>&lt;dbl&gt;</th><th scope=col>&lt;dbl&gt;</th><th scope=col>&lt;dbl&gt;</th><th scope=col>&lt;dbl&gt;</th><th scope=col>&lt;dbl&gt;</th><th scope=col>&lt;int&gt;</th><th scope=col>&lt;chr&gt;</th></tr>\n",
       "</thead>\n",
       "<tbody>\n",
       "\t<tr><td>NOC2L  </td><td>1</td><td>NOC2L  </td><td> 879584</td><td>rs3748595 </td><td>1</td><td> 887560</td><td>A</td><td>C</td><td>0.0672147</td><td>⋯</td><td>0.7672</td><td>-0.153020</td><td>0.0352961</td><td>1.455500e-05</td><td>0.0294649</td><td>0.0996539</td><td>0.7674800</td><td>0.5294930</td><td>3</td><td>BimmNaive</td></tr>\n",
       "\t<tr><td>C1orf86</td><td>1</td><td>C1orf86</td><td>2115903</td><td>rs11587831</td><td>1</td><td>2110848</td><td>T</td><td>G</td><td>0.7853000</td><td>⋯</td><td>0.7714</td><td>-0.115809</td><td>0.0148762</td><td>6.980209e-15</td><td>0.0320707</td><td>0.1108130</td><td>0.7722658</td><td>0.5495551</td><td>8</td><td>BimmNaive</td></tr>\n",
       "</tbody>\n",
       "</table>\n"
      ],
      "text/latex": [
       "A data.table: 2 × 22\n",
       "\\begin{tabular}{lllllllllllllllllllll}\n",
       " probeID & ProbeChr & Gene & Probe\\_bp & topSNP & topSNP\\_chr & topSNP\\_bp & A1 & A2 & Freq & ⋯ & p\\_GWAS & b\\_eQTL & se\\_eQTL & p\\_eQTL & b\\_SMR & se\\_SMR & p\\_SMR & p\\_HEIDI & nsnp\\_HEIDI & Cell\\_type\\\\\n",
       " <chr> & <int> & <chr> & <int> & <chr> & <int> & <int> & <chr> & <chr> & <dbl> & ⋯ & <dbl> & <dbl> & <dbl> & <dbl> & <dbl> & <dbl> & <dbl> & <dbl> & <int> & <chr>\\\\\n",
       "\\hline\n",
       "\t NOC2L   & 1 & NOC2L   &  879584 & rs3748595  & 1 &  887560 & A & C & 0.0672147 & ⋯ & 0.7672 & -0.153020 & 0.0352961 & 1.455500e-05 & 0.0294649 & 0.0996539 & 0.7674800 & 0.5294930 & 3 & BimmNaive\\\\\n",
       "\t C1orf86 & 1 & C1orf86 & 2115903 & rs11587831 & 1 & 2110848 & T & G & 0.7853000 & ⋯ & 0.7714 & -0.115809 & 0.0148762 & 6.980209e-15 & 0.0320707 & 0.1108130 & 0.7722658 & 0.5495551 & 8 & BimmNaive\\\\\n",
       "\\end{tabular}\n"
      ],
      "text/markdown": [
       "\n",
       "A data.table: 2 × 22\n",
       "\n",
       "| probeID &lt;chr&gt; | ProbeChr &lt;int&gt; | Gene &lt;chr&gt; | Probe_bp &lt;int&gt; | topSNP &lt;chr&gt; | topSNP_chr &lt;int&gt; | topSNP_bp &lt;int&gt; | A1 &lt;chr&gt; | A2 &lt;chr&gt; | Freq &lt;dbl&gt; | ⋯ ⋯ | p_GWAS &lt;dbl&gt; | b_eQTL &lt;dbl&gt; | se_eQTL &lt;dbl&gt; | p_eQTL &lt;dbl&gt; | b_SMR &lt;dbl&gt; | se_SMR &lt;dbl&gt; | p_SMR &lt;dbl&gt; | p_HEIDI &lt;dbl&gt; | nsnp_HEIDI &lt;int&gt; | Cell_type &lt;chr&gt; |\n",
       "|---|---|---|---|---|---|---|---|---|---|---|---|---|---|---|---|---|---|---|---|---|\n",
       "| NOC2L   | 1 | NOC2L   |  879584 | rs3748595  | 1 |  887560 | A | C | 0.0672147 | ⋯ | 0.7672 | -0.153020 | 0.0352961 | 1.455500e-05 | 0.0294649 | 0.0996539 | 0.7674800 | 0.5294930 | 3 | BimmNaive |\n",
       "| C1orf86 | 1 | C1orf86 | 2115903 | rs11587831 | 1 | 2110848 | T | G | 0.7853000 | ⋯ | 0.7714 | -0.115809 | 0.0148762 | 6.980209e-15 | 0.0320707 | 0.1108130 | 0.7722658 | 0.5495551 | 8 | BimmNaive |\n",
       "\n"
      ],
      "text/plain": [
       "  probeID ProbeChr Gene    Probe_bp topSNP     topSNP_chr topSNP_bp A1 A2\n",
       "1 NOC2L   1        NOC2L    879584  rs3748595  1           887560   A  C \n",
       "2 C1orf86 1        C1orf86 2115903  rs11587831 1          2110848   T  G \n",
       "  Freq      ⋯ p_GWAS b_eQTL    se_eQTL   p_eQTL       b_SMR     se_SMR   \n",
       "1 0.0672147 ⋯ 0.7672 -0.153020 0.0352961 1.455500e-05 0.0294649 0.0996539\n",
       "2 0.7853000 ⋯ 0.7714 -0.115809 0.0148762 6.980209e-15 0.0320707 0.1108130\n",
       "  p_SMR     p_HEIDI   nsnp_HEIDI Cell_type\n",
       "1 0.7674800 0.5294930 3          BimmNaive\n",
       "2 0.7722658 0.5495551 8          BimmNaive"
      ]
     },
     "metadata": {},
     "output_type": "display_data"
    }
   ],
   "source": [
    "# SAIGE-QTL results\n",
    "saige_eqtl_smr_results_dir = \"/directflow/SCCGGroupShare/projects/angxue/proj/SAIGE-eQTL/SMR/saige_eQTL/\"\n",
    "saige_ibd_file = paste0(saige_eqtl_smr_results_dir, \"ibd_all_14_celltypes_all_smr.txt\")\n",
    "saige_df = fread(saige_ibd_file)\n",
    "head(saige_df,2)"
   ]
  },
  {
   "cell_type": "code",
   "execution_count": 25,
   "id": "d912fd35",
   "metadata": {},
   "outputs": [
    {
     "data": {
      "text/html": [
       "5671"
      ],
      "text/latex": [
       "5671"
      ],
      "text/markdown": [
       "5671"
      ],
      "text/plain": [
       "[1] 5671"
      ]
     },
     "metadata": {},
     "output_type": "display_data"
    },
    {
     "data": {
      "text/html": [
       "16398"
      ],
      "text/latex": [
       "16398"
      ],
      "text/markdown": [
       "16398"
      ],
      "text/plain": [
       "[1] 16398"
      ]
     },
     "metadata": {},
     "output_type": "display_data"
    },
    {
     "data": {
      "text/html": [
       "<table class=\"dataframe\">\n",
       "<caption>A data.table: 2 × 23</caption>\n",
       "<thead>\n",
       "\t<tr><th scope=col>probeID</th><th scope=col>ProbeChr</th><th scope=col>Gene</th><th scope=col>Probe_bp</th><th scope=col>topSNP</th><th scope=col>topSNP_chr</th><th scope=col>topSNP_bp</th><th scope=col>A1</th><th scope=col>A2</th><th scope=col>Freq</th><th scope=col>⋯</th><th scope=col>b_eQTL</th><th scope=col>se_eQTL</th><th scope=col>p_eQTL</th><th scope=col>b_SMR</th><th scope=col>se_SMR</th><th scope=col>p_SMR</th><th scope=col>p_HEIDI</th><th scope=col>nsnp_HEIDI</th><th scope=col>Cell_type</th><th scope=col>comb</th></tr>\n",
       "\t<tr><th scope=col>&lt;chr&gt;</th><th scope=col>&lt;int&gt;</th><th scope=col>&lt;chr&gt;</th><th scope=col>&lt;int&gt;</th><th scope=col>&lt;chr&gt;</th><th scope=col>&lt;int&gt;</th><th scope=col>&lt;int&gt;</th><th scope=col>&lt;chr&gt;</th><th scope=col>&lt;chr&gt;</th><th scope=col>&lt;dbl&gt;</th><th scope=col>⋯</th><th scope=col>&lt;dbl&gt;</th><th scope=col>&lt;dbl&gt;</th><th scope=col>&lt;dbl&gt;</th><th scope=col>&lt;dbl&gt;</th><th scope=col>&lt;dbl&gt;</th><th scope=col>&lt;dbl&gt;</th><th scope=col>&lt;dbl&gt;</th><th scope=col>&lt;int&gt;</th><th scope=col>&lt;chr&gt;</th><th scope=col>&lt;chr&gt;</th></tr>\n",
       "</thead>\n",
       "<tbody>\n",
       "\t<tr><td>NOC2L  </td><td>1</td><td>NOC2L  </td><td> 879584</td><td>rs3748595 </td><td>1</td><td> 887560</td><td>A</td><td>C</td><td>0.0672147</td><td>⋯</td><td>-0.153020</td><td>0.0352961</td><td>1.455500e-05</td><td>0.0294649</td><td>0.0996539</td><td>0.7674800</td><td>0.5294930</td><td>3</td><td>BimmNaive</td><td>NOC2L_BimmNaive  </td></tr>\n",
       "\t<tr><td>C1orf86</td><td>1</td><td>C1orf86</td><td>2115903</td><td>rs11587831</td><td>1</td><td>2110848</td><td>T</td><td>G</td><td>0.7853000</td><td>⋯</td><td>-0.115809</td><td>0.0148762</td><td>6.980209e-15</td><td>0.0320707</td><td>0.1108130</td><td>0.7722658</td><td>0.5495551</td><td>8</td><td>BimmNaive</td><td>C1orf86_BimmNaive</td></tr>\n",
       "</tbody>\n",
       "</table>\n"
      ],
      "text/latex": [
       "A data.table: 2 × 23\n",
       "\\begin{tabular}{lllllllllllllllllllll}\n",
       " probeID & ProbeChr & Gene & Probe\\_bp & topSNP & topSNP\\_chr & topSNP\\_bp & A1 & A2 & Freq & ⋯ & b\\_eQTL & se\\_eQTL & p\\_eQTL & b\\_SMR & se\\_SMR & p\\_SMR & p\\_HEIDI & nsnp\\_HEIDI & Cell\\_type & comb\\\\\n",
       " <chr> & <int> & <chr> & <int> & <chr> & <int> & <int> & <chr> & <chr> & <dbl> & ⋯ & <dbl> & <dbl> & <dbl> & <dbl> & <dbl> & <dbl> & <dbl> & <int> & <chr> & <chr>\\\\\n",
       "\\hline\n",
       "\t NOC2L   & 1 & NOC2L   &  879584 & rs3748595  & 1 &  887560 & A & C & 0.0672147 & ⋯ & -0.153020 & 0.0352961 & 1.455500e-05 & 0.0294649 & 0.0996539 & 0.7674800 & 0.5294930 & 3 & BimmNaive & NOC2L\\_BimmNaive  \\\\\n",
       "\t C1orf86 & 1 & C1orf86 & 2115903 & rs11587831 & 1 & 2110848 & T & G & 0.7853000 & ⋯ & -0.115809 & 0.0148762 & 6.980209e-15 & 0.0320707 & 0.1108130 & 0.7722658 & 0.5495551 & 8 & BimmNaive & C1orf86\\_BimmNaive\\\\\n",
       "\\end{tabular}\n"
      ],
      "text/markdown": [
       "\n",
       "A data.table: 2 × 23\n",
       "\n",
       "| probeID &lt;chr&gt; | ProbeChr &lt;int&gt; | Gene &lt;chr&gt; | Probe_bp &lt;int&gt; | topSNP &lt;chr&gt; | topSNP_chr &lt;int&gt; | topSNP_bp &lt;int&gt; | A1 &lt;chr&gt; | A2 &lt;chr&gt; | Freq &lt;dbl&gt; | ⋯ ⋯ | b_eQTL &lt;dbl&gt; | se_eQTL &lt;dbl&gt; | p_eQTL &lt;dbl&gt; | b_SMR &lt;dbl&gt; | se_SMR &lt;dbl&gt; | p_SMR &lt;dbl&gt; | p_HEIDI &lt;dbl&gt; | nsnp_HEIDI &lt;int&gt; | Cell_type &lt;chr&gt; | comb &lt;chr&gt; |\n",
       "|---|---|---|---|---|---|---|---|---|---|---|---|---|---|---|---|---|---|---|---|---|\n",
       "| NOC2L   | 1 | NOC2L   |  879584 | rs3748595  | 1 |  887560 | A | C | 0.0672147 | ⋯ | -0.153020 | 0.0352961 | 1.455500e-05 | 0.0294649 | 0.0996539 | 0.7674800 | 0.5294930 | 3 | BimmNaive | NOC2L_BimmNaive   |\n",
       "| C1orf86 | 1 | C1orf86 | 2115903 | rs11587831 | 1 | 2110848 | T | G | 0.7853000 | ⋯ | -0.115809 | 0.0148762 | 6.980209e-15 | 0.0320707 | 0.1108130 | 0.7722658 | 0.5495551 | 8 | BimmNaive | C1orf86_BimmNaive |\n",
       "\n"
      ],
      "text/plain": [
       "  probeID ProbeChr Gene    Probe_bp topSNP     topSNP_chr topSNP_bp A1 A2\n",
       "1 NOC2L   1        NOC2L    879584  rs3748595  1           887560   A  C \n",
       "2 C1orf86 1        C1orf86 2115903  rs11587831 1          2110848   T  G \n",
       "  Freq      ⋯ b_eQTL    se_eQTL   p_eQTL       b_SMR     se_SMR    p_SMR    \n",
       "1 0.0672147 ⋯ -0.153020 0.0352961 1.455500e-05 0.0294649 0.0996539 0.7674800\n",
       "2 0.7853000 ⋯ -0.115809 0.0148762 6.980209e-15 0.0320707 0.1108130 0.7722658\n",
       "  p_HEIDI   nsnp_HEIDI Cell_type comb             \n",
       "1 0.5294930 3          BimmNaive NOC2L_BimmNaive  \n",
       "2 0.5495551 8          BimmNaive C1orf86_BimmNaive"
      ]
     },
     "metadata": {},
     "output_type": "display_data"
    }
   ],
   "source": [
    "length(unique(saige_df$Gene))\n",
    "saige_df$comb = paste0(saige_df$Gene,\"_\",saige_df$Cell_type)\n",
    "length(unique(saige_df$comb))\n",
    "head(saige_df,2)"
   ]
  },
  {
   "cell_type": "code",
   "execution_count": 26,
   "id": "21313568",
   "metadata": {},
   "outputs": [
    {
     "data": {
      "text/html": [
       "120"
      ],
      "text/latex": [
       "120"
      ],
      "text/markdown": [
       "120"
      ],
      "text/plain": [
       "[1] 120"
      ]
     },
     "metadata": {},
     "output_type": "display_data"
    },
    {
     "data": {
      "text/html": [
       "104"
      ],
      "text/latex": [
       "104"
      ],
      "text/markdown": [
       "104"
      ],
      "text/plain": [
       "[1] 104"
      ]
     },
     "metadata": {},
     "output_type": "display_data"
    }
   ],
   "source": [
    "# significant results at p<0.05/M with M either # genes or # gene-celltype combinations\n",
    "nrow(saige_df[saige_df$p_SMR < 0.05/length(unique(saige_df$Gene)),])\n",
    "nrow(saige_df[saige_df$p_SMR < 0.05/length(unique(saige_df$comb)),])"
   ]
  },
  {
   "cell_type": "code",
   "execution_count": 27,
   "id": "105e1d55",
   "metadata": {},
   "outputs": [
    {
     "data": {
      "text/html": [
       "304"
      ],
      "text/latex": [
       "304"
      ],
      "text/markdown": [
       "304"
      ],
      "text/plain": [
       "[1] 304"
      ]
     },
     "metadata": {},
     "output_type": "display_data"
    }
   ],
   "source": [
    "# significant results at FDR<5% instead (using qvalue)\n",
    "saige_df$qv = qvalue(saige_df$p_SMR)$qvalues\n",
    "nrow(saige_df[saige_df$qv<0.05,])"
   ]
  },
  {
   "cell_type": "code",
   "execution_count": null,
   "id": "7fc94444",
   "metadata": {},
   "outputs": [],
   "source": []
  },
  {
   "cell_type": "code",
   "execution_count": 28,
   "id": "ed33208f",
   "metadata": {},
   "outputs": [
    {
     "data": {
      "text/html": [
       "228"
      ],
      "text/latex": [
       "228"
      ],
      "text/markdown": [
       "228"
      ],
      "text/plain": [
       "[1] 228"
      ]
     },
     "metadata": {},
     "output_type": "display_data"
    },
    {
     "data": {
      "text/html": [
       "304"
      ],
      "text/latex": [
       "304"
      ],
      "text/markdown": [
       "304"
      ],
      "text/plain": [
       "[1] 304"
      ]
     },
     "metadata": {},
     "output_type": "display_data"
    },
    {
     "data": {
      "text/html": [
       "214"
      ],
      "text/latex": [
       "214"
      ],
      "text/markdown": [
       "214"
      ],
      "text/plain": [
       "[1] 214"
      ]
     },
     "metadata": {},
     "output_type": "display_data"
    }
   ],
   "source": [
    "# Overlap (everything tested)\n",
    "\n",
    "matrix_sign_combs = matrix_df[matrix_df$qv < 0.05,\"comb\"]$comb\n",
    "length(matrix_sign_combs)\n",
    "\n",
    "saige_sign_combs = saige_df[saige_df$qv < 0.05,\"comb\"]$comb\n",
    "length(saige_sign_combs)\n",
    "\n",
    "length(saige_sign_combs[saige_sign_combs %in% matrix_sign_combs])"
   ]
  },
  {
   "cell_type": "code",
   "execution_count": null,
   "id": "946fa23e",
   "metadata": {},
   "outputs": [],
   "source": []
  },
  {
   "cell_type": "code",
   "execution_count": null,
   "id": "925cec3c",
   "metadata": {},
   "outputs": [],
   "source": []
  },
  {
   "cell_type": "code",
   "execution_count": 29,
   "id": "02bfcdfb",
   "metadata": {},
   "outputs": [
    {
     "data": {
      "text/html": [
       "11985"
      ],
      "text/latex": [
       "11985"
      ],
      "text/markdown": [
       "11985"
      ],
      "text/plain": [
       "[1] 11985"
      ]
     },
     "metadata": {},
     "output_type": "display_data"
    }
   ],
   "source": [
    "# Overlap (common gene-cell type combinations only)\n",
    "matrix_combs = unique(matrix_df$comb)\n",
    "saige_combs = unique(saige_df$comb)\n",
    "common_combs = saige_combs[saige_combs %in% matrix_combs]\n",
    "length(common_combs)"
   ]
  },
  {
   "cell_type": "code",
   "execution_count": 30,
   "id": "a01edb82",
   "metadata": {},
   "outputs": [],
   "source": [
    "matrix_df_common = matrix_df[matrix_df$comb %in% common_combs,]\n",
    "matrix_df_common$qv = qvalue(matrix_df_common$p_SMR)$qvalues\n",
    "saige_df_common = saige_df[saige_df$comb %in% common_combs,]\n",
    "saige_df_common$qv = qvalue(saige_df_common$p_SMR)$qvalues"
   ]
  },
  {
   "cell_type": "code",
   "execution_count": 31,
   "id": "59e02ade",
   "metadata": {},
   "outputs": [
    {
     "data": {
      "text/html": [
       "237"
      ],
      "text/latex": [
       "237"
      ],
      "text/markdown": [
       "237"
      ],
      "text/plain": [
       "[1] 237"
      ]
     },
     "metadata": {},
     "output_type": "display_data"
    },
    {
     "data": {
      "text/html": [
       "264"
      ],
      "text/latex": [
       "264"
      ],
      "text/markdown": [
       "264"
      ],
      "text/plain": [
       "[1] 264"
      ]
     },
     "metadata": {},
     "output_type": "display_data"
    },
    {
     "data": {
      "text/html": [
       "223"
      ],
      "text/latex": [
       "223"
      ],
      "text/markdown": [
       "223"
      ],
      "text/plain": [
       "[1] 223"
      ]
     },
     "metadata": {},
     "output_type": "display_data"
    }
   ],
   "source": [
    "matrix_sign_combs = matrix_df_common[matrix_df_common$qv < 0.05,\"comb\"]$comb\n",
    "length(matrix_sign_combs)\n",
    "\n",
    "saige_sign_combs = saige_df_common[saige_df_common$qv < 0.05,\"comb\"]$comb\n",
    "length(saige_sign_combs)\n",
    "\n",
    "length(saige_sign_combs[saige_sign_combs %in% matrix_sign_combs])"
   ]
  },
  {
   "cell_type": "code",
   "execution_count": null,
   "id": "885c2082",
   "metadata": {},
   "outputs": [],
   "source": []
  },
  {
   "cell_type": "code",
   "execution_count": null,
   "id": "f68665d3",
   "metadata": {},
   "outputs": [],
   "source": []
  },
  {
   "cell_type": "code",
   "execution_count": null,
   "id": "8c40feb9",
   "metadata": {},
   "outputs": [],
   "source": []
  },
  {
   "cell_type": "code",
   "execution_count": 32,
   "id": "8c40f2d0",
   "metadata": {},
   "outputs": [
    {
     "data": {
      "text/html": [
       "<table class=\"dataframe\">\n",
       "<caption>A data.table: 304 × 24</caption>\n",
       "<thead>\n",
       "\t<tr><th scope=col>probeID</th><th scope=col>ProbeChr</th><th scope=col>Gene</th><th scope=col>Probe_bp</th><th scope=col>topSNP</th><th scope=col>topSNP_chr</th><th scope=col>topSNP_bp</th><th scope=col>A1</th><th scope=col>A2</th><th scope=col>Freq</th><th scope=col>⋯</th><th scope=col>se_eQTL</th><th scope=col>p_eQTL</th><th scope=col>b_SMR</th><th scope=col>se_SMR</th><th scope=col>p_SMR</th><th scope=col>p_HEIDI</th><th scope=col>nsnp_HEIDI</th><th scope=col>Cell_type</th><th scope=col>comb</th><th scope=col>qv</th></tr>\n",
       "\t<tr><th scope=col>&lt;chr&gt;</th><th scope=col>&lt;int&gt;</th><th scope=col>&lt;chr&gt;</th><th scope=col>&lt;int&gt;</th><th scope=col>&lt;chr&gt;</th><th scope=col>&lt;int&gt;</th><th scope=col>&lt;int&gt;</th><th scope=col>&lt;chr&gt;</th><th scope=col>&lt;chr&gt;</th><th scope=col>&lt;dbl&gt;</th><th scope=col>⋯</th><th scope=col>&lt;dbl&gt;</th><th scope=col>&lt;dbl&gt;</th><th scope=col>&lt;dbl&gt;</th><th scope=col>&lt;dbl&gt;</th><th scope=col>&lt;dbl&gt;</th><th scope=col>&lt;dbl&gt;</th><th scope=col>&lt;int&gt;</th><th scope=col>&lt;chr&gt;</th><th scope=col>&lt;chr&gt;</th><th scope=col>&lt;dbl&gt;</th></tr>\n",
       "</thead>\n",
       "<tbody>\n",
       "\t<tr><td>LY9         </td><td> 1</td><td>LY9         </td><td>160765864</td><td>rs7412696  </td><td> 1</td><td>160828976</td><td>G</td><td>T</td><td>0.792070</td><td>⋯</td><td>0.0343060</td><td>1.121082e-07</td><td>-0.3047730</td><td>0.09295680</td><td>1.043041e-03</td><td>4.127029e-01</td><td>16</td><td>BimmNaive</td><td>LY9_BimmNaive         </td><td>4.640058e-02</td></tr>\n",
       "\t<tr><td>FCGR2B      </td><td> 1</td><td>FCGR2B      </td><td>161551101</td><td>rs140315354</td><td> 1</td><td>161617673</td><td>G</td><td>A</td><td>0.934720</td><td>⋯</td><td>0.0349359</td><td>8.175889e-07</td><td>-0.5566150</td><td>0.15881300</td><td>4.568856e-04</td><td>9.639709e-02</td><td>18</td><td>BimmNaive</td><td>FCGR2B_BimmNaive      </td><td>2.575662e-02</td></tr>\n",
       "\t<tr><td>AC010883.5  </td><td> 2</td><td>AC010883.5  </td><td> 43456712</td><td>rs4372955  </td><td> 2</td><td> 43566146</td><td>A</td><td>G</td><td>0.869923</td><td>⋯</td><td>0.0902127</td><td>4.507045e-09</td><td>-0.1179020</td><td>0.03626890</td><td>1.150947e-03</td><td>2.060657e-02</td><td>20</td><td>BimmNaive</td><td>AC010883.5_BimmNaive  </td><td>4.951664e-02</td></tr>\n",
       "\t<tr><td>KIAA1841    </td><td> 2</td><td>KIAA1841    </td><td> 61293006</td><td>rs6727926  </td><td> 2</td><td> 61240536</td><td>A</td><td>T</td><td>0.796422</td><td>⋯</td><td>0.0890220</td><td>6.535369e-12</td><td>-0.1099680</td><td>0.02628160</td><td>2.861393e-05</td><td>8.850827e-02</td><td>20</td><td>BimmNaive</td><td>KIAA1841_BimmNaive    </td><td>2.563268e-03</td></tr>\n",
       "\t<tr><td>RBM6        </td><td> 3</td><td>RBM6        </td><td> 49977440</td><td>rs7613875  </td><td> 3</td><td> 49971514</td><td>C</td><td>A</td><td>0.448743</td><td>⋯</td><td>0.0147394</td><td>4.663713e-15</td><td>-0.4799370</td><td>0.11146500</td><td>1.664278e-05</td><td>5.805934e-03</td><td>20</td><td>BimmNaive</td><td>RBM6_BimmNaive        </td><td>1.588820e-03</td></tr>\n",
       "\t<tr><td>ERAP2       </td><td> 5</td><td>ERAP2       </td><td> 96211643</td><td>rs27295    </td><td> 5</td><td> 96358687</td><td>C</td><td>T</td><td>0.431335</td><td>⋯</td><td>0.0218618</td><td>9.580355e-47</td><td>-0.1840280</td><td>0.03696720</td><td>6.419558e-07</td><td>6.248309e-02</td><td>20</td><td>BimmNaive</td><td>ERAP2_BimmNaive       </td><td>9.650621e-05</td></tr>\n",
       "\t<tr><td>LST1        </td><td> 6</td><td>LST1        </td><td> 31553901</td><td>rs2256965  </td><td> 6</td><td> 31555130</td><td>A</td><td>G</td><td>0.405706</td><td>⋯</td><td>0.0250259</td><td>4.159973e-16</td><td>-0.3190970</td><td>0.06625470</td><td>1.463083e-06</td><td>9.578130e-02</td><td>14</td><td>BimmNaive</td><td>LST1_BimmNaive        </td><td>1.993275e-04</td></tr>\n",
       "\t<tr><td>HCG23       </td><td> 6</td><td>HCG23       </td><td> 32358287</td><td>rs9271548  </td><td> 6</td><td> 32590234</td><td>A</td><td>T</td><td>0.338008</td><td>⋯</td><td>0.1046600</td><td>4.461682e-06</td><td> 0.2119130</td><td>0.05182630</td><td>4.334293e-05</td><td>3.220945e-01</td><td>16</td><td>BimmNaive</td><td>HCG23_BimmNaive       </td><td>3.587819e-03</td></tr>\n",
       "\t<tr><td>HLA-DRB5    </td><td> 6</td><td>HLA-DRB5    </td><td> 32485120</td><td>rs9271699  </td><td> 6</td><td> 32593179</td><td>A</td><td>G</td><td>0.524178</td><td>⋯</td><td>0.0559168</td><td>1.162295e-96</td><td> 0.0414326</td><td>0.00942401</td><td>1.100153e-05</td><td>8.616021e-13</td><td>20</td><td>BimmNaive</td><td>HLA-DRB5_BimmNaive    </td><td>1.151098e-03</td></tr>\n",
       "\t<tr><td>HLA-DQA1    </td><td> 6</td><td>HLA-DQA1    </td><td> 32595956</td><td>rs9272546  </td><td> 6</td><td> 32606941</td><td>T</td><td>C</td><td>0.336074</td><td>⋯</td><td>0.0139083</td><td>2.408243e-45</td><td> 0.4690740</td><td>0.06514700</td><td>6.010586e-13</td><td>3.898305e-10</td><td>20</td><td>BimmNaive</td><td>HLA-DQA1_BimmNaive    </td><td>3.417892e-10</td></tr>\n",
       "\t<tr><td>HLA-DQB1    </td><td> 6</td><td>HLA-DQB1    </td><td> 32627244</td><td>rs9274660  </td><td> 6</td><td> 32636434</td><td>A</td><td>G</td><td>0.394584</td><td>⋯</td><td>0.0146328</td><td>3.180543e-58</td><td>-0.3397790</td><td>0.05138470</td><td>3.780030e-11</td><td>3.378640e-09</td><td>20</td><td>BimmNaive</td><td>HLA-DQB1_BimmNaive    </td><td>1.544951e-08</td></tr>\n",
       "\t<tr><td>HLA-DQA2    </td><td> 6</td><td>HLA-DQA2    </td><td> 32709119</td><td>rs9272319  </td><td> 6</td><td> 32604108</td><td>T</td><td>C</td><td>0.653288</td><td>⋯</td><td>0.0724199</td><td>2.105526e-94</td><td> 0.0763340</td><td>0.00850834</td><td>2.920490e-19</td><td>1.322820e-06</td><td>20</td><td>BimmNaive</td><td>HLA-DQA2_BimmNaive    </td><td>9.753852e-16</td></tr>\n",
       "\t<tr><td>HLA-DQB2    </td><td> 6</td><td>HLA-DQB2    </td><td> 32723875</td><td>rs17612858 </td><td> 6</td><td> 32620622</td><td>A</td><td>T</td><td>0.395551</td><td>⋯</td><td>0.0546637</td><td>8.199010e-50</td><td> 0.1006890</td><td>0.01503450</td><td>2.124938e-11</td><td>3.754812e-14</td><td>20</td><td>BimmNaive</td><td>HLA-DQB2_BimmNaive    </td><td>9.583357e-09</td></tr>\n",
       "\t<tr><td>KDELR2      </td><td> 7</td><td>KDELR2      </td><td>  6485584</td><td>rs6796     </td><td> 7</td><td>  6502367</td><td>T</td><td>C</td><td>0.715184</td><td>⋯</td><td>0.0235495</td><td>2.168689e-20</td><td>-0.2068780</td><td>0.05984720</td><td>5.467027e-04</td><td>3.360915e-01</td><td>20</td><td>BimmNaive</td><td>KDELR2_BimmNaive      </td><td>2.991732e-02</td></tr>\n",
       "\t<tr><td>LAMB1       </td><td> 7</td><td>LAMB1       </td><td>107564244</td><td>rs1131398  </td><td> 7</td><td>107569517</td><td>A</td><td>G</td><td>0.584623</td><td>⋯</td><td>0.0728718</td><td>4.439280e-32</td><td>-0.0799570</td><td>0.01437920</td><td>2.688348e-08</td><td>9.969587e-03</td><td>20</td><td>BimmNaive</td><td>LAMB1_BimmNaive       </td><td>6.511201e-06</td></tr>\n",
       "\t<tr><td>AP003774.1  </td><td>11</td><td>AP003774.1  </td><td> 64092522</td><td>rs646153   </td><td>11</td><td> 64089588</td><td>C</td><td>T</td><td>0.624275</td><td>⋯</td><td>0.0375746</td><td>6.251950e-24</td><td> 0.1141680</td><td>0.03136530</td><td>2.726918e-04</td><td>1.441368e-01</td><td>20</td><td>BimmNaive</td><td>AP003774.1_BimmNaive  </td><td>1.690281e-02</td></tr>\n",
       "\t<tr><td>ZFP36L1     </td><td>14</td><td>ZFP36L1     </td><td> 69254377</td><td>rs12435329 </td><td>14</td><td> 69250891</td><td>T</td><td>C</td><td>0.530948</td><td>⋯</td><td>0.0102699</td><td>4.299632e-10</td><td> 0.6546240</td><td>0.19796400</td><td>9.437427e-04</td><td>5.309888e-03</td><td>20</td><td>BimmNaive</td><td>ZFP36L1_BimmNaive     </td><td>4.392550e-02</td></tr>\n",
       "\t<tr><td>RP11-485G7.5</td><td>16</td><td>RP11-485G7.5</td><td> 11435666</td><td>rs367569   </td><td>16</td><td> 11365500</td><td>C</td><td>T</td><td>0.708414</td><td>⋯</td><td>0.1258180</td><td>1.519640e-06</td><td> 0.0897385</td><td>0.02703580</td><td>9.026021e-04</td><td>1.451220e-01</td><td>20</td><td>BimmNaive</td><td>RP11-485G7.5_BimmNaive</td><td>4.266491e-02</td></tr>\n",
       "\t<tr><td>CCDC101     </td><td>16</td><td>CCDC101     </td><td> 28565236</td><td>rs3743963  </td><td>16</td><td> 28604686</td><td>A</td><td>G</td><td>0.472437</td><td>⋯</td><td>0.0248000</td><td>3.211693e-11</td><td> 0.3202360</td><td>0.08124760</td><td>8.097793e-05</td><td>4.946542e-02</td><td>20</td><td>BimmNaive</td><td>CCDC101_BimmNaive     </td><td>6.229987e-03</td></tr>\n",
       "\t<tr><td>TUFM        </td><td>16</td><td>TUFM        </td><td> 28853732</td><td>rs7187776  </td><td>16</td><td> 28857645</td><td>A</td><td>G</td><td>0.615571</td><td>⋯</td><td>0.0147337</td><td>3.420663e-67</td><td>-0.2497920</td><td>0.04560750</td><td>4.325910e-08</td><td>2.498464e-02</td><td>20</td><td>BimmNaive</td><td>TUFM_BimmNaive        </td><td>9.589476e-06</td></tr>\n",
       "\t<tr><td>BRD7        </td><td>16</td><td>BRD7        </td><td> 50347398</td><td>rs4494538  </td><td>16</td><td> 50373272</td><td>C</td><td>T</td><td>0.849130</td><td>⋯</td><td>0.0416973</td><td>4.464791e-08</td><td> 0.3576980</td><td>0.09065460</td><td>7.955820e-05</td><td>3.214217e-01</td><td>11</td><td>BimmNaive</td><td>BRD7_BimmNaive        </td><td>6.156978e-03</td></tr>\n",
       "\t<tr><td>GSDMB       </td><td>17</td><td>GSDMB       </td><td> 38060848</td><td>rs35222145 </td><td>17</td><td> 38007321</td><td>T</td><td>G</td><td>0.523694</td><td>⋯</td><td>0.0605566</td><td>2.310671e-06</td><td> 0.2447360</td><td>0.06430790</td><td>1.414082e-04</td><td>4.081525e-01</td><td>20</td><td>BimmNaive</td><td>GSDMB_BimmNaive       </td><td>1.010632e-02</td></tr>\n",
       "\t<tr><td>ORMDL3      </td><td>17</td><td>ORMDL3      </td><td> 38077294</td><td>rs8067378  </td><td>17</td><td> 38051348</td><td>A</td><td>G</td><td>0.491779</td><td>⋯</td><td>0.0244203</td><td>1.576034e-50</td><td> 0.2259170</td><td>0.03306230</td><td>8.311311e-12</td><td>1.492448e-01</td><td>20</td><td>BimmNaive</td><td>ORMDL3_BimmNaive      </td><td>4.180860e-09</td></tr>\n",
       "\t<tr><td>HELZ2       </td><td>20</td><td>HELZ2       </td><td> 62189439</td><td>rs3810488  </td><td>20</td><td> 62196182</td><td>G</td><td>C</td><td>0.796422</td><td>⋯</td><td>0.0339838</td><td>1.805083e-06</td><td>-0.4443310</td><td>0.12528200</td><td>3.901678e-04</td><td>1.963238e-03</td><td>20</td><td>BimmNaive</td><td>HELZ2_BimmNaive       </td><td>2.247993e-02</td></tr>\n",
       "\t<tr><td>STMN3       </td><td>20</td><td>STMN3       </td><td> 62271061</td><td>rs879471   </td><td>20</td><td> 62269942</td><td>C</td><td>T</td><td>0.461799</td><td>⋯</td><td>0.0188253</td><td>4.007546e-09</td><td>-0.4937760</td><td>0.12875100</td><td>1.255036e-04</td><td>4.706598e-02</td><td>20</td><td>BimmNaive</td><td>STMN3_BimmNaive       </td><td>9.273684e-03</td></tr>\n",
       "\t<tr><td>SYNGR1      </td><td>22</td><td>SYNGR1      </td><td> 39745930</td><td>rs2049985  </td><td>22</td><td> 39756650</td><td>G</td><td>C</td><td>0.790135</td><td>⋯</td><td>0.0582994</td><td>4.001273e-11</td><td>-0.1534770</td><td>0.04073580</td><td>1.648098e-04</td><td>9.815688e-02</td><td>20</td><td>BimmNaive</td><td>SYNGR1_BimmNaive      </td><td>1.134485e-02</td></tr>\n",
       "\t<tr><td>AC010883.5  </td><td> 2</td><td>AC010883.5  </td><td> 43456712</td><td>rs10203499 </td><td> 2</td><td> 43466619</td><td>A</td><td>C</td><td>0.874275</td><td>⋯</td><td>0.1004120</td><td>5.948368e-06</td><td>-0.1730110</td><td>0.05246870</td><td>9.757731e-04</td><td>7.060062e-01</td><td>16</td><td>Bmem     </td><td>AC010883.5_Bmem       </td><td>4.431245e-02</td></tr>\n",
       "\t<tr><td>MAP4K4      </td><td> 2</td><td>MAP4K4      </td><td>102313312</td><td>rs11693204 </td><td> 2</td><td>102935974</td><td>G</td><td>A</td><td>0.702128</td><td>⋯</td><td>0.0280159</td><td>2.411498e-06</td><td> 0.4518360</td><td>0.13210000</td><td>6.252964e-04</td><td>6.482848e-01</td><td>13</td><td>Bmem     </td><td>MAP4K4_Bmem           </td><td>3.324453e-02</td></tr>\n",
       "\t<tr><td>ERAP2       </td><td> 5</td><td>ERAP2       </td><td> 96211643</td><td>rs27998    </td><td> 5</td><td> 96367408</td><td>G</td><td>A</td><td>0.428917</td><td>⋯</td><td>0.0244375</td><td>7.455040e-54</td><td>-0.1512860</td><td>0.03044210</td><td>6.708265e-07</td><td>7.675835e-02</td><td>20</td><td>Bmem     </td><td>ERAP2_Bmem            </td><td>9.970041e-05</td></tr>\n",
       "\t<tr><td>RNF145      </td><td> 5</td><td>RNF145      </td><td>158584417</td><td>rs270654   </td><td> 5</td><td>158565109</td><td>T</td><td>C</td><td>0.896518</td><td>⋯</td><td>0.0357719</td><td>1.686598e-06</td><td> 0.4677010</td><td>0.14082900</td><td>8.968084e-04</td><td>4.417769e-01</td><td> 9</td><td>Bmem     </td><td>RNF145_Bmem           </td><td>4.266491e-02</td></tr>\n",
       "\t<tr><td>⋮</td><td>⋮</td><td>⋮</td><td>⋮</td><td>⋮</td><td>⋮</td><td>⋮</td><td>⋮</td><td>⋮</td><td>⋮</td><td>⋱</td><td>⋮</td><td>⋮</td><td>⋮</td><td>⋮</td><td>⋮</td><td>⋮</td><td>⋮</td><td>⋮</td><td>⋮</td><td>⋮</td></tr>\n",
       "\t<tr><td>HLA-DQA2     </td><td> 6</td><td>HLA-DQA2     </td><td> 32709119</td><td>rs9272461 </td><td> 6</td><td> 32605609</td><td>G</td><td>A</td><td>0.797389</td><td>⋯</td><td>0.07543590</td><td>5.588626e-75</td><td> 0.1024400</td><td>0.0112133</td><td>6.506423e-20</td><td>2.803443e-04</td><td>20</td><td>NKmat </td><td>HLA-DQA2_NKmat     </td><td>4.254825e-16</td></tr>\n",
       "\t<tr><td>RNASET2      </td><td> 6</td><td>RNASET2      </td><td>167342992</td><td>rs425039  </td><td> 6</td><td>167410527</td><td>C</td><td>T</td><td>0.465184</td><td>⋯</td><td>0.01071850</td><td>4.807268e-43</td><td> 0.4283430</td><td>0.0792792</td><td>6.554582e-08</td><td>3.336506e-01</td><td>20</td><td>NKmat </td><td>RNASET2_NKmat      </td><td>1.382683e-05</td></tr>\n",
       "\t<tr><td>KDELR2       </td><td> 7</td><td>KDELR2       </td><td>  6485584</td><td>rs6796    </td><td> 7</td><td>  6502367</td><td>T</td><td>C</td><td>0.715184</td><td>⋯</td><td>0.01332450</td><td>2.865926e-53</td><td>-0.2202230</td><td>0.0608095</td><td>2.928698e-04</td><td>2.170339e-01</td><td>20</td><td>NKmat </td><td>KDELR2_NKmat       </td><td>1.779195e-02</td></tr>\n",
       "\t<tr><td>LAMB1        </td><td> 7</td><td>LAMB1        </td><td>107564244</td><td>rs2237685 </td><td> 7</td><td>107574784</td><td>G</td><td>A</td><td>0.588008</td><td>⋯</td><td>0.06196380</td><td>7.323848e-36</td><td>-0.0853361</td><td>0.0156780</td><td>5.237664e-08</td><td>1.345229e-03</td><td>20</td><td>NKmat </td><td>LAMB1_NKmat        </td><td>1.141710e-05</td></tr>\n",
       "\t<tr><td>RP11-308N19.1</td><td> 9</td><td>RP11-308N19.1</td><td>109040673</td><td>rs13290190</td><td> 9</td><td>108969941</td><td>A</td><td>G</td><td>0.744681</td><td>⋯</td><td>0.04090530</td><td>7.981591e-17</td><td>-0.1243680</td><td>0.0377390</td><td>9.824981e-04</td><td>2.138810e-01</td><td>20</td><td>NKmat </td><td>RP11-308N19.1_NKmat</td><td>4.442377e-02</td></tr>\n",
       "\t<tr><td>CISD1        </td><td>10</td><td>CISD1        </td><td> 60028818</td><td>rs1623294 </td><td>10</td><td> 59939025</td><td>A</td><td>G</td><td>0.808511</td><td>⋯</td><td>0.02098030</td><td>3.222465e-09</td><td>-0.4251980</td><td>0.1271390</td><td>8.247081e-04</td><td>4.954870e-01</td><td>20</td><td>NKmat </td><td>CISD1_NKmat        </td><td>4.054973e-02</td></tr>\n",
       "\t<tr><td>ZMIZ1        </td><td>10</td><td>ZMIZ1        </td><td> 80828792</td><td>rs1250554 </td><td>10</td><td> 81067040</td><td>C</td><td>T</td><td>0.653288</td><td>⋯</td><td>0.03704900</td><td>5.398271e-06</td><td> 0.3848370</td><td>0.1082350</td><td>3.771593e-04</td><td>9.102781e-01</td><td>17</td><td>NKmat </td><td>ZMIZ1_NKmat        </td><td>2.192359e-02</td></tr>\n",
       "\t<tr><td>FADS1        </td><td>11</td><td>FADS1        </td><td> 61567099</td><td>rs174544  </td><td>11</td><td> 61567753</td><td>C</td><td>A</td><td>0.707447</td><td>⋯</td><td>0.03334820</td><td>5.341435e-13</td><td>-0.1936770</td><td>0.0563009</td><td>5.816543e-04</td><td>9.624667e-02</td><td>20</td><td>NKmat </td><td>FADS1_NKmat        </td><td>3.143540e-02</td></tr>\n",
       "\t<tr><td>AP003774.1   </td><td>11</td><td>AP003774.1   </td><td> 64092522</td><td>rs2510066 </td><td>11</td><td> 64052447</td><td>C</td><td>T</td><td>0.624275</td><td>⋯</td><td>0.02616750</td><td>7.865036e-65</td><td> 0.1018690</td><td>0.0256442</td><td>7.114741e-05</td><td>2.786249e-01</td><td>20</td><td>NKmat </td><td>AP003774.1_NKmat   </td><td>5.605578e-03</td></tr>\n",
       "\t<tr><td>CCDC88B      </td><td>11</td><td>CCDC88B      </td><td> 64107695</td><td>rs61886926</td><td>11</td><td> 64133552</td><td>C</td><td>T</td><td>0.624275</td><td>⋯</td><td>0.01471480</td><td>5.728666e-11</td><td>-0.4390720</td><td>0.1328790</td><td>9.521665e-04</td><td>2.044358e-01</td><td>20</td><td>NKmat </td><td>CCDC88B_NKmat      </td><td>4.394846e-02</td></tr>\n",
       "\t<tr><td>ETS1         </td><td>11</td><td>ETS1         </td><td>128328656</td><td>rs61907765</td><td>11</td><td>128391937</td><td>C</td><td>T</td><td>0.800774</td><td>⋯</td><td>0.01530970</td><td>9.539384e-08</td><td>-0.6565050</td><td>0.2016690</td><td>1.132522e-03</td><td>1.615154e-01</td><td>11</td><td>NKmat </td><td>ETS1_NKmat         </td><td>4.892261e-02</td></tr>\n",
       "\t<tr><td>FES          </td><td>15</td><td>FES          </td><td> 91426925</td><td>rs2071410 </td><td>15</td><td> 91420940</td><td>C</td><td>G</td><td>0.698259</td><td>⋯</td><td>0.02537300</td><td>1.267092e-57</td><td> 0.0953059</td><td>0.0289803</td><td>1.006705e-03</td><td>8.291028e-01</td><td>20</td><td>NKmat </td><td>FES_NKmat          </td><td>4.524584e-02</td></tr>\n",
       "\t<tr><td>CCDC101      </td><td>16</td><td>CCDC101      </td><td> 28565236</td><td>rs3743963 </td><td>16</td><td> 28604686</td><td>A</td><td>G</td><td>0.472437</td><td>⋯</td><td>0.01588090</td><td>1.029287e-10</td><td> 0.5135480</td><td>0.1315410</td><td>9.457510e-05</td><td>1.486930e-01</td><td>20</td><td>NKmat </td><td>CCDC101_NKmat      </td><td>7.149902e-03</td></tr>\n",
       "\t<tr><td>TUFM         </td><td>16</td><td>TUFM         </td><td> 28853732</td><td>rs7187776 </td><td>16</td><td> 28857645</td><td>A</td><td>G</td><td>0.615571</td><td>⋯</td><td>0.00835159</td><td>3.599653e-45</td><td>-0.5411180</td><td>0.1012760</td><td>9.141922e-08</td><td>2.839089e-02</td><td>20</td><td>NKmat </td><td>TUFM_NKmat         </td><td>1.814728e-05</td></tr>\n",
       "\t<tr><td>ADCY7        </td><td>16</td><td>ADCY7        </td><td> 50280048</td><td>rs4494538 </td><td>16</td><td> 50373272</td><td>C</td><td>T</td><td>0.849130</td><td>⋯</td><td>0.01915880</td><td>5.060385e-15</td><td> 0.5443140</td><td>0.1182010</td><td>4.125156e-06</td><td>4.377181e-02</td><td>19</td><td>NKmat </td><td>ADCY7_NKmat        </td><td>5.042269e-04</td></tr>\n",
       "\t<tr><td>BRD7         </td><td>16</td><td>BRD7         </td><td> 50347398</td><td>rs4494538 </td><td>16</td><td> 50373272</td><td>C</td><td>T</td><td>0.849130</td><td>⋯</td><td>0.03350850</td><td>3.248298e-18</td><td> 0.2798510</td><td>0.0587230</td><td>1.882749e-06</td><td>4.790549e-02</td><td>19</td><td>NKmat </td><td>BRD7_NKmat         </td><td>2.438038e-04</td></tr>\n",
       "\t<tr><td>ZFP90        </td><td>16</td><td>ZFP90        </td><td> 68563993</td><td>rs698718  </td><td>16</td><td> 68560185</td><td>A</td><td>G</td><td>0.229207</td><td>⋯</td><td>0.03151840</td><td>2.440177e-27</td><td>-0.1742400</td><td>0.0404377</td><td>1.641069e-05</td><td>9.486059e-01</td><td>20</td><td>NKmat </td><td>ZFP90_NKmat        </td><td>1.578183e-03</td></tr>\n",
       "\t<tr><td>PNMT         </td><td>17</td><td>PNMT         </td><td> 37824234</td><td>rs7359623 </td><td>17</td><td> 38049589</td><td>C</td><td>T</td><td>0.496132</td><td>⋯</td><td>0.07660420</td><td>4.688187e-05</td><td> 0.2727220</td><td>0.0753237</td><td>2.938380e-04</td><td>5.763186e-01</td><td>11</td><td>NKmat </td><td>PNMT_NKmat         </td><td>1.779195e-02</td></tr>\n",
       "\t<tr><td>GSDMB        </td><td>17</td><td>GSDMB        </td><td> 38060848</td><td>rs12453507</td><td>17</td><td> 38053207</td><td>C</td><td>G</td><td>0.501934</td><td>⋯</td><td>0.04178040</td><td>3.874105e-08</td><td> 0.3609730</td><td>0.0806149</td><td>7.543666e-06</td><td>3.345595e-01</td><td>20</td><td>NKmat </td><td>GSDMB_NKmat        </td><td>8.432687e-04</td></tr>\n",
       "\t<tr><td>ORMDL3       </td><td>17</td><td>ORMDL3       </td><td> 38077294</td><td>rs8074437 </td><td>17</td><td> 38076137</td><td>T</td><td>G</td><td>0.514023</td><td>⋯</td><td>0.01684250</td><td>3.658765e-75</td><td> 0.1891970</td><td>0.0363023</td><td>1.870997e-07</td><td>2.054727e-07</td><td>20</td><td>NKmat </td><td>ORMDL3_NKmat       </td><td>3.262731e-05</td></tr>\n",
       "\t<tr><td>STMN3        </td><td>20</td><td>STMN3        </td><td> 62271061</td><td>rs6062980 </td><td>20</td><td> 62263128</td><td>G</td><td>A</td><td>0.432302</td><td>⋯</td><td>0.02067040</td><td>4.774382e-06</td><td>-0.7013050</td><td>0.1915440</td><td>2.509195e-04</td><td>1.236526e-01</td><td>20</td><td>NKmat </td><td>STMN3_NKmat        </td><td>1.593076e-02</td></tr>\n",
       "\t<tr><td>UBE2L3       </td><td>22</td><td>UBE2L3       </td><td> 21903736</td><td>rs4820091 </td><td>22</td><td> 21940189</td><td>T</td><td>G</td><td>0.820600</td><td>⋯</td><td>0.00870445</td><td>4.203846e-15</td><td> 1.2636400</td><td>0.2566890</td><td>8.528527e-07</td><td>3.184572e-01</td><td>12</td><td>NKmat </td><td>UBE2L3_NKmat       </td><td>1.212427e-04</td></tr>\n",
       "\t<tr><td>TSPO         </td><td>22</td><td>TSPO         </td><td> 43547520</td><td>rs138910  </td><td>22</td><td> 43550055</td><td>T</td><td>C</td><td>0.258704</td><td>⋯</td><td>0.01011390</td><td>2.607115e-28</td><td> 0.3863010</td><td>0.1133260</td><td>6.526293e-04</td><td>3.557425e-01</td><td>20</td><td>NKmat </td><td>TSPO_NKmat         </td><td>3.415572e-02</td></tr>\n",
       "\t<tr><td>ERAP2        </td><td> 5</td><td>ERAP2        </td><td> 96211643</td><td>rs1046396 </td><td> 5</td><td> 96273187</td><td>G</td><td>A</td><td>0.570116</td><td>⋯</td><td>0.07896360</td><td>1.620691e-13</td><td>-0.1018920</td><td>0.0232297</td><td>1.153129e-05</td><td>1.074208e-02</td><td>20</td><td>Plasma</td><td>ERAP2_Plasma       </td><td>1.169116e-03</td></tr>\n",
       "\t<tr><td>HLA-B        </td><td> 6</td><td>HLA-B        </td><td> 31321649</td><td>rs9378247 </td><td> 6</td><td> 31321425</td><td>G</td><td>A</td><td>0.806093</td><td>⋯</td><td>0.03436170</td><td>2.249657e-24</td><td> 0.1302100</td><td>0.0385295</td><td>7.261951e-04</td><td>8.308257e-04</td><td>20</td><td>Plasma</td><td>HLA-B_Plasma       </td><td>3.710075e-02</td></tr>\n",
       "\t<tr><td>HLA-DRB5     </td><td> 6</td><td>HLA-DRB5     </td><td> 32485120</td><td>rs28366319</td><td> 6</td><td> 32561495</td><td>G</td><td>A</td><td>0.653288</td><td>⋯</td><td>0.07136870</td><td>1.354828e-56</td><td> 0.1040740</td><td>0.0120650</td><td>6.347201e-18</td><td>2.898390e-12</td><td>20</td><td>Plasma</td><td>HLA-DRB5_Plasma    </td><td>6.917838e-15</td></tr>\n",
       "\t<tr><td>HLA-DQA1     </td><td> 6</td><td>HLA-DQA1     </td><td> 32595956</td><td>rs646984  </td><td> 6</td><td> 32576592</td><td>A</td><td>C</td><td>0.579304</td><td>⋯</td><td>0.05357410</td><td>1.679753e-17</td><td> 0.1749010</td><td>0.0317971</td><td>3.786771e-08</td><td>4.408738e-05</td><td>20</td><td>Plasma</td><td>HLA-DQA1_Plasma    </td><td>8.844034e-06</td></tr>\n",
       "\t<tr><td>HLA-DQB1     </td><td> 6</td><td>HLA-DQB1     </td><td> 32627244</td><td>rs1049055 </td><td> 6</td><td> 32634387</td><td>C</td><td>T</td><td>0.235493</td><td>⋯</td><td>0.07172140</td><td>3.240232e-17</td><td>-0.0818750</td><td>0.0230162</td><td>3.747241e-04</td><td>1.139766e-07</td><td>20</td><td>Plasma</td><td>HLA-DQB1_Plasma    </td><td>2.192359e-02</td></tr>\n",
       "\t<tr><td>HLA-DQA2     </td><td> 6</td><td>HLA-DQA2     </td><td> 32709119</td><td>rs9272461 </td><td> 6</td><td> 32605609</td><td>G</td><td>A</td><td>0.797389</td><td>⋯</td><td>0.09831070</td><td>2.424923e-58</td><td> 0.0894326</td><td>0.0101415</td><td>1.160630e-18</td><td>5.269487e-04</td><td>20</td><td>Plasma</td><td>HLA-DQA2_Plasma    </td><td>2.020142e-15</td></tr>\n",
       "\t<tr><td>KDELR2       </td><td> 7</td><td>KDELR2       </td><td>  6485584</td><td>rs6796    </td><td> 7</td><td>  6502367</td><td>T</td><td>C</td><td>0.715184</td><td>⋯</td><td>0.02919280</td><td>1.724696e-11</td><td>-0.2295480</td><td>0.0704169</td><td>1.114735e-03</td><td>5.495187e-01</td><td>19</td><td>Plasma</td><td>KDELR2_Plasma      </td><td>4.892261e-02</td></tr>\n",
       "</tbody>\n",
       "</table>\n"
      ],
      "text/latex": [
       "A data.table: 304 × 24\n",
       "\\begin{tabular}{lllllllllllllllllllll}\n",
       " probeID & ProbeChr & Gene & Probe\\_bp & topSNP & topSNP\\_chr & topSNP\\_bp & A1 & A2 & Freq & ⋯ & se\\_eQTL & p\\_eQTL & b\\_SMR & se\\_SMR & p\\_SMR & p\\_HEIDI & nsnp\\_HEIDI & Cell\\_type & comb & qv\\\\\n",
       " <chr> & <int> & <chr> & <int> & <chr> & <int> & <int> & <chr> & <chr> & <dbl> & ⋯ & <dbl> & <dbl> & <dbl> & <dbl> & <dbl> & <dbl> & <int> & <chr> & <chr> & <dbl>\\\\\n",
       "\\hline\n",
       "\t LY9          &  1 & LY9          & 160765864 & rs7412696   &  1 & 160828976 & G & T & 0.792070 & ⋯ & 0.0343060 & 1.121082e-07 & -0.3047730 & 0.09295680 & 1.043041e-03 & 4.127029e-01 & 16 & BimmNaive & LY9\\_BimmNaive          & 4.640058e-02\\\\\n",
       "\t FCGR2B       &  1 & FCGR2B       & 161551101 & rs140315354 &  1 & 161617673 & G & A & 0.934720 & ⋯ & 0.0349359 & 8.175889e-07 & -0.5566150 & 0.15881300 & 4.568856e-04 & 9.639709e-02 & 18 & BimmNaive & FCGR2B\\_BimmNaive       & 2.575662e-02\\\\\n",
       "\t AC010883.5   &  2 & AC010883.5   &  43456712 & rs4372955   &  2 &  43566146 & A & G & 0.869923 & ⋯ & 0.0902127 & 4.507045e-09 & -0.1179020 & 0.03626890 & 1.150947e-03 & 2.060657e-02 & 20 & BimmNaive & AC010883.5\\_BimmNaive   & 4.951664e-02\\\\\n",
       "\t KIAA1841     &  2 & KIAA1841     &  61293006 & rs6727926   &  2 &  61240536 & A & T & 0.796422 & ⋯ & 0.0890220 & 6.535369e-12 & -0.1099680 & 0.02628160 & 2.861393e-05 & 8.850827e-02 & 20 & BimmNaive & KIAA1841\\_BimmNaive     & 2.563268e-03\\\\\n",
       "\t RBM6         &  3 & RBM6         &  49977440 & rs7613875   &  3 &  49971514 & C & A & 0.448743 & ⋯ & 0.0147394 & 4.663713e-15 & -0.4799370 & 0.11146500 & 1.664278e-05 & 5.805934e-03 & 20 & BimmNaive & RBM6\\_BimmNaive         & 1.588820e-03\\\\\n",
       "\t ERAP2        &  5 & ERAP2        &  96211643 & rs27295     &  5 &  96358687 & C & T & 0.431335 & ⋯ & 0.0218618 & 9.580355e-47 & -0.1840280 & 0.03696720 & 6.419558e-07 & 6.248309e-02 & 20 & BimmNaive & ERAP2\\_BimmNaive        & 9.650621e-05\\\\\n",
       "\t LST1         &  6 & LST1         &  31553901 & rs2256965   &  6 &  31555130 & A & G & 0.405706 & ⋯ & 0.0250259 & 4.159973e-16 & -0.3190970 & 0.06625470 & 1.463083e-06 & 9.578130e-02 & 14 & BimmNaive & LST1\\_BimmNaive         & 1.993275e-04\\\\\n",
       "\t HCG23        &  6 & HCG23        &  32358287 & rs9271548   &  6 &  32590234 & A & T & 0.338008 & ⋯ & 0.1046600 & 4.461682e-06 &  0.2119130 & 0.05182630 & 4.334293e-05 & 3.220945e-01 & 16 & BimmNaive & HCG23\\_BimmNaive        & 3.587819e-03\\\\\n",
       "\t HLA-DRB5     &  6 & HLA-DRB5     &  32485120 & rs9271699   &  6 &  32593179 & A & G & 0.524178 & ⋯ & 0.0559168 & 1.162295e-96 &  0.0414326 & 0.00942401 & 1.100153e-05 & 8.616021e-13 & 20 & BimmNaive & HLA-DRB5\\_BimmNaive     & 1.151098e-03\\\\\n",
       "\t HLA-DQA1     &  6 & HLA-DQA1     &  32595956 & rs9272546   &  6 &  32606941 & T & C & 0.336074 & ⋯ & 0.0139083 & 2.408243e-45 &  0.4690740 & 0.06514700 & 6.010586e-13 & 3.898305e-10 & 20 & BimmNaive & HLA-DQA1\\_BimmNaive     & 3.417892e-10\\\\\n",
       "\t HLA-DQB1     &  6 & HLA-DQB1     &  32627244 & rs9274660   &  6 &  32636434 & A & G & 0.394584 & ⋯ & 0.0146328 & 3.180543e-58 & -0.3397790 & 0.05138470 & 3.780030e-11 & 3.378640e-09 & 20 & BimmNaive & HLA-DQB1\\_BimmNaive     & 1.544951e-08\\\\\n",
       "\t HLA-DQA2     &  6 & HLA-DQA2     &  32709119 & rs9272319   &  6 &  32604108 & T & C & 0.653288 & ⋯ & 0.0724199 & 2.105526e-94 &  0.0763340 & 0.00850834 & 2.920490e-19 & 1.322820e-06 & 20 & BimmNaive & HLA-DQA2\\_BimmNaive     & 9.753852e-16\\\\\n",
       "\t HLA-DQB2     &  6 & HLA-DQB2     &  32723875 & rs17612858  &  6 &  32620622 & A & T & 0.395551 & ⋯ & 0.0546637 & 8.199010e-50 &  0.1006890 & 0.01503450 & 2.124938e-11 & 3.754812e-14 & 20 & BimmNaive & HLA-DQB2\\_BimmNaive     & 9.583357e-09\\\\\n",
       "\t KDELR2       &  7 & KDELR2       &   6485584 & rs6796      &  7 &   6502367 & T & C & 0.715184 & ⋯ & 0.0235495 & 2.168689e-20 & -0.2068780 & 0.05984720 & 5.467027e-04 & 3.360915e-01 & 20 & BimmNaive & KDELR2\\_BimmNaive       & 2.991732e-02\\\\\n",
       "\t LAMB1        &  7 & LAMB1        & 107564244 & rs1131398   &  7 & 107569517 & A & G & 0.584623 & ⋯ & 0.0728718 & 4.439280e-32 & -0.0799570 & 0.01437920 & 2.688348e-08 & 9.969587e-03 & 20 & BimmNaive & LAMB1\\_BimmNaive        & 6.511201e-06\\\\\n",
       "\t AP003774.1   & 11 & AP003774.1   &  64092522 & rs646153    & 11 &  64089588 & C & T & 0.624275 & ⋯ & 0.0375746 & 6.251950e-24 &  0.1141680 & 0.03136530 & 2.726918e-04 & 1.441368e-01 & 20 & BimmNaive & AP003774.1\\_BimmNaive   & 1.690281e-02\\\\\n",
       "\t ZFP36L1      & 14 & ZFP36L1      &  69254377 & rs12435329  & 14 &  69250891 & T & C & 0.530948 & ⋯ & 0.0102699 & 4.299632e-10 &  0.6546240 & 0.19796400 & 9.437427e-04 & 5.309888e-03 & 20 & BimmNaive & ZFP36L1\\_BimmNaive      & 4.392550e-02\\\\\n",
       "\t RP11-485G7.5 & 16 & RP11-485G7.5 &  11435666 & rs367569    & 16 &  11365500 & C & T & 0.708414 & ⋯ & 0.1258180 & 1.519640e-06 &  0.0897385 & 0.02703580 & 9.026021e-04 & 1.451220e-01 & 20 & BimmNaive & RP11-485G7.5\\_BimmNaive & 4.266491e-02\\\\\n",
       "\t CCDC101      & 16 & CCDC101      &  28565236 & rs3743963   & 16 &  28604686 & A & G & 0.472437 & ⋯ & 0.0248000 & 3.211693e-11 &  0.3202360 & 0.08124760 & 8.097793e-05 & 4.946542e-02 & 20 & BimmNaive & CCDC101\\_BimmNaive      & 6.229987e-03\\\\\n",
       "\t TUFM         & 16 & TUFM         &  28853732 & rs7187776   & 16 &  28857645 & A & G & 0.615571 & ⋯ & 0.0147337 & 3.420663e-67 & -0.2497920 & 0.04560750 & 4.325910e-08 & 2.498464e-02 & 20 & BimmNaive & TUFM\\_BimmNaive         & 9.589476e-06\\\\\n",
       "\t BRD7         & 16 & BRD7         &  50347398 & rs4494538   & 16 &  50373272 & C & T & 0.849130 & ⋯ & 0.0416973 & 4.464791e-08 &  0.3576980 & 0.09065460 & 7.955820e-05 & 3.214217e-01 & 11 & BimmNaive & BRD7\\_BimmNaive         & 6.156978e-03\\\\\n",
       "\t GSDMB        & 17 & GSDMB        &  38060848 & rs35222145  & 17 &  38007321 & T & G & 0.523694 & ⋯ & 0.0605566 & 2.310671e-06 &  0.2447360 & 0.06430790 & 1.414082e-04 & 4.081525e-01 & 20 & BimmNaive & GSDMB\\_BimmNaive        & 1.010632e-02\\\\\n",
       "\t ORMDL3       & 17 & ORMDL3       &  38077294 & rs8067378   & 17 &  38051348 & A & G & 0.491779 & ⋯ & 0.0244203 & 1.576034e-50 &  0.2259170 & 0.03306230 & 8.311311e-12 & 1.492448e-01 & 20 & BimmNaive & ORMDL3\\_BimmNaive       & 4.180860e-09\\\\\n",
       "\t HELZ2        & 20 & HELZ2        &  62189439 & rs3810488   & 20 &  62196182 & G & C & 0.796422 & ⋯ & 0.0339838 & 1.805083e-06 & -0.4443310 & 0.12528200 & 3.901678e-04 & 1.963238e-03 & 20 & BimmNaive & HELZ2\\_BimmNaive        & 2.247993e-02\\\\\n",
       "\t STMN3        & 20 & STMN3        &  62271061 & rs879471    & 20 &  62269942 & C & T & 0.461799 & ⋯ & 0.0188253 & 4.007546e-09 & -0.4937760 & 0.12875100 & 1.255036e-04 & 4.706598e-02 & 20 & BimmNaive & STMN3\\_BimmNaive        & 9.273684e-03\\\\\n",
       "\t SYNGR1       & 22 & SYNGR1       &  39745930 & rs2049985   & 22 &  39756650 & G & C & 0.790135 & ⋯ & 0.0582994 & 4.001273e-11 & -0.1534770 & 0.04073580 & 1.648098e-04 & 9.815688e-02 & 20 & BimmNaive & SYNGR1\\_BimmNaive       & 1.134485e-02\\\\\n",
       "\t AC010883.5   &  2 & AC010883.5   &  43456712 & rs10203499  &  2 &  43466619 & A & C & 0.874275 & ⋯ & 0.1004120 & 5.948368e-06 & -0.1730110 & 0.05246870 & 9.757731e-04 & 7.060062e-01 & 16 & Bmem      & AC010883.5\\_Bmem        & 4.431245e-02\\\\\n",
       "\t MAP4K4       &  2 & MAP4K4       & 102313312 & rs11693204  &  2 & 102935974 & G & A & 0.702128 & ⋯ & 0.0280159 & 2.411498e-06 &  0.4518360 & 0.13210000 & 6.252964e-04 & 6.482848e-01 & 13 & Bmem      & MAP4K4\\_Bmem            & 3.324453e-02\\\\\n",
       "\t ERAP2        &  5 & ERAP2        &  96211643 & rs27998     &  5 &  96367408 & G & A & 0.428917 & ⋯ & 0.0244375 & 7.455040e-54 & -0.1512860 & 0.03044210 & 6.708265e-07 & 7.675835e-02 & 20 & Bmem      & ERAP2\\_Bmem             & 9.970041e-05\\\\\n",
       "\t RNF145       &  5 & RNF145       & 158584417 & rs270654    &  5 & 158565109 & T & C & 0.896518 & ⋯ & 0.0357719 & 1.686598e-06 &  0.4677010 & 0.14082900 & 8.968084e-04 & 4.417769e-01 &  9 & Bmem      & RNF145\\_Bmem            & 4.266491e-02\\\\\n",
       "\t ⋮ & ⋮ & ⋮ & ⋮ & ⋮ & ⋮ & ⋮ & ⋮ & ⋮ & ⋮ & ⋱ & ⋮ & ⋮ & ⋮ & ⋮ & ⋮ & ⋮ & ⋮ & ⋮ & ⋮ & ⋮\\\\\n",
       "\t HLA-DQA2      &  6 & HLA-DQA2      &  32709119 & rs9272461  &  6 &  32605609 & G & A & 0.797389 & ⋯ & 0.07543590 & 5.588626e-75 &  0.1024400 & 0.0112133 & 6.506423e-20 & 2.803443e-04 & 20 & NKmat  & HLA-DQA2\\_NKmat      & 4.254825e-16\\\\\n",
       "\t RNASET2       &  6 & RNASET2       & 167342992 & rs425039   &  6 & 167410527 & C & T & 0.465184 & ⋯ & 0.01071850 & 4.807268e-43 &  0.4283430 & 0.0792792 & 6.554582e-08 & 3.336506e-01 & 20 & NKmat  & RNASET2\\_NKmat       & 1.382683e-05\\\\\n",
       "\t KDELR2        &  7 & KDELR2        &   6485584 & rs6796     &  7 &   6502367 & T & C & 0.715184 & ⋯ & 0.01332450 & 2.865926e-53 & -0.2202230 & 0.0608095 & 2.928698e-04 & 2.170339e-01 & 20 & NKmat  & KDELR2\\_NKmat        & 1.779195e-02\\\\\n",
       "\t LAMB1         &  7 & LAMB1         & 107564244 & rs2237685  &  7 & 107574784 & G & A & 0.588008 & ⋯ & 0.06196380 & 7.323848e-36 & -0.0853361 & 0.0156780 & 5.237664e-08 & 1.345229e-03 & 20 & NKmat  & LAMB1\\_NKmat         & 1.141710e-05\\\\\n",
       "\t RP11-308N19.1 &  9 & RP11-308N19.1 & 109040673 & rs13290190 &  9 & 108969941 & A & G & 0.744681 & ⋯ & 0.04090530 & 7.981591e-17 & -0.1243680 & 0.0377390 & 9.824981e-04 & 2.138810e-01 & 20 & NKmat  & RP11-308N19.1\\_NKmat & 4.442377e-02\\\\\n",
       "\t CISD1         & 10 & CISD1         &  60028818 & rs1623294  & 10 &  59939025 & A & G & 0.808511 & ⋯ & 0.02098030 & 3.222465e-09 & -0.4251980 & 0.1271390 & 8.247081e-04 & 4.954870e-01 & 20 & NKmat  & CISD1\\_NKmat         & 4.054973e-02\\\\\n",
       "\t ZMIZ1         & 10 & ZMIZ1         &  80828792 & rs1250554  & 10 &  81067040 & C & T & 0.653288 & ⋯ & 0.03704900 & 5.398271e-06 &  0.3848370 & 0.1082350 & 3.771593e-04 & 9.102781e-01 & 17 & NKmat  & ZMIZ1\\_NKmat         & 2.192359e-02\\\\\n",
       "\t FADS1         & 11 & FADS1         &  61567099 & rs174544   & 11 &  61567753 & C & A & 0.707447 & ⋯ & 0.03334820 & 5.341435e-13 & -0.1936770 & 0.0563009 & 5.816543e-04 & 9.624667e-02 & 20 & NKmat  & FADS1\\_NKmat         & 3.143540e-02\\\\\n",
       "\t AP003774.1    & 11 & AP003774.1    &  64092522 & rs2510066  & 11 &  64052447 & C & T & 0.624275 & ⋯ & 0.02616750 & 7.865036e-65 &  0.1018690 & 0.0256442 & 7.114741e-05 & 2.786249e-01 & 20 & NKmat  & AP003774.1\\_NKmat    & 5.605578e-03\\\\\n",
       "\t CCDC88B       & 11 & CCDC88B       &  64107695 & rs61886926 & 11 &  64133552 & C & T & 0.624275 & ⋯ & 0.01471480 & 5.728666e-11 & -0.4390720 & 0.1328790 & 9.521665e-04 & 2.044358e-01 & 20 & NKmat  & CCDC88B\\_NKmat       & 4.394846e-02\\\\\n",
       "\t ETS1          & 11 & ETS1          & 128328656 & rs61907765 & 11 & 128391937 & C & T & 0.800774 & ⋯ & 0.01530970 & 9.539384e-08 & -0.6565050 & 0.2016690 & 1.132522e-03 & 1.615154e-01 & 11 & NKmat  & ETS1\\_NKmat          & 4.892261e-02\\\\\n",
       "\t FES           & 15 & FES           &  91426925 & rs2071410  & 15 &  91420940 & C & G & 0.698259 & ⋯ & 0.02537300 & 1.267092e-57 &  0.0953059 & 0.0289803 & 1.006705e-03 & 8.291028e-01 & 20 & NKmat  & FES\\_NKmat           & 4.524584e-02\\\\\n",
       "\t CCDC101       & 16 & CCDC101       &  28565236 & rs3743963  & 16 &  28604686 & A & G & 0.472437 & ⋯ & 0.01588090 & 1.029287e-10 &  0.5135480 & 0.1315410 & 9.457510e-05 & 1.486930e-01 & 20 & NKmat  & CCDC101\\_NKmat       & 7.149902e-03\\\\\n",
       "\t TUFM          & 16 & TUFM          &  28853732 & rs7187776  & 16 &  28857645 & A & G & 0.615571 & ⋯ & 0.00835159 & 3.599653e-45 & -0.5411180 & 0.1012760 & 9.141922e-08 & 2.839089e-02 & 20 & NKmat  & TUFM\\_NKmat          & 1.814728e-05\\\\\n",
       "\t ADCY7         & 16 & ADCY7         &  50280048 & rs4494538  & 16 &  50373272 & C & T & 0.849130 & ⋯ & 0.01915880 & 5.060385e-15 &  0.5443140 & 0.1182010 & 4.125156e-06 & 4.377181e-02 & 19 & NKmat  & ADCY7\\_NKmat         & 5.042269e-04\\\\\n",
       "\t BRD7          & 16 & BRD7          &  50347398 & rs4494538  & 16 &  50373272 & C & T & 0.849130 & ⋯ & 0.03350850 & 3.248298e-18 &  0.2798510 & 0.0587230 & 1.882749e-06 & 4.790549e-02 & 19 & NKmat  & BRD7\\_NKmat          & 2.438038e-04\\\\\n",
       "\t ZFP90         & 16 & ZFP90         &  68563993 & rs698718   & 16 &  68560185 & A & G & 0.229207 & ⋯ & 0.03151840 & 2.440177e-27 & -0.1742400 & 0.0404377 & 1.641069e-05 & 9.486059e-01 & 20 & NKmat  & ZFP90\\_NKmat         & 1.578183e-03\\\\\n",
       "\t PNMT          & 17 & PNMT          &  37824234 & rs7359623  & 17 &  38049589 & C & T & 0.496132 & ⋯ & 0.07660420 & 4.688187e-05 &  0.2727220 & 0.0753237 & 2.938380e-04 & 5.763186e-01 & 11 & NKmat  & PNMT\\_NKmat          & 1.779195e-02\\\\\n",
       "\t GSDMB         & 17 & GSDMB         &  38060848 & rs12453507 & 17 &  38053207 & C & G & 0.501934 & ⋯ & 0.04178040 & 3.874105e-08 &  0.3609730 & 0.0806149 & 7.543666e-06 & 3.345595e-01 & 20 & NKmat  & GSDMB\\_NKmat         & 8.432687e-04\\\\\n",
       "\t ORMDL3        & 17 & ORMDL3        &  38077294 & rs8074437  & 17 &  38076137 & T & G & 0.514023 & ⋯ & 0.01684250 & 3.658765e-75 &  0.1891970 & 0.0363023 & 1.870997e-07 & 2.054727e-07 & 20 & NKmat  & ORMDL3\\_NKmat        & 3.262731e-05\\\\\n",
       "\t STMN3         & 20 & STMN3         &  62271061 & rs6062980  & 20 &  62263128 & G & A & 0.432302 & ⋯ & 0.02067040 & 4.774382e-06 & -0.7013050 & 0.1915440 & 2.509195e-04 & 1.236526e-01 & 20 & NKmat  & STMN3\\_NKmat         & 1.593076e-02\\\\\n",
       "\t UBE2L3        & 22 & UBE2L3        &  21903736 & rs4820091  & 22 &  21940189 & T & G & 0.820600 & ⋯ & 0.00870445 & 4.203846e-15 &  1.2636400 & 0.2566890 & 8.528527e-07 & 3.184572e-01 & 12 & NKmat  & UBE2L3\\_NKmat        & 1.212427e-04\\\\\n",
       "\t TSPO          & 22 & TSPO          &  43547520 & rs138910   & 22 &  43550055 & T & C & 0.258704 & ⋯ & 0.01011390 & 2.607115e-28 &  0.3863010 & 0.1133260 & 6.526293e-04 & 3.557425e-01 & 20 & NKmat  & TSPO\\_NKmat          & 3.415572e-02\\\\\n",
       "\t ERAP2         &  5 & ERAP2         &  96211643 & rs1046396  &  5 &  96273187 & G & A & 0.570116 & ⋯ & 0.07896360 & 1.620691e-13 & -0.1018920 & 0.0232297 & 1.153129e-05 & 1.074208e-02 & 20 & Plasma & ERAP2\\_Plasma        & 1.169116e-03\\\\\n",
       "\t HLA-B         &  6 & HLA-B         &  31321649 & rs9378247  &  6 &  31321425 & G & A & 0.806093 & ⋯ & 0.03436170 & 2.249657e-24 &  0.1302100 & 0.0385295 & 7.261951e-04 & 8.308257e-04 & 20 & Plasma & HLA-B\\_Plasma        & 3.710075e-02\\\\\n",
       "\t HLA-DRB5      &  6 & HLA-DRB5      &  32485120 & rs28366319 &  6 &  32561495 & G & A & 0.653288 & ⋯ & 0.07136870 & 1.354828e-56 &  0.1040740 & 0.0120650 & 6.347201e-18 & 2.898390e-12 & 20 & Plasma & HLA-DRB5\\_Plasma     & 6.917838e-15\\\\\n",
       "\t HLA-DQA1      &  6 & HLA-DQA1      &  32595956 & rs646984   &  6 &  32576592 & A & C & 0.579304 & ⋯ & 0.05357410 & 1.679753e-17 &  0.1749010 & 0.0317971 & 3.786771e-08 & 4.408738e-05 & 20 & Plasma & HLA-DQA1\\_Plasma     & 8.844034e-06\\\\\n",
       "\t HLA-DQB1      &  6 & HLA-DQB1      &  32627244 & rs1049055  &  6 &  32634387 & C & T & 0.235493 & ⋯ & 0.07172140 & 3.240232e-17 & -0.0818750 & 0.0230162 & 3.747241e-04 & 1.139766e-07 & 20 & Plasma & HLA-DQB1\\_Plasma     & 2.192359e-02\\\\\n",
       "\t HLA-DQA2      &  6 & HLA-DQA2      &  32709119 & rs9272461  &  6 &  32605609 & G & A & 0.797389 & ⋯ & 0.09831070 & 2.424923e-58 &  0.0894326 & 0.0101415 & 1.160630e-18 & 5.269487e-04 & 20 & Plasma & HLA-DQA2\\_Plasma     & 2.020142e-15\\\\\n",
       "\t KDELR2        &  7 & KDELR2        &   6485584 & rs6796     &  7 &   6502367 & T & C & 0.715184 & ⋯ & 0.02919280 & 1.724696e-11 & -0.2295480 & 0.0704169 & 1.114735e-03 & 5.495187e-01 & 19 & Plasma & KDELR2\\_Plasma       & 4.892261e-02\\\\\n",
       "\\end{tabular}\n"
      ],
      "text/markdown": [
       "\n",
       "A data.table: 304 × 24\n",
       "\n",
       "| probeID &lt;chr&gt; | ProbeChr &lt;int&gt; | Gene &lt;chr&gt; | Probe_bp &lt;int&gt; | topSNP &lt;chr&gt; | topSNP_chr &lt;int&gt; | topSNP_bp &lt;int&gt; | A1 &lt;chr&gt; | A2 &lt;chr&gt; | Freq &lt;dbl&gt; | ⋯ ⋯ | se_eQTL &lt;dbl&gt; | p_eQTL &lt;dbl&gt; | b_SMR &lt;dbl&gt; | se_SMR &lt;dbl&gt; | p_SMR &lt;dbl&gt; | p_HEIDI &lt;dbl&gt; | nsnp_HEIDI &lt;int&gt; | Cell_type &lt;chr&gt; | comb &lt;chr&gt; | qv &lt;dbl&gt; |\n",
       "|---|---|---|---|---|---|---|---|---|---|---|---|---|---|---|---|---|---|---|---|---|\n",
       "| LY9          |  1 | LY9          | 160765864 | rs7412696   |  1 | 160828976 | G | T | 0.792070 | ⋯ | 0.0343060 | 1.121082e-07 | -0.3047730 | 0.09295680 | 1.043041e-03 | 4.127029e-01 | 16 | BimmNaive | LY9_BimmNaive          | 4.640058e-02 |\n",
       "| FCGR2B       |  1 | FCGR2B       | 161551101 | rs140315354 |  1 | 161617673 | G | A | 0.934720 | ⋯ | 0.0349359 | 8.175889e-07 | -0.5566150 | 0.15881300 | 4.568856e-04 | 9.639709e-02 | 18 | BimmNaive | FCGR2B_BimmNaive       | 2.575662e-02 |\n",
       "| AC010883.5   |  2 | AC010883.5   |  43456712 | rs4372955   |  2 |  43566146 | A | G | 0.869923 | ⋯ | 0.0902127 | 4.507045e-09 | -0.1179020 | 0.03626890 | 1.150947e-03 | 2.060657e-02 | 20 | BimmNaive | AC010883.5_BimmNaive   | 4.951664e-02 |\n",
       "| KIAA1841     |  2 | KIAA1841     |  61293006 | rs6727926   |  2 |  61240536 | A | T | 0.796422 | ⋯ | 0.0890220 | 6.535369e-12 | -0.1099680 | 0.02628160 | 2.861393e-05 | 8.850827e-02 | 20 | BimmNaive | KIAA1841_BimmNaive     | 2.563268e-03 |\n",
       "| RBM6         |  3 | RBM6         |  49977440 | rs7613875   |  3 |  49971514 | C | A | 0.448743 | ⋯ | 0.0147394 | 4.663713e-15 | -0.4799370 | 0.11146500 | 1.664278e-05 | 5.805934e-03 | 20 | BimmNaive | RBM6_BimmNaive         | 1.588820e-03 |\n",
       "| ERAP2        |  5 | ERAP2        |  96211643 | rs27295     |  5 |  96358687 | C | T | 0.431335 | ⋯ | 0.0218618 | 9.580355e-47 | -0.1840280 | 0.03696720 | 6.419558e-07 | 6.248309e-02 | 20 | BimmNaive | ERAP2_BimmNaive        | 9.650621e-05 |\n",
       "| LST1         |  6 | LST1         |  31553901 | rs2256965   |  6 |  31555130 | A | G | 0.405706 | ⋯ | 0.0250259 | 4.159973e-16 | -0.3190970 | 0.06625470 | 1.463083e-06 | 9.578130e-02 | 14 | BimmNaive | LST1_BimmNaive         | 1.993275e-04 |\n",
       "| HCG23        |  6 | HCG23        |  32358287 | rs9271548   |  6 |  32590234 | A | T | 0.338008 | ⋯ | 0.1046600 | 4.461682e-06 |  0.2119130 | 0.05182630 | 4.334293e-05 | 3.220945e-01 | 16 | BimmNaive | HCG23_BimmNaive        | 3.587819e-03 |\n",
       "| HLA-DRB5     |  6 | HLA-DRB5     |  32485120 | rs9271699   |  6 |  32593179 | A | G | 0.524178 | ⋯ | 0.0559168 | 1.162295e-96 |  0.0414326 | 0.00942401 | 1.100153e-05 | 8.616021e-13 | 20 | BimmNaive | HLA-DRB5_BimmNaive     | 1.151098e-03 |\n",
       "| HLA-DQA1     |  6 | HLA-DQA1     |  32595956 | rs9272546   |  6 |  32606941 | T | C | 0.336074 | ⋯ | 0.0139083 | 2.408243e-45 |  0.4690740 | 0.06514700 | 6.010586e-13 | 3.898305e-10 | 20 | BimmNaive | HLA-DQA1_BimmNaive     | 3.417892e-10 |\n",
       "| HLA-DQB1     |  6 | HLA-DQB1     |  32627244 | rs9274660   |  6 |  32636434 | A | G | 0.394584 | ⋯ | 0.0146328 | 3.180543e-58 | -0.3397790 | 0.05138470 | 3.780030e-11 | 3.378640e-09 | 20 | BimmNaive | HLA-DQB1_BimmNaive     | 1.544951e-08 |\n",
       "| HLA-DQA2     |  6 | HLA-DQA2     |  32709119 | rs9272319   |  6 |  32604108 | T | C | 0.653288 | ⋯ | 0.0724199 | 2.105526e-94 |  0.0763340 | 0.00850834 | 2.920490e-19 | 1.322820e-06 | 20 | BimmNaive | HLA-DQA2_BimmNaive     | 9.753852e-16 |\n",
       "| HLA-DQB2     |  6 | HLA-DQB2     |  32723875 | rs17612858  |  6 |  32620622 | A | T | 0.395551 | ⋯ | 0.0546637 | 8.199010e-50 |  0.1006890 | 0.01503450 | 2.124938e-11 | 3.754812e-14 | 20 | BimmNaive | HLA-DQB2_BimmNaive     | 9.583357e-09 |\n",
       "| KDELR2       |  7 | KDELR2       |   6485584 | rs6796      |  7 |   6502367 | T | C | 0.715184 | ⋯ | 0.0235495 | 2.168689e-20 | -0.2068780 | 0.05984720 | 5.467027e-04 | 3.360915e-01 | 20 | BimmNaive | KDELR2_BimmNaive       | 2.991732e-02 |\n",
       "| LAMB1        |  7 | LAMB1        | 107564244 | rs1131398   |  7 | 107569517 | A | G | 0.584623 | ⋯ | 0.0728718 | 4.439280e-32 | -0.0799570 | 0.01437920 | 2.688348e-08 | 9.969587e-03 | 20 | BimmNaive | LAMB1_BimmNaive        | 6.511201e-06 |\n",
       "| AP003774.1   | 11 | AP003774.1   |  64092522 | rs646153    | 11 |  64089588 | C | T | 0.624275 | ⋯ | 0.0375746 | 6.251950e-24 |  0.1141680 | 0.03136530 | 2.726918e-04 | 1.441368e-01 | 20 | BimmNaive | AP003774.1_BimmNaive   | 1.690281e-02 |\n",
       "| ZFP36L1      | 14 | ZFP36L1      |  69254377 | rs12435329  | 14 |  69250891 | T | C | 0.530948 | ⋯ | 0.0102699 | 4.299632e-10 |  0.6546240 | 0.19796400 | 9.437427e-04 | 5.309888e-03 | 20 | BimmNaive | ZFP36L1_BimmNaive      | 4.392550e-02 |\n",
       "| RP11-485G7.5 | 16 | RP11-485G7.5 |  11435666 | rs367569    | 16 |  11365500 | C | T | 0.708414 | ⋯ | 0.1258180 | 1.519640e-06 |  0.0897385 | 0.02703580 | 9.026021e-04 | 1.451220e-01 | 20 | BimmNaive | RP11-485G7.5_BimmNaive | 4.266491e-02 |\n",
       "| CCDC101      | 16 | CCDC101      |  28565236 | rs3743963   | 16 |  28604686 | A | G | 0.472437 | ⋯ | 0.0248000 | 3.211693e-11 |  0.3202360 | 0.08124760 | 8.097793e-05 | 4.946542e-02 | 20 | BimmNaive | CCDC101_BimmNaive      | 6.229987e-03 |\n",
       "| TUFM         | 16 | TUFM         |  28853732 | rs7187776   | 16 |  28857645 | A | G | 0.615571 | ⋯ | 0.0147337 | 3.420663e-67 | -0.2497920 | 0.04560750 | 4.325910e-08 | 2.498464e-02 | 20 | BimmNaive | TUFM_BimmNaive         | 9.589476e-06 |\n",
       "| BRD7         | 16 | BRD7         |  50347398 | rs4494538   | 16 |  50373272 | C | T | 0.849130 | ⋯ | 0.0416973 | 4.464791e-08 |  0.3576980 | 0.09065460 | 7.955820e-05 | 3.214217e-01 | 11 | BimmNaive | BRD7_BimmNaive         | 6.156978e-03 |\n",
       "| GSDMB        | 17 | GSDMB        |  38060848 | rs35222145  | 17 |  38007321 | T | G | 0.523694 | ⋯ | 0.0605566 | 2.310671e-06 |  0.2447360 | 0.06430790 | 1.414082e-04 | 4.081525e-01 | 20 | BimmNaive | GSDMB_BimmNaive        | 1.010632e-02 |\n",
       "| ORMDL3       | 17 | ORMDL3       |  38077294 | rs8067378   | 17 |  38051348 | A | G | 0.491779 | ⋯ | 0.0244203 | 1.576034e-50 |  0.2259170 | 0.03306230 | 8.311311e-12 | 1.492448e-01 | 20 | BimmNaive | ORMDL3_BimmNaive       | 4.180860e-09 |\n",
       "| HELZ2        | 20 | HELZ2        |  62189439 | rs3810488   | 20 |  62196182 | G | C | 0.796422 | ⋯ | 0.0339838 | 1.805083e-06 | -0.4443310 | 0.12528200 | 3.901678e-04 | 1.963238e-03 | 20 | BimmNaive | HELZ2_BimmNaive        | 2.247993e-02 |\n",
       "| STMN3        | 20 | STMN3        |  62271061 | rs879471    | 20 |  62269942 | C | T | 0.461799 | ⋯ | 0.0188253 | 4.007546e-09 | -0.4937760 | 0.12875100 | 1.255036e-04 | 4.706598e-02 | 20 | BimmNaive | STMN3_BimmNaive        | 9.273684e-03 |\n",
       "| SYNGR1       | 22 | SYNGR1       |  39745930 | rs2049985   | 22 |  39756650 | G | C | 0.790135 | ⋯ | 0.0582994 | 4.001273e-11 | -0.1534770 | 0.04073580 | 1.648098e-04 | 9.815688e-02 | 20 | BimmNaive | SYNGR1_BimmNaive       | 1.134485e-02 |\n",
       "| AC010883.5   |  2 | AC010883.5   |  43456712 | rs10203499  |  2 |  43466619 | A | C | 0.874275 | ⋯ | 0.1004120 | 5.948368e-06 | -0.1730110 | 0.05246870 | 9.757731e-04 | 7.060062e-01 | 16 | Bmem      | AC010883.5_Bmem        | 4.431245e-02 |\n",
       "| MAP4K4       |  2 | MAP4K4       | 102313312 | rs11693204  |  2 | 102935974 | G | A | 0.702128 | ⋯ | 0.0280159 | 2.411498e-06 |  0.4518360 | 0.13210000 | 6.252964e-04 | 6.482848e-01 | 13 | Bmem      | MAP4K4_Bmem            | 3.324453e-02 |\n",
       "| ERAP2        |  5 | ERAP2        |  96211643 | rs27998     |  5 |  96367408 | G | A | 0.428917 | ⋯ | 0.0244375 | 7.455040e-54 | -0.1512860 | 0.03044210 | 6.708265e-07 | 7.675835e-02 | 20 | Bmem      | ERAP2_Bmem             | 9.970041e-05 |\n",
       "| RNF145       |  5 | RNF145       | 158584417 | rs270654    |  5 | 158565109 | T | C | 0.896518 | ⋯ | 0.0357719 | 1.686598e-06 |  0.4677010 | 0.14082900 | 8.968084e-04 | 4.417769e-01 |  9 | Bmem      | RNF145_Bmem            | 4.266491e-02 |\n",
       "| ⋮ | ⋮ | ⋮ | ⋮ | ⋮ | ⋮ | ⋮ | ⋮ | ⋮ | ⋮ | ⋱ | ⋮ | ⋮ | ⋮ | ⋮ | ⋮ | ⋮ | ⋮ | ⋮ | ⋮ | ⋮ |\n",
       "| HLA-DQA2      |  6 | HLA-DQA2      |  32709119 | rs9272461  |  6 |  32605609 | G | A | 0.797389 | ⋯ | 0.07543590 | 5.588626e-75 |  0.1024400 | 0.0112133 | 6.506423e-20 | 2.803443e-04 | 20 | NKmat  | HLA-DQA2_NKmat      | 4.254825e-16 |\n",
       "| RNASET2       |  6 | RNASET2       | 167342992 | rs425039   |  6 | 167410527 | C | T | 0.465184 | ⋯ | 0.01071850 | 4.807268e-43 |  0.4283430 | 0.0792792 | 6.554582e-08 | 3.336506e-01 | 20 | NKmat  | RNASET2_NKmat       | 1.382683e-05 |\n",
       "| KDELR2        |  7 | KDELR2        |   6485584 | rs6796     |  7 |   6502367 | T | C | 0.715184 | ⋯ | 0.01332450 | 2.865926e-53 | -0.2202230 | 0.0608095 | 2.928698e-04 | 2.170339e-01 | 20 | NKmat  | KDELR2_NKmat        | 1.779195e-02 |\n",
       "| LAMB1         |  7 | LAMB1         | 107564244 | rs2237685  |  7 | 107574784 | G | A | 0.588008 | ⋯ | 0.06196380 | 7.323848e-36 | -0.0853361 | 0.0156780 | 5.237664e-08 | 1.345229e-03 | 20 | NKmat  | LAMB1_NKmat         | 1.141710e-05 |\n",
       "| RP11-308N19.1 |  9 | RP11-308N19.1 | 109040673 | rs13290190 |  9 | 108969941 | A | G | 0.744681 | ⋯ | 0.04090530 | 7.981591e-17 | -0.1243680 | 0.0377390 | 9.824981e-04 | 2.138810e-01 | 20 | NKmat  | RP11-308N19.1_NKmat | 4.442377e-02 |\n",
       "| CISD1         | 10 | CISD1         |  60028818 | rs1623294  | 10 |  59939025 | A | G | 0.808511 | ⋯ | 0.02098030 | 3.222465e-09 | -0.4251980 | 0.1271390 | 8.247081e-04 | 4.954870e-01 | 20 | NKmat  | CISD1_NKmat         | 4.054973e-02 |\n",
       "| ZMIZ1         | 10 | ZMIZ1         |  80828792 | rs1250554  | 10 |  81067040 | C | T | 0.653288 | ⋯ | 0.03704900 | 5.398271e-06 |  0.3848370 | 0.1082350 | 3.771593e-04 | 9.102781e-01 | 17 | NKmat  | ZMIZ1_NKmat         | 2.192359e-02 |\n",
       "| FADS1         | 11 | FADS1         |  61567099 | rs174544   | 11 |  61567753 | C | A | 0.707447 | ⋯ | 0.03334820 | 5.341435e-13 | -0.1936770 | 0.0563009 | 5.816543e-04 | 9.624667e-02 | 20 | NKmat  | FADS1_NKmat         | 3.143540e-02 |\n",
       "| AP003774.1    | 11 | AP003774.1    |  64092522 | rs2510066  | 11 |  64052447 | C | T | 0.624275 | ⋯ | 0.02616750 | 7.865036e-65 |  0.1018690 | 0.0256442 | 7.114741e-05 | 2.786249e-01 | 20 | NKmat  | AP003774.1_NKmat    | 5.605578e-03 |\n",
       "| CCDC88B       | 11 | CCDC88B       |  64107695 | rs61886926 | 11 |  64133552 | C | T | 0.624275 | ⋯ | 0.01471480 | 5.728666e-11 | -0.4390720 | 0.1328790 | 9.521665e-04 | 2.044358e-01 | 20 | NKmat  | CCDC88B_NKmat       | 4.394846e-02 |\n",
       "| ETS1          | 11 | ETS1          | 128328656 | rs61907765 | 11 | 128391937 | C | T | 0.800774 | ⋯ | 0.01530970 | 9.539384e-08 | -0.6565050 | 0.2016690 | 1.132522e-03 | 1.615154e-01 | 11 | NKmat  | ETS1_NKmat          | 4.892261e-02 |\n",
       "| FES           | 15 | FES           |  91426925 | rs2071410  | 15 |  91420940 | C | G | 0.698259 | ⋯ | 0.02537300 | 1.267092e-57 |  0.0953059 | 0.0289803 | 1.006705e-03 | 8.291028e-01 | 20 | NKmat  | FES_NKmat           | 4.524584e-02 |\n",
       "| CCDC101       | 16 | CCDC101       |  28565236 | rs3743963  | 16 |  28604686 | A | G | 0.472437 | ⋯ | 0.01588090 | 1.029287e-10 |  0.5135480 | 0.1315410 | 9.457510e-05 | 1.486930e-01 | 20 | NKmat  | CCDC101_NKmat       | 7.149902e-03 |\n",
       "| TUFM          | 16 | TUFM          |  28853732 | rs7187776  | 16 |  28857645 | A | G | 0.615571 | ⋯ | 0.00835159 | 3.599653e-45 | -0.5411180 | 0.1012760 | 9.141922e-08 | 2.839089e-02 | 20 | NKmat  | TUFM_NKmat          | 1.814728e-05 |\n",
       "| ADCY7         | 16 | ADCY7         |  50280048 | rs4494538  | 16 |  50373272 | C | T | 0.849130 | ⋯ | 0.01915880 | 5.060385e-15 |  0.5443140 | 0.1182010 | 4.125156e-06 | 4.377181e-02 | 19 | NKmat  | ADCY7_NKmat         | 5.042269e-04 |\n",
       "| BRD7          | 16 | BRD7          |  50347398 | rs4494538  | 16 |  50373272 | C | T | 0.849130 | ⋯ | 0.03350850 | 3.248298e-18 |  0.2798510 | 0.0587230 | 1.882749e-06 | 4.790549e-02 | 19 | NKmat  | BRD7_NKmat          | 2.438038e-04 |\n",
       "| ZFP90         | 16 | ZFP90         |  68563993 | rs698718   | 16 |  68560185 | A | G | 0.229207 | ⋯ | 0.03151840 | 2.440177e-27 | -0.1742400 | 0.0404377 | 1.641069e-05 | 9.486059e-01 | 20 | NKmat  | ZFP90_NKmat         | 1.578183e-03 |\n",
       "| PNMT          | 17 | PNMT          |  37824234 | rs7359623  | 17 |  38049589 | C | T | 0.496132 | ⋯ | 0.07660420 | 4.688187e-05 |  0.2727220 | 0.0753237 | 2.938380e-04 | 5.763186e-01 | 11 | NKmat  | PNMT_NKmat          | 1.779195e-02 |\n",
       "| GSDMB         | 17 | GSDMB         |  38060848 | rs12453507 | 17 |  38053207 | C | G | 0.501934 | ⋯ | 0.04178040 | 3.874105e-08 |  0.3609730 | 0.0806149 | 7.543666e-06 | 3.345595e-01 | 20 | NKmat  | GSDMB_NKmat         | 8.432687e-04 |\n",
       "| ORMDL3        | 17 | ORMDL3        |  38077294 | rs8074437  | 17 |  38076137 | T | G | 0.514023 | ⋯ | 0.01684250 | 3.658765e-75 |  0.1891970 | 0.0363023 | 1.870997e-07 | 2.054727e-07 | 20 | NKmat  | ORMDL3_NKmat        | 3.262731e-05 |\n",
       "| STMN3         | 20 | STMN3         |  62271061 | rs6062980  | 20 |  62263128 | G | A | 0.432302 | ⋯ | 0.02067040 | 4.774382e-06 | -0.7013050 | 0.1915440 | 2.509195e-04 | 1.236526e-01 | 20 | NKmat  | STMN3_NKmat         | 1.593076e-02 |\n",
       "| UBE2L3        | 22 | UBE2L3        |  21903736 | rs4820091  | 22 |  21940189 | T | G | 0.820600 | ⋯ | 0.00870445 | 4.203846e-15 |  1.2636400 | 0.2566890 | 8.528527e-07 | 3.184572e-01 | 12 | NKmat  | UBE2L3_NKmat        | 1.212427e-04 |\n",
       "| TSPO          | 22 | TSPO          |  43547520 | rs138910   | 22 |  43550055 | T | C | 0.258704 | ⋯ | 0.01011390 | 2.607115e-28 |  0.3863010 | 0.1133260 | 6.526293e-04 | 3.557425e-01 | 20 | NKmat  | TSPO_NKmat          | 3.415572e-02 |\n",
       "| ERAP2         |  5 | ERAP2         |  96211643 | rs1046396  |  5 |  96273187 | G | A | 0.570116 | ⋯ | 0.07896360 | 1.620691e-13 | -0.1018920 | 0.0232297 | 1.153129e-05 | 1.074208e-02 | 20 | Plasma | ERAP2_Plasma        | 1.169116e-03 |\n",
       "| HLA-B         |  6 | HLA-B         |  31321649 | rs9378247  |  6 |  31321425 | G | A | 0.806093 | ⋯ | 0.03436170 | 2.249657e-24 |  0.1302100 | 0.0385295 | 7.261951e-04 | 8.308257e-04 | 20 | Plasma | HLA-B_Plasma        | 3.710075e-02 |\n",
       "| HLA-DRB5      |  6 | HLA-DRB5      |  32485120 | rs28366319 |  6 |  32561495 | G | A | 0.653288 | ⋯ | 0.07136870 | 1.354828e-56 |  0.1040740 | 0.0120650 | 6.347201e-18 | 2.898390e-12 | 20 | Plasma | HLA-DRB5_Plasma     | 6.917838e-15 |\n",
       "| HLA-DQA1      |  6 | HLA-DQA1      |  32595956 | rs646984   |  6 |  32576592 | A | C | 0.579304 | ⋯ | 0.05357410 | 1.679753e-17 |  0.1749010 | 0.0317971 | 3.786771e-08 | 4.408738e-05 | 20 | Plasma | HLA-DQA1_Plasma     | 8.844034e-06 |\n",
       "| HLA-DQB1      |  6 | HLA-DQB1      |  32627244 | rs1049055  |  6 |  32634387 | C | T | 0.235493 | ⋯ | 0.07172140 | 3.240232e-17 | -0.0818750 | 0.0230162 | 3.747241e-04 | 1.139766e-07 | 20 | Plasma | HLA-DQB1_Plasma     | 2.192359e-02 |\n",
       "| HLA-DQA2      |  6 | HLA-DQA2      |  32709119 | rs9272461  |  6 |  32605609 | G | A | 0.797389 | ⋯ | 0.09831070 | 2.424923e-58 |  0.0894326 | 0.0101415 | 1.160630e-18 | 5.269487e-04 | 20 | Plasma | HLA-DQA2_Plasma     | 2.020142e-15 |\n",
       "| KDELR2        |  7 | KDELR2        |   6485584 | rs6796     |  7 |   6502367 | T | C | 0.715184 | ⋯ | 0.02919280 | 1.724696e-11 | -0.2295480 | 0.0704169 | 1.114735e-03 | 5.495187e-01 | 19 | Plasma | KDELR2_Plasma       | 4.892261e-02 |\n",
       "\n"
      ],
      "text/plain": [
       "    probeID       ProbeChr Gene          Probe_bp  topSNP      topSNP_chr\n",
       "1   LY9            1       LY9           160765864 rs7412696    1        \n",
       "2   FCGR2B         1       FCGR2B        161551101 rs140315354  1        \n",
       "3   AC010883.5     2       AC010883.5     43456712 rs4372955    2        \n",
       "4   KIAA1841       2       KIAA1841       61293006 rs6727926    2        \n",
       "5   RBM6           3       RBM6           49977440 rs7613875    3        \n",
       "6   ERAP2          5       ERAP2          96211643 rs27295      5        \n",
       "7   LST1           6       LST1           31553901 rs2256965    6        \n",
       "8   HCG23          6       HCG23          32358287 rs9271548    6        \n",
       "9   HLA-DRB5       6       HLA-DRB5       32485120 rs9271699    6        \n",
       "10  HLA-DQA1       6       HLA-DQA1       32595956 rs9272546    6        \n",
       "11  HLA-DQB1       6       HLA-DQB1       32627244 rs9274660    6        \n",
       "12  HLA-DQA2       6       HLA-DQA2       32709119 rs9272319    6        \n",
       "13  HLA-DQB2       6       HLA-DQB2       32723875 rs17612858   6        \n",
       "14  KDELR2         7       KDELR2          6485584 rs6796       7        \n",
       "15  LAMB1          7       LAMB1         107564244 rs1131398    7        \n",
       "16  AP003774.1    11       AP003774.1     64092522 rs646153    11        \n",
       "17  ZFP36L1       14       ZFP36L1        69254377 rs12435329  14        \n",
       "18  RP11-485G7.5  16       RP11-485G7.5   11435666 rs367569    16        \n",
       "19  CCDC101       16       CCDC101        28565236 rs3743963   16        \n",
       "20  TUFM          16       TUFM           28853732 rs7187776   16        \n",
       "21  BRD7          16       BRD7           50347398 rs4494538   16        \n",
       "22  GSDMB         17       GSDMB          38060848 rs35222145  17        \n",
       "23  ORMDL3        17       ORMDL3         38077294 rs8067378   17        \n",
       "24  HELZ2         20       HELZ2          62189439 rs3810488   20        \n",
       "25  STMN3         20       STMN3          62271061 rs879471    20        \n",
       "26  SYNGR1        22       SYNGR1         39745930 rs2049985   22        \n",
       "27  AC010883.5     2       AC010883.5     43456712 rs10203499   2        \n",
       "28  MAP4K4         2       MAP4K4        102313312 rs11693204   2        \n",
       "29  ERAP2          5       ERAP2          96211643 rs27998      5        \n",
       "30  RNF145         5       RNF145        158584417 rs270654     5        \n",
       "⋮   ⋮             ⋮        ⋮             ⋮         ⋮           ⋮         \n",
       "275 HLA-DQA2       6       HLA-DQA2       32709119 rs9272461    6        \n",
       "276 RNASET2        6       RNASET2       167342992 rs425039     6        \n",
       "277 KDELR2         7       KDELR2          6485584 rs6796       7        \n",
       "278 LAMB1          7       LAMB1         107564244 rs2237685    7        \n",
       "279 RP11-308N19.1  9       RP11-308N19.1 109040673 rs13290190   9        \n",
       "280 CISD1         10       CISD1          60028818 rs1623294   10        \n",
       "281 ZMIZ1         10       ZMIZ1          80828792 rs1250554   10        \n",
       "282 FADS1         11       FADS1          61567099 rs174544    11        \n",
       "283 AP003774.1    11       AP003774.1     64092522 rs2510066   11        \n",
       "284 CCDC88B       11       CCDC88B        64107695 rs61886926  11        \n",
       "285 ETS1          11       ETS1          128328656 rs61907765  11        \n",
       "286 FES           15       FES            91426925 rs2071410   15        \n",
       "287 CCDC101       16       CCDC101        28565236 rs3743963   16        \n",
       "288 TUFM          16       TUFM           28853732 rs7187776   16        \n",
       "289 ADCY7         16       ADCY7          50280048 rs4494538   16        \n",
       "290 BRD7          16       BRD7           50347398 rs4494538   16        \n",
       "291 ZFP90         16       ZFP90          68563993 rs698718    16        \n",
       "292 PNMT          17       PNMT           37824234 rs7359623   17        \n",
       "293 GSDMB         17       GSDMB          38060848 rs12453507  17        \n",
       "294 ORMDL3        17       ORMDL3         38077294 rs8074437   17        \n",
       "295 STMN3         20       STMN3          62271061 rs6062980   20        \n",
       "296 UBE2L3        22       UBE2L3         21903736 rs4820091   22        \n",
       "297 TSPO          22       TSPO           43547520 rs138910    22        \n",
       "298 ERAP2          5       ERAP2          96211643 rs1046396    5        \n",
       "299 HLA-B          6       HLA-B          31321649 rs9378247    6        \n",
       "300 HLA-DRB5       6       HLA-DRB5       32485120 rs28366319   6        \n",
       "301 HLA-DQA1       6       HLA-DQA1       32595956 rs646984     6        \n",
       "302 HLA-DQB1       6       HLA-DQB1       32627244 rs1049055    6        \n",
       "303 HLA-DQA2       6       HLA-DQA2       32709119 rs9272461    6        \n",
       "304 KDELR2         7       KDELR2          6485584 rs6796       7        \n",
       "    topSNP_bp A1 A2 Freq     ⋯ se_eQTL    p_eQTL       b_SMR      se_SMR    \n",
       "1   160828976 G  T  0.792070 ⋯ 0.0343060  1.121082e-07 -0.3047730 0.09295680\n",
       "2   161617673 G  A  0.934720 ⋯ 0.0349359  8.175889e-07 -0.5566150 0.15881300\n",
       "3    43566146 A  G  0.869923 ⋯ 0.0902127  4.507045e-09 -0.1179020 0.03626890\n",
       "4    61240536 A  T  0.796422 ⋯ 0.0890220  6.535369e-12 -0.1099680 0.02628160\n",
       "5    49971514 C  A  0.448743 ⋯ 0.0147394  4.663713e-15 -0.4799370 0.11146500\n",
       "6    96358687 C  T  0.431335 ⋯ 0.0218618  9.580355e-47 -0.1840280 0.03696720\n",
       "7    31555130 A  G  0.405706 ⋯ 0.0250259  4.159973e-16 -0.3190970 0.06625470\n",
       "8    32590234 A  T  0.338008 ⋯ 0.1046600  4.461682e-06  0.2119130 0.05182630\n",
       "9    32593179 A  G  0.524178 ⋯ 0.0559168  1.162295e-96  0.0414326 0.00942401\n",
       "10   32606941 T  C  0.336074 ⋯ 0.0139083  2.408243e-45  0.4690740 0.06514700\n",
       "11   32636434 A  G  0.394584 ⋯ 0.0146328  3.180543e-58 -0.3397790 0.05138470\n",
       "12   32604108 T  C  0.653288 ⋯ 0.0724199  2.105526e-94  0.0763340 0.00850834\n",
       "13   32620622 A  T  0.395551 ⋯ 0.0546637  8.199010e-50  0.1006890 0.01503450\n",
       "14    6502367 T  C  0.715184 ⋯ 0.0235495  2.168689e-20 -0.2068780 0.05984720\n",
       "15  107569517 A  G  0.584623 ⋯ 0.0728718  4.439280e-32 -0.0799570 0.01437920\n",
       "16   64089588 C  T  0.624275 ⋯ 0.0375746  6.251950e-24  0.1141680 0.03136530\n",
       "17   69250891 T  C  0.530948 ⋯ 0.0102699  4.299632e-10  0.6546240 0.19796400\n",
       "18   11365500 C  T  0.708414 ⋯ 0.1258180  1.519640e-06  0.0897385 0.02703580\n",
       "19   28604686 A  G  0.472437 ⋯ 0.0248000  3.211693e-11  0.3202360 0.08124760\n",
       "20   28857645 A  G  0.615571 ⋯ 0.0147337  3.420663e-67 -0.2497920 0.04560750\n",
       "21   50373272 C  T  0.849130 ⋯ 0.0416973  4.464791e-08  0.3576980 0.09065460\n",
       "22   38007321 T  G  0.523694 ⋯ 0.0605566  2.310671e-06  0.2447360 0.06430790\n",
       "23   38051348 A  G  0.491779 ⋯ 0.0244203  1.576034e-50  0.2259170 0.03306230\n",
       "24   62196182 G  C  0.796422 ⋯ 0.0339838  1.805083e-06 -0.4443310 0.12528200\n",
       "25   62269942 C  T  0.461799 ⋯ 0.0188253  4.007546e-09 -0.4937760 0.12875100\n",
       "26   39756650 G  C  0.790135 ⋯ 0.0582994  4.001273e-11 -0.1534770 0.04073580\n",
       "27   43466619 A  C  0.874275 ⋯ 0.1004120  5.948368e-06 -0.1730110 0.05246870\n",
       "28  102935974 G  A  0.702128 ⋯ 0.0280159  2.411498e-06  0.4518360 0.13210000\n",
       "29   96367408 G  A  0.428917 ⋯ 0.0244375  7.455040e-54 -0.1512860 0.03044210\n",
       "30  158565109 T  C  0.896518 ⋯ 0.0357719  1.686598e-06  0.4677010 0.14082900\n",
       "⋮   ⋮         ⋮  ⋮  ⋮        ⋱ ⋮          ⋮            ⋮          ⋮         \n",
       "275  32605609 G  A  0.797389 ⋯ 0.07543590 5.588626e-75  0.1024400 0.0112133 \n",
       "276 167410527 C  T  0.465184 ⋯ 0.01071850 4.807268e-43  0.4283430 0.0792792 \n",
       "277   6502367 T  C  0.715184 ⋯ 0.01332450 2.865926e-53 -0.2202230 0.0608095 \n",
       "278 107574784 G  A  0.588008 ⋯ 0.06196380 7.323848e-36 -0.0853361 0.0156780 \n",
       "279 108969941 A  G  0.744681 ⋯ 0.04090530 7.981591e-17 -0.1243680 0.0377390 \n",
       "280  59939025 A  G  0.808511 ⋯ 0.02098030 3.222465e-09 -0.4251980 0.1271390 \n",
       "281  81067040 C  T  0.653288 ⋯ 0.03704900 5.398271e-06  0.3848370 0.1082350 \n",
       "282  61567753 C  A  0.707447 ⋯ 0.03334820 5.341435e-13 -0.1936770 0.0563009 \n",
       "283  64052447 C  T  0.624275 ⋯ 0.02616750 7.865036e-65  0.1018690 0.0256442 \n",
       "284  64133552 C  T  0.624275 ⋯ 0.01471480 5.728666e-11 -0.4390720 0.1328790 \n",
       "285 128391937 C  T  0.800774 ⋯ 0.01530970 9.539384e-08 -0.6565050 0.2016690 \n",
       "286  91420940 C  G  0.698259 ⋯ 0.02537300 1.267092e-57  0.0953059 0.0289803 \n",
       "287  28604686 A  G  0.472437 ⋯ 0.01588090 1.029287e-10  0.5135480 0.1315410 \n",
       "288  28857645 A  G  0.615571 ⋯ 0.00835159 3.599653e-45 -0.5411180 0.1012760 \n",
       "289  50373272 C  T  0.849130 ⋯ 0.01915880 5.060385e-15  0.5443140 0.1182010 \n",
       "290  50373272 C  T  0.849130 ⋯ 0.03350850 3.248298e-18  0.2798510 0.0587230 \n",
       "291  68560185 A  G  0.229207 ⋯ 0.03151840 2.440177e-27 -0.1742400 0.0404377 \n",
       "292  38049589 C  T  0.496132 ⋯ 0.07660420 4.688187e-05  0.2727220 0.0753237 \n",
       "293  38053207 C  G  0.501934 ⋯ 0.04178040 3.874105e-08  0.3609730 0.0806149 \n",
       "294  38076137 T  G  0.514023 ⋯ 0.01684250 3.658765e-75  0.1891970 0.0363023 \n",
       "295  62263128 G  A  0.432302 ⋯ 0.02067040 4.774382e-06 -0.7013050 0.1915440 \n",
       "296  21940189 T  G  0.820600 ⋯ 0.00870445 4.203846e-15  1.2636400 0.2566890 \n",
       "297  43550055 T  C  0.258704 ⋯ 0.01011390 2.607115e-28  0.3863010 0.1133260 \n",
       "298  96273187 G  A  0.570116 ⋯ 0.07896360 1.620691e-13 -0.1018920 0.0232297 \n",
       "299  31321425 G  A  0.806093 ⋯ 0.03436170 2.249657e-24  0.1302100 0.0385295 \n",
       "300  32561495 G  A  0.653288 ⋯ 0.07136870 1.354828e-56  0.1040740 0.0120650 \n",
       "301  32576592 A  C  0.579304 ⋯ 0.05357410 1.679753e-17  0.1749010 0.0317971 \n",
       "302  32634387 C  T  0.235493 ⋯ 0.07172140 3.240232e-17 -0.0818750 0.0230162 \n",
       "303  32605609 G  A  0.797389 ⋯ 0.09831070 2.424923e-58  0.0894326 0.0101415 \n",
       "304   6502367 T  C  0.715184 ⋯ 0.02919280 1.724696e-11 -0.2295480 0.0704169 \n",
       "    p_SMR        p_HEIDI      nsnp_HEIDI Cell_type comb                  \n",
       "1   1.043041e-03 4.127029e-01 16         BimmNaive LY9_BimmNaive         \n",
       "2   4.568856e-04 9.639709e-02 18         BimmNaive FCGR2B_BimmNaive      \n",
       "3   1.150947e-03 2.060657e-02 20         BimmNaive AC010883.5_BimmNaive  \n",
       "4   2.861393e-05 8.850827e-02 20         BimmNaive KIAA1841_BimmNaive    \n",
       "5   1.664278e-05 5.805934e-03 20         BimmNaive RBM6_BimmNaive        \n",
       "6   6.419558e-07 6.248309e-02 20         BimmNaive ERAP2_BimmNaive       \n",
       "7   1.463083e-06 9.578130e-02 14         BimmNaive LST1_BimmNaive        \n",
       "8   4.334293e-05 3.220945e-01 16         BimmNaive HCG23_BimmNaive       \n",
       "9   1.100153e-05 8.616021e-13 20         BimmNaive HLA-DRB5_BimmNaive    \n",
       "10  6.010586e-13 3.898305e-10 20         BimmNaive HLA-DQA1_BimmNaive    \n",
       "11  3.780030e-11 3.378640e-09 20         BimmNaive HLA-DQB1_BimmNaive    \n",
       "12  2.920490e-19 1.322820e-06 20         BimmNaive HLA-DQA2_BimmNaive    \n",
       "13  2.124938e-11 3.754812e-14 20         BimmNaive HLA-DQB2_BimmNaive    \n",
       "14  5.467027e-04 3.360915e-01 20         BimmNaive KDELR2_BimmNaive      \n",
       "15  2.688348e-08 9.969587e-03 20         BimmNaive LAMB1_BimmNaive       \n",
       "16  2.726918e-04 1.441368e-01 20         BimmNaive AP003774.1_BimmNaive  \n",
       "17  9.437427e-04 5.309888e-03 20         BimmNaive ZFP36L1_BimmNaive     \n",
       "18  9.026021e-04 1.451220e-01 20         BimmNaive RP11-485G7.5_BimmNaive\n",
       "19  8.097793e-05 4.946542e-02 20         BimmNaive CCDC101_BimmNaive     \n",
       "20  4.325910e-08 2.498464e-02 20         BimmNaive TUFM_BimmNaive        \n",
       "21  7.955820e-05 3.214217e-01 11         BimmNaive BRD7_BimmNaive        \n",
       "22  1.414082e-04 4.081525e-01 20         BimmNaive GSDMB_BimmNaive       \n",
       "23  8.311311e-12 1.492448e-01 20         BimmNaive ORMDL3_BimmNaive      \n",
       "24  3.901678e-04 1.963238e-03 20         BimmNaive HELZ2_BimmNaive       \n",
       "25  1.255036e-04 4.706598e-02 20         BimmNaive STMN3_BimmNaive       \n",
       "26  1.648098e-04 9.815688e-02 20         BimmNaive SYNGR1_BimmNaive      \n",
       "27  9.757731e-04 7.060062e-01 16         Bmem      AC010883.5_Bmem       \n",
       "28  6.252964e-04 6.482848e-01 13         Bmem      MAP4K4_Bmem           \n",
       "29  6.708265e-07 7.675835e-02 20         Bmem      ERAP2_Bmem            \n",
       "30  8.968084e-04 4.417769e-01  9         Bmem      RNF145_Bmem           \n",
       "⋮   ⋮            ⋮            ⋮          ⋮         ⋮                     \n",
       "275 6.506423e-20 2.803443e-04 20         NKmat     HLA-DQA2_NKmat        \n",
       "276 6.554582e-08 3.336506e-01 20         NKmat     RNASET2_NKmat         \n",
       "277 2.928698e-04 2.170339e-01 20         NKmat     KDELR2_NKmat          \n",
       "278 5.237664e-08 1.345229e-03 20         NKmat     LAMB1_NKmat           \n",
       "279 9.824981e-04 2.138810e-01 20         NKmat     RP11-308N19.1_NKmat   \n",
       "280 8.247081e-04 4.954870e-01 20         NKmat     CISD1_NKmat           \n",
       "281 3.771593e-04 9.102781e-01 17         NKmat     ZMIZ1_NKmat           \n",
       "282 5.816543e-04 9.624667e-02 20         NKmat     FADS1_NKmat           \n",
       "283 7.114741e-05 2.786249e-01 20         NKmat     AP003774.1_NKmat      \n",
       "284 9.521665e-04 2.044358e-01 20         NKmat     CCDC88B_NKmat         \n",
       "285 1.132522e-03 1.615154e-01 11         NKmat     ETS1_NKmat            \n",
       "286 1.006705e-03 8.291028e-01 20         NKmat     FES_NKmat             \n",
       "287 9.457510e-05 1.486930e-01 20         NKmat     CCDC101_NKmat         \n",
       "288 9.141922e-08 2.839089e-02 20         NKmat     TUFM_NKmat            \n",
       "289 4.125156e-06 4.377181e-02 19         NKmat     ADCY7_NKmat           \n",
       "290 1.882749e-06 4.790549e-02 19         NKmat     BRD7_NKmat            \n",
       "291 1.641069e-05 9.486059e-01 20         NKmat     ZFP90_NKmat           \n",
       "292 2.938380e-04 5.763186e-01 11         NKmat     PNMT_NKmat            \n",
       "293 7.543666e-06 3.345595e-01 20         NKmat     GSDMB_NKmat           \n",
       "294 1.870997e-07 2.054727e-07 20         NKmat     ORMDL3_NKmat          \n",
       "295 2.509195e-04 1.236526e-01 20         NKmat     STMN3_NKmat           \n",
       "296 8.528527e-07 3.184572e-01 12         NKmat     UBE2L3_NKmat          \n",
       "297 6.526293e-04 3.557425e-01 20         NKmat     TSPO_NKmat            \n",
       "298 1.153129e-05 1.074208e-02 20         Plasma    ERAP2_Plasma          \n",
       "299 7.261951e-04 8.308257e-04 20         Plasma    HLA-B_Plasma          \n",
       "300 6.347201e-18 2.898390e-12 20         Plasma    HLA-DRB5_Plasma       \n",
       "301 3.786771e-08 4.408738e-05 20         Plasma    HLA-DQA1_Plasma       \n",
       "302 3.747241e-04 1.139766e-07 20         Plasma    HLA-DQB1_Plasma       \n",
       "303 1.160630e-18 5.269487e-04 20         Plasma    HLA-DQA2_Plasma       \n",
       "304 1.114735e-03 5.495187e-01 19         Plasma    KDELR2_Plasma         \n",
       "    qv          \n",
       "1   4.640058e-02\n",
       "2   2.575662e-02\n",
       "3   4.951664e-02\n",
       "4   2.563268e-03\n",
       "5   1.588820e-03\n",
       "6   9.650621e-05\n",
       "7   1.993275e-04\n",
       "8   3.587819e-03\n",
       "9   1.151098e-03\n",
       "10  3.417892e-10\n",
       "11  1.544951e-08\n",
       "12  9.753852e-16\n",
       "13  9.583357e-09\n",
       "14  2.991732e-02\n",
       "15  6.511201e-06\n",
       "16  1.690281e-02\n",
       "17  4.392550e-02\n",
       "18  4.266491e-02\n",
       "19  6.229987e-03\n",
       "20  9.589476e-06\n",
       "21  6.156978e-03\n",
       "22  1.010632e-02\n",
       "23  4.180860e-09\n",
       "24  2.247993e-02\n",
       "25  9.273684e-03\n",
       "26  1.134485e-02\n",
       "27  4.431245e-02\n",
       "28  3.324453e-02\n",
       "29  9.970041e-05\n",
       "30  4.266491e-02\n",
       "⋮   ⋮           \n",
       "275 4.254825e-16\n",
       "276 1.382683e-05\n",
       "277 1.779195e-02\n",
       "278 1.141710e-05\n",
       "279 4.442377e-02\n",
       "280 4.054973e-02\n",
       "281 2.192359e-02\n",
       "282 3.143540e-02\n",
       "283 5.605578e-03\n",
       "284 4.394846e-02\n",
       "285 4.892261e-02\n",
       "286 4.524584e-02\n",
       "287 7.149902e-03\n",
       "288 1.814728e-05\n",
       "289 5.042269e-04\n",
       "290 2.438038e-04\n",
       "291 1.578183e-03\n",
       "292 1.779195e-02\n",
       "293 8.432687e-04\n",
       "294 3.262731e-05\n",
       "295 1.593076e-02\n",
       "296 1.212427e-04\n",
       "297 3.415572e-02\n",
       "298 1.169116e-03\n",
       "299 3.710075e-02\n",
       "300 6.917838e-15\n",
       "301 8.844034e-06\n",
       "302 2.192359e-02\n",
       "303 2.020142e-15\n",
       "304 4.892261e-02"
      ]
     },
     "metadata": {},
     "output_type": "display_data"
    }
   ],
   "source": [
    "## SAIGE-QTL SMR gene list\n",
    "saige_df_sign = saige_df[saige_df$qv<0.05,]\n",
    "saige_df_sign"
   ]
  },
  {
   "cell_type": "code",
   "execution_count": 33,
   "id": "98a4b34f",
   "metadata": {},
   "outputs": [],
   "source": [
    "fwrite(saige_df_sign, \"/directflow/SCCGGroupShare/projects/anncuo/OneK1K/saige_eqtl/for_wei/smr/ibd_saige_egenes.txt\")"
   ]
  },
  {
   "cell_type": "code",
   "execution_count": null,
   "id": "e1a84f5c",
   "metadata": {},
   "outputs": [],
   "source": []
  },
  {
   "cell_type": "code",
   "execution_count": null,
   "id": "7b726267",
   "metadata": {},
   "outputs": [],
   "source": []
  }
 ],
 "metadata": {
  "kernelspec": {
   "display_name": "Single Cell Notebook (R 4.1.2)",
   "language": "R",
   "name": "singlecell"
  },
  "language_info": {
   "codemirror_mode": "r",
   "file_extension": ".r",
   "mimetype": "text/x-r-source",
   "name": "R",
   "pygments_lexer": "r",
   "version": "4.1.2"
  }
 },
 "nbformat": 4,
 "nbformat_minor": 5
}
