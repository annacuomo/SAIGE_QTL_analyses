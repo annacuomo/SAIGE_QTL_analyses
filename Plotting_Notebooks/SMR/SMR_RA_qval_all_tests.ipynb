{
 "cells": [
  {
   "cell_type": "code",
   "execution_count": 17,
   "id": "389cd9e3",
   "metadata": {},
   "outputs": [],
   "source": [
    "library(data.table)\n",
    "library(qvalue)"
   ]
  },
  {
   "cell_type": "code",
   "execution_count": 18,
   "id": "27ce71e4",
   "metadata": {},
   "outputs": [],
   "source": [
    "## RA (rheumathois arthritis) SMR (summarised Mendelian Randomisation) results"
   ]
  },
  {
   "cell_type": "code",
   "execution_count": 19,
   "id": "b51e56f6",
   "metadata": {},
   "outputs": [
    {
     "data": {
      "text/html": [
       "<table class=\"dataframe\">\n",
       "<caption>A data.table: 2 × 22</caption>\n",
       "<thead>\n",
       "\t<tr><th scope=col>probeID</th><th scope=col>ProbeChr</th><th scope=col>Gene</th><th scope=col>Probe_bp</th><th scope=col>topSNP</th><th scope=col>topSNP_chr</th><th scope=col>topSNP_bp</th><th scope=col>A1</th><th scope=col>A2</th><th scope=col>Freq</th><th scope=col>⋯</th><th scope=col>p_GWAS</th><th scope=col>b_eQTL</th><th scope=col>se_eQTL</th><th scope=col>p_eQTL</th><th scope=col>b_SMR</th><th scope=col>se_SMR</th><th scope=col>p_SMR</th><th scope=col>p_HEIDI</th><th scope=col>nsnp_HEIDI</th><th scope=col>Cell_type</th></tr>\n",
       "\t<tr><th scope=col>&lt;chr&gt;</th><th scope=col>&lt;int&gt;</th><th scope=col>&lt;chr&gt;</th><th scope=col>&lt;int&gt;</th><th scope=col>&lt;chr&gt;</th><th scope=col>&lt;int&gt;</th><th scope=col>&lt;int&gt;</th><th scope=col>&lt;chr&gt;</th><th scope=col>&lt;chr&gt;</th><th scope=col>&lt;dbl&gt;</th><th scope=col>⋯</th><th scope=col>&lt;dbl&gt;</th><th scope=col>&lt;dbl&gt;</th><th scope=col>&lt;dbl&gt;</th><th scope=col>&lt;dbl&gt;</th><th scope=col>&lt;dbl&gt;</th><th scope=col>&lt;dbl&gt;</th><th scope=col>&lt;dbl&gt;</th><th scope=col>&lt;dbl&gt;</th><th scope=col>&lt;int&gt;</th><th scope=col>&lt;chr&gt;</th></tr>\n",
       "</thead>\n",
       "<tbody>\n",
       "\t<tr><td>FCRL5</td><td>1</td><td>FCRL5</td><td>157483167</td><td>rs12741984</td><td>1</td><td>157534818</td><td>G</td><td>A</td><td>0.787234</td><td>⋯</td><td>0.1312</td><td> 0.113780</td><td>0.00486738</td><td>7.500497e-121</td><td>-0.236422</td><td>0.156769</td><td>0.1315321</td><td>0.0344273</td><td>20</td><td>BimmNaive</td></tr>\n",
       "\t<tr><td>RPS8 </td><td>1</td><td>RPS8 </td><td> 45240923</td><td>rs12120833</td><td>1</td><td> 45241285</td><td>C</td><td>G</td><td>0.850097</td><td>⋯</td><td>0.1065</td><td>-0.105432</td><td>0.00500701</td><td> 1.980368e-98</td><td>-0.385083</td><td>0.238770</td><td>0.1067927</td><td>0.6779076</td><td>20</td><td>BimmNaive</td></tr>\n",
       "</tbody>\n",
       "</table>\n"
      ],
      "text/latex": [
       "A data.table: 2 × 22\n",
       "\\begin{tabular}{lllllllllllllllllllll}\n",
       " probeID & ProbeChr & Gene & Probe\\_bp & topSNP & topSNP\\_chr & topSNP\\_bp & A1 & A2 & Freq & ⋯ & p\\_GWAS & b\\_eQTL & se\\_eQTL & p\\_eQTL & b\\_SMR & se\\_SMR & p\\_SMR & p\\_HEIDI & nsnp\\_HEIDI & Cell\\_type\\\\\n",
       " <chr> & <int> & <chr> & <int> & <chr> & <int> & <int> & <chr> & <chr> & <dbl> & ⋯ & <dbl> & <dbl> & <dbl> & <dbl> & <dbl> & <dbl> & <dbl> & <dbl> & <int> & <chr>\\\\\n",
       "\\hline\n",
       "\t FCRL5 & 1 & FCRL5 & 157483167 & rs12741984 & 1 & 157534818 & G & A & 0.787234 & ⋯ & 0.1312 &  0.113780 & 0.00486738 & 7.500497e-121 & -0.236422 & 0.156769 & 0.1315321 & 0.0344273 & 20 & BimmNaive\\\\\n",
       "\t RPS8  & 1 & RPS8  &  45240923 & rs12120833 & 1 &  45241285 & C & G & 0.850097 & ⋯ & 0.1065 & -0.105432 & 0.00500701 &  1.980368e-98 & -0.385083 & 0.238770 & 0.1067927 & 0.6779076 & 20 & BimmNaive\\\\\n",
       "\\end{tabular}\n"
      ],
      "text/markdown": [
       "\n",
       "A data.table: 2 × 22\n",
       "\n",
       "| probeID &lt;chr&gt; | ProbeChr &lt;int&gt; | Gene &lt;chr&gt; | Probe_bp &lt;int&gt; | topSNP &lt;chr&gt; | topSNP_chr &lt;int&gt; | topSNP_bp &lt;int&gt; | A1 &lt;chr&gt; | A2 &lt;chr&gt; | Freq &lt;dbl&gt; | ⋯ ⋯ | p_GWAS &lt;dbl&gt; | b_eQTL &lt;dbl&gt; | se_eQTL &lt;dbl&gt; | p_eQTL &lt;dbl&gt; | b_SMR &lt;dbl&gt; | se_SMR &lt;dbl&gt; | p_SMR &lt;dbl&gt; | p_HEIDI &lt;dbl&gt; | nsnp_HEIDI &lt;int&gt; | Cell_type &lt;chr&gt; |\n",
       "|---|---|---|---|---|---|---|---|---|---|---|---|---|---|---|---|---|---|---|---|---|\n",
       "| FCRL5 | 1 | FCRL5 | 157483167 | rs12741984 | 1 | 157534818 | G | A | 0.787234 | ⋯ | 0.1312 |  0.113780 | 0.00486738 | 7.500497e-121 | -0.236422 | 0.156769 | 0.1315321 | 0.0344273 | 20 | BimmNaive |\n",
       "| RPS8  | 1 | RPS8  |  45240923 | rs12120833 | 1 |  45241285 | C | G | 0.850097 | ⋯ | 0.1065 | -0.105432 | 0.00500701 |  1.980368e-98 | -0.385083 | 0.238770 | 0.1067927 | 0.6779076 | 20 | BimmNaive |\n",
       "\n"
      ],
      "text/plain": [
       "  probeID ProbeChr Gene  Probe_bp  topSNP     topSNP_chr topSNP_bp A1 A2\n",
       "1 FCRL5   1        FCRL5 157483167 rs12741984 1          157534818 G  A \n",
       "2 RPS8    1        RPS8   45240923 rs12120833 1           45241285 C  G \n",
       "  Freq     ⋯ p_GWAS b_eQTL    se_eQTL    p_eQTL        b_SMR     se_SMR  \n",
       "1 0.787234 ⋯ 0.1312  0.113780 0.00486738 7.500497e-121 -0.236422 0.156769\n",
       "2 0.850097 ⋯ 0.1065 -0.105432 0.00500701  1.980368e-98 -0.385083 0.238770\n",
       "  p_SMR     p_HEIDI   nsnp_HEIDI Cell_type\n",
       "1 0.1315321 0.0344273 20         BimmNaive\n",
       "2 0.1067927 0.6779076 20         BimmNaive"
      ]
     },
     "metadata": {},
     "output_type": "display_data"
    }
   ],
   "source": [
    "# Matrix eQTL results\n",
    "matrix_eqtl_smr_results_dir = \"/directflow/SCCGGroupShare/projects/angxue/proj/SAIGE-eQTL/SMR/\"\n",
    "matrix_ra_file = paste0(matrix_eqtl_smr_results_dir, \"ra_all_14_celltypes_all_smr.txt\")\n",
    "matrix_df = fread(matrix_ra_file)\n",
    "head(matrix_df,2)"
   ]
  },
  {
   "cell_type": "code",
   "execution_count": 20,
   "id": "8bee0ba9",
   "metadata": {},
   "outputs": [
    {
     "data": {
      "text/html": [
       "6094"
      ],
      "text/latex": [
       "6094"
      ],
      "text/markdown": [
       "6094"
      ],
      "text/plain": [
       "[1] 6094"
      ]
     },
     "metadata": {},
     "output_type": "display_data"
    },
    {
     "data": {
      "text/html": [
       "14526"
      ],
      "text/latex": [
       "14526"
      ],
      "text/markdown": [
       "14526"
      ],
      "text/plain": [
       "[1] 14526"
      ]
     },
     "metadata": {},
     "output_type": "display_data"
    },
    {
     "data": {
      "text/html": [
       "<table class=\"dataframe\">\n",
       "<caption>A data.table: 2 × 23</caption>\n",
       "<thead>\n",
       "\t<tr><th scope=col>probeID</th><th scope=col>ProbeChr</th><th scope=col>Gene</th><th scope=col>Probe_bp</th><th scope=col>topSNP</th><th scope=col>topSNP_chr</th><th scope=col>topSNP_bp</th><th scope=col>A1</th><th scope=col>A2</th><th scope=col>Freq</th><th scope=col>⋯</th><th scope=col>b_eQTL</th><th scope=col>se_eQTL</th><th scope=col>p_eQTL</th><th scope=col>b_SMR</th><th scope=col>se_SMR</th><th scope=col>p_SMR</th><th scope=col>p_HEIDI</th><th scope=col>nsnp_HEIDI</th><th scope=col>Cell_type</th><th scope=col>comb</th></tr>\n",
       "\t<tr><th scope=col>&lt;chr&gt;</th><th scope=col>&lt;int&gt;</th><th scope=col>&lt;chr&gt;</th><th scope=col>&lt;int&gt;</th><th scope=col>&lt;chr&gt;</th><th scope=col>&lt;int&gt;</th><th scope=col>&lt;int&gt;</th><th scope=col>&lt;chr&gt;</th><th scope=col>&lt;chr&gt;</th><th scope=col>&lt;dbl&gt;</th><th scope=col>⋯</th><th scope=col>&lt;dbl&gt;</th><th scope=col>&lt;dbl&gt;</th><th scope=col>&lt;dbl&gt;</th><th scope=col>&lt;dbl&gt;</th><th scope=col>&lt;dbl&gt;</th><th scope=col>&lt;dbl&gt;</th><th scope=col>&lt;dbl&gt;</th><th scope=col>&lt;int&gt;</th><th scope=col>&lt;chr&gt;</th><th scope=col>&lt;chr&gt;</th></tr>\n",
       "</thead>\n",
       "<tbody>\n",
       "\t<tr><td>FCRL5</td><td>1</td><td>FCRL5</td><td>157483167</td><td>rs12741984</td><td>1</td><td>157534818</td><td>G</td><td>A</td><td>0.787234</td><td>⋯</td><td> 0.113780</td><td>0.00486738</td><td>7.500497e-121</td><td>-0.236422</td><td>0.156769</td><td>0.1315321</td><td>0.0344273</td><td>20</td><td>BimmNaive</td><td>FCRL5_BimmNaive</td></tr>\n",
       "\t<tr><td>RPS8 </td><td>1</td><td>RPS8 </td><td> 45240923</td><td>rs12120833</td><td>1</td><td> 45241285</td><td>C</td><td>G</td><td>0.850097</td><td>⋯</td><td>-0.105432</td><td>0.00500701</td><td> 1.980368e-98</td><td>-0.385083</td><td>0.238770</td><td>0.1067927</td><td>0.6779076</td><td>20</td><td>BimmNaive</td><td>RPS8_BimmNaive </td></tr>\n",
       "</tbody>\n",
       "</table>\n"
      ],
      "text/latex": [
       "A data.table: 2 × 23\n",
       "\\begin{tabular}{lllllllllllllllllllll}\n",
       " probeID & ProbeChr & Gene & Probe\\_bp & topSNP & topSNP\\_chr & topSNP\\_bp & A1 & A2 & Freq & ⋯ & b\\_eQTL & se\\_eQTL & p\\_eQTL & b\\_SMR & se\\_SMR & p\\_SMR & p\\_HEIDI & nsnp\\_HEIDI & Cell\\_type & comb\\\\\n",
       " <chr> & <int> & <chr> & <int> & <chr> & <int> & <int> & <chr> & <chr> & <dbl> & ⋯ & <dbl> & <dbl> & <dbl> & <dbl> & <dbl> & <dbl> & <dbl> & <int> & <chr> & <chr>\\\\\n",
       "\\hline\n",
       "\t FCRL5 & 1 & FCRL5 & 157483167 & rs12741984 & 1 & 157534818 & G & A & 0.787234 & ⋯ &  0.113780 & 0.00486738 & 7.500497e-121 & -0.236422 & 0.156769 & 0.1315321 & 0.0344273 & 20 & BimmNaive & FCRL5\\_BimmNaive\\\\\n",
       "\t RPS8  & 1 & RPS8  &  45240923 & rs12120833 & 1 &  45241285 & C & G & 0.850097 & ⋯ & -0.105432 & 0.00500701 &  1.980368e-98 & -0.385083 & 0.238770 & 0.1067927 & 0.6779076 & 20 & BimmNaive & RPS8\\_BimmNaive \\\\\n",
       "\\end{tabular}\n"
      ],
      "text/markdown": [
       "\n",
       "A data.table: 2 × 23\n",
       "\n",
       "| probeID &lt;chr&gt; | ProbeChr &lt;int&gt; | Gene &lt;chr&gt; | Probe_bp &lt;int&gt; | topSNP &lt;chr&gt; | topSNP_chr &lt;int&gt; | topSNP_bp &lt;int&gt; | A1 &lt;chr&gt; | A2 &lt;chr&gt; | Freq &lt;dbl&gt; | ⋯ ⋯ | b_eQTL &lt;dbl&gt; | se_eQTL &lt;dbl&gt; | p_eQTL &lt;dbl&gt; | b_SMR &lt;dbl&gt; | se_SMR &lt;dbl&gt; | p_SMR &lt;dbl&gt; | p_HEIDI &lt;dbl&gt; | nsnp_HEIDI &lt;int&gt; | Cell_type &lt;chr&gt; | comb &lt;chr&gt; |\n",
       "|---|---|---|---|---|---|---|---|---|---|---|---|---|---|---|---|---|---|---|---|---|\n",
       "| FCRL5 | 1 | FCRL5 | 157483167 | rs12741984 | 1 | 157534818 | G | A | 0.787234 | ⋯ |  0.113780 | 0.00486738 | 7.500497e-121 | -0.236422 | 0.156769 | 0.1315321 | 0.0344273 | 20 | BimmNaive | FCRL5_BimmNaive |\n",
       "| RPS8  | 1 | RPS8  |  45240923 | rs12120833 | 1 |  45241285 | C | G | 0.850097 | ⋯ | -0.105432 | 0.00500701 |  1.980368e-98 | -0.385083 | 0.238770 | 0.1067927 | 0.6779076 | 20 | BimmNaive | RPS8_BimmNaive  |\n",
       "\n"
      ],
      "text/plain": [
       "  probeID ProbeChr Gene  Probe_bp  topSNP     topSNP_chr topSNP_bp A1 A2\n",
       "1 FCRL5   1        FCRL5 157483167 rs12741984 1          157534818 G  A \n",
       "2 RPS8    1        RPS8   45240923 rs12120833 1           45241285 C  G \n",
       "  Freq     ⋯ b_eQTL    se_eQTL    p_eQTL        b_SMR     se_SMR   p_SMR    \n",
       "1 0.787234 ⋯  0.113780 0.00486738 7.500497e-121 -0.236422 0.156769 0.1315321\n",
       "2 0.850097 ⋯ -0.105432 0.00500701  1.980368e-98 -0.385083 0.238770 0.1067927\n",
       "  p_HEIDI   nsnp_HEIDI Cell_type comb           \n",
       "1 0.0344273 20         BimmNaive FCRL5_BimmNaive\n",
       "2 0.6779076 20         BimmNaive RPS8_BimmNaive "
      ]
     },
     "metadata": {},
     "output_type": "display_data"
    }
   ],
   "source": [
    "# Calculate number of unique genes, and combination of genes + celltypes\n",
    "length(unique(matrix_df$Gene))\n",
    "matrix_df$comb = paste0(matrix_df$Gene,\"_\",matrix_df$Cell_type)\n",
    "length(unique(matrix_df$comb))\n",
    "head(matrix_df,2)"
   ]
  },
  {
   "cell_type": "code",
   "execution_count": 21,
   "id": "bb49fa5a",
   "metadata": {},
   "outputs": [],
   "source": [
    "# p<0.05/M, where M is the number of tests (number of genes)"
   ]
  },
  {
   "cell_type": "code",
   "execution_count": 22,
   "id": "fd12238e",
   "metadata": {},
   "outputs": [
    {
     "data": {
      "text/html": [
       "209"
      ],
      "text/latex": [
       "209"
      ],
      "text/markdown": [
       "209"
      ],
      "text/plain": [
       "[1] 209"
      ]
     },
     "metadata": {},
     "output_type": "display_data"
    },
    {
     "data": {
      "text/html": [
       "189"
      ],
      "text/latex": [
       "189"
      ],
      "text/markdown": [
       "189"
      ],
      "text/plain": [
       "[1] 189"
      ]
     },
     "metadata": {},
     "output_type": "display_data"
    }
   ],
   "source": [
    "nrow(matrix_df[matrix_df$p_SMR < 0.05/length(unique(matrix_df$Gene)),]) # M = number of genes\n",
    "nrow(matrix_df[matrix_df$p_SMR < 0.05/length(unique(matrix_df$comb)),]) # M = number of genes-ct combinations"
   ]
  },
  {
   "cell_type": "code",
   "execution_count": 23,
   "id": "12062bde",
   "metadata": {},
   "outputs": [
    {
     "data": {
      "text/html": [
       "483"
      ],
      "text/latex": [
       "483"
      ],
      "text/markdown": [
       "483"
      ],
      "text/plain": [
       "[1] 483"
      ]
     },
     "metadata": {},
     "output_type": "display_data"
    }
   ],
   "source": [
    "# significant results at FDR<5% instead (using qvalue)\n",
    "matrix_df$qv = qvalue(matrix_df$p_SMR)$qvalues\n",
    "nrow(matrix_df[matrix_df$qv<0.05,])"
   ]
  },
  {
   "cell_type": "code",
   "execution_count": null,
   "id": "10f4aafb",
   "metadata": {},
   "outputs": [],
   "source": []
  },
  {
   "cell_type": "code",
   "execution_count": null,
   "id": "ae1b3e0f",
   "metadata": {},
   "outputs": [],
   "source": []
  },
  {
   "cell_type": "code",
   "execution_count": 24,
   "id": "ec752228",
   "metadata": {},
   "outputs": [
    {
     "data": {
      "text/html": [
       "<table class=\"dataframe\">\n",
       "<caption>A data.table: 2 × 22</caption>\n",
       "<thead>\n",
       "\t<tr><th scope=col>probeID</th><th scope=col>ProbeChr</th><th scope=col>Gene</th><th scope=col>Probe_bp</th><th scope=col>topSNP</th><th scope=col>topSNP_chr</th><th scope=col>topSNP_bp</th><th scope=col>A1</th><th scope=col>A2</th><th scope=col>Freq</th><th scope=col>⋯</th><th scope=col>p_GWAS</th><th scope=col>b_eQTL</th><th scope=col>se_eQTL</th><th scope=col>p_eQTL</th><th scope=col>b_SMR</th><th scope=col>se_SMR</th><th scope=col>p_SMR</th><th scope=col>p_HEIDI</th><th scope=col>nsnp_HEIDI</th><th scope=col>Cell_type</th></tr>\n",
       "\t<tr><th scope=col>&lt;chr&gt;</th><th scope=col>&lt;int&gt;</th><th scope=col>&lt;chr&gt;</th><th scope=col>&lt;int&gt;</th><th scope=col>&lt;chr&gt;</th><th scope=col>&lt;int&gt;</th><th scope=col>&lt;int&gt;</th><th scope=col>&lt;chr&gt;</th><th scope=col>&lt;chr&gt;</th><th scope=col>&lt;dbl&gt;</th><th scope=col>⋯</th><th scope=col>&lt;dbl&gt;</th><th scope=col>&lt;dbl&gt;</th><th scope=col>&lt;dbl&gt;</th><th scope=col>&lt;dbl&gt;</th><th scope=col>&lt;dbl&gt;</th><th scope=col>&lt;dbl&gt;</th><th scope=col>&lt;dbl&gt;</th><th scope=col>&lt;dbl&gt;</th><th scope=col>&lt;int&gt;</th><th scope=col>&lt;chr&gt;</th></tr>\n",
       "</thead>\n",
       "<tbody>\n",
       "\t<tr><td>NOC2L  </td><td>1</td><td>NOC2L  </td><td> 879584</td><td>rs3748595 </td><td>1</td><td> 887560</td><td>A</td><td>C</td><td>0.0672147</td><td>⋯</td><td>0.4313</td><td>-0.153020</td><td>0.0352961</td><td>1.455500e-05</td><td> 0.276434</td><td>0.35668</td><td>0.4383276</td><td>0.3042242</td><td>3</td><td>BimmNaive</td></tr>\n",
       "\t<tr><td>C1orf86</td><td>1</td><td>C1orf86</td><td>2115903</td><td>rs11587831</td><td>1</td><td>2110848</td><td>T</td><td>G</td><td>0.7853000</td><td>⋯</td><td>0.6300</td><td>-0.115809</td><td>0.0148762</td><td>6.980209e-15</td><td>-0.115708</td><td>0.24051</td><td>0.6304503</td><td>0.2562137</td><td>8</td><td>BimmNaive</td></tr>\n",
       "</tbody>\n",
       "</table>\n"
      ],
      "text/latex": [
       "A data.table: 2 × 22\n",
       "\\begin{tabular}{lllllllllllllllllllll}\n",
       " probeID & ProbeChr & Gene & Probe\\_bp & topSNP & topSNP\\_chr & topSNP\\_bp & A1 & A2 & Freq & ⋯ & p\\_GWAS & b\\_eQTL & se\\_eQTL & p\\_eQTL & b\\_SMR & se\\_SMR & p\\_SMR & p\\_HEIDI & nsnp\\_HEIDI & Cell\\_type\\\\\n",
       " <chr> & <int> & <chr> & <int> & <chr> & <int> & <int> & <chr> & <chr> & <dbl> & ⋯ & <dbl> & <dbl> & <dbl> & <dbl> & <dbl> & <dbl> & <dbl> & <dbl> & <int> & <chr>\\\\\n",
       "\\hline\n",
       "\t NOC2L   & 1 & NOC2L   &  879584 & rs3748595  & 1 &  887560 & A & C & 0.0672147 & ⋯ & 0.4313 & -0.153020 & 0.0352961 & 1.455500e-05 &  0.276434 & 0.35668 & 0.4383276 & 0.3042242 & 3 & BimmNaive\\\\\n",
       "\t C1orf86 & 1 & C1orf86 & 2115903 & rs11587831 & 1 & 2110848 & T & G & 0.7853000 & ⋯ & 0.6300 & -0.115809 & 0.0148762 & 6.980209e-15 & -0.115708 & 0.24051 & 0.6304503 & 0.2562137 & 8 & BimmNaive\\\\\n",
       "\\end{tabular}\n"
      ],
      "text/markdown": [
       "\n",
       "A data.table: 2 × 22\n",
       "\n",
       "| probeID &lt;chr&gt; | ProbeChr &lt;int&gt; | Gene &lt;chr&gt; | Probe_bp &lt;int&gt; | topSNP &lt;chr&gt; | topSNP_chr &lt;int&gt; | topSNP_bp &lt;int&gt; | A1 &lt;chr&gt; | A2 &lt;chr&gt; | Freq &lt;dbl&gt; | ⋯ ⋯ | p_GWAS &lt;dbl&gt; | b_eQTL &lt;dbl&gt; | se_eQTL &lt;dbl&gt; | p_eQTL &lt;dbl&gt; | b_SMR &lt;dbl&gt; | se_SMR &lt;dbl&gt; | p_SMR &lt;dbl&gt; | p_HEIDI &lt;dbl&gt; | nsnp_HEIDI &lt;int&gt; | Cell_type &lt;chr&gt; |\n",
       "|---|---|---|---|---|---|---|---|---|---|---|---|---|---|---|---|---|---|---|---|---|\n",
       "| NOC2L   | 1 | NOC2L   |  879584 | rs3748595  | 1 |  887560 | A | C | 0.0672147 | ⋯ | 0.4313 | -0.153020 | 0.0352961 | 1.455500e-05 |  0.276434 | 0.35668 | 0.4383276 | 0.3042242 | 3 | BimmNaive |\n",
       "| C1orf86 | 1 | C1orf86 | 2115903 | rs11587831 | 1 | 2110848 | T | G | 0.7853000 | ⋯ | 0.6300 | -0.115809 | 0.0148762 | 6.980209e-15 | -0.115708 | 0.24051 | 0.6304503 | 0.2562137 | 8 | BimmNaive |\n",
       "\n"
      ],
      "text/plain": [
       "  probeID ProbeChr Gene    Probe_bp topSNP     topSNP_chr topSNP_bp A1 A2\n",
       "1 NOC2L   1        NOC2L    879584  rs3748595  1           887560   A  C \n",
       "2 C1orf86 1        C1orf86 2115903  rs11587831 1          2110848   T  G \n",
       "  Freq      ⋯ p_GWAS b_eQTL    se_eQTL   p_eQTL       b_SMR     se_SMR \n",
       "1 0.0672147 ⋯ 0.4313 -0.153020 0.0352961 1.455500e-05  0.276434 0.35668\n",
       "2 0.7853000 ⋯ 0.6300 -0.115809 0.0148762 6.980209e-15 -0.115708 0.24051\n",
       "  p_SMR     p_HEIDI   nsnp_HEIDI Cell_type\n",
       "1 0.4383276 0.3042242 3          BimmNaive\n",
       "2 0.6304503 0.2562137 8          BimmNaive"
      ]
     },
     "metadata": {},
     "output_type": "display_data"
    }
   ],
   "source": [
    "# SAIGE-QTL results\n",
    "saige_eqtl_smr_results_dir = \"/directflow/SCCGGroupShare/projects/angxue/proj/SAIGE-eQTL/SMR/saige_eQTL/\"\n",
    "saige_ra_file = paste0(saige_eqtl_smr_results_dir, \"ra_all_14_celltypes_all_smr.txt\")\n",
    "saige_df = fread(saige_ra_file)\n",
    "head(saige_df,2)"
   ]
  },
  {
   "cell_type": "code",
   "execution_count": 25,
   "id": "d912fd35",
   "metadata": {},
   "outputs": [
    {
     "data": {
      "text/html": [
       "5672"
      ],
      "text/latex": [
       "5672"
      ],
      "text/markdown": [
       "5672"
      ],
      "text/plain": [
       "[1] 5672"
      ]
     },
     "metadata": {},
     "output_type": "display_data"
    },
    {
     "data": {
      "text/html": [
       "16417"
      ],
      "text/latex": [
       "16417"
      ],
      "text/markdown": [
       "16417"
      ],
      "text/plain": [
       "[1] 16417"
      ]
     },
     "metadata": {},
     "output_type": "display_data"
    },
    {
     "data": {
      "text/html": [
       "<table class=\"dataframe\">\n",
       "<caption>A data.table: 2 × 23</caption>\n",
       "<thead>\n",
       "\t<tr><th scope=col>probeID</th><th scope=col>ProbeChr</th><th scope=col>Gene</th><th scope=col>Probe_bp</th><th scope=col>topSNP</th><th scope=col>topSNP_chr</th><th scope=col>topSNP_bp</th><th scope=col>A1</th><th scope=col>A2</th><th scope=col>Freq</th><th scope=col>⋯</th><th scope=col>b_eQTL</th><th scope=col>se_eQTL</th><th scope=col>p_eQTL</th><th scope=col>b_SMR</th><th scope=col>se_SMR</th><th scope=col>p_SMR</th><th scope=col>p_HEIDI</th><th scope=col>nsnp_HEIDI</th><th scope=col>Cell_type</th><th scope=col>comb</th></tr>\n",
       "\t<tr><th scope=col>&lt;chr&gt;</th><th scope=col>&lt;int&gt;</th><th scope=col>&lt;chr&gt;</th><th scope=col>&lt;int&gt;</th><th scope=col>&lt;chr&gt;</th><th scope=col>&lt;int&gt;</th><th scope=col>&lt;int&gt;</th><th scope=col>&lt;chr&gt;</th><th scope=col>&lt;chr&gt;</th><th scope=col>&lt;dbl&gt;</th><th scope=col>⋯</th><th scope=col>&lt;dbl&gt;</th><th scope=col>&lt;dbl&gt;</th><th scope=col>&lt;dbl&gt;</th><th scope=col>&lt;dbl&gt;</th><th scope=col>&lt;dbl&gt;</th><th scope=col>&lt;dbl&gt;</th><th scope=col>&lt;dbl&gt;</th><th scope=col>&lt;int&gt;</th><th scope=col>&lt;chr&gt;</th><th scope=col>&lt;chr&gt;</th></tr>\n",
       "</thead>\n",
       "<tbody>\n",
       "\t<tr><td>NOC2L  </td><td>1</td><td>NOC2L  </td><td> 879584</td><td>rs3748595 </td><td>1</td><td> 887560</td><td>A</td><td>C</td><td>0.0672147</td><td>⋯</td><td>-0.153020</td><td>0.0352961</td><td>1.455500e-05</td><td> 0.276434</td><td>0.35668</td><td>0.4383276</td><td>0.3042242</td><td>3</td><td>BimmNaive</td><td>NOC2L_BimmNaive  </td></tr>\n",
       "\t<tr><td>C1orf86</td><td>1</td><td>C1orf86</td><td>2115903</td><td>rs11587831</td><td>1</td><td>2110848</td><td>T</td><td>G</td><td>0.7853000</td><td>⋯</td><td>-0.115809</td><td>0.0148762</td><td>6.980209e-15</td><td>-0.115708</td><td>0.24051</td><td>0.6304503</td><td>0.2562137</td><td>8</td><td>BimmNaive</td><td>C1orf86_BimmNaive</td></tr>\n",
       "</tbody>\n",
       "</table>\n"
      ],
      "text/latex": [
       "A data.table: 2 × 23\n",
       "\\begin{tabular}{lllllllllllllllllllll}\n",
       " probeID & ProbeChr & Gene & Probe\\_bp & topSNP & topSNP\\_chr & topSNP\\_bp & A1 & A2 & Freq & ⋯ & b\\_eQTL & se\\_eQTL & p\\_eQTL & b\\_SMR & se\\_SMR & p\\_SMR & p\\_HEIDI & nsnp\\_HEIDI & Cell\\_type & comb\\\\\n",
       " <chr> & <int> & <chr> & <int> & <chr> & <int> & <int> & <chr> & <chr> & <dbl> & ⋯ & <dbl> & <dbl> & <dbl> & <dbl> & <dbl> & <dbl> & <dbl> & <int> & <chr> & <chr>\\\\\n",
       "\\hline\n",
       "\t NOC2L   & 1 & NOC2L   &  879584 & rs3748595  & 1 &  887560 & A & C & 0.0672147 & ⋯ & -0.153020 & 0.0352961 & 1.455500e-05 &  0.276434 & 0.35668 & 0.4383276 & 0.3042242 & 3 & BimmNaive & NOC2L\\_BimmNaive  \\\\\n",
       "\t C1orf86 & 1 & C1orf86 & 2115903 & rs11587831 & 1 & 2110848 & T & G & 0.7853000 & ⋯ & -0.115809 & 0.0148762 & 6.980209e-15 & -0.115708 & 0.24051 & 0.6304503 & 0.2562137 & 8 & BimmNaive & C1orf86\\_BimmNaive\\\\\n",
       "\\end{tabular}\n"
      ],
      "text/markdown": [
       "\n",
       "A data.table: 2 × 23\n",
       "\n",
       "| probeID &lt;chr&gt; | ProbeChr &lt;int&gt; | Gene &lt;chr&gt; | Probe_bp &lt;int&gt; | topSNP &lt;chr&gt; | topSNP_chr &lt;int&gt; | topSNP_bp &lt;int&gt; | A1 &lt;chr&gt; | A2 &lt;chr&gt; | Freq &lt;dbl&gt; | ⋯ ⋯ | b_eQTL &lt;dbl&gt; | se_eQTL &lt;dbl&gt; | p_eQTL &lt;dbl&gt; | b_SMR &lt;dbl&gt; | se_SMR &lt;dbl&gt; | p_SMR &lt;dbl&gt; | p_HEIDI &lt;dbl&gt; | nsnp_HEIDI &lt;int&gt; | Cell_type &lt;chr&gt; | comb &lt;chr&gt; |\n",
       "|---|---|---|---|---|---|---|---|---|---|---|---|---|---|---|---|---|---|---|---|---|\n",
       "| NOC2L   | 1 | NOC2L   |  879584 | rs3748595  | 1 |  887560 | A | C | 0.0672147 | ⋯ | -0.153020 | 0.0352961 | 1.455500e-05 |  0.276434 | 0.35668 | 0.4383276 | 0.3042242 | 3 | BimmNaive | NOC2L_BimmNaive   |\n",
       "| C1orf86 | 1 | C1orf86 | 2115903 | rs11587831 | 1 | 2110848 | T | G | 0.7853000 | ⋯ | -0.115809 | 0.0148762 | 6.980209e-15 | -0.115708 | 0.24051 | 0.6304503 | 0.2562137 | 8 | BimmNaive | C1orf86_BimmNaive |\n",
       "\n"
      ],
      "text/plain": [
       "  probeID ProbeChr Gene    Probe_bp topSNP     topSNP_chr topSNP_bp A1 A2\n",
       "1 NOC2L   1        NOC2L    879584  rs3748595  1           887560   A  C \n",
       "2 C1orf86 1        C1orf86 2115903  rs11587831 1          2110848   T  G \n",
       "  Freq      ⋯ b_eQTL    se_eQTL   p_eQTL       b_SMR     se_SMR  p_SMR    \n",
       "1 0.0672147 ⋯ -0.153020 0.0352961 1.455500e-05  0.276434 0.35668 0.4383276\n",
       "2 0.7853000 ⋯ -0.115809 0.0148762 6.980209e-15 -0.115708 0.24051 0.6304503\n",
       "  p_HEIDI   nsnp_HEIDI Cell_type comb             \n",
       "1 0.3042242 3          BimmNaive NOC2L_BimmNaive  \n",
       "2 0.2562137 8          BimmNaive C1orf86_BimmNaive"
      ]
     },
     "metadata": {},
     "output_type": "display_data"
    }
   ],
   "source": [
    "length(unique(saige_df$Gene))\n",
    "saige_df$comb = paste0(saige_df$Gene,\"_\",saige_df$Cell_type)\n",
    "length(unique(saige_df$comb))\n",
    "head(saige_df,2)"
   ]
  },
  {
   "cell_type": "code",
   "execution_count": 26,
   "id": "21313568",
   "metadata": {},
   "outputs": [
    {
     "data": {
      "text/html": [
       "249"
      ],
      "text/latex": [
       "249"
      ],
      "text/markdown": [
       "249"
      ],
      "text/plain": [
       "[1] 249"
      ]
     },
     "metadata": {},
     "output_type": "display_data"
    },
    {
     "data": {
      "text/html": [
       "216"
      ],
      "text/latex": [
       "216"
      ],
      "text/markdown": [
       "216"
      ],
      "text/plain": [
       "[1] 216"
      ]
     },
     "metadata": {},
     "output_type": "display_data"
    }
   ],
   "source": [
    "# significant results at p<0.05/M with M either # genes or # gene-celltype combinations\n",
    "nrow(saige_df[saige_df$p_SMR < 0.05/length(unique(saige_df$Gene)),])\n",
    "nrow(saige_df[saige_df$p_SMR < 0.05/length(unique(saige_df$comb)),])"
   ]
  },
  {
   "cell_type": "code",
   "execution_count": 27,
   "id": "105e1d55",
   "metadata": {},
   "outputs": [
    {
     "data": {
      "text/html": [
       "601"
      ],
      "text/latex": [
       "601"
      ],
      "text/markdown": [
       "601"
      ],
      "text/plain": [
       "[1] 601"
      ]
     },
     "metadata": {},
     "output_type": "display_data"
    }
   ],
   "source": [
    "# significant results at FDR<5% instead (using qvalue)\n",
    "saige_df$qv = qvalue(saige_df$p_SMR)$qvalues\n",
    "nrow(saige_df[saige_df$qv<0.05,])"
   ]
  },
  {
   "cell_type": "code",
   "execution_count": null,
   "id": "7fc94444",
   "metadata": {},
   "outputs": [],
   "source": []
  },
  {
   "cell_type": "code",
   "execution_count": 28,
   "id": "ed33208f",
   "metadata": {},
   "outputs": [
    {
     "data": {
      "text/html": [
       "483"
      ],
      "text/latex": [
       "483"
      ],
      "text/markdown": [
       "483"
      ],
      "text/plain": [
       "[1] 483"
      ]
     },
     "metadata": {},
     "output_type": "display_data"
    },
    {
     "data": {
      "text/html": [
       "601"
      ],
      "text/latex": [
       "601"
      ],
      "text/markdown": [
       "601"
      ],
      "text/plain": [
       "[1] 601"
      ]
     },
     "metadata": {},
     "output_type": "display_data"
    },
    {
     "data": {
      "text/html": [
       "449"
      ],
      "text/latex": [
       "449"
      ],
      "text/markdown": [
       "449"
      ],
      "text/plain": [
       "[1] 449"
      ]
     },
     "metadata": {},
     "output_type": "display_data"
    }
   ],
   "source": [
    "# Overlap (everything tested)\n",
    "\n",
    "matrix_sign_combs = matrix_df[matrix_df$qv < 0.05,\"comb\"]$comb\n",
    "length(matrix_sign_combs)\n",
    "\n",
    "saige_sign_combs = saige_df[saige_df$qv < 0.05,\"comb\"]$comb\n",
    "length(saige_sign_combs)\n",
    "\n",
    "length(saige_sign_combs[saige_sign_combs %in% matrix_sign_combs])"
   ]
  },
  {
   "cell_type": "code",
   "execution_count": null,
   "id": "946fa23e",
   "metadata": {},
   "outputs": [],
   "source": []
  },
  {
   "cell_type": "code",
   "execution_count": null,
   "id": "925cec3c",
   "metadata": {},
   "outputs": [],
   "source": []
  },
  {
   "cell_type": "code",
   "execution_count": 29,
   "id": "02bfcdfb",
   "metadata": {},
   "outputs": [
    {
     "data": {
      "text/html": [
       "11988"
      ],
      "text/latex": [
       "11988"
      ],
      "text/markdown": [
       "11988"
      ],
      "text/plain": [
       "[1] 11988"
      ]
     },
     "metadata": {},
     "output_type": "display_data"
    }
   ],
   "source": [
    "# Overlap (common gene-cell type combinations only)\n",
    "matrix_combs = unique(matrix_df$comb)\n",
    "saige_combs = unique(saige_df$comb)\n",
    "common_combs = saige_combs[saige_combs %in% matrix_combs]\n",
    "length(common_combs)"
   ]
  },
  {
   "cell_type": "code",
   "execution_count": 30,
   "id": "a01edb82",
   "metadata": {},
   "outputs": [],
   "source": [
    "matrix_df_common = matrix_df[matrix_df$comb %in% common_combs,]\n",
    "matrix_df_common$qv = qvalue(matrix_df_common$p_SMR)$qvalues\n",
    "saige_df_common = saige_df[saige_df$comb %in% common_combs,]\n",
    "saige_df_common$qv = qvalue(saige_df_common$p_SMR)$qvalues"
   ]
  },
  {
   "cell_type": "code",
   "execution_count": 31,
   "id": "59e02ade",
   "metadata": {},
   "outputs": [
    {
     "data": {
      "text/html": [
       "487"
      ],
      "text/latex": [
       "487"
      ],
      "text/markdown": [
       "487"
      ],
      "text/plain": [
       "[1] 487"
      ]
     },
     "metadata": {},
     "output_type": "display_data"
    },
    {
     "data": {
      "text/html": [
       "529"
      ],
      "text/latex": [
       "529"
      ],
      "text/markdown": [
       "529"
      ],
      "text/plain": [
       "[1] 529"
      ]
     },
     "metadata": {},
     "output_type": "display_data"
    },
    {
     "data": {
      "text/html": [
       "466"
      ],
      "text/latex": [
       "466"
      ],
      "text/markdown": [
       "466"
      ],
      "text/plain": [
       "[1] 466"
      ]
     },
     "metadata": {},
     "output_type": "display_data"
    }
   ],
   "source": [
    "matrix_sign_combs = matrix_df_common[matrix_df_common$qv < 0.05,\"comb\"]$comb\n",
    "length(matrix_sign_combs)\n",
    "\n",
    "saige_sign_combs = saige_df_common[saige_df_common$qv < 0.05,\"comb\"]$comb\n",
    "length(saige_sign_combs)\n",
    "\n",
    "length(saige_sign_combs[saige_sign_combs %in% matrix_sign_combs])"
   ]
  },
  {
   "cell_type": "code",
   "execution_count": null,
   "id": "885c2082",
   "metadata": {},
   "outputs": [],
   "source": []
  },
  {
   "cell_type": "code",
   "execution_count": null,
   "id": "f68665d3",
   "metadata": {},
   "outputs": [],
   "source": []
  },
  {
   "cell_type": "code",
   "execution_count": null,
   "id": "8c40feb9",
   "metadata": {},
   "outputs": [],
   "source": []
  },
  {
   "cell_type": "code",
   "execution_count": 32,
   "id": "8c40f2d0",
   "metadata": {},
   "outputs": [
    {
     "data": {
      "text/html": [
       "<table class=\"dataframe\">\n",
       "<caption>A data.table: 601 × 24</caption>\n",
       "<thead>\n",
       "\t<tr><th scope=col>probeID</th><th scope=col>ProbeChr</th><th scope=col>Gene</th><th scope=col>Probe_bp</th><th scope=col>topSNP</th><th scope=col>topSNP_chr</th><th scope=col>topSNP_bp</th><th scope=col>A1</th><th scope=col>A2</th><th scope=col>Freq</th><th scope=col>⋯</th><th scope=col>se_eQTL</th><th scope=col>p_eQTL</th><th scope=col>b_SMR</th><th scope=col>se_SMR</th><th scope=col>p_SMR</th><th scope=col>p_HEIDI</th><th scope=col>nsnp_HEIDI</th><th scope=col>Cell_type</th><th scope=col>comb</th><th scope=col>qv</th></tr>\n",
       "\t<tr><th scope=col>&lt;chr&gt;</th><th scope=col>&lt;int&gt;</th><th scope=col>&lt;chr&gt;</th><th scope=col>&lt;int&gt;</th><th scope=col>&lt;chr&gt;</th><th scope=col>&lt;int&gt;</th><th scope=col>&lt;int&gt;</th><th scope=col>&lt;chr&gt;</th><th scope=col>&lt;chr&gt;</th><th scope=col>&lt;dbl&gt;</th><th scope=col>⋯</th><th scope=col>&lt;dbl&gt;</th><th scope=col>&lt;dbl&gt;</th><th scope=col>&lt;dbl&gt;</th><th scope=col>&lt;dbl&gt;</th><th scope=col>&lt;dbl&gt;</th><th scope=col>&lt;dbl&gt;</th><th scope=col>&lt;int&gt;</th><th scope=col>&lt;chr&gt;</th><th scope=col>&lt;chr&gt;</th><th scope=col>&lt;dbl&gt;</th></tr>\n",
       "</thead>\n",
       "<tbody>\n",
       "\t<tr><td>PTPN22            </td><td>1</td><td>PTPN22            </td><td>114356433</td><td>rs2636008 </td><td>1</td><td>114325914</td><td>A</td><td>G</td><td>0.643617</td><td>⋯</td><td>0.02671320</td><td> 1.412721e-07</td><td>-1.4053400</td><td>0.2842150</td><td>7.629313e-07</td><td>3.762805e-06</td><td>12</td><td>BimmNaive</td><td>PTPN22_BimmNaive            </td><td>5.474196e-05</td></tr>\n",
       "\t<tr><td>FCRL3             </td><td>1</td><td>FCRL3             </td><td>157644111</td><td>rs7528684 </td><td>1</td><td>157670816</td><td>A</td><td>G</td><td>0.530948</td><td>⋯</td><td>0.02532830</td><td> 3.384601e-29</td><td>-0.2150690</td><td>0.0496142</td><td>1.458784e-05</td><td>3.113276e-01</td><td>20</td><td>BimmNaive</td><td>FCRL3_BimmNaive             </td><td>7.095667e-04</td></tr>\n",
       "\t<tr><td>RPS7              </td><td>2</td><td>RPS7              </td><td>  3622795</td><td>rs62106040</td><td>2</td><td>  3627302</td><td>A</td><td>T</td><td>0.932785</td><td>⋯</td><td>0.00517966</td><td> 2.978748e-47</td><td> 1.9843700</td><td>0.5199350</td><td>1.353200e-04</td><td>6.066024e-01</td><td>13</td><td>BimmNaive</td><td>RPS7_BimmNaive              </td><td>4.775597e-03</td></tr>\n",
       "\t<tr><td>REL               </td><td>2</td><td>REL               </td><td> 61108656</td><td>rs12989427</td><td>2</td><td> 61137506</td><td>G</td><td>A</td><td>0.830754</td><td>⋯</td><td>0.01614030</td><td> 2.274546e-26</td><td>-0.5621190</td><td>0.1128770</td><td>6.361624e-07</td><td>5.273667e-03</td><td>20</td><td>BimmNaive</td><td>REL_BimmNaive               </td><td>4.615603e-05</td></tr>\n",
       "\t<tr><td>PSD4              </td><td>2</td><td>PSD4              </td><td>113914902</td><td>rs2241976 </td><td>2</td><td>113943470</td><td>A</td><td>G</td><td>0.576886</td><td>⋯</td><td>0.02753300</td><td> 7.402550e-09</td><td> 0.4152450</td><td>0.1235370</td><td>7.757658e-04</td><td>2.411041e-01</td><td>20</td><td>BimmNaive</td><td>PSD4_BimmNaive              </td><td>2.085917e-02</td></tr>\n",
       "\t<tr><td>DAP               </td><td>5</td><td>DAP               </td><td> 10679342</td><td>rs267948  </td><td>5</td><td> 10744197</td><td>C</td><td>G</td><td>0.278530</td><td>⋯</td><td>0.02472750</td><td> 2.996078e-09</td><td> 0.5113210</td><td>0.1276010</td><td>6.144669e-05</td><td>1.776416e-01</td><td>20</td><td>BimmNaive</td><td>DAP_BimmNaive               </td><td>2.478313e-03</td></tr>\n",
       "\t<tr><td>ZFP57             </td><td>6</td><td>ZFP57             </td><td> 29640169</td><td>rs2747429 </td><td>6</td><td> 29648377</td><td>T</td><td>C</td><td>0.771760</td><td>⋯</td><td>0.21004300</td><td> 5.252485e-11</td><td> 0.0876951</td><td>0.0174152</td><td>4.765002e-07</td><td>4.882440e-06</td><td>20</td><td>BimmNaive</td><td>ZFP57_BimmNaive             </td><td>3.536214e-05</td></tr>\n",
       "\t<tr><td>HLA-A             </td><td>6</td><td>HLA-A             </td><td> 29909037</td><td>rs2844810 </td><td>6</td><td> 29923580</td><td>G</td><td>C</td><td>0.413926</td><td>⋯</td><td>0.01122630</td><td> 1.379438e-44</td><td>-0.6021640</td><td>0.0937355</td><td>1.326654e-10</td><td>4.206965e-09</td><td>20</td><td>BimmNaive</td><td>HLA-A_BimmNaive             </td><td>1.776231e-08</td></tr>\n",
       "\t<tr><td>XXbac-BPG299F13.17</td><td>6</td><td>XXbac-BPG299F13.17</td><td> 31162977</td><td>rs6901685 </td><td>6</td><td> 31163796</td><td>T</td><td>C</td><td>0.786750</td><td>⋯</td><td>0.04203120</td><td> 4.937758e-84</td><td>-0.1465020</td><td>0.0194096</td><td>4.422318e-14</td><td>6.000319e-18</td><td>20</td><td>BimmNaive</td><td>XXbac-BPG299F13.17_BimmNaive</td><td>9.116390e-12</td></tr>\n",
       "\t<tr><td>HLA-C             </td><td>6</td><td>HLA-C             </td><td> 31236526</td><td>rs9264664 </td><td>6</td><td> 31239227</td><td>C</td><td>T</td><td>0.348162</td><td>⋯</td><td>0.01381500</td><td> 9.766027e-59</td><td>-0.3538780</td><td>0.0647373</td><td>4.593516e-08</td><td>3.616243e-33</td><td>20</td><td>BimmNaive</td><td>HLA-C_BimmNaive             </td><td>4.142821e-06</td></tr>\n",
       "\t<tr><td>XXbac-BPG181B23.7 </td><td>6</td><td>XXbac-BPG181B23.7 </td><td> 31362066</td><td>rs6906175 </td><td>6</td><td> 31371101</td><td>G</td><td>C</td><td>0.769826</td><td>⋯</td><td>0.10220100</td><td> 1.563238e-10</td><td>-0.1110110</td><td>0.0286362</td><td>1.059246e-04</td><td>1.527436e-08</td><td>20</td><td>BimmNaive</td><td>XXbac-BPG181B23.7_BimmNaive </td><td>3.953039e-03</td></tr>\n",
       "\t<tr><td>LST1              </td><td>6</td><td>LST1              </td><td> 31553901</td><td>rs2256965 </td><td>6</td><td> 31555130</td><td>A</td><td>G</td><td>0.405706</td><td>⋯</td><td>0.02502590</td><td> 4.159973e-16</td><td>-0.7973240</td><td>0.1172630</td><td>1.050417e-11</td><td>2.363546e-05</td><td>20</td><td>BimmNaive</td><td>LST1_BimmNaive              </td><td>1.532799e-09</td></tr>\n",
       "\t<tr><td>HSPA1B            </td><td>6</td><td>HSPA1B            </td><td> 31795512</td><td>rs707930  </td><td>6</td><td> 31741659</td><td>C</td><td>T</td><td>0.507253</td><td>⋯</td><td>0.08536190</td><td> 7.999649e-07</td><td>-0.5770330</td><td>0.1208010</td><td>1.781716e-06</td><td>1.638940e-06</td><td>20</td><td>BimmNaive</td><td>HSPA1B_BimmNaive            </td><td>1.198932e-04</td></tr>\n",
       "\t<tr><td>C6orf48           </td><td>6</td><td>C6orf48           </td><td> 31802385</td><td>rs80260075</td><td>6</td><td> 31823477</td><td>C</td><td>T</td><td>0.880077</td><td>⋯</td><td>0.01242240</td><td> 1.087746e-13</td><td> 1.2362400</td><td>0.2663850</td><td>3.470349e-06</td><td>4.463332e-15</td><td>20</td><td>BimmNaive</td><td>C6orf48_BimmNaive           </td><td>2.021072e-04</td></tr>\n",
       "\t<tr><td>SKIV2L            </td><td>6</td><td>SKIV2L            </td><td> 31926857</td><td>rs9268149 </td><td>6</td><td> 32263099</td><td>T</td><td>C</td><td>0.166344</td><td>⋯</td><td>0.06611240</td><td> 1.613068e-06</td><td>-1.1140900</td><td>0.2392470</td><td>3.214158e-06</td><td>3.021838e-07</td><td>20</td><td>BimmNaive</td><td>SKIV2L_BimmNaive            </td><td>1.914803e-04</td></tr>\n",
       "\t<tr><td>HCG23             </td><td>6</td><td>HCG23             </td><td> 32358287</td><td>rs2097431 </td><td>6</td><td> 32590833</td><td>A</td><td>G</td><td>0.302224</td><td>⋯</td><td>0.11051200</td><td> 9.107912e-07</td><td>-0.2117530</td><td>0.0521399</td><td>4.881256e-05</td><td>2.993027e-08</td><td>20</td><td>BimmNaive</td><td>HCG23_BimmNaive             </td><td>2.031844e-03</td></tr>\n",
       "\t<tr><td>HLA-DRA           </td><td>6</td><td>HLA-DRA           </td><td> 32407619</td><td>rs3129887 </td><td>6</td><td> 32410691</td><td>G</td><td>A</td><td>0.822534</td><td>⋯</td><td>0.01287370</td><td> 2.771861e-06</td><td>-7.3964800</td><td>1.6066400</td><td>4.150507e-06</td><td>5.453584e-05</td><td>12</td><td>BimmNaive</td><td>HLA-DRA_BimmNaive           </td><td>2.355361e-04</td></tr>\n",
       "\t<tr><td>HLA-DRB5          </td><td>6</td><td>HLA-DRB5          </td><td> 32485120</td><td>rs9272254 </td><td>6</td><td> 32603098</td><td>C</td><td>T</td><td>0.497099</td><td>⋯</td><td>0.05596280</td><td>2.057122e-106</td><td>-0.4193510</td><td>0.0241703</td><td>1.977442e-67</td><td>8.202828e-28</td><td>20</td><td>BimmNaive</td><td>HLA-DRB5_BimmNaive          </td><td>5.136263e-64</td></tr>\n",
       "\t<tr><td>HLA-DRB1          </td><td>6</td><td>HLA-DRB1          </td><td> 32546546</td><td>rs9271492 </td><td>6</td><td> 32589122</td><td>A</td><td>C</td><td>0.651838</td><td>⋯</td><td>0.01465760</td><td> 4.050574e-73</td><td> 2.4039200</td><td>0.1484000</td><td>5.131938e-59</td><td>9.856733e-42</td><td>20</td><td>BimmNaive</td><td>HLA-DRB1_BimmNaive          </td><td>4.760656e-56</td></tr>\n",
       "\t<tr><td>HLA-DQA1          </td><td>6</td><td>HLA-DQA1          </td><td> 32595956</td><td>rs9272546 </td><td>6</td><td> 32606941</td><td>T</td><td>C</td><td>0.336074</td><td>⋯</td><td>0.01390830</td><td> 2.408243e-45</td><td>-1.0007500</td><td>0.2154760</td><td>3.411312e-06</td><td>5.207063e-23</td><td>20</td><td>BimmNaive</td><td>HLA-DQA1_BimmNaive          </td><td>1.995639e-04</td></tr>\n",
       "\t<tr><td>HLA-DQB1          </td><td>6</td><td>HLA-DQB1          </td><td> 32627244</td><td>rs9274660 </td><td>6</td><td> 32636434</td><td>A</td><td>G</td><td>0.394584</td><td>⋯</td><td>0.01463280</td><td> 3.180543e-58</td><td> 1.0115200</td><td>0.1383190</td><td>2.614270e-13</td><td>7.731980e-32</td><td>20</td><td>BimmNaive</td><td>HLA-DQB1_BimmNaive          </td><td>4.920563e-11</td></tr>\n",
       "\t<tr><td>HLA-DQA2          </td><td>6</td><td>HLA-DQA2          </td><td> 32709119</td><td>rs9272319 </td><td>6</td><td> 32604108</td><td>T</td><td>C</td><td>0.653288</td><td>⋯</td><td>0.07241990</td><td> 2.105526e-94</td><td>-0.5235870</td><td>0.0294005</td><td>6.039919e-71</td><td>2.072608e-33</td><td>20</td><td>BimmNaive</td><td>HLA-DQA2_BimmNaive          </td><td>2.614709e-67</td></tr>\n",
       "\t<tr><td>HLA-DQB2          </td><td>6</td><td>HLA-DQB2          </td><td> 32723875</td><td>rs9274660 </td><td>6</td><td> 32636434</td><td>A</td><td>G</td><td>0.394584</td><td>⋯</td><td>0.05459380</td><td> 1.799790e-49</td><td>-0.2949590</td><td>0.0410921</td><td>7.074186e-13</td><td>3.376974e-22</td><td>20</td><td>BimmNaive</td><td>HLA-DQB2_BimmNaive          </td><td>1.258540e-10</td></tr>\n",
       "\t<tr><td>HLA-DMA           </td><td>6</td><td>HLA-DMA           </td><td> 32916390</td><td>rs1050391 </td><td>6</td><td> 32917857</td><td>A</td><td>G</td><td>0.111219</td><td>⋯</td><td>0.01328460</td><td> 3.423174e-08</td><td> 2.5372300</td><td>0.5589480</td><td>5.644179e-06</td><td>5.139002e-06</td><td>19</td><td>BimmNaive</td><td>HLA-DMA_BimmNaive           </td><td>3.092900e-04</td></tr>\n",
       "\t<tr><td>HLA-DPA1          </td><td>6</td><td>HLA-DPA1          </td><td> 33032346</td><td>rs6906636 </td><td>6</td><td> 32986677</td><td>G</td><td>T</td><td>0.540135</td><td>⋯</td><td>0.00940644</td><td> 1.016650e-41</td><td>-0.3943910</td><td>0.1031920</td><td>1.324214e-04</td><td>1.122467e-26</td><td>20</td><td>BimmNaive</td><td>HLA-DPA1_BimmNaive          </td><td>4.711712e-03</td></tr>\n",
       "\t<tr><td>HLA-DPB1          </td><td>6</td><td>HLA-DPB1          </td><td> 33043703</td><td>rs6906636 </td><td>6</td><td> 32986677</td><td>G</td><td>T</td><td>0.540135</td><td>⋯</td><td>0.00979018</td><td> 5.755672e-52</td><td>-0.3380520</td><td>0.0877278</td><td>1.164821e-04</td><td>8.015427e-43</td><td>20</td><td>BimmNaive</td><td>HLA-DPB1_BimmNaive          </td><td>4.243979e-03</td></tr>\n",
       "\t<tr><td>RPS18             </td><td>6</td><td>RPS18             </td><td> 33239787</td><td>rs17215231</td><td>6</td><td> 33239869</td><td>C</td><td>T</td><td>0.931335</td><td>⋯</td><td>0.01014450</td><td>5.154963e-144</td><td>-0.3684190</td><td>0.1078290</td><td>6.338651e-04</td><td>3.507642e-18</td><td>20</td><td>BimmNaive</td><td>RPS18_BimmNaive             </td><td>1.793484e-02</td></tr>\n",
       "\t<tr><td>TAPBP             </td><td>6</td><td>TAPBP             </td><td> 33267471</td><td>rs3106194 </td><td>6</td><td> 33290872</td><td>G</td><td>A</td><td>0.702128</td><td>⋯</td><td>0.01049650</td><td> 1.107098e-17</td><td> 0.9780440</td><td>0.1904860</td><td>2.829535e-07</td><td>5.561976e-08</td><td>20</td><td>BimmNaive</td><td>TAPBP_BimmNaive             </td><td>2.213709e-05</td></tr>\n",
       "\t<tr><td>UQCC2             </td><td>6</td><td>UQCC2             </td><td> 33662070</td><td>rs2296330 </td><td>6</td><td> 33650621</td><td>G</td><td>A</td><td>0.755319</td><td>⋯</td><td>0.02411910</td><td> 2.283751e-06</td><td> 1.7921100</td><td>0.3993690</td><td>7.211659e-06</td><td>7.152839e-01</td><td> 9</td><td>BimmNaive</td><td>UQCC2_BimmNaive             </td><td>3.870199e-04</td></tr>\n",
       "\t<tr><td>CCR6              </td><td>6</td><td>CCR6              </td><td>167525295</td><td>rs3093017 </td><td>6</td><td>167541258</td><td>C</td><td>G</td><td>0.447292</td><td>⋯</td><td>0.02785920</td><td> 9.018868e-07</td><td>-0.8440390</td><td>0.1963470</td><td>1.717976e-05</td><td>7.246003e-02</td><td> 8</td><td>BimmNaive</td><td>CCR6_BimmNaive              </td><td>8.263553e-04</td></tr>\n",
       "\t<tr><td>⋮</td><td>⋮</td><td>⋮</td><td>⋮</td><td>⋮</td><td>⋮</td><td>⋮</td><td>⋮</td><td>⋮</td><td>⋮</td><td>⋱</td><td>⋮</td><td>⋮</td><td>⋮</td><td>⋮</td><td>⋮</td><td>⋮</td><td>⋮</td><td>⋮</td><td>⋮</td><td>⋮</td></tr>\n",
       "\t<tr><td>RPS26             </td><td>12</td><td>RPS26             </td><td>56435637</td><td>rs1131017 </td><td>12</td><td>56435929</td><td>C</td><td>G</td><td>0.420696</td><td>⋯</td><td>0.02291910</td><td>5.248013e-160</td><td> 0.1019840</td><td>0.0213819</td><td>1.845276e-06</td><td>8.959850e-03</td><td>20</td><td>NKmat </td><td>RPS26_NKmat              </td><td>1.235302e-04</td></tr>\n",
       "\t<tr><td>METTL21B          </td><td>12</td><td>METTL21B          </td><td>58165275</td><td>rs2072052 </td><td>12</td><td>58146719</td><td>A</td><td>C</td><td>0.677950</td><td>⋯</td><td>0.07527650</td><td> 8.543879e-06</td><td> 0.1790710</td><td>0.0575747</td><td>1.869347e-03</td><td>2.581793e-01</td><td>10</td><td>NKmat </td><td>METTL21B_NKmat           </td><td>4.214838e-02</td></tr>\n",
       "\t<tr><td>KTN1              </td><td>14</td><td>KTN1              </td><td>56025790</td><td>rs17684916</td><td>14</td><td>56113917</td><td>A</td><td>C</td><td>0.658124</td><td>⋯</td><td>0.01011400</td><td> 3.107719e-15</td><td> 0.7910810</td><td>0.2231530</td><td>3.925816e-04</td><td>6.754305e-01</td><td>20</td><td>NKmat </td><td>KTN1_NKmat               </td><td>1.177485e-02</td></tr>\n",
       "\t<tr><td>TUFM              </td><td>16</td><td>TUFM              </td><td>28853732</td><td>rs7187776 </td><td>16</td><td>28857645</td><td>A</td><td>G</td><td>0.615571</td><td>⋯</td><td>0.00835159</td><td> 3.599653e-45</td><td>-0.4839160</td><td>0.1172000</td><td>3.643634e-05</td><td>6.554490e-01</td><td>20</td><td>NKmat </td><td>TUFM_NKmat               </td><td>1.573092e-03</td></tr>\n",
       "\t<tr><td>SPNS1             </td><td>16</td><td>SPNS1             </td><td>28985542</td><td>rs9929088 </td><td>16</td><td>29001460</td><td>A</td><td>C</td><td>0.284816</td><td>⋯</td><td>0.01729550</td><td> 3.614552e-11</td><td>-0.5878760</td><td>0.1611960</td><td>2.653600e-04</td><td>7.522640e-01</td><td>20</td><td>NKmat </td><td>SPNS1_NKmat              </td><td>8.364726e-03</td></tr>\n",
       "\t<tr><td>RP11-345J4.5      </td><td>16</td><td>RP11-345J4.5      </td><td>29454551</td><td>rs11644392</td><td>16</td><td>30328317</td><td>T</td><td>C</td><td>0.515474</td><td>⋯</td><td>0.01652290</td><td> 2.220318e-34</td><td> 0.2950030</td><td>0.0747798</td><td>7.981549e-05</td><td>6.223985e-02</td><td>20</td><td>NKmat </td><td>RP11-345J4.5_NKmat       </td><td>3.085044e-03</td></tr>\n",
       "\t<tr><td>PNMT              </td><td>17</td><td>PNMT              </td><td>37824234</td><td>rs7359623 </td><td>17</td><td>38049589</td><td>C</td><td>T</td><td>0.496132</td><td>⋯</td><td>0.07660420</td><td> 4.688187e-05</td><td> 0.2264060</td><td>0.0687473</td><td>9.901591e-04</td><td>4.129280e-01</td><td>11</td><td>NKmat </td><td>PNMT_NKmat               </td><td>2.541370e-02</td></tr>\n",
       "\t<tr><td>GSDMB             </td><td>17</td><td>GSDMB             </td><td>38060848</td><td>rs12453507</td><td>17</td><td>38053207</td><td>C</td><td>G</td><td>0.501934</td><td>⋯</td><td>0.04178040</td><td> 3.874105e-08</td><td> 0.3022040</td><td>0.0776745</td><td>9.997674e-05</td><td>1.436687e-03</td><td>20</td><td>NKmat </td><td>GSDMB_NKmat              </td><td>3.774453e-03</td></tr>\n",
       "\t<tr><td>ORMDL3            </td><td>17</td><td>ORMDL3            </td><td>38077294</td><td>rs8074437 </td><td>17</td><td>38076137</td><td>T</td><td>G</td><td>0.514023</td><td>⋯</td><td>0.01684250</td><td> 3.658765e-75</td><td> 0.2029360</td><td>0.0422551</td><td>1.565973e-06</td><td>1.570471e-04</td><td>20</td><td>NKmat </td><td>ORMDL3_NKmat             </td><td>1.064791e-04</td></tr>\n",
       "\t<tr><td>RP11-973H7.4      </td><td>18</td><td>RP11-973H7.4      </td><td>12739489</td><td>rs2542152 </td><td>18</td><td>12782761</td><td>T</td><td>C</td><td>0.604932</td><td>⋯</td><td>0.04072080</td><td> 5.334538e-18</td><td>-0.2087650</td><td>0.0441184</td><td>2.224054e-06</td><td>2.302940e-05</td><td>20</td><td>NKmat </td><td>RP11-973H7.4_NKmat       </td><td>1.369228e-04</td></tr>\n",
       "\t<tr><td>RP11-973H7.1      </td><td>18</td><td>RP11-973H7.1      </td><td>12774650</td><td>rs2542152 </td><td>18</td><td>12782761</td><td>T</td><td>C</td><td>0.604932</td><td>⋯</td><td>0.03501440</td><td> 1.147534e-29</td><td>-0.1855710</td><td>0.0366935</td><td>4.251936e-07</td><td>1.313362e-05</td><td>20</td><td>NKmat </td><td>RP11-973H7.1_NKmat       </td><td>3.229268e-05</td></tr>\n",
       "\t<tr><td>KRI1              </td><td>19</td><td>KRI1              </td><td>10663761</td><td>rs10412541</td><td>19</td><td>10674558</td><td>G</td><td>A</td><td>0.505803</td><td>⋯</td><td>0.01747100</td><td> 1.631820e-06</td><td>-0.8022700</td><td>0.2339920</td><td>6.066682e-04</td><td>2.427718e-01</td><td>11</td><td>NKmat </td><td>KRI1_NKmat               </td><td>1.754763e-02</td></tr>\n",
       "\t<tr><td>CTD-3162L10.1     </td><td>19</td><td>CTD-3162L10.1     </td><td>36795482</td><td>rs2972525 </td><td>19</td><td>36747279</td><td>T</td><td>C</td><td>0.578337</td><td>⋯</td><td>0.09195860</td><td> 1.420350e-19</td><td> 0.0699275</td><td>0.0220629</td><td>1.527222e-03</td><td>2.935737e-01</td><td>20</td><td>NKmat </td><td>CTD-3162L10.1_NKmat      </td><td>3.619387e-02</td></tr>\n",
       "\t<tr><td>LINC00665         </td><td>19</td><td>LINC00665         </td><td>36803969</td><td>rs2972527 </td><td>19</td><td>36746225</td><td>C</td><td>A</td><td>0.546422</td><td>⋯</td><td>0.03201140</td><td> 1.482500e-09</td><td> 0.3270490</td><td>0.1018360</td><td>1.320354e-03</td><td>1.819111e-02</td><td>20</td><td>NKmat </td><td>LINC00665_NKmat          </td><td>3.209637e-02</td></tr>\n",
       "\t<tr><td>ITPA              </td><td>20</td><td>ITPA              </td><td> 3189514</td><td>rs8362    </td><td>20</td><td> 3193978</td><td>G</td><td>A</td><td>0.699710</td><td>⋯</td><td>0.01281820</td><td> 1.073707e-25</td><td> 0.3804120</td><td>0.1230970</td><td>1.999202e-03</td><td>1.944373e-01</td><td>20</td><td>NKmat </td><td>ITPA_NKmat               </td><td>4.438276e-02</td></tr>\n",
       "\t<tr><td>TMEM50B           </td><td>21</td><td>TMEM50B           </td><td>34804792</td><td>rs4816453 </td><td>21</td><td>34811357</td><td>G</td><td>A</td><td>0.528046</td><td>⋯</td><td>0.01346230</td><td> 4.375757e-34</td><td>-0.3466270</td><td>0.0831420</td><td>3.058160e-05</td><td>7.433479e-02</td><td>20</td><td>NKmat </td><td>TMEM50B_NKmat            </td><td>1.352997e-03</td></tr>\n",
       "\t<tr><td>UBE2L3            </td><td>22</td><td>UBE2L3            </td><td>21903736</td><td>rs4820091 </td><td>22</td><td>21940189</td><td>T</td><td>G</td><td>0.820600</td><td>⋯</td><td>0.00870445</td><td> 4.203846e-15</td><td> 1.3349200</td><td>0.2941980</td><td>5.692828e-06</td><td>1.884202e-02</td><td>12</td><td>NKmat </td><td>UBE2L3_NKmat             </td><td>3.093454e-04</td></tr>\n",
       "\t<tr><td>SYNGR1            </td><td>22</td><td>SYNGR1            </td><td>39745930</td><td>rs2069235 </td><td>22</td><td>39747780</td><td>G</td><td>A</td><td>0.714700</td><td>⋯</td><td>0.02543540</td><td> 7.389939e-90</td><td>-0.1799510</td><td>0.0288103</td><td>4.208688e-10</td><td>2.870634e-01</td><td>20</td><td>NKmat </td><td>SYNGR1_NKmat             </td><td>5.150177e-08</td></tr>\n",
       "\t<tr><td>ELL2              </td><td> 5</td><td>ELL2              </td><td>95220802</td><td>rs6890954 </td><td> 5</td><td>95229429</td><td>T</td><td>C</td><td>0.738395</td><td>⋯</td><td>0.04691540</td><td> 2.399401e-09</td><td>-0.1975010</td><td>0.0608557</td><td>1.172881e-03</td><td>4.096590e-01</td><td>16</td><td>Plasma</td><td>ELL2_Plasma              </td><td>2.934946e-02</td></tr>\n",
       "\t<tr><td>HLA-F             </td><td> 6</td><td>HLA-F             </td><td>29690552</td><td>rs1736919 </td><td> 6</td><td>29697517</td><td>A</td><td>G</td><td>0.304642</td><td>⋯</td><td>0.06146210</td><td> 4.644084e-08</td><td> 0.2262880</td><td>0.0583370</td><td>1.048940e-04</td><td>4.076135e-05</td><td>20</td><td>Plasma</td><td>HLA-F_Plasma             </td><td>3.925858e-03</td></tr>\n",
       "\t<tr><td>HLA-A             </td><td> 6</td><td>HLA-A             </td><td>29909037</td><td>rs2524006 </td><td> 6</td><td>29899140</td><td>T</td><td>G</td><td>0.249033</td><td>⋯</td><td>0.03332100</td><td> 2.540318e-14</td><td>-0.3851910</td><td>0.0795643</td><td>1.290235e-06</td><td>4.447243e-03</td><td>20</td><td>Plasma</td><td>HLA-A_Plasma             </td><td>8.960674e-05</td></tr>\n",
       "\t<tr><td>XXbac-BPG299F13.17</td><td> 6</td><td>XXbac-BPG299F13.17</td><td>31162977</td><td>rs9380221 </td><td> 6</td><td>31150873</td><td>T</td><td>C</td><td>0.814313</td><td>⋯</td><td>0.15567300</td><td> 8.950248e-13</td><td>-0.1380800</td><td>0.0237707</td><td>6.291264e-09</td><td>5.658011e-03</td><td>20</td><td>Plasma</td><td>XXbac-BPG299F13.17_Plasma</td><td>6.752522e-07</td></tr>\n",
       "\t<tr><td>HLA-C             </td><td> 6</td><td>HLA-C             </td><td>31236526</td><td>rs2249741 </td><td> 6</td><td>31240712</td><td>A</td><td>C</td><td>0.477756</td><td>⋯</td><td>0.02654930</td><td> 3.127272e-18</td><td> 0.3811250</td><td>0.0705856</td><td>6.683987e-08</td><td>6.209241e-15</td><td>20</td><td>Plasma</td><td>HLA-C_Plasma             </td><td>5.865261e-06</td></tr>\n",
       "\t<tr><td>HLA-DRB5          </td><td> 6</td><td>HLA-DRB5          </td><td>32485120</td><td>rs28366319</td><td> 6</td><td>32561495</td><td>G</td><td>A</td><td>0.653288</td><td>⋯</td><td>0.07136870</td><td> 1.354828e-56</td><td>-0.8255550</td><td>0.0565032</td><td>2.398187e-48</td><td>1.905656e-29</td><td>20</td><td>Plasma</td><td>HLA-DRB5_Plasma          </td><td>1.483123e-45</td></tr>\n",
       "\t<tr><td>HLA-DQA1          </td><td> 6</td><td>HLA-DQA1          </td><td>32595956</td><td>rs79414789</td><td> 6</td><td>32580591</td><td>G</td><td>C</td><td>0.718085</td><td>⋯</td><td>0.05547110</td><td> 1.409656e-18</td><td>-1.5855800</td><td>0.1834310</td><td>5.425996e-18</td><td>7.859425e-07</td><td>20</td><td>Plasma</td><td>HLA-DQA1_Plasma          </td><td>1.718736e-15</td></tr>\n",
       "\t<tr><td>HLA-DQB1          </td><td> 6</td><td>HLA-DQB1          </td><td>32627244</td><td>rs1049055 </td><td> 6</td><td>32634387</td><td>C</td><td>T</td><td>0.235493</td><td>⋯</td><td>0.07172140</td><td> 3.240232e-17</td><td> 0.8229310</td><td>0.1198010</td><td>6.458949e-12</td><td>1.533940e-15</td><td>20</td><td>Plasma</td><td>HLA-DQB1_Plasma          </td><td>9.753868e-10</td></tr>\n",
       "\t<tr><td>HLA-DQA2          </td><td> 6</td><td>HLA-DQA2          </td><td>32709119</td><td>rs1391371 </td><td> 6</td><td>32603798</td><td>A</td><td>T</td><td>0.796422</td><td>⋯</td><td>0.09839560</td><td> 1.057800e-58</td><td>-0.8047710</td><td>0.0531843</td><td>9.998670e-52</td><td>1.097509e-18</td><td>20</td><td>Plasma</td><td>HLA-DQA2_Plasma          </td><td>6.834427e-49</td></tr>\n",
       "\t<tr><td>RPS26             </td><td>12</td><td>RPS26             </td><td>56435637</td><td>rs1131017 </td><td>12</td><td>56435929</td><td>C</td><td>G</td><td>0.420696</td><td>⋯</td><td>0.03289980</td><td>8.679692e-106</td><td> 0.0876589</td><td>0.0185281</td><td>2.232710e-06</td><td>1.287450e-02</td><td>20</td><td>Plasma</td><td>RPS26_Plasma             </td><td>1.369228e-04</td></tr>\n",
       "\t<tr><td>TXNDC11           </td><td>16</td><td>TXNDC11           </td><td>11772936</td><td>rs12926451</td><td>16</td><td>11819569</td><td>C</td><td>A</td><td>0.412476</td><td>⋯</td><td>0.02724700</td><td> 2.335370e-11</td><td> 0.4552420</td><td>0.1014880</td><td>7.268066e-06</td><td>7.553484e-01</td><td>20</td><td>Plasma</td><td>TXNDC11_Plasma           </td><td>3.884419e-04</td></tr>\n",
       "\t<tr><td>CD40              </td><td>20</td><td>CD40              </td><td>44746911</td><td>rs4239702 </td><td>20</td><td>44749251</td><td>T</td><td>C</td><td>0.288685</td><td>⋯</td><td>0.07230790</td><td> 2.344925e-07</td><td>-0.2771470</td><td>0.0660152</td><td>2.690121e-05</td><td>2.247256e-01</td><td> 5</td><td>Plasma</td><td>CD40_Plasma              </td><td>1.222512e-03</td></tr>\n",
       "</tbody>\n",
       "</table>\n"
      ],
      "text/latex": [
       "A data.table: 601 × 24\n",
       "\\begin{tabular}{lllllllllllllllllllll}\n",
       " probeID & ProbeChr & Gene & Probe\\_bp & topSNP & topSNP\\_chr & topSNP\\_bp & A1 & A2 & Freq & ⋯ & se\\_eQTL & p\\_eQTL & b\\_SMR & se\\_SMR & p\\_SMR & p\\_HEIDI & nsnp\\_HEIDI & Cell\\_type & comb & qv\\\\\n",
       " <chr> & <int> & <chr> & <int> & <chr> & <int> & <int> & <chr> & <chr> & <dbl> & ⋯ & <dbl> & <dbl> & <dbl> & <dbl> & <dbl> & <dbl> & <int> & <chr> & <chr> & <dbl>\\\\\n",
       "\\hline\n",
       "\t PTPN22             & 1 & PTPN22             & 114356433 & rs2636008  & 1 & 114325914 & A & G & 0.643617 & ⋯ & 0.02671320 &  1.412721e-07 & -1.4053400 & 0.2842150 & 7.629313e-07 & 3.762805e-06 & 12 & BimmNaive & PTPN22\\_BimmNaive             & 5.474196e-05\\\\\n",
       "\t FCRL3              & 1 & FCRL3              & 157644111 & rs7528684  & 1 & 157670816 & A & G & 0.530948 & ⋯ & 0.02532830 &  3.384601e-29 & -0.2150690 & 0.0496142 & 1.458784e-05 & 3.113276e-01 & 20 & BimmNaive & FCRL3\\_BimmNaive              & 7.095667e-04\\\\\n",
       "\t RPS7               & 2 & RPS7               &   3622795 & rs62106040 & 2 &   3627302 & A & T & 0.932785 & ⋯ & 0.00517966 &  2.978748e-47 &  1.9843700 & 0.5199350 & 1.353200e-04 & 6.066024e-01 & 13 & BimmNaive & RPS7\\_BimmNaive               & 4.775597e-03\\\\\n",
       "\t REL                & 2 & REL                &  61108656 & rs12989427 & 2 &  61137506 & G & A & 0.830754 & ⋯ & 0.01614030 &  2.274546e-26 & -0.5621190 & 0.1128770 & 6.361624e-07 & 5.273667e-03 & 20 & BimmNaive & REL\\_BimmNaive                & 4.615603e-05\\\\\n",
       "\t PSD4               & 2 & PSD4               & 113914902 & rs2241976  & 2 & 113943470 & A & G & 0.576886 & ⋯ & 0.02753300 &  7.402550e-09 &  0.4152450 & 0.1235370 & 7.757658e-04 & 2.411041e-01 & 20 & BimmNaive & PSD4\\_BimmNaive               & 2.085917e-02\\\\\n",
       "\t DAP                & 5 & DAP                &  10679342 & rs267948   & 5 &  10744197 & C & G & 0.278530 & ⋯ & 0.02472750 &  2.996078e-09 &  0.5113210 & 0.1276010 & 6.144669e-05 & 1.776416e-01 & 20 & BimmNaive & DAP\\_BimmNaive                & 2.478313e-03\\\\\n",
       "\t ZFP57              & 6 & ZFP57              &  29640169 & rs2747429  & 6 &  29648377 & T & C & 0.771760 & ⋯ & 0.21004300 &  5.252485e-11 &  0.0876951 & 0.0174152 & 4.765002e-07 & 4.882440e-06 & 20 & BimmNaive & ZFP57\\_BimmNaive              & 3.536214e-05\\\\\n",
       "\t HLA-A              & 6 & HLA-A              &  29909037 & rs2844810  & 6 &  29923580 & G & C & 0.413926 & ⋯ & 0.01122630 &  1.379438e-44 & -0.6021640 & 0.0937355 & 1.326654e-10 & 4.206965e-09 & 20 & BimmNaive & HLA-A\\_BimmNaive              & 1.776231e-08\\\\\n",
       "\t XXbac-BPG299F13.17 & 6 & XXbac-BPG299F13.17 &  31162977 & rs6901685  & 6 &  31163796 & T & C & 0.786750 & ⋯ & 0.04203120 &  4.937758e-84 & -0.1465020 & 0.0194096 & 4.422318e-14 & 6.000319e-18 & 20 & BimmNaive & XXbac-BPG299F13.17\\_BimmNaive & 9.116390e-12\\\\\n",
       "\t HLA-C              & 6 & HLA-C              &  31236526 & rs9264664  & 6 &  31239227 & C & T & 0.348162 & ⋯ & 0.01381500 &  9.766027e-59 & -0.3538780 & 0.0647373 & 4.593516e-08 & 3.616243e-33 & 20 & BimmNaive & HLA-C\\_BimmNaive              & 4.142821e-06\\\\\n",
       "\t XXbac-BPG181B23.7  & 6 & XXbac-BPG181B23.7  &  31362066 & rs6906175  & 6 &  31371101 & G & C & 0.769826 & ⋯ & 0.10220100 &  1.563238e-10 & -0.1110110 & 0.0286362 & 1.059246e-04 & 1.527436e-08 & 20 & BimmNaive & XXbac-BPG181B23.7\\_BimmNaive  & 3.953039e-03\\\\\n",
       "\t LST1               & 6 & LST1               &  31553901 & rs2256965  & 6 &  31555130 & A & G & 0.405706 & ⋯ & 0.02502590 &  4.159973e-16 & -0.7973240 & 0.1172630 & 1.050417e-11 & 2.363546e-05 & 20 & BimmNaive & LST1\\_BimmNaive               & 1.532799e-09\\\\\n",
       "\t HSPA1B             & 6 & HSPA1B             &  31795512 & rs707930   & 6 &  31741659 & C & T & 0.507253 & ⋯ & 0.08536190 &  7.999649e-07 & -0.5770330 & 0.1208010 & 1.781716e-06 & 1.638940e-06 & 20 & BimmNaive & HSPA1B\\_BimmNaive             & 1.198932e-04\\\\\n",
       "\t C6orf48            & 6 & C6orf48            &  31802385 & rs80260075 & 6 &  31823477 & C & T & 0.880077 & ⋯ & 0.01242240 &  1.087746e-13 &  1.2362400 & 0.2663850 & 3.470349e-06 & 4.463332e-15 & 20 & BimmNaive & C6orf48\\_BimmNaive            & 2.021072e-04\\\\\n",
       "\t SKIV2L             & 6 & SKIV2L             &  31926857 & rs9268149  & 6 &  32263099 & T & C & 0.166344 & ⋯ & 0.06611240 &  1.613068e-06 & -1.1140900 & 0.2392470 & 3.214158e-06 & 3.021838e-07 & 20 & BimmNaive & SKIV2L\\_BimmNaive             & 1.914803e-04\\\\\n",
       "\t HCG23              & 6 & HCG23              &  32358287 & rs2097431  & 6 &  32590833 & A & G & 0.302224 & ⋯ & 0.11051200 &  9.107912e-07 & -0.2117530 & 0.0521399 & 4.881256e-05 & 2.993027e-08 & 20 & BimmNaive & HCG23\\_BimmNaive              & 2.031844e-03\\\\\n",
       "\t HLA-DRA            & 6 & HLA-DRA            &  32407619 & rs3129887  & 6 &  32410691 & G & A & 0.822534 & ⋯ & 0.01287370 &  2.771861e-06 & -7.3964800 & 1.6066400 & 4.150507e-06 & 5.453584e-05 & 12 & BimmNaive & HLA-DRA\\_BimmNaive            & 2.355361e-04\\\\\n",
       "\t HLA-DRB5           & 6 & HLA-DRB5           &  32485120 & rs9272254  & 6 &  32603098 & C & T & 0.497099 & ⋯ & 0.05596280 & 2.057122e-106 & -0.4193510 & 0.0241703 & 1.977442e-67 & 8.202828e-28 & 20 & BimmNaive & HLA-DRB5\\_BimmNaive           & 5.136263e-64\\\\\n",
       "\t HLA-DRB1           & 6 & HLA-DRB1           &  32546546 & rs9271492  & 6 &  32589122 & A & C & 0.651838 & ⋯ & 0.01465760 &  4.050574e-73 &  2.4039200 & 0.1484000 & 5.131938e-59 & 9.856733e-42 & 20 & BimmNaive & HLA-DRB1\\_BimmNaive           & 4.760656e-56\\\\\n",
       "\t HLA-DQA1           & 6 & HLA-DQA1           &  32595956 & rs9272546  & 6 &  32606941 & T & C & 0.336074 & ⋯ & 0.01390830 &  2.408243e-45 & -1.0007500 & 0.2154760 & 3.411312e-06 & 5.207063e-23 & 20 & BimmNaive & HLA-DQA1\\_BimmNaive           & 1.995639e-04\\\\\n",
       "\t HLA-DQB1           & 6 & HLA-DQB1           &  32627244 & rs9274660  & 6 &  32636434 & A & G & 0.394584 & ⋯ & 0.01463280 &  3.180543e-58 &  1.0115200 & 0.1383190 & 2.614270e-13 & 7.731980e-32 & 20 & BimmNaive & HLA-DQB1\\_BimmNaive           & 4.920563e-11\\\\\n",
       "\t HLA-DQA2           & 6 & HLA-DQA2           &  32709119 & rs9272319  & 6 &  32604108 & T & C & 0.653288 & ⋯ & 0.07241990 &  2.105526e-94 & -0.5235870 & 0.0294005 & 6.039919e-71 & 2.072608e-33 & 20 & BimmNaive & HLA-DQA2\\_BimmNaive           & 2.614709e-67\\\\\n",
       "\t HLA-DQB2           & 6 & HLA-DQB2           &  32723875 & rs9274660  & 6 &  32636434 & A & G & 0.394584 & ⋯ & 0.05459380 &  1.799790e-49 & -0.2949590 & 0.0410921 & 7.074186e-13 & 3.376974e-22 & 20 & BimmNaive & HLA-DQB2\\_BimmNaive           & 1.258540e-10\\\\\n",
       "\t HLA-DMA            & 6 & HLA-DMA            &  32916390 & rs1050391  & 6 &  32917857 & A & G & 0.111219 & ⋯ & 0.01328460 &  3.423174e-08 &  2.5372300 & 0.5589480 & 5.644179e-06 & 5.139002e-06 & 19 & BimmNaive & HLA-DMA\\_BimmNaive            & 3.092900e-04\\\\\n",
       "\t HLA-DPA1           & 6 & HLA-DPA1           &  33032346 & rs6906636  & 6 &  32986677 & G & T & 0.540135 & ⋯ & 0.00940644 &  1.016650e-41 & -0.3943910 & 0.1031920 & 1.324214e-04 & 1.122467e-26 & 20 & BimmNaive & HLA-DPA1\\_BimmNaive           & 4.711712e-03\\\\\n",
       "\t HLA-DPB1           & 6 & HLA-DPB1           &  33043703 & rs6906636  & 6 &  32986677 & G & T & 0.540135 & ⋯ & 0.00979018 &  5.755672e-52 & -0.3380520 & 0.0877278 & 1.164821e-04 & 8.015427e-43 & 20 & BimmNaive & HLA-DPB1\\_BimmNaive           & 4.243979e-03\\\\\n",
       "\t RPS18              & 6 & RPS18              &  33239787 & rs17215231 & 6 &  33239869 & C & T & 0.931335 & ⋯ & 0.01014450 & 5.154963e-144 & -0.3684190 & 0.1078290 & 6.338651e-04 & 3.507642e-18 & 20 & BimmNaive & RPS18\\_BimmNaive              & 1.793484e-02\\\\\n",
       "\t TAPBP              & 6 & TAPBP              &  33267471 & rs3106194  & 6 &  33290872 & G & A & 0.702128 & ⋯ & 0.01049650 &  1.107098e-17 &  0.9780440 & 0.1904860 & 2.829535e-07 & 5.561976e-08 & 20 & BimmNaive & TAPBP\\_BimmNaive              & 2.213709e-05\\\\\n",
       "\t UQCC2              & 6 & UQCC2              &  33662070 & rs2296330  & 6 &  33650621 & G & A & 0.755319 & ⋯ & 0.02411910 &  2.283751e-06 &  1.7921100 & 0.3993690 & 7.211659e-06 & 7.152839e-01 &  9 & BimmNaive & UQCC2\\_BimmNaive              & 3.870199e-04\\\\\n",
       "\t CCR6               & 6 & CCR6               & 167525295 & rs3093017  & 6 & 167541258 & C & G & 0.447292 & ⋯ & 0.02785920 &  9.018868e-07 & -0.8440390 & 0.1963470 & 1.717976e-05 & 7.246003e-02 &  8 & BimmNaive & CCR6\\_BimmNaive               & 8.263553e-04\\\\\n",
       "\t ⋮ & ⋮ & ⋮ & ⋮ & ⋮ & ⋮ & ⋮ & ⋮ & ⋮ & ⋮ & ⋱ & ⋮ & ⋮ & ⋮ & ⋮ & ⋮ & ⋮ & ⋮ & ⋮ & ⋮ & ⋮\\\\\n",
       "\t RPS26              & 12 & RPS26              & 56435637 & rs1131017  & 12 & 56435929 & C & G & 0.420696 & ⋯ & 0.02291910 & 5.248013e-160 &  0.1019840 & 0.0213819 & 1.845276e-06 & 8.959850e-03 & 20 & NKmat  & RPS26\\_NKmat               & 1.235302e-04\\\\\n",
       "\t METTL21B           & 12 & METTL21B           & 58165275 & rs2072052  & 12 & 58146719 & A & C & 0.677950 & ⋯ & 0.07527650 &  8.543879e-06 &  0.1790710 & 0.0575747 & 1.869347e-03 & 2.581793e-01 & 10 & NKmat  & METTL21B\\_NKmat            & 4.214838e-02\\\\\n",
       "\t KTN1               & 14 & KTN1               & 56025790 & rs17684916 & 14 & 56113917 & A & C & 0.658124 & ⋯ & 0.01011400 &  3.107719e-15 &  0.7910810 & 0.2231530 & 3.925816e-04 & 6.754305e-01 & 20 & NKmat  & KTN1\\_NKmat                & 1.177485e-02\\\\\n",
       "\t TUFM               & 16 & TUFM               & 28853732 & rs7187776  & 16 & 28857645 & A & G & 0.615571 & ⋯ & 0.00835159 &  3.599653e-45 & -0.4839160 & 0.1172000 & 3.643634e-05 & 6.554490e-01 & 20 & NKmat  & TUFM\\_NKmat                & 1.573092e-03\\\\\n",
       "\t SPNS1              & 16 & SPNS1              & 28985542 & rs9929088  & 16 & 29001460 & A & C & 0.284816 & ⋯ & 0.01729550 &  3.614552e-11 & -0.5878760 & 0.1611960 & 2.653600e-04 & 7.522640e-01 & 20 & NKmat  & SPNS1\\_NKmat               & 8.364726e-03\\\\\n",
       "\t RP11-345J4.5       & 16 & RP11-345J4.5       & 29454551 & rs11644392 & 16 & 30328317 & T & C & 0.515474 & ⋯ & 0.01652290 &  2.220318e-34 &  0.2950030 & 0.0747798 & 7.981549e-05 & 6.223985e-02 & 20 & NKmat  & RP11-345J4.5\\_NKmat        & 3.085044e-03\\\\\n",
       "\t PNMT               & 17 & PNMT               & 37824234 & rs7359623  & 17 & 38049589 & C & T & 0.496132 & ⋯ & 0.07660420 &  4.688187e-05 &  0.2264060 & 0.0687473 & 9.901591e-04 & 4.129280e-01 & 11 & NKmat  & PNMT\\_NKmat                & 2.541370e-02\\\\\n",
       "\t GSDMB              & 17 & GSDMB              & 38060848 & rs12453507 & 17 & 38053207 & C & G & 0.501934 & ⋯ & 0.04178040 &  3.874105e-08 &  0.3022040 & 0.0776745 & 9.997674e-05 & 1.436687e-03 & 20 & NKmat  & GSDMB\\_NKmat               & 3.774453e-03\\\\\n",
       "\t ORMDL3             & 17 & ORMDL3             & 38077294 & rs8074437  & 17 & 38076137 & T & G & 0.514023 & ⋯ & 0.01684250 &  3.658765e-75 &  0.2029360 & 0.0422551 & 1.565973e-06 & 1.570471e-04 & 20 & NKmat  & ORMDL3\\_NKmat              & 1.064791e-04\\\\\n",
       "\t RP11-973H7.4       & 18 & RP11-973H7.4       & 12739489 & rs2542152  & 18 & 12782761 & T & C & 0.604932 & ⋯ & 0.04072080 &  5.334538e-18 & -0.2087650 & 0.0441184 & 2.224054e-06 & 2.302940e-05 & 20 & NKmat  & RP11-973H7.4\\_NKmat        & 1.369228e-04\\\\\n",
       "\t RP11-973H7.1       & 18 & RP11-973H7.1       & 12774650 & rs2542152  & 18 & 12782761 & T & C & 0.604932 & ⋯ & 0.03501440 &  1.147534e-29 & -0.1855710 & 0.0366935 & 4.251936e-07 & 1.313362e-05 & 20 & NKmat  & RP11-973H7.1\\_NKmat        & 3.229268e-05\\\\\n",
       "\t KRI1               & 19 & KRI1               & 10663761 & rs10412541 & 19 & 10674558 & G & A & 0.505803 & ⋯ & 0.01747100 &  1.631820e-06 & -0.8022700 & 0.2339920 & 6.066682e-04 & 2.427718e-01 & 11 & NKmat  & KRI1\\_NKmat                & 1.754763e-02\\\\\n",
       "\t CTD-3162L10.1      & 19 & CTD-3162L10.1      & 36795482 & rs2972525  & 19 & 36747279 & T & C & 0.578337 & ⋯ & 0.09195860 &  1.420350e-19 &  0.0699275 & 0.0220629 & 1.527222e-03 & 2.935737e-01 & 20 & NKmat  & CTD-3162L10.1\\_NKmat       & 3.619387e-02\\\\\n",
       "\t LINC00665          & 19 & LINC00665          & 36803969 & rs2972527  & 19 & 36746225 & C & A & 0.546422 & ⋯ & 0.03201140 &  1.482500e-09 &  0.3270490 & 0.1018360 & 1.320354e-03 & 1.819111e-02 & 20 & NKmat  & LINC00665\\_NKmat           & 3.209637e-02\\\\\n",
       "\t ITPA               & 20 & ITPA               &  3189514 & rs8362     & 20 &  3193978 & G & A & 0.699710 & ⋯ & 0.01281820 &  1.073707e-25 &  0.3804120 & 0.1230970 & 1.999202e-03 & 1.944373e-01 & 20 & NKmat  & ITPA\\_NKmat                & 4.438276e-02\\\\\n",
       "\t TMEM50B            & 21 & TMEM50B            & 34804792 & rs4816453  & 21 & 34811357 & G & A & 0.528046 & ⋯ & 0.01346230 &  4.375757e-34 & -0.3466270 & 0.0831420 & 3.058160e-05 & 7.433479e-02 & 20 & NKmat  & TMEM50B\\_NKmat             & 1.352997e-03\\\\\n",
       "\t UBE2L3             & 22 & UBE2L3             & 21903736 & rs4820091  & 22 & 21940189 & T & G & 0.820600 & ⋯ & 0.00870445 &  4.203846e-15 &  1.3349200 & 0.2941980 & 5.692828e-06 & 1.884202e-02 & 12 & NKmat  & UBE2L3\\_NKmat              & 3.093454e-04\\\\\n",
       "\t SYNGR1             & 22 & SYNGR1             & 39745930 & rs2069235  & 22 & 39747780 & G & A & 0.714700 & ⋯ & 0.02543540 &  7.389939e-90 & -0.1799510 & 0.0288103 & 4.208688e-10 & 2.870634e-01 & 20 & NKmat  & SYNGR1\\_NKmat              & 5.150177e-08\\\\\n",
       "\t ELL2               &  5 & ELL2               & 95220802 & rs6890954  &  5 & 95229429 & T & C & 0.738395 & ⋯ & 0.04691540 &  2.399401e-09 & -0.1975010 & 0.0608557 & 1.172881e-03 & 4.096590e-01 & 16 & Plasma & ELL2\\_Plasma               & 2.934946e-02\\\\\n",
       "\t HLA-F              &  6 & HLA-F              & 29690552 & rs1736919  &  6 & 29697517 & A & G & 0.304642 & ⋯ & 0.06146210 &  4.644084e-08 &  0.2262880 & 0.0583370 & 1.048940e-04 & 4.076135e-05 & 20 & Plasma & HLA-F\\_Plasma              & 3.925858e-03\\\\\n",
       "\t HLA-A              &  6 & HLA-A              & 29909037 & rs2524006  &  6 & 29899140 & T & G & 0.249033 & ⋯ & 0.03332100 &  2.540318e-14 & -0.3851910 & 0.0795643 & 1.290235e-06 & 4.447243e-03 & 20 & Plasma & HLA-A\\_Plasma              & 8.960674e-05\\\\\n",
       "\t XXbac-BPG299F13.17 &  6 & XXbac-BPG299F13.17 & 31162977 & rs9380221  &  6 & 31150873 & T & C & 0.814313 & ⋯ & 0.15567300 &  8.950248e-13 & -0.1380800 & 0.0237707 & 6.291264e-09 & 5.658011e-03 & 20 & Plasma & XXbac-BPG299F13.17\\_Plasma & 6.752522e-07\\\\\n",
       "\t HLA-C              &  6 & HLA-C              & 31236526 & rs2249741  &  6 & 31240712 & A & C & 0.477756 & ⋯ & 0.02654930 &  3.127272e-18 &  0.3811250 & 0.0705856 & 6.683987e-08 & 6.209241e-15 & 20 & Plasma & HLA-C\\_Plasma              & 5.865261e-06\\\\\n",
       "\t HLA-DRB5           &  6 & HLA-DRB5           & 32485120 & rs28366319 &  6 & 32561495 & G & A & 0.653288 & ⋯ & 0.07136870 &  1.354828e-56 & -0.8255550 & 0.0565032 & 2.398187e-48 & 1.905656e-29 & 20 & Plasma & HLA-DRB5\\_Plasma           & 1.483123e-45\\\\\n",
       "\t HLA-DQA1           &  6 & HLA-DQA1           & 32595956 & rs79414789 &  6 & 32580591 & G & C & 0.718085 & ⋯ & 0.05547110 &  1.409656e-18 & -1.5855800 & 0.1834310 & 5.425996e-18 & 7.859425e-07 & 20 & Plasma & HLA-DQA1\\_Plasma           & 1.718736e-15\\\\\n",
       "\t HLA-DQB1           &  6 & HLA-DQB1           & 32627244 & rs1049055  &  6 & 32634387 & C & T & 0.235493 & ⋯ & 0.07172140 &  3.240232e-17 &  0.8229310 & 0.1198010 & 6.458949e-12 & 1.533940e-15 & 20 & Plasma & HLA-DQB1\\_Plasma           & 9.753868e-10\\\\\n",
       "\t HLA-DQA2           &  6 & HLA-DQA2           & 32709119 & rs1391371  &  6 & 32603798 & A & T & 0.796422 & ⋯ & 0.09839560 &  1.057800e-58 & -0.8047710 & 0.0531843 & 9.998670e-52 & 1.097509e-18 & 20 & Plasma & HLA-DQA2\\_Plasma           & 6.834427e-49\\\\\n",
       "\t RPS26              & 12 & RPS26              & 56435637 & rs1131017  & 12 & 56435929 & C & G & 0.420696 & ⋯ & 0.03289980 & 8.679692e-106 &  0.0876589 & 0.0185281 & 2.232710e-06 & 1.287450e-02 & 20 & Plasma & RPS26\\_Plasma              & 1.369228e-04\\\\\n",
       "\t TXNDC11            & 16 & TXNDC11            & 11772936 & rs12926451 & 16 & 11819569 & C & A & 0.412476 & ⋯ & 0.02724700 &  2.335370e-11 &  0.4552420 & 0.1014880 & 7.268066e-06 & 7.553484e-01 & 20 & Plasma & TXNDC11\\_Plasma            & 3.884419e-04\\\\\n",
       "\t CD40               & 20 & CD40               & 44746911 & rs4239702  & 20 & 44749251 & T & C & 0.288685 & ⋯ & 0.07230790 &  2.344925e-07 & -0.2771470 & 0.0660152 & 2.690121e-05 & 2.247256e-01 &  5 & Plasma & CD40\\_Plasma               & 1.222512e-03\\\\\n",
       "\\end{tabular}\n"
      ],
      "text/markdown": [
       "\n",
       "A data.table: 601 × 24\n",
       "\n",
       "| probeID &lt;chr&gt; | ProbeChr &lt;int&gt; | Gene &lt;chr&gt; | Probe_bp &lt;int&gt; | topSNP &lt;chr&gt; | topSNP_chr &lt;int&gt; | topSNP_bp &lt;int&gt; | A1 &lt;chr&gt; | A2 &lt;chr&gt; | Freq &lt;dbl&gt; | ⋯ ⋯ | se_eQTL &lt;dbl&gt; | p_eQTL &lt;dbl&gt; | b_SMR &lt;dbl&gt; | se_SMR &lt;dbl&gt; | p_SMR &lt;dbl&gt; | p_HEIDI &lt;dbl&gt; | nsnp_HEIDI &lt;int&gt; | Cell_type &lt;chr&gt; | comb &lt;chr&gt; | qv &lt;dbl&gt; |\n",
       "|---|---|---|---|---|---|---|---|---|---|---|---|---|---|---|---|---|---|---|---|---|\n",
       "| PTPN22             | 1 | PTPN22             | 114356433 | rs2636008  | 1 | 114325914 | A | G | 0.643617 | ⋯ | 0.02671320 |  1.412721e-07 | -1.4053400 | 0.2842150 | 7.629313e-07 | 3.762805e-06 | 12 | BimmNaive | PTPN22_BimmNaive             | 5.474196e-05 |\n",
       "| FCRL3              | 1 | FCRL3              | 157644111 | rs7528684  | 1 | 157670816 | A | G | 0.530948 | ⋯ | 0.02532830 |  3.384601e-29 | -0.2150690 | 0.0496142 | 1.458784e-05 | 3.113276e-01 | 20 | BimmNaive | FCRL3_BimmNaive              | 7.095667e-04 |\n",
       "| RPS7               | 2 | RPS7               |   3622795 | rs62106040 | 2 |   3627302 | A | T | 0.932785 | ⋯ | 0.00517966 |  2.978748e-47 |  1.9843700 | 0.5199350 | 1.353200e-04 | 6.066024e-01 | 13 | BimmNaive | RPS7_BimmNaive               | 4.775597e-03 |\n",
       "| REL                | 2 | REL                |  61108656 | rs12989427 | 2 |  61137506 | G | A | 0.830754 | ⋯ | 0.01614030 |  2.274546e-26 | -0.5621190 | 0.1128770 | 6.361624e-07 | 5.273667e-03 | 20 | BimmNaive | REL_BimmNaive                | 4.615603e-05 |\n",
       "| PSD4               | 2 | PSD4               | 113914902 | rs2241976  | 2 | 113943470 | A | G | 0.576886 | ⋯ | 0.02753300 |  7.402550e-09 |  0.4152450 | 0.1235370 | 7.757658e-04 | 2.411041e-01 | 20 | BimmNaive | PSD4_BimmNaive               | 2.085917e-02 |\n",
       "| DAP                | 5 | DAP                |  10679342 | rs267948   | 5 |  10744197 | C | G | 0.278530 | ⋯ | 0.02472750 |  2.996078e-09 |  0.5113210 | 0.1276010 | 6.144669e-05 | 1.776416e-01 | 20 | BimmNaive | DAP_BimmNaive                | 2.478313e-03 |\n",
       "| ZFP57              | 6 | ZFP57              |  29640169 | rs2747429  | 6 |  29648377 | T | C | 0.771760 | ⋯ | 0.21004300 |  5.252485e-11 |  0.0876951 | 0.0174152 | 4.765002e-07 | 4.882440e-06 | 20 | BimmNaive | ZFP57_BimmNaive              | 3.536214e-05 |\n",
       "| HLA-A              | 6 | HLA-A              |  29909037 | rs2844810  | 6 |  29923580 | G | C | 0.413926 | ⋯ | 0.01122630 |  1.379438e-44 | -0.6021640 | 0.0937355 | 1.326654e-10 | 4.206965e-09 | 20 | BimmNaive | HLA-A_BimmNaive              | 1.776231e-08 |\n",
       "| XXbac-BPG299F13.17 | 6 | XXbac-BPG299F13.17 |  31162977 | rs6901685  | 6 |  31163796 | T | C | 0.786750 | ⋯ | 0.04203120 |  4.937758e-84 | -0.1465020 | 0.0194096 | 4.422318e-14 | 6.000319e-18 | 20 | BimmNaive | XXbac-BPG299F13.17_BimmNaive | 9.116390e-12 |\n",
       "| HLA-C              | 6 | HLA-C              |  31236526 | rs9264664  | 6 |  31239227 | C | T | 0.348162 | ⋯ | 0.01381500 |  9.766027e-59 | -0.3538780 | 0.0647373 | 4.593516e-08 | 3.616243e-33 | 20 | BimmNaive | HLA-C_BimmNaive              | 4.142821e-06 |\n",
       "| XXbac-BPG181B23.7  | 6 | XXbac-BPG181B23.7  |  31362066 | rs6906175  | 6 |  31371101 | G | C | 0.769826 | ⋯ | 0.10220100 |  1.563238e-10 | -0.1110110 | 0.0286362 | 1.059246e-04 | 1.527436e-08 | 20 | BimmNaive | XXbac-BPG181B23.7_BimmNaive  | 3.953039e-03 |\n",
       "| LST1               | 6 | LST1               |  31553901 | rs2256965  | 6 |  31555130 | A | G | 0.405706 | ⋯ | 0.02502590 |  4.159973e-16 | -0.7973240 | 0.1172630 | 1.050417e-11 | 2.363546e-05 | 20 | BimmNaive | LST1_BimmNaive               | 1.532799e-09 |\n",
       "| HSPA1B             | 6 | HSPA1B             |  31795512 | rs707930   | 6 |  31741659 | C | T | 0.507253 | ⋯ | 0.08536190 |  7.999649e-07 | -0.5770330 | 0.1208010 | 1.781716e-06 | 1.638940e-06 | 20 | BimmNaive | HSPA1B_BimmNaive             | 1.198932e-04 |\n",
       "| C6orf48            | 6 | C6orf48            |  31802385 | rs80260075 | 6 |  31823477 | C | T | 0.880077 | ⋯ | 0.01242240 |  1.087746e-13 |  1.2362400 | 0.2663850 | 3.470349e-06 | 4.463332e-15 | 20 | BimmNaive | C6orf48_BimmNaive            | 2.021072e-04 |\n",
       "| SKIV2L             | 6 | SKIV2L             |  31926857 | rs9268149  | 6 |  32263099 | T | C | 0.166344 | ⋯ | 0.06611240 |  1.613068e-06 | -1.1140900 | 0.2392470 | 3.214158e-06 | 3.021838e-07 | 20 | BimmNaive | SKIV2L_BimmNaive             | 1.914803e-04 |\n",
       "| HCG23              | 6 | HCG23              |  32358287 | rs2097431  | 6 |  32590833 | A | G | 0.302224 | ⋯ | 0.11051200 |  9.107912e-07 | -0.2117530 | 0.0521399 | 4.881256e-05 | 2.993027e-08 | 20 | BimmNaive | HCG23_BimmNaive              | 2.031844e-03 |\n",
       "| HLA-DRA            | 6 | HLA-DRA            |  32407619 | rs3129887  | 6 |  32410691 | G | A | 0.822534 | ⋯ | 0.01287370 |  2.771861e-06 | -7.3964800 | 1.6066400 | 4.150507e-06 | 5.453584e-05 | 12 | BimmNaive | HLA-DRA_BimmNaive            | 2.355361e-04 |\n",
       "| HLA-DRB5           | 6 | HLA-DRB5           |  32485120 | rs9272254  | 6 |  32603098 | C | T | 0.497099 | ⋯ | 0.05596280 | 2.057122e-106 | -0.4193510 | 0.0241703 | 1.977442e-67 | 8.202828e-28 | 20 | BimmNaive | HLA-DRB5_BimmNaive           | 5.136263e-64 |\n",
       "| HLA-DRB1           | 6 | HLA-DRB1           |  32546546 | rs9271492  | 6 |  32589122 | A | C | 0.651838 | ⋯ | 0.01465760 |  4.050574e-73 |  2.4039200 | 0.1484000 | 5.131938e-59 | 9.856733e-42 | 20 | BimmNaive | HLA-DRB1_BimmNaive           | 4.760656e-56 |\n",
       "| HLA-DQA1           | 6 | HLA-DQA1           |  32595956 | rs9272546  | 6 |  32606941 | T | C | 0.336074 | ⋯ | 0.01390830 |  2.408243e-45 | -1.0007500 | 0.2154760 | 3.411312e-06 | 5.207063e-23 | 20 | BimmNaive | HLA-DQA1_BimmNaive           | 1.995639e-04 |\n",
       "| HLA-DQB1           | 6 | HLA-DQB1           |  32627244 | rs9274660  | 6 |  32636434 | A | G | 0.394584 | ⋯ | 0.01463280 |  3.180543e-58 |  1.0115200 | 0.1383190 | 2.614270e-13 | 7.731980e-32 | 20 | BimmNaive | HLA-DQB1_BimmNaive           | 4.920563e-11 |\n",
       "| HLA-DQA2           | 6 | HLA-DQA2           |  32709119 | rs9272319  | 6 |  32604108 | T | C | 0.653288 | ⋯ | 0.07241990 |  2.105526e-94 | -0.5235870 | 0.0294005 | 6.039919e-71 | 2.072608e-33 | 20 | BimmNaive | HLA-DQA2_BimmNaive           | 2.614709e-67 |\n",
       "| HLA-DQB2           | 6 | HLA-DQB2           |  32723875 | rs9274660  | 6 |  32636434 | A | G | 0.394584 | ⋯ | 0.05459380 |  1.799790e-49 | -0.2949590 | 0.0410921 | 7.074186e-13 | 3.376974e-22 | 20 | BimmNaive | HLA-DQB2_BimmNaive           | 1.258540e-10 |\n",
       "| HLA-DMA            | 6 | HLA-DMA            |  32916390 | rs1050391  | 6 |  32917857 | A | G | 0.111219 | ⋯ | 0.01328460 |  3.423174e-08 |  2.5372300 | 0.5589480 | 5.644179e-06 | 5.139002e-06 | 19 | BimmNaive | HLA-DMA_BimmNaive            | 3.092900e-04 |\n",
       "| HLA-DPA1           | 6 | HLA-DPA1           |  33032346 | rs6906636  | 6 |  32986677 | G | T | 0.540135 | ⋯ | 0.00940644 |  1.016650e-41 | -0.3943910 | 0.1031920 | 1.324214e-04 | 1.122467e-26 | 20 | BimmNaive | HLA-DPA1_BimmNaive           | 4.711712e-03 |\n",
       "| HLA-DPB1           | 6 | HLA-DPB1           |  33043703 | rs6906636  | 6 |  32986677 | G | T | 0.540135 | ⋯ | 0.00979018 |  5.755672e-52 | -0.3380520 | 0.0877278 | 1.164821e-04 | 8.015427e-43 | 20 | BimmNaive | HLA-DPB1_BimmNaive           | 4.243979e-03 |\n",
       "| RPS18              | 6 | RPS18              |  33239787 | rs17215231 | 6 |  33239869 | C | T | 0.931335 | ⋯ | 0.01014450 | 5.154963e-144 | -0.3684190 | 0.1078290 | 6.338651e-04 | 3.507642e-18 | 20 | BimmNaive | RPS18_BimmNaive              | 1.793484e-02 |\n",
       "| TAPBP              | 6 | TAPBP              |  33267471 | rs3106194  | 6 |  33290872 | G | A | 0.702128 | ⋯ | 0.01049650 |  1.107098e-17 |  0.9780440 | 0.1904860 | 2.829535e-07 | 5.561976e-08 | 20 | BimmNaive | TAPBP_BimmNaive              | 2.213709e-05 |\n",
       "| UQCC2              | 6 | UQCC2              |  33662070 | rs2296330  | 6 |  33650621 | G | A | 0.755319 | ⋯ | 0.02411910 |  2.283751e-06 |  1.7921100 | 0.3993690 | 7.211659e-06 | 7.152839e-01 |  9 | BimmNaive | UQCC2_BimmNaive              | 3.870199e-04 |\n",
       "| CCR6               | 6 | CCR6               | 167525295 | rs3093017  | 6 | 167541258 | C | G | 0.447292 | ⋯ | 0.02785920 |  9.018868e-07 | -0.8440390 | 0.1963470 | 1.717976e-05 | 7.246003e-02 |  8 | BimmNaive | CCR6_BimmNaive               | 8.263553e-04 |\n",
       "| ⋮ | ⋮ | ⋮ | ⋮ | ⋮ | ⋮ | ⋮ | ⋮ | ⋮ | ⋮ | ⋱ | ⋮ | ⋮ | ⋮ | ⋮ | ⋮ | ⋮ | ⋮ | ⋮ | ⋮ | ⋮ |\n",
       "| RPS26              | 12 | RPS26              | 56435637 | rs1131017  | 12 | 56435929 | C | G | 0.420696 | ⋯ | 0.02291910 | 5.248013e-160 |  0.1019840 | 0.0213819 | 1.845276e-06 | 8.959850e-03 | 20 | NKmat  | RPS26_NKmat               | 1.235302e-04 |\n",
       "| METTL21B           | 12 | METTL21B           | 58165275 | rs2072052  | 12 | 58146719 | A | C | 0.677950 | ⋯ | 0.07527650 |  8.543879e-06 |  0.1790710 | 0.0575747 | 1.869347e-03 | 2.581793e-01 | 10 | NKmat  | METTL21B_NKmat            | 4.214838e-02 |\n",
       "| KTN1               | 14 | KTN1               | 56025790 | rs17684916 | 14 | 56113917 | A | C | 0.658124 | ⋯ | 0.01011400 |  3.107719e-15 |  0.7910810 | 0.2231530 | 3.925816e-04 | 6.754305e-01 | 20 | NKmat  | KTN1_NKmat                | 1.177485e-02 |\n",
       "| TUFM               | 16 | TUFM               | 28853732 | rs7187776  | 16 | 28857645 | A | G | 0.615571 | ⋯ | 0.00835159 |  3.599653e-45 | -0.4839160 | 0.1172000 | 3.643634e-05 | 6.554490e-01 | 20 | NKmat  | TUFM_NKmat                | 1.573092e-03 |\n",
       "| SPNS1              | 16 | SPNS1              | 28985542 | rs9929088  | 16 | 29001460 | A | C | 0.284816 | ⋯ | 0.01729550 |  3.614552e-11 | -0.5878760 | 0.1611960 | 2.653600e-04 | 7.522640e-01 | 20 | NKmat  | SPNS1_NKmat               | 8.364726e-03 |\n",
       "| RP11-345J4.5       | 16 | RP11-345J4.5       | 29454551 | rs11644392 | 16 | 30328317 | T | C | 0.515474 | ⋯ | 0.01652290 |  2.220318e-34 |  0.2950030 | 0.0747798 | 7.981549e-05 | 6.223985e-02 | 20 | NKmat  | RP11-345J4.5_NKmat        | 3.085044e-03 |\n",
       "| PNMT               | 17 | PNMT               | 37824234 | rs7359623  | 17 | 38049589 | C | T | 0.496132 | ⋯ | 0.07660420 |  4.688187e-05 |  0.2264060 | 0.0687473 | 9.901591e-04 | 4.129280e-01 | 11 | NKmat  | PNMT_NKmat                | 2.541370e-02 |\n",
       "| GSDMB              | 17 | GSDMB              | 38060848 | rs12453507 | 17 | 38053207 | C | G | 0.501934 | ⋯ | 0.04178040 |  3.874105e-08 |  0.3022040 | 0.0776745 | 9.997674e-05 | 1.436687e-03 | 20 | NKmat  | GSDMB_NKmat               | 3.774453e-03 |\n",
       "| ORMDL3             | 17 | ORMDL3             | 38077294 | rs8074437  | 17 | 38076137 | T | G | 0.514023 | ⋯ | 0.01684250 |  3.658765e-75 |  0.2029360 | 0.0422551 | 1.565973e-06 | 1.570471e-04 | 20 | NKmat  | ORMDL3_NKmat              | 1.064791e-04 |\n",
       "| RP11-973H7.4       | 18 | RP11-973H7.4       | 12739489 | rs2542152  | 18 | 12782761 | T | C | 0.604932 | ⋯ | 0.04072080 |  5.334538e-18 | -0.2087650 | 0.0441184 | 2.224054e-06 | 2.302940e-05 | 20 | NKmat  | RP11-973H7.4_NKmat        | 1.369228e-04 |\n",
       "| RP11-973H7.1       | 18 | RP11-973H7.1       | 12774650 | rs2542152  | 18 | 12782761 | T | C | 0.604932 | ⋯ | 0.03501440 |  1.147534e-29 | -0.1855710 | 0.0366935 | 4.251936e-07 | 1.313362e-05 | 20 | NKmat  | RP11-973H7.1_NKmat        | 3.229268e-05 |\n",
       "| KRI1               | 19 | KRI1               | 10663761 | rs10412541 | 19 | 10674558 | G | A | 0.505803 | ⋯ | 0.01747100 |  1.631820e-06 | -0.8022700 | 0.2339920 | 6.066682e-04 | 2.427718e-01 | 11 | NKmat  | KRI1_NKmat                | 1.754763e-02 |\n",
       "| CTD-3162L10.1      | 19 | CTD-3162L10.1      | 36795482 | rs2972525  | 19 | 36747279 | T | C | 0.578337 | ⋯ | 0.09195860 |  1.420350e-19 |  0.0699275 | 0.0220629 | 1.527222e-03 | 2.935737e-01 | 20 | NKmat  | CTD-3162L10.1_NKmat       | 3.619387e-02 |\n",
       "| LINC00665          | 19 | LINC00665          | 36803969 | rs2972527  | 19 | 36746225 | C | A | 0.546422 | ⋯ | 0.03201140 |  1.482500e-09 |  0.3270490 | 0.1018360 | 1.320354e-03 | 1.819111e-02 | 20 | NKmat  | LINC00665_NKmat           | 3.209637e-02 |\n",
       "| ITPA               | 20 | ITPA               |  3189514 | rs8362     | 20 |  3193978 | G | A | 0.699710 | ⋯ | 0.01281820 |  1.073707e-25 |  0.3804120 | 0.1230970 | 1.999202e-03 | 1.944373e-01 | 20 | NKmat  | ITPA_NKmat                | 4.438276e-02 |\n",
       "| TMEM50B            | 21 | TMEM50B            | 34804792 | rs4816453  | 21 | 34811357 | G | A | 0.528046 | ⋯ | 0.01346230 |  4.375757e-34 | -0.3466270 | 0.0831420 | 3.058160e-05 | 7.433479e-02 | 20 | NKmat  | TMEM50B_NKmat             | 1.352997e-03 |\n",
       "| UBE2L3             | 22 | UBE2L3             | 21903736 | rs4820091  | 22 | 21940189 | T | G | 0.820600 | ⋯ | 0.00870445 |  4.203846e-15 |  1.3349200 | 0.2941980 | 5.692828e-06 | 1.884202e-02 | 12 | NKmat  | UBE2L3_NKmat              | 3.093454e-04 |\n",
       "| SYNGR1             | 22 | SYNGR1             | 39745930 | rs2069235  | 22 | 39747780 | G | A | 0.714700 | ⋯ | 0.02543540 |  7.389939e-90 | -0.1799510 | 0.0288103 | 4.208688e-10 | 2.870634e-01 | 20 | NKmat  | SYNGR1_NKmat              | 5.150177e-08 |\n",
       "| ELL2               |  5 | ELL2               | 95220802 | rs6890954  |  5 | 95229429 | T | C | 0.738395 | ⋯ | 0.04691540 |  2.399401e-09 | -0.1975010 | 0.0608557 | 1.172881e-03 | 4.096590e-01 | 16 | Plasma | ELL2_Plasma               | 2.934946e-02 |\n",
       "| HLA-F              |  6 | HLA-F              | 29690552 | rs1736919  |  6 | 29697517 | A | G | 0.304642 | ⋯ | 0.06146210 |  4.644084e-08 |  0.2262880 | 0.0583370 | 1.048940e-04 | 4.076135e-05 | 20 | Plasma | HLA-F_Plasma              | 3.925858e-03 |\n",
       "| HLA-A              |  6 | HLA-A              | 29909037 | rs2524006  |  6 | 29899140 | T | G | 0.249033 | ⋯ | 0.03332100 |  2.540318e-14 | -0.3851910 | 0.0795643 | 1.290235e-06 | 4.447243e-03 | 20 | Plasma | HLA-A_Plasma              | 8.960674e-05 |\n",
       "| XXbac-BPG299F13.17 |  6 | XXbac-BPG299F13.17 | 31162977 | rs9380221  |  6 | 31150873 | T | C | 0.814313 | ⋯ | 0.15567300 |  8.950248e-13 | -0.1380800 | 0.0237707 | 6.291264e-09 | 5.658011e-03 | 20 | Plasma | XXbac-BPG299F13.17_Plasma | 6.752522e-07 |\n",
       "| HLA-C              |  6 | HLA-C              | 31236526 | rs2249741  |  6 | 31240712 | A | C | 0.477756 | ⋯ | 0.02654930 |  3.127272e-18 |  0.3811250 | 0.0705856 | 6.683987e-08 | 6.209241e-15 | 20 | Plasma | HLA-C_Plasma              | 5.865261e-06 |\n",
       "| HLA-DRB5           |  6 | HLA-DRB5           | 32485120 | rs28366319 |  6 | 32561495 | G | A | 0.653288 | ⋯ | 0.07136870 |  1.354828e-56 | -0.8255550 | 0.0565032 | 2.398187e-48 | 1.905656e-29 | 20 | Plasma | HLA-DRB5_Plasma           | 1.483123e-45 |\n",
       "| HLA-DQA1           |  6 | HLA-DQA1           | 32595956 | rs79414789 |  6 | 32580591 | G | C | 0.718085 | ⋯ | 0.05547110 |  1.409656e-18 | -1.5855800 | 0.1834310 | 5.425996e-18 | 7.859425e-07 | 20 | Plasma | HLA-DQA1_Plasma           | 1.718736e-15 |\n",
       "| HLA-DQB1           |  6 | HLA-DQB1           | 32627244 | rs1049055  |  6 | 32634387 | C | T | 0.235493 | ⋯ | 0.07172140 |  3.240232e-17 |  0.8229310 | 0.1198010 | 6.458949e-12 | 1.533940e-15 | 20 | Plasma | HLA-DQB1_Plasma           | 9.753868e-10 |\n",
       "| HLA-DQA2           |  6 | HLA-DQA2           | 32709119 | rs1391371  |  6 | 32603798 | A | T | 0.796422 | ⋯ | 0.09839560 |  1.057800e-58 | -0.8047710 | 0.0531843 | 9.998670e-52 | 1.097509e-18 | 20 | Plasma | HLA-DQA2_Plasma           | 6.834427e-49 |\n",
       "| RPS26              | 12 | RPS26              | 56435637 | rs1131017  | 12 | 56435929 | C | G | 0.420696 | ⋯ | 0.03289980 | 8.679692e-106 |  0.0876589 | 0.0185281 | 2.232710e-06 | 1.287450e-02 | 20 | Plasma | RPS26_Plasma              | 1.369228e-04 |\n",
       "| TXNDC11            | 16 | TXNDC11            | 11772936 | rs12926451 | 16 | 11819569 | C | A | 0.412476 | ⋯ | 0.02724700 |  2.335370e-11 |  0.4552420 | 0.1014880 | 7.268066e-06 | 7.553484e-01 | 20 | Plasma | TXNDC11_Plasma            | 3.884419e-04 |\n",
       "| CD40               | 20 | CD40               | 44746911 | rs4239702  | 20 | 44749251 | T | C | 0.288685 | ⋯ | 0.07230790 |  2.344925e-07 | -0.2771470 | 0.0660152 | 2.690121e-05 | 2.247256e-01 |  5 | Plasma | CD40_Plasma               | 1.222512e-03 |\n",
       "\n"
      ],
      "text/plain": [
       "    probeID            ProbeChr Gene               Probe_bp  topSNP    \n",
       "1   PTPN22             1        PTPN22             114356433 rs2636008 \n",
       "2   FCRL3              1        FCRL3              157644111 rs7528684 \n",
       "3   RPS7               2        RPS7                 3622795 rs62106040\n",
       "4   REL                2        REL                 61108656 rs12989427\n",
       "5   PSD4               2        PSD4               113914902 rs2241976 \n",
       "6   DAP                5        DAP                 10679342 rs267948  \n",
       "7   ZFP57              6        ZFP57               29640169 rs2747429 \n",
       "8   HLA-A              6        HLA-A               29909037 rs2844810 \n",
       "9   XXbac-BPG299F13.17 6        XXbac-BPG299F13.17  31162977 rs6901685 \n",
       "10  HLA-C              6        HLA-C               31236526 rs9264664 \n",
       "11  XXbac-BPG181B23.7  6        XXbac-BPG181B23.7   31362066 rs6906175 \n",
       "12  LST1               6        LST1                31553901 rs2256965 \n",
       "13  HSPA1B             6        HSPA1B              31795512 rs707930  \n",
       "14  C6orf48            6        C6orf48             31802385 rs80260075\n",
       "15  SKIV2L             6        SKIV2L              31926857 rs9268149 \n",
       "16  HCG23              6        HCG23               32358287 rs2097431 \n",
       "17  HLA-DRA            6        HLA-DRA             32407619 rs3129887 \n",
       "18  HLA-DRB5           6        HLA-DRB5            32485120 rs9272254 \n",
       "19  HLA-DRB1           6        HLA-DRB1            32546546 rs9271492 \n",
       "20  HLA-DQA1           6        HLA-DQA1            32595956 rs9272546 \n",
       "21  HLA-DQB1           6        HLA-DQB1            32627244 rs9274660 \n",
       "22  HLA-DQA2           6        HLA-DQA2            32709119 rs9272319 \n",
       "23  HLA-DQB2           6        HLA-DQB2            32723875 rs9274660 \n",
       "24  HLA-DMA            6        HLA-DMA             32916390 rs1050391 \n",
       "25  HLA-DPA1           6        HLA-DPA1            33032346 rs6906636 \n",
       "26  HLA-DPB1           6        HLA-DPB1            33043703 rs6906636 \n",
       "27  RPS18              6        RPS18               33239787 rs17215231\n",
       "28  TAPBP              6        TAPBP               33267471 rs3106194 \n",
       "29  UQCC2              6        UQCC2               33662070 rs2296330 \n",
       "30  CCR6               6        CCR6               167525295 rs3093017 \n",
       "⋮   ⋮                  ⋮        ⋮                  ⋮         ⋮         \n",
       "572 RPS26              12       RPS26              56435637  rs1131017 \n",
       "573 METTL21B           12       METTL21B           58165275  rs2072052 \n",
       "574 KTN1               14       KTN1               56025790  rs17684916\n",
       "575 TUFM               16       TUFM               28853732  rs7187776 \n",
       "576 SPNS1              16       SPNS1              28985542  rs9929088 \n",
       "577 RP11-345J4.5       16       RP11-345J4.5       29454551  rs11644392\n",
       "578 PNMT               17       PNMT               37824234  rs7359623 \n",
       "579 GSDMB              17       GSDMB              38060848  rs12453507\n",
       "580 ORMDL3             17       ORMDL3             38077294  rs8074437 \n",
       "581 RP11-973H7.4       18       RP11-973H7.4       12739489  rs2542152 \n",
       "582 RP11-973H7.1       18       RP11-973H7.1       12774650  rs2542152 \n",
       "583 KRI1               19       KRI1               10663761  rs10412541\n",
       "584 CTD-3162L10.1      19       CTD-3162L10.1      36795482  rs2972525 \n",
       "585 LINC00665          19       LINC00665          36803969  rs2972527 \n",
       "586 ITPA               20       ITPA                3189514  rs8362    \n",
       "587 TMEM50B            21       TMEM50B            34804792  rs4816453 \n",
       "588 UBE2L3             22       UBE2L3             21903736  rs4820091 \n",
       "589 SYNGR1             22       SYNGR1             39745930  rs2069235 \n",
       "590 ELL2                5       ELL2               95220802  rs6890954 \n",
       "591 HLA-F               6       HLA-F              29690552  rs1736919 \n",
       "592 HLA-A               6       HLA-A              29909037  rs2524006 \n",
       "593 XXbac-BPG299F13.17  6       XXbac-BPG299F13.17 31162977  rs9380221 \n",
       "594 HLA-C               6       HLA-C              31236526  rs2249741 \n",
       "595 HLA-DRB5            6       HLA-DRB5           32485120  rs28366319\n",
       "596 HLA-DQA1            6       HLA-DQA1           32595956  rs79414789\n",
       "597 HLA-DQB1            6       HLA-DQB1           32627244  rs1049055 \n",
       "598 HLA-DQA2            6       HLA-DQA2           32709119  rs1391371 \n",
       "599 RPS26              12       RPS26              56435637  rs1131017 \n",
       "600 TXNDC11            16       TXNDC11            11772936  rs12926451\n",
       "601 CD40               20       CD40               44746911  rs4239702 \n",
       "    topSNP_chr topSNP_bp A1 A2 Freq     ⋯ se_eQTL    p_eQTL        b_SMR     \n",
       "1   1          114325914 A  G  0.643617 ⋯ 0.02671320  1.412721e-07 -1.4053400\n",
       "2   1          157670816 A  G  0.530948 ⋯ 0.02532830  3.384601e-29 -0.2150690\n",
       "3   2            3627302 A  T  0.932785 ⋯ 0.00517966  2.978748e-47  1.9843700\n",
       "4   2           61137506 G  A  0.830754 ⋯ 0.01614030  2.274546e-26 -0.5621190\n",
       "5   2          113943470 A  G  0.576886 ⋯ 0.02753300  7.402550e-09  0.4152450\n",
       "6   5           10744197 C  G  0.278530 ⋯ 0.02472750  2.996078e-09  0.5113210\n",
       "7   6           29648377 T  C  0.771760 ⋯ 0.21004300  5.252485e-11  0.0876951\n",
       "8   6           29923580 G  C  0.413926 ⋯ 0.01122630  1.379438e-44 -0.6021640\n",
       "9   6           31163796 T  C  0.786750 ⋯ 0.04203120  4.937758e-84 -0.1465020\n",
       "10  6           31239227 C  T  0.348162 ⋯ 0.01381500  9.766027e-59 -0.3538780\n",
       "11  6           31371101 G  C  0.769826 ⋯ 0.10220100  1.563238e-10 -0.1110110\n",
       "12  6           31555130 A  G  0.405706 ⋯ 0.02502590  4.159973e-16 -0.7973240\n",
       "13  6           31741659 C  T  0.507253 ⋯ 0.08536190  7.999649e-07 -0.5770330\n",
       "14  6           31823477 C  T  0.880077 ⋯ 0.01242240  1.087746e-13  1.2362400\n",
       "15  6           32263099 T  C  0.166344 ⋯ 0.06611240  1.613068e-06 -1.1140900\n",
       "16  6           32590833 A  G  0.302224 ⋯ 0.11051200  9.107912e-07 -0.2117530\n",
       "17  6           32410691 G  A  0.822534 ⋯ 0.01287370  2.771861e-06 -7.3964800\n",
       "18  6           32603098 C  T  0.497099 ⋯ 0.05596280 2.057122e-106 -0.4193510\n",
       "19  6           32589122 A  C  0.651838 ⋯ 0.01465760  4.050574e-73  2.4039200\n",
       "20  6           32606941 T  C  0.336074 ⋯ 0.01390830  2.408243e-45 -1.0007500\n",
       "21  6           32636434 A  G  0.394584 ⋯ 0.01463280  3.180543e-58  1.0115200\n",
       "22  6           32604108 T  C  0.653288 ⋯ 0.07241990  2.105526e-94 -0.5235870\n",
       "23  6           32636434 A  G  0.394584 ⋯ 0.05459380  1.799790e-49 -0.2949590\n",
       "24  6           32917857 A  G  0.111219 ⋯ 0.01328460  3.423174e-08  2.5372300\n",
       "25  6           32986677 G  T  0.540135 ⋯ 0.00940644  1.016650e-41 -0.3943910\n",
       "26  6           32986677 G  T  0.540135 ⋯ 0.00979018  5.755672e-52 -0.3380520\n",
       "27  6           33239869 C  T  0.931335 ⋯ 0.01014450 5.154963e-144 -0.3684190\n",
       "28  6           33290872 G  A  0.702128 ⋯ 0.01049650  1.107098e-17  0.9780440\n",
       "29  6           33650621 G  A  0.755319 ⋯ 0.02411910  2.283751e-06  1.7921100\n",
       "30  6          167541258 C  G  0.447292 ⋯ 0.02785920  9.018868e-07 -0.8440390\n",
       "⋮   ⋮          ⋮         ⋮  ⋮  ⋮        ⋱ ⋮          ⋮             ⋮         \n",
       "572 12         56435929  C  G  0.420696 ⋯ 0.02291910 5.248013e-160  0.1019840\n",
       "573 12         58146719  A  C  0.677950 ⋯ 0.07527650  8.543879e-06  0.1790710\n",
       "574 14         56113917  A  C  0.658124 ⋯ 0.01011400  3.107719e-15  0.7910810\n",
       "575 16         28857645  A  G  0.615571 ⋯ 0.00835159  3.599653e-45 -0.4839160\n",
       "576 16         29001460  A  C  0.284816 ⋯ 0.01729550  3.614552e-11 -0.5878760\n",
       "577 16         30328317  T  C  0.515474 ⋯ 0.01652290  2.220318e-34  0.2950030\n",
       "578 17         38049589  C  T  0.496132 ⋯ 0.07660420  4.688187e-05  0.2264060\n",
       "579 17         38053207  C  G  0.501934 ⋯ 0.04178040  3.874105e-08  0.3022040\n",
       "580 17         38076137  T  G  0.514023 ⋯ 0.01684250  3.658765e-75  0.2029360\n",
       "581 18         12782761  T  C  0.604932 ⋯ 0.04072080  5.334538e-18 -0.2087650\n",
       "582 18         12782761  T  C  0.604932 ⋯ 0.03501440  1.147534e-29 -0.1855710\n",
       "583 19         10674558  G  A  0.505803 ⋯ 0.01747100  1.631820e-06 -0.8022700\n",
       "584 19         36747279  T  C  0.578337 ⋯ 0.09195860  1.420350e-19  0.0699275\n",
       "585 19         36746225  C  A  0.546422 ⋯ 0.03201140  1.482500e-09  0.3270490\n",
       "586 20          3193978  G  A  0.699710 ⋯ 0.01281820  1.073707e-25  0.3804120\n",
       "587 21         34811357  G  A  0.528046 ⋯ 0.01346230  4.375757e-34 -0.3466270\n",
       "588 22         21940189  T  G  0.820600 ⋯ 0.00870445  4.203846e-15  1.3349200\n",
       "589 22         39747780  G  A  0.714700 ⋯ 0.02543540  7.389939e-90 -0.1799510\n",
       "590  5         95229429  T  C  0.738395 ⋯ 0.04691540  2.399401e-09 -0.1975010\n",
       "591  6         29697517  A  G  0.304642 ⋯ 0.06146210  4.644084e-08  0.2262880\n",
       "592  6         29899140  T  G  0.249033 ⋯ 0.03332100  2.540318e-14 -0.3851910\n",
       "593  6         31150873  T  C  0.814313 ⋯ 0.15567300  8.950248e-13 -0.1380800\n",
       "594  6         31240712  A  C  0.477756 ⋯ 0.02654930  3.127272e-18  0.3811250\n",
       "595  6         32561495  G  A  0.653288 ⋯ 0.07136870  1.354828e-56 -0.8255550\n",
       "596  6         32580591  G  C  0.718085 ⋯ 0.05547110  1.409656e-18 -1.5855800\n",
       "597  6         32634387  C  T  0.235493 ⋯ 0.07172140  3.240232e-17  0.8229310\n",
       "598  6         32603798  A  T  0.796422 ⋯ 0.09839560  1.057800e-58 -0.8047710\n",
       "599 12         56435929  C  G  0.420696 ⋯ 0.03289980 8.679692e-106  0.0876589\n",
       "600 16         11819569  C  A  0.412476 ⋯ 0.02724700  2.335370e-11  0.4552420\n",
       "601 20         44749251  T  C  0.288685 ⋯ 0.07230790  2.344925e-07 -0.2771470\n",
       "    se_SMR    p_SMR        p_HEIDI      nsnp_HEIDI Cell_type\n",
       "1   0.2842150 7.629313e-07 3.762805e-06 12         BimmNaive\n",
       "2   0.0496142 1.458784e-05 3.113276e-01 20         BimmNaive\n",
       "3   0.5199350 1.353200e-04 6.066024e-01 13         BimmNaive\n",
       "4   0.1128770 6.361624e-07 5.273667e-03 20         BimmNaive\n",
       "5   0.1235370 7.757658e-04 2.411041e-01 20         BimmNaive\n",
       "6   0.1276010 6.144669e-05 1.776416e-01 20         BimmNaive\n",
       "7   0.0174152 4.765002e-07 4.882440e-06 20         BimmNaive\n",
       "8   0.0937355 1.326654e-10 4.206965e-09 20         BimmNaive\n",
       "9   0.0194096 4.422318e-14 6.000319e-18 20         BimmNaive\n",
       "10  0.0647373 4.593516e-08 3.616243e-33 20         BimmNaive\n",
       "11  0.0286362 1.059246e-04 1.527436e-08 20         BimmNaive\n",
       "12  0.1172630 1.050417e-11 2.363546e-05 20         BimmNaive\n",
       "13  0.1208010 1.781716e-06 1.638940e-06 20         BimmNaive\n",
       "14  0.2663850 3.470349e-06 4.463332e-15 20         BimmNaive\n",
       "15  0.2392470 3.214158e-06 3.021838e-07 20         BimmNaive\n",
       "16  0.0521399 4.881256e-05 2.993027e-08 20         BimmNaive\n",
       "17  1.6066400 4.150507e-06 5.453584e-05 12         BimmNaive\n",
       "18  0.0241703 1.977442e-67 8.202828e-28 20         BimmNaive\n",
       "19  0.1484000 5.131938e-59 9.856733e-42 20         BimmNaive\n",
       "20  0.2154760 3.411312e-06 5.207063e-23 20         BimmNaive\n",
       "21  0.1383190 2.614270e-13 7.731980e-32 20         BimmNaive\n",
       "22  0.0294005 6.039919e-71 2.072608e-33 20         BimmNaive\n",
       "23  0.0410921 7.074186e-13 3.376974e-22 20         BimmNaive\n",
       "24  0.5589480 5.644179e-06 5.139002e-06 19         BimmNaive\n",
       "25  0.1031920 1.324214e-04 1.122467e-26 20         BimmNaive\n",
       "26  0.0877278 1.164821e-04 8.015427e-43 20         BimmNaive\n",
       "27  0.1078290 6.338651e-04 3.507642e-18 20         BimmNaive\n",
       "28  0.1904860 2.829535e-07 5.561976e-08 20         BimmNaive\n",
       "29  0.3993690 7.211659e-06 7.152839e-01  9         BimmNaive\n",
       "30  0.1963470 1.717976e-05 7.246003e-02  8         BimmNaive\n",
       "⋮   ⋮         ⋮            ⋮            ⋮          ⋮        \n",
       "572 0.0213819 1.845276e-06 8.959850e-03 20         NKmat    \n",
       "573 0.0575747 1.869347e-03 2.581793e-01 10         NKmat    \n",
       "574 0.2231530 3.925816e-04 6.754305e-01 20         NKmat    \n",
       "575 0.1172000 3.643634e-05 6.554490e-01 20         NKmat    \n",
       "576 0.1611960 2.653600e-04 7.522640e-01 20         NKmat    \n",
       "577 0.0747798 7.981549e-05 6.223985e-02 20         NKmat    \n",
       "578 0.0687473 9.901591e-04 4.129280e-01 11         NKmat    \n",
       "579 0.0776745 9.997674e-05 1.436687e-03 20         NKmat    \n",
       "580 0.0422551 1.565973e-06 1.570471e-04 20         NKmat    \n",
       "581 0.0441184 2.224054e-06 2.302940e-05 20         NKmat    \n",
       "582 0.0366935 4.251936e-07 1.313362e-05 20         NKmat    \n",
       "583 0.2339920 6.066682e-04 2.427718e-01 11         NKmat    \n",
       "584 0.0220629 1.527222e-03 2.935737e-01 20         NKmat    \n",
       "585 0.1018360 1.320354e-03 1.819111e-02 20         NKmat    \n",
       "586 0.1230970 1.999202e-03 1.944373e-01 20         NKmat    \n",
       "587 0.0831420 3.058160e-05 7.433479e-02 20         NKmat    \n",
       "588 0.2941980 5.692828e-06 1.884202e-02 12         NKmat    \n",
       "589 0.0288103 4.208688e-10 2.870634e-01 20         NKmat    \n",
       "590 0.0608557 1.172881e-03 4.096590e-01 16         Plasma   \n",
       "591 0.0583370 1.048940e-04 4.076135e-05 20         Plasma   \n",
       "592 0.0795643 1.290235e-06 4.447243e-03 20         Plasma   \n",
       "593 0.0237707 6.291264e-09 5.658011e-03 20         Plasma   \n",
       "594 0.0705856 6.683987e-08 6.209241e-15 20         Plasma   \n",
       "595 0.0565032 2.398187e-48 1.905656e-29 20         Plasma   \n",
       "596 0.1834310 5.425996e-18 7.859425e-07 20         Plasma   \n",
       "597 0.1198010 6.458949e-12 1.533940e-15 20         Plasma   \n",
       "598 0.0531843 9.998670e-52 1.097509e-18 20         Plasma   \n",
       "599 0.0185281 2.232710e-06 1.287450e-02 20         Plasma   \n",
       "600 0.1014880 7.268066e-06 7.553484e-01 20         Plasma   \n",
       "601 0.0660152 2.690121e-05 2.247256e-01  5         Plasma   \n",
       "    comb                         qv          \n",
       "1   PTPN22_BimmNaive             5.474196e-05\n",
       "2   FCRL3_BimmNaive              7.095667e-04\n",
       "3   RPS7_BimmNaive               4.775597e-03\n",
       "4   REL_BimmNaive                4.615603e-05\n",
       "5   PSD4_BimmNaive               2.085917e-02\n",
       "6   DAP_BimmNaive                2.478313e-03\n",
       "7   ZFP57_BimmNaive              3.536214e-05\n",
       "8   HLA-A_BimmNaive              1.776231e-08\n",
       "9   XXbac-BPG299F13.17_BimmNaive 9.116390e-12\n",
       "10  HLA-C_BimmNaive              4.142821e-06\n",
       "11  XXbac-BPG181B23.7_BimmNaive  3.953039e-03\n",
       "12  LST1_BimmNaive               1.532799e-09\n",
       "13  HSPA1B_BimmNaive             1.198932e-04\n",
       "14  C6orf48_BimmNaive            2.021072e-04\n",
       "15  SKIV2L_BimmNaive             1.914803e-04\n",
       "16  HCG23_BimmNaive              2.031844e-03\n",
       "17  HLA-DRA_BimmNaive            2.355361e-04\n",
       "18  HLA-DRB5_BimmNaive           5.136263e-64\n",
       "19  HLA-DRB1_BimmNaive           4.760656e-56\n",
       "20  HLA-DQA1_BimmNaive           1.995639e-04\n",
       "21  HLA-DQB1_BimmNaive           4.920563e-11\n",
       "22  HLA-DQA2_BimmNaive           2.614709e-67\n",
       "23  HLA-DQB2_BimmNaive           1.258540e-10\n",
       "24  HLA-DMA_BimmNaive            3.092900e-04\n",
       "25  HLA-DPA1_BimmNaive           4.711712e-03\n",
       "26  HLA-DPB1_BimmNaive           4.243979e-03\n",
       "27  RPS18_BimmNaive              1.793484e-02\n",
       "28  TAPBP_BimmNaive              2.213709e-05\n",
       "29  UQCC2_BimmNaive              3.870199e-04\n",
       "30  CCR6_BimmNaive               8.263553e-04\n",
       "⋮   ⋮                            ⋮           \n",
       "572 RPS26_NKmat                  1.235302e-04\n",
       "573 METTL21B_NKmat               4.214838e-02\n",
       "574 KTN1_NKmat                   1.177485e-02\n",
       "575 TUFM_NKmat                   1.573092e-03\n",
       "576 SPNS1_NKmat                  8.364726e-03\n",
       "577 RP11-345J4.5_NKmat           3.085044e-03\n",
       "578 PNMT_NKmat                   2.541370e-02\n",
       "579 GSDMB_NKmat                  3.774453e-03\n",
       "580 ORMDL3_NKmat                 1.064791e-04\n",
       "581 RP11-973H7.4_NKmat           1.369228e-04\n",
       "582 RP11-973H7.1_NKmat           3.229268e-05\n",
       "583 KRI1_NKmat                   1.754763e-02\n",
       "584 CTD-3162L10.1_NKmat          3.619387e-02\n",
       "585 LINC00665_NKmat              3.209637e-02\n",
       "586 ITPA_NKmat                   4.438276e-02\n",
       "587 TMEM50B_NKmat                1.352997e-03\n",
       "588 UBE2L3_NKmat                 3.093454e-04\n",
       "589 SYNGR1_NKmat                 5.150177e-08\n",
       "590 ELL2_Plasma                  2.934946e-02\n",
       "591 HLA-F_Plasma                 3.925858e-03\n",
       "592 HLA-A_Plasma                 8.960674e-05\n",
       "593 XXbac-BPG299F13.17_Plasma    6.752522e-07\n",
       "594 HLA-C_Plasma                 5.865261e-06\n",
       "595 HLA-DRB5_Plasma              1.483123e-45\n",
       "596 HLA-DQA1_Plasma              1.718736e-15\n",
       "597 HLA-DQB1_Plasma              9.753868e-10\n",
       "598 HLA-DQA2_Plasma              6.834427e-49\n",
       "599 RPS26_Plasma                 1.369228e-04\n",
       "600 TXNDC11_Plasma               3.884419e-04\n",
       "601 CD40_Plasma                  1.222512e-03"
      ]
     },
     "metadata": {},
     "output_type": "display_data"
    }
   ],
   "source": [
    "## SAIGE-QTL SMR gene list\n",
    "saige_df_sign = saige_df[saige_df$qv<0.05,]\n",
    "saige_df_sign"
   ]
  },
  {
   "cell_type": "code",
   "execution_count": 33,
   "id": "98a4b34f",
   "metadata": {},
   "outputs": [],
   "source": [
    "fwrite(saige_df_sign, \"/directflow/SCCGGroupShare/projects/anncuo/OneK1K/saige_eqtl/for_wei/smr/ra_saige_egenes.txt\")"
   ]
  },
  {
   "cell_type": "code",
   "execution_count": null,
   "id": "3e0b95ac",
   "metadata": {},
   "outputs": [],
   "source": []
  }
 ],
 "metadata": {
  "kernelspec": {
   "display_name": "Single Cell Notebook (R 4.1.2)",
   "language": "R",
   "name": "singlecell"
  },
  "language_info": {
   "codemirror_mode": "r",
   "file_extension": ".r",
   "mimetype": "text/x-r-source",
   "name": "R",
   "pygments_lexer": "r",
   "version": "4.1.2"
  }
 },
 "nbformat": 4,
 "nbformat_minor": 5
}
