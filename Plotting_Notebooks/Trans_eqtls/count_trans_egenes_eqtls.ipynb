{
 "cells": [
  {
   "cell_type": "code",
   "execution_count": 1,
   "id": "a2907bbc",
   "metadata": {},
   "outputs": [],
   "source": [
    "library(data.table)"
   ]
  },
  {
   "cell_type": "code",
   "execution_count": 2,
   "id": "25dfc13b",
   "metadata": {},
   "outputs": [],
   "source": [
    "trans_dir = \"/directflow/SCCGGroupShare/projects/anncuo/OneK1K/saige_eqtl/for_wei/trans/\""
   ]
  },
  {
   "cell_type": "code",
   "execution_count": 3,
   "id": "8e2cc0b1",
   "metadata": {},
   "outputs": [],
   "source": [
    "###########################\n",
    "######## p < 5e-6 #########\n",
    "###########################"
   ]
  },
  {
   "cell_type": "code",
   "execution_count": 4,
   "id": "f351c928",
   "metadata": {},
   "outputs": [],
   "source": [
    "# CD4 NC\n",
    "file = paste0(trans_dir,\"CD4_NC_trans_eqtls_p5e_6.txt\")\n",
    "df = as.data.frame(fread(file))\n",
    "df$eqtl = paste0(df$gene,\"-\",df$snp_Chr,\":\",df$snp_Start)\n",
    "# head(df)"
   ]
  },
  {
   "cell_type": "code",
   "execution_count": 5,
   "id": "3b772ac9",
   "metadata": {},
   "outputs": [
    {
     "data": {
      "text/html": [
       "12693"
      ],
      "text/latex": [
       "12693"
      ],
      "text/markdown": [
       "12693"
      ],
      "text/plain": [
       "[1] 12693"
      ]
     },
     "metadata": {},
     "output_type": "display_data"
    },
    {
     "data": {
      "text/html": [
       "47210"
      ],
      "text/latex": [
       "47210"
      ],
      "text/markdown": [
       "47210"
      ],
      "text/plain": [
       "[1] 47210"
      ]
     },
     "metadata": {},
     "output_type": "display_data"
    }
   ],
   "source": [
    "genes_cd4nc = unique(df$gene)\n",
    "eqtls_cd4nc = unique(df$eqtl)\n",
    "n_egenes = length(genes_cd4nc)\n",
    "n_eqtls = length(eqtls_cd4nc)\n",
    "n_egenes\n",
    "n_eqtls"
   ]
  },
  {
   "cell_type": "code",
   "execution_count": 6,
   "id": "1470e3ba",
   "metadata": {},
   "outputs": [],
   "source": [
    "###################################"
   ]
  },
  {
   "cell_type": "code",
   "execution_count": 7,
   "id": "e3be4624",
   "metadata": {},
   "outputs": [],
   "source": [
    "# B IN\n",
    "file = paste0(trans_dir,\"B_IN_trans_eqtls_p5e_6.txt\")\n",
    "df = as.data.frame(fread(file))\n",
    "df$eqtl = paste0(df$gene,\"-\",df$snp_Chr,\":\",df$snp_Start)\n",
    "# head(df)"
   ]
  },
  {
   "cell_type": "code",
   "execution_count": 8,
   "id": "4eb0c35f",
   "metadata": {},
   "outputs": [
    {
     "data": {
      "text/html": [
       "10477"
      ],
      "text/latex": [
       "10477"
      ],
      "text/markdown": [
       "10477"
      ],
      "text/plain": [
       "[1] 10477"
      ]
     },
     "metadata": {},
     "output_type": "display_data"
    },
    {
     "data": {
      "text/html": [
       "33936"
      ],
      "text/latex": [
       "33936"
      ],
      "text/markdown": [
       "33936"
      ],
      "text/plain": [
       "[1] 33936"
      ]
     },
     "metadata": {},
     "output_type": "display_data"
    }
   ],
   "source": [
    "genes_bin = unique(df$gene)\n",
    "eqtls_bin = unique(df$eqtl)\n",
    "n_egenes = length(genes_bin)\n",
    "n_eqtls = length(eqtls_bin)\n",
    "n_egenes\n",
    "n_eqtls"
   ]
  },
  {
   "cell_type": "code",
   "execution_count": 9,
   "id": "fa8abff8",
   "metadata": {},
   "outputs": [],
   "source": [
    "###################################"
   ]
  },
  {
   "cell_type": "code",
   "execution_count": 10,
   "id": "91a3ba80",
   "metadata": {},
   "outputs": [],
   "source": [
    "# Plasma\n",
    "file = paste0(trans_dir,\"Plasma_trans_eqtls_p5e_6.txt\")\n",
    "df = as.data.frame(fread(file))\n",
    "df$eqtl = paste0(df$gene,\"-\",df$snp_Chr,\":\",df$snp_Start)\n",
    "# head(df)"
   ]
  },
  {
   "cell_type": "code",
   "execution_count": 11,
   "id": "e255f53d",
   "metadata": {},
   "outputs": [
    {
     "data": {
      "text/html": [
       "5460"
      ],
      "text/latex": [
       "5460"
      ],
      "text/markdown": [
       "5460"
      ],
      "text/plain": [
       "[1] 5460"
      ]
     },
     "metadata": {},
     "output_type": "display_data"
    },
    {
     "data": {
      "text/html": [
       "13677"
      ],
      "text/latex": [
       "13677"
      ],
      "text/markdown": [
       "13677"
      ],
      "text/plain": [
       "[1] 13677"
      ]
     },
     "metadata": {},
     "output_type": "display_data"
    }
   ],
   "source": [
    "genes_plasma = unique(df$gene)\n",
    "eqtls_plasma = unique(df$eqtl)\n",
    "n_egenes = length(genes_plasma)\n",
    "n_eqtls = length(eqtls_plasma)\n",
    "n_egenes\n",
    "n_eqtls"
   ]
  },
  {
   "cell_type": "code",
   "execution_count": null,
   "id": "c26cc984",
   "metadata": {},
   "outputs": [],
   "source": []
  },
  {
   "cell_type": "code",
   "execution_count": 12,
   "id": "857b0245",
   "metadata": {},
   "outputs": [
    {
     "data": {
      "text/html": [
       "13159"
      ],
      "text/latex": [
       "13159"
      ],
      "text/markdown": [
       "13159"
      ],
      "text/plain": [
       "[1] 13159"
      ]
     },
     "metadata": {},
     "output_type": "display_data"
    },
    {
     "data": {
      "text/html": [
       "94795"
      ],
      "text/latex": [
       "94795"
      ],
      "text/markdown": [
       "94795"
      ],
      "text/plain": [
       "[1] 94795"
      ]
     },
     "metadata": {},
     "output_type": "display_data"
    }
   ],
   "source": [
    "########### across all three cell types\n",
    "\n",
    "# unique trans eGenes\n",
    "length(unique(c(genes_cd4nc, genes_bin, genes_plasma)))\n",
    "\n",
    "# total trans eQTLs\n",
    "length(unique(c(eqtls_cd4nc, eqtls_bin, eqtls_plasma)))"
   ]
  },
  {
   "cell_type": "code",
   "execution_count": null,
   "id": "90b15385",
   "metadata": {},
   "outputs": [],
   "source": []
  },
  {
   "cell_type": "code",
   "execution_count": null,
   "id": "d9567cc7",
   "metadata": {},
   "outputs": [],
   "source": []
  },
  {
   "cell_type": "code",
   "execution_count": 13,
   "id": "5553938a",
   "metadata": {},
   "outputs": [],
   "source": [
    "###########################\n",
    "######## p < 5e-8 #########\n",
    "###########################"
   ]
  },
  {
   "cell_type": "code",
   "execution_count": 14,
   "id": "63ffc396",
   "metadata": {},
   "outputs": [],
   "source": [
    "# CD4 NC\n",
    "file = paste0(trans_dir,\"CD4_NC_trans_eqtls_p5e_8.txt\")\n",
    "df = as.data.frame(fread(file))\n",
    "df$eqtl = paste0(df$gene,\"-\",df$snp_Chr,\":\",df$snp_Start)\n",
    "# head(df)"
   ]
  },
  {
   "cell_type": "code",
   "execution_count": 15,
   "id": "1385f8d7",
   "metadata": {},
   "outputs": [
    {
     "data": {
      "text/html": [
       "211"
      ],
      "text/latex": [
       "211"
      ],
      "text/markdown": [
       "211"
      ],
      "text/plain": [
       "[1] 211"
      ]
     },
     "metadata": {},
     "output_type": "display_data"
    },
    {
     "data": {
      "text/html": [
       "223"
      ],
      "text/latex": [
       "223"
      ],
      "text/markdown": [
       "223"
      ],
      "text/plain": [
       "[1] 223"
      ]
     },
     "metadata": {},
     "output_type": "display_data"
    }
   ],
   "source": [
    "genes_cd4nc = unique(df$gene)\n",
    "eqtls_cd4nc = unique(df$eqtl)\n",
    "n_egenes = length(genes_cd4nc)\n",
    "n_eqtls = length(eqtls_cd4nc)\n",
    "n_egenes\n",
    "n_eqtls"
   ]
  },
  {
   "cell_type": "code",
   "execution_count": 16,
   "id": "bd82c104",
   "metadata": {},
   "outputs": [],
   "source": [
    "###################################"
   ]
  },
  {
   "cell_type": "code",
   "execution_count": 17,
   "id": "d8a8084b",
   "metadata": {},
   "outputs": [],
   "source": [
    "# B IN\n",
    "file = paste0(trans_dir,\"B_IN_trans_eqtls_p5e_8.txt\")\n",
    "df = as.data.frame(fread(file))\n",
    "df$eqtl = paste0(df$gene,\"-\",df$snp_Chr,\":\",df$snp_Start)\n",
    "# head(df)"
   ]
  },
  {
   "cell_type": "code",
   "execution_count": 18,
   "id": "914fa43d",
   "metadata": {},
   "outputs": [
    {
     "data": {
      "text/html": [
       "120"
      ],
      "text/latex": [
       "120"
      ],
      "text/markdown": [
       "120"
      ],
      "text/plain": [
       "[1] 120"
      ]
     },
     "metadata": {},
     "output_type": "display_data"
    },
    {
     "data": {
      "text/html": [
       "124"
      ],
      "text/latex": [
       "124"
      ],
      "text/markdown": [
       "124"
      ],
      "text/plain": [
       "[1] 124"
      ]
     },
     "metadata": {},
     "output_type": "display_data"
    }
   ],
   "source": [
    "genes_bin = unique(df$gene)\n",
    "eqtls_bin = unique(df$eqtl)\n",
    "n_egenes = length(genes_bin)\n",
    "n_eqtls = length(eqtls_bin)\n",
    "n_egenes\n",
    "n_eqtls"
   ]
  },
  {
   "cell_type": "code",
   "execution_count": 19,
   "id": "c54b60c9",
   "metadata": {},
   "outputs": [],
   "source": [
    "###################################"
   ]
  },
  {
   "cell_type": "code",
   "execution_count": 20,
   "id": "5d74a93f",
   "metadata": {},
   "outputs": [],
   "source": [
    "# Plasma\n",
    "file = paste0(trans_dir,\"Plasma_trans_eqtls_p5e_8.txt\")\n",
    "df = as.data.frame(fread(file))\n",
    "df$eqtl = paste0(df$gene,\"-\",df$snp_Chr,\":\",df$snp_Start)\n",
    "# head(df)"
   ]
  },
  {
   "cell_type": "code",
   "execution_count": 21,
   "id": "6da40015",
   "metadata": {},
   "outputs": [
    {
     "data": {
      "text/html": [
       "69"
      ],
      "text/latex": [
       "69"
      ],
      "text/markdown": [
       "69"
      ],
      "text/plain": [
       "[1] 69"
      ]
     },
     "metadata": {},
     "output_type": "display_data"
    },
    {
     "data": {
      "text/html": [
       "69"
      ],
      "text/latex": [
       "69"
      ],
      "text/markdown": [
       "69"
      ],
      "text/plain": [
       "[1] 69"
      ]
     },
     "metadata": {},
     "output_type": "display_data"
    }
   ],
   "source": [
    "genes_plasma = unique(df$gene)\n",
    "eqtls_plasma = unique(df$eqtl)\n",
    "n_egenes = length(genes_plasma)\n",
    "n_eqtls = length(eqtls_plasma)\n",
    "n_egenes\n",
    "n_eqtls"
   ]
  },
  {
   "cell_type": "code",
   "execution_count": 22,
   "id": "dfb63087",
   "metadata": {},
   "outputs": [
    {
     "data": {
      "text/html": [
       "390"
      ],
      "text/latex": [
       "390"
      ],
      "text/markdown": [
       "390"
      ],
      "text/plain": [
       "[1] 390"
      ]
     },
     "metadata": {},
     "output_type": "display_data"
    },
    {
     "data": {
      "text/html": [
       "413"
      ],
      "text/latex": [
       "413"
      ],
      "text/markdown": [
       "413"
      ],
      "text/plain": [
       "[1] 413"
      ]
     },
     "metadata": {},
     "output_type": "display_data"
    }
   ],
   "source": [
    "########### across all three cell types\n",
    "\n",
    "# unique trans eGenes\n",
    "length(unique(c(genes_cd4nc, genes_bin, genes_plasma)))\n",
    "\n",
    "# total trans eQTLs\n",
    "length(unique(c(eqtls_cd4nc, eqtls_bin, eqtls_plasma)))"
   ]
  },
  {
   "cell_type": "code",
   "execution_count": null,
   "id": "aabc5a22",
   "metadata": {},
   "outputs": [],
   "source": []
  },
  {
   "cell_type": "code",
   "execution_count": null,
   "id": "1fdd82d8",
   "metadata": {},
   "outputs": [],
   "source": []
  },
  {
   "cell_type": "code",
   "execution_count": null,
   "id": "5ad9b138",
   "metadata": {},
   "outputs": [],
   "source": []
  }
 ],
 "metadata": {
  "kernelspec": {
   "display_name": "Single Cell Notebook (R 4.1.2)",
   "language": "R",
   "name": "singlecell"
  },
  "language_info": {
   "codemirror_mode": "r",
   "file_extension": ".r",
   "mimetype": "text/x-r-source",
   "name": "R",
   "pygments_lexer": "r",
   "version": "4.1.2"
  }
 },
 "nbformat": 4,
 "nbformat_minor": 5
}
