{
 "cells": [
  {
   "cell_type": "code",
   "execution_count": 32,
   "id": "a2907bbc",
   "metadata": {},
   "outputs": [],
   "source": [
    "library(data.table)"
   ]
  },
  {
   "cell_type": "code",
   "execution_count": 33,
   "id": "0ebe1a33",
   "metadata": {},
   "outputs": [],
   "source": [
    "trans_dir = \"/directflow/SCCGGroupShare/projects/anncuo/OneK1K/saige_eqtl/for_wei/trans/\""
   ]
  },
  {
   "cell_type": "code",
   "execution_count": 34,
   "id": "96b6c193",
   "metadata": {},
   "outputs": [],
   "source": [
    "###########################\n",
    "######## p < 5e-6 #########\n",
    "###########################"
   ]
  },
  {
   "cell_type": "code",
   "execution_count": 35,
   "id": "f351c928",
   "metadata": {},
   "outputs": [],
   "source": [
    "# CD4 NC\n",
    "file = paste0(trans_dir,\"CD4_NC_trans_eqtls_p5e_6.txt\")\n",
    "df = as.data.frame(fread(file))\n",
    "df$eqtl = paste0(df$gene,\"-\",df$snp_Chr,\":\",df$snp_Start)\n",
    "# head(df)"
   ]
  },
  {
   "cell_type": "code",
   "execution_count": 36,
   "id": "3b772ac9",
   "metadata": {},
   "outputs": [
    {
     "data": {
      "text/html": [
       "12697"
      ],
      "text/latex": [
       "12697"
      ],
      "text/markdown": [
       "12697"
      ],
      "text/plain": [
       "[1] 12697"
      ]
     },
     "metadata": {},
     "output_type": "display_data"
    },
    {
     "data": {
      "text/html": [
       "47660"
      ],
      "text/latex": [
       "47660"
      ],
      "text/markdown": [
       "47660"
      ],
      "text/plain": [
       "[1] 47660"
      ]
     },
     "metadata": {},
     "output_type": "display_data"
    }
   ],
   "source": [
    "genes_cd4nc = unique(df$gene)\n",
    "eqtls_cd4nc = unique(df$eqtl)\n",
    "n_egenes = length(genes_cd4nc)\n",
    "n_eqtls = length(eqtls_cd4nc)\n",
    "n_egenes\n",
    "n_eqtls"
   ]
  },
  {
   "cell_type": "code",
   "execution_count": 37,
   "id": "1470e3ba",
   "metadata": {},
   "outputs": [],
   "source": [
    "###################################"
   ]
  },
  {
   "cell_type": "code",
   "execution_count": 38,
   "id": "e3be4624",
   "metadata": {},
   "outputs": [],
   "source": [
    "# B IN\n",
    "file = paste0(trans_dir,\"B_IN_trans_eqtls_p5e_6.txt\")\n",
    "df = as.data.frame(fread(file))\n",
    "df$eqtl = paste0(df$gene,\"-\",df$snp_Chr,\":\",df$snp_Start)\n",
    "# head(df)"
   ]
  },
  {
   "cell_type": "code",
   "execution_count": 39,
   "id": "4eb0c35f",
   "metadata": {},
   "outputs": [
    {
     "data": {
      "text/html": [
       "10477"
      ],
      "text/latex": [
       "10477"
      ],
      "text/markdown": [
       "10477"
      ],
      "text/plain": [
       "[1] 10477"
      ]
     },
     "metadata": {},
     "output_type": "display_data"
    },
    {
     "data": {
      "text/html": [
       "33936"
      ],
      "text/latex": [
       "33936"
      ],
      "text/markdown": [
       "33936"
      ],
      "text/plain": [
       "[1] 33936"
      ]
     },
     "metadata": {},
     "output_type": "display_data"
    }
   ],
   "source": [
    "genes_bin = unique(df$gene)\n",
    "eqtls_bin = unique(df$eqtl)\n",
    "n_egenes = length(genes_bin)\n",
    "n_eqtls = length(eqtls_bin)\n",
    "n_egenes\n",
    "n_eqtls"
   ]
  },
  {
   "cell_type": "code",
   "execution_count": 40,
   "id": "fa8abff8",
   "metadata": {},
   "outputs": [],
   "source": [
    "###################################"
   ]
  },
  {
   "cell_type": "code",
   "execution_count": 41,
   "id": "91a3ba80",
   "metadata": {},
   "outputs": [],
   "source": [
    "# Plasma\n",
    "file = paste0(trans_dir,\"Plasma_trans_eqtls_p5e_6.txt\")\n",
    "df = as.data.frame(fread(file))\n",
    "df$eqtl = paste0(df$gene,\"-\",df$snp_Chr,\":\",df$snp_Start)\n",
    "# head(df)"
   ]
  },
  {
   "cell_type": "code",
   "execution_count": 42,
   "id": "e255f53d",
   "metadata": {},
   "outputs": [
    {
     "data": {
      "text/html": [
       "5462"
      ],
      "text/latex": [
       "5462"
      ],
      "text/markdown": [
       "5462"
      ],
      "text/plain": [
       "[1] 5462"
      ]
     },
     "metadata": {},
     "output_type": "display_data"
    },
    {
     "data": {
      "text/html": [
       "15892"
      ],
      "text/latex": [
       "15892"
      ],
      "text/markdown": [
       "15892"
      ],
      "text/plain": [
       "[1] 15892"
      ]
     },
     "metadata": {},
     "output_type": "display_data"
    }
   ],
   "source": [
    "genes_plasma = unique(df$gene)\n",
    "eqtls_plasma = unique(df$eqtl)\n",
    "n_egenes = length(genes_plasma)\n",
    "n_eqtls = length(eqtls_plasma)\n",
    "n_egenes\n",
    "n_eqtls"
   ]
  },
  {
   "cell_type": "code",
   "execution_count": null,
   "id": "d4e01aeb",
   "metadata": {},
   "outputs": [],
   "source": []
  },
  {
   "cell_type": "code",
   "execution_count": 43,
   "id": "857b0245",
   "metadata": {},
   "outputs": [
    {
     "data": {
      "text/html": [
       "13161"
      ],
      "text/latex": [
       "13161"
      ],
      "text/markdown": [
       "13161"
      ],
      "text/plain": [
       "[1] 13161"
      ]
     },
     "metadata": {},
     "output_type": "display_data"
    },
    {
     "data": {
      "text/html": [
       "97460"
      ],
      "text/latex": [
       "97460"
      ],
      "text/markdown": [
       "97460"
      ],
      "text/plain": [
       "[1] 97460"
      ]
     },
     "metadata": {},
     "output_type": "display_data"
    }
   ],
   "source": [
    "########### across all three cell types\n",
    "\n",
    "# unique trans eGenes\n",
    "length(unique(c(genes_cd4nc, genes_bin, genes_plasma)))\n",
    "\n",
    "# total trans eQTLs\n",
    "length(unique(c(eqtls_cd4nc, eqtls_bin, eqtls_plasma)))"
   ]
  },
  {
   "cell_type": "code",
   "execution_count": null,
   "id": "90b15385",
   "metadata": {},
   "outputs": [],
   "source": []
  },
  {
   "cell_type": "code",
   "execution_count": null,
   "id": "280cbec4",
   "metadata": {},
   "outputs": [],
   "source": []
  },
  {
   "cell_type": "code",
   "execution_count": 44,
   "id": "d597ef5c",
   "metadata": {},
   "outputs": [],
   "source": [
    "###########################\n",
    "######## p < 5e-8 #########\n",
    "###########################"
   ]
  },
  {
   "cell_type": "code",
   "execution_count": 45,
   "id": "3645102a",
   "metadata": {},
   "outputs": [],
   "source": [
    "# CD4 NC\n",
    "file = paste0(trans_dir,\"CD4_NC_trans_eqtls_p5e_8.txt\")\n",
    "df = as.data.frame(fread(file))\n",
    "df$eqtl = paste0(df$gene,\"-\",df$snp_Chr,\":\",df$snp_Start)\n",
    "# head(df)"
   ]
  },
  {
   "cell_type": "code",
   "execution_count": 46,
   "id": "911835dc",
   "metadata": {},
   "outputs": [
    {
     "data": {
      "text/html": [
       "215"
      ],
      "text/latex": [
       "215"
      ],
      "text/markdown": [
       "215"
      ],
      "text/plain": [
       "[1] 215"
      ]
     },
     "metadata": {},
     "output_type": "display_data"
    },
    {
     "data": {
      "text/html": [
       "238"
      ],
      "text/latex": [
       "238"
      ],
      "text/markdown": [
       "238"
      ],
      "text/plain": [
       "[1] 238"
      ]
     },
     "metadata": {},
     "output_type": "display_data"
    }
   ],
   "source": [
    "genes_cd4nc = unique(df$gene)\n",
    "eqtls_cd4nc = unique(df$eqtl)\n",
    "n_egenes = length(genes_cd4nc)\n",
    "n_eqtls = length(eqtls_cd4nc)\n",
    "n_egenes\n",
    "n_eqtls"
   ]
  },
  {
   "cell_type": "code",
   "execution_count": 47,
   "id": "b0ca8d45",
   "metadata": {},
   "outputs": [],
   "source": [
    "###################################"
   ]
  },
  {
   "cell_type": "code",
   "execution_count": 48,
   "id": "02efbdf1",
   "metadata": {},
   "outputs": [],
   "source": [
    "# B IN\n",
    "file = paste0(trans_dir,\"B_IN_trans_eqtls_p5e_8.txt\")\n",
    "df = as.data.frame(fread(file))\n",
    "df$eqtl = paste0(df$gene,\"-\",df$snp_Chr,\":\",df$snp_Start)\n",
    "# head(df)"
   ]
  },
  {
   "cell_type": "code",
   "execution_count": 49,
   "id": "332ebcc6",
   "metadata": {},
   "outputs": [
    {
     "data": {
      "text/html": [
       "120"
      ],
      "text/latex": [
       "120"
      ],
      "text/markdown": [
       "120"
      ],
      "text/plain": [
       "[1] 120"
      ]
     },
     "metadata": {},
     "output_type": "display_data"
    },
    {
     "data": {
      "text/html": [
       "124"
      ],
      "text/latex": [
       "124"
      ],
      "text/markdown": [
       "124"
      ],
      "text/plain": [
       "[1] 124"
      ]
     },
     "metadata": {},
     "output_type": "display_data"
    }
   ],
   "source": [
    "genes_bin = unique(df$gene)\n",
    "eqtls_bin = unique(df$eqtl)\n",
    "n_egenes = length(genes_bin)\n",
    "n_eqtls = length(eqtls_bin)\n",
    "n_egenes\n",
    "n_eqtls"
   ]
  },
  {
   "cell_type": "code",
   "execution_count": 50,
   "id": "3778716c",
   "metadata": {},
   "outputs": [],
   "source": [
    "###################################"
   ]
  },
  {
   "cell_type": "code",
   "execution_count": 51,
   "id": "321f194d",
   "metadata": {},
   "outputs": [],
   "source": [
    "# Plasma\n",
    "file = paste0(trans_dir,\"Plasma_trans_eqtls_p5e_8.txt\")\n",
    "df = as.data.frame(fread(file))\n",
    "df$eqtl = paste0(df$gene,\"-\",df$snp_Chr,\":\",df$snp_Start)\n",
    "# head(df)"
   ]
  },
  {
   "cell_type": "code",
   "execution_count": 52,
   "id": "97cafc61",
   "metadata": {},
   "outputs": [
    {
     "data": {
      "text/html": [
       "71"
      ],
      "text/latex": [
       "71"
      ],
      "text/markdown": [
       "71"
      ],
      "text/plain": [
       "[1] 71"
      ]
     },
     "metadata": {},
     "output_type": "display_data"
    },
    {
     "data": {
      "text/html": [
       "373"
      ],
      "text/latex": [
       "373"
      ],
      "text/markdown": [
       "373"
      ],
      "text/plain": [
       "[1] 373"
      ]
     },
     "metadata": {},
     "output_type": "display_data"
    }
   ],
   "source": [
    "genes_plasma = unique(df$gene)\n",
    "eqtls_plasma = unique(df$eqtl)\n",
    "n_egenes = length(genes_plasma)\n",
    "n_eqtls = length(eqtls_plasma)\n",
    "n_egenes\n",
    "n_eqtls"
   ]
  },
  {
   "cell_type": "code",
   "execution_count": 53,
   "id": "1c6d92ae",
   "metadata": {},
   "outputs": [
    {
     "data": {
      "text/html": [
       "396"
      ],
      "text/latex": [
       "396"
      ],
      "text/markdown": [
       "396"
      ],
      "text/plain": [
       "[1] 396"
      ]
     },
     "metadata": {},
     "output_type": "display_data"
    },
    {
     "data": {
      "text/html": [
       "732"
      ],
      "text/latex": [
       "732"
      ],
      "text/markdown": [
       "732"
      ],
      "text/plain": [
       "[1] 732"
      ]
     },
     "metadata": {},
     "output_type": "display_data"
    }
   ],
   "source": [
    "########### across all three cell types\n",
    "\n",
    "# unique trans eGenes\n",
    "length(unique(c(genes_cd4nc, genes_bin, genes_plasma)))\n",
    "\n",
    "# total trans eQTLs\n",
    "length(unique(c(eqtls_cd4nc, eqtls_bin, eqtls_plasma)))"
   ]
  },
  {
   "cell_type": "code",
   "execution_count": null,
   "id": "f9313385",
   "metadata": {},
   "outputs": [],
   "source": []
  }
 ],
 "metadata": {
  "kernelspec": {
   "display_name": "Single Cell Notebook (R 4.1.2)",
   "language": "R",
   "name": "singlecell"
  },
  "language_info": {
   "codemirror_mode": "r",
   "file_extension": ".r",
   "mimetype": "text/x-r-source",
   "name": "R",
   "pygments_lexer": "r",
   "version": "4.1.2"
  }
 },
 "nbformat": 4,
 "nbformat_minor": 5
}
