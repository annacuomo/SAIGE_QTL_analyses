{
 "cells": [
  {
   "cell_type": "code",
   "execution_count": 6,
   "id": "0f69fb85",
   "metadata": {},
   "outputs": [],
   "source": [
    "library(data.table)"
   ]
  },
  {
   "cell_type": "code",
   "execution_count": 9,
   "id": "37d69461",
   "metadata": {},
   "outputs": [
    {
     "data": {
      "text/html": [
       "10527"
      ],
      "text/latex": [
       "10527"
      ],
      "text/markdown": [
       "10527"
      ],
      "text/plain": [
       "[1] 10527"
      ]
     },
     "metadata": {},
     "output_type": "display_data"
    },
    {
     "data": {
      "text/html": [
       "<style>\n",
       ".list-inline {list-style: none; margin:0; padding: 0}\n",
       ".list-inline>li {display: inline-block}\n",
       ".list-inline>li:not(:last-child)::after {content: \"\\00b7\"; padding: 0 .5ex}\n",
       "</style>\n",
       "<ol class=list-inline><li>'A1BG_B_IN_count_gw_allchr.txt_result.tophits.annovar.txt.hg19_multianno.txt'</li><li>'AAAS_B_IN_count_gw_allchr.txt_result.tophits.annovar.txt.hg19_multianno.txt'</li></ol>\n"
      ],
      "text/latex": [
       "\\begin{enumerate*}\n",
       "\\item 'A1BG\\_B\\_IN\\_count\\_gw\\_allchr.txt\\_result.tophits.annovar.txt.hg19\\_multianno.txt'\n",
       "\\item 'AAAS\\_B\\_IN\\_count\\_gw\\_allchr.txt\\_result.tophits.annovar.txt.hg19\\_multianno.txt'\n",
       "\\end{enumerate*}\n"
      ],
      "text/markdown": [
       "1. 'A1BG_B_IN_count_gw_allchr.txt_result.tophits.annovar.txt.hg19_multianno.txt'\n",
       "2. 'AAAS_B_IN_count_gw_allchr.txt_result.tophits.annovar.txt.hg19_multianno.txt'\n",
       "\n",
       "\n"
      ],
      "text/plain": [
       "[1] \"A1BG_B_IN_count_gw_allchr.txt_result.tophits.annovar.txt.hg19_multianno.txt\"\n",
       "[2] \"AAAS_B_IN_count_gw_allchr.txt_result.tophits.annovar.txt.hg19_multianno.txt\""
      ]
     },
     "metadata": {},
     "output_type": "display_data"
    }
   ],
   "source": [
    "trans_dir = \"/directflow/SCCGGroupShare/projects/anncuo/OneK1K/saige_eqtl/from_wei/trans_CD4_NC_tophits_multianno/\"\n",
    "# trans_dir = \"/directflow/SCCGGroupShare/projects/anncuo/OneK1K/saige_eqtl/from_wei/trans_B_IN_tophits_multianno/\"\n",
    "# trans_dir = \"/directflow/SCCGGroupShare/projects/anncuo/OneK1K/saige_eqtl/from_wei/trans_Plasma_tophits_multianno/\"\n",
    "\n",
    "trans_files = list.files(trans_dir, pattern = \"gw_allchr.txt\")\n",
    "length(trans_files)\n",
    "head(trans_files,2)"
   ]
  },
  {
   "cell_type": "code",
   "execution_count": 18,
   "id": "013a32c5",
   "metadata": {},
   "outputs": [],
   "source": [
    "# Manual pruning of \"independent\" SNPs based on distance\n",
    "\n",
    "dist = 500000\n",
    "for (myfile in trans_files){\n",
    "    df = as.data.frame(fread(paste0(trans_dir,myfile)))\n",
    "    df = unique(df)\n",
    "    colnames(df)[(ncol(df)-2):ncol(df)] <- c(\"p.value\",\"neg.log10.p.value\",\"cis.trans\")\n",
    "    # filter by p-value\n",
    "    df = df[df$p.value < 5e-8,]\n",
    "    if (nrow(df)==0){next}\n",
    "    df_list = list()\n",
    "    to_include_snps = c()\n",
    "    for (chrom in unique(df$Chr)){\n",
    "        snps = df[df$Chr==chrom,\"Start\"]\n",
    "        if (length(snps)==1){chrom_snps = snps}\n",
    "        else {\n",
    "            chrom_snps = snps[1]\n",
    "            for (i in 2:length(snps)){\n",
    "                snp = snps[i]\n",
    "                mydist = snp-chrom_snps[length(chrom_snps)]\n",
    "                if (mydist>dist){chrom_snps = c(chrom_snps, snp)}\n",
    "            }\n",
    "        }\n",
    "        to_include_snps = c(to_include_snps,chrom_snps)\n",
    "        df_list[[chrom]] = df[df$Chr==chrom & df$Start %in% to_include_snps, ]\n",
    "    }\n",
    "    df_new = rbindlist(df_list)\n",
    "    out_file = paste0(trans_dir,\"merged_p5e_8/\",myfile,\".merged.txt\")\n",
    "    fwrite(df_new, out_file)\n",
    "}"
   ]
  },
  {
   "cell_type": "code",
   "execution_count": null,
   "id": "6b823ec4",
   "metadata": {},
   "outputs": [],
   "source": []
  }
 ],
 "metadata": {
  "kernelspec": {
   "display_name": "Single Cell Notebook (R 4.1.2)",
   "language": "R",
   "name": "singlecell"
  },
  "language_info": {
   "codemirror_mode": "r",
   "file_extension": ".r",
   "mimetype": "text/x-r-source",
   "name": "R",
   "pygments_lexer": "r",
   "version": "4.1.2"
  }
 },
 "nbformat": 4,
 "nbformat_minor": 5
}
