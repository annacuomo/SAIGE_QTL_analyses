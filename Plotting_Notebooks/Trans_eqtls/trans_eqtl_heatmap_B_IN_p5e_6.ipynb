{
 "cells": [
  {
   "cell_type": "code",
   "execution_count": 2,
   "id": "07603596",
   "metadata": {},
   "outputs": [],
   "source": [
    "library(circlize)\n",
    "library(ComplexHeatmap)\n",
    "library(data.table)"
   ]
  },
  {
   "cell_type": "code",
   "execution_count": 3,
   "id": "c2e45f7d",
   "metadata": {},
   "outputs": [
    {
     "data": {
      "text/html": [
       "<style>\n",
       ".list-inline {list-style: none; margin:0; padding: 0}\n",
       ".list-inline>li {display: inline-block}\n",
       ".list-inline>li:not(:last-child)::after {content: \"\\00b7\"; padding: 0 .5ex}\n",
       "</style>\n",
       "<ol class=list-inline><li>'/directflow/SCCGGroupShare/projects/anncuo/OneK1K/saige_eqtl/from_wei/trans_B_IN_tophits_multianno/A1BG_B_IN_count_gw_allchr.txt_result.tophits.annovar.txt.hg19_multianno.txt'</li><li>'/directflow/SCCGGroupShare/projects/anncuo/OneK1K/saige_eqtl/from_wei/trans_B_IN_tophits_multianno/AAAS_B_IN_count_gw_allchr.txt_result.tophits.annovar.txt.hg19_multianno.txt'</li></ol>\n"
      ],
      "text/latex": [
       "\\begin{enumerate*}\n",
       "\\item '/directflow/SCCGGroupShare/projects/anncuo/OneK1K/saige\\_eqtl/from\\_wei/trans\\_B\\_IN\\_tophits\\_multianno/A1BG\\_B\\_IN\\_count\\_gw\\_allchr.txt\\_result.tophits.annovar.txt.hg19\\_multianno.txt'\n",
       "\\item '/directflow/SCCGGroupShare/projects/anncuo/OneK1K/saige\\_eqtl/from\\_wei/trans\\_B\\_IN\\_tophits\\_multianno/AAAS\\_B\\_IN\\_count\\_gw\\_allchr.txt\\_result.tophits.annovar.txt.hg19\\_multianno.txt'\n",
       "\\end{enumerate*}\n"
      ],
      "text/markdown": [
       "1. '/directflow/SCCGGroupShare/projects/anncuo/OneK1K/saige_eqtl/from_wei/trans_B_IN_tophits_multianno/A1BG_B_IN_count_gw_allchr.txt_result.tophits.annovar.txt.hg19_multianno.txt'\n",
       "2. '/directflow/SCCGGroupShare/projects/anncuo/OneK1K/saige_eqtl/from_wei/trans_B_IN_tophits_multianno/AAAS_B_IN_count_gw_allchr.txt_result.tophits.annovar.txt.hg19_multianno.txt'\n",
       "\n",
       "\n"
      ],
      "text/plain": [
       "[1] \"/directflow/SCCGGroupShare/projects/anncuo/OneK1K/saige_eqtl/from_wei/trans_B_IN_tophits_multianno/A1BG_B_IN_count_gw_allchr.txt_result.tophits.annovar.txt.hg19_multianno.txt\"\n",
       "[2] \"/directflow/SCCGGroupShare/projects/anncuo/OneK1K/saige_eqtl/from_wei/trans_B_IN_tophits_multianno/AAAS_B_IN_count_gw_allchr.txt_result.tophits.annovar.txt.hg19_multianno.txt\""
      ]
     },
     "metadata": {},
     "output_type": "display_data"
    }
   ],
   "source": [
    "trans_dir = \"/directflow/SCCGGroupShare/projects/anncuo/OneK1K/saige_eqtl/from_wei/trans_B_IN_tophits_multianno/\"\n",
    "trans_files = paste0(trans_dir,list.files(trans_dir))\n",
    "head(trans_files,2)"
   ]
  },
  {
   "cell_type": "code",
   "execution_count": null,
   "id": "fe926518",
   "metadata": {},
   "outputs": [],
   "source": []
  },
  {
   "cell_type": "code",
   "execution_count": 4,
   "id": "4c532887",
   "metadata": {},
   "outputs": [
    {
     "data": {
      "text/html": [
       "<table class=\"dataframe\">\n",
       "<caption>A data.table: 6 × 6</caption>\n",
       "<thead>\n",
       "\t<tr><th scope=col>gene_name</th><th scope=col>gene_id</th><th scope=col>seqid</th><th scope=col>start</th><th scope=col>end</th><th scope=col>strand</th></tr>\n",
       "\t<tr><th scope=col>&lt;chr&gt;</th><th scope=col>&lt;chr&gt;</th><th scope=col>&lt;chr&gt;</th><th scope=col>&lt;int&gt;</th><th scope=col>&lt;int&gt;</th><th scope=col>&lt;chr&gt;</th></tr>\n",
       "</thead>\n",
       "<tbody>\n",
       "\t<tr><td>AL627309.1</td><td>ENSG00000237683</td><td>1</td><td> 134901</td><td> 139379</td><td>-</td></tr>\n",
       "\t<tr><td>AL669831.1</td><td>ENSG00000269831</td><td>1</td><td> 738532</td><td> 739137</td><td>-</td></tr>\n",
       "\t<tr><td>AL645608.2</td><td>ENSG00000269308</td><td>1</td><td> 818043</td><td> 819983</td><td>+</td></tr>\n",
       "\t<tr><td>AL645608.1</td><td>ENSG00000268179</td><td>1</td><td> 861264</td><td> 866445</td><td>-</td></tr>\n",
       "\t<tr><td>AL645728.1</td><td>ENSG00000215014</td><td>1</td><td>1510355</td><td>1511373</td><td>+</td></tr>\n",
       "\t<tr><td>AL590822.2</td><td>ENSG00000269554</td><td>1</td><td>2121237</td><td>2123179</td><td>+</td></tr>\n",
       "</tbody>\n",
       "</table>\n"
      ],
      "text/latex": [
       "A data.table: 6 × 6\n",
       "\\begin{tabular}{llllll}\n",
       " gene\\_name & gene\\_id & seqid & start & end & strand\\\\\n",
       " <chr> & <chr> & <chr> & <int> & <int> & <chr>\\\\\n",
       "\\hline\n",
       "\t AL627309.1 & ENSG00000237683 & 1 &  134901 &  139379 & -\\\\\n",
       "\t AL669831.1 & ENSG00000269831 & 1 &  738532 &  739137 & -\\\\\n",
       "\t AL645608.2 & ENSG00000269308 & 1 &  818043 &  819983 & +\\\\\n",
       "\t AL645608.1 & ENSG00000268179 & 1 &  861264 &  866445 & -\\\\\n",
       "\t AL645728.1 & ENSG00000215014 & 1 & 1510355 & 1511373 & +\\\\\n",
       "\t AL590822.2 & ENSG00000269554 & 1 & 2121237 & 2123179 & +\\\\\n",
       "\\end{tabular}\n"
      ],
      "text/markdown": [
       "\n",
       "A data.table: 6 × 6\n",
       "\n",
       "| gene_name &lt;chr&gt; | gene_id &lt;chr&gt; | seqid &lt;chr&gt; | start &lt;int&gt; | end &lt;int&gt; | strand &lt;chr&gt; |\n",
       "|---|---|---|---|---|---|\n",
       "| AL627309.1 | ENSG00000237683 | 1 |  134901 |  139379 | - |\n",
       "| AL669831.1 | ENSG00000269831 | 1 |  738532 |  739137 | - |\n",
       "| AL645608.2 | ENSG00000269308 | 1 |  818043 |  819983 | + |\n",
       "| AL645608.1 | ENSG00000268179 | 1 |  861264 |  866445 | - |\n",
       "| AL645728.1 | ENSG00000215014 | 1 | 1510355 | 1511373 | + |\n",
       "| AL590822.2 | ENSG00000269554 | 1 | 2121237 | 2123179 | + |\n",
       "\n"
      ],
      "text/plain": [
       "  gene_name  gene_id         seqid start   end     strand\n",
       "1 AL627309.1 ENSG00000237683 1      134901  139379 -     \n",
       "2 AL669831.1 ENSG00000269831 1      738532  739137 -     \n",
       "3 AL645608.2 ENSG00000269308 1      818043  819983 +     \n",
       "4 AL645608.1 ENSG00000268179 1      861264  866445 -     \n",
       "5 AL645728.1 ENSG00000215014 1     1510355 1511373 +     \n",
       "6 AL590822.2 ENSG00000269554 1     2121237 2123179 +     "
      ]
     },
     "metadata": {},
     "output_type": "display_data"
    }
   ],
   "source": [
    "gene_locs_file = \"/directflow/SCCGGroupShare/projects/anncuo/OneK1K/GeneLocations.tsv\"\n",
    "gene_loc = fread(gene_locs_file)\n",
    "head(gene_loc)"
   ]
  },
  {
   "cell_type": "code",
   "execution_count": 5,
   "id": "ecef5ccb",
   "metadata": {},
   "outputs": [
    {
     "data": {
      "text/html": [
       "10527"
      ],
      "text/latex": [
       "10527"
      ],
      "text/markdown": [
       "10527"
      ],
      "text/plain": [
       "[1] 10527"
      ]
     },
     "metadata": {},
     "output_type": "display_data"
    },
    {
     "data": {
      "text/html": [
       "<style>\n",
       ".list-inline {list-style: none; margin:0; padding: 0}\n",
       ".list-inline>li {display: inline-block}\n",
       ".list-inline>li:not(:last-child)::after {content: \"\\00b7\"; padding: 0 .5ex}\n",
       "</style>\n",
       "<ol class=list-inline><li>'A1BG_B_IN_count_gw_allchr.txt_result.tophits.annovar.txt.hg19_multianno.txt.merged.txt'</li><li>'AAAS_B_IN_count_gw_allchr.txt_result.tophits.annovar.txt.hg19_multianno.txt.merged.txt'</li></ol>\n"
      ],
      "text/latex": [
       "\\begin{enumerate*}\n",
       "\\item 'A1BG\\_B\\_IN\\_count\\_gw\\_allchr.txt\\_result.tophits.annovar.txt.hg19\\_multianno.txt.merged.txt'\n",
       "\\item 'AAAS\\_B\\_IN\\_count\\_gw\\_allchr.txt\\_result.tophits.annovar.txt.hg19\\_multianno.txt.merged.txt'\n",
       "\\end{enumerate*}\n"
      ],
      "text/markdown": [
       "1. 'A1BG_B_IN_count_gw_allchr.txt_result.tophits.annovar.txt.hg19_multianno.txt.merged.txt'\n",
       "2. 'AAAS_B_IN_count_gw_allchr.txt_result.tophits.annovar.txt.hg19_multianno.txt.merged.txt'\n",
       "\n",
       "\n"
      ],
      "text/plain": [
       "[1] \"A1BG_B_IN_count_gw_allchr.txt_result.tophits.annovar.txt.hg19_multianno.txt.merged.txt\"\n",
       "[2] \"AAAS_B_IN_count_gw_allchr.txt_result.tophits.annovar.txt.hg19_multianno.txt.merged.txt\""
      ]
     },
     "metadata": {},
     "output_type": "display_data"
    }
   ],
   "source": [
    "gene_files = list.files(paste0(trans_dir,\"merged_p5e_6/\"), pattern=\".merged.txt\")\n",
    "length(gene_files)\n",
    "head(gene_files,2)"
   ]
  },
  {
   "cell_type": "code",
   "execution_count": 6,
   "id": "dab1c175",
   "metadata": {},
   "outputs": [
    {
     "data": {
      "text/html": [
       "10527"
      ],
      "text/latex": [
       "10527"
      ],
      "text/markdown": [
       "10527"
      ],
      "text/plain": [
       "[1] 10527"
      ]
     },
     "metadata": {},
     "output_type": "display_data"
    },
    {
     "data": {
      "text/html": [
       "<style>\n",
       ".list-inline {list-style: none; margin:0; padding: 0}\n",
       ".list-inline>li {display: inline-block}\n",
       ".list-inline>li:not(:last-child)::after {content: \"\\00b7\"; padding: 0 .5ex}\n",
       "</style>\n",
       "<ol class=list-inline><li>'A1BG'</li><li>'AAAS'</li><li>'AACS'</li><li>'AAGAB'</li><li>'AAK1'</li><li>'AAMDC'</li></ol>\n"
      ],
      "text/latex": [
       "\\begin{enumerate*}\n",
       "\\item 'A1BG'\n",
       "\\item 'AAAS'\n",
       "\\item 'AACS'\n",
       "\\item 'AAGAB'\n",
       "\\item 'AAK1'\n",
       "\\item 'AAMDC'\n",
       "\\end{enumerate*}\n"
      ],
      "text/markdown": [
       "1. 'A1BG'\n",
       "2. 'AAAS'\n",
       "3. 'AACS'\n",
       "4. 'AAGAB'\n",
       "5. 'AAK1'\n",
       "6. 'AAMDC'\n",
       "\n",
       "\n"
      ],
      "text/plain": [
       "[1] \"A1BG\"  \"AAAS\"  \"AACS\"  \"AAGAB\" \"AAK1\"  \"AAMDC\""
      ]
     },
     "metadata": {},
     "output_type": "display_data"
    }
   ],
   "source": [
    "genes = gsub(\"_B_IN_count_gw_allchr.txt_result.tophits.annovar.txt.hg19_multianno.txt.merged.txt\", \"\", gene_files)\n",
    "length(genes)\n",
    "head(genes)"
   ]
  },
  {
   "cell_type": "code",
   "execution_count": 7,
   "id": "9204ed42",
   "metadata": {},
   "outputs": [
    {
     "data": {
      "text/html": [
       "<table class=\"dataframe\">\n",
       "<caption>A data.frame: 2 × 6</caption>\n",
       "<thead>\n",
       "\t<tr><th></th><th scope=col>gene</th><th scope=col>pcl0.7</th><th scope=col>pcl0.5</th><th scope=col>pcl0.1</th><th scope=col>pcl0.01</th><th scope=col>pcl0.001</th></tr>\n",
       "\t<tr><th></th><th scope=col>&lt;chr&gt;</th><th scope=col>&lt;dbl&gt;</th><th scope=col>&lt;dbl&gt;</th><th scope=col>&lt;dbl&gt;</th><th scope=col>&lt;dbl&gt;</th><th scope=col>&lt;dbl&gt;</th></tr>\n",
       "</thead>\n",
       "<tbody>\n",
       "\t<tr><th scope=row>1</th><td>A1BG</td><td>0.967</td><td>0.967</td><td>0.957</td><td>0.941</td><td>0.959</td></tr>\n",
       "\t<tr><th scope=row>2</th><td>AAAS</td><td>0.942</td><td>0.946</td><td>0.942</td><td>0.944</td><td>0.925</td></tr>\n",
       "</tbody>\n",
       "</table>\n"
      ],
      "text/latex": [
       "A data.frame: 2 × 6\n",
       "\\begin{tabular}{r|llllll}\n",
       "  & gene & pcl0.7 & pcl0.5 & pcl0.1 & pcl0.01 & pcl0.001\\\\\n",
       "  & <chr> & <dbl> & <dbl> & <dbl> & <dbl> & <dbl>\\\\\n",
       "\\hline\n",
       "\t1 & A1BG & 0.967 & 0.967 & 0.957 & 0.941 & 0.959\\\\\n",
       "\t2 & AAAS & 0.942 & 0.946 & 0.942 & 0.944 & 0.925\\\\\n",
       "\\end{tabular}\n"
      ],
      "text/markdown": [
       "\n",
       "A data.frame: 2 × 6\n",
       "\n",
       "| <!--/--> | gene &lt;chr&gt; | pcl0.7 &lt;dbl&gt; | pcl0.5 &lt;dbl&gt; | pcl0.1 &lt;dbl&gt; | pcl0.01 &lt;dbl&gt; | pcl0.001 &lt;dbl&gt; |\n",
       "|---|---|---|---|---|---|---|\n",
       "| 1 | A1BG | 0.967 | 0.967 | 0.957 | 0.941 | 0.959 |\n",
       "| 2 | AAAS | 0.942 | 0.946 | 0.942 | 0.944 | 0.925 |\n",
       "\n"
      ],
      "text/plain": [
       "  gene pcl0.7 pcl0.5 pcl0.1 pcl0.01 pcl0.001\n",
       "1 A1BG 0.967  0.967  0.957  0.941   0.959   \n",
       "2 AAAS 0.942  0.946  0.942  0.944   0.925   "
      ]
     },
     "metadata": {},
     "output_type": "display_data"
    },
    {
     "data": {
      "text/html": [
       "'RPL23A'"
      ],
      "text/latex": [
       "'RPL23A'"
      ],
      "text/markdown": [
       "'RPL23A'"
      ],
      "text/plain": [
       "[1] \"RPL23A\""
      ]
     },
     "metadata": {},
     "output_type": "display_data"
    }
   ],
   "source": [
    "GC_lambda_file = \"/directflow/SCCGGroupShare/projects/anncuo/OneK1K/saige_eqtl/from_wei/B_IN_trans_GClambda.txt\"\n",
    "gcl_df = as.data.frame(fread(GC_lambda_file))\n",
    "colnames(gcl_df) = c(\"gene\", paste0(\"pcl\",c(0.7,0.5,0.1,0.01,0.001)))\n",
    "head(gcl_df,2)\n",
    "remove_genes_gcl = gcl_df[gcl_df$pcl0.5>1.05,\"gene\"]\n",
    "remove_genes_gcl"
   ]
  },
  {
   "cell_type": "code",
   "execution_count": 8,
   "id": "4e97ddb3",
   "metadata": {},
   "outputs": [],
   "source": [
    "df_list = list()\n",
    "for (i in 1:length(genes)){\n",
    "    gene = genes[i]\n",
    "    if (gene %in% remove_genes_gcl){next}\n",
    "    chrom = gene_loc[gene_loc$gene_name == gene,\"seqid\"]$seqid[1]\n",
    "    gene_start = gene_loc[gene_loc$gene_name == gene,\"start\"]$start[1]\n",
    "    gene_end = gene_loc[gene_loc$gene_name == gene,\"end\"]$end[1]\n",
    "    file = paste0(trans_dir,\"merged/\",gene_files[i])\n",
    "    df = as.data.frame(fread(file))\n",
    "    if (nrow(df)==0){next}\n",
    "    colnames(df)[(ncol(df)-2):ncol(df)] <- c(\"p.value\",\"neg.log10.p.value\",\"cis.trans\")\n",
    "    if (nrow(df)==0){next}\n",
    "    # remove HLA region (https://www.ncbi.nlm.nih.gov/grc/human/regions/MHC?asm=GRCh37)\n",
    "    df = df[!(df$Chr==6 & df$Start >= 28477797 & df$Start <= 33448354),]\n",
    "    if (nrow(df)==0){next}\n",
    "    colnames(df)[1:5] <- paste0(\"snp_\",colnames(df)[1:5])\n",
    "    df$gene_chr = chrom\n",
    "    df$gene_start = gene_start\n",
    "    df$gene_end = gene_end\n",
    "    df$window_start = max(0,min(gene_start, gene_end)-2000000)\n",
    "    df$window_end = max(gene_start, gene_end)+2000000\n",
    "    df$gene = gene\n",
    "    df_list[[gene]] = df\n",
    "}\n",
    "df_combine = rbindlist(df_list)"
   ]
  },
  {
   "cell_type": "code",
   "execution_count": 9,
   "id": "75ed54c7",
   "metadata": {},
   "outputs": [
    {
     "data": {
      "text/html": [
       "34934"
      ],
      "text/latex": [
       "34934"
      ],
      "text/markdown": [
       "34934"
      ],
      "text/plain": [
       "[1] 34934"
      ]
     },
     "metadata": {},
     "output_type": "display_data"
    },
    {
     "data": {
      "text/html": [
       "<table class=\"dataframe\">\n",
       "<caption>A data.table: 6 × 64</caption>\n",
       "<thead>\n",
       "\t<tr><th scope=col>snp_Chr</th><th scope=col>snp_Start</th><th scope=col>snp_End</th><th scope=col>snp_Ref</th><th scope=col>snp_Alt</th><th scope=col>Func.refGene</th><th scope=col>Gene.refGene</th><th scope=col>GeneDetail.refGene</th><th scope=col>ExonicFunc.refGene</th><th scope=col>AAChange.refGene</th><th scope=col>⋯</th><th scope=col>SiPhy_29way_logOdds</th><th scope=col>p.value</th><th scope=col>neg.log10.p.value</th><th scope=col>cis.trans</th><th scope=col>gene_chr</th><th scope=col>gene_start</th><th scope=col>gene_end</th><th scope=col>window_start</th><th scope=col>window_end</th><th scope=col>gene</th></tr>\n",
       "\t<tr><th scope=col>&lt;int&gt;</th><th scope=col>&lt;int&gt;</th><th scope=col>&lt;int&gt;</th><th scope=col>&lt;chr&gt;</th><th scope=col>&lt;chr&gt;</th><th scope=col>&lt;chr&gt;</th><th scope=col>&lt;chr&gt;</th><th scope=col>&lt;chr&gt;</th><th scope=col>&lt;chr&gt;</th><th scope=col>&lt;chr&gt;</th><th scope=col>⋯</th><th scope=col>&lt;chr&gt;</th><th scope=col>&lt;dbl&gt;</th><th scope=col>&lt;dbl&gt;</th><th scope=col>&lt;chr&gt;</th><th scope=col>&lt;chr&gt;</th><th scope=col>&lt;int&gt;</th><th scope=col>&lt;int&gt;</th><th scope=col>&lt;dbl&gt;</th><th scope=col>&lt;dbl&gt;</th><th scope=col>&lt;chr&gt;</th></tr>\n",
       "</thead>\n",
       "<tbody>\n",
       "\t<tr><td> 5</td><td>177485055</td><td>177485055</td><td>C</td><td>T</td><td>ncRNA_intronic</td><td>FAM153CP         </td><td>                        </td><td>NA</td><td>NA</td><td>⋯</td><td>NA</td><td>3.31660e-06</td><td>5.479307</td><td>potential_novel</td><td>19</td><td> 58856544</td><td> 58864865</td><td> 56856544</td><td> 60864865</td><td>A1BG</td></tr>\n",
       "\t<tr><td>15</td><td> 38967627</td><td> 38967627</td><td>A</td><td>G</td><td>intergenic    </td><td>RASGRP1;LINC02694</td><td>dist=110612;dist=21172  </td><td>NA</td><td>NA</td><td>⋯</td><td>NA</td><td>3.00941e-07</td><td>6.521519</td><td>potential_novel</td><td>19</td><td> 58856544</td><td> 58864865</td><td> 56856544</td><td> 60864865</td><td>A1BG</td></tr>\n",
       "\t<tr><td>18</td><td>  9002117</td><td>  9002117</td><td>A</td><td>C</td><td>intergenic    </td><td>MTCL1;NDUFV2     </td><td>dist=169341;dist=100580 </td><td>NA</td><td>NA</td><td>⋯</td><td>NA</td><td>4.80390e-06</td><td>5.318406</td><td>potential_novel</td><td>19</td><td> 58856544</td><td> 58864865</td><td> 56856544</td><td> 60864865</td><td>A1BG</td></tr>\n",
       "\t<tr><td>18</td><td> 37989574</td><td> 37989574</td><td>A</td><td>C</td><td>intergenic    </td><td>LINC01477;KC6    </td><td>dist=310377;dist=1070662</td><td>NA</td><td>NA</td><td>⋯</td><td>NA</td><td>1.14931e-06</td><td>5.939563</td><td>potential_novel</td><td>12</td><td> 53701240</td><td> 53718648</td><td> 51701240</td><td> 55718648</td><td>AAAS</td></tr>\n",
       "\t<tr><td> 2</td><td>217405203</td><td>217405203</td><td>A</td><td>G</td><td>intergenic    </td><td>RPL37A;LINC01280 </td><td>dist=36394;dist=49513   </td><td>NA</td><td>NA</td><td>⋯</td><td>NA</td><td>4.41011e-06</td><td>5.355551</td><td>potential_novel</td><td>12</td><td>125549925</td><td>125627873</td><td>123549925</td><td>127627873</td><td>AACS</td></tr>\n",
       "\t<tr><td>10</td><td> 33450242</td><td> 33450242</td><td>C</td><td>T</td><td>intergenic    </td><td>IATPR;NRP1       </td><td>dist=44507;dist=16179   </td><td>NA</td><td>NA</td><td>⋯</td><td>NA</td><td>4.68549e-06</td><td>5.329245</td><td>potential_novel</td><td>12</td><td>125549925</td><td>125627873</td><td>123549925</td><td>127627873</td><td>AACS</td></tr>\n",
       "</tbody>\n",
       "</table>\n"
      ],
      "text/latex": [
       "A data.table: 6 × 64\n",
       "\\begin{tabular}{lllllllllllllllllllll}\n",
       " snp\\_Chr & snp\\_Start & snp\\_End & snp\\_Ref & snp\\_Alt & Func.refGene & Gene.refGene & GeneDetail.refGene & ExonicFunc.refGene & AAChange.refGene & ⋯ & SiPhy\\_29way\\_logOdds & p.value & neg.log10.p.value & cis.trans & gene\\_chr & gene\\_start & gene\\_end & window\\_start & window\\_end & gene\\\\\n",
       " <int> & <int> & <int> & <chr> & <chr> & <chr> & <chr> & <chr> & <chr> & <chr> & ⋯ & <chr> & <dbl> & <dbl> & <chr> & <chr> & <int> & <int> & <dbl> & <dbl> & <chr>\\\\\n",
       "\\hline\n",
       "\t  5 & 177485055 & 177485055 & C & T & ncRNA\\_intronic & FAM153CP          &                          & NA & NA & ⋯ & NA & 3.31660e-06 & 5.479307 & potential\\_novel & 19 &  58856544 &  58864865 &  56856544 &  60864865 & A1BG\\\\\n",
       "\t 15 &  38967627 &  38967627 & A & G & intergenic     & RASGRP1;LINC02694 & dist=110612;dist=21172   & NA & NA & ⋯ & NA & 3.00941e-07 & 6.521519 & potential\\_novel & 19 &  58856544 &  58864865 &  56856544 &  60864865 & A1BG\\\\\n",
       "\t 18 &   9002117 &   9002117 & A & C & intergenic     & MTCL1;NDUFV2      & dist=169341;dist=100580  & NA & NA & ⋯ & NA & 4.80390e-06 & 5.318406 & potential\\_novel & 19 &  58856544 &  58864865 &  56856544 &  60864865 & A1BG\\\\\n",
       "\t 18 &  37989574 &  37989574 & A & C & intergenic     & LINC01477;KC6     & dist=310377;dist=1070662 & NA & NA & ⋯ & NA & 1.14931e-06 & 5.939563 & potential\\_novel & 12 &  53701240 &  53718648 &  51701240 &  55718648 & AAAS\\\\\n",
       "\t  2 & 217405203 & 217405203 & A & G & intergenic     & RPL37A;LINC01280  & dist=36394;dist=49513    & NA & NA & ⋯ & NA & 4.41011e-06 & 5.355551 & potential\\_novel & 12 & 125549925 & 125627873 & 123549925 & 127627873 & AACS\\\\\n",
       "\t 10 &  33450242 &  33450242 & C & T & intergenic     & IATPR;NRP1        & dist=44507;dist=16179    & NA & NA & ⋯ & NA & 4.68549e-06 & 5.329245 & potential\\_novel & 12 & 125549925 & 125627873 & 123549925 & 127627873 & AACS\\\\\n",
       "\\end{tabular}\n"
      ],
      "text/markdown": [
       "\n",
       "A data.table: 6 × 64\n",
       "\n",
       "| snp_Chr &lt;int&gt; | snp_Start &lt;int&gt; | snp_End &lt;int&gt; | snp_Ref &lt;chr&gt; | snp_Alt &lt;chr&gt; | Func.refGene &lt;chr&gt; | Gene.refGene &lt;chr&gt; | GeneDetail.refGene &lt;chr&gt; | ExonicFunc.refGene &lt;chr&gt; | AAChange.refGene &lt;chr&gt; | ⋯ ⋯ | SiPhy_29way_logOdds &lt;chr&gt; | p.value &lt;dbl&gt; | neg.log10.p.value &lt;dbl&gt; | cis.trans &lt;chr&gt; | gene_chr &lt;chr&gt; | gene_start &lt;int&gt; | gene_end &lt;int&gt; | window_start &lt;dbl&gt; | window_end &lt;dbl&gt; | gene &lt;chr&gt; |\n",
       "|---|---|---|---|---|---|---|---|---|---|---|---|---|---|---|---|---|---|---|---|---|\n",
       "|  5 | 177485055 | 177485055 | C | T | ncRNA_intronic | FAM153CP          | <!----> | NA | NA | ⋯ | NA | 3.31660e-06 | 5.479307 | potential_novel | 19 |  58856544 |  58864865 |  56856544 |  60864865 | A1BG |\n",
       "| 15 |  38967627 |  38967627 | A | G | intergenic     | RASGRP1;LINC02694 | dist=110612;dist=21172   | NA | NA | ⋯ | NA | 3.00941e-07 | 6.521519 | potential_novel | 19 |  58856544 |  58864865 |  56856544 |  60864865 | A1BG |\n",
       "| 18 |   9002117 |   9002117 | A | C | intergenic     | MTCL1;NDUFV2      | dist=169341;dist=100580  | NA | NA | ⋯ | NA | 4.80390e-06 | 5.318406 | potential_novel | 19 |  58856544 |  58864865 |  56856544 |  60864865 | A1BG |\n",
       "| 18 |  37989574 |  37989574 | A | C | intergenic     | LINC01477;KC6     | dist=310377;dist=1070662 | NA | NA | ⋯ | NA | 1.14931e-06 | 5.939563 | potential_novel | 12 |  53701240 |  53718648 |  51701240 |  55718648 | AAAS |\n",
       "|  2 | 217405203 | 217405203 | A | G | intergenic     | RPL37A;LINC01280  | dist=36394;dist=49513    | NA | NA | ⋯ | NA | 4.41011e-06 | 5.355551 | potential_novel | 12 | 125549925 | 125627873 | 123549925 | 127627873 | AACS |\n",
       "| 10 |  33450242 |  33450242 | C | T | intergenic     | IATPR;NRP1        | dist=44507;dist=16179    | NA | NA | ⋯ | NA | 4.68549e-06 | 5.329245 | potential_novel | 12 | 125549925 | 125627873 | 123549925 | 127627873 | AACS |\n",
       "\n"
      ],
      "text/plain": [
       "  snp_Chr snp_Start snp_End   snp_Ref snp_Alt Func.refGene   Gene.refGene     \n",
       "1  5      177485055 177485055 C       T       ncRNA_intronic FAM153CP         \n",
       "2 15       38967627  38967627 A       G       intergenic     RASGRP1;LINC02694\n",
       "3 18        9002117   9002117 A       C       intergenic     MTCL1;NDUFV2     \n",
       "4 18       37989574  37989574 A       C       intergenic     LINC01477;KC6    \n",
       "5  2      217405203 217405203 A       G       intergenic     RPL37A;LINC01280 \n",
       "6 10       33450242  33450242 C       T       intergenic     IATPR;NRP1       \n",
       "  GeneDetail.refGene       ExonicFunc.refGene AAChange.refGene ⋯\n",
       "1                          NA                 NA               ⋯\n",
       "2 dist=110612;dist=21172   NA                 NA               ⋯\n",
       "3 dist=169341;dist=100580  NA                 NA               ⋯\n",
       "4 dist=310377;dist=1070662 NA                 NA               ⋯\n",
       "5 dist=36394;dist=49513    NA                 NA               ⋯\n",
       "6 dist=44507;dist=16179    NA                 NA               ⋯\n",
       "  SiPhy_29way_logOdds p.value     neg.log10.p.value cis.trans       gene_chr\n",
       "1 NA                  3.31660e-06 5.479307          potential_novel 19      \n",
       "2 NA                  3.00941e-07 6.521519          potential_novel 19      \n",
       "3 NA                  4.80390e-06 5.318406          potential_novel 19      \n",
       "4 NA                  1.14931e-06 5.939563          potential_novel 12      \n",
       "5 NA                  4.41011e-06 5.355551          potential_novel 12      \n",
       "6 NA                  4.68549e-06 5.329245          potential_novel 12      \n",
       "  gene_start gene_end  window_start window_end gene\n",
       "1  58856544   58864865  56856544     60864865  A1BG\n",
       "2  58856544   58864865  56856544     60864865  A1BG\n",
       "3  58856544   58864865  56856544     60864865  A1BG\n",
       "4  53701240   53718648  51701240     55718648  AAAS\n",
       "5 125549925  125627873 123549925    127627873  AACS\n",
       "6 125549925  125627873 123549925    127627873  AACS"
      ]
     },
     "metadata": {},
     "output_type": "display_data"
    }
   ],
   "source": [
    "nrow(df_combine)\n",
    "head(df_combine)"
   ]
  },
  {
   "cell_type": "code",
   "execution_count": 10,
   "id": "dbdc0c70",
   "metadata": {},
   "outputs": [],
   "source": [
    "# create a matrix, SNP chromosome by gene chromosome\n",
    "mat=as.matrix(table(df_combine$snp_Chr, df_combine$gene_chr))\n",
    "# add \"chr\" to chromosome names\n",
    "rownames(mat) = paste0(\"chr\",rownames(mat))\n",
    "colnames(mat) = paste0(\"chr\",colnames(mat))\n",
    "# sort chromosomes from 1 to 22\n",
    "mat = mat[paste0(\"chr\",1:22),paste0(\"chr\",1:22)]"
   ]
  },
  {
   "cell_type": "code",
   "execution_count": 11,
   "id": "0907b696",
   "metadata": {},
   "outputs": [
    {
     "data": {
      "text/html": [
       "371"
      ],
      "text/latex": [
       "371"
      ],
      "text/markdown": [
       "371"
      ],
      "text/plain": [
       "[1] 371"
      ]
     },
     "metadata": {},
     "output_type": "display_data"
    }
   ],
   "source": [
    "max(mat)"
   ]
  },
  {
   "cell_type": "code",
   "execution_count": 12,
   "id": "f1ef70f6",
   "metadata": {},
   "outputs": [
    {
     "data": {
      "image/png": "[encoded data removed]",
      "text/plain": [
       "plot without title"
      ]
     },
     "metadata": {
      "image/png": {
       "height": 420,
       "width": 420
      }
     },
     "output_type": "display_data"
    }
   ],
   "source": [
    "# all results (cis + trans)\n",
    "col_fun = colorRamp2(c(0, max(mat)), c(\"white\", \"red\"))\n",
    "Heatmap(mat, cluster_rows = FALSE, cluster_columns = FALSE, name = \"Number \\nof eQTLs\", \n",
    "        row_title = \"snp chrom\", column_title = \"gene chrom\", col=col_fun)"
   ]
  },
  {
   "cell_type": "code",
   "execution_count": 13,
   "id": "faec97cd",
   "metadata": {},
   "outputs": [
    {
     "data": {
      "text/html": [
       "<strong>png:</strong> 2"
      ],
      "text/latex": [
       "\\textbf{png:} 2"
      ],
      "text/markdown": [
       "**png:** 2"
      ],
      "text/plain": [
       "png \n",
       "  2 "
      ]
     },
     "metadata": {},
     "output_type": "display_data"
    }
   ],
   "source": [
    "fig_dir <- \"/directflow/SCCGGroupShare/projects/anncuo/OneK1K/saige_eqtl/ms_figures/trans/\"\n",
    "pdf(paste0(fig_dir,\"B_IN_trans_cis_heatmap.pdf\"), width=10, height=10)\n",
    "Heatmap(mat, cluster_rows = FALSE, cluster_columns = FALSE, name = \"Number \\nof eQTLs\", \n",
    "        row_title = \"snp chrom\", column_title = \"gene chrom\", col=col_fun)\n",
    "dev.off()"
   ]
  },
  {
   "cell_type": "code",
   "execution_count": 14,
   "id": "5713d974",
   "metadata": {},
   "outputs": [
    {
     "data": {
      "text/plain": [
       "\n",
       "  cis trans \n",
       "  996 33938 "
      ]
     },
     "metadata": {},
     "output_type": "display_data"
    }
   ],
   "source": [
    "# trans only (different chromosome and or not within 2Mb of gene)\n",
    "# df_combine_trans_only = df_combine[df_combine$cis.trans == \"potential_novel\"]\n",
    "df_combine$cis.trans.2mb = \"trans\"\n",
    "df_combine$snp_Chr = as.character(df_combine$snp_Chr)\n",
    "df_combine[df_combine$gene_chr == df_combine$snp_Chr & df_combine$snp_Start >= df_combine$window_start & df_combine$snp_Start <= df_combine$window_end, \"cis.trans.2mb\"] = \"cis\"\n",
    "table(df_combine$cis.trans.2mb)\n",
    "df_combine_trans_only = df_combine[df_combine$cis.trans.2mb == \"trans\",]"
   ]
  },
  {
   "cell_type": "code",
   "execution_count": 15,
   "id": "8e4cead6",
   "metadata": {},
   "outputs": [],
   "source": [
    "mat_trans=as.matrix(table(df_combine_trans_only$snp_Chr, df_combine_trans_only$gene_chr))\n",
    "rownames(mat_trans) = paste0(\"chr\",rownames(mat_trans))\n",
    "colnames(mat_trans) = paste0(\"chr\",colnames(mat_trans))\n",
    "mat_trans = mat_trans[paste0(\"chr\",1:22),paste0(\"chr\",1:22)]"
   ]
  },
  {
   "cell_type": "code",
   "execution_count": 16,
   "id": "1f4eb79c",
   "metadata": {},
   "outputs": [
    {
     "data": {
      "text/html": [
       "281"
      ],
      "text/latex": [
       "281"
      ],
      "text/markdown": [
       "281"
      ],
      "text/plain": [
       "[1] 281"
      ]
     },
     "metadata": {},
     "output_type": "display_data"
    }
   ],
   "source": [
    "max(mat_trans)"
   ]
  },
  {
   "cell_type": "code",
   "execution_count": 17,
   "id": "b1a4a635",
   "metadata": {},
   "outputs": [
    {
     "data": {
      "image/png": "[encoded data removed]",
      "text/plain": [
       "plot without title"
      ]
     },
     "metadata": {
      "image/png": {
       "height": 420,
       "width": 420
      }
     },
     "output_type": "display_data"
    }
   ],
   "source": [
    "col_fun = colorRamp2(c(0, max(mat_trans)), c(\"white\", \"red\"))\n",
    "Heatmap(mat_trans, cluster_rows = FALSE, cluster_columns = FALSE, name = \"Number of \\ntrans eQTLs\", \n",
    "        row_title = \"snp chrom\", column_title = \"gene chrom\", col=col_fun)"
   ]
  },
  {
   "cell_type": "code",
   "execution_count": 38,
   "id": "a5276d02",
   "metadata": {},
   "outputs": [
    {
     "data": {
      "text/html": [
       "<strong>png:</strong> 2"
      ],
      "text/latex": [
       "\\textbf{png:} 2"
      ],
      "text/markdown": [
       "**png:** 2"
      ],
      "text/plain": [
       "png \n",
       "  2 "
      ]
     },
     "metadata": {},
     "output_type": "display_data"
    }
   ],
   "source": [
    "fig_dir <- \"/directflow/SCCGGroupShare/projects/anncuo/OneK1K/saige_eqtl/ms_figures/trans/\"\n",
    "pdf(paste0(fig_dir,\"B_IN_trans_only_heatmap.pdf\"), width=10, height=10)\n",
    "Heatmap(mat_trans, cluster_rows = FALSE, cluster_columns = FALSE, name = \"Number of \\ntrans eQTLs\", \n",
    "        row_title = \"snp chrom\", column_title = \"gene chrom\", col=col_fun)\n",
    "dev.off()"
   ]
  },
  {
   "cell_type": "code",
   "execution_count": null,
   "id": "233e261c",
   "metadata": {},
   "outputs": [],
   "source": []
  },
  {
   "cell_type": "code",
   "execution_count": 41,
   "id": "800538d4",
   "metadata": {},
   "outputs": [
    {
     "data": {
      "text/html": [
       "33938"
      ],
      "text/latex": [
       "33938"
      ],
      "text/markdown": [
       "33938"
      ],
      "text/plain": [
       "[1] 33938"
      ]
     },
     "metadata": {},
     "output_type": "display_data"
    }
   ],
   "source": [
    "nrow(df_combine_trans_only)"
   ]
  },
  {
   "cell_type": "code",
   "execution_count": 42,
   "id": "e1f170da",
   "metadata": {},
   "outputs": [],
   "source": [
    "fwrite(df_combine_trans_only, \"/directflow/SCCGGroupShare/projects/anncuo/OneK1K/saige_eqtl/for_wei/trans/B_IN_trans_eqtls_p5e_6.txt\")"
   ]
  },
  {
   "cell_type": "code",
   "execution_count": null,
   "id": "20328ba7",
   "metadata": {},
   "outputs": [],
   "source": []
  }
 ],
 "metadata": {
  "kernelspec": {
   "display_name": "Single Cell Notebook (R 4.1.2)",
   "language": "R",
   "name": "singlecell"
  },
  "language_info": {
   "codemirror_mode": "r",
   "file_extension": ".r",
   "mimetype": "text/x-r-source",
   "name": "R",
   "pygments_lexer": "r",
   "version": "4.1.2"
  }
 },
 "nbformat": 4,
 "nbformat_minor": 5
}
