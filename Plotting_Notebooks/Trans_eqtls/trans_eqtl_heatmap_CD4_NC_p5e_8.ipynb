{
 "cells": [
  {
   "cell_type": "code",
   "execution_count": 4,
   "id": "07603596",
   "metadata": {},
   "outputs": [],
   "source": [
    "library(circlize)\n",
    "library(ComplexHeatmap)\n",
    "library(data.table)"
   ]
  },
  {
   "cell_type": "code",
   "execution_count": 5,
   "id": "c2e45f7d",
   "metadata": {},
   "outputs": [
    {
     "data": {
      "text/html": [
       "<style>\n",
       ".list-inline {list-style: none; margin:0; padding: 0}\n",
       ".list-inline>li {display: inline-block}\n",
       ".list-inline>li:not(:last-child)::after {content: \"\\00b7\"; padding: 0 .5ex}\n",
       "</style>\n",
       "<ol class=list-inline><li>'/directflow/SCCGGroupShare/projects/anncuo/OneK1K/saige_eqtl/from_wei/trans_CD4_NC_tophits_multianno/A1BG_CD4_NC_count_gw_allchr.txt_result.tophits.annovar.txt.hg19_multianno.txt'</li><li>'/directflow/SCCGGroupShare/projects/anncuo/OneK1K/saige_eqtl/from_wei/trans_CD4_NC_tophits_multianno/A2M_CD4_NC_count_gw_allchr.txt_result.tophits.annovar.txt.hg19_multianno.txt'</li></ol>\n"
      ],
      "text/latex": [
       "\\begin{enumerate*}\n",
       "\\item '/directflow/SCCGGroupShare/projects/anncuo/OneK1K/saige\\_eqtl/from\\_wei/trans\\_CD4\\_NC\\_tophits\\_multianno/A1BG\\_CD4\\_NC\\_count\\_gw\\_allchr.txt\\_result.tophits.annovar.txt.hg19\\_multianno.txt'\n",
       "\\item '/directflow/SCCGGroupShare/projects/anncuo/OneK1K/saige\\_eqtl/from\\_wei/trans\\_CD4\\_NC\\_tophits\\_multianno/A2M\\_CD4\\_NC\\_count\\_gw\\_allchr.txt\\_result.tophits.annovar.txt.hg19\\_multianno.txt'\n",
       "\\end{enumerate*}\n"
      ],
      "text/markdown": [
       "1. '/directflow/SCCGGroupShare/projects/anncuo/OneK1K/saige_eqtl/from_wei/trans_CD4_NC_tophits_multianno/A1BG_CD4_NC_count_gw_allchr.txt_result.tophits.annovar.txt.hg19_multianno.txt'\n",
       "2. '/directflow/SCCGGroupShare/projects/anncuo/OneK1K/saige_eqtl/from_wei/trans_CD4_NC_tophits_multianno/A2M_CD4_NC_count_gw_allchr.txt_result.tophits.annovar.txt.hg19_multianno.txt'\n",
       "\n",
       "\n"
      ],
      "text/plain": [
       "[1] \"/directflow/SCCGGroupShare/projects/anncuo/OneK1K/saige_eqtl/from_wei/trans_CD4_NC_tophits_multianno/A1BG_CD4_NC_count_gw_allchr.txt_result.tophits.annovar.txt.hg19_multianno.txt\"\n",
       "[2] \"/directflow/SCCGGroupShare/projects/anncuo/OneK1K/saige_eqtl/from_wei/trans_CD4_NC_tophits_multianno/A2M_CD4_NC_count_gw_allchr.txt_result.tophits.annovar.txt.hg19_multianno.txt\" "
      ]
     },
     "metadata": {},
     "output_type": "display_data"
    }
   ],
   "source": [
    "trans_dir = \"/directflow/SCCGGroupShare/projects/anncuo/OneK1K/saige_eqtl/from_wei/trans_CD4_NC_tophits_multianno/\"\n",
    "trans_files = paste0(trans_dir,list.files(trans_dir))\n",
    "head(trans_files,2)"
   ]
  },
  {
   "cell_type": "code",
   "execution_count": null,
   "id": "fe926518",
   "metadata": {},
   "outputs": [],
   "source": []
  },
  {
   "cell_type": "code",
   "execution_count": 6,
   "id": "4c532887",
   "metadata": {},
   "outputs": [
    {
     "data": {
      "text/html": [
       "<table class=\"dataframe\">\n",
       "<caption>A data.table: 6 × 6</caption>\n",
       "<thead>\n",
       "\t<tr><th scope=col>gene_name</th><th scope=col>gene_id</th><th scope=col>seqid</th><th scope=col>start</th><th scope=col>end</th><th scope=col>strand</th></tr>\n",
       "\t<tr><th scope=col>&lt;chr&gt;</th><th scope=col>&lt;chr&gt;</th><th scope=col>&lt;chr&gt;</th><th scope=col>&lt;int&gt;</th><th scope=col>&lt;int&gt;</th><th scope=col>&lt;chr&gt;</th></tr>\n",
       "</thead>\n",
       "<tbody>\n",
       "\t<tr><td>AL627309.1</td><td>ENSG00000237683</td><td>1</td><td> 134901</td><td> 139379</td><td>-</td></tr>\n",
       "\t<tr><td>AL669831.1</td><td>ENSG00000269831</td><td>1</td><td> 738532</td><td> 739137</td><td>-</td></tr>\n",
       "\t<tr><td>AL645608.2</td><td>ENSG00000269308</td><td>1</td><td> 818043</td><td> 819983</td><td>+</td></tr>\n",
       "\t<tr><td>AL645608.1</td><td>ENSG00000268179</td><td>1</td><td> 861264</td><td> 866445</td><td>-</td></tr>\n",
       "\t<tr><td>AL645728.1</td><td>ENSG00000215014</td><td>1</td><td>1510355</td><td>1511373</td><td>+</td></tr>\n",
       "\t<tr><td>AL590822.2</td><td>ENSG00000269554</td><td>1</td><td>2121237</td><td>2123179</td><td>+</td></tr>\n",
       "</tbody>\n",
       "</table>\n"
      ],
      "text/latex": [
       "A data.table: 6 × 6\n",
       "\\begin{tabular}{llllll}\n",
       " gene\\_name & gene\\_id & seqid & start & end & strand\\\\\n",
       " <chr> & <chr> & <chr> & <int> & <int> & <chr>\\\\\n",
       "\\hline\n",
       "\t AL627309.1 & ENSG00000237683 & 1 &  134901 &  139379 & -\\\\\n",
       "\t AL669831.1 & ENSG00000269831 & 1 &  738532 &  739137 & -\\\\\n",
       "\t AL645608.2 & ENSG00000269308 & 1 &  818043 &  819983 & +\\\\\n",
       "\t AL645608.1 & ENSG00000268179 & 1 &  861264 &  866445 & -\\\\\n",
       "\t AL645728.1 & ENSG00000215014 & 1 & 1510355 & 1511373 & +\\\\\n",
       "\t AL590822.2 & ENSG00000269554 & 1 & 2121237 & 2123179 & +\\\\\n",
       "\\end{tabular}\n"
      ],
      "text/markdown": [
       "\n",
       "A data.table: 6 × 6\n",
       "\n",
       "| gene_name &lt;chr&gt; | gene_id &lt;chr&gt; | seqid &lt;chr&gt; | start &lt;int&gt; | end &lt;int&gt; | strand &lt;chr&gt; |\n",
       "|---|---|---|---|---|---|\n",
       "| AL627309.1 | ENSG00000237683 | 1 |  134901 |  139379 | - |\n",
       "| AL669831.1 | ENSG00000269831 | 1 |  738532 |  739137 | - |\n",
       "| AL645608.2 | ENSG00000269308 | 1 |  818043 |  819983 | + |\n",
       "| AL645608.1 | ENSG00000268179 | 1 |  861264 |  866445 | - |\n",
       "| AL645728.1 | ENSG00000215014 | 1 | 1510355 | 1511373 | + |\n",
       "| AL590822.2 | ENSG00000269554 | 1 | 2121237 | 2123179 | + |\n",
       "\n"
      ],
      "text/plain": [
       "  gene_name  gene_id         seqid start   end     strand\n",
       "1 AL627309.1 ENSG00000237683 1      134901  139379 -     \n",
       "2 AL669831.1 ENSG00000269831 1      738532  739137 -     \n",
       "3 AL645608.2 ENSG00000269308 1      818043  819983 +     \n",
       "4 AL645608.1 ENSG00000268179 1      861264  866445 -     \n",
       "5 AL645728.1 ENSG00000215014 1     1510355 1511373 +     \n",
       "6 AL590822.2 ENSG00000269554 1     2121237 2123179 +     "
      ]
     },
     "metadata": {},
     "output_type": "display_data"
    }
   ],
   "source": [
    "gene_locs_file = \"/directflow/SCCGGroupShare/projects/anncuo/OneK1K/GeneLocations.tsv\"\n",
    "gene_loc = fread(gene_locs_file)\n",
    "head(gene_loc)"
   ]
  },
  {
   "cell_type": "code",
   "execution_count": 7,
   "id": "ecef5ccb",
   "metadata": {},
   "outputs": [
    {
     "data": {
      "text/html": [
       "2466"
      ],
      "text/latex": [
       "2466"
      ],
      "text/markdown": [
       "2466"
      ],
      "text/plain": [
       "[1] 2466"
      ]
     },
     "metadata": {},
     "output_type": "display_data"
    },
    {
     "data": {
      "text/html": [
       "<style>\n",
       ".list-inline {list-style: none; margin:0; padding: 0}\n",
       ".list-inline>li {display: inline-block}\n",
       ".list-inline>li:not(:last-child)::after {content: \"\\00b7\"; padding: 0 .5ex}\n",
       "</style>\n",
       "<ol class=list-inline><li>'A1BG_CD4_NC_count_gw_allchr.txt_result.tophits.annovar.txt.hg19_multianno.txt.merged.txt'</li><li>'AAK1_CD4_NC_count_gw_allchr.txt_result.tophits.annovar.txt.hg19_multianno.txt.merged.txt'</li></ol>\n"
      ],
      "text/latex": [
       "\\begin{enumerate*}\n",
       "\\item 'A1BG\\_CD4\\_NC\\_count\\_gw\\_allchr.txt\\_result.tophits.annovar.txt.hg19\\_multianno.txt.merged.txt'\n",
       "\\item 'AAK1\\_CD4\\_NC\\_count\\_gw\\_allchr.txt\\_result.tophits.annovar.txt.hg19\\_multianno.txt.merged.txt'\n",
       "\\end{enumerate*}\n"
      ],
      "text/markdown": [
       "1. 'A1BG_CD4_NC_count_gw_allchr.txt_result.tophits.annovar.txt.hg19_multianno.txt.merged.txt'\n",
       "2. 'AAK1_CD4_NC_count_gw_allchr.txt_result.tophits.annovar.txt.hg19_multianno.txt.merged.txt'\n",
       "\n",
       "\n"
      ],
      "text/plain": [
       "[1] \"A1BG_CD4_NC_count_gw_allchr.txt_result.tophits.annovar.txt.hg19_multianno.txt.merged.txt\"\n",
       "[2] \"AAK1_CD4_NC_count_gw_allchr.txt_result.tophits.annovar.txt.hg19_multianno.txt.merged.txt\""
      ]
     },
     "metadata": {},
     "output_type": "display_data"
    }
   ],
   "source": [
    "gene_files = list.files(paste0(trans_dir,\"merged_p5e_8/\"), pattern=\".merged.txt\")\n",
    "length(gene_files)\n",
    "head(gene_files,2)"
   ]
  },
  {
   "cell_type": "code",
   "execution_count": 8,
   "id": "dab1c175",
   "metadata": {},
   "outputs": [
    {
     "data": {
      "text/html": [
       "2466"
      ],
      "text/latex": [
       "2466"
      ],
      "text/markdown": [
       "2466"
      ],
      "text/plain": [
       "[1] 2466"
      ]
     },
     "metadata": {},
     "output_type": "display_data"
    },
    {
     "data": {
      "text/html": [
       "<style>\n",
       ".list-inline {list-style: none; margin:0; padding: 0}\n",
       ".list-inline>li {display: inline-block}\n",
       ".list-inline>li:not(:last-child)::after {content: \"\\00b7\"; padding: 0 .5ex}\n",
       "</style>\n",
       "<ol class=list-inline><li>'A1BG'</li><li>'AAK1'</li><li>'AATF'</li><li>'ABCA7'</li><li>'ABCD4'</li><li>'ABCG2'</li></ol>\n"
      ],
      "text/latex": [
       "\\begin{enumerate*}\n",
       "\\item 'A1BG'\n",
       "\\item 'AAK1'\n",
       "\\item 'AATF'\n",
       "\\item 'ABCA7'\n",
       "\\item 'ABCD4'\n",
       "\\item 'ABCG2'\n",
       "\\end{enumerate*}\n"
      ],
      "text/markdown": [
       "1. 'A1BG'\n",
       "2. 'AAK1'\n",
       "3. 'AATF'\n",
       "4. 'ABCA7'\n",
       "5. 'ABCD4'\n",
       "6. 'ABCG2'\n",
       "\n",
       "\n"
      ],
      "text/plain": [
       "[1] \"A1BG\"  \"AAK1\"  \"AATF\"  \"ABCA7\" \"ABCD4\" \"ABCG2\""
      ]
     },
     "metadata": {},
     "output_type": "display_data"
    }
   ],
   "source": [
    "genes = gsub(\"_CD4_NC_count_gw_allchr.txt_result.tophits.annovar.txt.hg19_multianno.txt.merged.txt\", \"\", gene_files)\n",
    "length(genes)\n",
    "head(genes)"
   ]
  },
  {
   "cell_type": "code",
   "execution_count": 13,
   "id": "a42144ac",
   "metadata": {},
   "outputs": [
    {
     "data": {
      "text/html": [
       "<table class=\"dataframe\">\n",
       "<caption>A data.frame: 2 × 6</caption>\n",
       "<thead>\n",
       "\t<tr><th></th><th scope=col>gene</th><th scope=col>pcl0.7</th><th scope=col>pcl0.5</th><th scope=col>pcl0.1</th><th scope=col>pcl0.01</th><th scope=col>pcl0.001</th></tr>\n",
       "\t<tr><th></th><th scope=col>&lt;chr&gt;</th><th scope=col>&lt;dbl&gt;</th><th scope=col>&lt;dbl&gt;</th><th scope=col>&lt;dbl&gt;</th><th scope=col>&lt;dbl&gt;</th><th scope=col>&lt;dbl&gt;</th></tr>\n",
       "</thead>\n",
       "<tbody>\n",
       "\t<tr><th scope=row>1</th><td>A1BG</td><td>1.000</td><td>1.006</td><td>1.018</td><td>0.965</td><td>1.064</td></tr>\n",
       "\t<tr><th scope=row>2</th><td>A2M </td><td>1.003</td><td>0.997</td><td>0.994</td><td>0.992</td><td>0.884</td></tr>\n",
       "</tbody>\n",
       "</table>\n"
      ],
      "text/latex": [
       "A data.frame: 2 × 6\n",
       "\\begin{tabular}{r|llllll}\n",
       "  & gene & pcl0.7 & pcl0.5 & pcl0.1 & pcl0.01 & pcl0.001\\\\\n",
       "  & <chr> & <dbl> & <dbl> & <dbl> & <dbl> & <dbl>\\\\\n",
       "\\hline\n",
       "\t1 & A1BG & 1.000 & 1.006 & 1.018 & 0.965 & 1.064\\\\\n",
       "\t2 & A2M  & 1.003 & 0.997 & 0.994 & 0.992 & 0.884\\\\\n",
       "\\end{tabular}\n"
      ],
      "text/markdown": [
       "\n",
       "A data.frame: 2 × 6\n",
       "\n",
       "| <!--/--> | gene &lt;chr&gt; | pcl0.7 &lt;dbl&gt; | pcl0.5 &lt;dbl&gt; | pcl0.1 &lt;dbl&gt; | pcl0.01 &lt;dbl&gt; | pcl0.001 &lt;dbl&gt; |\n",
       "|---|---|---|---|---|---|---|\n",
       "| 1 | A1BG | 1.000 | 1.006 | 1.018 | 0.965 | 1.064 |\n",
       "| 2 | A2M  | 1.003 | 0.997 | 0.994 | 0.992 | 0.884 |\n",
       "\n"
      ],
      "text/plain": [
       "  gene pcl0.7 pcl0.5 pcl0.1 pcl0.01 pcl0.001\n",
       "1 A1BG 1.000  1.006  1.018  0.965   1.064   \n",
       "2 A2M  1.003  0.997  0.994  0.992   0.884   "
      ]
     },
     "metadata": {},
     "output_type": "display_data"
    },
    {
     "data": {
      "text/html": [
       "<style>\n",
       ".list-inline {list-style: none; margin:0; padding: 0}\n",
       ".list-inline>li {display: inline-block}\n",
       ".list-inline>li:not(:last-child)::after {content: \"\\00b7\"; padding: 0 .5ex}\n",
       "</style>\n",
       "<ol class=list-inline><li>'NENF'</li><li>'TRIM33'</li></ol>\n"
      ],
      "text/latex": [
       "\\begin{enumerate*}\n",
       "\\item 'NENF'\n",
       "\\item 'TRIM33'\n",
       "\\end{enumerate*}\n"
      ],
      "text/markdown": [
       "1. 'NENF'\n",
       "2. 'TRIM33'\n",
       "\n",
       "\n"
      ],
      "text/plain": [
       "[1] \"NENF\"   \"TRIM33\""
      ]
     },
     "metadata": {},
     "output_type": "display_data"
    }
   ],
   "source": [
    "GC_lambda_file = \"/directflow/SCCGGroupShare/projects/anncuo/OneK1K/saige_eqtl/from_wei/CD4_NC_trans_GClambda.txt\"\n",
    "gcl_df = as.data.frame(fread(GC_lambda_file))\n",
    "colnames(gcl_df) = c(\"gene\", paste0(\"pcl\",c(0.7,0.5,0.1,0.01,0.001)))\n",
    "head(gcl_df,2)\n",
    "remove_genes_gcl = gcl_df[gcl_df$pcl0.5>1.05,\"gene\"]\n",
    "remove_genes_gcl"
   ]
  },
  {
   "cell_type": "code",
   "execution_count": null,
   "id": "6c8151b5",
   "metadata": {},
   "outputs": [],
   "source": []
  },
  {
   "cell_type": "code",
   "execution_count": 14,
   "id": "4e97ddb3",
   "metadata": {},
   "outputs": [],
   "source": [
    "df_list = list()\n",
    "for (i in 1:length(genes)){\n",
    "    gene = genes[i]\n",
    "    if (gene %in% remove_genes_gcl){next}\n",
    "    chrom = gene_loc[gene_loc$gene_name == gene,\"seqid\"]$seqid[1]\n",
    "    gene_start = gene_loc[gene_loc$gene_name == gene,\"start\"]$start[1]\n",
    "    gene_end = gene_loc[gene_loc$gene_name == gene,\"end\"]$end[1]\n",
    "    file = paste0(trans_dir,\"merged/\",gene_files[i])\n",
    "    df = as.data.frame(fread(file))\n",
    "    if (nrow(df)==0){next}\n",
    "    colnames(df)[(ncol(df)-2):ncol(df)] <- c(\"p.value\",\"neg.log10.p.value\",\"cis.trans\")\n",
    "    # filter to genome-wide significance\n",
    "    df = df[df$p.value < 5e-8,]\n",
    "    if (nrow(df)==0){next}\n",
    "    # remove HLA region (https://www.ncbi.nlm.nih.gov/grc/human/regions/MHC?asm=GRCh37)\n",
    "    df = df[!(df$Chr==6 & df$Start >= 28477797 & df$Start <= 33448354),]\n",
    "    if (nrow(df)==0){next}\n",
    "    colnames(df)[1:5] <- paste0(\"snp_\",colnames(df)[1:5])\n",
    "    df$gene_chr = chrom\n",
    "    df$gene_start = gene_start\n",
    "    df$gene_end = gene_end\n",
    "    df$window_start = max(0,min(gene_start, gene_end)-2000000)\n",
    "    df$window_end = max(gene_start, gene_end)+2000000\n",
    "    df$gene = gene\n",
    "    df_list[[gene]] = df\n",
    "}\n",
    "df_combine = rbindlist(df_list)"
   ]
  },
  {
   "cell_type": "code",
   "execution_count": 15,
   "id": "75ed54c7",
   "metadata": {
    "scrolled": true
   },
   "outputs": [
    {
     "data": {
      "text/html": [
       "1171"
      ],
      "text/latex": [
       "1171"
      ],
      "text/markdown": [
       "1171"
      ],
      "text/plain": [
       "[1] 1171"
      ]
     },
     "metadata": {},
     "output_type": "display_data"
    },
    {
     "data": {
      "text/html": [
       "<table class=\"dataframe\">\n",
       "<caption>A data.table: 6 × 64</caption>\n",
       "<thead>\n",
       "\t<tr><th scope=col>snp_Chr</th><th scope=col>snp_Start</th><th scope=col>snp_End</th><th scope=col>snp_Ref</th><th scope=col>snp_Alt</th><th scope=col>Func.refGene</th><th scope=col>Gene.refGene</th><th scope=col>GeneDetail.refGene</th><th scope=col>ExonicFunc.refGene</th><th scope=col>AAChange.refGene</th><th scope=col>⋯</th><th scope=col>SiPhy_29way_logOdds</th><th scope=col>p.value</th><th scope=col>neg.log10.p.value</th><th scope=col>cis.trans</th><th scope=col>gene_chr</th><th scope=col>gene_start</th><th scope=col>gene_end</th><th scope=col>window_start</th><th scope=col>window_end</th><th scope=col>gene</th></tr>\n",
       "\t<tr><th scope=col>&lt;int&gt;</th><th scope=col>&lt;int&gt;</th><th scope=col>&lt;int&gt;</th><th scope=col>&lt;chr&gt;</th><th scope=col>&lt;chr&gt;</th><th scope=col>&lt;chr&gt;</th><th scope=col>&lt;chr&gt;</th><th scope=col>&lt;chr&gt;</th><th scope=col>&lt;chr&gt;</th><th scope=col>&lt;chr&gt;</th><th scope=col>⋯</th><th scope=col>&lt;dbl&gt;</th><th scope=col>&lt;dbl&gt;</th><th scope=col>&lt;dbl&gt;</th><th scope=col>&lt;chr&gt;</th><th scope=col>&lt;chr&gt;</th><th scope=col>&lt;int&gt;</th><th scope=col>&lt;int&gt;</th><th scope=col>&lt;dbl&gt;</th><th scope=col>&lt;dbl&gt;</th><th scope=col>&lt;chr&gt;</th></tr>\n",
       "</thead>\n",
       "<tbody>\n",
       "\t<tr><td>19</td><td> 16410530</td><td> 16410530</td><td>C</td><td>T</td><td>intergenic</td><td>AP1M1;KLF2     </td><td>dist=53816;dist=25107                                                                       </td><td>NA</td><td>NA</td><td>⋯</td><td>NA</td><td>1.45986e-08</td><td> 7.835689</td><td>potential_novel</td><td>19</td><td> 58856544</td><td> 58864865</td><td> 56856544</td><td> 60864865</td><td>A1BG       </td></tr>\n",
       "\t<tr><td> 4</td><td> 89150178</td><td> 89150178</td><td>C</td><td>G</td><td>intronic  </td><td>ABCG2          </td><td>                                                                                            </td><td>NA</td><td>NA</td><td>⋯</td><td>NA</td><td>4.91508e-16</td><td>15.308469</td><td>known          </td><td>4 </td><td> 89011416</td><td> 89152474</td><td> 87011416</td><td> 91152474</td><td>ABCG2      </td></tr>\n",
       "\t<tr><td> 3</td><td>111687020</td><td>111687020</td><td>C</td><td>G</td><td>intronic  </td><td>PHLDB2         </td><td>                                                                                            </td><td>NA</td><td>NA</td><td>⋯</td><td>NA</td><td>1.76106e-08</td><td> 7.754226</td><td>known          </td><td>3 </td><td>111697857</td><td>111712210</td><td>109697857</td><td>113712210</td><td>ABHD10     </td></tr>\n",
       "\t<tr><td> 2</td><td> 71064202</td><td> 71064202</td><td>A</td><td>G</td><td>intergenic</td><td>CD207;LINC01143</td><td>dist=1256;dist=50799                                                                        </td><td>NA</td><td>NA</td><td>⋯</td><td>NA</td><td>2.05440e-08</td><td> 7.687315</td><td>potential_novel</td><td>7 </td><td>107383262</td><td>107385026</td><td>105383262</td><td>109385026</td><td>AC002467.7 </td></tr>\n",
       "\t<tr><td>12</td><td> 47940721</td><td> 47940721</td><td>G</td><td>A</td><td>intergenic</td><td>LINC02156;RPAP3</td><td>dist=126759;dist=114311                                                                     </td><td>NA</td><td>NA</td><td>⋯</td><td>NA</td><td>1.24193e-08</td><td> 7.905903</td><td>potential_novel</td><td>7 </td><td> 98610788</td><td> 98645863</td><td> 96610788</td><td>100645863</td><td>AC004893.11</td></tr>\n",
       "\t<tr><td> 7</td><td>102093094</td><td>102093094</td><td>G</td><td>T</td><td><span style=white-space:pre-wrap>UTR3      </span></td><td><span style=white-space:pre-wrap>ORAI2          </span></td><td>NM_001271818:c.*5595G&gt;T;NM_001271819:c.*5595G&gt;T;NM_001126340:c.*5595G&gt;T;NM_032831:c.*5595G&gt;T</td><td>NA</td><td>NA</td><td>⋯</td><td>NA</td><td>5.75532e-09</td><td> 8.239931</td><td>potential_novel</td><td>7 </td><td> 44043645</td><td> 44047465</td><td> 42043645</td><td> 46047465</td><td>AC004951.6 </td></tr>\n",
       "</tbody>\n",
       "</table>\n"
      ],
      "text/latex": [
       "A data.table: 6 × 64\n",
       "\\begin{tabular}{lllllllllllllllllllll}\n",
       " snp\\_Chr & snp\\_Start & snp\\_End & snp\\_Ref & snp\\_Alt & Func.refGene & Gene.refGene & GeneDetail.refGene & ExonicFunc.refGene & AAChange.refGene & ⋯ & SiPhy\\_29way\\_logOdds & p.value & neg.log10.p.value & cis.trans & gene\\_chr & gene\\_start & gene\\_end & window\\_start & window\\_end & gene\\\\\n",
       " <int> & <int> & <int> & <chr> & <chr> & <chr> & <chr> & <chr> & <chr> & <chr> & ⋯ & <dbl> & <dbl> & <dbl> & <chr> & <chr> & <int> & <int> & <dbl> & <dbl> & <chr>\\\\\n",
       "\\hline\n",
       "\t 19 &  16410530 &  16410530 & C & T & intergenic & AP1M1;KLF2      & dist=53816;dist=25107                                                                        & NA & NA & ⋯ & NA & 1.45986e-08 &  7.835689 & potential\\_novel & 19 &  58856544 &  58864865 &  56856544 &  60864865 & A1BG       \\\\\n",
       "\t  4 &  89150178 &  89150178 & C & G & intronic   & ABCG2           &                                                                                              & NA & NA & ⋯ & NA & 4.91508e-16 & 15.308469 & known           & 4  &  89011416 &  89152474 &  87011416 &  91152474 & ABCG2      \\\\\n",
       "\t  3 & 111687020 & 111687020 & C & G & intronic   & PHLDB2          &                                                                                              & NA & NA & ⋯ & NA & 1.76106e-08 &  7.754226 & known           & 3  & 111697857 & 111712210 & 109697857 & 113712210 & ABHD10     \\\\\n",
       "\t  2 &  71064202 &  71064202 & A & G & intergenic & CD207;LINC01143 & dist=1256;dist=50799                                                                         & NA & NA & ⋯ & NA & 2.05440e-08 &  7.687315 & potential\\_novel & 7  & 107383262 & 107385026 & 105383262 & 109385026 & AC002467.7 \\\\\n",
       "\t 12 &  47940721 &  47940721 & G & A & intergenic & LINC02156;RPAP3 & dist=126759;dist=114311                                                                      & NA & NA & ⋯ & NA & 1.24193e-08 &  7.905903 & potential\\_novel & 7  &  98610788 &  98645863 &  96610788 & 100645863 & AC004893.11\\\\\n",
       "\t  7 & 102093094 & 102093094 & G & T & UTR3       & ORAI2           & NM\\_001271818:c.*5595G>T;NM\\_001271819:c.*5595G>T;NM\\_001126340:c.*5595G>T;NM\\_032831:c.*5595G>T & NA & NA & ⋯ & NA & 5.75532e-09 &  8.239931 & potential\\_novel & 7  &  44043645 &  44047465 &  42043645 &  46047465 & AC004951.6 \\\\\n",
       "\\end{tabular}\n"
      ],
      "text/markdown": [
       "\n",
       "A data.table: 6 × 64\n",
       "\n",
       "| snp_Chr &lt;int&gt; | snp_Start &lt;int&gt; | snp_End &lt;int&gt; | snp_Ref &lt;chr&gt; | snp_Alt &lt;chr&gt; | Func.refGene &lt;chr&gt; | Gene.refGene &lt;chr&gt; | GeneDetail.refGene &lt;chr&gt; | ExonicFunc.refGene &lt;chr&gt; | AAChange.refGene &lt;chr&gt; | ⋯ ⋯ | SiPhy_29way_logOdds &lt;dbl&gt; | p.value &lt;dbl&gt; | neg.log10.p.value &lt;dbl&gt; | cis.trans &lt;chr&gt; | gene_chr &lt;chr&gt; | gene_start &lt;int&gt; | gene_end &lt;int&gt; | window_start &lt;dbl&gt; | window_end &lt;dbl&gt; | gene &lt;chr&gt; |\n",
       "|---|---|---|---|---|---|---|---|---|---|---|---|---|---|---|---|---|---|---|---|---|\n",
       "| 19 |  16410530 |  16410530 | C | T | intergenic | AP1M1;KLF2      | dist=53816;dist=25107                                                                        | NA | NA | ⋯ | NA | 1.45986e-08 |  7.835689 | potential_novel | 19 |  58856544 |  58864865 |  56856544 |  60864865 | A1BG        |\n",
       "|  4 |  89150178 |  89150178 | C | G | intronic   | ABCG2           | <!----> | NA | NA | ⋯ | NA | 4.91508e-16 | 15.308469 | known           | 4  |  89011416 |  89152474 |  87011416 |  91152474 | ABCG2       |\n",
       "|  3 | 111687020 | 111687020 | C | G | intronic   | PHLDB2          | <!----> | NA | NA | ⋯ | NA | 1.76106e-08 |  7.754226 | known           | 3  | 111697857 | 111712210 | 109697857 | 113712210 | ABHD10      |\n",
       "|  2 |  71064202 |  71064202 | A | G | intergenic | CD207;LINC01143 | dist=1256;dist=50799                                                                         | NA | NA | ⋯ | NA | 2.05440e-08 |  7.687315 | potential_novel | 7  | 107383262 | 107385026 | 105383262 | 109385026 | AC002467.7  |\n",
       "| 12 |  47940721 |  47940721 | G | A | intergenic | LINC02156;RPAP3 | dist=126759;dist=114311                                                                      | NA | NA | ⋯ | NA | 1.24193e-08 |  7.905903 | potential_novel | 7  |  98610788 |  98645863 |  96610788 | 100645863 | AC004893.11 |\n",
       "|  7 | 102093094 | 102093094 | G | T | UTR3       | ORAI2           | NM_001271818:c.*5595G&gt;T;NM_001271819:c.*5595G&gt;T;NM_001126340:c.*5595G&gt;T;NM_032831:c.*5595G&gt;T | NA | NA | ⋯ | NA | 5.75532e-09 |  8.239931 | potential_novel | 7  |  44043645 |  44047465 |  42043645 |  46047465 | AC004951.6  |\n",
       "\n"
      ],
      "text/plain": [
       "  snp_Chr snp_Start snp_End   snp_Ref snp_Alt Func.refGene Gene.refGene   \n",
       "1 19       16410530  16410530 C       T       intergenic   AP1M1;KLF2     \n",
       "2  4       89150178  89150178 C       G       intronic     ABCG2          \n",
       "3  3      111687020 111687020 C       G       intronic     PHLDB2         \n",
       "4  2       71064202  71064202 A       G       intergenic   CD207;LINC01143\n",
       "5 12       47940721  47940721 G       A       intergenic   LINC02156;RPAP3\n",
       "6  7      102093094 102093094 G       T       UTR3         ORAI2          \n",
       "  GeneDetail.refGene                                                                          \n",
       "1 dist=53816;dist=25107                                                                       \n",
       "2                                                                                             \n",
       "3                                                                                             \n",
       "4 dist=1256;dist=50799                                                                        \n",
       "5 dist=126759;dist=114311                                                                     \n",
       "6 NM_001271818:c.*5595G>T;NM_001271819:c.*5595G>T;NM_001126340:c.*5595G>T;NM_032831:c.*5595G>T\n",
       "  ExonicFunc.refGene AAChange.refGene ⋯ SiPhy_29way_logOdds p.value    \n",
       "1 NA                 NA               ⋯ NA                  1.45986e-08\n",
       "2 NA                 NA               ⋯ NA                  4.91508e-16\n",
       "3 NA                 NA               ⋯ NA                  1.76106e-08\n",
       "4 NA                 NA               ⋯ NA                  2.05440e-08\n",
       "5 NA                 NA               ⋯ NA                  1.24193e-08\n",
       "6 NA                 NA               ⋯ NA                  5.75532e-09\n",
       "  neg.log10.p.value cis.trans       gene_chr gene_start gene_end  window_start\n",
       "1  7.835689         potential_novel 19        58856544   58864865  56856544   \n",
       "2 15.308469         known           4         89011416   89152474  87011416   \n",
       "3  7.754226         known           3        111697857  111712210 109697857   \n",
       "4  7.687315         potential_novel 7        107383262  107385026 105383262   \n",
       "5  7.905903         potential_novel 7         98610788   98645863  96610788   \n",
       "6  8.239931         potential_novel 7         44043645   44047465  42043645   \n",
       "  window_end gene       \n",
       "1  60864865  A1BG       \n",
       "2  91152474  ABCG2      \n",
       "3 113712210  ABHD10     \n",
       "4 109385026  AC002467.7 \n",
       "5 100645863  AC004893.11\n",
       "6  46047465  AC004951.6 "
      ]
     },
     "metadata": {},
     "output_type": "display_data"
    }
   ],
   "source": [
    "nrow(df_combine)\n",
    "head(df_combine)"
   ]
  },
  {
   "cell_type": "code",
   "execution_count": 16,
   "id": "dbdc0c70",
   "metadata": {},
   "outputs": [],
   "source": [
    "# create a matrix, SNP chromosome by gene chromosome\n",
    "mat=as.matrix(table(df_combine$snp_Chr, df_combine$gene_chr))\n",
    "# add \"chr\" to chromosome names\n",
    "rownames(mat) = paste0(\"chr\",rownames(mat))\n",
    "colnames(mat) = paste0(\"chr\",colnames(mat))\n",
    "# sort chromosomes from 1 to 22\n",
    "mat = mat[paste0(\"chr\",1:22),paste0(\"chr\",1:22)]"
   ]
  },
  {
   "cell_type": "code",
   "execution_count": 17,
   "id": "0907b696",
   "metadata": {},
   "outputs": [
    {
     "data": {
      "text/html": [
       "109"
      ],
      "text/latex": [
       "109"
      ],
      "text/markdown": [
       "109"
      ],
      "text/plain": [
       "[1] 109"
      ]
     },
     "metadata": {},
     "output_type": "display_data"
    }
   ],
   "source": [
    "max(mat)"
   ]
  },
  {
   "cell_type": "code",
   "execution_count": 18,
   "id": "f1ef70f6",
   "metadata": {},
   "outputs": [
    {
     "data": {
      "image/png": "[encoded data removed]",
      "text/plain": [
       "plot without title"
      ]
     },
     "metadata": {
      "image/png": {
       "height": 420,
       "width": 420
      }
     },
     "output_type": "display_data"
    }
   ],
   "source": [
    "# all results (cis + trans)\n",
    "col_fun = colorRamp2(c(0, max(mat)), c(\"white\", \"red\"))\n",
    "Heatmap(mat, cluster_rows = FALSE, cluster_columns = FALSE, name = \"Number \\nof eQTLs\", \n",
    "        row_title = \"snp chrom\", column_title = \"gene chrom\", col=col_fun)"
   ]
  },
  {
   "cell_type": "code",
   "execution_count": 19,
   "id": "faec97cd",
   "metadata": {},
   "outputs": [
    {
     "data": {
      "text/html": [
       "<strong>png:</strong> 2"
      ],
      "text/latex": [
       "\\textbf{png:} 2"
      ],
      "text/markdown": [
       "**png:** 2"
      ],
      "text/plain": [
       "png \n",
       "  2 "
      ]
     },
     "metadata": {},
     "output_type": "display_data"
    }
   ],
   "source": [
    "fig_dir <- \"/directflow/SCCGGroupShare/projects/anncuo/OneK1K/saige_eqtl/ms_figures/trans/\"\n",
    "pdf(paste0(fig_dir,\"CD4_NC_trans_cis_heatmap_pv_5e_8.pdf\"), width=10, height=10)\n",
    "Heatmap(mat, cluster_rows = FALSE, cluster_columns = FALSE, name = \"Number \\nof eQTLs\", \n",
    "        row_title = \"snp chrom\", column_title = \"gene chrom\", col=col_fun)\n",
    "dev.off()"
   ]
  },
  {
   "cell_type": "code",
   "execution_count": 20,
   "id": "3082c4c8",
   "metadata": {},
   "outputs": [
    {
     "data": {
      "text/plain": [
       "\n",
       "  cis trans \n",
       "  948   223 "
      ]
     },
     "metadata": {},
     "output_type": "display_data"
    }
   ],
   "source": [
    "# trans only (different chromosome and or not within 2Mb of gene)\n",
    "# df_combine_trans_only = df_combine[df_combine$cis.trans == \"potential_novel\"]\n",
    "df_combine$cis.trans.2mb = \"trans\"\n",
    "df_combine$snp_Chr = as.character(df_combine$snp_Chr)\n",
    "df_combine[df_combine$gene_chr == df_combine$snp_Chr & df_combine$snp_Start >= df_combine$window_start & df_combine$snp_Start <= df_combine$window_end, \"cis.trans.2mb\"] = \"cis\"\n",
    "table(df_combine$cis.trans.2mb)\n",
    "df_combine_trans_only = df_combine[df_combine$cis.trans.2mb == \"trans\"]"
   ]
  },
  {
   "cell_type": "code",
   "execution_count": 21,
   "id": "8e4cead6",
   "metadata": {},
   "outputs": [],
   "source": [
    "mat_trans=as.matrix(table(df_combine_trans_only$snp_Chr, df_combine_trans_only$gene_chr))\n",
    "rownames(mat_trans) = paste0(\"chr\",rownames(mat_trans))\n",
    "colnames(mat_trans) = paste0(\"chr\",colnames(mat_trans))\n",
    "mat_trans = mat_trans[paste0(\"chr\",1:22),paste0(\"chr\",1:22)]"
   ]
  },
  {
   "cell_type": "code",
   "execution_count": 22,
   "id": "1f4eb79c",
   "metadata": {},
   "outputs": [
    {
     "data": {
      "text/html": [
       "4"
      ],
      "text/latex": [
       "4"
      ],
      "text/markdown": [
       "4"
      ],
      "text/plain": [
       "[1] 4"
      ]
     },
     "metadata": {},
     "output_type": "display_data"
    }
   ],
   "source": [
    "max(mat_trans)"
   ]
  },
  {
   "cell_type": "code",
   "execution_count": 23,
   "id": "b1a4a635",
   "metadata": {},
   "outputs": [
    {
     "data": {
      "image/png": "[encoded data removed]",
      "text/plain": [
       "plot without title"
      ]
     },
     "metadata": {
      "image/png": {
       "height": 420,
       "width": 420
      }
     },
     "output_type": "display_data"
    }
   ],
   "source": [
    "col_fun = colorRamp2(c(0, max(mat_trans)), c(\"white\", \"red\"))\n",
    "Heatmap(mat_trans, cluster_rows = FALSE, cluster_columns = FALSE, name = \"Number of \\ntrans eQTLs\", \n",
    "        row_title = \"snp chrom\", column_title = \"gene chrom\", col=col_fun)"
   ]
  },
  {
   "cell_type": "code",
   "execution_count": 24,
   "id": "a5276d02",
   "metadata": {},
   "outputs": [
    {
     "data": {
      "text/html": [
       "<strong>png:</strong> 2"
      ],
      "text/latex": [
       "\\textbf{png:} 2"
      ],
      "text/markdown": [
       "**png:** 2"
      ],
      "text/plain": [
       "png \n",
       "  2 "
      ]
     },
     "metadata": {},
     "output_type": "display_data"
    }
   ],
   "source": [
    "fig_dir <- \"/directflow/SCCGGroupShare/projects/anncuo/OneK1K/saige_eqtl/ms_figures/trans/\"\n",
    "pdf(paste0(fig_dir,\"CD4_NC_trans_only_heatmap_pv_5e_8.pdf\"), width=10, height=10)\n",
    "Heatmap(mat_trans, cluster_rows = FALSE, cluster_columns = FALSE, name = \"Number of \\ntrans eQTLs\", \n",
    "        row_title = \"snp chrom\", column_title = \"gene chrom\", col=col_fun)\n",
    "dev.off()"
   ]
  },
  {
   "cell_type": "code",
   "execution_count": null,
   "id": "4f3a8aa6",
   "metadata": {},
   "outputs": [],
   "source": []
  },
  {
   "cell_type": "code",
   "execution_count": 25,
   "id": "e9d7bdd9",
   "metadata": {},
   "outputs": [
    {
     "data": {
      "text/html": [
       "223"
      ],
      "text/latex": [
       "223"
      ],
      "text/markdown": [
       "223"
      ],
      "text/plain": [
       "[1] 223"
      ]
     },
     "metadata": {},
     "output_type": "display_data"
    }
   ],
   "source": [
    "nrow(df_combine_trans_only)"
   ]
  },
  {
   "cell_type": "code",
   "execution_count": 26,
   "id": "1a658b82",
   "metadata": {},
   "outputs": [],
   "source": [
    "fwrite(df_combine_trans_only, \"/directflow/SCCGGroupShare/projects/anncuo/OneK1K/saige_eqtl/for_wei/trans/CD4_NC_trans_eqtls_p5e_8.txt\")"
   ]
  },
  {
   "cell_type": "code",
   "execution_count": null,
   "id": "82e97a72",
   "metadata": {},
   "outputs": [],
   "source": []
  }
 ],
 "metadata": {
  "kernelspec": {
   "display_name": "Single Cell Notebook (R 4.1.2)",
   "language": "R",
   "name": "singlecell"
  },
  "language_info": {
   "codemirror_mode": "r",
   "file_extension": ".r",
   "mimetype": "text/x-r-source",
   "name": "R",
   "pygments_lexer": "r",
   "version": "4.1.2"
  }
 },
 "nbformat": 4,
 "nbformat_minor": 5
}
