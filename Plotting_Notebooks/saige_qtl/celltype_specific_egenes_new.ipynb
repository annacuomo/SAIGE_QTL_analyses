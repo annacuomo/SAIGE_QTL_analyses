{
 "cells": [
  {
   "cell_type": "code",
   "execution_count": 1,
   "id": "983110dc",
   "metadata": {},
   "outputs": [],
   "source": [
    "library(qvalue)\n",
    "library(UpSetR)"
   ]
  },
  {
   "cell_type": "code",
   "execution_count": 2,
   "id": "61cf2506",
   "metadata": {},
   "outputs": [],
   "source": [
    "results_dir = \"/directflow/SCCGGroupShare/projects/anncuo/OneK1K/saige_eqtl/from_wei/Feb24/\""
   ]
  },
  {
   "cell_type": "code",
   "execution_count": 24,
   "id": "4c98ded4",
   "metadata": {},
   "outputs": [
    {
     "data": {
      "text/html": [
       "<table class=\"dataframe\">\n",
       "<caption>A data.frame: 2 × 31</caption>\n",
       "<thead>\n",
       "\t<tr><th></th><th scope=col>celltype</th><th scope=col>gene</th><th scope=col>R1</th><th scope=col>R2</th><th scope=col>R3</th><th scope=col>R4</th><th scope=col>R5</th><th scope=col>R6</th><th scope=col>pval_beta</th><th scope=col>pval_nominal</th><th scope=col>⋯</th><th scope=col>R3_Loci</th><th scope=col>R4_Loci</th><th scope=col>R5_Loci</th><th scope=col>R6_Loci</th><th scope=col>R1_topPval</th><th scope=col>R2_topPval</th><th scope=col>R3_topPval</th><th scope=col>R4_topPval</th><th scope=col>R5_topPval</th><th scope=col>R6_topPval</th></tr>\n",
       "\t<tr><th></th><th scope=col>&lt;chr&gt;</th><th scope=col>&lt;chr&gt;</th><th scope=col>&lt;dbl&gt;</th><th scope=col>&lt;dbl&gt;</th><th scope=col>&lt;dbl&gt;</th><th scope=col>&lt;dbl&gt;</th><th scope=col>&lt;dbl&gt;</th><th scope=col>&lt;dbl&gt;</th><th scope=col>&lt;dbl&gt;</th><th scope=col>&lt;dbl&gt;</th><th scope=col>⋯</th><th scope=col>&lt;chr&gt;</th><th scope=col>&lt;chr&gt;</th><th scope=col>&lt;chr&gt;</th><th scope=col>&lt;chr&gt;</th><th scope=col>&lt;dbl&gt;</th><th scope=col>&lt;dbl&gt;</th><th scope=col>&lt;dbl&gt;</th><th scope=col>&lt;dbl&gt;</th><th scope=col>&lt;dbl&gt;</th><th scope=col>&lt;dbl&gt;</th></tr>\n",
       "</thead>\n",
       "<tbody>\n",
       "\t<tr><th scope=row>1</th><td>B_IN</td><td>A1BG    </td><td>0.00170947</td><td>0.3706712</td><td>0.7981946</td><td>1.0000000</td><td>1.0000000</td><td>1.0000000</td><td>0.0040709</td><td>6.147731e-06</td><td>⋯</td><td>19:57957633:T:A</td><td>19:57863937:T:C</td><td>19:58872853:G:C</td><td>19:58733610:G:T</td><td>1.13564e-05</td><td>0.00402990</td><td>0.00845249</td><td>0.00692103</td><td>0.0119666</td><td>0.0103745</td></tr>\n",
       "\t<tr><th scope=row>2</th><td>B_IN</td><td>A1BG.AS1</td><td>0.86506417</td><td>0.7648255</td><td>0.7769261</td><td>0.8074401</td><td>0.8690257</td><td>0.8953325</td><td>0.1423371</td><td>4.116421e-04</td><td>⋯</td><td>19:58824721:C:T</td><td>19:57859145:G:T</td><td>19:57945146:T:A</td><td>19:58748944:G:A</td><td>5.88327e-03</td><td>0.00940976</td><td>0.02022780</td><td>0.06795570</td><td>0.3637510</td><td>0.0601790</td></tr>\n",
       "</tbody>\n",
       "</table>\n"
      ],
      "text/latex": [
       "A data.frame: 2 × 31\n",
       "\\begin{tabular}{r|lllllllllllllllllllll}\n",
       "  & celltype & gene & R1 & R2 & R3 & R4 & R5 & R6 & pval\\_beta & pval\\_nominal & ⋯ & R3\\_Loci & R4\\_Loci & R5\\_Loci & R6\\_Loci & R1\\_topPval & R2\\_topPval & R3\\_topPval & R4\\_topPval & R5\\_topPval & R6\\_topPval\\\\\n",
       "  & <chr> & <chr> & <dbl> & <dbl> & <dbl> & <dbl> & <dbl> & <dbl> & <dbl> & <dbl> & ⋯ & <chr> & <chr> & <chr> & <chr> & <dbl> & <dbl> & <dbl> & <dbl> & <dbl> & <dbl>\\\\\n",
       "\\hline\n",
       "\t1 & B\\_IN & A1BG     & 0.00170947 & 0.3706712 & 0.7981946 & 1.0000000 & 1.0000000 & 1.0000000 & 0.0040709 & 6.147731e-06 & ⋯ & 19:57957633:T:A & 19:57863937:T:C & 19:58872853:G:C & 19:58733610:G:T & 1.13564e-05 & 0.00402990 & 0.00845249 & 0.00692103 & 0.0119666 & 0.0103745\\\\\n",
       "\t2 & B\\_IN & A1BG.AS1 & 0.86506417 & 0.7648255 & 0.7769261 & 0.8074401 & 0.8690257 & 0.8953325 & 0.1423371 & 4.116421e-04 & ⋯ & 19:58824721:C:T & 19:57859145:G:T & 19:57945146:T:A & 19:58748944:G:A & 5.88327e-03 & 0.00940976 & 0.02022780 & 0.06795570 & 0.3637510 & 0.0601790\\\\\n",
       "\\end{tabular}\n"
      ],
      "text/markdown": [
       "\n",
       "A data.frame: 2 × 31\n",
       "\n",
       "| <!--/--> | celltype &lt;chr&gt; | gene &lt;chr&gt; | R1 &lt;dbl&gt; | R2 &lt;dbl&gt; | R3 &lt;dbl&gt; | R4 &lt;dbl&gt; | R5 &lt;dbl&gt; | R6 &lt;dbl&gt; | pval_beta &lt;dbl&gt; | pval_nominal &lt;dbl&gt; | ⋯ ⋯ | R3_Loci &lt;chr&gt; | R4_Loci &lt;chr&gt; | R5_Loci &lt;chr&gt; | R6_Loci &lt;chr&gt; | R1_topPval &lt;dbl&gt; | R2_topPval &lt;dbl&gt; | R3_topPval &lt;dbl&gt; | R4_topPval &lt;dbl&gt; | R5_topPval &lt;dbl&gt; | R6_topPval &lt;dbl&gt; |\n",
       "|---|---|---|---|---|---|---|---|---|---|---|---|---|---|---|---|---|---|---|---|---|---|\n",
       "| 1 | B_IN | A1BG     | 0.00170947 | 0.3706712 | 0.7981946 | 1.0000000 | 1.0000000 | 1.0000000 | 0.0040709 | 6.147731e-06 | ⋯ | 19:57957633:T:A | 19:57863937:T:C | 19:58872853:G:C | 19:58733610:G:T | 1.13564e-05 | 0.00402990 | 0.00845249 | 0.00692103 | 0.0119666 | 0.0103745 |\n",
       "| 2 | B_IN | A1BG.AS1 | 0.86506417 | 0.7648255 | 0.7769261 | 0.8074401 | 0.8690257 | 0.8953325 | 0.1423371 | 4.116421e-04 | ⋯ | 19:58824721:C:T | 19:57859145:G:T | 19:57945146:T:A | 19:58748944:G:A | 5.88327e-03 | 0.00940976 | 0.02022780 | 0.06795570 | 0.3637510 | 0.0601790 |\n",
       "\n"
      ],
      "text/plain": [
       "  celltype gene     R1         R2        R3        R4        R5       \n",
       "1 B_IN     A1BG     0.00170947 0.3706712 0.7981946 1.0000000 1.0000000\n",
       "2 B_IN     A1BG.AS1 0.86506417 0.7648255 0.7769261 0.8074401 0.8690257\n",
       "  R6        pval_beta pval_nominal ⋯ R3_Loci         R4_Loci        \n",
       "1 1.0000000 0.0040709 6.147731e-06 ⋯ 19:57957633:T:A 19:57863937:T:C\n",
       "2 0.8953325 0.1423371 4.116421e-04 ⋯ 19:58824721:C:T 19:57859145:G:T\n",
       "  R5_Loci         R6_Loci         R1_topPval  R2_topPval R3_topPval R4_topPval\n",
       "1 19:58872853:G:C 19:58733610:G:T 1.13564e-05 0.00402990 0.00845249 0.00692103\n",
       "2 19:57945146:T:A 19:58748944:G:A 5.88327e-03 0.00940976 0.02022780 0.06795570\n",
       "  R5_topPval R6_topPval\n",
       "1 0.0119666  0.0103745 \n",
       "2 0.3637510  0.0601790 "
      ]
     },
     "metadata": {},
     "output_type": "display_data"
    }
   ],
   "source": [
    "file = paste0(results_dir, \"all_ct_loci.list.withCate.qvalue\")\n",
    "df = read.csv(file, sep=\"\\t\")\n",
    "head(df)"
   ]
  },
  {
   "cell_type": "code",
   "execution_count": 58,
   "id": "d484537a",
   "metadata": {},
   "outputs": [
    {
     "data": {
      "text/html": [
       "16250"
      ],
      "text/latex": [
       "16250"
      ],
      "text/markdown": [
       "16250"
      ],
      "text/plain": [
       "[1] 16250"
      ]
     },
     "metadata": {},
     "output_type": "display_data"
    },
    {
     "data": {
      "text/html": [
       "4537"
      ],
      "text/latex": [
       "4537"
      ],
      "text/markdown": [
       "4537"
      ],
      "text/plain": [
       "[1] 4537"
      ]
     },
     "metadata": {},
     "output_type": "display_data"
    }
   ],
   "source": [
    "length(unique(df$gene))\n",
    "length(unique(df[df$qval<0.05,\"gene\"]))"
   ]
  },
  {
   "cell_type": "code",
   "execution_count": 10,
   "id": "e59e2f46",
   "metadata": {},
   "outputs": [],
   "source": [
    "celltypes = c(\"B_IN\",\"B_Mem\",\"CD4_NC\", \"CD4_ET\", \"CD4_SOX4\", \"CD8_NC\", \"CD8_ET\",\n",
    "              \"CD8_S100B\", \"DC\", \"Mono_C\", \"Mono_NC\", \"NK_R\", \"NK\", \"Plasma\")"
   ]
  },
  {
   "cell_type": "code",
   "execution_count": 16,
   "id": "3d86240f",
   "metadata": {},
   "outputs": [],
   "source": [
    "listInput <- list()\n",
    "for (celltype in celltypes){\n",
    "    df_curr = df[df$celltype == celltype,]\n",
    "    genes = df_curr[df_curr$qval<0.05,\"gene\"]\n",
    "    listInput[[celltype]] <- genes\n",
    "}"
   ]
  },
  {
   "cell_type": "code",
   "execution_count": 18,
   "id": "d92a887f",
   "metadata": {},
   "outputs": [
    {
     "data": {
      "text/html": [
       "14"
      ],
      "text/latex": [
       "14"
      ],
      "text/markdown": [
       "14"
      ],
      "text/plain": [
       "[1] 14"
      ]
     },
     "metadata": {},
     "output_type": "display_data"
    }
   ],
   "source": [
    "length(listInput)"
   ]
  },
  {
   "cell_type": "code",
   "execution_count": 19,
   "id": "98bdcf34",
   "metadata": {},
   "outputs": [
    {
     "data": {
      "image/png": "[encoded data removed]",
      "text/plain": [
       "plot without title"
      ]
     },
     "metadata": {
      "image/png": {
       "height": 600,
       "width": 1080
      }
     },
     "output_type": "display_data"
    }
   ],
   "source": [
    "options(repr.plot.width = 18, repr.plot.height = 10) \n",
    "upset(fromList(listInput), nsets = 14, order.by = \"freq\")"
   ]
  },
  {
   "cell_type": "code",
   "execution_count": null,
   "id": "86bf0969",
   "metadata": {},
   "outputs": [],
   "source": []
  },
  {
   "cell_type": "code",
   "execution_count": 21,
   "id": "5495f0ca",
   "metadata": {},
   "outputs": [],
   "source": [
    "df_colours = data.frame(colours = c(\"#882E72\",\"#B178A6\",\"#D6C1DE\",\"#1965B0\",\"#5289C7\",\"#7BAFDE\",\"#4EB265\",\n",
    "                                    \"#90C987\",\"#CAE0AB\",\"#F7EE55\",\"#F6C141\",\"#F1932D\",\"#E8601C\",\"#DC050C\"),\n",
    "                        celltype = c(\"CD4_NC\",\"CD4_ET\",\"CD4_SOX4\",\"CD8_ET\",\"CD8_NC\",\"CD8_S100B\",\"NK\",\"NK_R\",\n",
    "                                     \"Plasma\",\"B_Mem\",\"B_IN\",\"Mono_C\",\"Mono_NC\",\"DC\"))"
   ]
  },
  {
   "cell_type": "code",
   "execution_count": 22,
   "id": "5f510afb",
   "metadata": {},
   "outputs": [
    {
     "data": {
      "text/html": [
       "<table class=\"dataframe\">\n",
       "<caption>A data.frame: 14 × 2</caption>\n",
       "<thead>\n",
       "\t<tr><th scope=col>colours</th><th scope=col>celltype</th></tr>\n",
       "\t<tr><th scope=col>&lt;chr&gt;</th><th scope=col>&lt;chr&gt;</th></tr>\n",
       "</thead>\n",
       "<tbody>\n",
       "\t<tr><td>#882E72</td><td>CD4_NC   </td></tr>\n",
       "\t<tr><td>#B178A6</td><td>CD4_ET   </td></tr>\n",
       "\t<tr><td>#D6C1DE</td><td>CD4_SOX4 </td></tr>\n",
       "\t<tr><td>#1965B0</td><td>CD8_ET   </td></tr>\n",
       "\t<tr><td>#5289C7</td><td>CD8_NC   </td></tr>\n",
       "\t<tr><td>#7BAFDE</td><td>CD8_S100B</td></tr>\n",
       "\t<tr><td>#4EB265</td><td>NK       </td></tr>\n",
       "\t<tr><td>#90C987</td><td>NK_R     </td></tr>\n",
       "\t<tr><td>#CAE0AB</td><td>Plasma   </td></tr>\n",
       "\t<tr><td>#F7EE55</td><td>B_Mem    </td></tr>\n",
       "\t<tr><td>#F6C141</td><td>B_IN     </td></tr>\n",
       "\t<tr><td>#F1932D</td><td>Mono_C   </td></tr>\n",
       "\t<tr><td>#E8601C</td><td>Mono_NC  </td></tr>\n",
       "\t<tr><td>#DC050C</td><td>DC       </td></tr>\n",
       "</tbody>\n",
       "</table>\n"
      ],
      "text/latex": [
       "A data.frame: 14 × 2\n",
       "\\begin{tabular}{ll}\n",
       " colours & celltype\\\\\n",
       " <chr> & <chr>\\\\\n",
       "\\hline\n",
       "\t \\#882E72 & CD4\\_NC   \\\\\n",
       "\t \\#B178A6 & CD4\\_ET   \\\\\n",
       "\t \\#D6C1DE & CD4\\_SOX4 \\\\\n",
       "\t \\#1965B0 & CD8\\_ET   \\\\\n",
       "\t \\#5289C7 & CD8\\_NC   \\\\\n",
       "\t \\#7BAFDE & CD8\\_S100B\\\\\n",
       "\t \\#4EB265 & NK       \\\\\n",
       "\t \\#90C987 & NK\\_R     \\\\\n",
       "\t \\#CAE0AB & Plasma   \\\\\n",
       "\t \\#F7EE55 & B\\_Mem    \\\\\n",
       "\t \\#F6C141 & B\\_IN     \\\\\n",
       "\t \\#F1932D & Mono\\_C   \\\\\n",
       "\t \\#E8601C & Mono\\_NC  \\\\\n",
       "\t \\#DC050C & DC       \\\\\n",
       "\\end{tabular}\n"
      ],
      "text/markdown": [
       "\n",
       "A data.frame: 14 × 2\n",
       "\n",
       "| colours &lt;chr&gt; | celltype &lt;chr&gt; |\n",
       "|---|---|\n",
       "| #882E72 | CD4_NC    |\n",
       "| #B178A6 | CD4_ET    |\n",
       "| #D6C1DE | CD4_SOX4  |\n",
       "| #1965B0 | CD8_ET    |\n",
       "| #5289C7 | CD8_NC    |\n",
       "| #7BAFDE | CD8_S100B |\n",
       "| #4EB265 | NK        |\n",
       "| #90C987 | NK_R      |\n",
       "| #CAE0AB | Plasma    |\n",
       "| #F7EE55 | B_Mem     |\n",
       "| #F6C141 | B_IN      |\n",
       "| #F1932D | Mono_C    |\n",
       "| #E8601C | Mono_NC   |\n",
       "| #DC050C | DC        |\n",
       "\n"
      ],
      "text/plain": [
       "   colours celltype \n",
       "1  #882E72 CD4_NC   \n",
       "2  #B178A6 CD4_ET   \n",
       "3  #D6C1DE CD4_SOX4 \n",
       "4  #1965B0 CD8_ET   \n",
       "5  #5289C7 CD8_NC   \n",
       "6  #7BAFDE CD8_S100B\n",
       "7  #4EB265 NK       \n",
       "8  #90C987 NK_R     \n",
       "9  #CAE0AB Plasma   \n",
       "10 #F7EE55 B_Mem    \n",
       "11 #F6C141 B_IN     \n",
       "12 #F1932D Mono_C   \n",
       "13 #E8601C Mono_NC  \n",
       "14 #DC050C DC       "
      ]
     },
     "metadata": {},
     "output_type": "display_data"
    }
   ],
   "source": [
    "df_colours"
   ]
  },
  {
   "cell_type": "code",
   "execution_count": 53,
   "id": "1e3a87b8",
   "metadata": {},
   "outputs": [
    {
     "data": {
      "image/png": "[encoded data removed]",
      "text/plain": [
       "plot without title"
      ]
     },
     "metadata": {
      "image/png": {
       "height": 600,
       "width": 1080
      }
     },
     "output_type": "display_data"
    }
   ],
   "source": [
    "upset(fromList(listInput), nsets = 14, order.by = \"freq\", main.bar.color = \"black\", \n",
    "      queries = list(list(query = intersects, params = list(celltypes[1]), color=df_colours[df_colours$celltype==celltypes[1],\"colours\"], active = T),\n",
    "                     list(query = intersects, params = list(celltypes[2]), color=df_colours[df_colours$celltype==celltypes[2],\"colours\"], active = T),\n",
    "                     list(query = intersects, params = list(celltypes[3]), color=df_colours[df_colours$celltype==celltypes[3],\"colours\"], active = T),\n",
    "                     list(query = intersects, params = list(celltypes[4]), color=df_colours[df_colours$celltype==celltypes[4],\"colours\"], active = T),\n",
    "#                      list(query = intersects, params = list(celltypes[5]), color=df_colours[df_colours$celltype==celltypes[5],\"colours\"], active = T),\n",
    "                     list(query = intersects, params = list(celltypes[6]), color=df_colours[df_colours$celltype==celltypes[6],\"colours\"], active = T),\n",
    "                     list(query = intersects, params = list(celltypes[7]), color=df_colours[df_colours$celltype==celltypes[7],\"colours\"], active = T),\n",
    "                     list(query = intersects, params = list(celltypes[8]), color=df_colours[df_colours$celltype==celltypes[8],\"colours\"], active = T),\n",
    "                     list(query = intersects, params = list(celltypes[9]), color=df_colours[df_colours$celltype==celltypes[9],\"colours\"], active = T),\n",
    "                     list(query = intersects, params = list(celltypes[10]), color=df_colours[df_colours$celltype==celltypes[10],\"colours\"], active = T),\n",
    "                     list(query = intersects, params = list(celltypes[11]), color=df_colours[df_colours$celltype==celltypes[11],\"colours\"], active = T),\n",
    "#                      list(query = intersects, params = list(celltypes[12]), color=df_colours[df_colours$celltype==celltypes[12],\"colours\"], active = T),\n",
    "                     list(query = intersects, params = list(celltypes[13]), color=df_colours[df_colours$celltype==celltypes[13],\"colours\"], active = T)#,\n",
    "#                      list(query = intersects, params = list(celltypes[14]), color=df_colours[df_colours$celltype==celltypes[14],\"colours\"], active = T)\n",
    "                    ))"
   ]
  },
  {
   "cell_type": "code",
   "execution_count": 38,
   "id": "94eecd56",
   "metadata": {
    "scrolled": false
   },
   "outputs": [
    {
     "data": {
      "text/html": [
       "<table class=\"dataframe\">\n",
       "<caption>A data.frame: 6 × 14</caption>\n",
       "<thead>\n",
       "\t<tr><th></th><th scope=col>B_IN</th><th scope=col>B_Mem</th><th scope=col>CD4_NC</th><th scope=col>CD4_ET</th><th scope=col>CD4_SOX4</th><th scope=col>CD8_NC</th><th scope=col>CD8_ET</th><th scope=col>CD8_S100B</th><th scope=col>DC</th><th scope=col>Mono_C</th><th scope=col>Mono_NC</th><th scope=col>NK_R</th><th scope=col>NK</th><th scope=col>Plasma</th></tr>\n",
       "\t<tr><th></th><th scope=col>&lt;int&gt;</th><th scope=col>&lt;int&gt;</th><th scope=col>&lt;int&gt;</th><th scope=col>&lt;int&gt;</th><th scope=col>&lt;int&gt;</th><th scope=col>&lt;int&gt;</th><th scope=col>&lt;int&gt;</th><th scope=col>&lt;int&gt;</th><th scope=col>&lt;int&gt;</th><th scope=col>&lt;int&gt;</th><th scope=col>&lt;int&gt;</th><th scope=col>&lt;int&gt;</th><th scope=col>&lt;int&gt;</th><th scope=col>&lt;int&gt;</th></tr>\n",
       "</thead>\n",
       "<tbody>\n",
       "\t<tr><th scope=row>1</th><td>1</td><td>0</td><td>1</td><td>0</td><td>0</td><td>0</td><td>0</td><td>0</td><td>0</td><td>0</td><td>0</td><td>0</td><td>0</td><td>0</td></tr>\n",
       "\t<tr><th scope=row>2</th><td>1</td><td>0</td><td>1</td><td>1</td><td>0</td><td>1</td><td>1</td><td>0</td><td>0</td><td>1</td><td>1</td><td>0</td><td>1</td><td>0</td></tr>\n",
       "\t<tr><th scope=row>3</th><td>1</td><td>1</td><td>1</td><td>0</td><td>0</td><td>0</td><td>0</td><td>0</td><td>0</td><td>0</td><td>0</td><td>0</td><td>1</td><td>0</td></tr>\n",
       "\t<tr><th scope=row>4</th><td>1</td><td>0</td><td>1</td><td>1</td><td>0</td><td>0</td><td>0</td><td>0</td><td>0</td><td>0</td><td>0</td><td>0</td><td>0</td><td>0</td></tr>\n",
       "\t<tr><th scope=row>5</th><td>1</td><td>0</td><td>1</td><td>0</td><td>0</td><td>0</td><td>1</td><td>0</td><td>0</td><td>0</td><td>0</td><td>0</td><td>0</td><td>0</td></tr>\n",
       "\t<tr><th scope=row>6</th><td>1</td><td>0</td><td>1</td><td>0</td><td>0</td><td>1</td><td>1</td><td>0</td><td>0</td><td>0</td><td>0</td><td>0</td><td>1</td><td>0</td></tr>\n",
       "</tbody>\n",
       "</table>\n"
      ],
      "text/latex": [
       "A data.frame: 6 × 14\n",
       "\\begin{tabular}{r|llllllllllllll}\n",
       "  & B\\_IN & B\\_Mem & CD4\\_NC & CD4\\_ET & CD4\\_SOX4 & CD8\\_NC & CD8\\_ET & CD8\\_S100B & DC & Mono\\_C & Mono\\_NC & NK\\_R & NK & Plasma\\\\\n",
       "  & <int> & <int> & <int> & <int> & <int> & <int> & <int> & <int> & <int> & <int> & <int> & <int> & <int> & <int>\\\\\n",
       "\\hline\n",
       "\t1 & 1 & 0 & 1 & 0 & 0 & 0 & 0 & 0 & 0 & 0 & 0 & 0 & 0 & 0\\\\\n",
       "\t2 & 1 & 0 & 1 & 1 & 0 & 1 & 1 & 0 & 0 & 1 & 1 & 0 & 1 & 0\\\\\n",
       "\t3 & 1 & 1 & 1 & 0 & 0 & 0 & 0 & 0 & 0 & 0 & 0 & 0 & 1 & 0\\\\\n",
       "\t4 & 1 & 0 & 1 & 1 & 0 & 0 & 0 & 0 & 0 & 0 & 0 & 0 & 0 & 0\\\\\n",
       "\t5 & 1 & 0 & 1 & 0 & 0 & 0 & 1 & 0 & 0 & 0 & 0 & 0 & 0 & 0\\\\\n",
       "\t6 & 1 & 0 & 1 & 0 & 0 & 1 & 1 & 0 & 0 & 0 & 0 & 0 & 1 & 0\\\\\n",
       "\\end{tabular}\n"
      ],
      "text/markdown": [
       "\n",
       "A data.frame: 6 × 14\n",
       "\n",
       "| <!--/--> | B_IN &lt;int&gt; | B_Mem &lt;int&gt; | CD4_NC &lt;int&gt; | CD4_ET &lt;int&gt; | CD4_SOX4 &lt;int&gt; | CD8_NC &lt;int&gt; | CD8_ET &lt;int&gt; | CD8_S100B &lt;int&gt; | DC &lt;int&gt; | Mono_C &lt;int&gt; | Mono_NC &lt;int&gt; | NK_R &lt;int&gt; | NK &lt;int&gt; | Plasma &lt;int&gt; |\n",
       "|---|---|---|---|---|---|---|---|---|---|---|---|---|---|---|\n",
       "| 1 | 1 | 0 | 1 | 0 | 0 | 0 | 0 | 0 | 0 | 0 | 0 | 0 | 0 | 0 |\n",
       "| 2 | 1 | 0 | 1 | 1 | 0 | 1 | 1 | 0 | 0 | 1 | 1 | 0 | 1 | 0 |\n",
       "| 3 | 1 | 1 | 1 | 0 | 0 | 0 | 0 | 0 | 0 | 0 | 0 | 0 | 1 | 0 |\n",
       "| 4 | 1 | 0 | 1 | 1 | 0 | 0 | 0 | 0 | 0 | 0 | 0 | 0 | 0 | 0 |\n",
       "| 5 | 1 | 0 | 1 | 0 | 0 | 0 | 1 | 0 | 0 | 0 | 0 | 0 | 0 | 0 |\n",
       "| 6 | 1 | 0 | 1 | 0 | 0 | 1 | 1 | 0 | 0 | 0 | 0 | 0 | 1 | 0 |\n",
       "\n"
      ],
      "text/plain": [
       "  B_IN B_Mem CD4_NC CD4_ET CD4_SOX4 CD8_NC CD8_ET CD8_S100B DC Mono_C Mono_NC\n",
       "1 1    0     1      0      0        0      0      0         0  0      0      \n",
       "2 1    0     1      1      0        1      1      0         0  1      1      \n",
       "3 1    1     1      0      0        0      0      0         0  0      0      \n",
       "4 1    0     1      1      0        0      0      0         0  0      0      \n",
       "5 1    0     1      0      0        0      1      0         0  0      0      \n",
       "6 1    0     1      0      0        1      1      0         0  0      0      \n",
       "  NK_R NK Plasma\n",
       "1 0    0  0     \n",
       "2 0    1  0     \n",
       "3 0    1  0     \n",
       "4 0    0  0     \n",
       "5 0    0  0     \n",
       "6 0    1  0     "
      ]
     },
     "metadata": {},
     "output_type": "display_data"
    }
   ],
   "source": [
    "df1 = fromList(listInput)\n",
    "head(df1)"
   ]
  },
  {
   "cell_type": "code",
   "execution_count": 39,
   "id": "170b9ba9",
   "metadata": {},
   "outputs": [
    {
     "data": {
      "text/html": [
       "4537"
      ],
      "text/latex": [
       "4537"
      ],
      "text/markdown": [
       "4537"
      ],
      "text/plain": [
       "[1] 4537"
      ]
     },
     "metadata": {},
     "output_type": "display_data"
    }
   ],
   "source": [
    "nrow(df1)"
   ]
  },
  {
   "cell_type": "code",
   "execution_count": 43,
   "id": "079c11f5",
   "metadata": {},
   "outputs": [
    {
     "data": {
      "text/html": [
       "0"
      ],
      "text/latex": [
       "0"
      ],
      "text/markdown": [
       "0"
      ],
      "text/plain": [
       "[1] 0"
      ]
     },
     "metadata": {},
     "output_type": "display_data"
    }
   ],
   "source": [
    "nrow(df1[rowSums(df1)==0,])"
   ]
  },
  {
   "cell_type": "code",
   "execution_count": 59,
   "id": "5da1eced",
   "metadata": {},
   "outputs": [
    {
     "data": {
      "text/html": [
       "2213"
      ],
      "text/latex": [
       "2213"
      ],
      "text/markdown": [
       "2213"
      ],
      "text/plain": [
       "[1] 2213"
      ]
     },
     "metadata": {},
     "output_type": "display_data"
    },
    {
     "data": {
      "text/html": [
       "0.487767247079568"
      ],
      "text/latex": [
       "0.487767247079568"
      ],
      "text/markdown": [
       "0.487767247079568"
      ],
      "text/plain": [
       "[1] 0.4877672"
      ]
     },
     "metadata": {},
     "output_type": "display_data"
    }
   ],
   "source": [
    "nrow(df1[rowSums(df1)==1,])\n",
    "nrow(df1[rowSums(df1)==1,])/nrow(df1)"
   ]
  },
  {
   "cell_type": "code",
   "execution_count": 44,
   "id": "bc3fc483",
   "metadata": {},
   "outputs": [
    {
     "data": {
      "text/html": [
       "2324"
      ],
      "text/latex": [
       "2324"
      ],
      "text/markdown": [
       "2324"
      ],
      "text/plain": [
       "[1] 2324"
      ]
     },
     "metadata": {},
     "output_type": "display_data"
    }
   ],
   "source": [
    "nrow(df1[rowSums(df1)>1,])"
   ]
  },
  {
   "cell_type": "code",
   "execution_count": null,
   "id": "7334b720",
   "metadata": {},
   "outputs": [],
   "source": []
  }
 ],
 "metadata": {
  "kernelspec": {
   "display_name": "Single Cell Notebook (R 4.1.2)",
   "language": "R",
   "name": "singlecell"
  },
  "language_info": {
   "codemirror_mode": "r",
   "file_extension": ".r",
   "mimetype": "text/x-r-source",
   "name": "R",
   "pygments_lexer": "r",
   "version": "4.1.2"
  }
 },
 "nbformat": 4,
 "nbformat_minor": 5
}
