{
 "cells": [
  {
   "cell_type": "code",
   "execution_count": 5,
   "id": "ca6be13e",
   "metadata": {},
   "outputs": [],
   "source": [
    "library(data.table)\n",
    "library(qvalue)"
   ]
  },
  {
   "cell_type": "code",
   "execution_count": 6,
   "id": "fa4b433d",
   "metadata": {},
   "outputs": [],
   "source": [
    "# Rare Variant results\n",
    "saige_dir = \"/directflow/SCCGGroupShare/projects/anncuo/OneK1K/saige_eqtl/from_wei/Feb24/\"\n",
    "rv_file = paste0(saige_dir, \"all_cis_rare_with_dTSS_weights.results.txt\")\n",
    "df = as.data.frame(fread(rv_file))"
   ]
  },
  {
   "cell_type": "code",
   "execution_count": 8,
   "id": "7b98fc49",
   "metadata": {},
   "outputs": [
    {
     "data": {
      "text/html": [
       "156351"
      ],
      "text/latex": [
       "156351"
      ],
      "text/markdown": [
       "156351"
      ],
      "text/plain": [
       "[1] 156351"
      ]
     },
     "metadata": {},
     "output_type": "display_data"
    },
    {
     "data": {
      "text/html": [
       "<table class=\"dataframe\">\n",
       "<caption>A data.frame: 6 × 18</caption>\n",
       "<thead>\n",
       "\t<tr><th></th><th scope=col>celltype</th><th scope=col>Region</th><th scope=col>Group</th><th scope=col>min_MAF</th><th scope=col>max_MAF</th><th scope=col>Weight</th><th scope=col>Pvalue</th><th scope=col>Pvalue_ACATV</th><th scope=col>Pvalue_SKATO</th><th scope=col>Pvalue_Burden</th><th scope=col>Pvalue_SKAT</th><th scope=col>BETA_Burden</th><th scope=col>SE_Burden</th><th scope=col>MAC</th><th scope=col>Number_rare</th><th scope=col>Number_ultra_rare</th><th scope=col>gene</th><th scope=col>qv</th></tr>\n",
       "\t<tr><th></th><th scope=col>&lt;chr&gt;</th><th scope=col>&lt;chr&gt;</th><th scope=col>&lt;chr&gt;</th><th scope=col>&lt;int&gt;</th><th scope=col>&lt;dbl&gt;</th><th scope=col>&lt;chr&gt;</th><th scope=col>&lt;dbl&gt;</th><th scope=col>&lt;dbl&gt;</th><th scope=col>&lt;lgl&gt;</th><th scope=col>&lt;dbl&gt;</th><th scope=col>&lt;dbl&gt;</th><th scope=col>&lt;dbl&gt;</th><th scope=col>&lt;dbl&gt;</th><th scope=col>&lt;dbl&gt;</th><th scope=col>&lt;int&gt;</th><th scope=col>&lt;int&gt;</th><th scope=col>&lt;chr&gt;</th><th scope=col>&lt;dbl&gt;</th></tr>\n",
       "</thead>\n",
       "<tbody>\n",
       "\t<tr><th scope=row>4</th><td>Plasma</td><td>A1BG </td><td>Cauchy</td><td>NA</td><td>NA</td><td>NA</td><td>0.7907711</td><td>0.6200851</td><td>NA</td><td>0.8405194</td><td>0.8278134</td><td>NA</td><td>NA</td><td>NA</td><td>NA</td><td>NA</td><td>A1BG </td><td>0.9981279</td></tr>\n",
       "\t<tr><th scope=row>8</th><td>Plasma</td><td>AAAS </td><td>Cauchy</td><td>NA</td><td>NA</td><td>NA</td><td>0.6539804</td><td>0.8087405</td><td>NA</td><td>0.3547883</td><td>0.6738523</td><td>NA</td><td>NA</td><td>NA</td><td>NA</td><td>NA</td><td>AAAS </td><td>0.9981279</td></tr>\n",
       "\t<tr><th scope=row>12</th><td>Plasma</td><td>AACS </td><td>Cauchy</td><td>NA</td><td>NA</td><td>NA</td><td>0.9127562</td><td>0.3272792</td><td>NA</td><td>0.3672272</td><td>0.9728973</td><td>NA</td><td>NA</td><td>NA</td><td>NA</td><td>NA</td><td>AACS </td><td>0.9981279</td></tr>\n",
       "\t<tr><th scope=row>16</th><td>Plasma</td><td>AAED1</td><td>Cauchy</td><td>NA</td><td>NA</td><td>NA</td><td>0.9002482</td><td>0.5393262</td><td>NA</td><td>0.9627107</td><td>0.6803753</td><td>NA</td><td>NA</td><td>NA</td><td>NA</td><td>NA</td><td>AAED1</td><td>0.9981279</td></tr>\n",
       "\t<tr><th scope=row>20</th><td>Plasma</td><td>AAGAB</td><td>Cauchy</td><td>NA</td><td>NA</td><td>NA</td><td>0.8099287</td><td>0.6378124</td><td>NA</td><td>0.9163681</td><td>0.5725483</td><td>NA</td><td>NA</td><td>NA</td><td>NA</td><td>NA</td><td>AAGAB</td><td>0.9981279</td></tr>\n",
       "\t<tr><th scope=row>24</th><td>Plasma</td><td>AAK1 </td><td>Cauchy</td><td>NA</td><td>NA</td><td>NA</td><td>0.6598493</td><td>0.6010894</td><td>NA</td><td>0.5731734</td><td>0.7629241</td><td>NA</td><td>NA</td><td>NA</td><td>NA</td><td>NA</td><td>AAK1 </td><td>0.9981279</td></tr>\n",
       "</tbody>\n",
       "</table>\n"
      ],
      "text/latex": [
       "A data.frame: 6 × 18\n",
       "\\begin{tabular}{r|llllllllllllllllll}\n",
       "  & celltype & Region & Group & min\\_MAF & max\\_MAF & Weight & Pvalue & Pvalue\\_ACATV & Pvalue\\_SKATO & Pvalue\\_Burden & Pvalue\\_SKAT & BETA\\_Burden & SE\\_Burden & MAC & Number\\_rare & Number\\_ultra\\_rare & gene & qv\\\\\n",
       "  & <chr> & <chr> & <chr> & <int> & <dbl> & <chr> & <dbl> & <dbl> & <lgl> & <dbl> & <dbl> & <dbl> & <dbl> & <dbl> & <int> & <int> & <chr> & <dbl>\\\\\n",
       "\\hline\n",
       "\t4 & Plasma & A1BG  & Cauchy & NA & NA & NA & 0.7907711 & 0.6200851 & NA & 0.8405194 & 0.8278134 & NA & NA & NA & NA & NA & A1BG  & 0.9981279\\\\\n",
       "\t8 & Plasma & AAAS  & Cauchy & NA & NA & NA & 0.6539804 & 0.8087405 & NA & 0.3547883 & 0.6738523 & NA & NA & NA & NA & NA & AAAS  & 0.9981279\\\\\n",
       "\t12 & Plasma & AACS  & Cauchy & NA & NA & NA & 0.9127562 & 0.3272792 & NA & 0.3672272 & 0.9728973 & NA & NA & NA & NA & NA & AACS  & 0.9981279\\\\\n",
       "\t16 & Plasma & AAED1 & Cauchy & NA & NA & NA & 0.9002482 & 0.5393262 & NA & 0.9627107 & 0.6803753 & NA & NA & NA & NA & NA & AAED1 & 0.9981279\\\\\n",
       "\t20 & Plasma & AAGAB & Cauchy & NA & NA & NA & 0.8099287 & 0.6378124 & NA & 0.9163681 & 0.5725483 & NA & NA & NA & NA & NA & AAGAB & 0.9981279\\\\\n",
       "\t24 & Plasma & AAK1  & Cauchy & NA & NA & NA & 0.6598493 & 0.6010894 & NA & 0.5731734 & 0.7629241 & NA & NA & NA & NA & NA & AAK1  & 0.9981279\\\\\n",
       "\\end{tabular}\n"
      ],
      "text/markdown": [
       "\n",
       "A data.frame: 6 × 18\n",
       "\n",
       "| <!--/--> | celltype &lt;chr&gt; | Region &lt;chr&gt; | Group &lt;chr&gt; | min_MAF &lt;int&gt; | max_MAF &lt;dbl&gt; | Weight &lt;chr&gt; | Pvalue &lt;dbl&gt; | Pvalue_ACATV &lt;dbl&gt; | Pvalue_SKATO &lt;lgl&gt; | Pvalue_Burden &lt;dbl&gt; | Pvalue_SKAT &lt;dbl&gt; | BETA_Burden &lt;dbl&gt; | SE_Burden &lt;dbl&gt; | MAC &lt;dbl&gt; | Number_rare &lt;int&gt; | Number_ultra_rare &lt;int&gt; | gene &lt;chr&gt; | qv &lt;dbl&gt; |\n",
       "|---|---|---|---|---|---|---|---|---|---|---|---|---|---|---|---|---|---|---|\n",
       "| 4 | Plasma | A1BG  | Cauchy | NA | NA | NA | 0.7907711 | 0.6200851 | NA | 0.8405194 | 0.8278134 | NA | NA | NA | NA | NA | A1BG  | 0.9981279 |\n",
       "| 8 | Plasma | AAAS  | Cauchy | NA | NA | NA | 0.6539804 | 0.8087405 | NA | 0.3547883 | 0.6738523 | NA | NA | NA | NA | NA | AAAS  | 0.9981279 |\n",
       "| 12 | Plasma | AACS  | Cauchy | NA | NA | NA | 0.9127562 | 0.3272792 | NA | 0.3672272 | 0.9728973 | NA | NA | NA | NA | NA | AACS  | 0.9981279 |\n",
       "| 16 | Plasma | AAED1 | Cauchy | NA | NA | NA | 0.9002482 | 0.5393262 | NA | 0.9627107 | 0.6803753 | NA | NA | NA | NA | NA | AAED1 | 0.9981279 |\n",
       "| 20 | Plasma | AAGAB | Cauchy | NA | NA | NA | 0.8099287 | 0.6378124 | NA | 0.9163681 | 0.5725483 | NA | NA | NA | NA | NA | AAGAB | 0.9981279 |\n",
       "| 24 | Plasma | AAK1  | Cauchy | NA | NA | NA | 0.6598493 | 0.6010894 | NA | 0.5731734 | 0.7629241 | NA | NA | NA | NA | NA | AAK1  | 0.9981279 |\n",
       "\n"
      ],
      "text/plain": [
       "   celltype Region Group  min_MAF max_MAF Weight Pvalue    Pvalue_ACATV\n",
       "4  Plasma   A1BG   Cauchy NA      NA      NA     0.7907711 0.6200851   \n",
       "8  Plasma   AAAS   Cauchy NA      NA      NA     0.6539804 0.8087405   \n",
       "12 Plasma   AACS   Cauchy NA      NA      NA     0.9127562 0.3272792   \n",
       "16 Plasma   AAED1  Cauchy NA      NA      NA     0.9002482 0.5393262   \n",
       "20 Plasma   AAGAB  Cauchy NA      NA      NA     0.8099287 0.6378124   \n",
       "24 Plasma   AAK1   Cauchy NA      NA      NA     0.6598493 0.6010894   \n",
       "   Pvalue_SKATO Pvalue_Burden Pvalue_SKAT BETA_Burden SE_Burden MAC Number_rare\n",
       "4  NA           0.8405194     0.8278134   NA          NA        NA  NA         \n",
       "8  NA           0.3547883     0.6738523   NA          NA        NA  NA         \n",
       "12 NA           0.3672272     0.9728973   NA          NA        NA  NA         \n",
       "16 NA           0.9627107     0.6803753   NA          NA        NA  NA         \n",
       "20 NA           0.9163681     0.5725483   NA          NA        NA  NA         \n",
       "24 NA           0.5731734     0.7629241   NA          NA        NA  NA         \n",
       "   Number_ultra_rare gene  qv       \n",
       "4  NA                A1BG  0.9981279\n",
       "8  NA                AAAS  0.9981279\n",
       "12 NA                AACS  0.9981279\n",
       "16 NA                AAED1 0.9981279\n",
       "20 NA                AAGAB 0.9981279\n",
       "24 NA                AAK1  0.9981279"
      ]
     },
     "metadata": {},
     "output_type": "display_data"
    }
   ],
   "source": [
    "df_rv = df[df$Group == \"Cauchy\",]\n",
    "df_rv$gene = df_rv$Region\n",
    "df_rv$qv = qvalue(df_rv$Pvalue)$qvalues\n",
    "nrow(df_rv)\n",
    "head(df_rv)"
   ]
  },
  {
   "cell_type": "code",
   "execution_count": 10,
   "id": "2a72c5fa",
   "metadata": {},
   "outputs": [
    {
     "data": {
      "text/html": [
       "5541"
      ],
      "text/latex": [
       "5541"
      ],
      "text/markdown": [
       "5541"
      ],
      "text/plain": [
       "[1] 5541"
      ]
     },
     "metadata": {},
     "output_type": "display_data"
    },
    {
     "data": {
      "text/html": [
       "<table class=\"dataframe\">\n",
       "<caption>A data.frame: 6 × 18</caption>\n",
       "<thead>\n",
       "\t<tr><th></th><th scope=col>celltype</th><th scope=col>Region</th><th scope=col>Group</th><th scope=col>min_MAF</th><th scope=col>max_MAF</th><th scope=col>Weight</th><th scope=col>Pvalue</th><th scope=col>Pvalue_ACATV</th><th scope=col>Pvalue_SKATO</th><th scope=col>Pvalue_Burden</th><th scope=col>Pvalue_SKAT</th><th scope=col>BETA_Burden</th><th scope=col>SE_Burden</th><th scope=col>MAC</th><th scope=col>Number_rare</th><th scope=col>Number_ultra_rare</th><th scope=col>gene</th><th scope=col>qv</th></tr>\n",
       "\t<tr><th></th><th scope=col>&lt;chr&gt;</th><th scope=col>&lt;chr&gt;</th><th scope=col>&lt;chr&gt;</th><th scope=col>&lt;int&gt;</th><th scope=col>&lt;dbl&gt;</th><th scope=col>&lt;chr&gt;</th><th scope=col>&lt;dbl&gt;</th><th scope=col>&lt;dbl&gt;</th><th scope=col>&lt;lgl&gt;</th><th scope=col>&lt;dbl&gt;</th><th scope=col>&lt;dbl&gt;</th><th scope=col>&lt;dbl&gt;</th><th scope=col>&lt;dbl&gt;</th><th scope=col>&lt;dbl&gt;</th><th scope=col>&lt;int&gt;</th><th scope=col>&lt;int&gt;</th><th scope=col>&lt;chr&gt;</th><th scope=col>&lt;dbl&gt;</th></tr>\n",
       "</thead>\n",
       "<tbody>\n",
       "\t<tr><th scope=row>1124</th><td>Plasma</td><td>ANXA2R</td><td>Cauchy</td><td>NA</td><td>NA</td><td>NA</td><td>1.582969e-03</td><td>0.0179493502</td><td>NA</td><td>1.071701e-03</td><td>1.103248e-03</td><td>NA</td><td>NA</td><td>NA</td><td>NA</td><td>NA</td><td>ANXA2R</td><td>0.045655445</td></tr>\n",
       "\t<tr><th scope=row>2548</th><td>Plasma</td><td>BLK   </td><td>Cauchy</td><td>NA</td><td>NA</td><td>NA</td><td>9.189966e-04</td><td>0.0155491008</td><td>NA</td><td>2.033542e-02</td><td>3.173543e-04</td><td>NA</td><td>NA</td><td>NA</td><td>NA</td><td>NA</td><td>BLK   </td><td>0.029516443</td></tr>\n",
       "\t<tr><th scope=row>3572</th><td>Plasma</td><td>CAPN12</td><td>Cauchy</td><td>NA</td><td>NA</td><td>NA</td><td>8.140883e-04</td><td>0.0160677554</td><td>NA</td><td>8.437529e-01</td><td>2.755739e-04</td><td>NA</td><td>NA</td><td>NA</td><td>NA</td><td>NA</td><td>CAPN12</td><td>0.026757098</td></tr>\n",
       "\t<tr><th scope=row>4148</th><td>Plasma</td><td>CCT8  </td><td>Cauchy</td><td>NA</td><td>NA</td><td>NA</td><td>5.807350e-04</td><td>0.0001940098</td><td>NA</td><td>2.349358e-01</td><td>1.187123e-01</td><td>NA</td><td>NA</td><td>NA</td><td>NA</td><td>NA</td><td>CCT8  </td><td>0.020317408</td></tr>\n",
       "\t<tr><th scope=row>6080</th><td>Plasma</td><td>CTSH  </td><td>Cauchy</td><td>NA</td><td>NA</td><td>NA</td><td>5.632343e-04</td><td>0.0001903705</td><td>NA</td><td>3.652322e-02</td><td>2.161063e-02</td><td>NA</td><td>NA</td><td>NA</td><td>NA</td><td>NA</td><td>CTSH  </td><td>0.019793715</td></tr>\n",
       "\t<tr><th scope=row>6160</th><td>Plasma</td><td>CXCR4 </td><td>Cauchy</td><td>NA</td><td>NA</td><td>NA</td><td>5.287851e-05</td><td>0.0003044374</td><td>NA</td><td>2.593103e-05</td><td>6.718067e-05</td><td>NA</td><td>NA</td><td>NA</td><td>NA</td><td>NA</td><td>CXCR4 </td><td>0.002623804</td></tr>\n",
       "</tbody>\n",
       "</table>\n"
      ],
      "text/latex": [
       "A data.frame: 6 × 18\n",
       "\\begin{tabular}{r|llllllllllllllllll}\n",
       "  & celltype & Region & Group & min\\_MAF & max\\_MAF & Weight & Pvalue & Pvalue\\_ACATV & Pvalue\\_SKATO & Pvalue\\_Burden & Pvalue\\_SKAT & BETA\\_Burden & SE\\_Burden & MAC & Number\\_rare & Number\\_ultra\\_rare & gene & qv\\\\\n",
       "  & <chr> & <chr> & <chr> & <int> & <dbl> & <chr> & <dbl> & <dbl> & <lgl> & <dbl> & <dbl> & <dbl> & <dbl> & <dbl> & <int> & <int> & <chr> & <dbl>\\\\\n",
       "\\hline\n",
       "\t1124 & Plasma & ANXA2R & Cauchy & NA & NA & NA & 1.582969e-03 & 0.0179493502 & NA & 1.071701e-03 & 1.103248e-03 & NA & NA & NA & NA & NA & ANXA2R & 0.045655445\\\\\n",
       "\t2548 & Plasma & BLK    & Cauchy & NA & NA & NA & 9.189966e-04 & 0.0155491008 & NA & 2.033542e-02 & 3.173543e-04 & NA & NA & NA & NA & NA & BLK    & 0.029516443\\\\\n",
       "\t3572 & Plasma & CAPN12 & Cauchy & NA & NA & NA & 8.140883e-04 & 0.0160677554 & NA & 8.437529e-01 & 2.755739e-04 & NA & NA & NA & NA & NA & CAPN12 & 0.026757098\\\\\n",
       "\t4148 & Plasma & CCT8   & Cauchy & NA & NA & NA & 5.807350e-04 & 0.0001940098 & NA & 2.349358e-01 & 1.187123e-01 & NA & NA & NA & NA & NA & CCT8   & 0.020317408\\\\\n",
       "\t6080 & Plasma & CTSH   & Cauchy & NA & NA & NA & 5.632343e-04 & 0.0001903705 & NA & 3.652322e-02 & 2.161063e-02 & NA & NA & NA & NA & NA & CTSH   & 0.019793715\\\\\n",
       "\t6160 & Plasma & CXCR4  & Cauchy & NA & NA & NA & 5.287851e-05 & 0.0003044374 & NA & 2.593103e-05 & 6.718067e-05 & NA & NA & NA & NA & NA & CXCR4  & 0.002623804\\\\\n",
       "\\end{tabular}\n"
      ],
      "text/markdown": [
       "\n",
       "A data.frame: 6 × 18\n",
       "\n",
       "| <!--/--> | celltype &lt;chr&gt; | Region &lt;chr&gt; | Group &lt;chr&gt; | min_MAF &lt;int&gt; | max_MAF &lt;dbl&gt; | Weight &lt;chr&gt; | Pvalue &lt;dbl&gt; | Pvalue_ACATV &lt;dbl&gt; | Pvalue_SKATO &lt;lgl&gt; | Pvalue_Burden &lt;dbl&gt; | Pvalue_SKAT &lt;dbl&gt; | BETA_Burden &lt;dbl&gt; | SE_Burden &lt;dbl&gt; | MAC &lt;dbl&gt; | Number_rare &lt;int&gt; | Number_ultra_rare &lt;int&gt; | gene &lt;chr&gt; | qv &lt;dbl&gt; |\n",
       "|---|---|---|---|---|---|---|---|---|---|---|---|---|---|---|---|---|---|---|\n",
       "| 1124 | Plasma | ANXA2R | Cauchy | NA | NA | NA | 1.582969e-03 | 0.0179493502 | NA | 1.071701e-03 | 1.103248e-03 | NA | NA | NA | NA | NA | ANXA2R | 0.045655445 |\n",
       "| 2548 | Plasma | BLK    | Cauchy | NA | NA | NA | 9.189966e-04 | 0.0155491008 | NA | 2.033542e-02 | 3.173543e-04 | NA | NA | NA | NA | NA | BLK    | 0.029516443 |\n",
       "| 3572 | Plasma | CAPN12 | Cauchy | NA | NA | NA | 8.140883e-04 | 0.0160677554 | NA | 8.437529e-01 | 2.755739e-04 | NA | NA | NA | NA | NA | CAPN12 | 0.026757098 |\n",
       "| 4148 | Plasma | CCT8   | Cauchy | NA | NA | NA | 5.807350e-04 | 0.0001940098 | NA | 2.349358e-01 | 1.187123e-01 | NA | NA | NA | NA | NA | CCT8   | 0.020317408 |\n",
       "| 6080 | Plasma | CTSH   | Cauchy | NA | NA | NA | 5.632343e-04 | 0.0001903705 | NA | 3.652322e-02 | 2.161063e-02 | NA | NA | NA | NA | NA | CTSH   | 0.019793715 |\n",
       "| 6160 | Plasma | CXCR4  | Cauchy | NA | NA | NA | 5.287851e-05 | 0.0003044374 | NA | 2.593103e-05 | 6.718067e-05 | NA | NA | NA | NA | NA | CXCR4  | 0.002623804 |\n",
       "\n"
      ],
      "text/plain": [
       "     celltype Region Group  min_MAF max_MAF Weight Pvalue       Pvalue_ACATV\n",
       "1124 Plasma   ANXA2R Cauchy NA      NA      NA     1.582969e-03 0.0179493502\n",
       "2548 Plasma   BLK    Cauchy NA      NA      NA     9.189966e-04 0.0155491008\n",
       "3572 Plasma   CAPN12 Cauchy NA      NA      NA     8.140883e-04 0.0160677554\n",
       "4148 Plasma   CCT8   Cauchy NA      NA      NA     5.807350e-04 0.0001940098\n",
       "6080 Plasma   CTSH   Cauchy NA      NA      NA     5.632343e-04 0.0001903705\n",
       "6160 Plasma   CXCR4  Cauchy NA      NA      NA     5.287851e-05 0.0003044374\n",
       "     Pvalue_SKATO Pvalue_Burden Pvalue_SKAT  BETA_Burden SE_Burden MAC\n",
       "1124 NA           1.071701e-03  1.103248e-03 NA          NA        NA \n",
       "2548 NA           2.033542e-02  3.173543e-04 NA          NA        NA \n",
       "3572 NA           8.437529e-01  2.755739e-04 NA          NA        NA \n",
       "4148 NA           2.349358e-01  1.187123e-01 NA          NA        NA \n",
       "6080 NA           3.652322e-02  2.161063e-02 NA          NA        NA \n",
       "6160 NA           2.593103e-05  6.718067e-05 NA          NA        NA \n",
       "     Number_rare Number_ultra_rare gene   qv         \n",
       "1124 NA          NA                ANXA2R 0.045655445\n",
       "2548 NA          NA                BLK    0.029516443\n",
       "3572 NA          NA                CAPN12 0.026757098\n",
       "4148 NA          NA                CCT8   0.020317408\n",
       "6080 NA          NA                CTSH   0.019793715\n",
       "6160 NA          NA                CXCR4  0.002623804"
      ]
     },
     "metadata": {},
     "output_type": "display_data"
    }
   ],
   "source": [
    "df_rv_sign = df_rv[df_rv$qv < 0.05,]\n",
    "nrow(df_rv_sign)\n",
    "head(df_rv_sign)"
   ]
  },
  {
   "cell_type": "code",
   "execution_count": 11,
   "id": "cdec1140",
   "metadata": {},
   "outputs": [],
   "source": [
    "fwrite(df_rv_sign, \"/directflow/SCCGGroupShare/projects/anncuo/OneK1K/saige_eqtl/for_wei/rv_sign.txt\")"
   ]
  },
  {
   "cell_type": "code",
   "execution_count": null,
   "id": "462c26c0",
   "metadata": {},
   "outputs": [],
   "source": []
  }
 ],
 "metadata": {
  "kernelspec": {
   "display_name": "Single Cell Notebook (R 4.1.2)",
   "language": "R",
   "name": "singlecell"
  },
  "language_info": {
   "codemirror_mode": "r",
   "file_extension": ".r",
   "mimetype": "text/x-r-source",
   "name": "R",
   "pygments_lexer": "r",
   "version": "4.1.2"
  }
 },
 "nbformat": 4,
 "nbformat_minor": 5
}
